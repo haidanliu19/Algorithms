{
  "nbformat": 4,
  "nbformat_minor": 0,
  "metadata": {
    "colab": {
      "name": "[이것이 코딩 테스트다 with Python] 32강 최단 경로 알고리즘 기초 문제 풀이",
      "provenance": [],
      "collapsed_sections": []
    },
    "kernelspec": {
      "name": "python3",
      "display_name": "Python 3"
    },
    "language_info": {
      "name": "python"
    }
  },
  "cells": [
    {
      "cell_type": "markdown",
      "source": [
        "이것이 코딩 테스트다 with Python"
      ],
      "metadata": {
        "id": "Tq6rk_xHeeeT"
      }
    },
    {
      "cell_type": "markdown",
      "source": [
        "# 전보"
      ],
      "metadata": {
        "id": "wSn1mkqB2tHh"
      }
    },
    {
      "cell_type": "code",
      "execution_count": 2,
      "metadata": {
        "colab": {
          "base_uri": "https://localhost:8080/"
        },
        "id": "LYcFlkDmaBQE",
        "outputId": "19c0b4e9-3699-47aa-f850-686d601bedd0"
      },
      "outputs": [
        {
          "output_type": "stream",
          "name": "stdout",
          "text": [
            "2 4\n"
          ]
        }
      ],
      "source": [
        "# 3 2 1\n",
        "# 1 2 4\n",
        "# 1 3 2\n",
        "import heapq\n",
        "n, m, start = 3, 2, 1\n",
        "INF = int(1e9)\n",
        "graph = [[] for i in range(n + 1)]\n",
        "distance = [INF] * (n + 1)\n",
        "\n",
        "def dijkstra(start):\n",
        "    q = []\n",
        "    heapq.heappush(q, (0, start))\n",
        "    distance[start] = 0\n",
        "    while q:\n",
        "        dist, now = heapq.heappop(q)\n",
        "        if distance[now] < dist:\n",
        "            continue\n",
        "        for i in graph[now]:\n",
        "            cost = dist + i[1]\n",
        "            if cost < distance[i[0]]:\n",
        "                distance[i[0]] = cost\n",
        "                heapq.heappush(q, (cost, i[0]))\n",
        "'''\n",
        "for _ in range(m):\n",
        "    x, y, z = map(int, input().split())\n",
        "    graph[x].append((y, z))\n",
        "\n",
        "print(graph)\n",
        "'''\n",
        "graph = [[], [(2, 4), (3, 2)], [], []]\n",
        "dijkstra(start)\n",
        "\n",
        "count = 0\n",
        "max_distance = 0\n",
        "for d in distance:\n",
        "    if d != 1e9:\n",
        "        count += 1\n",
        "        max_distance = max(max_distance, d)\n",
        "\n",
        "print(count -1, max_distance)"
      ]
    },
    {
      "cell_type": "markdown",
      "source": [
        "미래도시"
      ],
      "metadata": {
        "id": "MvR0aVmj4RwQ"
      }
    },
    {
      "cell_type": "code",
      "source": [
        "n, m = 5, 7\n",
        "INF = int(1e9)\n",
        "1 \n",
        "graph = [[INF] * (n + 1) for _ in range(n + 1)]\n",
        "for a in range(1, n + 1):\n",
        "    for b in range(1, n + 1):\n",
        "        if a == b:\n",
        "            graph[a][b] = 0\n",
        "'''\n",
        "for _ in range(m):\n",
        "    a, b = map(int, input().split())\n",
        "    graph[a][b] = 1\n",
        "    graph[b][a] = 1\n",
        "\n",
        "print(graph)\n",
        "1 2\n",
        "1 3\n",
        "1 4\n",
        "2 4\n",
        "3 4\n",
        "3 5\n",
        "4 5\n",
        "'''\n",
        "graph = [[1000000000, 1000000000, 1000000000, 1000000000, 1000000000, 1000000000], [1000000000, 0, 1, 1, 1, 1000000000], [1000000000, 1, 0, 1000000000, 1, 1000000000], [1000000000, 1, 1000000000, 0, 1, 1], [1000000000, 1, 1, 1, 0, 1], [1000000000, 1000000000, 1000000000, 1, 1, 0]]\n",
        "x, k = 4, 5\n",
        "\n",
        "for k in range(1, n+1):\n",
        "    for a in range(1, n+1):\n",
        "        for b in range(1, n+1):\n",
        "            graph[a][b] = min(graph[a][b], graph[a][k] + graph[k][b])\n",
        "\n",
        "distance = graph[1][k] + graph[k][x]\n",
        "\n",
        "if distance >= INF:\n",
        "    print(\"-1\")\n",
        "else:\n",
        "    print(distance)\n"
      ],
      "metadata": {
        "id": "PA_m1V-9brr1",
        "colab": {
          "base_uri": "https://localhost:8080/"
        },
        "outputId": "14a544ce-9413-47c8-a549-a996cda78dbd"
      },
      "execution_count": 4,
      "outputs": [
        {
          "output_type": "stream",
          "name": "stdout",
          "text": [
            "3\n"
          ]
        }
      ]
    },
    {
      "cell_type": "code",
      "source": [
        ""
      ],
      "metadata": {
        "id": "1VeshPNtezPd"
      },
      "execution_count": null,
      "outputs": []
    }
  ]
}