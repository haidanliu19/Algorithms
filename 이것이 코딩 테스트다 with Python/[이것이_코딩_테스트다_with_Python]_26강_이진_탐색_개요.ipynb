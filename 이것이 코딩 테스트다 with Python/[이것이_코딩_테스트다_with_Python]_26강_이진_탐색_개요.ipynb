{
  "nbformat": 4,
  "nbformat_minor": 0,
  "metadata": {
    "colab": {
      "name": "[이것이 코딩 테스트다 with Python] 26강 이진 탐색 개요.ipynb",
      "provenance": [],
      "collapsed_sections": []
    },
    "kernelspec": {
      "name": "python3",
      "display_name": "Python 3"
    },
    "language_info": {
      "name": "python"
    }
  },
  "cells": [
    {
      "cell_type": "markdown",
      "source": [
        "[출처]이것이 코딩 테스트다 with Python"
      ],
      "metadata": {
        "id": "UXi-3y1VWOkQ"
      }
    },
    {
      "cell_type": "code",
      "execution_count": 1,
      "metadata": {
        "colab": {
          "base_uri": "https://localhost:8080/"
        },
        "id": "Af69T6xfWMiB",
        "outputId": "cd1e0d40-6ca4-4ec3-db1d-f8889832f392"
      },
      "outputs": [
        {
          "output_type": "stream",
          "name": "stdout",
          "text": [
            "4\n"
          ]
        }
      ],
      "source": [
        "def binary_search(array, target, start, end):\n",
        "    if start > end:\n",
        "        return None\n",
        "    mid = (start + end) // 2\n",
        "    if array[mid] == target:\n",
        "        return mid\n",
        "    # 중간 값의 값보다 찾고자 하는 값이 작은 경우 왼쪽\n",
        "    elif array[mid] > target:\n",
        "        return binary_search(array, target, start, mid - 1)\n",
        "    else:\n",
        "        return binary_search(array, target, mid + 1, end)\n",
        "\n",
        "n = 10\n",
        "target = 7\n",
        "\n",
        "array = [1, 3, 5, 7, 9, 13, 15, 17, 19]\n",
        "result = binary_search(array, target, 0, n - 1)\n",
        "if result == None:\n",
        "    print(\"원소가 존재하지 않습니다.\")\n",
        "else:\n",
        "    print(result + 1)"
      ]
    },
    {
      "cell_type": "code",
      "source": [
        "def binary_search(array, target, start, end):\n",
        "    while start <= end:\n",
        "        mid = (start + end) // 2\n",
        "        if array[mid] == target:\n",
        "            return mid\n",
        "        # 중간 값의 값보다 찾고자 하는 값이 작은 경우 왼쪽\n",
        "        elif array[mid] > target:\n",
        "            end = mid - 1\n",
        "        else:\n",
        "            start = mid + 1\n",
        "    return None\n",
        "\n",
        "n = 10\n",
        "target = 7\n",
        "\n",
        "array = [1, 3, 5, 7, 9, 13, 15, 17, 19]\n",
        "result = binary_search(array, target, 0, n - 1)\n",
        "if result == None:\n",
        "    print(\"원소가 존재하지 않습니다.\")\n",
        "else:\n",
        "    print(result + 1)"
      ],
      "metadata": {
        "colab": {
          "base_uri": "https://localhost:8080/"
        },
        "id": "4rduFE7vYrA2",
        "outputId": "bf60cb13-f40d-4255-d610-feadd0ff594b"
      },
      "execution_count": 3,
      "outputs": [
        {
          "output_type": "stream",
          "name": "stdout",
          "text": [
            "4\n"
          ]
        }
      ]
    },
    {
      "cell_type": "code",
      "source": [
        "from bisect import bisect_left, bisect_right\n",
        "\n",
        "a = [1, 2, 4, 4, 8]\n",
        "x = 4\n",
        "\n",
        "print(bisect_left(a, x))\n",
        "print(bisect_right(a, x))"
      ],
      "metadata": {
        "colab": {
          "base_uri": "https://localhost:8080/"
        },
        "id": "-Z0sX_OnZREA",
        "outputId": "56cab0c7-0d13-441e-d1d1-678cbaf50398"
      },
      "execution_count": 4,
      "outputs": [
        {
          "output_type": "stream",
          "name": "stdout",
          "text": [
            "2\n",
            "4\n"
          ]
        }
      ]
    },
    {
      "cell_type": "code",
      "source": [
        "from bisect import bisect_left, bisect_right\n",
        "\n",
        "def count_by_range(a, left_value, right_value):\n",
        "    right_index = bisect_left(a, right_value)\n",
        "    left_index = bisect_left(a, left_value)\n",
        "\n",
        "a = [1, 2, 3, 3, 3, 3, 4, 4, 8, 9]\n",
        "\n",
        "# 값이 4인 데이터 개수 출력\n",
        "print(count_by_range(a, 4, 4))\n",
        "\n",
        "# 값이 [-1, 3] 범위에 있는 데이터 개수 출력\n",
        "print(count_by_range(a, -1, 2))"
      ],
      "metadata": {
        "id": "h91OE2m7ZvRs"
      },
      "execution_count": null,
      "outputs": []
    }
  ]
}