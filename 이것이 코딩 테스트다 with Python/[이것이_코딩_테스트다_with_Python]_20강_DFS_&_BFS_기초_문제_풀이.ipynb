{
  "nbformat": 4,
  "nbformat_minor": 0,
  "metadata": {
    "colab": {
      "name": "[이것이 코딩 테스트다 with Python] 20강 DFS & BFS 기초 문제 풀이.ipynb",
      "provenance": [],
      "collapsed_sections": []
    },
    "kernelspec": {
      "name": "python3",
      "display_name": "Python 3"
    },
    "language_info": {
      "name": "python"
    }
  },
  "cells": [
    {
      "cell_type": "code",
      "execution_count": 4,
      "metadata": {
        "colab": {
          "base_uri": "https://localhost:8080/"
        },
        "id": "qASbyNlapmgL",
        "outputId": "f8c332ae-5b3c-4a70-d8c0-6b1bc6736728"
      },
      "outputs": [
        {
          "output_type": "stream",
          "name": "stdout",
          "text": [
            "3\n"
          ]
        }
      ],
      "source": [
        "def dfs(x, y):\n",
        "    if x <= -1 or x >= n or y <= -1 or y >= m:\n",
        "        return False\n",
        "    # 현재 노드를 아직 방문하지 않았다면 \n",
        "    if graph[x][y] == 0:\n",
        "        graph[x][y] = 1\n",
        "        # 상, 하, 좌, 우 등의 위치들도 모두 재귀적으로 호출\n",
        "        dfs(x-1, y)\n",
        "        dfs(x, y - 1)\n",
        "        dfs(x + 1, y)\n",
        "        dfs(x, y + 1)\n",
        "        return True\n",
        "    return False\n",
        "\n",
        "#n, m = map(int, input().split())\n",
        "n = 4\n",
        "m = 5\n",
        "graph = []\n",
        "'''\n",
        "for i in range(n):\n",
        "    graph.append(list(map(int, input())))\n",
        "'''\n",
        "#print(graph)\n",
        "graph = [[0, 0, 1, 1, 0], [0, 0, 0, 1, 1], [1, 1, 1, 1, 1], [0, 0, 0, 0, 0]]\n",
        "result = 0\n",
        "for i in range(n):\n",
        "    for j in range(m):\n",
        "        if dfs(i, j) == True:\n",
        "            result += 1\n",
        "print(result)"
      ]
    },
    {
      "cell_type": "code",
      "source": [
        "from collections import deque\n",
        "#n, m = map(int, input().split())\n",
        "n = 5\n",
        "m = 6\n",
        "graph = []\n",
        "'''\n",
        "for i in range(n):\n",
        "    graph.append(list(map(int, input())))\n",
        "'''\n",
        "graph = [[1, 0, 1, 0, 1, 0], \n",
        "         [1, 1, 1, 1, 1, 1], \n",
        "         [0, 0, 0, 0, 0, 1],\n",
        "         [1, 1, 1, 1, 1, 1],\n",
        "         [1, 1, 1, 1, 1, 1]]\n",
        "\n",
        "dx = [-1, 1, 0, 0]\n",
        "dy = [0, 0, -1, 1]\n",
        "\n",
        "def bfs(x, y):\n",
        "    queue = deque()\n",
        "    queue.append((x, y))\n",
        "    while queue:\n",
        "        x, y = queue.popleft()\n",
        "        for i in range(4):\n",
        "            nx = x + dx[i]\n",
        "            ny = y + dy[i]\n",
        "            if nx < 0 or nx >= n or ny < 0 or ny >= m:\n",
        "                continue\n",
        "            if graph[nx][ny] == 0:\n",
        "                continue\n",
        "            if graph[nx][ny] == 1:\n",
        "                graph[nx][ny] = graph[x][y] + 1\n",
        "                queue.append((nx, ny))\n",
        "    return graph[n-1][m-1]\n",
        "\n",
        "print(bfs(0, 0))"
      ],
      "metadata": {
        "colab": {
          "base_uri": "https://localhost:8080/"
        },
        "id": "WQi54zCLsoq5",
        "outputId": "563fa302-07cb-4614-eca9-45585d90ce22"
      },
      "execution_count": 8,
      "outputs": [
        {
          "output_type": "stream",
          "name": "stdout",
          "text": [
            "10\n"
          ]
        }
      ]
    },
    {
      "cell_type": "code",
      "source": [
        ""
      ],
      "metadata": {
        "id": "l3j04mvHuJN0"
      },
      "execution_count": null,
      "outputs": []
    }
  ]
}