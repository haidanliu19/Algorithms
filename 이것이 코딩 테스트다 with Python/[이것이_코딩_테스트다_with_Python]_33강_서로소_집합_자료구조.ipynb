{
  "nbformat": 4,
  "nbformat_minor": 0,
  "metadata": {
    "colab": {
      "name": "[이것이 코딩 테스트다 with Python] 33강 서로소 집합 자료구조.ipynb",
      "provenance": [],
      "collapsed_sections": []
    },
    "kernelspec": {
      "name": "python3",
      "display_name": "Python 3"
    },
    "language_info": {
      "name": "python"
    }
  },
  "cells": [
    {
      "cell_type": "code",
      "execution_count": 6,
      "metadata": {
        "colab": {
          "base_uri": "https://localhost:8080/"
        },
        "id": "LYcFlkDmaBQE",
        "outputId": "55964d1a-e989-4170-f009-313b33588b1c"
      },
      "outputs": [
        {
          "output_type": "stream",
          "name": "stdout",
          "text": [
            "6 4\n",
            "1 4\n",
            "2 3\n",
            "2 4\n",
            "5 6\n",
            "[0, 1, 1, 2, 1, 5, 5]\n",
            "각 원소가 속한 집합: 1 1 1 1 5 5 부모 테이블: 1 1 2 1 5 5 "
          ]
        }
      ],
      "source": [
        "# 특성 원소가 속한 집합을 찾기\n",
        "def find_parent(parent, x):\n",
        "    # 루트 노드를 찾을 때 까지 재귀 호출 \n",
        "    if parent[x] != x:\n",
        "        return find_parent(parent, parent[x])\n",
        "    return x\n",
        "\n",
        "# 두 원소가 혹산 집합을 합치기\n",
        "def union_parent(parent, a, b):\n",
        "    a = find_parent(parent, a)\n",
        "    b = find_parent(parent, b)\n",
        "    if a < b:\n",
        "        parent[b] = a\n",
        "    else:\n",
        "        parent[a] = b\n",
        "\n",
        "v, e = map(int, input().split())\n",
        "parent = [0] * (v + 1)\n",
        "\n",
        "for i in range(1, v + 1):\n",
        "    parent[i] = i\n",
        "\n",
        "for i in range(e):\n",
        "    a, b = map(int, input().split())\n",
        "    union_parent(parent, a, b)\n",
        "print(parent)\n",
        "print('각 원소가 속한 집합: ', end = '')\n",
        "for i in range(1, v + 1):\n",
        "    print(find_parent(parent, i), end = ' ')\n",
        "\n",
        "print('부모 테이블: ', end = '')\n",
        "for i in range(1, v + 1):\n",
        "    print(parent[i], end = ' ')"
      ]
    },
    {
      "cell_type": "code",
      "source": [
        "def find_parent(parent, x):\n",
        "    # 루트 노드를 찾을 때 까지 재귀 호출 \n",
        "    if parent[x] != x:\n",
        "        parent[x] = find_parent(parent, parent[x])\n",
        "    return parent[x]\n",
        "\n",
        "# 두 원소가 혹산 집합을 합치기\n",
        "def union_parent(parent, a, b):\n",
        "    a = find_parent(parent, a)\n",
        "    b = find_parent(parent, b)\n",
        "    if a < b:\n",
        "        parent[b] = a\n",
        "    else:\n",
        "        parent[a] = b\n",
        "\n",
        "v, e = map(int, input().split())\n",
        "parent = [0] * (v + 1)\n",
        "\n",
        "for i in range(1, v + 1):\n",
        "    parent[i] = i\n",
        "\n",
        "for i in range(e):\n",
        "    a, b = map(int, input().split())\n",
        "    union_parent(parent, a, b)\n",
        "print(parent)\n",
        "print('각 원소가 속한 집합: ', end = '')\n",
        "for i in range(1, v + 1):\n",
        "    print(find_parent(parent, i), end = ' ')\n",
        "\n",
        "print('부모 테이블: ', end = '')\n",
        "for i in range(1, v + 1):\n",
        "    print(parent[i], end = ' ')"
      ],
      "metadata": {
        "id": "PA_m1V-9brr1"
      },
      "execution_count": null,
      "outputs": []
    },
    {
      "cell_type": "code",
      "source": [
        ""
      ],
      "metadata": {
        "id": "1VeshPNtezPd"
      },
      "execution_count": null,
      "outputs": []
    }
  ]
}