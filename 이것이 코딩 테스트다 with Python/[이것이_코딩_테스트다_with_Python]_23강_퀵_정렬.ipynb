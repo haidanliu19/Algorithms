{
  "nbformat": 4,
  "nbformat_minor": 0,
  "metadata": {
    "colab": {
      "name": "[이것이 코딩 테스트다 with Python] 23강 퀵 정렬",
      "provenance": [],
      "collapsed_sections": []
    },
    "kernelspec": {
      "name": "python3",
      "display_name": "Python 3"
    },
    "language_info": {
      "name": "python"
    }
  },
  "cells": [
    {
      "cell_type": "markdown",
      "source": [
        "[출처]이것이 코딩테스트다"
      ],
      "metadata": {
        "id": "Qe_0yzL4PPRt"
      }
    },
    {
      "cell_type": "code",
      "execution_count": 10,
      "metadata": {
        "colab": {
          "base_uri": "https://localhost:8080/"
        },
        "id": "DpblOWaZOg3h",
        "outputId": "6aae077a-532e-466f-8021-eb1634764a7b"
      },
      "outputs": [
        {
          "output_type": "stream",
          "name": "stdout",
          "text": [
            "5 [5, 4, 9, 0, 3, 1, 6, 2, 7, 8]\n",
            "5 [5, 4, 2, 0, 3, 1, 6, 9, 7, 8]\n",
            "5 [1, 4, 2, 0, 3, 5, 6, 9, 7, 8]\n",
            "1 [1, 0, 2, 4, 3, 5, 6, 9, 7, 8]\n",
            "1 [0, 1, 2, 4, 3, 5, 6, 9, 7, 8]\n",
            "0 [0, 1, 2, 4, 3, 5, 6, 9, 7, 8]\n",
            "1 [0, 1, 2, 4, 3, 5, 6, 9, 7, 8]\n",
            "2 [0, 1, 2, 4, 3, 5, 6, 9, 7, 8]\n",
            "4 [0, 1, 2, 3, 4, 5, 6, 9, 7, 8]\n",
            "0 [0, 1, 2, 3, 4, 5, 6, 9, 7, 8]\n",
            "1 [0, 1, 2, 3, 4, 5, 6, 9, 7, 8]\n",
            "2 [0, 1, 2, 3, 4, 5, 6, 9, 7, 8]\n",
            "3 [0, 1, 2, 3, 4, 5, 6, 9, 7, 8]\n",
            "4 [0, 1, 2, 3, 4, 5, 6, 9, 7, 8]\n",
            "5 [0, 1, 2, 3, 4, 5, 6, 9, 7, 8]\n",
            "6 [0, 1, 2, 3, 4, 5, 6, 9, 7, 8]\n",
            "0 [0, 1, 2, 3, 4, 5, 6, 9, 7, 8]\n",
            "1 [0, 1, 2, 3, 4, 5, 6, 9, 7, 8]\n",
            "2 [0, 1, 2, 3, 4, 5, 6, 9, 7, 8]\n",
            "3 [0, 1, 2, 3, 4, 5, 6, 9, 7, 8]\n",
            "4 [0, 1, 2, 3, 4, 5, 6, 9, 7, 8]\n",
            "5 [0, 1, 2, 3, 4, 5, 6, 9, 7, 8]\n",
            "6 [0, 1, 2, 3, 4, 5, 6, 9, 7, 8]\n",
            "9 [0, 1, 2, 3, 4, 5, 6, 8, 7, 9]\n",
            "8 [0, 1, 2, 3, 4, 5, 6, 7, 8, 9]\n",
            "[0, 1, 2, 3, 4, 5, 6, 7, 8, 9]\n"
          ]
        }
      ],
      "source": [
        "array = [5, 7, 9, 0, 3, 1, 6, 2, 4, 8]\n",
        "\n",
        "def quick_sort(array, start, end):\n",
        "    if start >= end:\n",
        "        return \n",
        "    pivot = start # 피벗은 첫 번째 원소\n",
        "    left = start + 1 \n",
        "    right = end\n",
        "    while (left <= right):\n",
        "        # pivot 보다 큰 데이터를 찾을 떄 까지 반복\n",
        "        while (left <= end and array[left] <= array[pivot]) :\n",
        "            left += 1\n",
        "        # pivot 보다 작은 데이터를 찾을 때 까지 반복\n",
        "        pivot_value = array[pivot]\n",
        "        while (right > start and array[right] >= array[pivot]):\n",
        "            right -= 1\n",
        "        if (left > right):\n",
        "            array[right], array[pivot] = array[pivot], array[right]\n",
        "        else:\n",
        "            array[left], array[right] = array[right], array[left]\n",
        "        print(pivot_value, array)\n",
        "        quick_sort(array, start, right -1)\n",
        "        quick_sort(array, right +1 , end)\n",
        "\n",
        "\n",
        "quick_sort(array, 0, len(array) - 1)\n",
        "print(array)"
      ]
    },
    {
      "cell_type": "code",
      "source": [
        ""
      ],
      "metadata": {
        "id": "5Ea3RkkHTSIm"
      },
      "execution_count": null,
      "outputs": []
    }
  ]
}