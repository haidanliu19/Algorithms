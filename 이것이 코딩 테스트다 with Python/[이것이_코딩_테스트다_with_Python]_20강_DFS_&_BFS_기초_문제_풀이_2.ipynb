{
  "nbformat": 4,
  "nbformat_minor": 0,
  "metadata": {
    "colab": {
      "name": "[이것이 코딩 테스트다 with Python] 20강 DFS & BFS 기초 문제 풀이_2.ipynb",
      "provenance": [],
      "collapsed_sections": []
    },
    "kernelspec": {
      "name": "python3",
      "display_name": "Python 3"
    },
    "language_info": {
      "name": "python"
    }
  },
  "cells": [
    {
      "cell_type": "markdown",
      "source": [
        "[출처]이것이 코딩테스트다"
      ],
      "metadata": {
        "id": "Qe_0yzL4PPRt"
      }
    },
    {
      "cell_type": "code",
      "execution_count": 8,
      "metadata": {
        "colab": {
          "base_uri": "https://localhost:8080/"
        },
        "id": "DpblOWaZOg3h",
        "outputId": "50f67d9a-0401-4b95-a4f5-f377857476f6"
      },
      "outputs": [
        {
          "output_type": "stream",
          "name": "stdout",
          "text": [
            "3\n"
          ]
        }
      ],
      "source": [
        "n, m = 4, 5\n",
        "graph = [[0, 0, 1, 1, 0], [0, 0, 0, 1, 1], [1, 1, 1, 1, 1], [0, 0, 0, 0, 0]]\n",
        "\n",
        "def dfs(i, j):\n",
        "    # 한 노드에서 상하좌우 다 검색하기 때문에 범위를 초과할 수 있다.\n",
        "    if i <= -1 or i>= n or j <= -1 or j >= m:\n",
        "        return 0\n",
        "\n",
        "    if graph[i][j] == 0:\n",
        "        graph[i][j] = 1\n",
        "        dfs(i - 1 , j)\n",
        "        dfs(i, j - 1)\n",
        "        dfs(i + 1, j)\n",
        "        dfs(i, j + 1)\n",
        "        return 1\n",
        "\n",
        "    return 0\n",
        "\n",
        "result = 0\n",
        "for i in range(n):\n",
        "    for j in range(m):\n",
        "        result += dfs(i,j)\n",
        "\n",
        "print(result)"
      ]
    },
    {
      "cell_type": "code",
      "source": [
        "from collections import deque\n",
        "n = 5\n",
        "m = 6\n",
        "graph = []\n",
        "\n",
        "graph = [[1, 0, 1, 0, 1, 0], \n",
        "         [1, 1, 1, 1, 1, 1], \n",
        "         [0, 0, 0, 0, 0, 1],\n",
        "         [1, 1, 1, 1, 1, 1],\n",
        "         [1, 1, 1, 1, 1, 1]]\n",
        "\n",
        "dx = [-1, 1, 0, 0]\n",
        "dy = [0, 0, -1, 1]\n",
        "\n",
        "def bfs(x, y):\n",
        "    queue = deque()\n",
        "    queue.append((x, y))\n",
        "    while queue:\n",
        "        # 0,0 -> 0,1 -> 1,1\n",
        "        #   1 ->   2 -> 2\n",
        "        x, y = queue.popleft()\n",
        "        for i in range(4): # 4가지 방향\n",
        "            nx = x + dx[i]\n",
        "            ny = y + dy[i]\n",
        "            if nx <= -1 or nx >= n or ny <= -1 or ny >= m:\n",
        "                continue\n",
        "            if graph[nx][ny] == 0:\n",
        "                continue\n",
        "            if graph[nx][ny] == 1:\n",
        "                graph[nx][ny] = graph[x][y] + 1\n",
        "                queue.append((nx, ny))\n",
        "\n",
        "    return graph[n-1][m-1]\n",
        "\n",
        "print(bfs(0,1))        "
      ],
      "metadata": {
        "colab": {
          "base_uri": "https://localhost:8080/"
        },
        "id": "bCrCexRrQCnE",
        "outputId": "0807ed40-50ac-4e96-ce00-d9952461105d"
      },
      "execution_count": 35,
      "outputs": [
        {
          "output_type": "stream",
          "name": "stdout",
          "text": [
            "8\n"
          ]
        }
      ]
    },
    {
      "cell_type": "code",
      "source": [
        ""
      ],
      "metadata": {
        "id": "5Ea3RkkHTSIm"
      },
      "execution_count": null,
      "outputs": []
    }
  ]
}