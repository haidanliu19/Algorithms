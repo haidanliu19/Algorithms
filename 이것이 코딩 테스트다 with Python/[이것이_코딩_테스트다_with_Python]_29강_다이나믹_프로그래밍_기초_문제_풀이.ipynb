{
  "nbformat": 4,
  "nbformat_minor": 0,
  "metadata": {
    "colab": {
      "name": "[이것이 코딩 테스트다 with Python] 29강 다이나믹 프로그래밍 기초 문제 풀이",
      "provenance": [],
      "collapsed_sections": []
    },
    "kernelspec": {
      "name": "python3",
      "display_name": "Python 3"
    },
    "language_info": {
      "name": "python"
    }
  },
  "cells": [
    {
      "cell_type": "markdown",
      "source": [
        "이것이 코딩 테스트다 with Python"
      ],
      "metadata": {
        "id": "K_sWBKEAkd0X"
      }
    },
    {
      "cell_type": "markdown",
      "source": [
        "개미 전사"
      ],
      "metadata": {
        "id": "StSiwzA5oMx5"
      }
    },
    {
      "cell_type": "code",
      "source": [
        "n = 4\n",
        "array = [1, 3, 1, 5]\n",
        "\n",
        "d = [0] * 100\n",
        "\n",
        "d[0] = array[0]\n",
        "d[1] = max(array[0], array[1])\n",
        "\n",
        "# 보텀업 방식으로 한다. \n",
        "for i in range(2, n):\n",
        "    d[i] = max(d[i - 1], d[i - 2] + array[i])\n",
        "\n",
        "print(d[n - 1])"
      ],
      "metadata": {
        "colab": {
          "base_uri": "https://localhost:8080/"
        },
        "id": "z4T1CshmoMmw",
        "outputId": "46254a0c-de1b-4c58-f596-98ad1eba081c"
      },
      "execution_count": 11,
      "outputs": [
        {
          "output_type": "stream",
          "name": "stdout",
          "text": [
            "8\n"
          ]
        }
      ]
    },
    {
      "cell_type": "markdown",
      "source": [
        "1로 만들기"
      ],
      "metadata": {
        "id": "vjmBv_RDqy0k"
      }
    },
    {
      "cell_type": "code",
      "source": [
        "x = 26\n",
        "\n",
        "d = [0] * 30001\n",
        "\n",
        "# 보텀업\n",
        "for i in range(2, x + 1):\n",
        "    d[i] = d[i - 1] + 1\n",
        "    if i % 2 == 0:\n",
        "        d[i] = min(d[i] , d[i // 2] + 1)\n",
        "    if i % 3 == 0:\n",
        "        d[i] = min(d[i] , d[i // 3] + 1)\n",
        "    if i % 5 == 0:\n",
        "        d[i] = min(d[i] , d[i // 5] + 1)\n",
        "\n",
        "print(d[x])"
      ],
      "metadata": {
        "colab": {
          "base_uri": "https://localhost:8080/"
        },
        "id": "tWVyXBLdt53N",
        "outputId": "6b552fa8-9df5-476e-adf0-91b9a237e79c"
      },
      "execution_count": 19,
      "outputs": [
        {
          "output_type": "stream",
          "name": "stdout",
          "text": [
            "3\n"
          ]
        }
      ]
    },
    {
      "cell_type": "markdown",
      "source": [
        "효율적인 화폐 구성"
      ],
      "metadata": {
        "id": "U7T6ufYLtkjY"
      }
    },
    {
      "cell_type": "code",
      "source": [
        "n = 3\n",
        "m = 7\n",
        "\n",
        "''''\n",
        "array = []\n",
        "for i in range(n):\n",
        "    array.append(int(input()))\n",
        "print(array)\n",
        "'''\n",
        "''\n",
        "array = [2, 3, 5]\n",
        "# 100001 무한 대라는 의미로 \n",
        "d = [100001] * (m + 1)\n",
        "d[0] = 0\n",
        "\n",
        "for i in range(n):\n",
        "    for j in range(array[i], m + 1):\n",
        "        if d[j - array[i]] != 10001:\n",
        "            d[j] = min(d[j], d[j - array[i]] + 1)\n",
        "\n",
        "if d[m] == 100001:\n",
        "    print(-1)\n",
        "else:\n",
        "    print(d[m])"
      ],
      "metadata": {
        "colab": {
          "base_uri": "https://localhost:8080/"
        },
        "id": "-_0FA9e5tlFk",
        "outputId": "0605e924-abaf-4bed-d278-a4e6de4192e6"
      },
      "execution_count": 41,
      "outputs": [
        {
          "output_type": "stream",
          "name": "stdout",
          "text": [
            "2\n"
          ]
        }
      ]
    },
    {
      "cell_type": "markdown",
      "source": [
        "금광"
      ],
      "metadata": {
        "id": "maVJI5sr2BQF"
      }
    },
    {
      "cell_type": "code",
      "source": [
        "n, m  = 3, 4\n",
        "# 1 3 3 2 2 1 4 1 0 6 4 7\n",
        "# 4 4\n",
        "# 1 3 1 5 2 2 4 1 5 0 2 3 0 6 1 2\n",
        "# array = list(map(int, input().split())) \n",
        "array = [1, 3, 3, 2, 2, 1, 4, 1, 0, 6, 4, 7]\n",
        "d = []\n",
        "index = 0\n",
        "for i in range(n):\n",
        "    d.append(array[index: index + m])\n",
        "    index += m \n",
        "print(d)\n",
        "\n",
        "for j in range(1, m):\n",
        "    for i in range(n):\n",
        "        # 왼쪽 위에서 오는 경우\n",
        "        if i == 0: left_up = 0\n",
        "        else: left_up = d[i - 1][j - 1]\n",
        "        # 왼쪽 에서 오는 경우\n",
        "        left = d[i][j-1]\n",
        "        # 인쪽 아래에서 오는 경우\n",
        "        if i == n - 1:left_down = 0\n",
        "        else: left_down = d[i + 1][j - 1]\n",
        "        d[i][j] = d[i][j] +  max(left_up, left, left_down)\n",
        "\n",
        "result = 0\n",
        "for i in range(n):\n",
        "    result = max(result, d[i][m-1])\n",
        "print(result)"
      ],
      "metadata": {
        "colab": {
          "base_uri": "https://localhost:8080/"
        },
        "id": "VushRze9009t",
        "outputId": "03bb76f7-be9f-4cda-e343-630d2ea2e03e"
      },
      "execution_count": 50,
      "outputs": [
        {
          "output_type": "stream",
          "name": "stdout",
          "text": [
            "[[1, 3, 3, 2], [2, 1, 4, 1], [0, 6, 4, 7]]\n",
            "19\n"
          ]
        }
      ]
    },
    {
      "cell_type": "markdown",
      "source": [
        "병사 배치하기"
      ],
      "metadata": {
        "id": "XlDDQRr_5nx2"
      }
    },
    {
      "cell_type": "code",
      "source": [
        "n = 7\n",
        "array = [15, 11, 4, 8, 5, 2, 4]\n",
        "\n",
        "d = [1] * 7\n",
        "array = array[::-1]\n",
        "print(array)\n",
        "for i in range(n):\n",
        "    for j in range(0, i) :\n",
        "        if array[j] < array[i]:\n",
        "            d[i] = max(d[i], d[j] + 1)\n",
        "    print(d)\n",
        "\n",
        "print(n - max(d))"
      ],
      "metadata": {
        "colab": {
          "base_uri": "https://localhost:8080/"
        },
        "id": "8gMWX_KH5ooD",
        "outputId": "18016987-bbdf-4feb-f08a-ff8e356bdc83"
      },
      "execution_count": 76,
      "outputs": [
        {
          "output_type": "stream",
          "name": "stdout",
          "text": [
            "[4, 2, 5, 8, 4, 11, 15]\n",
            "[1, 1, 1, 1, 1, 1, 1]\n",
            "[1, 1, 1, 1, 1, 1, 1]\n",
            "[1, 1, 2, 1, 1, 1, 1]\n",
            "[1, 1, 2, 3, 1, 1, 1]\n",
            "[1, 1, 2, 3, 2, 1, 1]\n",
            "[1, 1, 2, 3, 2, 4, 1]\n",
            "[1, 1, 2, 3, 2, 4, 5]\n",
            "2\n"
          ]
        }
      ]
    }
  ]
}