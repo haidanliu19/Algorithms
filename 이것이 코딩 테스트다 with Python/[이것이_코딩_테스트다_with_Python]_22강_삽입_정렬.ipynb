{
  "nbformat": 4,
  "nbformat_minor": 0,
  "metadata": {
    "colab": {
      "name": "[이것이 코딩 테스트다 with Python] 22강 삽입 정렬",
      "provenance": [],
      "collapsed_sections": []
    },
    "kernelspec": {
      "name": "python3",
      "display_name": "Python 3"
    },
    "language_info": {
      "name": "python"
    }
  },
  "cells": [
    {
      "cell_type": "markdown",
      "source": [
        "[출처]이것이 코딩테스트다"
      ],
      "metadata": {
        "id": "Qe_0yzL4PPRt"
      }
    },
    {
      "cell_type": "code",
      "execution_count": 39,
      "metadata": {
        "colab": {
          "base_uri": "https://localhost:8080/"
        },
        "id": "DpblOWaZOg3h",
        "outputId": "027a7f10-fa55-40a2-c973-f504b2e10243"
      },
      "outputs": [
        {
          "output_type": "execute_result",
          "data": {
            "text/plain": [
              "[0, 1, 2, 3, 4, 5, 6, 7, 8, 9]"
            ]
          },
          "metadata": {},
          "execution_count": 39
        }
      ],
      "source": [
        "array = [7, 5, 9, 0, 3, 1, 6, 2, 4, 8]\n",
        "\n",
        "def insertSort(array):\n",
        "    for i in range(1, len(array)):\n",
        "        for j in range(i, 0, -1):\n",
        "            if array[j] < array[j-1]:\n",
        "                array[j], array[j-1] = array[j-1], array[j]\n",
        "            else: # 자기 보다 작은 데이터를 만나면 그 위치에서 멈춤\n",
        "                break\n",
        "    return array\n",
        "\n",
        "insertSort(array)"
      ]
    },
    {
      "cell_type": "markdown",
      "source": [
        "아래의 코드는 실패코드이다. "
      ],
      "metadata": {
        "id": "4k0pIHnFaISg"
      }
    },
    {
      "cell_type": "code",
      "source": [
        "array = [7, 5, 9, 0, 3, 1, 6, 2, 4, 8]\n",
        "\n",
        "def insertSort(array):\n",
        "    for i in range(1, len(array)):\n",
        "        for j in range(0, i, -1):\n",
        "            if array[j] < array[j-1]:\n",
        "                array[j], array[j-1] = array[j-1], array[j]\n",
        "            else: # 자기 보다 작은 데이터를 만나면 그 위치에서 멈춤\n",
        "                break\n",
        "    return array\n",
        "\n",
        "insertSort(array)"
      ],
      "metadata": {
        "colab": {
          "base_uri": "https://localhost:8080/"
        },
        "id": "bCrCexRrQCnE",
        "outputId": "4b9cc092-e26f-4fbe-e99b-235b98bc71f4"
      },
      "execution_count": 40,
      "outputs": [
        {
          "output_type": "execute_result",
          "data": {
            "text/plain": [
              "[7, 5, 9, 0, 3, 1, 6, 2, 4, 8]"
            ]
          },
          "metadata": {},
          "execution_count": 40
        }
      ]
    },
    {
      "cell_type": "code",
      "source": [
        ""
      ],
      "metadata": {
        "id": "5Ea3RkkHTSIm"
      },
      "execution_count": null,
      "outputs": []
    }
  ]
}