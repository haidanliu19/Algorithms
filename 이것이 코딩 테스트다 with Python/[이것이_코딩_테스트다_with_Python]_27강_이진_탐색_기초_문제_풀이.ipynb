{
  "nbformat": 4,
  "nbformat_minor": 0,
  "metadata": {
    "colab": {
      "name": "[이것이 코딩 테스트다 with Python] 27강 이진 탐색 기초 문제 풀이",
      "provenance": [],
      "collapsed_sections": []
    },
    "kernelspec": {
      "name": "python3",
      "display_name": "Python 3"
    },
    "language_info": {
      "name": "python"
    }
  },
  "cells": [
    {
      "cell_type": "markdown",
      "source": [
        "[출처]이것이 코딩 테스트다 with Python"
      ],
      "metadata": {
        "id": "UXi-3y1VWOkQ"
      }
    },
    {
      "cell_type": "code",
      "source": [
        "n = 4\n",
        "m = 6\n",
        "\n",
        "array = [19, 15, 10, 17]\n",
        "\n",
        "start = 0\n",
        "end = max(array)\n",
        "\n",
        "result = 0\n",
        "while (start <= end):\n",
        "    total = 0\n",
        "    mid = (start + end) //2\n",
        "    for x in array:\n",
        "        if x > mid:\n",
        "            total += x - mid\n",
        "    if total < m:\n",
        "        end = mid - 1\n",
        "    else:\n",
        "        result = mid\n",
        "        start = mid + 1\n",
        "        \n",
        "print(result)"
      ],
      "metadata": {
        "colab": {
          "base_uri": "https://localhost:8080/"
        },
        "id": "leHQPmr5oS9x",
        "outputId": "0d8fab07-7d95-4f85-9e62-6412b5461997"
      },
      "execution_count": 47,
      "outputs": [
        {
          "output_type": "stream",
          "name": "stdout",
          "text": [
            "15\n"
          ]
        }
      ]
    },
    {
      "cell_type": "code",
      "source": [
        "x = 2\n",
        "n = 7\n",
        "\n",
        "array = [1, 1, 2, 2, 2, 2, 3]\n",
        "# 없으면 -1\n",
        "\n",
        "from bisect import bisect_left, bisect_right\n",
        "def count_by_range(array, left_value, right_value):\n",
        "    right_index = bisect_right(array, right_value)\n",
        "    left_index = bisect_left(array, left_value)\n",
        "    return right_index- left_index\n",
        "\n",
        "count = count_by_range(array, x, x)\n",
        "\n",
        "if count == 0:\n",
        "    print(-1)\n",
        "else:\n",
        "    print(count)"
      ],
      "metadata": {
        "colab": {
          "base_uri": "https://localhost:8080/"
        },
        "id": "CzEZlQboklWa",
        "outputId": "d7053464-6a1c-43d5-ff8a-7568a1ff8d96"
      },
      "execution_count": 48,
      "outputs": [
        {
          "output_type": "stream",
          "name": "stdout",
          "text": [
            "4\n"
          ]
        }
      ]
    },
    {
      "cell_type": "code",
      "source": [
        ""
      ],
      "metadata": {
        "id": "_O1g4uKbscAw"
      },
      "execution_count": null,
      "outputs": []
    }
  ]
}