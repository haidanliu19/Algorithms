{
  "nbformat": 4,
  "nbformat_minor": 0,
  "metadata": {
    "colab": {
      "name": "[이것이 코딩 테스트다 with Python] 8강 파이썬 문법: 조건문",
      "provenance": [],
      "collapsed_sections": []
    },
    "kernelspec": {
      "name": "python3",
      "display_name": "Python 3"
    },
    "language_info": {
      "name": "python"
    }
  },
  "cells": [
    {
      "cell_type": "markdown",
      "metadata": {
        "id": "u-Rvt5TJfqk4"
      },
      "source": [
        "[이것이 코딩테스트다](https://www.youtube.com/watch?v=INg6kdOEEVc&list=PLVsNizTWUw7H9_of5YCB0FmsSc-K44y81&index=3)"
      ]
    },
    {
      "cell_type": "code",
      "source": [
        "x = 15\n",
        "if x> 10:\n",
        "    print(\"x > 10\")"
      ],
      "metadata": {
        "colab": {
          "base_uri": "https://localhost:8080/"
        },
        "id": "2z_LJ2SvLFXj",
        "outputId": "9d9cb1c5-7eed-44f0-f97c-5b8edfd525ae"
      },
      "execution_count": 24,
      "outputs": [
        {
          "output_type": "stream",
          "name": "stdout",
          "text": [
            "x > 10\n"
          ]
        }
      ]
    },
    {
      "cell_type": "code",
      "source": [
        "score = 85\n",
        "if score >= 80: result =\"sucess\"\n",
        "else: result = \"Fail\""
      ],
      "metadata": {
        "id": "p2wu0vvpLRF6"
      },
      "execution_count": 25,
      "outputs": []
    },
    {
      "cell_type": "code",
      "source": [
        "score = 85\n",
        "result =\"success\" if score >= 80 else \"Fail\"\n",
        "print(result)"
      ],
      "metadata": {
        "colab": {
          "base_uri": "https://localhost:8080/"
        },
        "id": "JrS0wLX1LayR",
        "outputId": "096c5cb5-d65f-49bc-f8a5-3bc460e1d12d"
      },
      "execution_count": 27,
      "outputs": [
        {
          "output_type": "stream",
          "name": "stdout",
          "text": [
            "success\n"
          ]
        }
      ]
    },
    {
      "cell_type": "code",
      "source": [
        "x = 15\n",
        "if 0< x<20:\n",
        "    print(\"x는 0과 20 미만의 수입니다.\")"
      ],
      "metadata": {
        "colab": {
          "base_uri": "https://localhost:8080/"
        },
        "id": "IRxGCnUpL-ht",
        "outputId": "10d088ee-328c-4d42-c4ea-c2faeea5252b"
      },
      "execution_count": 28,
      "outputs": [
        {
          "output_type": "stream",
          "name": "stdout",
          "text": [
            "x는 0과 20 미만의 수입니다.\n"
          ]
        }
      ]
    },
    {
      "cell_type": "code",
      "source": [
        ""
      ],
      "metadata": {
        "id": "kQvF6yc7MHoZ"
      },
      "execution_count": 23,
      "outputs": []
    },
    {
      "cell_type": "code",
      "source": [
        ""
      ],
      "metadata": {
        "id": "HOaJyzVRxxDy"
      },
      "execution_count": 23,
      "outputs": []
    },
    {
      "cell_type": "code",
      "source": [
        ""
      ],
      "metadata": {
        "id": "jkWkUyQ0x2KU"
      },
      "execution_count": 9,
      "outputs": []
    },
    {
      "cell_type": "code",
      "source": [
        ""
      ],
      "metadata": {
        "id": "rHk510WZx6I5"
      },
      "execution_count": 9,
      "outputs": []
    },
    {
      "cell_type": "code",
      "source": [
        ""
      ],
      "metadata": {
        "id": "-qBM2iHyyZUq"
      },
      "execution_count": 9,
      "outputs": []
    },
    {
      "cell_type": "code",
      "source": [
        ""
      ],
      "metadata": {
        "id": "PEjqGtgcysS3"
      },
      "execution_count": 9,
      "outputs": []
    }
  ]
}