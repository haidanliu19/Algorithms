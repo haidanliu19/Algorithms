{
  "nbformat": 4,
  "nbformat_minor": 0,
  "metadata": {
    "colab": {
      "name": "[이것이 코딩 테스트다 with Python] 30강 다익스트라 최단 경로 알고리즘.ipynb",
      "provenance": [],
      "collapsed_sections": []
    },
    "kernelspec": {
      "name": "python3",
      "display_name": "Python 3"
    },
    "language_info": {
      "name": "python"
    }
  },
  "cells": [
    {
      "cell_type": "markdown",
      "source": [
        "출처 : [이것이 코딩 테스트다 with Python] "
      ],
      "metadata": {
        "id": "0hbAaoPAZkcI"
      }
    },
    {
      "cell_type": "code",
      "execution_count": 4,
      "metadata": {
        "colab": {
          "base_uri": "https://localhost:8080/"
        },
        "id": "lIAm8KapZegE",
        "outputId": "d73f957c-1906-4d88-ac71-31134348e3ea"
      },
      "outputs": [
        {
          "output_type": "stream",
          "name": "stdout",
          "text": [
            "0\n",
            "2\n",
            "3\n",
            "1\n",
            "2\n",
            "4\n"
          ]
        }
      ],
      "source": [
        "INF = int(1e9) # 무한을 의미하는 값으로 10억을 설정 \n",
        "\n",
        "n, m =  6, 11# 노드의 개수, 간선의 개수\n",
        "start = 1\n",
        "graph = [[] for i in range(n + 1)]\n",
        "visited = [False] * (n + 1)\n",
        "distance = [INF] * (n + 1)\n",
        "'''\n",
        "for _ in range(m):\n",
        "    a, b, c = map(int, input().split())\n",
        "    graph[a].append((b, c))\n",
        "'''\n",
        "graph = [[], [(2, 2), (3, 5), (4, 1)], [(3, 3), (4, 2)], [(2, 3), (6, 5)], [(3, 3), (5, 1)], [(3, 1), (6, 2)], []]\n",
        "\n",
        "\n",
        "def get_samllest_node():\n",
        "    min_value = INF\n",
        "    index = 0\n",
        "    for i in range(1, n + 1):\n",
        "        if distance[i] < min_value and not visited[i]:\n",
        "            min_value = distance[i]\n",
        "            index = i\n",
        "    return index\n",
        "\n",
        "def dijkstra(start):\n",
        "    # 출발 노드 초기화 \n",
        "    distance[start] = 0\n",
        "    visited[start] = True\n",
        "    for j in graph[start]:\n",
        "        distance[j[0]] = j[1]\n",
        "\n",
        "    for i in range(n - 1):\n",
        "        now = get_samllest_node()\n",
        "        visited[now] = True\n",
        "        for j in graph[now]:\n",
        "            cost = distance[now] + j[1]\n",
        "            if cost < distance[j[0]]:\n",
        "                distance[j[0]] = cost\n",
        "\n",
        "dijkstra(start)\n",
        "\n",
        "for i in range(1, n + 1):\n",
        "    if distance[i] == INF:\n",
        "        print(\"INFINITY\")\n",
        "    else:\n",
        "        print(distance[i])"
      ]
    },
    {
      "cell_type": "code",
      "source": [
        "import heapq\n",
        "\n",
        "def heapsort(iterable):\n",
        "    h = []\n",
        "    result = []\n",
        "    for value in iterable:\n",
        "        heapq.heappush(h, value)\n",
        "    for i in range(len(h)):\n",
        "        result.append(heapq.heappop(h))\n",
        "    return result\n",
        "\n",
        "result = heapsort([1, 3, 5, 7, 9, 2, 4, 6, 8, 0])\n",
        "print(result)"
      ],
      "metadata": {
        "colab": {
          "base_uri": "https://localhost:8080/"
        },
        "id": "PlnduVJciAs2",
        "outputId": "0625fba2-786e-4d50-9885-c6d780d7e2d4"
      },
      "execution_count": 5,
      "outputs": [
        {
          "output_type": "stream",
          "name": "stdout",
          "text": [
            "[0, 1, 2, 3, 4, 5, 6, 7, 8, 9]\n"
          ]
        }
      ]
    },
    {
      "cell_type": "code",
      "source": [
        "import heapq\n",
        "\n",
        "def heapsort(iterable):\n",
        "    h = []\n",
        "    result = []\n",
        "    for value in iterable:\n",
        "        heapq.heappush(h, -value)\n",
        "    for i in range(len(h)):\n",
        "        result.append(-heapq.heappop(h))\n",
        "    return result\n",
        "\n",
        "result = heapsort([1, 3, 5, 7, 9, 2, 4, 6, 8, 0])\n",
        "print(result)"
      ],
      "metadata": {
        "colab": {
          "base_uri": "https://localhost:8080/"
        },
        "id": "GtS_TeezisNX",
        "outputId": "0e8abf1e-b9c9-43b9-8fb4-ea9f2e45fc64"
      },
      "execution_count": 7,
      "outputs": [
        {
          "output_type": "stream",
          "name": "stdout",
          "text": [
            "[9, 8, 7, 6, 5, 4, 3, 2, 1, 0]\n"
          ]
        }
      ]
    },
    {
      "cell_type": "code",
      "source": [
        "INF = int(1e9) # 무한을 의미하는 값으로 10억을 설정 \n",
        "\n",
        "n, m =  6, 11# 노드의 개수, 간선의 개수\n",
        "start = 1\n",
        "graph = [[] for i in range(n + 1)]\n",
        "visited = [False] * (n + 1)\n",
        "distance = [INF] * (n + 1)\n",
        "'''\n",
        "for _ in range(m):\n",
        "    a, b, c = map(int, input().split())\n",
        "    graph[a].append((b, c))\n",
        "'''\n",
        "graph = [[], [(2, 2), (3, 5), (4, 1)], [(3, 3), (4, 2)], [(2, 3), (6, 5)], [(3, 3), (5, 1)], [(3, 1), (6, 2)], []]\n",
        "\n",
        "def dijkstra(start):\n",
        "    q = []\n",
        "    heapq.heappush(q, (0, start))\n",
        "    distance[start] = 0\n",
        "    while q:\n",
        "        dist, now = heapq.heappop(q)\n",
        "        if distance[now] < dist:\n",
        "            continue\n",
        "        for i in graph[now]:\n",
        "            cost = dist + i[1]\n",
        "            if cost < distance[i[0]]:\n",
        "                distance[i[0]] = cost\n",
        "                heapq.heappush(q, (cost, i[0]))\n",
        "\n",
        "dijkstra(start)\n",
        "\n",
        "for i in range(1, n + 1):\n",
        "    if distance[i] == INF:\n",
        "        print(\"INFINITY\")\n",
        "    else:\n",
        "        print(distance[i])"
      ],
      "metadata": {
        "colab": {
          "base_uri": "https://localhost:8080/"
        },
        "id": "fZQ_hY0ektSJ",
        "outputId": "4b2a243e-0374-48c4-b298-f716e6bcc5e2"
      },
      "execution_count": 8,
      "outputs": [
        {
          "output_type": "stream",
          "name": "stdout",
          "text": [
            "0\n",
            "2\n",
            "3\n",
            "1\n",
            "2\n",
            "4\n"
          ]
        }
      ]
    }
  ]
}