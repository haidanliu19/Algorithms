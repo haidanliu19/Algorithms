{
  "nbformat": 4,
  "nbformat_minor": 0,
  "metadata": {
    "colab": {
      "name": "[이것이 코딩 테스트다 with Python] 4강 파이썬 문법: 리스트 자료형",
      "provenance": [],
      "collapsed_sections": []
    },
    "kernelspec": {
      "name": "python3",
      "display_name": "Python 3"
    },
    "language_info": {
      "name": "python"
    }
  },
  "cells": [
    {
      "cell_type": "markdown",
      "metadata": {
        "id": "u-Rvt5TJfqk4"
      },
      "source": [
        "[이것이 코딩테스트다](https://www.youtube.com/watch?v=INg6kdOEEVc&list=PLVsNizTWUw7H9_of5YCB0FmsSc-K44y81&index=3)"
      ]
    },
    {
      "cell_type": "code",
      "metadata": {
        "id": "Y-_n29Vyig0c",
        "colab": {
          "base_uri": "https://localhost:8080/"
        },
        "outputId": "3b1d3a50-cc31-416c-d7f4-a85b5912dcbd"
      },
      "source": [
        "a = [1,2,3,4,5,6,7,8,9]\n",
        "print(a)\n",
        "\n",
        "print(a[3])\n",
        "\n",
        "n = 10\n",
        "a = [0] *n\n",
        "print(a)"
      ],
      "execution_count": null,
      "outputs": [
        {
          "output_type": "stream",
          "name": "stdout",
          "text": [
            "[1, 2, 3, 4, 5, 6, 7, 8, 9]\n",
            "4\n",
            "[0, 0, 0, 0, 0, 0, 0, 0, 0, 0]\n"
          ]
        }
      ]
    },
    {
      "cell_type": "code",
      "source": [
        "a = [1,2,3,4,5,6,7,8,9]\n",
        "print(a[7])\n",
        "\n",
        "print(a[-1])\n",
        "\n",
        "print(a[-3])\n",
        "\n",
        "a[3] = 7\n",
        "print(a)"
      ],
      "metadata": {
        "colab": {
          "base_uri": "https://localhost:8080/"
        },
        "id": "2z_LJ2SvLFXj",
        "outputId": "27e5e4a8-7171-4c85-b73b-f6996b005f80"
      },
      "execution_count": null,
      "outputs": [
        {
          "output_type": "stream",
          "name": "stdout",
          "text": [
            "8\n",
            "9\n",
            "7\n",
            "[1, 2, 3, 7, 5, 6, 7, 8, 9]\n"
          ]
        }
      ]
    },
    {
      "cell_type": "code",
      "source": [
        "a = [1,2,3,4,5,6,7,8,9]\n",
        "print(a[3])\n",
        "\n",
        "print(a[1:4])"
      ],
      "metadata": {
        "colab": {
          "base_uri": "https://localhost:8080/"
        },
        "id": "p2wu0vvpLRF6",
        "outputId": "0a4ca7e2-d814-46ee-bcaf-d99decf0b62f"
      },
      "execution_count": null,
      "outputs": [
        {
          "output_type": "stream",
          "name": "stdout",
          "text": [
            "4\n",
            "[2, 3, 4]\n"
          ]
        }
      ]
    },
    {
      "cell_type": "code",
      "source": [
        "array = [i for i in range(10)]\n",
        "print(array)\n",
        "\n",
        "array = [i*i for i in range(10) if i % 2 == 1]\n",
        "print(array)\n",
        "\n",
        "array = [i*i for i in range(10)]\n",
        "print(array)"
      ],
      "metadata": {
        "colab": {
          "base_uri": "https://localhost:8080/"
        },
        "id": "JrS0wLX1LayR",
        "outputId": "494d41fb-22f7-4f2e-d38e-46ab5d9cf5c0"
      },
      "execution_count": null,
      "outputs": [
        {
          "output_type": "stream",
          "name": "stdout",
          "text": [
            "[0, 1, 2, 3, 4, 5, 6, 7, 8, 9]\n",
            "[1, 9, 25, 49, 81]\n",
            "[0, 1, 4, 9, 16, 25, 36, 49, 64, 81]\n"
          ]
        }
      ]
    },
    {
      "cell_type": "code",
      "source": [
        "m = 4\n",
        "n = 3\n",
        "array = [[0] * m for _ in range(n)]\n",
        "print(array)\n",
        "\n",
        "array[1][1] = 5\n",
        "print(array)"
      ],
      "metadata": {
        "colab": {
          "base_uri": "https://localhost:8080/"
        },
        "id": "IRxGCnUpL-ht",
        "outputId": "e992fa8f-6825-4c04-ec30-f672dba1ede2"
      },
      "execution_count": null,
      "outputs": [
        {
          "output_type": "stream",
          "name": "stdout",
          "text": [
            "[[0, 0, 0, 0], [0, 0, 0, 0], [0, 0, 0, 0]]\n",
            "[[0, 0, 0, 0], [0, 5, 0, 0], [0, 0, 0, 0]]\n"
          ]
        }
      ]
    },
    {
      "cell_type": "code",
      "source": [
        "m = 4\n",
        "n = 3\n",
        "array = [[0] * m]*n\n",
        "print(array)\n",
        "\n",
        "array[1][1] = 5\n",
        "print(array)"
      ],
      "metadata": {
        "id": "kQvF6yc7MHoZ",
        "outputId": "03897d47-626f-48eb-84ea-86c2ba14fc6b",
        "colab": {
          "base_uri": "https://localhost:8080/"
        }
      },
      "execution_count": null,
      "outputs": [
        {
          "output_type": "stream",
          "name": "stdout",
          "text": [
            "[[0, 0, 0, 0], [0, 0, 0, 0], [0, 0, 0, 0]]\n",
            "[[0, 5, 0, 0], [0, 5, 0, 0], [0, 5, 0, 0]]\n"
          ]
        }
      ]
    },
    {
      "cell_type": "code",
      "source": [
        "summary = 0\n",
        "for i in range(1, 10):\n",
        "    summary += i\n",
        "\n",
        "print(summary)"
      ],
      "metadata": {
        "colab": {
          "base_uri": "https://localhost:8080/"
        },
        "id": "HOaJyzVRxxDy",
        "outputId": "c8b36945-8233-4d8d-8ebf-aa78688d4e48"
      },
      "execution_count": 1,
      "outputs": [
        {
          "output_type": "stream",
          "name": "stdout",
          "text": [
            "45\n"
          ]
        }
      ]
    },
    {
      "cell_type": "code",
      "source": [
        "for _ in range(5):\n",
        "    print(\"Hello World\")"
      ],
      "metadata": {
        "colab": {
          "base_uri": "https://localhost:8080/"
        },
        "id": "jkWkUyQ0x2KU",
        "outputId": "15a58238-3b12-49a6-c162-4632764c365d"
      },
      "execution_count": 2,
      "outputs": [
        {
          "output_type": "stream",
          "name": "stdout",
          "text": [
            "Hello World\n",
            "Hello World\n",
            "Hello World\n",
            "Hello World\n",
            "Hello World\n"
          ]
        }
      ]
    },
    {
      "cell_type": "code",
      "source": [
        "a = [1,4,3]\n",
        "print(\"기본 리스트:\", a)\n",
        "\n",
        "a.append(2)\n",
        "print(\"삽입:\", a)\n",
        "\n",
        "a.sort()\n",
        "print(\"오름차순 정렬:\",a)\n",
        "\n",
        "a.sort(reverse = True)\n",
        "print(\"내림 차순 정렬:\",a)"
      ],
      "metadata": {
        "colab": {
          "base_uri": "https://localhost:8080/"
        },
        "id": "rHk510WZx6I5",
        "outputId": "3ccdd30c-2a89-4938-c033-de1734e8afeb"
      },
      "execution_count": 3,
      "outputs": [
        {
          "output_type": "stream",
          "name": "stdout",
          "text": [
            "기본 리스트: [1, 4, 3]\n",
            "삽입: [1, 4, 3, 2]\n",
            "오름차순 정렬: [1, 2, 3, 4]\n",
            "내림 차순 정렬: [4, 3, 2, 1]\n"
          ]
        }
      ]
    },
    {
      "cell_type": "code",
      "source": [
        "a = [4,3,2,1]\n",
        "\n",
        "a.reverse()\n",
        "print(\"원소 뒤집기:\",a)\n",
        "\n",
        "a.insert(2,3)\n",
        "print(\"인덱스 2에 추가:\",a)\n",
        "\n",
        "print(\"값이 3인 데이터 개수:\", a.count(3))\n",
        "\n",
        "a.remove(1)\n",
        "print(\"값이 1인 데이터 삭제\",a)"
      ],
      "metadata": {
        "colab": {
          "base_uri": "https://localhost:8080/"
        },
        "id": "-qBM2iHyyZUq",
        "outputId": "42852163-a588-4850-a61e-70ae547fc1fe"
      },
      "execution_count": 4,
      "outputs": [
        {
          "output_type": "stream",
          "name": "stdout",
          "text": [
            "원소 뒤집기: [1, 2, 3, 4]\n",
            "인덱스 2에 추가: [1, 2, 3, 3, 4]\n",
            "값이 3인 데이터 개수: 2\n",
            "값이 1인 데이터 삭제 [2, 3, 3, 4]\n"
          ]
        }
      ]
    },
    {
      "cell_type": "code",
      "source": [
        "a = [1,2,3,4,5,5,5]\n",
        "remove_set = {3,5}\n",
        "\n",
        "result = [i for i in a if i not in remove_set]\n",
        "print(result)"
      ],
      "metadata": {
        "colab": {
          "base_uri": "https://localhost:8080/"
        },
        "id": "PEjqGtgcysS3",
        "outputId": "10455dae-1418-4d34-976d-05d1d0c433b7"
      },
      "execution_count": 5,
      "outputs": [
        {
          "output_type": "stream",
          "name": "stdout",
          "text": [
            "[1, 2, 4]\n"
          ]
        }
      ]
    }
  ]
}