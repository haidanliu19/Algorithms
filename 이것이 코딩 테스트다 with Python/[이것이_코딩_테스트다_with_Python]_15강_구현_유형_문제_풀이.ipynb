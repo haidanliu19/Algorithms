{
  "nbformat": 4,
  "nbformat_minor": 0,
  "metadata": {
    "colab": {
      "name": "[이것이 코딩 테스트다 with Python] 15강 구현 유형 문제 풀이",
      "provenance": [],
      "collapsed_sections": []
    },
    "kernelspec": {
      "name": "python3",
      "display_name": "Python 3"
    },
    "language_info": {
      "name": "python"
    }
  },
  "cells": [
    {
      "cell_type": "code",
      "execution_count": 9,
      "metadata": {
        "colab": {
          "base_uri": "https://localhost:8080/"
        },
        "id": "uSBSebONoAK8",
        "outputId": "aff9f92c-1b3e-489b-90d0-03e39fbd775b"
      },
      "outputs": [
        {
          "output_type": "stream",
          "name": "stdout",
          "text": [
            "11475\n"
          ]
        }
      ],
      "source": [
        "#h = int(input())\n",
        "h = 5\n",
        "\n",
        "count = 0\n",
        "for i in range(h+1):\n",
        "    for j in range(60):\n",
        "        for k in range(60):\n",
        "            if '3' in str(i) + str(j)+str(k):\n",
        "                count += 1\n",
        "print(count)"
      ]
    },
    {
      "cell_type": "code",
      "source": [
        "#input_data = input()\n",
        "input_data = 'a1'\n",
        "row = int(input_data[1])\n",
        "column = int(ord(input_data[0])) - int(ord('a'))+1\n",
        "\n",
        "steps = [(-2,-1),(-1,-2),(1,-2),(2,-1),(2,1),(1,2),(-1,2),(-2,1)]\n",
        "result = 0\n",
        "for step in steps:\n",
        "    next_row = row+step[0]\n",
        "    next_column = column+step[1]\n",
        "    if next_row>=1 and next_row<=8 and next_column>=1 and next_column <=8:\n",
        "        result +=1\n",
        "print(result)"
      ],
      "metadata": {
        "colab": {
          "base_uri": "https://localhost:8080/"
        },
        "id": "tjzAaBZXt8Jr",
        "outputId": "71cc346a-a293-42ff-adac-0efe6f2ce5a0"
      },
      "execution_count": 10,
      "outputs": [
        {
          "output_type": "stream",
          "name": "stdout",
          "text": [
            "2\n"
          ]
        }
      ]
    },
    {
      "cell_type": "code",
      "source": [
        "#input_data = input()\n",
        "input_data = 'a1'\n",
        "row = int(input_data[1])\n",
        "column = int(ord(input_data[0])) - int(ord('a'))+1\n",
        "\n",
        "steps = [(-2,-1),(-1,-2),(1,-2),(2,-1),(2,1),(1,2),(-1,2),(-2,1)]\n",
        "result = 0\n",
        "for step in steps:\n",
        "    next_row = row+step[0]\n",
        "    next_column = column+step[1]\n",
        "    if 1<= next_row<=8 and 1<=next_column <=8:\n",
        "        result +=1\n",
        "print(result)"
      ],
      "metadata": {
        "colab": {
          "base_uri": "https://localhost:8080/"
        },
        "id": "Q4RFvjxOutqd",
        "outputId": "af2c61b5-7a60-49be-fca7-5f428533dba7"
      },
      "execution_count": 16,
      "outputs": [
        {
          "output_type": "stream",
          "name": "stdout",
          "text": [
            "2\n"
          ]
        }
      ]
    },
    {
      "cell_type": "code",
      "source": [
        "#data = input()\n",
        "data = \"AJKDLSI412K4JSJ9D\"\n",
        "result = []\n",
        "value = 0\n",
        "for x in data:\n",
        "    if x.isalpha():\n",
        "        result.append(x)\n",
        "    else:\n",
        "        value+= int(x)\n",
        "result.sort()\n",
        "if value != 0:\n",
        "    result.append(str(value))\n",
        "print(\"\".join(result))"
      ],
      "metadata": {
        "colab": {
          "base_uri": "https://localhost:8080/"
        },
        "id": "7wWUGrjivYuf",
        "outputId": "bc6752fa-fd4f-46ff-c43c-0ba7a8732d96"
      },
      "execution_count": 18,
      "outputs": [
        {
          "output_type": "stream",
          "name": "stdout",
          "text": [
            "ADDIJJJKKLSS20\n"
          ]
        }
      ]
    }
  ]
}