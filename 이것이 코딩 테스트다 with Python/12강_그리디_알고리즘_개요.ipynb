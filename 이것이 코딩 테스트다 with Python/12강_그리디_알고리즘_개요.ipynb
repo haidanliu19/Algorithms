{
  "nbformat": 4,
  "nbformat_minor": 0,
  "metadata": {
    "colab": {
      "name": "12강 그리디 알고리즘 개요.ipynb",
      "provenance": [],
      "collapsed_sections": []
    },
    "kernelspec": {
      "name": "python3",
      "display_name": "Python 3"
    },
    "language_info": {
      "name": "python"
    }
  },
  "cells": [
    {
      "cell_type": "code",
      "metadata": {
        "colab": {
          "base_uri": "https://localhost:8080/"
        },
        "id": "hZS3EXwa00Bt",
        "outputId": "70573f54-13ec-449e-aac2-f42e74c5e2ae"
      },
      "source": [
        "n = 1260\n",
        "count = 0\n",
        "\n",
        "array = [500,100,50,10]\n",
        "for coin in array:\n",
        "    count += n // coin\n",
        "    n %= coin\n",
        "\n",
        "print(count)"
      ],
      "execution_count": 1,
      "outputs": [
        {
          "output_type": "stream",
          "name": "stdout",
          "text": [
            "6\n"
          ]
        }
      ]
    }
  ]
}