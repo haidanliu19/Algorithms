{
  "nbformat": 4,
  "nbformat_minor": 0,
  "metadata": {
    "colab": {
      "name": "[이것이 코딩 테스트다 with Python] 25강 정렬 알고리즘 비교 및 기초 문제 풀이",
      "provenance": [],
      "collapsed_sections": []
    },
    "kernelspec": {
      "name": "python3",
      "display_name": "Python 3"
    },
    "language_info": {
      "name": "python"
    }
  },
  "cells": [
    {
      "cell_type": "markdown",
      "source": [
        "이것이 코딩 테스트다 With python"
      ],
      "metadata": {
        "id": "NChqEmc_JIBm"
      }
    },
    {
      "cell_type": "code",
      "source": [
        "from random import randint\n",
        "import time"
      ],
      "metadata": {
        "id": "LggE9BQdzGHh"
      },
      "execution_count": 2,
      "outputs": []
    },
    {
      "cell_type": "code",
      "source": [
        "array = []\n",
        "for _ in range(10000):\n",
        "    array.append(randint(1, 100))\n",
        "\n",
        "start_time = time.time()\n",
        "\n",
        "for i in range(len(array)):\n",
        "    min_index = i\n",
        "    for j in range(i + 1, len(array)):\n",
        "        if array[min_index] > array[j]:\n",
        "            min_index = j\n",
        "    array[i], array[min_index] = array[min_index] , array[i]\n",
        "\n",
        "end_time = time.time()\n",
        "print(\"선택 정렬 성능 측정:\", end_time - start_time)\n",
        "\n",
        "\n",
        "array = []\n",
        "for _ in range(10000):\n",
        "    array.append(randint(1, 100))\n",
        "\n",
        "start_time = time.time()\n",
        "\n",
        "array.sort()\n",
        "\n",
        "end_time = time.time()\n",
        "print(\"기본 정렬 라이브러리 성능 측정:\", end_time - start_time)"
      ],
      "metadata": {
        "colab": {
          "base_uri": "https://localhost:8080/"
        },
        "id": "oKARPiEwLtpz",
        "outputId": "37cf5719-24b8-4519-93bf-1d71ffa85520"
      },
      "execution_count": 5,
      "outputs": [
        {
          "output_type": "stream",
          "name": "stdout",
          "text": [
            "선택 정렬 성능 측정: 9.007930040359497\n",
            "기본 정렬 라이브러리 성능 측정: 0.0012364387512207031\n"
          ]
        }
      ]
    },
    {
      "cell_type": "code",
      "source": [
        "a = [1, 2, 5, 4, 3]\n",
        "b = [5, 5, 6, 6, 5]\n",
        "\n",
        "# n, k = map(int, input().split())\n",
        "# a = list(map(int, input().split()))\n",
        "# b = list(map(int, input().split()))\n",
        "\n",
        "a.sort()\n",
        "b.sort(reverse = True)\n",
        "print(a)\n",
        "print(b)\n",
        "\n",
        "k = 3\n",
        "# 최대 K번 비교한다 .\n",
        "# 작은 경우 교체한다. \n",
        "for i in range(k):\n",
        "    if a[i] < b[i]:\n",
        "        a[i], b[i] = b[i], a[i]\n",
        "    else:\n",
        "        break\n",
        "print(a)\n",
        "print(sum(a))"
      ],
      "metadata": {
        "colab": {
          "base_uri": "https://localhost:8080/"
        },
        "id": "16Tq0KnLMhrT",
        "outputId": "663825bd-08b2-4967-fe91-2b0e3115c47f"
      },
      "execution_count": 16,
      "outputs": [
        {
          "output_type": "stream",
          "name": "stdout",
          "text": [
            "[1, 2, 3, 4, 5]\n",
            "[6, 6, 5, 5, 5]\n",
            "[6, 6, 5, 4, 5]\n",
            "26\n"
          ]
        }
      ]
    }
  ]
}