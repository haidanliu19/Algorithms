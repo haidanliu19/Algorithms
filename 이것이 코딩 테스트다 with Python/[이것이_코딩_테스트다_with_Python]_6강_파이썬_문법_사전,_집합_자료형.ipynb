{
  "nbformat": 4,
  "nbformat_minor": 0,
  "metadata": {
    "colab": {
      "name": "[이것이 코딩 테스트다 with Python] 6강 파이썬 문법: 사전, 집합 자료형",
      "provenance": [],
      "collapsed_sections": []
    },
    "kernelspec": {
      "name": "python3",
      "display_name": "Python 3"
    },
    "language_info": {
      "name": "python"
    }
  },
  "cells": [
    {
      "cell_type": "markdown",
      "metadata": {
        "id": "u-Rvt5TJfqk4"
      },
      "source": [
        "[이것이 코딩테스트다](https://www.youtube.com/watch?v=INg6kdOEEVc&list=PLVsNizTWUw7H9_of5YCB0FmsSc-K44y81&index=3)"
      ]
    },
    {
      "cell_type": "code",
      "metadata": {
        "id": "Y-_n29Vyig0c",
        "colab": {
          "base_uri": "https://localhost:8080/"
        },
        "outputId": "a35bf7ab-0ccc-48c6-8265-10e6f00676ce"
      },
      "source": [
        "data = dict()\n",
        "data['사과'] =\"Apple\"\n",
        "data['바나나'] = \"Banana\"\n",
        "data['코코넛'] = \"Coconut\"\n",
        "print(data)\n",
        "\n",
        "if '사과' in data:\n",
        "    print(\"사과를 키로 가지는 데이터가 존재합니다. \")"
      ],
      "execution_count": 13,
      "outputs": [
        {
          "output_type": "stream",
          "name": "stdout",
          "text": [
            "{'사과': 'Apple', '바나나': 'Banana', '코코넛': 'Coconut'}\n",
            "사과를 키로 가지는 데이터가 존재합니다. \n"
          ]
        }
      ]
    },
    {
      "cell_type": "code",
      "source": [
        "key_list = data.keys()\n",
        "value_list = data.values()\n",
        "\n",
        "print(key_list)\n",
        "print(value_list)\n",
        "\n",
        "for key in key_list:\n",
        "    print(key)"
      ],
      "metadata": {
        "colab": {
          "base_uri": "https://localhost:8080/"
        },
        "id": "2z_LJ2SvLFXj",
        "outputId": "15350d9a-e0f1-4d13-db1d-49bc907bead6"
      },
      "execution_count": 14,
      "outputs": [
        {
          "output_type": "stream",
          "name": "stdout",
          "text": [
            "dict_keys(['사과', '바나나', '코코넛'])\n",
            "dict_values(['Apple', 'Banana', 'Coconut'])\n",
            "사과\n",
            "바나나\n",
            "코코넛\n"
          ]
        }
      ]
    },
    {
      "cell_type": "code",
      "source": [
        "data =set([1,1,2,3,4,4,5])\n",
        "print(data)\n",
        "\n",
        "data = {1,1,2,3,4,4,5}\n",
        "print(data)"
      ],
      "metadata": {
        "colab": {
          "base_uri": "https://localhost:8080/"
        },
        "id": "p2wu0vvpLRF6",
        "outputId": "97ed1d57-10fc-470e-a930-4cb286f6e8db"
      },
      "execution_count": 15,
      "outputs": [
        {
          "output_type": "stream",
          "name": "stdout",
          "text": [
            "{1, 2, 3, 4, 5}\n",
            "{1, 2, 3, 4, 5}\n"
          ]
        }
      ]
    },
    {
      "cell_type": "code",
      "source": [
        "a = set([1,2,3,4,5])\n",
        "b = set([3,4,5,6,7])\n",
        "\n",
        "print(a|b)\n",
        "print(a&b)\n",
        "print(a-b)"
      ],
      "metadata": {
        "colab": {
          "base_uri": "https://localhost:8080/"
        },
        "id": "JrS0wLX1LayR",
        "outputId": "994b9937-9c6d-4f7c-acaa-432abc857552"
      },
      "execution_count": 16,
      "outputs": [
        {
          "output_type": "stream",
          "name": "stdout",
          "text": [
            "{1, 2, 3, 4, 5, 6, 7}\n",
            "{3, 4, 5}\n",
            "{1, 2}\n"
          ]
        }
      ]
    },
    {
      "cell_type": "code",
      "source": [
        "data = set([1,2,3])\n",
        "print(data)\n",
        "\n",
        "data.add(4)\n",
        "print(data)\n",
        "\n",
        "data.update([5,6])\n",
        "print(data)\n",
        "\n",
        "data.remove(3)\n",
        "print(data)"
      ],
      "metadata": {
        "colab": {
          "base_uri": "https://localhost:8080/"
        },
        "id": "IRxGCnUpL-ht",
        "outputId": "5c8efc2f-74dd-4d65-874f-bf1e5c1bed0e"
      },
      "execution_count": 17,
      "outputs": [
        {
          "output_type": "stream",
          "name": "stdout",
          "text": [
            "{1, 2, 3}\n",
            "{1, 2, 3, 4}\n",
            "{1, 2, 3, 4, 5, 6}\n",
            "{1, 2, 4, 5, 6}\n"
          ]
        }
      ]
    },
    {
      "cell_type": "code",
      "source": [
        ""
      ],
      "metadata": {
        "id": "kQvF6yc7MHoZ"
      },
      "execution_count": 9,
      "outputs": []
    },
    {
      "cell_type": "code",
      "source": [
        ""
      ],
      "metadata": {
        "id": "HOaJyzVRxxDy"
      },
      "execution_count": 9,
      "outputs": []
    },
    {
      "cell_type": "code",
      "source": [
        ""
      ],
      "metadata": {
        "id": "jkWkUyQ0x2KU"
      },
      "execution_count": 9,
      "outputs": []
    },
    {
      "cell_type": "code",
      "source": [
        ""
      ],
      "metadata": {
        "id": "rHk510WZx6I5"
      },
      "execution_count": 9,
      "outputs": []
    },
    {
      "cell_type": "code",
      "source": [
        ""
      ],
      "metadata": {
        "id": "-qBM2iHyyZUq"
      },
      "execution_count": 9,
      "outputs": []
    },
    {
      "cell_type": "code",
      "source": [
        ""
      ],
      "metadata": {
        "id": "PEjqGtgcysS3"
      },
      "execution_count": 9,
      "outputs": []
    }
  ]
}