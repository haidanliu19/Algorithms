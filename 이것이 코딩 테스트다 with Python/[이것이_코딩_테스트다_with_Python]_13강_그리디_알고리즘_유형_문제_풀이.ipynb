{
  "cells": [
    {
      "cell_type": "markdown",
      "metadata": {
        "id": "u-Rvt5TJfqk4"
      },
      "source": [
        "[이것이 코딩테스트다](https://www.youtube.com/watch?v=INg6kdOEEVc&list=PLVsNizTWUw7H9_of5YCB0FmsSc-K44y81&index=3)"
      ]
    },
    {
      "cell_type": "code",
      "source": [
        "n = 25\n",
        "k = 3\n",
        "result = 0\n",
        "\n",
        "while True:\n",
        "    #N이 k로 나누어 떨저니는 수가 될때 까지 빼기\n",
        "    target = (n // k) *k # 가장 가까운 값을 찾는다 .\n",
        "    result += (n-target)\n",
        "    n = target\n",
        "    #n이 K보다 작을 때 (더 이상 나눌 수 없을 때 ) 반복문 탈출\n",
        "    if n < k:\n",
        "        break\n",
        "    #k로 나누기\n",
        "    result += 1\n",
        "    n //= k\n",
        "print(\"result::\", result, \"n :\", n)\n",
        "result += (n-1)\n",
        "print(\"result\", result)"
      ],
      "metadata": {
        "colab": {
          "base_uri": "https://localhost:8080/"
        },
        "id": "gCevkEc1bYoK",
        "outputId": "8d7e7f6d-194c-42ac-fc5f-f45d585e4977"
      },
      "execution_count": 25,
      "outputs": [
        {
          "output_type": "stream",
          "name": "stdout",
          "text": [
            "result:: 7 n : 0\n",
            "result 6\n"
          ]
        }
      ]
    },
    {
      "cell_type": "code",
      "source": [
        "n, k = map(int, input().split())\n",
        "result = 0\n",
        "\n",
        "while True:\n",
        "    #N이 k로 나누어 떨저니는 수가 될때 까지 빼기\n",
        "    target = (n // k) *k # 가장 가까운 값을 찾는다 .\n",
        "    result += (n-target)\n",
        "    n = target\n",
        "    #n이 K보다 작을 때 (더 이상 나눌 수 없을 때 ) 반복문 탈출\n",
        "    if n < k:\n",
        "        break\n",
        "    #k로 나누기\n",
        "    result += 1\n",
        "    n //= k\n",
        "print(\"result::\", result, \"n :\", n)\n",
        "result += (n-1)\n",
        "print(\"result\", result)"
      ],
      "metadata": {
        "colab": {
          "base_uri": "https://localhost:8080/"
        },
        "id": "EHK2bAK9d1Lc",
        "outputId": "b87357a9-35f4-42c0-9a04-f2dd4658569a"
      },
      "execution_count": 26,
      "outputs": [
        {
          "output_type": "stream",
          "name": "stdout",
          "text": [
            "25 3\n",
            "result:: 7 n : 0\n",
            "result 6\n"
          ]
        }
      ]
    },
    {
      "cell_type": "code",
      "source": [
        "data = input()\n",
        "#첫번째 문자를 숫자로 변경하여 대입\n",
        "result = int(data[0])\n",
        "for i in range(1, len(data)):\n",
        "    # 두 수중에서 하나라도 '0' 혹은 '1'인 경우 , 곱하기 보단느 더하기 수행\n",
        "    num = int(data[i])\n",
        "    if num <= 1 or result <=1:\n",
        "        result += num\n",
        "    else:\n",
        "        result *= num\n",
        "print(result)"
      ],
      "metadata": {
        "colab": {
          "base_uri": "https://localhost:8080/"
        },
        "id": "Y70R_nvVd74q",
        "outputId": "502a5eb5-515e-401e-b93e-ec939321906e"
      },
      "execution_count": 27,
      "outputs": [
        {
          "output_type": "stream",
          "name": "stdout",
          "text": [
            "02984\n",
            "576\n"
          ]
        }
      ]
    },
    {
      "cell_type": "code",
      "source": [
        "n = 5\n",
        "#data = list(map(int, input().split()))\n",
        "data = [2,3,1,2,2]\n",
        "data.sort()\n",
        "\n",
        "result = 0 # 총 그룹의 수\n",
        "count = 0 # 현재 그룹에 포함된 모험가의 수\n",
        "\n",
        "for i in data: # 공포도를 낮은 것 부터 하나씩 확인하여\n",
        "    count += 1 # 현재 그룹에 해당 모험가를 포함시키기\n",
        "    if count >= i: # 현재 그룹에 포함된 모험가의 수가 현재의 공포도 이상이라면, 그룹 결정\n",
        "        result += 1\n",
        "        count = 0\n",
        "print(result)"
      ],
      "metadata": {
        "colab": {
          "base_uri": "https://localhost:8080/"
        },
        "id": "XvBaBOyfgKHd",
        "outputId": "f5964df5-50f7-486b-eee2-ff46f78166c5"
      },
      "execution_count": 28,
      "outputs": [
        {
          "output_type": "stream",
          "name": "stdout",
          "text": [
            "2\n"
          ]
        }
      ]
    },
    {
      "cell_type": "code",
      "source": [
        "n = int(input())\n",
        "data = list(map(int, input().split()))\n",
        "data.sort()\n",
        "\n",
        "result = 0 # 총 그룹의 수\n",
        "count = 0 # 현재 그룹에 포함된 모험가의 수\n",
        "\n",
        "for i in data: # 공포도를 낮은 것 부터 하나씩 확인하여\n",
        "    count += 1 # 현재 그룹에 해당 모험가를 포함시키기\n",
        "    if count >= i: # 현재 그룹에 포함된 모험가의 수가 현재의 공포도 이상이라면, 그룹 결정\n",
        "        result += 1\n",
        "        count = 0\n",
        "print(result)\n"
      ],
      "metadata": {
        "id": "p4PwNCKhfqfD"
      },
      "execution_count": null,
      "outputs": []
    }
  ],
  "metadata": {
    "colab": {
      "collapsed_sections": [],
      "name": "[이것이 코딩 테스트다 with Python] 13강 그리디 알고리즘 유형 문제 풀이",
      "provenance": []
    },
    "kernelspec": {
      "display_name": "Python 3",
      "name": "python3"
    },
    "language_info": {
      "name": "python"
    }
  },
  "nbformat": 4,
  "nbformat_minor": 0
}