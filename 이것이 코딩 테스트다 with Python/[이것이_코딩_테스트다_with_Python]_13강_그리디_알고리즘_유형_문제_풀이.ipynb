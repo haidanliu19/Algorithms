{
  "cells": [
    {
      "cell_type": "markdown",
      "metadata": {
        "id": "u-Rvt5TJfqk4"
      },
      "source": [
        "[이것이 코딩테스트다]"
      ]
    },
    {
      "cell_type": "code",
      "source": [
        "n = 25\n",
        "k = 3\n",
        "result = 0\n",
        "\n",
        "while True:\n",
        "    #N이 k로 나누어 떨저니는 수가 될때 까지 빼기\n",
        "    target = (n // k) *k # 가장 가까운 값을 찾는다 .\n",
        "    print(target)\n",
        "    result += (n-target)\n",
        "    n = target\n",
        "    #n이 K보다 작을 때 (더 이상 나눌 수 없을 때 ) 반복문 탈출\n",
        "    if n < k:\n",
        "        break\n",
        "    #k로 나누기\n",
        "    result += 1\n",
        "    n //= k\n",
        "\n",
        "result += (n-1)\n",
        "print(result)"
      ],
      "metadata": {
        "id": "H26zJOCnguzE",
        "colab": {
          "base_uri": "https://localhost:8080/"
        },
        "outputId": "b150d402-9211-4f02-8c9f-8c3db76ff3e5"
      },
      "execution_count": 1,
      "outputs": [
        {
          "output_type": "stream",
          "name": "stdout",
          "text": [
            "24\n",
            "6\n",
            "0\n",
            "6\n"
          ]
        }
      ]
    },
    {
      "cell_type": "code",
      "source": [
        "\n",
        "data = input()\n",
        "#첫번째 문자를 숫자로 변경하여 대입\n",
        "result = int(data[0])\n",
        "for i in range(1, len(data)):\n",
        "    # 두 수중에서 하나라도 '0' 혹은 '1'인 경우 , 곱하기 보단느 더하기 수행\n",
        "    num = int(data[i])\n",
        "    if num <= 1 or result <=1:\n",
        "        result += num\n",
        "    else:\n",
        "        result *= num\n",
        "print(result)"
      ],
      "metadata": {
        "colab": {
          "base_uri": "https://localhost:8080/"
        },
        "id": "9z5WVsOSASR9",
        "outputId": "70846d3f-2169-49bd-f808-dac663e218b8"
      },
      "execution_count": 2,
      "outputs": [
        {
          "output_type": "stream",
          "name": "stdout",
          "text": [
            "02984\n",
            "576\n"
          ]
        }
      ]
    },
    {
      "cell_type": "code",
      "source": [
        "n = 5\n",
        "#data = list(map(int, input().split()))\n",
        "data = [2,3,1,2,2]\n",
        "data.sort()\n",
        "\n",
        "result = 0 # 총 그룹의 수\n",
        "count = 0 # 현재 그룹에 포함된 모험가의 수\n",
        "\n",
        "for i in data: # 공포도를 낮은 것 부터 하나씩 확인하여\n",
        "    count += 1 # 현재 그룹에 해당 모험가를 포함시키기\n",
        "    if count >= i: # 현재 그룹에 포함된 모험가의 수가 현재의 공포도 이상이라면, 그룹 결정\n",
        "        result += 1\n",
        "        count = 0\n",
        "print(result)"
      ],
      "metadata": {
        "colab": {
          "base_uri": "https://localhost:8080/"
        },
        "id": "N2COuj5hAcnZ",
        "outputId": "fa986c25-b10f-4a27-a539-e659cf77e2da"
      },
      "execution_count": 3,
      "outputs": [
        {
          "output_type": "stream",
          "name": "stdout",
          "text": [
            "2\n"
          ]
        }
      ]
    }
  ],
  "metadata": {
    "colab": {
      "collapsed_sections": [],
      "name": "[이것이 코딩 테스트다 with Python] 13강 그리디 알고리즘 유형 문제 풀이",
      "provenance": []
    },
    "kernelspec": {
      "display_name": "Python 3",
      "name": "python3"
    },
    "language_info": {
      "name": "python"
    }
  },
  "nbformat": 4,
  "nbformat_minor": 0
}