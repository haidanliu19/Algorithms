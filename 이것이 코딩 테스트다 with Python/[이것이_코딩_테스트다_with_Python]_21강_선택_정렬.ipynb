{
  "nbformat": 4,
  "nbformat_minor": 0,
  "metadata": {
    "colab": {
      "name": "[이것이 코딩 테스트다 with Python] 21강 선택 정렬",
      "provenance": [],
      "collapsed_sections": []
    },
    "kernelspec": {
      "name": "python3",
      "display_name": "Python 3"
    },
    "language_info": {
      "name": "python"
    }
  },
  "cells": [
    {
      "cell_type": "code",
      "execution_count": 11,
      "metadata": {
        "colab": {
          "base_uri": "https://localhost:8080/"
        },
        "id": "qASbyNlapmgL",
        "outputId": "e7d47f58-4c75-41fc-a1ab-4311e116929d"
      },
      "outputs": [
        {
          "output_type": "stream",
          "name": "stdout",
          "text": [
            "[0, 1, 2, 3, 4, 5, 6, 7, 8, 9]\n"
          ]
        }
      ],
      "source": [
        "array = [7, 5, 9, 0, 3, 1, 6, 2, 4, 8]\n",
        "\n",
        "for i in range(len(array)):\n",
        "    min_index = i # 가장 작은 원소의 index\n",
        "    for j in range(i + 1, len(array)):\n",
        "        if array[min_index] > array[j]:\n",
        "            min_index = j\n",
        "    array[i], array[min_index ] = array[min_index], array[i]\n",
        "\n",
        "print(array)"
      ]
    },
    {
      "cell_type": "code",
      "source": [
        "array = [7, 5, 9, 0, 3, 1, 6, 2, 4, 8]\n",
        "def selectSort(array):\n",
        "    for i in range(len(array)):\n",
        "        min_index = i # 가장 작은 원소의 index\n",
        "        for j in range(i + 1, len(array)):\n",
        "            if array[min_index] > array[j]:\n",
        "                min_index = j\n",
        "        array[i], array[min_index ] = array[min_index], array[i]\n",
        "    return array \n",
        "\n",
        "print(selectSort(array))"
      ],
      "metadata": {
        "colab": {
          "base_uri": "https://localhost:8080/"
        },
        "id": "WQi54zCLsoq5",
        "outputId": "4b2a4b31-e221-42fe-c1e7-7a0bb92c3e72"
      },
      "execution_count": 12,
      "outputs": [
        {
          "output_type": "stream",
          "name": "stdout",
          "text": [
            "[0, 1, 2, 3, 4, 5, 6, 7, 8, 9]\n"
          ]
        }
      ]
    },
    {
      "cell_type": "code",
      "source": [
        ""
      ],
      "metadata": {
        "id": "l3j04mvHuJN0"
      },
      "execution_count": null,
      "outputs": []
    }
  ]
}