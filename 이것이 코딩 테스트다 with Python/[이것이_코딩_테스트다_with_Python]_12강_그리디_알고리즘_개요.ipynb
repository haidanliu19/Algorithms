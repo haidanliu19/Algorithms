{
  "cells": [
    {
      "cell_type": "markdown",
      "metadata": {
        "id": "u-Rvt5TJfqk4"
      },
      "source": [
        "[이것이 코딩테스트다](https://www.youtube.com/watch?v=INg6kdOEEVc&list=PLVsNizTWUw7H9_of5YCB0FmsSc-K44y81&index=3)"
      ]
    },
    {
      "cell_type": "code",
      "source": [
        "n = 1260\n",
        "count = 0\n",
        "array = [500,100,50,10]\n",
        "\n",
        "for coin in array:\n",
        "    count += n // coin\n",
        "    n %= coin\n",
        "\n",
        "print(count)"
      ],
      "metadata": {
        "colab": {
          "base_uri": "https://localhost:8080/"
        },
        "id": "XQijVd8uZPf6",
        "outputId": "825e8c81-8f4f-47c3-ba64-081c5fde7fa5"
      },
      "execution_count": 16,
      "outputs": [
        {
          "output_type": "stream",
          "name": "stdout",
          "text": [
            "6\n"
          ]
        }
      ]
    }
  ],
  "metadata": {
    "colab": {
      "collapsed_sections": [],
      "name": "[이것이 코딩 테스트다 with Python] 12강 그리디 알고리즘 개요",
      "provenance": []
    },
    "kernelspec": {
      "display_name": "Python 3",
      "name": "python3"
    },
    "language_info": {
      "name": "python"
    }
  },
  "nbformat": 4,
  "nbformat_minor": 0
}