{
  "nbformat": 4,
  "nbformat_minor": 0,
  "metadata": {
    "colab": {
      "name": "[이것이 코딩 테스트다 with Python] 7강 파이썬 문법: 기본 입출력",
      "provenance": [],
      "collapsed_sections": []
    },
    "kernelspec": {
      "name": "python3",
      "display_name": "Python 3"
    },
    "language_info": {
      "name": "python"
    }
  },
  "cells": [
    {
      "cell_type": "markdown",
      "metadata": {
        "id": "u-Rvt5TJfqk4"
      },
      "source": [
        "[이것이 코딩테스트다](https://www.youtube.com/watch?v=INg6kdOEEVc&list=PLVsNizTWUw7H9_of5YCB0FmsSc-K44y81&index=3)"
      ]
    },
    {
      "cell_type": "code",
      "metadata": {
        "id": "Y-_n29Vyig0c"
      },
      "source": [
        "input()"
      ],
      "execution_count": 17,
      "outputs": []
    },
    {
      "cell_type": "code",
      "source": [
        "list(map(int, input().split()))"
      ],
      "metadata": {
        "id": "2z_LJ2SvLFXj"
      },
      "execution_count": 17,
      "outputs": []
    },
    {
      "cell_type": "code",
      "source": [
        "a,b,c = map(int, input().split())"
      ],
      "metadata": {
        "id": "p2wu0vvpLRF6"
      },
      "execution_count": 17,
      "outputs": []
    },
    {
      "cell_type": "code",
      "source": [
        "n = int(input())\n",
        "data = list(map(int, input().split()))\n",
        "\n",
        "data.sort()\n",
        "for i in data:\n",
        "    print(i)\n",
        "#10 90 70 89 20"
      ],
      "metadata": {
        "colab": {
          "base_uri": "https://localhost:8080/"
        },
        "id": "JrS0wLX1LayR",
        "outputId": "67a2cc8c-0299-4cf6-8155-bff130720ea9"
      },
      "execution_count": 21,
      "outputs": [
        {
          "output_type": "stream",
          "name": "stdout",
          "text": [
            "5\n",
            "10 90 70 89 20\n",
            "10\n",
            "20\n",
            "70\n",
            "89\n",
            "90\n"
          ]
        }
      ]
    },
    {
      "cell_type": "code",
      "source": [
        "import sys\n",
        "data = sys.stdin.readlin().rstrip()\n",
        "print(data)"
      ],
      "metadata": {
        "id": "IRxGCnUpL-ht"
      },
      "execution_count": 17,
      "outputs": []
    },
    {
      "cell_type": "code",
      "source": [
        " a= 1\n",
        " b = 2\n",
        " print(a,b)\n",
        " print(7, end = \" \")\n",
        " print(8, end = \" \")\n",
        "\n",
        " answer = 8\n",
        " print(\" 정답은 \" + str(answer) + \"입니다. \")"
      ],
      "metadata": {
        "id": "kQvF6yc7MHoZ",
        "outputId": "7c415cd0-de98-4940-d02e-d58352fefabf",
        "colab": {
          "base_uri": "https://localhost:8080/"
        }
      },
      "execution_count": 22,
      "outputs": [
        {
          "output_type": "stream",
          "name": "stdout",
          "text": [
            "1 2\n",
            "7 8  정답은 8입니다. \n"
          ]
        }
      ]
    },
    {
      "cell_type": "code",
      "source": [
        " answer = 8\n",
        " print(f\" 정답은 {answer} 입니다. \")"
      ],
      "metadata": {
        "colab": {
          "base_uri": "https://localhost:8080/"
        },
        "id": "HOaJyzVRxxDy",
        "outputId": "5fa99236-948f-4470-e502-73709533a0d7"
      },
      "execution_count": 23,
      "outputs": [
        {
          "output_type": "stream",
          "name": "stdout",
          "text": [
            " 정답은 8 입니다. \n"
          ]
        }
      ]
    },
    {
      "cell_type": "code",
      "source": [
        ""
      ],
      "metadata": {
        "id": "jkWkUyQ0x2KU"
      },
      "execution_count": 9,
      "outputs": []
    },
    {
      "cell_type": "code",
      "source": [
        ""
      ],
      "metadata": {
        "id": "rHk510WZx6I5"
      },
      "execution_count": 9,
      "outputs": []
    },
    {
      "cell_type": "code",
      "source": [
        ""
      ],
      "metadata": {
        "id": "-qBM2iHyyZUq"
      },
      "execution_count": 9,
      "outputs": []
    },
    {
      "cell_type": "code",
      "source": [
        ""
      ],
      "metadata": {
        "id": "PEjqGtgcysS3"
      },
      "execution_count": 9,
      "outputs": []
    }
  ]
}