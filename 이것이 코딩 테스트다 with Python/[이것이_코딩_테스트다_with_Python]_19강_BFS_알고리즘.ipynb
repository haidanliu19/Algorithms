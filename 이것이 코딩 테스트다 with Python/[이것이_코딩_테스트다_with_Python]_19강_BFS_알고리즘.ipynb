{
  "nbformat": 4,
  "nbformat_minor": 0,
  "metadata": {
    "colab": {
      "name": "[이것이 코딩 테스트다 with Python] 19강 BFS 알고리즘",
      "provenance": [],
      "collapsed_sections": []
    },
    "kernelspec": {
      "name": "python3",
      "display_name": "Python 3"
    },
    "language_info": {
      "name": "python"
    }
  },
  "cells": [
    {
      "cell_type": "code",
      "execution_count": 5,
      "metadata": {
        "colab": {
          "base_uri": "https://localhost:8080/"
        },
        "id": "1lWfzvU02uzl",
        "outputId": "86d614fd-5557-4ae7-f3a0-7457f5e67e5e"
      },
      "outputs": [
        {
          "output_type": "stream",
          "name": "stdout",
          "text": [
            "1 2 3 8 7 4 5 6 "
          ]
        }
      ],
      "source": [
        "from collections import deque\n",
        "\n",
        "def bfs(graph, start, visited):\n",
        "    # 현재 노드를 방문 처리\n",
        "    qeque = deque([start])\n",
        "    visited[start] = True\n",
        "    while qeque:\n",
        "        v = qeque.popleft()\n",
        "        print(v, end = \" \")\n",
        "        for i in graph[v]:\n",
        "            if not visited[i]:\n",
        "                qeque.append(i)\n",
        "                visited[i] = True\n",
        "\n",
        "graph = [\n",
        "         [],\n",
        "         [2,3,8],\n",
        "         [1,7],\n",
        "         [1,4,5],\n",
        "         [3,5],\n",
        "         [3,4],\n",
        "         [7],\n",
        "         [2,6,8],\n",
        "         [1,7]\n",
        "]\n",
        "visited = [False] * 9\n",
        "bfs(graph, 1, visited)"
      ]
    }
  ]
}