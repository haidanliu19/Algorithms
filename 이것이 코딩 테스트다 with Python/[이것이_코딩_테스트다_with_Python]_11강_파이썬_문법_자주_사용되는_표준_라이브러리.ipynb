{
  "cells": [
    {
      "cell_type": "markdown",
      "metadata": {
        "id": "u-Rvt5TJfqk4"
      },
      "source": [
        "[이것이 코딩테스트다](https://www.youtube.com/watch?v=INg6kdOEEVc&list=PLVsNizTWUw7H9_of5YCB0FmsSc-K44y81&index=3)"
      ]
    },
    {
      "cell_type": "code",
      "execution_count": null,
      "metadata": {
        "colab": {
          "base_uri": "https://localhost:8080/"
        },
        "id": "2z_LJ2SvLFXj",
        "outputId": "219414fa-d83d-46b4-c01c-1f59b1fea758"
      },
      "outputs": [
        {
          "output_type": "stream",
          "name": "stdout",
          "text": [
            "10\n"
          ]
        }
      ],
      "source": [
        "def add(a,b):\n",
        "    return a+b\n",
        "\n",
        "result = add(3,7)\n",
        "print(result)"
      ]
    },
    {
      "cell_type": "code",
      "execution_count": null,
      "metadata": {
        "colab": {
          "base_uri": "https://localhost:8080/"
        },
        "id": "p2wu0vvpLRF6",
        "outputId": "9bafb29f-3e8b-4b68-8480-bd67f502c9b0"
      },
      "outputs": [
        {
          "output_type": "stream",
          "name": "stdout",
          "text": [
            "1\n"
          ]
        }
      ],
      "source": [
        "a = 10\n",
        "\n",
        "def func():\n",
        "    a = 0\n",
        "    a += 1\n",
        "    print(a)\n",
        "\n",
        "func()"
      ]
    },
    {
      "cell_type": "code",
      "execution_count": null,
      "metadata": {
        "colab": {
          "base_uri": "https://localhost:8080/"
        },
        "id": "JrS0wLX1LayR",
        "outputId": "02729bae-22b9-411f-ecff-a9cef658bd77"
      },
      "outputs": [
        {
          "output_type": "stream",
          "name": "stdout",
          "text": [
            "11\n"
          ]
        }
      ],
      "source": [
        "a = 10\n",
        "\n",
        "def func():\n",
        "    global a\n",
        "    a += 1\n",
        "    print(a)\n",
        "\n",
        "func()"
      ]
    },
    {
      "cell_type": "code",
      "execution_count": null,
      "metadata": {
        "colab": {
          "base_uri": "https://localhost:8080/"
        },
        "id": "IRxGCnUpL-ht",
        "outputId": "296d9a6d-dfb7-40af-a312-5607a80b6f08"
      },
      "outputs": [
        {
          "output_type": "stream",
          "name": "stdout",
          "text": [
            "10\n"
          ]
        }
      ],
      "source": [
        "print((lambda a, b: a+b)(3,7))"
      ]
    },
    {
      "cell_type": "code",
      "execution_count": null,
      "metadata": {
        "id": "o2AL4g6h6ALd",
        "colab": {
          "base_uri": "https://localhost:8080/"
        },
        "outputId": "4cd09324-305f-4868-907b-813175b8dd8b"
      },
      "outputs": [
        {
          "output_type": "stream",
          "name": "stdout",
          "text": [
            "[('이순신', 32), ('홍길동', 50), ('아무개', 74)]\n",
            "[('이순신', 32), ('홍길동', 50), ('아무개', 74)]\n"
          ]
        }
      ],
      "source": [
        "array = [('홍길동', 50),('이순신', 32),('아무개', 74)]\n",
        "\n",
        "def my_key(x):\n",
        "    return x[1]\n",
        "\n",
        "print(sorted(array, key = my_key))\n",
        "print(sorted(array, key = lambda x:x[1]))"
      ]
    },
    {
      "cell_type": "code",
      "execution_count": 1,
      "metadata": {
        "id": "kQvF6yc7MHoZ",
        "colab": {
          "base_uri": "https://localhost:8080/"
        },
        "outputId": "944c405e-2b2c-4cad-9e86-8f5c65cae4b7"
      },
      "outputs": [
        {
          "output_type": "stream",
          "name": "stdout",
          "text": [
            "15\n"
          ]
        }
      ],
      "source": [
        "result = sum([1,2,3,4,5])\n",
        "print(result)"
      ]
    },
    {
      "cell_type": "code",
      "execution_count": 2,
      "metadata": {
        "id": "HOaJyzVRxxDy",
        "colab": {
          "base_uri": "https://localhost:8080/"
        },
        "outputId": "75e1500e-c995-451a-b4f4-9e295502da52"
      },
      "outputs": [
        {
          "output_type": "stream",
          "name": "stdout",
          "text": [
            "2 7\n"
          ]
        }
      ],
      "source": [
        "min_result = min(7,3,5,2)\n",
        "max_result = max(7,3,5,2)\n",
        "print(min_result,max_result)"
      ]
    },
    {
      "cell_type": "code",
      "execution_count": 4,
      "metadata": {
        "id": "jkWkUyQ0x2KU",
        "colab": {
          "base_uri": "https://localhost:8080/"
        },
        "outputId": "471fd5ef-15f1-46cc-811b-8d9e3c757064"
      },
      "outputs": [
        {
          "output_type": "stream",
          "name": "stdout",
          "text": [
            "56\n"
          ]
        }
      ],
      "source": [
        "result = eval(\"(3+5)*7\")\n",
        "print(result)"
      ]
    },
    {
      "cell_type": "code",
      "execution_count": 5,
      "metadata": {
        "id": "rHk510WZx6I5",
        "colab": {
          "base_uri": "https://localhost:8080/"
        },
        "outputId": "d0381235-2100-4e46-f0d4-1a3ed1513e2d"
      },
      "outputs": [
        {
          "output_type": "stream",
          "name": "stdout",
          "text": [
            "[1, 4, 5, 8, 9]\n",
            "[9, 8, 5, 4, 1]\n"
          ]
        }
      ],
      "source": [
        "result = sorted([9,1,8,5,4])\n",
        "reverse_result = sorted([9,1,8,5,4],reverse = True)\n",
        "print(result)\n",
        "print(reverse_result)"
      ]
    },
    {
      "cell_type": "code",
      "execution_count": 7,
      "metadata": {
        "id": "-qBM2iHyyZUq",
        "colab": {
          "base_uri": "https://localhost:8080/"
        },
        "outputId": "f773b92b-8801-4c5b-94b6-671845321e80"
      },
      "outputs": [
        {
          "output_type": "stream",
          "name": "stdout",
          "text": [
            "[('이순신', 75), ('아무개', 50), ('홍길동', 35)]\n"
          ]
        }
      ],
      "source": [
        "array = [('홍길동',35),('이순신', 75),('아무개', 50)]\n",
        "result = sorted(array, key=lambda x:x[1], reverse = True)\n",
        "print(result)"
      ]
    },
    {
      "cell_type": "code",
      "execution_count": 8,
      "metadata": {
        "id": "PEjqGtgcysS3",
        "colab": {
          "base_uri": "https://localhost:8080/"
        },
        "outputId": "159743d6-b24a-4a65-d0aa-12b1f6528930"
      },
      "outputs": [
        {
          "output_type": "stream",
          "name": "stdout",
          "text": [
            "[('A', 'B', 'C'), ('A', 'C', 'B'), ('B', 'A', 'C'), ('B', 'C', 'A'), ('C', 'A', 'B'), ('C', 'B', 'A')]\n"
          ]
        }
      ],
      "source": [
        "from itertools import permutations\n",
        "data = ['A','B','C']\n",
        "result = list(permutations(data,3))\n",
        "\n",
        "print(result)"
      ]
    },
    {
      "cell_type": "code",
      "source": [
        "from itertools import combinations\n",
        "data = ['A','B','C']\n",
        "result = list(combinations(data,2))\n",
        "\n",
        "print(result)"
      ],
      "metadata": {
        "colab": {
          "base_uri": "https://localhost:8080/"
        },
        "id": "o37iAavGX9xL",
        "outputId": "ab24341c-c3e5-41c7-dad5-4559144446f3"
      },
      "execution_count": 9,
      "outputs": [
        {
          "output_type": "stream",
          "name": "stdout",
          "text": [
            "[('A', 'B'), ('A', 'C'), ('B', 'C')]\n"
          ]
        }
      ]
    },
    {
      "cell_type": "code",
      "source": [
        "from itertools import product\n",
        "data = ['A','B','C']\n",
        "result = list(product(data, repeat = 2))\n",
        "print(result)"
      ],
      "metadata": {
        "colab": {
          "base_uri": "https://localhost:8080/"
        },
        "id": "15uzDTyqYBwK",
        "outputId": "6d66bbc9-9d90-4068-8adc-e6d87e4e9ab6"
      },
      "execution_count": 10,
      "outputs": [
        {
          "output_type": "stream",
          "name": "stdout",
          "text": [
            "[('A', 'A'), ('A', 'B'), ('A', 'C'), ('B', 'A'), ('B', 'B'), ('B', 'C'), ('C', 'A'), ('C', 'B'), ('C', 'C')]\n"
          ]
        }
      ]
    },
    {
      "cell_type": "code",
      "source": [
        "from itertools import combinations_with_replacement\n",
        "data = ['A','B','C']\n",
        "result = list(combinations_with_replacement(data, 2))\n",
        "print(result)"
      ],
      "metadata": {
        "colab": {
          "base_uri": "https://localhost:8080/"
        },
        "id": "ZHH-adJxYKrq",
        "outputId": "99bae201-935a-4270-93d6-65f4afead82c"
      },
      "execution_count": 12,
      "outputs": [
        {
          "output_type": "stream",
          "name": "stdout",
          "text": [
            "[('A', 'A'), ('A', 'B'), ('A', 'C'), ('B', 'B'), ('B', 'C'), ('C', 'C')]\n"
          ]
        }
      ]
    },
    {
      "cell_type": "code",
      "source": [
        "from collections import Counter\n",
        "\n",
        "counter = Counter(['red','blue','red','green','blue','blue'])\n",
        "print(counter['blue'])\n",
        "print(counter['green'])\n",
        "print(counter['green1'])\n",
        "print(dict(counter))"
      ],
      "metadata": {
        "colab": {
          "base_uri": "https://localhost:8080/"
        },
        "id": "5ln8Y7JrYSvk",
        "outputId": "515793f7-f88a-49f5-c17f-d4bab3c9a005"
      },
      "execution_count": 14,
      "outputs": [
        {
          "output_type": "stream",
          "name": "stdout",
          "text": [
            "3\n",
            "1\n",
            "0\n",
            "{'red': 2, 'blue': 3, 'green': 1}\n"
          ]
        }
      ]
    },
    {
      "cell_type": "code",
      "source": [
        "import math\n",
        "def lcm(a,b):\n",
        "    return a*b // math.gcd(a,b)\n",
        "\n",
        "a = 21\n",
        "b = 14\n",
        "\n",
        "print(math.gcd(21,14))\n",
        "print(lcm(21,14))"
      ],
      "metadata": {
        "colab": {
          "base_uri": "https://localhost:8080/"
        },
        "id": "UL2FMbp3YrBm",
        "outputId": "9d1464c4-ea63-4fab-8a04-367aad2cc4a7"
      },
      "execution_count": 15,
      "outputs": [
        {
          "output_type": "stream",
          "name": "stdout",
          "text": [
            "7\n",
            "42\n"
          ]
        }
      ]
    }
  ],
  "metadata": {
    "colab": {
      "collapsed_sections": [],
      "name": "[이것이 코딩 테스트다 with Python] 11강 파이썬 문법: 자주 사용되는 표준 라이브러리",
      "provenance": []
    },
    "kernelspec": {
      "display_name": "Python 3",
      "name": "python3"
    },
    "language_info": {
      "name": "python"
    }
  },
  "nbformat": 4,
  "nbformat_minor": 0
}