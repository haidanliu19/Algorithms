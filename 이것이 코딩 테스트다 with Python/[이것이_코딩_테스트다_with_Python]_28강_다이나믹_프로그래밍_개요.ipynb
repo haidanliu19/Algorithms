{
  "nbformat": 4,
  "nbformat_minor": 0,
  "metadata": {
    "colab": {
      "name": "[이것이_코딩_테스트다_with_Python]_28강_다이나믹_프로그래밍_개요",
      "provenance": [],
      "collapsed_sections": []
    },
    "kernelspec": {
      "name": "python3",
      "display_name": "Python 3"
    },
    "language_info": {
      "name": "python"
    }
  },
  "cells": [
    {
      "cell_type": "markdown",
      "source": [
        "이것이 코딩 테스트다 with Python"
      ],
      "metadata": {
        "id": "K_sWBKEAkd0X"
      }
    },
    {
      "cell_type": "code",
      "source": [
        "def fibo(x):\n",
        "    if x == 1 or x == 2:\n",
        "        return 1\n",
        "    return fibo(x - 1) + fibo(x - 2)\n",
        "\n",
        "print(fibo(4))"
      ],
      "metadata": {
        "id": "FvZdMl87-Z4j"
      },
      "execution_count": null,
      "outputs": []
    },
    {
      "cell_type": "markdown",
      "source": [
        "탑다운 다이나믹 프로그래밍"
      ],
      "metadata": {
        "id": "KvOY6iku-bRX"
      }
    },
    {
      "cell_type": "code",
      "source": [
        "d = [0] * 100\n",
        "\n",
        "def fibo(x):\n",
        "    if x == 1 or x == 2:\n",
        "        return 1\n",
        "    if d[x] != 0:\n",
        "        return d[x]\n",
        "    d[x] = fibo(x - 1) + fibo(x - 2)\n",
        "    return d[x]\n",
        "\n",
        "print(fibo(99))"
      ],
      "metadata": {
        "id": "-9OnmKl2-cWw"
      },
      "execution_count": null,
      "outputs": []
    },
    {
      "cell_type": "markdown",
      "source": [
        "보텀 업 다이나믹 프로그래밍"
      ],
      "metadata": {
        "id": "f4g8FcEr-eoZ"
      }
    },
    {
      "cell_type": "code",
      "source": [
        "d = [0] * 100\n",
        "d[1] = 1\n",
        "d[2] = 1\n",
        "n = 99\n",
        "\n",
        "for i in range(3, n + 1):\n",
        "    d[i] = d[i - 1] + d[i - 2]\n",
        "print(d[n])"
      ],
      "metadata": {
        "id": "UHJSnDbU-dZU"
      },
      "execution_count": null,
      "outputs": []
    }
  ]
}