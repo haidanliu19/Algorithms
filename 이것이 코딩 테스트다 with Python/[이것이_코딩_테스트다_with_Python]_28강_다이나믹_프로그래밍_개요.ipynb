{
  "nbformat": 4,
  "nbformat_minor": 0,
  "metadata": {
    "colab": {
      "name": "[이것이 코딩 테스트다 with Python] 28강 다이나믹 프로그래밍 개요.ipynb",
      "provenance": [],
      "collapsed_sections": []
    },
    "kernelspec": {
      "name": "python3",
      "display_name": "Python 3"
    },
    "language_info": {
      "name": "python"
    }
  },
  "cells": [
    {
      "cell_type": "markdown",
      "source": [
        "이것이 코딩 테스트다 with Python"
      ],
      "metadata": {
        "id": "K_sWBKEAkd0X"
      }
    },
    {
      "cell_type": "code",
      "source": [
        "def fibo(x):\n",
        "    if x == 1 or x == 2:\n",
        "        return 1\n",
        "    return fibo(x - 1) + fibo(x - 2)\n",
        "\n",
        "print(fibo(4))"
      ],
      "metadata": {
        "colab": {
          "base_uri": "https://localhost:8080/"
        },
        "id": "tWVyXBLdt53N",
        "outputId": "af733a22-b684-4e1b-b4b9-e3d79f75b931"
      },
      "execution_count": 1,
      "outputs": [
        {
          "output_type": "stream",
          "name": "stdout",
          "text": [
            "3\n"
          ]
        }
      ]
    },
    {
      "cell_type": "markdown",
      "source": [
        "# 탑다운 다이나믹 프로그래밍"
      ],
      "metadata": {
        "id": "OR0AEuthmaAt"
      }
    },
    {
      "cell_type": "code",
      "source": [
        "d = [0] * 100\n",
        "\n",
        "def fibo(x):\n",
        "    if x == 1 or x == 2:\n",
        "        return 1\n",
        "    if d[x] != 0:\n",
        "        return d[x]\n",
        "    d[x] = fibo(x - 1) + fibo(x - 2)\n",
        "    return d[x]\n",
        "\n",
        "print(fibo(99))"
      ],
      "metadata": {
        "colab": {
          "base_uri": "https://localhost:8080/"
        },
        "id": "Epn51tBjpZCM",
        "outputId": "b8a16708-ef6d-487e-f736-635a652db2d1"
      },
      "execution_count": 2,
      "outputs": [
        {
          "output_type": "stream",
          "name": "stdout",
          "text": [
            "218922995834555169026\n"
          ]
        }
      ]
    },
    {
      "cell_type": "markdown",
      "source": [
        "보텀 업 다이나믹 프로그래밍"
      ],
      "metadata": {
        "id": "kL4TdLbpmqG3"
      }
    },
    {
      "cell_type": "code",
      "source": [
        "d = [0] * 100\n",
        "d[1] = 1\n",
        "d[2] = 1\n",
        "n = 99\n",
        "\n",
        "for i in range(3, n + 1):\n",
        "    d[i] = d[i - 1] + d[i - 2]\n",
        "print(d[n])"
      ],
      "metadata": {
        "colab": {
          "base_uri": "https://localhost:8080/"
        },
        "id": "zxxDw9P-msVC",
        "outputId": "47a0fe56-2a97-4e6c-b09e-4c3371b36ed4"
      },
      "execution_count": 3,
      "outputs": [
        {
          "output_type": "stream",
          "name": "stdout",
          "text": [
            "218922995834555169026\n"
          ]
        }
      ]
    }
  ]
}