{
  "nbformat": 4,
  "nbformat_minor": 0,
  "metadata": {
    "colab": {
      "name": "[이것이 코딩 테스트다 with Python] 14강 구현 유형 개요.ipynb",
      "provenance": [],
      "collapsed_sections": []
    },
    "kernelspec": {
      "name": "python3",
      "display_name": "Python 3"
    },
    "language_info": {
      "name": "python"
    }
  },
  "cells": [
    {
      "cell_type": "code",
      "execution_count": 1,
      "metadata": {
        "colab": {
          "base_uri": "https://localhost:8080/"
        },
        "id": "uSBSebONoAK8",
        "outputId": "d4ac9d2d-9030-404a-eb80-90fd7bbd9206"
      },
      "outputs": [
        {
          "output_type": "stream",
          "name": "stdout",
          "text": [
            "( 0 , 0 ) ( 0 , 1 ) ( 0 , 2 ) ( 0 , 3 ) ( 0 , 4 ) \n",
            "( 1 , 0 ) ( 1 , 1 ) ( 1 , 2 ) ( 1 , 3 ) ( 1 , 4 ) \n",
            "( 2 , 0 ) ( 2 , 1 ) ( 2 , 2 ) ( 2 , 3 ) ( 2 , 4 ) \n",
            "( 3 , 0 ) ( 3 , 1 ) ( 3 , 2 ) ( 3 , 3 ) ( 3 , 4 ) \n",
            "( 4 , 0 ) ( 4 , 1 ) ( 4 , 2 ) ( 4 , 3 ) ( 4 , 4 ) \n"
          ]
        }
      ],
      "source": [
        "for i in range(5):\n",
        "    for j in range(5):\n",
        "        print('(',i,',',j,')', end=' ')\n",
        "    print()"
      ]
    },
    {
      "cell_type": "code",
      "source": [
        "dx = [0,-1,0,1]\n",
        "dy = [1,0,-1,0]\n",
        "#북 쪽은 1만큼 뺴줘서 \n",
        "\n",
        "x,y = 2,2\n",
        "\n",
        "for i in range(4):\n",
        "    nx = x+dx[i]\n",
        "    ny = y + dy[i]\n",
        "    print(nx, ny)"
      ],
      "metadata": {
        "colab": {
          "base_uri": "https://localhost:8080/"
        },
        "id": "lf70NOrToSmf",
        "outputId": "ac2169d6-d1a7-405b-8fdc-9c6e488ef0e7"
      },
      "execution_count": 3,
      "outputs": [
        {
          "output_type": "stream",
          "name": "stdout",
          "text": [
            "2 3\n",
            "1 2\n",
            "2 1\n",
            "3 2\n"
          ]
        }
      ]
    },
    {
      "cell_type": "code",
      "source": [
        "#n = int(input())\n",
        "n = 5\n",
        "x,y = 1,1\n",
        "#plans = input().split()\n",
        "plans= ['R','R','R','U','D','D']\n",
        "#print(plans)\n",
        "\n",
        "dx = [0,0,-1,1]\n",
        "dy = [-1,1,0,0]\n",
        "move_types = ['L','R','U','D']\n",
        "\n",
        "for plan in plans:\n",
        "    for i in range(len(move_types)):\n",
        "        if plan == move_types[i]:\n",
        "            nx = x+dx[i]\n",
        "            ny = y+dy[i]\n",
        "    \n",
        "    if nx < 1 or ny < 1 or nx>n or ny>n:\n",
        "        continue\n",
        "\n",
        "    x,y = nx,ny\n",
        "\n",
        "print(x,y)"
      ],
      "metadata": {
        "colab": {
          "base_uri": "https://localhost:8080/"
        },
        "id": "fvm2GZ0roeAT",
        "outputId": "db7ca8a9-0cde-4d4b-dfff-a0b12235e960"
      },
      "execution_count": 8,
      "outputs": [
        {
          "output_type": "stream",
          "name": "stdout",
          "text": [
            "3 4\n"
          ]
        }
      ]
    }
  ]
}