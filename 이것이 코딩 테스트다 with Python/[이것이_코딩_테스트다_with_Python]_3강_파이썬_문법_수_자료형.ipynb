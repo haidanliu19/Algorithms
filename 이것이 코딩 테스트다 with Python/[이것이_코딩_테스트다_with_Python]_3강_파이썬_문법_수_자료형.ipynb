{
  "nbformat": 4,
  "nbformat_minor": 0,
  "metadata": {
    "colab": {
      "name": "[이것이 코딩 테스트다 with Python] 3강 파이썬 문법 수 자료형",
      "provenance": [],
      "collapsed_sections": []
    },
    "kernelspec": {
      "name": "python3",
      "display_name": "Python 3"
    },
    "language_info": {
      "name": "python"
    }
  },
  "cells": [
    {
      "cell_type": "markdown",
      "metadata": {
        "id": "u-Rvt5TJfqk4"
      },
      "source": [
        "[이것이 코딩테스트다](https://www.youtube.com/watch?v=INg6kdOEEVc&list=PLVsNizTWUw7H9_of5YCB0FmsSc-K44y81&index=3)"
      ]
    },
    {
      "cell_type": "code",
      "metadata": {
        "colab": {
          "base_uri": "https://localhost:8080/"
        },
        "id": "AVhG5EVQf9ZM",
        "outputId": "f47fc7f7-57f2-4495-fcd8-f8da90de168e"
      },
      "source": [
        "a = 1000\n",
        "print(a)"
      ],
      "execution_count": 2,
      "outputs": [
        {
          "output_type": "stream",
          "name": "stdout",
          "text": [
            "1000\n"
          ]
        }
      ]
    },
    {
      "cell_type": "code",
      "metadata": {
        "colab": {
          "base_uri": "https://localhost:8080/"
        },
        "id": "uA05PD0hf5wg",
        "outputId": "765714b1-77a2-4f81-986f-1b6ce59f8e4a"
      },
      "source": [
        "a= -7\n",
        "print(a)"
      ],
      "execution_count": 3,
      "outputs": [
        {
          "output_type": "stream",
          "name": "stdout",
          "text": [
            "-7\n"
          ]
        }
      ]
    },
    {
      "cell_type": "code",
      "metadata": {
        "colab": {
          "base_uri": "https://localhost:8080/"
        },
        "id": "uSDbnzw5gm8e",
        "outputId": "a5d4050a-cfee-46a3-be5f-bd71740e4bbb"
      },
      "source": [
        "a = 0\n",
        "print(a)"
      ],
      "execution_count": 5,
      "outputs": [
        {
          "output_type": "stream",
          "name": "stdout",
          "text": [
            "0\n"
          ]
        }
      ]
    },
    {
      "cell_type": "code",
      "metadata": {
        "colab": {
          "base_uri": "https://localhost:8080/"
        },
        "id": "TrE7WH4EgxAN",
        "outputId": "02957492-a050-45b5-aa3b-fc1913b4a073"
      },
      "source": [
        "a = 777\n",
        "print(a)\n",
        "\n",
        "a = a+5\n",
        "print(a)\n",
        "\n",
        "a = a+3\n",
        "print(a)"
      ],
      "execution_count": 7,
      "outputs": [
        {
          "output_type": "stream",
          "name": "stdout",
          "text": [
            "777\n",
            "782\n",
            "785\n"
          ]
        }
      ]
    },
    {
      "cell_type": "code",
      "metadata": {
        "colab": {
          "base_uri": "https://localhost:8080/"
        },
        "id": "xtk_32yog9MW",
        "outputId": "a32f408c-6dc6-4c36-d8d4-b66ef518f36a"
      },
      "source": [
        "a = 157.93\n",
        "print(a)"
      ],
      "execution_count": 8,
      "outputs": [
        {
          "output_type": "stream",
          "name": "stdout",
          "text": [
            "157.93\n"
          ]
        }
      ]
    },
    {
      "cell_type": "code",
      "metadata": {
        "colab": {
          "base_uri": "https://localhost:8080/"
        },
        "id": "ou3MmEQxhAak",
        "outputId": "0e61c7d8-e241-4406-c380-b43437ead207"
      },
      "source": [
        "a = - 1837.2\n",
        "print(a)"
      ],
      "execution_count": 10,
      "outputs": [
        {
          "output_type": "stream",
          "name": "stdout",
          "text": [
            "-1837.2\n"
          ]
        }
      ]
    },
    {
      "cell_type": "code",
      "metadata": {
        "colab": {
          "base_uri": "https://localhost:8080/"
        },
        "id": "f10Ie4iVhB-e",
        "outputId": "8b0e91e4-87b6-40c4-83f7-1a39d1794862"
      },
      "source": [
        "a = 5.\n",
        "print(a)"
      ],
      "execution_count": 11,
      "outputs": [
        {
          "output_type": "stream",
          "name": "stdout",
          "text": [
            "5.0\n"
          ]
        }
      ]
    },
    {
      "cell_type": "code",
      "metadata": {
        "id": "PR4K7cx5hFCK"
      },
      "source": [
        "a = -.7\n",
        "print(a)"
      ],
      "execution_count": 13,
      "outputs": []
    },
    {
      "cell_type": "code",
      "metadata": {
        "colab": {
          "base_uri": "https://localhost:8080/"
        },
        "id": "tGAOonsAhGY8",
        "outputId": "55001e11-bd9c-4d21-8d55-9e5c90800aa3"
      },
      "source": [
        "a = 1e9\n",
        "print(a)"
      ],
      "execution_count": 14,
      "outputs": [
        {
          "output_type": "stream",
          "name": "stdout",
          "text": [
            "1000000000.0\n"
          ]
        }
      ]
    },
    {
      "cell_type": "code",
      "metadata": {
        "colab": {
          "base_uri": "https://localhost:8080/"
        },
        "id": "BYqE_N3-hYls",
        "outputId": "480226f0-edb6-4ec4-c489-a8f0f2a26772"
      },
      "source": [
        "a = 75.25e1\n",
        "print(a)"
      ],
      "execution_count": 16,
      "outputs": [
        {
          "output_type": "stream",
          "name": "stdout",
          "text": [
            "752.5\n"
          ]
        }
      ]
    },
    {
      "cell_type": "code",
      "metadata": {
        "colab": {
          "base_uri": "https://localhost:8080/"
        },
        "id": "d4zInrDthaic",
        "outputId": "44a61971-be55-44e8-8153-04e8c274200e"
      },
      "source": [
        "a = 3594e-3\n",
        "print(a)"
      ],
      "execution_count": 17,
      "outputs": [
        {
          "output_type": "stream",
          "name": "stdout",
          "text": [
            "3.594\n"
          ]
        }
      ]
    },
    {
      "cell_type": "code",
      "metadata": {
        "colab": {
          "base_uri": "https://localhost:8080/"
        },
        "id": "zgFVD8vbhgOM",
        "outputId": "c2352d20-bbb4-46c5-f85b-b482f1ad5132"
      },
      "source": [
        "a = int(1e9)\n",
        "print(a)"
      ],
      "execution_count": 18,
      "outputs": [
        {
          "output_type": "stream",
          "name": "stdout",
          "text": [
            "1000000000\n"
          ]
        }
      ]
    },
    {
      "cell_type": "code",
      "metadata": {
        "colab": {
          "base_uri": "https://localhost:8080/"
        },
        "id": "VbulBchuhjp2",
        "outputId": "06ade03b-bd71-470e-e23c-fd4abc330c81"
      },
      "source": [
        "a = 0.3 + 0.6\n",
        "print(a)\n",
        "\n",
        "if a == 0.9:\n",
        "    print(True)\n",
        "else:\n",
        "    print(False)"
      ],
      "execution_count": 19,
      "outputs": [
        {
          "output_type": "stream",
          "name": "stdout",
          "text": [
            "0.8999999999999999\n",
            "False\n"
          ]
        }
      ]
    },
    {
      "cell_type": "code",
      "metadata": {
        "colab": {
          "base_uri": "https://localhost:8080/"
        },
        "id": "CP6lFgrbh_D0",
        "outputId": "a04dc2af-b7ae-4d11-bdd4-494ee303b1a3"
      },
      "source": [
        "a = 0.3 + 0.6\n",
        "print(round(a,4))\n",
        "\n",
        "if round(a,4) == 0.9:\n",
        "    print(True)\n",
        "else:\n",
        "    print(False)"
      ],
      "execution_count": 20,
      "outputs": [
        {
          "output_type": "stream",
          "name": "stdout",
          "text": [
            "0.9\n",
            "True\n"
          ]
        }
      ]
    },
    {
      "cell_type": "code",
      "metadata": {
        "colab": {
          "base_uri": "https://localhost:8080/"
        },
        "id": "S33G-scziXTY",
        "outputId": "5717c51c-d961-4514-922e-dd8e4ae4a692"
      },
      "source": [
        "a = 7\n",
        "b = 3\n",
        "\n",
        "print(a/b)\n",
        "print(a%b)\n",
        "print(a//b)"
      ],
      "execution_count": 21,
      "outputs": [
        {
          "output_type": "stream",
          "name": "stdout",
          "text": [
            "2.3333333333333335\n",
            "1\n",
            "2\n"
          ]
        }
      ]
    },
    {
      "cell_type": "code",
      "metadata": {
        "colab": {
          "base_uri": "https://localhost:8080/"
        },
        "id": "eUIoj8f2ibUb",
        "outputId": "d0da12e5-07fc-4044-d1bf-a04fd07d9efb"
      },
      "source": [
        "a = 5\n",
        "b = 3\n",
        "print(a ** b)\n",
        "print(a ** 0.5)"
      ],
      "execution_count": 23,
      "outputs": [
        {
          "output_type": "stream",
          "name": "stdout",
          "text": [
            "125\n",
            "2.23606797749979\n"
          ]
        }
      ]
    },
    {
      "cell_type": "code",
      "metadata": {
        "id": "Y-_n29Vyig0c"
      },
      "source": [
        ""
      ],
      "execution_count": null,
      "outputs": []
    }
  ]
}