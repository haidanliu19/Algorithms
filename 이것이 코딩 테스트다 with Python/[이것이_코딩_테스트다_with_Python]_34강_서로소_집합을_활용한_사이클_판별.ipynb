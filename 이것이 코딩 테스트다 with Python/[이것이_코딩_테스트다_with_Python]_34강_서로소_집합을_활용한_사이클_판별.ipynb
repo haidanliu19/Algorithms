{
  "nbformat": 4,
  "nbformat_minor": 0,
  "metadata": {
    "colab": {
      "name": "[이것이 코딩 테스트다 with Python] 34강 서로소 집합을 활용한 사이클 판별",
      "provenance": [],
      "collapsed_sections": []
    },
    "kernelspec": {
      "name": "python3",
      "display_name": "Python 3"
    },
    "language_info": {
      "name": "python"
    }
  },
  "cells": [
    {
      "cell_type": "code",
      "execution_count": 7,
      "metadata": {
        "colab": {
          "base_uri": "https://localhost:8080/"
        },
        "id": "LYcFlkDmaBQE",
        "outputId": "851e1aa3-e704-4090-b994-2fa57ca38348"
      },
      "outputs": [
        {
          "output_type": "stream",
          "name": "stdout",
          "text": [
            "3 3\n",
            "1 2\n",
            "1 3\n",
            "2 3\n",
            "사이클이 발생했습니다.\n"
          ]
        }
      ],
      "source": [
        "def find_parent(parent, x):\n",
        "    # 루트 노드를 찾을 때 까지 재귀 호출 \n",
        "    if parent[x] != x:\n",
        "        parent[x] = find_parent(parent, parent[x])\n",
        "    return parent[x]\n",
        "\n",
        "# 두 원소가 혹산 집합을 합치기\n",
        "def union_parent(parent, a, b):\n",
        "    a = find_parent(parent, a)\n",
        "    b = find_parent(parent, b)\n",
        "    if a < b:\n",
        "        parent[b] = a\n",
        "    else:\n",
        "        parent[a] = b\n",
        "\n",
        "v, e = map(int, input().split())\n",
        "parent = [0] * (v + 1)\n",
        "\n",
        "for i in range(1, v + 1):\n",
        "    parent[i] = i\n",
        "\n",
        "cycle = False # 사이클 발생 여부 \n",
        "\n",
        "for i in range(e):\n",
        "    a, b = map(int, input().split())\n",
        "    if find_parent(parent, a) == find_parent(parent, b):\n",
        "        cycle = True\n",
        "        break\n",
        "    else:\n",
        "        union_parent(parent, a, b)\n",
        "\n",
        "if cycle:\n",
        "    print(\"사이클이 발생했습니다.\")\n",
        "else:\n",
        "    print(\"사이클이 발생하지 않았습니다.\")"
      ]
    },
    {
      "cell_type": "code",
      "source": [
        ""
      ],
      "metadata": {
        "id": "PA_m1V-9brr1"
      },
      "execution_count": null,
      "outputs": []
    },
    {
      "cell_type": "code",
      "source": [
        ""
      ],
      "metadata": {
        "id": "1VeshPNtezPd"
      },
      "execution_count": null,
      "outputs": []
    }
  ]
}