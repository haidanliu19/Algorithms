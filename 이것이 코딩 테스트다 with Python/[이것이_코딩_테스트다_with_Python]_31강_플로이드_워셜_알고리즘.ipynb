{
  "nbformat": 4,
  "nbformat_minor": 0,
  "metadata": {
    "colab": {
      "name": "[이것이_코딩_테스트다_with_Python]_31강_플로이드_워셜_알고리즘.ipynb",
      "provenance": [],
      "collapsed_sections": []
    },
    "kernelspec": {
      "name": "python3",
      "display_name": "Python 3"
    },
    "language_info": {
      "name": "python"
    }
  },
  "cells": [
    {
      "cell_type": "markdown",
      "source": [
        "[이것이 코딩 테스트다 with Python]"
      ],
      "metadata": {
        "id": "g55uQ1eXXImd"
      }
    },
    {
      "cell_type": "code",
      "source": [
        "INF = int(1e9)\n",
        "\n",
        "n = int(input())\n",
        "m = int(input())\n",
        "graph = [[INF] * (n + 1) for _ in range(n + 1)]\n",
        "\n",
        "for a in range(1, n + 1):\n",
        "    for b in range(1, n + 1):\n",
        "        if a == b:\n",
        "            graph[a][b] = 0\n",
        "for _ in range(m):\n",
        "    a, b, c = map(int, input().split())\n",
        "    graph[a][b] = c\n",
        "\n",
        "for k in range(1, n + 1):\n",
        "    for a in range(1, n + 1):\n",
        "        for b in range(1, n + 1):\n",
        "            graph[a][b] = min(graph[a][b], graph[a][k] + graph[k][b])\n",
        "\n",
        "for in range(1, n + 1):\n",
        "    for b in range(1, n + 1):\n",
        "        if graph[a][b] == INF:\n",
        "            print(\"INFINITY\", end = \" \")\n",
        "        else:\n",
        "            print(graph[a][b] , end = \" \")\n",
        "    print()"
      ],
      "metadata": {
        "id": "IXqCFBQ4r2kM"
      },
      "execution_count": null,
      "outputs": []
    },
    {
      "cell_type": "code",
      "source": [
        ""
      ],
      "metadata": {
        "id": "JYEel_XtowgB"
      },
      "execution_count": null,
      "outputs": []
    }
  ]
}