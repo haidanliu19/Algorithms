{
  "nbformat": 4,
  "nbformat_minor": 0,
  "metadata": {
    "colab": {
      "name": "전화번호 목록.ipynb",
      "provenance": [],
      "collapsed_sections": []
    },
    "kernelspec": {
      "name": "python3",
      "display_name": "Python 3"
    },
    "language_info": {
      "name": "python"
    }
  },
  "cells": [
    {
      "cell_type": "code",
      "execution_count": 79,
      "metadata": {
        "colab": {
          "base_uri": "https://localhost:8080/"
        },
        "id": "BAc8hEVFkNrs",
        "outputId": "558d9e4d-5b16-495c-fc65-8a2d35bc4122"
      },
      "outputs": [
        {
          "output_type": "execute_result",
          "data": {
            "text/plain": [
              "False"
            ]
          },
          "metadata": {},
          "execution_count": 79
        }
      ],
      "source": [
        "def solution(phone_book):\n",
        "    answer = True\n",
        "    phone_book_sort = sorted(phone_book)\n",
        "    for i in range(1, len(phone_book_sort)):\n",
        "        if phone_book_sort[i-1] == phone_book_sort[i][:len(phone_book_sort[i-1])]:\n",
        "            answer = False\n",
        "            break\n",
        "    return answer\n",
        "\n",
        "phone_book =[\"934793\", \"34\", \"44\", \"9347\"]\n",
        "solution(phone_book)"
      ]
    },
    {
      "cell_type": "markdown",
      "source": [
        "다른 사람 풀이"
      ],
      "metadata": {
        "id": "RoVb8NYHx6Be"
      }
    },
    {
      "cell_type": "code",
      "source": [
        "def solution(phone_book):\n",
        "    answer = True\n",
        "    hash_map = {}\n",
        "    for phone_number in phone_book:\n",
        "        hash_map[phone_number] = 1\n",
        "    print(hash_map)\n",
        "    for phone_number in phone_book:\n",
        "        temp = \"\"\n",
        "        for number in phone_number:\n",
        "            temp += number\n",
        "            if temp in hash_map and temp != phone_number:\n",
        "                answer = False\n",
        "    return answer\n",
        "\n",
        "phone_book =[\"934793\", \"34\", \"44\", \"9347\"]\n",
        "solution(phone_book)"
      ],
      "metadata": {
        "colab": {
          "base_uri": "https://localhost:8080/"
        },
        "id": "3pFGRF3blfyD",
        "outputId": "6a26ba95-ab36-47c0-f276-c0fbfa044c12"
      },
      "execution_count": 80,
      "outputs": [
        {
          "output_type": "stream",
          "name": "stdout",
          "text": [
            "{'934793': 1, '34': 1, '44': 1, '9347': 1}\n"
          ]
        },
        {
          "output_type": "execute_result",
          "data": {
            "text/plain": [
              "False"
            ]
          },
          "metadata": {},
          "execution_count": 80
        }
      ]
    }
  ]
}