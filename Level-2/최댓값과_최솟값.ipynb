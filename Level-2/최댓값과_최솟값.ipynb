{
  "nbformat": 4,
  "nbformat_minor": 0,
  "metadata": {
    "colab": {
      "name": "최댓값과 최솟값.ipynb",
      "provenance": []
    },
    "kernelspec": {
      "name": "python3",
      "display_name": "Python 3"
    },
    "language_info": {
      "name": "python"
    }
  },
  "cells": [
    {
      "cell_type": "code",
      "metadata": {
        "colab": {
          "base_uri": "https://localhost:8080/",
          "height": 36
        },
        "id": "TONtev1KrYYp",
        "outputId": "d871aa39-8fad-430e-fb33-2395805a0dd8"
      },
      "source": [
        "def solution(s):\n",
        "    answer = [int(x) for x in s.split()]\n",
        "    return \" \".join([str(min(answer)), str(max(answer))])\n",
        "\n",
        "s= \t\"-1 -2 -3 -4\"\n",
        "solution(s)"
      ],
      "execution_count": 33,
      "outputs": [
        {
          "output_type": "execute_result",
          "data": {
            "application/vnd.google.colaboratory.intrinsic+json": {
              "type": "string"
            },
            "text/plain": [
              "'-4 -1'"
            ]
          },
          "metadata": {},
          "execution_count": 33
        }
      ]
    },
    {
      "cell_type": "code",
      "metadata": {
        "id": "7KD7R28hrst1"
      },
      "source": [
        ""
      ],
      "execution_count": null,
      "outputs": []
    }
  ]
}