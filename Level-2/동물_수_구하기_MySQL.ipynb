{
  "nbformat": 4,
  "nbformat_minor": 0,
  "metadata": {
    "colab": {
      "name": "동물 수 구하기_MySQL.ipynb",
      "provenance": [],
      "collapsed_sections": []
    },
    "kernelspec": {
      "name": "python3",
      "display_name": "Python 3"
    },
    "language_info": {
      "name": "python"
    }
  },
  "cells": [
    {
      "cell_type": "code",
      "execution_count": 80,
      "metadata": {
        "id": "BAc8hEVFkNrs"
      },
      "outputs": [],
      "source": [
        "-- 코드를 입력하세요\n",
        "SELECT COUNT(ANIMAL_ID) count\n",
        "FROM ANIMAL_INS"
      ]
    }
  ]
}