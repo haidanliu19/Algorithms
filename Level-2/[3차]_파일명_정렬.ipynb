{
  "nbformat": 4,
  "nbformat_minor": 0,
  "metadata": {
    "colab": {
      "name": "[3차] 파일명 정렬.ipynb",
      "provenance": [],
      "collapsed_sections": []
    },
    "kernelspec": {
      "name": "python3",
      "display_name": "Python 3"
    },
    "language_info": {
      "name": "python"
    }
  },
  "cells": [
    {
      "cell_type": "code",
      "execution_count": 158,
      "metadata": {
        "colab": {
          "base_uri": "https://localhost:8080/"
        },
        "id": "ok4v3P7j2f_s",
        "outputId": "5ad99c12-f41e-45a4-ca92-d3d826d8bc09"
      },
      "outputs": [
        {
          "output_type": "execute_result",
          "data": {
            "text/plain": [
              "['img1.png', 'IMG01.GIF', 'img02.png', 'img2.JPG', 'img10.png', 'img12.png']"
            ]
          },
          "metadata": {},
          "execution_count": 158
        }
      ],
      "source": [
        "import re\n",
        "\n",
        "def solution(files):\n",
        "    answer = []\n",
        "    list_ = []\n",
        "    for idx,file in enumerate(files):\n",
        "        # 숫자\n",
        "        regex = re.compile(r'\\d+')\n",
        "        matchobj = [(m.start(0), m.end(0)) for m in re.finditer(regex, file)]\n",
        "        file_head = file[0:matchobj[0][0]]\n",
        "        file_number = file[matchobj[0][0]:matchobj[0][1]]\n",
        "        file_tail= file[matchobj[0][1]:]\n",
        "        file_idx = idx\n",
        "        list_.append([file_head,file_number, file_tail ])\n",
        "    list_ = sorted(list_ , key=lambda x: (x[0].upper(), int(x[1])))\n",
        "    answer = [\"\".join(i) for i in list_]\n",
        "    return answer\n",
        "\n",
        "files = [\"img12.png\", \"img10.png\", \"img02.png\", \"img1.png\", \"IMG01.GIF\", \"img2.JPG\"]\n",
        "#files = [\"F-5 Freedom Fighter\", \"B-50 Superfortress\", \"A-10 Thunderbolt II\", \"F-14 Tomcat\"]\n",
        "solution(files)"
      ]
    }
  ]
}