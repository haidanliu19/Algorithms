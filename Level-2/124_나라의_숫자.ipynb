{
  "nbformat": 4,
  "nbformat_minor": 0,
  "metadata": {
    "colab": {
      "name": "124 나라의 숫자.ipynb",
      "provenance": [],
      "collapsed_sections": []
    },
    "kernelspec": {
      "name": "python3",
      "display_name": "Python 3"
    },
    "language_info": {
      "name": "python"
    }
  },
  "cells": [
    {
      "cell_type": "code",
      "source": [
        "\n",
        "def solution(n):\n",
        "    answer = ''\n",
        "    number = [1, 2, 4]\n",
        "    numbers = []\n",
        "    n_ = n\n",
        "    while n > 3:\n",
        "        div, mod = divmod(n, len(number))\n",
        "        if mod == 0:\n",
        "            numbers.insert(0, 3)\n",
        "            n = div - 1\n",
        "        else:\n",
        "            numbers.insert(0, mod)\n",
        "            n = div\n",
        "    numbers.insert(0, n)\n",
        "    #print(n_, n, numbers, [str(number[i-1]) for i in numbers])\n",
        "    answer= \"\".join([str(number[i-1]) for i in numbers])\n",
        "    return answer\n",
        "\n",
        "for n in range(1, 17):\n",
        "    print(n, solution(n))\n",
        "    solution(n)"
      ],
      "metadata": {
        "colab": {
          "base_uri": "https://localhost:8080/"
        },
        "id": "yZZVCCkg_eq0",
        "outputId": "bf78a828-8d4b-4f91-e545-749e8fa15bdb"
      },
      "execution_count": 78,
      "outputs": [
        {
          "output_type": "stream",
          "name": "stdout",
          "text": [
            "1 1\n",
            "2 2\n",
            "3 4\n",
            "4 11\n",
            "5 12\n",
            "6 14\n",
            "7 21\n",
            "8 22\n",
            "9 24\n",
            "10 41\n",
            "11 42\n",
            "12 44\n",
            "13 111\n",
            "14 112\n",
            "15 114\n",
            "16 121\n"
          ]
        }
      ]
    },
    {
      "cell_type": "code",
      "source": [
        ""
      ],
      "metadata": {
        "id": "TU4GkMMc_jg9"
      },
      "execution_count": null,
      "outputs": []
    }
  ]
}