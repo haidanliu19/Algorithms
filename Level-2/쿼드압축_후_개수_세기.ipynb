{
  "nbformat": 4,
  "nbformat_minor": 0,
  "metadata": {
    "colab": {
      "name": "쿼드압축 후 개수 세기.ipynb",
      "provenance": [],
      "collapsed_sections": []
    },
    "kernelspec": {
      "name": "python3",
      "display_name": "Python 3"
    },
    "language_info": {
      "name": "python"
    }
  },
  "cells": [
    {
      "cell_type": "code",
      "execution_count": 73,
      "metadata": {
        "id": "PDL6zU0X4zzY",
        "colab": {
          "base_uri": "https://localhost:8080/"
        },
        "outputId": "c36ab5c6-4811-43bd-de1a-6092a6cf1605"
      },
      "outputs": [
        {
          "output_type": "execute_result",
          "data": {
            "text/plain": [
              "[10, 15]"
            ]
          },
          "metadata": {},
          "execution_count": 73
        }
      ],
      "source": [
        "answer = {0:0, 1:0}\n",
        "\n",
        "\n",
        "def findArr(startx, endx, starty, endy , arr):\n",
        "    value = arr[startx][starty]\n",
        "    \n",
        "    issame = True\n",
        "    for i in range(startx, endx):\n",
        "        for j in range(starty, endy):\n",
        "            if arr[i][j] != value:\n",
        "                issame= False\n",
        "                break\n",
        "\n",
        "        if not issame :\n",
        "            break\n",
        "    if issame :\n",
        "        answer[value] = answer.get(value) +1\n",
        "        return (True if value==1 else False,True,startx, endx, starty, endy)\n",
        "    else:\n",
        "        topleft = findArr(startx, (startx+endx)//2 , starty,(starty+endy)//2 , arr)\n",
        "        topright = findArr(startx, (startx+endx)//2 , (starty+endy)//2,endy , arr)\n",
        "        bottomleft = findArr((startx+endx)//2, endx ,starty,(starty+endy)//2 , arr)\n",
        "        bottomright = findArr((startx+endx)//2, endx ,(starty+endy)//2,endy , arr)\n",
        "        return (False, False, topleft,topright,bottomleft,bottomright)\n",
        "\n",
        "def solution(arr):\n",
        "    n = len(arr)\n",
        "    findArr(0, n, 0, n , arr)\n",
        "    return list(answer.values())\n",
        "\n",
        "#arr= [[1,1,0,0],[1,0,0,0],[1,0,0,1],[1,1,1,1]]\n",
        " \n",
        "arr=[[1,1,1,1,1,1,1,1],[0,1,1,1,1,1,1,1],[0,0,0,0,1,1,1,1],[0,1,0,0,1,1,1,1],[0,0,0,0,0,0,1,1],[0,0,0,0,0,0,0,1],[0,0,0,0,1,0,0,1],[0,0,0,0,1,1,1,1]]\n",
        "solution(arr)"
      ]
    },
    {
      "cell_type": "code",
      "source": [
        "def findArr(startx, endx, starty, endy , arr):\n",
        "    value = arr[startx][starty]\n",
        "    \n",
        "    issame = True\n",
        "    for i in range(startx, endx):\n",
        "        for j in range(starty, endy):\n",
        "            if arr[i][j] != value:\n",
        "                issame= False\n",
        "                break\n",
        "    if issame :\n",
        "        return (True if value==1 else False,True,startx, endx, starty, endy,\"3\")\n",
        "    else:\n",
        "        if endx - startx ==2:\n",
        "            return (False, False, startx, endx, starty, endy,\"2\")\n",
        "        else:\n",
        "            topleft = findArr(startx, (startx+endx)//2 , starty,(starty+endy)//2 , arr)\n",
        "            topright = findArr(startx, (startx+endx)//2 , (starty+endy)//2,endy , arr)\n",
        "            bottomleft = findArr((startx+endx)//2, endx ,starty,(starty+endy)//2 , arr)\n",
        "            bottomright = findArr((startx+endx)//2, endx ,(starty+endy)//2,endy , arr)\n",
        "            return (False, False, topleft,topright,bottomleft,bottomright,\"1\")\n",
        " \n",
        "\n",
        "startx = 0\n",
        "endx= 4\n",
        "starty = 0\n",
        "endy = 4\n",
        "arr= [[1,1,0,0],[1,0,0,0],[1,0,0,1],[1,1,1,1]]\n",
        "findArr(startx, endx, starty, endy , arr)   "
      ],
      "metadata": {
        "colab": {
          "base_uri": "https://localhost:8080/"
        },
        "id": "JE5GQb3a63Vf",
        "outputId": "edb847f7-1e40-4653-b571-73867b835e7f"
      },
      "execution_count": 38,
      "outputs": [
        {
          "output_type": "execute_result",
          "data": {
            "text/plain": [
              "(False,\n",
              " False,\n",
              " (False, False, 0, 2, 0, 2, '2'),\n",
              " (False, True, 0, 2, 2, 4, '3'),\n",
              " (False, False, 2, 4, 0, 2, '2'),\n",
              " (False, False, 2, 4, 2, 4, '2'),\n",
              " '1')"
            ]
          },
          "metadata": {},
          "execution_count": 38
        }
      ]
    },
    {
      "cell_type": "code",
      "source": [
        "def findArr(startx, endx, starty, endy , arr):\n",
        "    value = arr[startx][starty]\n",
        "    \n",
        "    issame = True\n",
        "    for i in range(startx, endx):\n",
        "        for j in range(starty, endy):\n",
        "            if arr[i][j] != value:\n",
        "                issame= False\n",
        "                break\n",
        "    if issame :\n",
        "        return (True if value==1 else False,True,startx, endx, starty, endy)\n",
        "    else:\n",
        "        topleft = findArr(startx, (startx+endx)//2 , starty,(starty+endy)//2 , arr)\n",
        "        topright = findArr(startx, (startx+endx)//2 , (starty+endy)//2,endy , arr)\n",
        "        bottomleft = findArr((startx+endx)//2, endx ,starty,(starty+endy)//2 , arr)\n",
        "        bottomright = findArr((startx+endx)//2, endx ,(starty+endy)//2,endy , arr)\n",
        "        return (False, False, topleft,topright,bottomleft,bottomright)\n",
        " \n",
        "arr=[[1,1,1,1,1,1,1,1],[0,1,1,1,1,1,1,1],[0,0,0,0,1,1,1,1],[0,1,0,0,1,1,1,1],[0,0,0,0,0,0,1,1],[0,0,0,0,0,0,0,1],[0,0,0,0,1,0,0,1],[0,0,0,0,1,1,1,1]]\n",
        "startx = 0\n",
        "endx= len(arr)//2\n",
        "starty = 0\n",
        "endy = len(arr)//2\n",
        "findArr(startx, endx, starty, endy , arr)   "
      ],
      "metadata": {
        "colab": {
          "base_uri": "https://localhost:8080/"
        },
        "id": "vp16qmR0Daeq",
        "outputId": "39ac72f6-2ce0-4ecb-813a-5b794523f232"
      },
      "execution_count": 41,
      "outputs": [
        {
          "output_type": "execute_result",
          "data": {
            "text/plain": [
              "(False,\n",
              " False,\n",
              " (False, False, 0, 2, 0, 2),\n",
              " (True, True, 0, 2, 2, 4),\n",
              " (False, False, 2, 4, 0, 2),\n",
              " (False, True, 2, 4, 2, 4))"
            ]
          },
          "metadata": {},
          "execution_count": 41
        }
      ]
    }
  ]
}