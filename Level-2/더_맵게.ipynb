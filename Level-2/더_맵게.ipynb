{
  "nbformat": 4,
  "nbformat_minor": 0,
  "metadata": {
    "colab": {
      "name": "더 맵게.ipynb",
      "provenance": [],
      "collapsed_sections": []
    },
    "kernelspec": {
      "name": "python3",
      "display_name": "Python 3"
    },
    "language_info": {
      "name": "python"
    }
  },
  "cells": [
    {
      "cell_type": "code",
      "source": [
        "import heapq\n",
        "def solution(scoville, K):\n",
        "    answer = 0\n",
        "    heapq.heapify(scoville)\n",
        "    while scoville[0] < K:\n",
        "        if len(scoville) > 1:\n",
        "            scoville_min = heapq.heappop(scoville)\n",
        "            scoville_min2 = heapq.heappop(scoville)\n",
        "            scoville_value = scoville_min + scoville_min2*2\n",
        "            heapq.heappush(scoville, scoville_value)\n",
        "            answer += 1\n",
        "        else:\n",
        "            return -1\n",
        "    #print(scoville)\n",
        "    \n",
        "    return answer\n",
        "\n",
        "scoville = [1, 2, 3, 9, 10, 12]\n",
        "K = 7\n",
        "solution(scoville, K)"
      ],
      "metadata": {
        "colab": {
          "base_uri": "https://localhost:8080/"
        },
        "id": "vqfMGxo8Mw_L",
        "outputId": "b6fee343-28bd-46e8-c6a8-5e40ddb60f17"
      },
      "execution_count": 48,
      "outputs": [
        {
          "output_type": "execute_result",
          "data": {
            "text/plain": [
              "2"
            ]
          },
          "metadata": {},
          "execution_count": 48
        }
      ]
    },
    {
      "cell_type": "code",
      "source": [
        ""
      ],
      "metadata": {
        "id": "ZGkARaKKPqR6"
      },
      "execution_count": null,
      "outputs": []
    }
  ]
}