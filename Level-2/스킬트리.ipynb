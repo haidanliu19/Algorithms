{
  "nbformat": 4,
  "nbformat_minor": 0,
  "metadata": {
    "colab": {
      "name": "스킬트리.ipynb",
      "provenance": [],
      "collapsed_sections": []
    },
    "kernelspec": {
      "name": "python3",
      "display_name": "Python 3"
    },
    "language_info": {
      "name": "python"
    }
  },
  "cells": [
    {
      "cell_type": "code",
      "execution_count": 125,
      "metadata": {
        "id": "mQrKVxYYwPP5",
        "colab": {
          "base_uri": "https://localhost:8080/"
        },
        "outputId": "073012d2-81e2-41ed-a16f-dbe50453bd88"
      },
      "outputs": [
        {
          "output_type": "stream",
          "name": "stdout",
          "text": [
            "[0, 1, 2, 3]\n"
          ]
        },
        {
          "output_type": "execute_result",
          "data": {
            "text/plain": [
              "2"
            ]
          },
          "metadata": {},
          "execution_count": 125
        }
      ],
      "source": [
        "def findIndex(skill, i):\n",
        "    if i in skill:\n",
        "        return skill.index(i)\n",
        "\n",
        "def solution(skill, skill_trees):\n",
        "    answer = 0\n",
        "    match_skill = [i for i in range(len(skill))]\n",
        "    print(match_skill)\n",
        "\n",
        "    for skill_tree in skill_trees:\n",
        "        result= []\n",
        "        for i in skill_tree:\n",
        "            skill_index = findIndex(skill, i)\n",
        "            if (skill_index) != None:\n",
        "                result.append(skill_index)\n",
        "        if len(result) == 0:\n",
        "            answer+=1\n",
        "        else:\n",
        "            if sorted(result) == match_skill[:len(result)] and result == match_skill[:len(result)]:\n",
        "                answer+=1\n",
        "\n",
        "    return answer\n",
        "\n",
        "skill = \"CBDK\"\n",
        "skill_trees = [\"BACDE\", \"CBADF\", \"AECB\", \"BDA\"]\n",
        "solution(skill, skill_trees)"
      ]
    },
    {
      "cell_type": "code",
      "source": [
        "def solution(skill, skill_trees):\n",
        "    answer = 0\n",
        "    match_skill = [i for i in range(len(skill))]\n",
        "\n",
        "    for skill_tree in skill_trees:\n",
        "        result= []\n",
        "        for i in skill_tree:\n",
        "            skill_index = skill.find(i)\n",
        "            if (skill_index) != -1:\n",
        "                result.append(skill_index)\n",
        "        if len(result) == 0:\n",
        "            answer+=1\n",
        "        else:\n",
        "            if sorted(result) == match_skill[:len(result)] and result == match_skill[:len(result)]:\n",
        "                answer+=1\n",
        "\n",
        "    return answer\n",
        "\n",
        "skill = \"CBDK\"\n",
        "skill_trees = [\"BACDE\", \"CBADF\", \"AECB\", \"BDA\"]\n",
        "solution(skill, skill_trees)"
      ],
      "metadata": {
        "colab": {
          "base_uri": "https://localhost:8080/"
        },
        "id": "f518jU36A2Nn",
        "outputId": "3f929d13-334e-4c7b-e527-8370863cf669"
      },
      "execution_count": 128,
      "outputs": [
        {
          "output_type": "execute_result",
          "data": {
            "text/plain": [
              "2"
            ]
          },
          "metadata": {},
          "execution_count": 128
        }
      ]
    },
    {
      "cell_type": "code",
      "source": [
        "def solution(skill, skill_trees):\n",
        "    answer = 0\n",
        "    match_skill = \"\".join([str(i) for i in range(len(skill))])\n",
        "    for skill_tree in skill_trees:\n",
        "        result= \"\"\n",
        "        for i in skill_tree:\n",
        "            skill_index = skill.find(i)\n",
        "            if (skill_index) != -1:\n",
        "                result += str(skill_index)\n",
        "        \n",
        "        if result == match_skill[:len(result)]:\n",
        "            answer+= 1\n",
        "\n",
        "    return answer\n",
        "\n",
        "skill = \"CBDK\"\n",
        "skill_trees = [\"BACDE\", \"CBADF\", \"AECB\", \"BDA\"]\n",
        "solution(skill, skill_trees)"
      ],
      "metadata": {
        "colab": {
          "base_uri": "https://localhost:8080/"
        },
        "id": "04Lh4wy4CH99",
        "outputId": "76cbb1a3-112d-4898-fd51-9dcbbbcfa1be"
      },
      "execution_count": 134,
      "outputs": [
        {
          "output_type": "execute_result",
          "data": {
            "text/plain": [
              "2"
            ]
          },
          "metadata": {},
          "execution_count": 134
        }
      ]
    }
  ]
}