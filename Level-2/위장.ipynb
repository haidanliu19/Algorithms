{
  "nbformat": 4,
  "nbformat_minor": 0,
  "metadata": {
    "colab": {
      "name": "위장.ipynb",
      "provenance": [],
      "collapsed_sections": []
    },
    "kernelspec": {
      "name": "python3",
      "display_name": "Python 3"
    },
    "language_info": {
      "name": "python"
    }
  },
  "cells": [
    {
      "cell_type": "code",
      "execution_count": 28,
      "metadata": {
        "id": "BAc8hEVFkNrs",
        "colab": {
          "base_uri": "https://localhost:8080/"
        },
        "outputId": "fafb794d-2a21-4ed7-e749-2ccca5145d46"
      },
      "outputs": [
        {
          "output_type": "stream",
          "name": "stdout",
          "text": [
            "2\n",
            "1\n"
          ]
        },
        {
          "output_type": "execute_result",
          "data": {
            "text/plain": [
              "5"
            ]
          },
          "metadata": {},
          "execution_count": 28
        }
      ],
      "source": [
        "def solution(clothes):\n",
        "    answer = 1\n",
        "    dict_= {}\n",
        "    for value, key in clothes:\n",
        "        if not dict_.get(key):\n",
        "            dict_[key] = 1\n",
        "        else:\n",
        "            dict_[key] += 1\n",
        "    for value in dict_.values():\n",
        "        answer *= (value + 1)\n",
        "    return answer - 1\n",
        "\n",
        "clothes = [[\"yellowhat\", \"headgear\"], [\"bluesunglasses\", \"eyewear\"], [\"green_turban\", \"headgear\"]]\n",
        "solution(clothes)"
      ]
    },
    {
      "cell_type": "markdown",
      "source": [
        "다른 사람 풀이 "
      ],
      "metadata": {
        "id": "AF-UFSh_X7sQ"
      }
    },
    {
      "cell_type": "code",
      "source": [
        "def solution(clothes):\n",
        "    from collections import Counter\n",
        "    from functools import reduce\n",
        "    cnt = Counter([kind for name, kind in clothes])\n",
        "    print(cnt)\n",
        "    answer = reduce(lambda x, y: x*(y+1), cnt.values(), 1) - 1\n",
        "    return answer\n",
        "\n",
        "clothes = [[\"yellowhat\", \"headgear\"], [\"bluesunglasses\", \"eyewear\"], [\"green_turban\", \"headgear\"]]\n",
        "solution(clothes)"
      ],
      "metadata": {
        "colab": {
          "base_uri": "https://localhost:8080/"
        },
        "id": "w1sqPna5TaaU",
        "outputId": "43de08b8-459c-47d2-9d8e-5b797b085a0f"
      },
      "execution_count": 29,
      "outputs": [
        {
          "output_type": "stream",
          "name": "stdout",
          "text": [
            "Counter({'headgear': 2, 'eyewear': 1})\n"
          ]
        },
        {
          "output_type": "execute_result",
          "data": {
            "text/plain": [
              "5"
            ]
          },
          "metadata": {},
          "execution_count": 29
        }
      ]
    }
  ]
}