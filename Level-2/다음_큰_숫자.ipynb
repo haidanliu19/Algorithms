{
  "nbformat": 4,
  "nbformat_minor": 0,
  "metadata": {
    "colab": {
      "name": "다음 큰 숫자.ipynb",
      "provenance": [],
      "collapsed_sections": []
    },
    "kernelspec": {
      "name": "python3",
      "display_name": "Python 3"
    },
    "language_info": {
      "name": "python"
    }
  },
  "cells": [
    {
      "cell_type": "code",
      "metadata": {
        "id": "CUbPFlHlmFk5",
        "colab": {
          "base_uri": "https://localhost:8080/"
        },
        "outputId": "4d17aee3-ec2d-4c79-85b3-394ec2080a47"
      },
      "source": [
        "def solution(n):\n",
        "    answer = 0\n",
        "    s = bin(n)\n",
        "    i = 1\n",
        "    while True:\n",
        "        s_ = str(bin(n+i))\n",
        "        if str(s).count('1') == str(s_).count('1'):\n",
        "            answer = n+i\n",
        "            break\n",
        "        i += 1\n",
        "    return answer\n",
        "\n",
        "n = 78\n",
        "solution(n)"
      ],
      "execution_count": 10,
      "outputs": [
        {
          "output_type": "execute_result",
          "data": {
            "text/plain": [
              "83"
            ]
          },
          "metadata": {},
          "execution_count": 10
        }
      ]
    },
    {
      "cell_type": "code",
      "source": [
        "def solution(n):\n",
        "    answer = 0\n",
        "    s = str(bin(n))\n",
        "    i = 1\n",
        "    while True:\n",
        "        s_ = str(bin(n+i))\n",
        "        if s.count('1') == s_.count('1'):\n",
        "            answer = n+i\n",
        "            break\n",
        "        i += 1\n",
        "    return answer\n",
        "\n",
        "n = 78\n",
        "solution(n)"
      ],
      "metadata": {
        "colab": {
          "base_uri": "https://localhost:8080/"
        },
        "id": "zcWv7gnvoF3G",
        "outputId": "ef0578a6-e203-42f3-d2fe-71ea3bd27282"
      },
      "execution_count": 15,
      "outputs": [
        {
          "output_type": "execute_result",
          "data": {
            "text/plain": [
              "83"
            ]
          },
          "metadata": {},
          "execution_count": 15
        }
      ]
    }
  ]
}