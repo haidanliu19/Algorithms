{
  "nbformat": 4,
  "nbformat_minor": 0,
  "metadata": {
    "colab": {
      "name": "기능개발.ipynb",
      "provenance": [],
      "collapsed_sections": []
    },
    "kernelspec": {
      "name": "python3",
      "display_name": "Python 3"
    },
    "language_info": {
      "name": "python"
    }
  },
  "cells": [
    {
      "cell_type": "markdown",
      "source": [
        "출처 : 프로그래머스 "
      ],
      "metadata": {
        "id": "bkMo_tkIKHYQ"
      }
    },
    {
      "cell_type": "code",
      "execution_count": 54,
      "metadata": {
        "id": "IgqqxswE9Rym",
        "colab": {
          "base_uri": "https://localhost:8080/"
        },
        "outputId": "a943866b-ae33-48bc-fd4a-51792ea86530"
      },
      "outputs": [
        {
          "output_type": "execute_result",
          "data": {
            "text/plain": [
              "[1, 3, 2]"
            ]
          },
          "metadata": {},
          "execution_count": 54
        }
      ],
      "source": [
        "import math\n",
        "from collections import deque\n",
        "\n",
        "def solution(progresses, speeds):\n",
        "    answer = []\n",
        "    results = [math.ceil((100 - progresse) / speed) for (progresse,speed) in zip(progresses, speeds)]\n",
        "    queue = deque(results)\n",
        "    while queue:\n",
        "        progresse = queue.popleft()\n",
        "        cnt = 1\n",
        "        while queue:\n",
        "            progresse1 = queue.popleft()\n",
        "            if progresse < progresse1:\n",
        "                queue.appendleft(progresse1)\n",
        "                break\n",
        "            cnt += 1\n",
        "        answer.append(cnt)\n",
        "        \n",
        "\n",
        "    return answer\n",
        "\n",
        "progresses = [95, 90, 99, 99, 80, 99]\n",
        "speeds = [1, 1, 1, 1, 1, 1]\n",
        "# [1, 3, 2]\n",
        "solution(progresses, speeds)"
      ]
    },
    {
      "cell_type": "code",
      "source": [
        ""
      ],
      "metadata": {
        "id": "A_8UvJ5Jczv2"
      },
      "execution_count": null,
      "outputs": []
    },
    {
      "cell_type": "code",
      "source": [
        "import math\n",
        "from collections import deque\n",
        "\n",
        "def solution(progresses, speeds):\n",
        "    answer = []\n",
        "    results = [math.ceil((100 - progresse) / speed) for (progresse,speed) in zip(progresses, speeds)]\n",
        "    while results:\n",
        "        progresse = results.pop(0)\n",
        "        cnt = 1\n",
        "        while results:\n",
        "            progresse1 = results.pop(0)\n",
        "            if progresse < progresse1:\n",
        "                results.insert(0,progresse1)\n",
        "                break\n",
        "            cnt += 1\n",
        "        answer.append(cnt)\n",
        "        \n",
        "\n",
        "    return answer\n",
        "\n",
        "progresses = [95, 90, 99, 99, 80, 99]\n",
        "speeds = [1, 1, 1, 1, 1, 1]\n",
        "# [1, 3, 2]\n",
        "solution(progresses, speeds)"
      ],
      "metadata": {
        "id": "TJG7zCyJLuaI",
        "colab": {
          "base_uri": "https://localhost:8080/"
        },
        "outputId": "5cb6b335-cfac-4d9e-b349-0400b126e18b"
      },
      "execution_count": 56,
      "outputs": [
        {
          "output_type": "execute_result",
          "data": {
            "text/plain": [
              "[1, 3, 2]"
            ]
          },
          "metadata": {},
          "execution_count": 56
        }
      ]
    }
  ]
}