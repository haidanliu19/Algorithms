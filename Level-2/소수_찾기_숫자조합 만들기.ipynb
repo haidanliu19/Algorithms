{
 "cells": [
  {
   "cell_type": "code",
   "execution_count": 3,
   "metadata": {},
   "outputs": [
    {
     "name": "stdout",
     "output_type": "stream",
     "text": [
      "1 0\n"
     ]
    }
   ],
   "source": [
    "def dfs(numbers):\n",
    "    for i, val in enumerate(numbers):\n",
    "        print(val, i)    \n",
    "\n",
    "numbers = \"1\"\n",
    "dfs(numbers)"
   ]
  },
  {
   "cell_type": "code",
   "execution_count": 5,
   "metadata": {},
   "outputs": [
    {
     "name": "stdout",
     "output_type": "stream",
     "text": [
      "['1', '2', '12', '21']\n"
     ]
    }
   ],
   "source": [
    "def dfs_1(numbers, idx):\n",
    "    for i, val in enumerate(numbers):\n",
    "        if i != idx:\n",
    "            return val\n",
    "\n",
    "def dfs(numbers, depth):\n",
    "    vals =  []\n",
    "    for i, val in enumerate(numbers):\n",
    "        if depth == 0:\n",
    "            vals.append(val)\n",
    "        else:\n",
    "            val += dfs_1(numbers, i)\n",
    "            vals.append(val)\n",
    "    return vals\n",
    "\n",
    "numbers = \"12\"\n",
    "list_ = []\n",
    "for i, val in enumerate(numbers):\n",
    "    list_.extend(dfs(numbers, i))\n",
    "print(list_)"
   ]
  },
  {
   "cell_type": "code",
   "execution_count": 28,
   "metadata": {},
   "outputs": [
    {
     "name": "stdout",
     "output_type": "stream",
     "text": [
      "122\n",
      "12\n"
     ]
    }
   ],
   "source": [
    "# replace 마지막 1일 경우 한번 대체 한다는 뜻\n",
    "numbers = \"122\"\n",
    "val = \"2\"\n",
    "print(numbers)\n",
    "numbers = numbers.replace(val, '', 1)\n",
    "print(numbers)"
   ]
  },
  {
   "cell_type": "code",
   "execution_count": 45,
   "metadata": {},
   "outputs": [
    {
     "name": "stdout",
     "output_type": "stream",
     "text": [
      "15 [1, 12, 123, 13, 132, 2, 21, 213, 23, 231, 3, 31, 312, 32, 321]\n"
     ]
    }
   ],
   "source": [
    "# 문자열 같은 경우에는 pop이나 del 이 없어서 replace 로 가능하다. \n",
    "list_ = []\n",
    "def search_numbers(numbers_1, list_, before_val):\n",
    "    for i, val in enumerate(numbers_1):\n",
    "        number = before_val+  val\n",
    "        numbers_2 = numbers_1.replace(val, '', 1)\n",
    "        if int(number) not in list_:\n",
    "            list_.append(int(number))\n",
    "        if numbers_1:\n",
    "            search_numbers(numbers_2, list_, number)\n",
    "\n",
    "numbers = \"123\"\n",
    "\n",
    "for i, val in enumerate(numbers):\n",
    "    if int(val) not in list_:\n",
    "        list_.append(int(val))\n",
    "    # replace 마지막 1일 경우 한번 대체 한다는 뜻\n",
    "    numbers_1 = numbers.replace(val, '', 1)\n",
    "    search_numbers(numbers_1, list_, val)\n",
    "print(len(set(list_)), list_)"
   ]
  },
  {
   "cell_type": "code",
   "execution_count": 49,
   "metadata": {},
   "outputs": [
    {
     "name": "stdout",
     "output_type": "stream",
     "text": [
      "[1, 2, 3]\n"
     ]
    }
   ],
   "source": [
    "list_ = [] # list를 생성한다.\n",
    "numbers = \"123\"\n",
    "def search_numbers(numbers_1, list_, before_val):\n",
    "    for i, val in enumerate(numbers_1):\n",
    "        number = before_val + val\n",
    "        numbers_2 = numbers_1.replace(val, '', 1)\n",
    "        if int(number) not in list_: # number이 list에 없으면 입력한다. \n",
    "            list_.append(number)\n",
    "        \n",
    "\n",
    "for i, val in enumerate(numbers):\n",
    "    if int(val) not in list_:\n",
    "        list_.append(int(val)) # 한자리 수를 먼저 넣는다. \n",
    "    numbers_1 = numbers.replace(numbers, val, 1) # pop이나 remove 없어서 replace를 한다.  하나만 바꾼다.\n",
    "    search_numbers(numbers_1, list_, val)\n",
    "print(list_)"
   ]
  }
 ],
 "metadata": {
  "kernelspec": {
   "display_name": "Python 3",
   "language": "python",
   "name": "python3"
  },
  "language_info": {
   "codemirror_mode": {
    "name": "ipython",
    "version": 3
   },
   "file_extension": ".py",
   "mimetype": "text/x-python",
   "name": "python",
   "nbconvert_exporter": "python",
   "pygments_lexer": "ipython3",
   "version": "3.6.9"
  }
 },
 "nbformat": 4,
 "nbformat_minor": 4
}
