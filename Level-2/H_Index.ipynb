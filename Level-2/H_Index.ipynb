{
  "nbformat": 4,
  "nbformat_minor": 0,
  "metadata": {
    "colab": {
      "name": "H-Index.ipynb",
      "provenance": [],
      "collapsed_sections": []
    },
    "kernelspec": {
      "name": "python3",
      "display_name": "Python 3"
    },
    "language_info": {
      "name": "python"
    }
  },
  "cells": [
    {
      "cell_type": "markdown",
      "source": [
        "출처 : 프로그래머스"
      ],
      "metadata": {
        "id": "Tg1SFmLB-DSI"
      }
    },
    {
      "cell_type": "code",
      "source": [
        "def solution(citations):\n",
        "    citations.sort(reverse = True)\n",
        "\n",
        "    answer = 0\n",
        "    for idx, val in enumerate(citations):\n",
        "        if idx + 1 <= citations[idx]:\n",
        "            print(idx+1, idx, citations[idx])\n",
        "            answer = idx + 1\n",
        "    return answer\n",
        "\n",
        "citations = [3, 0, 6, 1, 5]\n",
        "print(solution(citations))\n",
        "\n",
        "\n",
        "citations = [5,3,3,8,10] \n",
        "print(solution(citations))"
      ],
      "metadata": {
        "colab": {
          "base_uri": "https://localhost:8080/"
        },
        "id": "fosIzTdaIkbd",
        "outputId": "15e5788b-2561-45d1-e65d-999fc53d2349"
      },
      "execution_count": 30,
      "outputs": [
        {
          "output_type": "stream",
          "name": "stdout",
          "text": [
            "1 0 6\n",
            "2 1 5\n",
            "3 2 3\n",
            "3\n",
            "1 0 10\n",
            "2 1 8\n",
            "3 2 5\n",
            "3\n"
          ]
        }
      ]
    },
    {
      "cell_type": "code",
      "source": [
        "def solution(citations):\n",
        "    citations.sort(reverse = True)\n",
        "\n",
        "    answer = 0\n",
        "    for idx, val in enumerate(citations):\n",
        "        if idx + 1 <= citations[idx]:\n",
        "            answer = idx + 1\n",
        "    return answer\n",
        "\n",
        "\n",
        "citations = [3, 0, 6, 1, 5]\n",
        "print(solution(citations))\n",
        "\n",
        "\n",
        "citations =[3, 4, 5, 11, 15, 16, 17, 18, 19, 20]\n",
        "print(solution(citations) == 7)"
      ],
      "metadata": {
        "colab": {
          "base_uri": "https://localhost:8080/"
        },
        "id": "Ua-6qNzfHraX",
        "outputId": "72ee5fcd-3e23-4521-8ad3-8e98fc66542c"
      },
      "execution_count": 25,
      "outputs": [
        {
          "output_type": "stream",
          "name": "stdout",
          "text": [
            "3\n",
            "True\n"
          ]
        }
      ]
    },
    {
      "cell_type": "code",
      "source": [
        "citations = [5, 9, 2, 8, 7, 7, 3, 1]\n",
        "\n",
        "# 내림차순 정렬\n",
        "citations.sort(reverse=True)\n",
        "answer = 0\n",
        "for i in range(len(citations)):\n",
        "    # i번째 논문이 (i + 1)회 이상 인용되었는지 확인\n",
        "    if i + 1 <= citations[i]:\n",
        "        answer = i + 1\n",
        "\n",
        "# 정답 출력\n",
        "print(answer)"
      ],
      "metadata": {
        "id": "sj8SbYdGINKz"
      },
      "execution_count": null,
      "outputs": []
    },
    {
      "cell_type": "code",
      "source": [
        "# test caset 11\n",
        "citations = [0, 1, 1] # => 1\n",
        "print(solution(citations))\n",
        "\n",
        "citations =[3, 4, 5, 11, 15, 16, 17, 18, 19, 20]\n",
        "print(solution(citations) == 7)"
      ],
      "metadata": {
        "colab": {
          "base_uri": "https://localhost:8080/"
        },
        "id": "d4JTXTLtFsyS",
        "outputId": "f2423e91-8e26-4b93-af21-2f9b4a44fd1a"
      },
      "execution_count": 14,
      "outputs": [
        {
          "output_type": "stream",
          "name": "stdout",
          "text": [
            "1\n"
          ]
        }
      ]
    },
    {
      "cell_type": "markdown",
      "source": [
        "# 실패 케이스"
      ],
      "metadata": {
        "id": "_KKKFCJWFtJk"
      }
    },
    {
      "cell_type": "code",
      "source": [
        "def solution(citations):\n",
        "    citations.sort(reverse = True)\n",
        "\n",
        "    answer = 0\n",
        "    for idx, val in enumerate(citations):\n",
        "        h_max = len(list(filter(lambda x : x >= answer, citations)))\n",
        "        if h_max >= answer:\n",
        "            answer += 1\n",
        "        else:\n",
        "            answer -= 1\n",
        "            break\n",
        "    return answer\n",
        "\n",
        "\n",
        "citations = [3, 0, 6, 1, 5]\n",
        "print(solution(citations))\n",
        "\n",
        "\n",
        "citations =[3, 4, 5, 11, 15, 16, 17, 18, 19, 20]\n",
        "print(solution(citations) == 7)"
      ],
      "metadata": {
        "id": "xOUtFNjnNT-N",
        "colab": {
          "base_uri": "https://localhost:8080/"
        },
        "outputId": "74dfa1c8-0ded-4896-e479-b453a5ce570c"
      },
      "execution_count": 21,
      "outputs": [
        {
          "output_type": "stream",
          "name": "stdout",
          "text": [
            "3\n",
            "True\n"
          ]
        }
      ]
    },
    {
      "cell_type": "code",
      "execution_count": 9,
      "metadata": {
        "colab": {
          "base_uri": "https://localhost:8080/"
        },
        "id": "NJRll8kt-CZa",
        "outputId": "f78be3a3-c39c-41a5-e510-b976a206ace9"
      },
      "outputs": [
        {
          "output_type": "execute_result",
          "data": {
            "text/plain": [
              "3"
            ]
          },
          "metadata": {},
          "execution_count": 9
        }
      ],
      "source": [
        "def solution(citations):\n",
        "    citations_sort = sorted(citations, reverse = True)\n",
        "    h_index = 0\n",
        "    answer = 0\n",
        "    for idx, (i, j) in enumerate(zip(citations_sort, citations)):\n",
        "        if i >= j :\n",
        "            h_index = idx\n",
        "    while True:\n",
        "        result = len(list(filter(lambda x : x >= h_index, citations)))\n",
        "        if h_index >  result:\n",
        "            h_index -= 1\n",
        "        else:\n",
        "            answer = h_index\n",
        "            break\n",
        "    return answer\n",
        "\n",
        "\n",
        "citations = [0, 0, 0]\n",
        "solution(citations)"
      ]
    },
    {
      "cell_type": "markdown",
      "source": [
        "다른 사람 풀이"
      ],
      "metadata": {
        "id": "-Qty7D5DKF8I"
      }
    },
    {
      "cell_type": "code",
      "source": [
        "def solution(citations):\n",
        "    citations.sort(reverse=True)\n",
        "    print(citations)\n",
        "    print(list(map(min, enumerate(citations, start=1))))\n",
        "    answer = max(map(min, enumerate(citations, start=1)))\n",
        "    return answer\n",
        "\n",
        "citations = [3, 0, 6, 1, 5]\n",
        "print(solution(citations))"
      ],
      "metadata": {
        "id": "2_b0rAkDNBKH",
        "colab": {
          "base_uri": "https://localhost:8080/"
        },
        "outputId": "98c94cca-b41e-4b8c-a49e-3c9413bfff36"
      },
      "execution_count": 33,
      "outputs": [
        {
          "output_type": "stream",
          "name": "stdout",
          "text": [
            "[6, 5, 3, 1, 0]\n",
            "[1, 2, 3, 1, 0]\n",
            "3\n"
          ]
        }
      ]
    },
    {
      "cell_type": "code",
      "source": [
        "citations = [3, 0, 6, 1, 5]\n",
        "citations.sort(reverse=True)\n",
        "print(citations)\n",
        "for val in enumerate(citations, start=1):\n",
        "    print(val)"
      ],
      "metadata": {
        "colab": {
          "base_uri": "https://localhost:8080/"
        },
        "id": "5RGp5DstKzZr",
        "outputId": "671f85a6-6619-4d75-cf60-b69e07607a13"
      },
      "execution_count": 37,
      "outputs": [
        {
          "output_type": "stream",
          "name": "stdout",
          "text": [
            "[6, 5, 3, 1, 0]\n",
            "(1, 6)\n",
            "(2, 5)\n",
            "(3, 3)\n",
            "(4, 1)\n",
            "(5, 0)\n"
          ]
        }
      ]
    }
  ]
}