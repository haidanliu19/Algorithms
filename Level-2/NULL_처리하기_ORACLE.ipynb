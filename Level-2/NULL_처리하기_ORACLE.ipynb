{
  "nbformat": 4,
  "nbformat_minor": 0,
  "metadata": {
    "colab": {
      "name": "NULL 처리하기_ORACLE.ipynb",
      "provenance": [],
      "collapsed_sections": []
    },
    "kernelspec": {
      "name": "python3",
      "display_name": "Python 3"
    },
    "language_info": {
      "name": "python"
    }
  },
  "cells": [
    {
      "cell_type": "code",
      "execution_count": null,
      "metadata": {
        "id": "cTtghlYMKFso"
      },
      "outputs": [],
      "source": [
        "-- 코드를 입력하세요\n",
        "SELECT ANIMAL_TYPE AS ANIMAL_TYPE\n",
        "      , CASE WHEN NAME IS NULL THEN 'No name'  ELSE NAME END as NAME\n",
        "      , SEX_UPON_INTAKE AS SEX_UPON_INTAKE\n",
        "FROM ANIMAL_INS  \n",
        "ORDER BY ANIMAL_ID"
      ]
    }
  ]
}