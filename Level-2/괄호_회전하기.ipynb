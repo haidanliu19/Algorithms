{
  "nbformat": 4,
  "nbformat_minor": 0,
  "metadata": {
    "colab": {
      "name": "괄호_회전하기.ipynb",
      "provenance": [],
      "collapsed_sections": []
    },
    "kernelspec": {
      "name": "python3",
      "display_name": "Python 3"
    },
    "language_info": {
      "name": "python"
    }
  },
  "cells": [
    {
      "cell_type": "code",
      "source": [
        "#테스트 케이스를 뚫었다.\n",
        "def solution(s):\n",
        "    tmp_s = s\n",
        "    answer = 0\n",
        "    if len(s) % 2 == 1: return answer\n",
        "    for i in range(len(s)):\n",
        "        cnt = 0\n",
        "        t = tmp_s.replace(\"()\", \"\").replace(\"{}\", \"\").replace(\"[]\", \"\")\n",
        "        while cnt <= 27:\n",
        "            t = t.replace(\"{}\", \"\").replace(\"[]\", \"\").replace(\"()\", \"\")\n",
        "            t = t.replace(\"[]\", \"\").replace(\"()\", \"\").replace(\"{}\", \"\")\n",
        "            t = t.replace(\"()\", \"\").replace(\"{}\", \"\").replace(\"[]\", \"\")\n",
        "            cnt+=1\n",
        "\n",
        "        if t == \"\":\n",
        "            answer += 1\n",
        "\n",
        "        tmp_s = tmp_s[1:] + tmp_s[0]\n",
        "\n",
        "    \n",
        "    return answer"
      ],
      "metadata": {
        "id": "yEptfQXxLnmA"
      },
      "execution_count": null,
      "outputs": []
    },
    {
      "cell_type": "code",
      "source": [
        "# 다름 사람의 풀이를 참조하였다.\n",
        "def solution(s):\n",
        "    answer = 0\n",
        "    if len(s) %2 != 0:\n",
        "        return 0\n",
        "    satanderd_s=\"[](){}\"\n",
        "    for idx in range(len(s)):\n",
        "        list_= []\n",
        "        isS = True\n",
        "        s_ = s[idx] + s[idx+1:]+s[:idx]\n",
        "        for idx_i, val_i in enumerate(s_):\n",
        "            if satanderd_s.index(val_i)%2 == 0:\n",
        "                list_.append(val_i)\n",
        "            else:\n",
        "                if len(list_) == 0:\n",
        "                    isS = False\n",
        "                s_1 = satanderd_s[satanderd_s.index(val_i)-1]\n",
        "                if s_1 in list_:\n",
        "                    list_.pop()\n",
        "                else:\n",
        "                    isS = False\n",
        "        if len(list_) != 0:\n",
        "            isS = False\n",
        "\n",
        "        if isS == True:\n",
        "            answer += 1\n",
        "    return answer\n",
        "s =\t\"[(])\"\n",
        "solution(s)"
      ],
      "metadata": {
        "colab": {
          "base_uri": "https://localhost:8080/"
        },
        "id": "PeYWVRR8Dyd9",
        "outputId": "16576975-8eb9-4c65-ed21-09b6847c2542"
      },
      "execution_count": null,
      "outputs": [
        {
          "output_type": "stream",
          "name": "stdout",
          "text": [
            "[(])\n",
            "(])[\n",
            "])[(\n",
            ")[(]\n"
          ]
        },
        {
          "output_type": "execute_result",
          "data": {
            "text/plain": [
              "0"
            ]
          },
          "metadata": {},
          "execution_count": 97
        }
      ]
    },
    {
      "cell_type": "markdown",
      "source": [
        "# 아래는 실패하였다 "
      ],
      "metadata": {
        "id": "B7D3OnXkFXoX"
      }
    },
    {
      "cell_type": "code",
      "execution_count": null,
      "metadata": {
        "colab": {
          "base_uri": "https://localhost:8080/"
        },
        "id": "qElnNbLY3Mbs",
        "outputId": "6d4b3f34-1911-4631-ef56-2af41887e7f7"
      },
      "outputs": [
        {
          "output_type": "execute_result",
          "data": {
            "text/plain": [
              "0"
            ]
          },
          "metadata": {},
          "execution_count": 51
        }
      ],
      "source": [
        "def solution(s):\n",
        "    if len(s) %2 != 0:\n",
        "        return 0\n",
        "    satanderd_str=\"[](){}\"\n",
        "    list1=[(s[idx] + s[idx+1:]+s[:idx]) for idx in range(len(s))]\n",
        "    \n",
        "    list_index = []\n",
        "    for idx_i,val_i in enumerate(list1):\n",
        "        for idx_j,val_j in enumerate(val_i):\n",
        "            if satanderd_str.find(val_j)%2 ==1 and idx_j ==0:\n",
        "                list_index.append(idx_i)\n",
        "                break\n",
        "            else:\n",
        "                if satanderd_str.find(val_j)%2 ==0 and satanderd_str[satanderd_str.find(val_j)+1] not in val_i[idx_j+1:]:\n",
        "                    list_index.append(idx_i)\n",
        "                    break\n",
        "                elif satanderd_str.find(val_j)%2 ==1 and satanderd_str[satanderd_str.find(val_j)-1] not in val_i[:idx_j]:\n",
        "                    list_index.append(idx_i)\n",
        "                    break\n",
        "\n",
        "    return len(list1) - len(list_index)\n",
        "\n",
        "s =\t\"(){{))\"\n",
        "solution(s)"
      ]
    },
    {
      "cell_type": "code",
      "source": [
        "# s를 왼쪽으로 x칸만큼 회전\n",
        "s = \"[](){}\"\n",
        "_list=[s[idx] + s[idx+1:]+s[:idx] for idx in range(len(s))]\n",
        "print(_list)"
      ],
      "metadata": {
        "colab": {
          "base_uri": "https://localhost:8080/"
        },
        "id": "8u-nb89TA5e5",
        "outputId": "a4840985-024e-4cd9-e7ad-cd145013e78d"
      },
      "execution_count": null,
      "outputs": [
        {
          "output_type": "stream",
          "name": "stdout",
          "text": [
            "['[](){}', '](){}[', '(){}[]', '){}[](', '{}[]()', '}[](){']\n"
          ]
        }
      ]
    },
    {
      "cell_type": "code",
      "source": [
        "for idx, val in enumerate(range(len(s))):\n",
        "    print(idx,len(s), s[idx] + s[idx+1:]+s[:idx])"
      ],
      "metadata": {
        "colab": {
          "base_uri": "https://localhost:8080/"
        },
        "id": "3edtA2MbUZGV",
        "outputId": "081b111e-6db0-4372-dbca-40b581c369a9"
      },
      "execution_count": null,
      "outputs": [
        {
          "output_type": "stream",
          "name": "stdout",
          "text": [
            "0 6 [](){}\n",
            "1 6 ](){}[\n",
            "2 6 (){}[]\n",
            "3 6 ){}[](\n",
            "4 6 {}[]()\n",
            "5 6 }[](){\n"
          ]
        }
      ]
    },
    {
      "cell_type": "code",
      "source": [
        "# random으로 회전\n",
        "from itertools import combinations\n",
        "\n",
        "s = list(\"[](){}\")\n",
        "combi = combinations(s, 5)\n",
        "_list = []\n",
        "for combi_tuple in list(combi):\n",
        "    combi_list= list(combi_tuple)\n",
        "    # 다른 점 찾기\n",
        "    diff = set(s).difference(set(combi_list))\n",
        "    combi_list+=diff\n",
        "    _list.append(\"\".join(combi_list))\n",
        "print(_list)"
      ],
      "metadata": {
        "id": "CnlE_oOHPYJ4"
      },
      "execution_count": null,
      "outputs": []
    }
  ]
}