{
  "nbformat": 4,
  "nbformat_minor": 0,
  "metadata": {
    "colab": {
      "name": "괄호 변환.ipynb",
      "provenance": [],
      "collapsed_sections": []
    },
    "kernelspec": {
      "name": "python3",
      "display_name": "Python 3"
    },
    "language_info": {
      "name": "python"
    }
  },
  "cells": [
    {
      "cell_type": "code",
      "execution_count": 105,
      "metadata": {
        "colab": {
          "base_uri": "https://localhost:8080/",
          "height": 36
        },
        "id": "egq58-0is5DH",
        "outputId": "ce63bbce-9fc8-41e9-a539-d163164f7efc"
      },
      "outputs": [
        {
          "output_type": "execute_result",
          "data": {
            "application/vnd.google.colaboratory.intrinsic+json": {
              "type": "string"
            },
            "text/plain": [
              "'()(())()'"
            ]
          },
          "metadata": {},
          "execution_count": 105
        }
      ],
      "source": [
        "#\"(\" -> \")\" , \")\"->\"(\"\n",
        "def reversep(u):\n",
        "    rep = {\"(\" : \")\", \")\" : \"(\"}\n",
        "    return \"\".join([rep[s] for s in u])\n",
        "\n",
        "# 정확하는지 확인\n",
        "def iscorrect(w):\n",
        "    if w.startswith(')'):\n",
        "        return False\n",
        "    return True\n",
        "\n",
        "# u,v 나누기 \n",
        "def uv(p):\n",
        "    w = \"\"\n",
        "    p_cnt , q_cnt = 0, 0\n",
        "    for idx, i in enumerate(p):\n",
        "        w += i\n",
        "        p_cnt = w.count('(')\n",
        "        q_cnt = w.count(')')\n",
        "        if p_cnt == q_cnt:\n",
        "            u = w\n",
        "            v = p[idx+1:]\n",
        "            return u, v\n",
        "\n",
        "def solution(p):\n",
        "    answer = ''\n",
        "    # 과정 1 입력이 빈 문자열인 경우, 빈 문자열을 반환합니다.\n",
        "    if len(p) ==0:\n",
        "        return answer\n",
        "    # 과정 2\n",
        "    # 문자열 w를 두 \"균형잡힌 괄호 문자열\" u, v로 분리합니다. 단, u는 \"균형잡힌 괄호 문자열\"로 더 이상 분리할 수 없어야 하며, v는 빈 문자열이 될 수 있습니다. \n",
        "    u, v= uv(p)\n",
        "    # 과정 3\n",
        "    # 문자열 u가 \"올바른 괄호 문자열\" 이라면 문자열 v에 대해 1단계부터 다시 수행합니다. \n",
        "    if iscorrect(u):\n",
        "        # 3-1 \n",
        "        # 수행한 결과 문자열을 u에 이어 붙인 후 반환합니다. \n",
        "        return u + solution(v)\n",
        "    # 과정 4 \n",
        "    # 문자열 u가 \"올바른 괄호 문자열\"이 아니라면 아래 과정을 수행합니다. \n",
        "    else:\n",
        "        # 과정 4-1\n",
        "        # 빈 문자열에 첫 번째 문자로 '('를 붙입니다. \n",
        "        answer = '('\n",
        "        # 과정 4-2\n",
        "        # 문자열 v에 대해 1단계부터 재귀적으로 수행한 결과 문자열을 이어 붙입니다. \n",
        "        answer += solution(v)\n",
        "        # 과정 4-3 ')'를 다시 붙입니다.\n",
        "        answer += \")\" \n",
        "\n",
        "        # 과정 4-4 \n",
        "        # u의 첫 번째와 마지막 문자를 제거하고, 나머지 문자열의 괄호 방향을 뒤집어서 뒤에 붙입니다. \n",
        "        for p in u[1:len(u)-1]:\n",
        "            answer += reversep(p)\n",
        "        return answer\n",
        "\n",
        "p = \"()))((()\"\n",
        "solution(p)"
      ]
    },
    {
      "cell_type": "code",
      "source": [
        ""
      ],
      "metadata": {
        "id": "FRHF3HA29JYr"
      },
      "execution_count": 105,
      "outputs": []
    }
  ]
}