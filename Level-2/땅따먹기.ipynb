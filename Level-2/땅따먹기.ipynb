{
  "nbformat": 4,
  "nbformat_minor": 0,
  "metadata": {
    "colab": {
      "name": "땅따먹기.ipynb",
      "provenance": [],
      "collapsed_sections": []
    },
    "kernelspec": {
      "name": "python3",
      "display_name": "Python 3"
    },
    "language_info": {
      "name": "python"
    }
  },
  "cells": [
    {
      "cell_type": "code",
      "metadata": {
        "colab": {
          "base_uri": "https://localhost:8080/"
        },
        "id": "yeLdBBvv1IL6",
        "outputId": "4c417f73-e70a-4482-8c7a-8a9154d2cce0"
      },
      "source": [
        "def max_val(i_id,land_,j ):\n",
        "    _list = [i for i in range(4)]\n",
        "    _list.remove(j)\n",
        "    return max([land_[i] for i in _list])\n",
        "\n",
        "def solution(land):\n",
        "    answer = 0\n",
        "    for i_idx in range(1, len(land)):\n",
        "        j = 0\n",
        "        while j < 4:\n",
        "            land[i_idx][j] += max_val(i_idx-1, land[i_idx-1],j)\n",
        "            j += 1\n",
        "\n",
        "    answer= max(land[-1])\n",
        "    return answer\n",
        "\n",
        "\n",
        "land = [[1,2,3,5],[5,6,7,8],[4,3,2,1]]\n",
        "solution(land)"
      ],
      "execution_count": 54,
      "outputs": [
        {
          "output_type": "execute_result",
          "data": {
            "text/plain": [
              "16"
            ]
          },
          "metadata": {},
          "execution_count": 54
        }
      ]
    },
    {
      "cell_type": "markdown",
      "metadata": {
        "id": "plVraD_VEYzb"
      },
      "source": [
        "# 시간초과"
      ]
    },
    {
      "cell_type": "code",
      "metadata": {
        "id": "7KD7R28hrst1"
      },
      "source": [
        "from itertools import product\n",
        "def solution(land):\n",
        "    answer = 0\n",
        "    a = list(product(range(len(land[0])), repeat=len(land)) )\n",
        "    for j in a:\n",
        "        sum = 0\n",
        "        if not ((j[0]== j[1]) or (j[1] == j[2])):\n",
        "            for i in land:\n",
        "                sum = land[0][j[0]] + land[1][j[1]]+ land[2][j[2]]\n",
        "                if sum > answer:\n",
        "                    answer = sum\n",
        "    return answer\n",
        "\n",
        "\n",
        "land = [[1,2,3,5],[5,6,7,8],[4,3,2,1]]\n",
        "solution(land)"
      ],
      "execution_count": null,
      "outputs": []
    }
  ]
}