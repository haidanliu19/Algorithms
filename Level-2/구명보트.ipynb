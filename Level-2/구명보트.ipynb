{
  "nbformat": 4,
  "nbformat_minor": 0,
  "metadata": {
    "colab": {
      "name": "구명보트.ipynb",
      "provenance": [],
      "collapsed_sections": []
    },
    "kernelspec": {
      "name": "python3",
      "display_name": "Python 3"
    },
    "language_info": {
      "name": "python"
    }
  },
  "cells": [
    {
      "cell_type": "code",
      "execution_count": 67,
      "metadata": {
        "colab": {
          "base_uri": "https://localhost:8080/"
        },
        "id": "ok4v3P7j2f_s",
        "outputId": "9c3cc654-205a-417a-d701-fd55276bc66d"
      },
      "outputs": [
        {
          "output_type": "execute_result",
          "data": {
            "text/plain": [
              "3"
            ]
          },
          "metadata": {},
          "execution_count": 67
        }
      ],
      "source": [
        "def solution(people, limit):\n",
        "    answer = 0\n",
        "    people.sort()\n",
        "    left = 0\n",
        "    right = len(people)-1\n",
        "    while left <= right:\n",
        "        answer += 1\n",
        "        if people[left]+ people[right] <= limit:\n",
        "            left += 1\n",
        "        right -= 1\n",
        "\n",
        "    return answer\n",
        "\n",
        "people= [70, 50, 80]\n",
        "limit = 100\n",
        "solution(people, limit)"
      ]
    }
  ]
}