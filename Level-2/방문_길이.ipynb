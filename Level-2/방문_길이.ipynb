{
  "nbformat": 4,
  "nbformat_minor": 0,
  "metadata": {
    "colab": {
      "name": "방문 길이.ipynb",
      "provenance": [],
      "collapsed_sections": []
    },
    "kernelspec": {
      "name": "python3",
      "display_name": "Python 3"
    },
    "language_info": {
      "name": "python"
    }
  },
  "cells": [
    {
      "cell_type": "code",
      "execution_count": 147,
      "metadata": {
        "colab": {
          "base_uri": "https://localhost:8080/"
        },
        "id": "ZnQky0G0YXEj",
        "outputId": "4192b55e-d701-4d80-88a7-1db13751dc2e"
      },
      "outputs": [
        {
          "output_type": "execute_result",
          "data": {
            "text/plain": [
              "7"
            ]
          },
          "metadata": {},
          "execution_count": 147
        }
      ],
      "source": [
        "def solution(dirs):\n",
        "    dirs_dic = {'U':[0,-1],'D':[0,1], 'R':[1,0],'L':[-1,0]}\n",
        "    answer = 0\n",
        "    _list = []\n",
        "    for i in dirs:\n",
        "        _list.append(dirs_dic.get(i))\n",
        "\n",
        "    foot_list = [(0,0)]\n",
        "    footprint = set()\n",
        "    # 좌표평면의 경계는 왼쪽 위(-5, 5), 왼쪽 아래(-5, -5), 오른쪽 위(5, 5), 오른쪽 아래(5, -5)로 이루어져 있습니다.\n",
        "    for i, j in _list:\n",
        "        next_i, next_j = foot_list[-1][0]+i,  foot_list[-1][1]+j\n",
        "        if -5 <= next_i <= 5 and -5 <= next_j <= 5:\n",
        "\n",
        "            foot = tuple(sorted([foot_list[-1], (next_i, next_j)]))\n",
        "            footprint.add(foot)\n",
        "            foot_list.append((next_i,next_j))\n",
        "    \n",
        "    answer+=len(footprint)\n",
        "    return answer\n",
        "\n",
        "dirs = \t\"LULLLLLLU\"\n",
        "solution(dirs)"
      ]
    }
  ]
}