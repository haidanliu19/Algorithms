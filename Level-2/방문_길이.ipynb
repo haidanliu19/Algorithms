{
  "nbformat": 4,
  "nbformat_minor": 0,
  "metadata": {
    "colab": {
      "name": "방문 길이.ipynb",
      "provenance": [],
      "collapsed_sections": []
    },
    "kernelspec": {
      "name": "python3",
      "display_name": "Python 3"
    },
    "language_info": {
      "name": "python"
    }
  },
  "cells": [
    {
      "cell_type": "code",
      "execution_count": 123,
      "metadata": {
        "colab": {
          "base_uri": "https://localhost:8080/"
        },
        "id": "ZnQky0G0YXEj",
        "outputId": "d672001d-a08c-44f2-cb9b-f45f8ef5cb7e"
      },
      "outputs": [
        {
          "output_type": "execute_result",
          "data": {
            "text/plain": [
              "7"
            ]
          },
          "metadata": {},
          "execution_count": 123
        }
      ],
      "source": [
        "def solution(dirs):\n",
        "    dirs_dic = {'U':[0,1],'D':[0,-1], 'R':[1,0],'L':[-1,0]}\n",
        "    answer = 0\n",
        "    _list = []\n",
        "    for i in dirs:\n",
        "        _list.append(dirs_dic.get(i))\n",
        "\n",
        "    foot_list = [(0,0)]\n",
        "    foot = set()\n",
        "    # 좌표평면의 경계는 왼쪽 위(-5, 5), 왼쪽 아래(-5, -5), 오른쪽 위(5, 5), 오른쪽 아래(5, -5)로 이루어져 있습니다.\n",
        "    for i, j in _list:\n",
        "        _i \n",
        "        next_i, next_j = foot_list[-1][0]+i,  foot_list[-1][1]+j\n",
        "        if -5 <= next_i <= 5 and -5 <= next_j <= 5:\n",
        "            foot = tuple(sorted([(_x, _y), (x, y)]))\n",
        "            foot_list.append((next_i,next_j))\n",
        "    #print(foot_list)\n",
        "    answer+=len(foot)\n",
        "    return answer\n",
        "\n",
        "dirs = \t\"LULLLLLLU\"\n",
        "solution(dirs)"
      ]
    },
    {
      "cell_type": "code",
      "source": [
        "def solution(dirs):\n",
        "    dirs_dic = {'U':[0,-1],'D':[0,1], 'R':[1,0],'L':[-1,0]}\n",
        "    answer = 0\n",
        "    _list = []\n",
        "    for i in dirs:\n",
        "        _list.append(dirs_dic.get(i))\n",
        "\n",
        "    foot_list = [(0,0)]\n",
        "    footprint = set()\n",
        "    # 좌표평면의 경계는 왼쪽 위(-5, 5), 왼쪽 아래(-5, -5), 오른쪽 위(5, 5), 오른쪽 아래(5, -5)로 이루어져 있습니다.\n",
        "    for i, j in _list:\n",
        "        next_i, next_j = foot_list[-1][0]+i,  foot_list[-1][1]+j\n",
        "        if -5 <= next_i <= 5 and -5 <= next_j <= 5:\n",
        "\n",
        "            foot = tuple(sorted([foot_list[-1], (next_i, next_j)]))\n",
        "            footprint.add(foot)\n",
        "            foot_list.append((next_i,next_j))\n",
        "    \n",
        "    answer+=len(footprint)\n",
        "    return answer\n",
        "\n",
        "dirs = \t\"UDU\" \n",
        "solution(dirs)"
      ],
      "metadata": {
        "colab": {
          "base_uri": "https://localhost:8080/"
        },
        "id": "FU-FjTRPjiri",
        "outputId": "1b0b4829-86f4-49ec-801d-059f97e5ae3a"
      },
      "execution_count": 146,
      "outputs": [
        {
          "output_type": "execute_result",
          "data": {
            "text/plain": [
              "1"
            ]
          },
          "metadata": {},
          "execution_count": 146
        }
      ]
    },
    {
      "cell_type": "code",
      "source": [
        "def solution(dirs):\n",
        "    answer = 0\n",
        "    dx = {\"U\" : 0, \"D\" : 0, \"R\" : 1, \"L\" : -1}\n",
        "    dy = {\"U\" : -1, \"D\" : 1, \"R\" : 0, \"L\" : 0}\n",
        "\n",
        "    prev = (0, 0)\n",
        "    footprint = set()\n",
        "\n",
        "    for d in dirs:\n",
        "        _x, _y = prev\n",
        "        x = _x + dx[d]\n",
        "        y = _y + dy[d]\n",
        "\n",
        "        if -5 <= x <= 5 and -5 <= y <= 5:\n",
        "            foot = tuple(sorted([(_x, _y), (x, y)]))\n",
        "            print(foot)\n",
        "            footprint.add(foot)\n",
        "            prev = (x, y)\n",
        "\n",
        "    answer = len(footprint)\n",
        "\n",
        "    return answer\n",
        "\n",
        "\n",
        "dirs = \t\"UDU\" \n",
        "solution(dirs)"
      ],
      "metadata": {
        "colab": {
          "base_uri": "https://localhost:8080/"
        },
        "id": "TyWaBjlxls4g",
        "outputId": "6c374f20-fc25-4841-aa79-e8003a805dd2"
      },
      "execution_count": 139,
      "outputs": [
        {
          "output_type": "stream",
          "name": "stdout",
          "text": [
            "((0, -1), (0, 0))\n",
            "((0, -1), (0, 0))\n",
            "((0, -1), (0, 0))\n"
          ]
        },
        {
          "output_type": "execute_result",
          "data": {
            "text/plain": [
              "1"
            ]
          },
          "metadata": {},
          "execution_count": 139
        }
      ]
    }
  ]
}