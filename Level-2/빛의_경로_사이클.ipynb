{
  "nbformat": 4,
  "nbformat_minor": 0,
  "metadata": {
    "colab": {
      "name": "빛의 경로 사이클",
      "provenance": [],
      "collapsed_sections": []
    },
    "kernelspec": {
      "name": "python3",
      "display_name": "Python 3"
    },
    "language_info": {
      "name": "python"
    }
  },
  "cells": [
    {
      "cell_type": "markdown",
      "source": [
        "[출처]이것이 코딩테스트다"
      ],
      "metadata": {
        "id": "Qe_0yzL4PPRt"
      }
    },
    {
      "cell_type": "code",
      "execution_count": 11,
      "metadata": {
        "colab": {
          "base_uri": "https://localhost:8080/"
        },
        "id": "DpblOWaZOg3h",
        "outputId": "7f100962-5044-4890-d852-1e900547c0a9"
      },
      "outputs": [
        {
          "output_type": "execute_result",
          "data": {
            "text/plain": [
              "[16]"
            ]
          },
          "metadata": {},
          "execution_count": 11
        }
      ],
      "source": [
        "def nextStep(i,j,k, grid, visited,n,m):\n",
        "\n",
        "    # 방향\n",
        "    cnt = 1\n",
        "    d = [[-1,0,1,0], # x좌표 \n",
        "         [0,1,0,-1]] # y좌표\n",
        "    visited[i][j][k] = True\n",
        "    # 이런 방식으로 이 영역에서 나갈때 처리한다. \n",
        "    ni, nj = (i + d[0][k]) % n, (j + d[1][k]) % m\n",
        "    # 이미 방문한 노드를 만나면 끝\n",
        "    while True:\n",
        "        # 방향 정하기 \n",
        "        if grid[ni][nj] == 'S': \n",
        "            pass\n",
        "        elif grid[ni][nj] == 'L':# 좌회전 (-1)%4 4개 방향\n",
        "            k = (k-1) % 4\n",
        "        elif grid[ni][nj] == 'R':# 우회전 (+1)%4\n",
        "            k = (k+1) % 4\n",
        "\n",
        "        # 방문하지 않았으면 \n",
        "        if not visited[ni][nj][k]:\n",
        "            cnt+=1 \n",
        "            visited[ni][nj][k] = True\n",
        "            # 이동한 방향에서 이동해야 한다. \n",
        "            ni, nj = (ni + d[0][k]) % n, (nj + d[1][k]) % m\n",
        "        else:\n",
        "            return cnt\n",
        "\n",
        "def solution(grid):\n",
        "    answer = []\n",
        "    # 3차원 만들기 \n",
        "    n,m = len(grid), len(grid[0])\n",
        "    # 0으로 초기화 한다. 4가지 방향을 선택할 수 있다. \n",
        "    visited = [[[False] *4 for _ in range(m)] for _ in range(n)]\n",
        "\n",
        "    for i in range(n):\n",
        "        for j in range(m):\n",
        "            for k in range(4):\n",
        "                if not visited[i][j][k]:\n",
        "                    answer.append(nextStep(i,j,k, grid, visited,n,m))\n",
        "          \n",
        "    return sorted(answer)\n",
        "\n",
        "grid = [\"SL\",\"LR\"]\n",
        "solution(grid)"
      ]
    },
    {
      "cell_type": "code",
      "source": [
        ""
      ],
      "metadata": {
        "id": "5Ea3RkkHTSIm"
      },
      "execution_count": null,
      "outputs": []
    }
  ]
}