{
  "nbformat": 4,
  "nbformat_minor": 0,
  "metadata": {
    "colab": {
      "name": "빛의 경로 사이클.ipynb",
      "provenance": [],
      "collapsed_sections": []
    },
    "kernelspec": {
      "name": "python3",
      "display_name": "Python 3"
    },
    "language_info": {
      "name": "python"
    }
  },
  "cells": [
    {
      "cell_type": "code",
      "execution_count": 32,
      "metadata": {
        "colab": {
          "base_uri": "https://localhost:8080/"
        },
        "id": "ZNnQwxy04zlm",
        "outputId": "5a1c58f6-c2a0-4c55-a4e2-25163e3bd6f8"
      },
      "outputs": [
        {
          "output_type": "execute_result",
          "data": {
            "text/plain": [
              "[16]"
            ]
          },
          "metadata": {},
          "execution_count": 32
        }
      ],
      "source": [
        "def nextStep(i,j,k, grid, visited,n,m):\n",
        "\n",
        "    # 방향\n",
        "    cnt = 1\n",
        "    d = [[-1,0,1,0], # x좌표 \n",
        "         [0,1,0,-1]] # y좌표\n",
        "    visited[i][j][k] = True\n",
        "    # 이런 방식으로 이 영역에서 나갈때 처리한다. \n",
        "    ni, nj = (i + d[0][k]) % n, (j + d[1][k]) % m\n",
        "    # 이미 방문한 노드를 만나면 끝\n",
        "    while True:\n",
        "        # 방향 정하기 \n",
        "        if grid[ni][nj] == 'S': \n",
        "            pass\n",
        "        elif grid[ni][nj] == 'L':# 좌회전 (-1)%4 4개 방향\n",
        "            k = (k-1) % 4\n",
        "        elif grid[ni][nj] == 'R':# 우회전 (+1)%4\n",
        "            k = (k+1) % 4\n",
        "\n",
        "        # 방문하지 않았으면 \n",
        "        if not visited[ni][nj][k]:\n",
        "            cnt+=1 \n",
        "            visited[ni][nj][k] = True\n",
        "            # 이동한 방향에서 이동해야 한다. \n",
        "            ni, nj = (ni + d[0][k]) % n, (nj + d[1][k]) % m\n",
        "        else:\n",
        "            return cnt\n",
        "\n",
        "def solution(grid):\n",
        "    answer = []\n",
        "    # 3차원 만들기 \n",
        "    n,m = len(grid), len(grid[0])\n",
        "    # 0으로 초기화 한다. 4가지 방향을 선택할 수 있다. \n",
        "    visited = [[[False] *4 for _ in range(m)] for _ in range(n)]\n",
        "\n",
        "    for i in range(n):\n",
        "        for j in range(m):\n",
        "            for k in range(4):\n",
        "                if not visited[i][j][k]:\n",
        "                    answer.append(nextStep(i,j,k, grid, visited,n,m))\n",
        "          \n",
        "    return sorted(answer)\n",
        "\n",
        "grid = [\"SL\",\"LR\"]\n",
        "solution(grid)"
      ]
    },
    {
      "cell_type": "markdown",
      "source": [
        "[참고](https://studyandwrite.tistory.com/435?category=1004649)"
      ],
      "metadata": {
        "id": "JIX9f5JlGklx"
      }
    },
    {
      "cell_type": "code",
      "source": [
        "dx, dy = [-1,0,1,0],[0,1,0,-1]\n",
        "def lightRoute(grid, visited, i, j, k):\n",
        "   r, c = len(grid), len(grid[0])\n",
        "   route = 1\n",
        "   # 나가는 경로 체크\n",
        "   visited[i][j][k] = True\n",
        "   # 처음 방문한 노드 (ni, nj) = 다음 지점이면서 범위를 벗어나는 경우를 고려한다.\n",
        "   nx, ny = (i + dx[k]) % r, (j + dy[k]) % c\n",
        "   # 이제부터 이미 방문한 경로를 만나면 끝\n",
        "   while True:\n",
        "    \n",
        "       # 직진 = 현재 방향 그대로 유지\n",
        "       if grid[nx][ny] == 'S': pass\n",
        "       # 좌회전 = (현재 진행 방향 - 1) % 4\n",
        "       elif grid[nx][ny] == 'L': k = (k-1) % 4  \n",
        "       # 우회전 = (현재 진행 방향 + 1) % 4\n",
        "       elif grid[nx][ny] == 'R': k = (k+1) % 4           \n",
        "\n",
        "       # 방문하지 않은 경로라면 길이를 1 증가시키고 방향 전환\n",
        "       if not visited[nx][ny][k]:\n",
        "           route += 1\n",
        "           visited[nx][ny][k] = True\n",
        "           nx, ny = (nx + dx[k]) % r, (ny + dy[k]) % c\n",
        "       else:\n",
        "           return route\n",
        " \n",
        "def solution(grid):\n",
        "   answer = []\n",
        "   r, c = len(grid), len(grid[0])\n",
        "   # 모든 격자점을 시작점으로 네 방향으로 빛을 진행시켜본다.\n",
        "   # 북동남서(시계방향)로 나가는 경로를 체크하는 리스트\n",
        "   visited = [[[False] * 4 for _ in range(c)] for _ in range(r)]\n",
        "   \n",
        "   for i in range(r):\n",
        "       for j in range(c):\n",
        "           for k in range(4):\n",
        "                # 해당 지점에서 나가는 경로는 무조건 같은 싸이클을 형성\n",
        "                if visited[i][j][k]:continue\n",
        "                answer.append(lightRoute(grid, visited, i, j, k))\n",
        "   return sorted(answer)\n",
        "\n",
        "grid = [\"SL\",\"LR\"]\n",
        "solution(grid)"
      ],
      "metadata": {
        "colab": {
          "base_uri": "https://localhost:8080/"
        },
        "id": "QvR01MHnAiZ6",
        "outputId": "983d3c38-dad6-4d60-978e-188dd0c3ff71"
      },
      "execution_count": 26,
      "outputs": [
        {
          "output_type": "stream",
          "name": "stdout",
          "text": [
            "1 0 L 1 0 3\n",
            "1 1 R 1 1 0\n",
            "0 1 L 0 1 3\n",
            "0 0 S 0 0 3\n",
            "0 1 L 0 1 2\n",
            "1 1 R 1 1 3\n",
            "1 0 L 1 0 2\n",
            "0 0 S 0 0 2\n",
            "1 0 L 1 0 1\n",
            "1 1 R 1 1 2\n",
            "0 1 L 0 1 1\n",
            "0 0 S 0 0 1\n",
            "0 1 L 0 1 0\n",
            "1 1 R 1 1 1\n",
            "1 0 L 1 0 0\n",
            "0 0 S 0 0 0\n"
          ]
        },
        {
          "output_type": "execute_result",
          "data": {
            "text/plain": [
              "[16]"
            ]
          },
          "metadata": {},
          "execution_count": 26
        }
      ]
    },
    {
      "cell_type": "markdown",
      "source": [
        "[참고](https://hkim-data.tistory.com/92)"
      ],
      "metadata": {
        "id": "DPOasyJJIJir"
      }
    },
    {
      "cell_type": "code",
      "source": [
        "import sys\n",
        "\n",
        "sys.setrecursionlimit(10 ** 6)\n",
        "\n",
        "def out(x, y, d, grid, dic):\n",
        "    nx = x + dic[d][0]\n",
        "    ny = y + dic[d][1]\n",
        "    \n",
        "    if nx >= len(grid):\n",
        "        nx = 0\n",
        "    elif nx < 0:\n",
        "        nx = len(grid)-1\n",
        "    \n",
        "    if ny >= len(grid[0]):\n",
        "        ny = 0\n",
        "    elif ny < 0:\n",
        "        ny = len(grid[0])-1\n",
        "        \n",
        "    return nx, ny\n",
        "    \n",
        "\n",
        "def dfs(state, org, route, grid):\n",
        "    dic = {0:[-1, 0], 1:[0, 1], 2:[1, 0], 3:[0, -1]}\n",
        "    x = state[0]\n",
        "    y = state[1]\n",
        "    d = state[2]\n",
        "    visited[d][x][y] = 1\n",
        "    \n",
        "    nx, ny = out(x, y, d, grid, dic)\n",
        "    value = grid[nx][ny]\n",
        "    \n",
        "    if value == 'R':\n",
        "        d = (d + 5) % 4\n",
        "        \n",
        "    elif value == 'L':\n",
        "        d = (d + 7) % 4\n",
        "    \n",
        "    if org[0] == nx and org[1] == ny and org[2] == d:\n",
        "        answer.append(route)\n",
        "        return\n",
        "    \n",
        "    if not visited[d][nx][ny]:\n",
        "        dfs([nx, ny, d], org, route+1, grid)\n",
        "        \n",
        "def solution(grid):\n",
        "    global answer, visited\n",
        "    \n",
        "    answer = []\n",
        "    visited = [[[0]*len(grid[0]) for _ in range(len(grid))] for _ in range(4)]\n",
        "    for i in range(len(grid)):\n",
        "        for j in range(len(grid[0])):\n",
        "            for d in range(4):\n",
        "                dfs([i, j, d], [i, j, d], 1, grid)\n",
        "                    \n",
        "    return sorted(answer)"
      ],
      "metadata": {
        "id": "bbEHN2WeIF3M"
      },
      "execution_count": null,
      "outputs": []
    }
  ]
}