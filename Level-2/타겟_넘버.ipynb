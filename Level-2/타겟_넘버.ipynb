{
  "nbformat": 4,
  "nbformat_minor": 0,
  "metadata": {
    "colab": {
      "name": "타겟 넘버",
      "provenance": [],
      "collapsed_sections": []
    },
    "kernelspec": {
      "name": "python3",
      "display_name": "Python 3"
    },
    "language_info": {
      "name": "python"
    }
  },
  "cells": [
    {
      "cell_type": "markdown",
      "source": [
        "[출처]프로그래머스 레벨2"
      ],
      "metadata": {
        "id": "Qe_0yzL4PPRt"
      }
    },
    {
      "cell_type": "code",
      "execution_count": 54,
      "metadata": {
        "colab": {
          "base_uri": "https://localhost:8080/"
        },
        "id": "DpblOWaZOg3h",
        "outputId": "538a580b-c411-42f2-bf11-ce0d9863eefe"
      },
      "outputs": [
        {
          "output_type": "execute_result",
          "data": {
            "text/plain": [
              "5"
            ]
          },
          "metadata": {},
          "execution_count": 54
        }
      ],
      "source": [
        "answer = 0\n",
        "# 깊이 까지 더해준다. \n",
        "def dfs(index, val, len_, numbers, target):\n",
        "    global answer\n",
        "    if index == len_:\n",
        "        if val == target:\n",
        "            answer+= 1\n",
        "        return answer\n",
        "    for i in [1, -1]:\n",
        "        dfs(index + 1, val + (numbers[index])* i, len_, numbers, target)\n",
        "\n",
        "def solution(numbers, target):\n",
        "    len_= len(numbers)\n",
        "    dfs(0, 0, len_, numbers, target)\n",
        "    return answer \n",
        "\n",
        "\n",
        "numbers = [1, 1, 1, 1, 1]\n",
        "target = 3\n",
        "solution(numbers, target)"
      ]
    },
    {
      "cell_type": "markdown",
      "source": [
        "# 다른 사람 풀이"
      ],
      "metadata": {
        "id": "x-2oqZmFwAIP"
      }
    },
    {
      "cell_type": "code",
      "source": [
        "def solution(div, numbers, target):\n",
        "    print(div, numbers, target)\n",
        "    if not numbers and target == 0 :\n",
        "        return 1\n",
        "    elif not numbers:\n",
        "        return 0\n",
        "    else:\n",
        "        return solution(\"1\", numbers[1:], target-numbers[0]) + solution(\"2\", numbers[1:], target+numbers[0])\n",
        "\n",
        "numbers = [1, 1, 1, 1, 1]\n",
        "target = 3\n",
        "solution(\"0\", numbers, target)"
      ],
      "metadata": {
        "colab": {
          "base_uri": "https://localhost:8080/"
        },
        "id": "ODirM-y8lO8_",
        "outputId": "636c8902-c9b6-45a6-e66c-234974dada06"
      },
      "execution_count": 60,
      "outputs": [
        {
          "output_type": "stream",
          "name": "stdout",
          "text": [
            "0 [1, 1, 1, 1, 1] 3\n",
            "1 [1, 1, 1, 1] 2\n",
            "1 [1, 1, 1] 1\n",
            "1 [1, 1] 0\n",
            "1 [1] -1\n",
            "1 [] -2\n",
            "2 [] 0\n",
            "2 [1] 1\n",
            "1 [] 0\n",
            "2 [] 2\n",
            "2 [1, 1] 2\n",
            "1 [1] 1\n",
            "1 [] 0\n",
            "2 [] 2\n",
            "2 [1] 3\n",
            "1 [] 2\n",
            "2 [] 4\n",
            "2 [1, 1, 1] 3\n",
            "1 [1, 1] 2\n",
            "1 [1] 1\n",
            "1 [] 0\n",
            "2 [] 2\n",
            "2 [1] 3\n",
            "1 [] 2\n",
            "2 [] 4\n",
            "2 [1, 1] 4\n",
            "1 [1] 3\n",
            "1 [] 2\n",
            "2 [] 4\n",
            "2 [1] 5\n",
            "1 [] 4\n",
            "2 [] 6\n",
            "2 [1, 1, 1, 1] 4\n",
            "1 [1, 1, 1] 3\n",
            "1 [1, 1] 2\n",
            "1 [1] 1\n",
            "1 [] 0\n",
            "2 [] 2\n",
            "2 [1] 3\n",
            "1 [] 2\n",
            "2 [] 4\n",
            "2 [1, 1] 4\n",
            "1 [1] 3\n",
            "1 [] 2\n",
            "2 [] 4\n",
            "2 [1] 5\n",
            "1 [] 4\n",
            "2 [] 6\n",
            "2 [1, 1, 1] 5\n",
            "1 [1, 1] 4\n",
            "1 [1] 3\n",
            "1 [] 2\n",
            "2 [] 4\n",
            "2 [1] 5\n",
            "1 [] 4\n",
            "2 [] 6\n",
            "2 [1, 1] 6\n",
            "1 [1] 5\n",
            "1 [] 4\n",
            "2 [] 6\n",
            "2 [1] 7\n",
            "1 [] 6\n",
            "2 [] 8\n"
          ]
        },
        {
          "output_type": "execute_result",
          "data": {
            "text/plain": [
              "5"
            ]
          },
          "metadata": {},
          "execution_count": 60
        }
      ]
    }
  ]
}