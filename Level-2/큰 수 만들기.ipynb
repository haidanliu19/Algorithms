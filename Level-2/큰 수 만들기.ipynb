{
 "cells": [
  {
   "cell_type": "code",
   "execution_count": 15,
   "metadata": {},
   "outputs": [
    {
     "name": "stdout",
     "output_type": "stream",
     "text": [
      "1 []\n",
      "9 [1]\n",
      "2 [9]\n",
      "4 [9, 2]\n"
     ]
    },
    {
     "data": {
      "text/plain": [
       "'924'"
      ]
     },
     "execution_count": 15,
     "metadata": {},
     "output_type": "execute_result"
    }
   ],
   "source": [
    "def solution(number, k):\n",
    "    answer = []\n",
    "    for num in number:\n",
    "        print(num, answer)\n",
    "        while answer and k > 0 and int(num) > answer[-1]:\n",
    "            answer.pop()\n",
    "            k -= 1\n",
    "        answer.append(int(num))\n",
    "    # 앞에서 이미 끝났을 경우 test case 12\n",
    "    answer = answer[:len(number)-k]\n",
    "    return \"\".join(list(map(str, answer)))\n",
    "\n",
    "\n",
    "number =\"1924\"\n",
    "k = 1\n",
    "solution(number, k)"
   ]
  },
  {
   "cell_type": "markdown",
   "metadata": {},
   "source": [
    "# 실패하였다. 작은수를 구하고 해서 그런것 같다. 앞에서 부터 작은 수를 뺴야 한다. "
   ]
  },
  {
   "cell_type": "code",
   "execution_count": 90,
   "metadata": {},
   "outputs": [
    {
     "name": "stdout",
     "output_type": "stream",
     "text": [
      "77584\n"
     ]
    },
    {
     "data": {
      "text/plain": [
       "''"
      ]
     },
     "execution_count": 90,
     "metadata": {},
     "output_type": "execute_result"
    }
   ],
   "source": [
    "def solution(number, k):\n",
    "    answer = ''\n",
    "    number_list_sort = sorted(list(number))[:k +1]\n",
    "    for i in number_list_sort:\n",
    "        number = number.replace(i, '', 1)\n",
    "    print(number)\n",
    "    return answer\n",
    "\n",
    "\n",
    "number =\"4177252841\"\n",
    "k = 4\n",
    "solution(number, k)"
   ]
  },
  {
   "cell_type": "markdown",
   "metadata": {},
   "source": [
    "number\tk\treturn\n",
    "\"1924\"\t2\t\"94\"\n",
    "\"1231234\"\t3\t\"3234\"\n",
    "\"4177252841\"\t4\t\"775841\""
   ]
  }
 ],
 "metadata": {
  "kernelspec": {
   "display_name": "Python 3",
   "language": "python",
   "name": "python3"
  },
  "language_info": {
   "codemirror_mode": {
    "name": "ipython",
    "version": 3
   },
   "file_extension": ".py",
   "mimetype": "text/x-python",
   "name": "python",
   "nbconvert_exporter": "python",
   "pygments_lexer": "ipython3",
   "version": "3.6.9"
  }
 },
 "nbformat": 4,
 "nbformat_minor": 4
}
