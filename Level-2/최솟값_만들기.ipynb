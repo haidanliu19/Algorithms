{
  "nbformat": 4,
  "nbformat_minor": 0,
  "metadata": {
    "colab": {
      "name": "최솟값 만들기.ipynb",
      "provenance": [],
      "collapsed_sections": []
    },
    "kernelspec": {
      "name": "python3",
      "display_name": "Python 3"
    },
    "language_info": {
      "name": "python"
    }
  },
  "cells": [
    {
      "cell_type": "code",
      "metadata": {
        "colab": {
          "base_uri": "https://localhost:8080/"
        },
        "id": "j4bFePysAZiC",
        "outputId": "f92318e6-319d-4d5d-a00b-d6221197c1cb"
      },
      "source": [
        "def solution(A,B):\n",
        "    A.sort()\n",
        "    B.sort(reverse=True)\n",
        "    answer = 0\n",
        "    answer = sum([A[i]* B[i] for i in range(len(A)) ])\n",
        "    return answer\n",
        "\n",
        "A= [1, 4, 2]\n",
        "B= [5, 4, 4]\n",
        "solution(A,B)"
      ],
      "execution_count": 15,
      "outputs": [
        {
          "output_type": "execute_result",
          "data": {
            "text/plain": [
              "29"
            ]
          },
          "metadata": {},
          "execution_count": 15
        }
      ]
    },
    {
      "cell_type": "code",
      "metadata": {
        "id": "RN15dapNGCIS"
      },
      "source": [
        "###########시간 초과\n",
        "\n",
        "def solution(A,B):\n",
        "    answer = 0\n",
        "    while A:\n",
        "        min_a,max_b = min(A), max(B)\n",
        "        A.remove(min_a)\n",
        "        B.remove(max_b)\n",
        "        answer += min_a* max_b\n",
        "\n",
        "    return answer\n",
        "\n",
        "A= [1, 4, 2]\n",
        "B= [5, 4, 4]\n",
        "solution(A,B)"
      ],
      "execution_count": null,
      "outputs": []
    }
  ]
}