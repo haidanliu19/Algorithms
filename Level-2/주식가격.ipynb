{
  "nbformat": 4,
  "nbformat_minor": 0,
  "metadata": {
    "colab": {
      "name": "주식가격.ipynb",
      "provenance": [],
      "collapsed_sections": []
    },
    "kernelspec": {
      "name": "python3",
      "display_name": "Python 3"
    },
    "language_info": {
      "name": "python"
    }
  },
  "cells": [
    {
      "cell_type": "markdown",
      "source": [
        "출처 : 프로그래머스"
      ],
      "metadata": {
        "id": "hyD_nxau3vQl"
      }
    },
    {
      "cell_type": "code",
      "source": [
        "from collections import deque\n",
        "def solution(prices):\n",
        "    answer = []\n",
        "    queue = deque(prices)\n",
        "    while queue:\n",
        "        price = queue.popleft()\n",
        "        cnt = 0\n",
        "        for i in queue:\n",
        "            cnt += 1\n",
        "            if i < price:\n",
        "                break\n",
        "        answer.append(cnt)\n",
        "    return answer\n",
        "\n",
        "prices = [1, 2, 3, 2, 3]\n",
        "solution(prices)"
      ],
      "metadata": {
        "colab": {
          "base_uri": "https://localhost:8080/"
        },
        "id": "cXr-zpoD8dhI",
        "outputId": "9191cbf3-04b5-4853-82a6-6a4e166b08a5"
      },
      "execution_count": 45,
      "outputs": [
        {
          "output_type": "execute_result",
          "data": {
            "text/plain": [
              "[4, 3, 1, 1, 0]"
            ]
          },
          "metadata": {},
          "execution_count": 45
        }
      ]
    },
    {
      "cell_type": "code",
      "source": [
        "# 시간 초과 \n",
        "def solution(prices):\n",
        "    answer = []\n",
        "    while prices:\n",
        "        price = prices.pop(0)\n",
        "        #print(price, prices)\n",
        "        cnt = 0\n",
        "        for i in prices:\n",
        "            cnt += 1\n",
        "            if i < price:\n",
        "                break\n",
        "            \n",
        "        answer.append(cnt)\n",
        "    return answer\n",
        "\n",
        "prices = [1, 2, 3, 2, 3]\n",
        "solution(prices)"
      ],
      "metadata": {
        "id": "h3jiYsXE9Qx9"
      },
      "execution_count": null,
      "outputs": []
    },
    {
      "cell_type": "code",
      "execution_count": 30,
      "metadata": {
        "colab": {
          "base_uri": "https://localhost:8080/"
        },
        "id": "BUx-gpze3ug1",
        "outputId": "54418ccf-5ecf-4ae3-a915-7c1d13ce28fa"
      },
      "outputs": [
        {
          "output_type": "execute_result",
          "data": {
            "text/plain": [
              "[0, 0, 0, 0, 0]"
            ]
          },
          "metadata": {},
          "execution_count": 30
        }
      ],
      "source": [
        "# 실패 케이스 \n",
        "def solution(prices):\n",
        "    answer = []\n",
        "    while prices:\n",
        "        price = prices.pop(0)\n",
        "        list_ = [0 if i >=1 else 1 for i in prices  ]\n",
        "        answer.append(sum(list_))\n",
        "    return answer\n",
        "\n",
        "prices = [1, 2, 3, 2, 3]\n",
        "solution(prices)"
      ]
    },
    {
      "cell_type": "code",
      "source": [
        "from collections import deque\n",
        "def solution(prices):\n",
        "    answer = []\n",
        "    queue = deque(prices)\n",
        "    while queue:\n",
        "        price = queue.popleft()\n",
        "        list_ = [1 if i >= price else 0 for i in queue  ]\n",
        "        answer.append(sum(list_))\n",
        "    return answer\n",
        "\n",
        "prices = [1, 2, 3, 2, 3]\n",
        "solution(prices)"
      ],
      "metadata": {
        "colab": {
          "base_uri": "https://localhost:8080/"
        },
        "id": "gDHXTqWK4rWX",
        "outputId": "61a9e891-e43d-4019-8f3d-3ab6d864d1c0"
      },
      "execution_count": 24,
      "outputs": [
        {
          "output_type": "execute_result",
          "data": {
            "text/plain": [
              "[4, 3, 1, 1, 0]"
            ]
          },
          "metadata": {},
          "execution_count": 24
        }
      ]
    }
  ]
}