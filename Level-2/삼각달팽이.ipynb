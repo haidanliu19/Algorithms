{
  "nbformat": 4,
  "nbformat_minor": 0,
  "metadata": {
    "colab": {
      "name": "삼각달팽이.ipynb",
      "provenance": [],
      "collapsed_sections": []
    },
    "kernelspec": {
      "name": "python3",
      "display_name": "Python 3"
    },
    "language_info": {
      "name": "python"
    }
  },
  "cells": [
    {
      "cell_type": "code",
      "execution_count": 76,
      "metadata": {
        "id": "BAc8hEVFkNrs",
        "colab": {
          "base_uri": "https://localhost:8080/"
        },
        "outputId": "243c83a4-7b9c-469b-fea3-ebbc6c1db33f"
      },
      "outputs": [
        {
          "output_type": "execute_result",
          "data": {
            "text/plain": [
              "[1, 2, 9, 3, 10, 8, 4, 5, 6, 7]"
            ]
          },
          "metadata": {},
          "execution_count": 76
        }
      ],
      "source": [
        "def solution(n):\n",
        "    answer = [[0 for i in range(n)] for j in range(n)] \n",
        "    cnt = 1\n",
        "    x, y = -1, 0\n",
        "    for i in range(n):\n",
        "        for j in range(i, n):\n",
        "            # 방향은 3개이다. \n",
        "            if i % 3 == 0:\n",
        "                x += 1\n",
        "            elif i % 3 == 1:\n",
        "                y += 1\n",
        "            else:\n",
        "                x -= 1\n",
        "                y -= 1\n",
        "            # 아래로 내려가기 \n",
        "            answer[x][y]  = cnt\n",
        "            cnt += 1\n",
        "    \n",
        "    answer = [j for i in answer for j in i if j != 0]\n",
        "    return answer\n",
        "\n",
        "\n",
        "n = 4\n",
        "solution(n)"
      ]
    },
    {
      "cell_type": "code",
      "source": [
        "def solution(n):\n",
        "    answer = [[0 for i in range(n)] for j in range(n)] \n",
        "    cnt = 1\n",
        "    x, y = -1, 0\n",
        "    for i in range(n):\n",
        "        for j in range(i, n):\n",
        "            # 방향은 3개이다. \n",
        "            if i % 3 == 0:\n",
        "                x += 1\n",
        "            elif i % 3 == 1:\n",
        "                y += 1\n",
        "            else:\n",
        "                x -= 1\n",
        "                y -= 1\n",
        "            # 아래로 내려가기 \n",
        "            answer[x][y]  = cnt\n",
        "            cnt += 1\n",
        "    \n",
        "    answer = [j for i in answer for j in i if j != 0]\n",
        "    return answer\n",
        "\n",
        "\n",
        "n = 4\n",
        "solution(n)"
      ],
      "metadata": {
        "id": "wK1lAc9iwr3T"
      },
      "execution_count": null,
      "outputs": []
    },
    {
      "cell_type": "code",
      "source": [
        "def solution(n):\n",
        "    answer = [[0]* i for i in range(1, n+1)] \n",
        "    cnt = 1\n",
        "    x, y = -1, 0\n",
        "    for i in range(n):\n",
        "        for j in range(i, n):\n",
        "            # 방향은 3개이다. \n",
        "            if i % 3 == 0:\n",
        "                x += 1\n",
        "            elif i % 3 == 1:\n",
        "                y += 1\n",
        "            else:\n",
        "                x -= 1\n",
        "                y -= 1\n",
        "            # 아래로 내려가기 \n",
        "            answer[x][y]  = cnt\n",
        "            cnt += 1\n",
        "    \n",
        "    answer = sum(answer,[])\n",
        "    return answer\n",
        "\n",
        "\n",
        "n = 4\n",
        "solution(n)"
      ],
      "metadata": {
        "colab": {
          "base_uri": "https://localhost:8080/"
        },
        "id": "iMEl8tqcwgPE",
        "outputId": "80b56c90-4c99-41f3-dfac-09df54ae3ff6"
      },
      "execution_count": 83,
      "outputs": [
        {
          "output_type": "execute_result",
          "data": {
            "text/plain": [
              "[1, 2, 9, 3, 10, 8, 4, 5, 6, 7]"
            ]
          },
          "metadata": {},
          "execution_count": 83
        }
      ]
    },
    {
      "cell_type": "markdown",
      "source": [
        "다른 사람 풀이"
      ],
      "metadata": {
        "id": "DldIgPR1wGpo"
      }
    },
    {
      "cell_type": "code",
      "source": [
        "def solution(n):\n",
        "    dx=[0,1,-1];dy=[1,0,-1]\n",
        "    print(dx)\n",
        "    print(dy)\n",
        "    b=[[0]*i for i in range(1,n+1)]\n",
        "    print(b)\n",
        "    x,y=0,0;num=1;d=0\n",
        "    print((n+1)*n//2)\n",
        "    while num<=(n+1)*n//2:\n",
        "        b[y][x]=num\n",
        "        ny=y+dy[d];nx=x+dx[d];num+=1\n",
        "        if 0<=ny<n and 0<=nx<=ny and b[ny][nx]==0:y,x=ny,nx\n",
        "        else:d=(d+1)%3;y+=dy[d];x+=dx[d]\n",
        "    print(b)\n",
        "    return sum(b,[])\n",
        "\n",
        "\n",
        "n = 4\n",
        "solution(n)"
      ],
      "metadata": {
        "colab": {
          "base_uri": "https://localhost:8080/"
        },
        "id": "-YHh60PkpX_b",
        "outputId": "f1984265-0b95-4d27-8f60-6ae2b6998e6a"
      },
      "execution_count": 81,
      "outputs": [
        {
          "output_type": "stream",
          "name": "stdout",
          "text": [
            "[0, 1, -1]\n",
            "[1, 0, -1]\n",
            "[[0], [0, 0], [0, 0, 0], [0, 0, 0, 0]]\n",
            "10\n",
            "[[1], [2, 9], [3, 10, 8], [4, 5, 6, 7]]\n"
          ]
        },
        {
          "output_type": "execute_result",
          "data": {
            "text/plain": [
              "[1, 2, 9, 3, 10, 8, 4, 5, 6, 7]"
            ]
          },
          "metadata": {},
          "execution_count": 81
        }
      ]
    }
  ]
}