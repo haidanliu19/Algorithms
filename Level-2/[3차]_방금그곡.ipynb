{
  "nbformat": 4,
  "nbformat_minor": 0,
  "metadata": {
    "colab": {
      "name": "[3차] 방금그곡.ipynb",
      "provenance": [],
      "collapsed_sections": []
    },
    "kernelspec": {
      "name": "python3",
      "display_name": "Python 3"
    },
    "language_info": {
      "name": "python"
    }
  },
  "cells": [
    {
      "cell_type": "code",
      "execution_count": 100,
      "metadata": {
        "colab": {
          "base_uri": "https://localhost:8080/",
          "height": 111
        },
        "id": "ri_lmDLt4uL_",
        "outputId": "0947b7fe-ac80-469a-c85c-416fa3561276"
      },
      "outputs": [
        {
          "output_type": "stream",
          "name": "stdout",
          "text": [
            "CcBCcBCcBCcBCcBCcBCcBCcBCcBCcB\n",
            "Cc\n",
            "CcBCcBCcBCcBCcBCcBCcBCcBCcBCcB\n",
            "CcBCcBCcB\n"
          ]
        },
        {
          "output_type": "execute_result",
          "data": {
            "application/vnd.google.colaboratory.intrinsic+json": {
              "type": "string"
            },
            "text/plain": [
              "'FOO'"
            ]
          },
          "metadata": {},
          "execution_count": 100
        }
      ],
      "source": [
        "from datetime import datetime\n",
        "\n",
        "def dif(start, end):\n",
        "    start = datetime.strptime(start,'%H:%M')\n",
        "    end = datetime.strptime(end,'%H:%M')\n",
        "    diff = end-start \n",
        "    return diff.seconds// 60\n",
        "\n",
        "def solution(m, musicinfos):\n",
        "    answer = []\n",
        "    #이 부분은 참조\n",
        "    rmm ={'C#': 'c','D#': 'd','F#': 'f','G#': 'g','A#': 'a','E#': 'e'}\n",
        "\n",
        "    for keys in rmm.keys() :\n",
        "        m = m.replace(keys, rmm.get(keys))\n",
        "    \n",
        "    for i in musicinfos:\n",
        "        musicinfo = i.split(',')\n",
        "        diff = dif(musicinfo[0],musicinfo[1])\n",
        "        m_= musicinfo[-1]\n",
        "        for keys in rmm.keys() :\n",
        "            m_ = m_.replace(keys, rmm.get(keys))\n",
        "        cnt = 0\n",
        "        while len(m_) < diff:\n",
        "            m_ += m_[cnt]\n",
        "            cnt+=1\n",
        "        if len(m_) > diff:\n",
        "            m_ = m[:diff+1]\n",
        "\n",
        "        if m in m_:\n",
        "            answer.append((musicinfo[2],diff,musicinfo[0]))\n",
        "    if not len(answer):\n",
        "        return '(None)'\n",
        "\n",
        "    return max(answer,key = lambda x:x[1])[0]\n",
        "\n",
        "m = \"CC#BCC#BCC#BCC#B\"\n",
        "musicinfos = [\"03:00,03:30,FOO,CC#B\",\"03:00,03:01,FOO,CC#B\",\"02:00,02:30,FOO2,CC#B\", \"04:00,04:08,BAR,CC#BCC#BCC#B\"]\n",
        "solution(m, musicinfos)"
      ]
    },
    {
      "cell_type": "code",
      "source": [
        "from datetime import datetime\n",
        "start = datetime.strptime('12:00','%H:%M')\n",
        "end = datetime.strptime('12:00','%H:%M')\n",
        "diff = end-start \n",
        "print(diff.seconds// 60)"
      ],
      "metadata": {
        "colab": {
          "base_uri": "https://localhost:8080/"
        },
        "id": "D0CPqtl35x8i",
        "outputId": "537fda88-fa29-489e-b6a3-ac453eede7f0"
      },
      "execution_count": 75,
      "outputs": [
        {
          "output_type": "stream",
          "name": "stdout",
          "text": [
            "0\n"
          ]
        }
      ]
    },
    {
      "cell_type": "code",
      "source": [
        "def dif(start, end):\n",
        "    mm = (int(end[:2]) - int(start[:2]))*60\n",
        "    ss = int(end[3:]) - int(start[3:])\n",
        "    return mm+ss"
      ],
      "metadata": {
        "id": "InQpvOQS9k1U"
      },
      "execution_count": null,
      "outputs": []
    },
    {
      "cell_type": "code",
      "source": [
        "from itertools import repeat\n",
        "repeat(\"CDEFGAB\" , 14)"
      ],
      "metadata": {
        "colab": {
          "base_uri": "https://localhost:8080/"
        },
        "id": "DQ9NAONJ7c02",
        "outputId": "19dcaa81-85e9-4516-bb9b-9d439f164376"
      },
      "execution_count": 28,
      "outputs": [
        {
          "output_type": "execute_result",
          "data": {
            "text/plain": [
              "repeat('CDEFGAB', 14)"
            ]
          },
          "metadata": {},
          "execution_count": 28
        }
      ]
    },
    {
      "cell_type": "code",
      "source": [
        ""
      ],
      "metadata": {
        "id": "qEdTjjVIB-eA"
      },
      "execution_count": 73,
      "outputs": []
    },
    {
      "cell_type": "code",
      "source": [
        ""
      ],
      "metadata": {
        "id": "3JlMc8haCBq7"
      },
      "execution_count": null,
      "outputs": []
    }
  ]
}