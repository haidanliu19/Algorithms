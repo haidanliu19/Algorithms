{
  "nbformat": 4,
  "nbformat_minor": 0,
  "metadata": {
    "colab": {
      "name": "[1차] 캐시.ipynb",
      "provenance": [],
      "collapsed_sections": []
    },
    "kernelspec": {
      "name": "python3",
      "display_name": "Python 3"
    },
    "language_info": {
      "name": "python"
    }
  },
  "cells": [
    {
      "cell_type": "code",
      "source": [
        "def solution(cacheSize, cities):\n",
        "    answer = 0\n",
        "    stack = []\n",
        "    for i in cities:\n",
        "        i = i.lower()\n",
        "        if i not in stack: # stack에 있지 않을 경우 \n",
        "            answer += 5\n",
        "            if len(stack) < cacheSize:\n",
        "                stack.append(i)         \n",
        "            else:\n",
        "                stack.append(i)              \n",
        "                stack.pop(0)\n",
        "        else:\n",
        "           stack.pop(stack.index(i))\n",
        "           stack.append(i)\n",
        "           answer += 1 \n",
        "    return answer\n",
        "\n",
        "cacheSize = 3\n",
        "cities = [\"Jeju\", \"Pangyo\", \"Seoul\", \"Jeju\", \"Pangyo\", \"Seoul\", \"Jeju\", \"Pangyo\", \"Seoul\"]\n",
        "solution(cacheSize, cities)"
      ],
      "metadata": {
        "colab": {
          "base_uri": "https://localhost:8080/"
        },
        "id": "RnqhlK31IzF3",
        "outputId": "1bbc6879-00c6-4206-c381-58c947dd3194"
      },
      "execution_count": 134,
      "outputs": [
        {
          "output_type": "execute_result",
          "data": {
            "text/plain": [
              "21"
            ]
          },
          "metadata": {},
          "execution_count": 134
        }
      ]
    },
    {
      "cell_type": "code",
      "source": [
        ""
      ],
      "metadata": {
        "id": "h7iUFoxGM6GF"
      },
      "execution_count": null,
      "outputs": []
    }
  ]
}