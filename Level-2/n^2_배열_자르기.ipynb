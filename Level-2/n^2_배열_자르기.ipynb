{
  "nbformat": 4,
  "nbformat_minor": 0,
  "metadata": {
    "colab": {
      "name": "n^2 배열 자르기",
      "provenance": [],
      "collapsed_sections": []
    },
    "kernelspec": {
      "name": "python3",
      "display_name": "Python 3"
    },
    "language_info": {
      "name": "python"
    }
  },
  "cells": [
    {
      "cell_type": "code",
      "source": [
        "def solution(n, left, right):\n",
        "    answer = []\n",
        "    for val in range(left, right+1 ):\n",
        "        i,j = divmod(val,n)\n",
        "        # i+1 if i>j else j+1이런 방식인 max(i+1,j+1)보다 더 빨리 나온다.\n",
        "        answer.append(i+1 if i>j else j+1)\n",
        "    return answer\n",
        "\n",
        "n = 3\n",
        "left = 2\n",
        "right = 5\n",
        "solution(n, left, right)"
      ],
      "metadata": {
        "colab": {
          "base_uri": "https://localhost:8080/"
        },
        "id": "lmTSMYf8t-qz",
        "outputId": "3d8bd5af-fd45-4a1e-c700-2cc817234247"
      },
      "execution_count": 238,
      "outputs": [
        {
          "output_type": "execute_result",
          "data": {
            "text/plain": [
              "[3, 2, 2, 3]"
            ]
          },
          "metadata": {},
          "execution_count": 238
        }
      ]
    },
    {
      "cell_type": "code",
      "source": [
        "def solution(n, left, right):\n",
        "    answer = []\n",
        "    for val in range(left, right+1 ):\n",
        "        i,j = divmod(val,n)\n",
        "        answer.append(max(i+1,j+1))\n",
        "    return answer\n",
        "\n",
        "n = 3\n",
        "left = 2\n",
        "right = 5\n",
        "solution(n, left, right)"
      ],
      "metadata": {
        "colab": {
          "base_uri": "https://localhost:8080/"
        },
        "id": "GTY8nV_z48n3",
        "outputId": "12e8fa44-b676-4059-d1bc-59ac0cea1457"
      },
      "execution_count": 239,
      "outputs": [
        {
          "output_type": "execute_result",
          "data": {
            "text/plain": [
              "[3, 2, 2, 3]"
            ]
          },
          "metadata": {},
          "execution_count": 239
        }
      ]
    },
    {
      "cell_type": "code",
      "source": [
        "### 시간 초과\n",
        "def solution(n, left, right):\n",
        "    answer = [i if i>j else j for i in range(1, n+1) for j in range(1, n+1) ]\n",
        "    return answer[left:right+1]\n",
        "\n",
        "n = 3\n",
        "left = 2\n",
        "right = 5\n",
        "solution(n, left, right)"
      ],
      "metadata": {
        "colab": {
          "base_uri": "https://localhost:8080/"
        },
        "id": "bavfCYBpkf_T",
        "outputId": "d2c2302a-33aa-481d-c584-a4aa6204a508"
      },
      "execution_count": 48,
      "outputs": [
        {
          "output_type": "execute_result",
          "data": {
            "text/plain": [
              "[3, 2, 2, 3]"
            ]
          },
          "metadata": {},
          "execution_count": 48
        }
      ]
    },
    {
      "cell_type": "code",
      "source": [
        "### 시간 초과\n",
        "def solution(n, left, right):\n",
        "    answer = []\n",
        "    for i in range(1, n+1):\n",
        "        for j in range(1, n+1):\n",
        "            if len(answer) >= right+1:\n",
        "                break\n",
        "            answer.append(i if i>j else j)\n",
        "    answer = answer[left:]\n",
        "    return answer\n",
        "\n",
        "n = 3\n",
        "left = 2\n",
        "right = 5\n",
        "solution(n, left, right)"
      ],
      "metadata": {
        "colab": {
          "base_uri": "https://localhost:8080/"
        },
        "id": "z5Ip8XUri-Hr",
        "outputId": "d90349a0-c15f-4ab5-ed1f-e49ce967d354"
      },
      "execution_count": 65,
      "outputs": [
        {
          "output_type": "execute_result",
          "data": {
            "text/plain": [
              "[3, 2, 2, 3]"
            ]
          },
          "metadata": {},
          "execution_count": 65
        }
      ]
    },
    {
      "cell_type": "code",
      "source": [
        "### 시간 초과\n",
        "def solution(n, left, right):\n",
        "    answer = []\n",
        "    cnt = 0\n",
        "    for i in range(1, n+1):\n",
        "        for j in range(1, n+1):\n",
        "            if cnt >= right+1:\n",
        "                break\n",
        "            cnt += 1\n",
        "            if cnt <= right+1 and cnt > left:\n",
        "                answer.append(i if i>j else j)\n",
        "    #print(answer)\n",
        "    return answer\n",
        "\n",
        "n = 3\n",
        "left = 2\n",
        "right = 5\n",
        "solution(n, left, right)"
      ],
      "metadata": {
        "colab": {
          "base_uri": "https://localhost:8080/"
        },
        "id": "k7xGYfiktobQ",
        "outputId": "45cd8e7b-ac35-4361-b7d6-e22e04d9013b"
      },
      "execution_count": 108,
      "outputs": [
        {
          "output_type": "execute_result",
          "data": {
            "text/plain": [
              "[3, 2, 2, 3]"
            ]
          },
          "metadata": {},
          "execution_count": 108
        }
      ]
    },
    {
      "cell_type": "code",
      "source": [
        "def solution(n, left, right):\n",
        "    answer = []\n",
        "    for val in range(left, right+1 ):\n",
        "        i,j = divmod(val,n)\n",
        "        answer.append(i+1 if i>j else j+1)\n",
        "    return answer\n",
        "\n",
        "n = 4\n",
        "left = 7\n",
        "right = 14\n",
        "solution(n, left, right)"
      ],
      "metadata": {
        "colab": {
          "base_uri": "https://localhost:8080/"
        },
        "id": "FfZFQnSAzr3R",
        "outputId": "a4f306a5-7fb7-4f1c-ff1c-5c5af15cf6a0"
      },
      "execution_count": 237,
      "outputs": [
        {
          "output_type": "execute_result",
          "data": {
            "text/plain": [
              "[4, 3, 3, 3, 4, 4, 4, 4]"
            ]
          },
          "metadata": {},
          "execution_count": 237
        }
      ]
    }
  ]
}