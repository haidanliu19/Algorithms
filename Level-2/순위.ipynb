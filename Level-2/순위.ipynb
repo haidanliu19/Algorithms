{
  "nbformat": 4,
  "nbformat_minor": 0,
  "metadata": {
    "colab": {
      "name": "순위.ipynb",
      "provenance": [],
      "collapsed_sections": []
    },
    "kernelspec": {
      "name": "python3",
      "display_name": "Python 3"
    },
    "language_info": {
      "name": "python"
    }
  },
  "cells": [
    {
      "cell_type": "code",
      "source": [
        "def solution(n, results):\n",
        "    answer = 0\n",
        "    # 이긴 값을 저장한다. \n",
        "    lose_graph = [[] for _ in range(n + 1)]\n",
        "    win_graph = [[] for _ in range(n + 1)]\n",
        "    \n",
        "    for result in results:\n",
        "        win, lose = result[0], result[1]\n",
        "        win_graph[win].append(lose)\n",
        "        lose_graph[lose].append(win) # 내가 진 것 \n",
        "                \n",
        "    graph = lose_graph[:]\n",
        "    graph_1 = win_graph[:]\n",
        "    for i in range(1, n +1):\n",
        "        for j in lose_graph[i]:\n",
        "            for k in lose_graph[j]:\n",
        "                if k not in graph[i]:\n",
        "                    graph[i].append(k)\n",
        "        for j in win_graph[i]:\n",
        "            for k in win_graph[j]:\n",
        "                if k not in graph_1[i]:\n",
        "                    graph_1[i].append(k)\n",
        "    for i in range(1, n + 1):\n",
        "        if (len(graph_1[i]) + len(graph[i])) + 1  == n:\n",
        "            answer += 1\n",
        "    return answer\n",
        "\n",
        "n = 5\n",
        "#results = [[4, 3], [4, 2], [3, 2], [1, 2], [2, 5]]\n",
        "results = [[1, 2], [4, 5], [3, 4], [2, 3]]\n",
        "solution(n, results)"
      ],
      "metadata": {
        "colab": {
          "base_uri": "https://localhost:8080/"
        },
        "id": "CsP3ydSso9e3",
        "outputId": "56d291ff-e744-42d8-e849-06544bf52681"
      },
      "execution_count": 86,
      "outputs": [
        {
          "output_type": "execute_result",
          "data": {
            "text/plain": [
              "5"
            ]
          },
          "metadata": {},
          "execution_count": 86
        }
      ]
    },
    {
      "cell_type": "markdown",
      "source": [
        "[이것이 코딩 테스트다 with Python]"
      ],
      "metadata": {
        "id": "g55uQ1eXXImd"
      }
    },
    {
      "cell_type": "code",
      "source": [
        "INF = int(1e9)\n",
        "\n",
        "n = int(input())\n",
        "m = int(input())\n",
        "graph = [[INF] * (n + 1) for _ in range(n + 1)]\n",
        "\n",
        "for a in range(1, n + 1):\n",
        "    for b in range(1, n + 1):\n",
        "        if a == b:\n",
        "            graph[a][b] = 0\n",
        "for _ in range(m):\n",
        "    a, b, c = map(int, input().split())\n",
        "    graph[a][b] = c\n",
        "\n",
        "for k in range(1, n + 1):\n",
        "    for a in range(1, n + 1):\n",
        "        for b in range(1, n + 1):\n",
        "            graph[a][b] = min(graph[a][b], graph[a][k] + graph[k][b])\n",
        "\n",
        "for in range(1, n + 1):\n",
        "    for b in range(1, n + 1):\n",
        "        if graph[a][b] == INF:\n",
        "            print(\"INFINITY\", end = \" \")\n",
        "        else:\n",
        "            print(graph[a][b] , end = \" \")\n",
        "    print()"
      ],
      "metadata": {
        "id": "IXqCFBQ4r2kM"
      },
      "execution_count": null,
      "outputs": []
    },
    {
      "cell_type": "code",
      "source": [
        ""
      ],
      "metadata": {
        "id": "JYEel_XtowgB"
      },
      "execution_count": null,
      "outputs": []
    }
  ]
}