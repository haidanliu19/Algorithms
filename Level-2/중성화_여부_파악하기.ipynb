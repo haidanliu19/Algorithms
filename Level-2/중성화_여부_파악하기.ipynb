{
  "nbformat": 4,
  "nbformat_minor": 0,
  "metadata": {
    "colab": {
      "name": "중성화 여부 파악하기.ipynb",
      "provenance": [],
      "collapsed_sections": []
    },
    "kernelspec": {
      "name": "python3",
      "display_name": "Python 3"
    },
    "language_info": {
      "name": "python"
    }
  },
  "cells": [
    {
      "cell_type": "code",
      "execution_count": 17,
      "metadata": {
        "colab": {
          "base_uri": "https://localhost:8080/"
        },
        "id": "BHJzcLfhNgcu",
        "outputId": "b8e2b3e9-5383-4dc7-f93f-0d854d51298e"
      },
      "outputs": [
        {
          "output_type": "execute_result",
          "data": {
            "text/plain": [
              "5"
            ]
          },
          "metadata": {},
          "execution_count": 17
        }
      ],
      "source": [
        "-- 코드를 입력하세요\n",
        "SELECT ANIMAL_ID,\n",
        "    NAME,\n",
        "    CASE WHEN SEX_UPON_INTAKE = 'Neutered Male' THEN 'O'\n",
        "    WHEN SEX_UPON_INTAKE = 'Spayed Female' THEN 'O'\n",
        "    ELSE 'X' END '중성화'\n",
        "FROM ANIMAL_INS"
      ]
    }
  ]
}