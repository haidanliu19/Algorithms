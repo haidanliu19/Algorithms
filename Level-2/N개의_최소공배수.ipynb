{
  "nbformat": 4,
  "nbformat_minor": 0,
  "metadata": {
    "colab": {
      "name": "N개의 최소공배수.ipynb",
      "provenance": [],
      "collapsed_sections": []
    },
    "kernelspec": {
      "name": "python3",
      "display_name": "Python 3"
    },
    "language_info": {
      "name": "python"
    }
  },
  "cells": [
    {
      "cell_type": "code",
      "metadata": {
        "id": "RN08T1deDvtg",
        "colab": {
          "base_uri": "https://localhost:8080/"
        },
        "outputId": "98be5a27-1f4e-4dea-905d-5e6ec8403d9c"
      },
      "source": [
        "def gcd(n1, n2):\n",
        "    if n2== 0:\n",
        "        return n1\n",
        "    else:\n",
        "        return gcd(n2, n1%n2)\n",
        "\n",
        "def solution(arr):\n",
        "    arr.sort()\n",
        "    answer = arr[0]\n",
        "    i = 1\n",
        "    while i < len(arr):\n",
        "        answer *= arr[i] // gcd(answer, arr[i])\n",
        "        i+=1 \n",
        "    return answer\n",
        "\n",
        "arr = [2,6,8,14]\t\n",
        "solution(arr)"
      ],
      "execution_count": 67,
      "outputs": [
        {
          "output_type": "execute_result",
          "data": {
            "text/plain": [
              "168"
            ]
          },
          "metadata": {},
          "execution_count": 67
        }
      ]
    },
    {
      "cell_type": "code",
      "metadata": {
        "id": "uPrmisBS_BFo"
      },
      "source": [
        "def gcd(n1, n2):\n",
        "    if n2== 0:\n",
        "        return n1\n",
        "    else:\n",
        "        return gcd(n2, n1%n2)"
      ],
      "execution_count": 68,
      "outputs": []
    }
  ]
}