{
  "nbformat": 4,
  "nbformat_minor": 0,
  "metadata": {
    "colab": {
      "name": "피보나치수.ipynb",
      "provenance": [],
      "collapsed_sections": []
    },
    "kernelspec": {
      "name": "python3",
      "display_name": "Python 3"
    },
    "language_info": {
      "name": "python"
    }
  },
  "cells": [
    {
      "cell_type": "code",
      "metadata": {
        "id": "RN08T1deDvtg",
        "colab": {
          "base_uri": "https://localhost:8080/"
        },
        "outputId": "e8ca7a34-1737-432d-dd95-7c5e69616b0f"
      },
      "source": [
        "def solution(n):\n",
        "    results = [i for i in range(2)]\n",
        "    if n == 0 or n == 1:\n",
        "        answer = results[n]\n",
        "        return answer\n",
        "    for i in range(2, n+1):\n",
        "        answer= (results[i-2] + results[i-1])%1234567\n",
        "        results.append(answer)\n",
        "    return answer\n",
        "\n",
        "n = 5\n",
        "solution(n)"
      ],
      "execution_count": 108,
      "outputs": [
        {
          "output_type": "execute_result",
          "data": {
            "text/plain": [
              "5"
            ]
          },
          "metadata": {},
          "execution_count": 108
        }
      ]
    },
    {
      "cell_type": "code",
      "metadata": {
        "id": "r3u0t6ZCJ37B"
      },
      "source": [
        ""
      ],
      "execution_count": null,
      "outputs": []
    },
    {
      "cell_type": "code",
      "metadata": {
        "id": "DAaX9rnXJ4TJ"
      },
      "source": [
        ""
      ],
      "execution_count": null,
      "outputs": []
    }
  ]
}