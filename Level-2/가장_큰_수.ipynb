{
  "nbformat": 4,
  "nbformat_minor": 0,
  "metadata": {
    "colab": {
      "name": "가장 큰 수.ipynb",
      "provenance": [],
      "collapsed_sections": []
    },
    "kernelspec": {
      "name": "python3",
      "display_name": "Python 3"
    },
    "language_info": {
      "name": "python"
    }
  },
  "cells": [
    {
      "cell_type": "code",
      "source": [
        "def solution(numbers):\n",
        "    if any(numbers) == 0:\n",
        "        return '0'\n",
        "    numbers_s =  list(map(str, numbers))\n",
        "    numbers_s.sort(key = (lambda x : x * 3) ,reverse = True)\n",
        "    answer = \"\".join(numbers_s)\n",
        "    return answer\n",
        "\n",
        "\n",
        "numbers = [0, 0, 0] \n",
        "solution(numbers)"
      ],
      "metadata": {
        "colab": {
          "base_uri": "https://localhost:8080/",
          "height": 35
        },
        "id": "8JkfRU9uhWD0",
        "outputId": "2c2021c7-9047-414a-d320-4d4baeca90fd"
      },
      "execution_count": 88,
      "outputs": [
        {
          "output_type": "execute_result",
          "data": {
            "application/vnd.google.colaboratory.intrinsic+json": {
              "type": "string"
            },
            "text/plain": [
              "'0'"
            ]
          },
          "metadata": {},
          "execution_count": 88
        }
      ]
    },
    {
      "cell_type": "code",
      "source": [
        "def solution(numbers):\n",
        "\n",
        "    numbers_s =  list(map(str, numbers))\n",
        "    numbers_s.sort(key = (lambda x : x * 3) ,reverse = True)\n",
        "    answer = \"\".join(numbers_s)\n",
        "    return answer\n",
        "\n",
        "\n",
        "numbers = \t[3, 30, 300, 34, 5, 9]\n",
        "solution(numbers)"
      ],
      "metadata": {
        "colab": {
          "base_uri": "https://localhost:8080/",
          "height": 35
        },
        "id": "VSk0xKS_fags",
        "outputId": "99b116d8-9330-4a1a-8498-8d44dc52afcf"
      },
      "execution_count": 76,
      "outputs": [
        {
          "output_type": "execute_result",
          "data": {
            "application/vnd.google.colaboratory.intrinsic+json": {
              "type": "string"
            },
            "text/plain": [
              "'9534330300'"
            ]
          },
          "metadata": {},
          "execution_count": 76
        }
      ]
    },
    {
      "cell_type": "code",
      "source": [
        "numbers = [ 0, 0, 0] \n",
        "any(numbers) == 0"
      ],
      "metadata": {
        "colab": {
          "base_uri": "https://localhost:8080/"
        },
        "id": "yom2TklWhrdn",
        "outputId": "6fc52a95-5dd0-407b-fb5a-31d78734d217"
      },
      "execution_count": 87,
      "outputs": [
        {
          "output_type": "execute_result",
          "data": {
            "text/plain": [
              "True"
            ]
          },
          "metadata": {},
          "execution_count": 87
        }
      ]
    },
    {
      "cell_type": "code",
      "source": [
        "min(['33', '3030'])"
      ],
      "metadata": {
        "colab": {
          "base_uri": "https://localhost:8080/",
          "height": 35
        },
        "id": "P8d1LY8vgV1s",
        "outputId": "d54d9fc2-e7fd-4db8-d362-1965905a27c8"
      },
      "execution_count": 74,
      "outputs": [
        {
          "output_type": "execute_result",
          "data": {
            "application/vnd.google.colaboratory.intrinsic+json": {
              "type": "string"
            },
            "text/plain": [
              "'3030'"
            ]
          },
          "metadata": {},
          "execution_count": 74
        }
      ]
    },
    {
      "cell_type": "code",
      "source": [
        "g = lambda x : x * 2\n",
        "print(g('3'))\n",
        "print(g('30'))"
      ],
      "metadata": {
        "colab": {
          "base_uri": "https://localhost:8080/"
        },
        "id": "CxNzJR6ZgtHC",
        "outputId": "eccc3138-a6c1-48ef-b22d-87d618d5ecbe"
      },
      "execution_count": 72,
      "outputs": [
        {
          "output_type": "stream",
          "name": "stdout",
          "text": [
            "33\n",
            "3030\n"
          ]
        }
      ]
    },
    {
      "cell_type": "code",
      "source": [
        "# 이 경우에는 3과 30일 경우 틀린다. \n",
        "\n",
        "def solution(numbers):\n",
        "    answer = \"\"\n",
        "    numbers_s =  list(map(str, numbers))\n",
        "    while len(numbers_s) >0:\n",
        "        answer += max(numbers_s)\n",
        "        numbers_s.remove(max(numbers_s))\n",
        "\n",
        "    return answer\n",
        "\n",
        "\n",
        "numbers = \t[3, 30, 34, 5, 9]\n",
        "solution(numbers)"
      ],
      "metadata": {
        "colab": {
          "base_uri": "https://localhost:8080/",
          "height": 53
        },
        "id": "azh8EWYAb3yn",
        "outputId": "b799cf13-c471-4d4c-de88-9a20441a94a0"
      },
      "execution_count": 57,
      "outputs": [
        {
          "output_type": "stream",
          "name": "stdout",
          "text": [
            "['3', '30', '34', '5', '9']\n"
          ]
        },
        {
          "output_type": "execute_result",
          "data": {
            "application/vnd.google.colaboratory.intrinsic+json": {
              "type": "string"
            },
            "text/plain": [
              "''"
            ]
          },
          "metadata": {},
          "execution_count": 57
        }
      ]
    },
    {
      "cell_type": "code",
      "execution_count": 43,
      "metadata": {
        "colab": {
          "base_uri": "https://localhost:8080/",
          "height": 35
        },
        "id": "hQL-1KFeTafe",
        "outputId": "78d64ece-5e9d-4f3c-8c99-2b20a05fb133"
      },
      "outputs": [
        {
          "output_type": "execute_result",
          "data": {
            "application/vnd.google.colaboratory.intrinsic+json": {
              "type": "string"
            },
            "text/plain": [
              "'6210'"
            ]
          },
          "metadata": {},
          "execution_count": 43
        }
      ],
      "source": [
        "# 시간 초과\n",
        "from itertools import permutations\n",
        "\n",
        "def solution(numbers):\n",
        "    numbers_s =  list(map(str, numbers))\n",
        "    numbers_1 = permutations(numbers_s, len(numbers))\n",
        "    result = []\n",
        "    for i in numbers_1:\n",
        "        number = int(\"\".join(i))\n",
        "        result.append(number)\n",
        "    answer = -float(\"inf\")\n",
        "    for i in result:\n",
        "        if i > answer:\n",
        "            answer = i\n",
        "    return str(answer)\n",
        "\n",
        "numbers = [6, 10, 2]\n",
        "solution(numbers)"
      ]
    },
    {
      "cell_type": "code",
      "source": [
        "from itertools import permutations\n",
        "from itertools import combinations\n",
        "numbers = [3, 30, 34, 5, 9]\n",
        "print(list(permutations(numbers)))\n",
        "print(list(combinations(numbers, len(numbers))))"
      ],
      "metadata": {
        "colab": {
          "base_uri": "https://localhost:8080/"
        },
        "id": "c6wWFQBvVw1D",
        "outputId": "6100619f-4911-49ee-9340-acafa74ed16c"
      },
      "execution_count": 34,
      "outputs": [
        {
          "output_type": "stream",
          "name": "stdout",
          "text": [
            "[(3, 30, 34, 5, 9), (3, 30, 34, 9, 5), (3, 30, 5, 34, 9), (3, 30, 5, 9, 34), (3, 30, 9, 34, 5), (3, 30, 9, 5, 34), (3, 34, 30, 5, 9), (3, 34, 30, 9, 5), (3, 34, 5, 30, 9), (3, 34, 5, 9, 30), (3, 34, 9, 30, 5), (3, 34, 9, 5, 30), (3, 5, 30, 34, 9), (3, 5, 30, 9, 34), (3, 5, 34, 30, 9), (3, 5, 34, 9, 30), (3, 5, 9, 30, 34), (3, 5, 9, 34, 30), (3, 9, 30, 34, 5), (3, 9, 30, 5, 34), (3, 9, 34, 30, 5), (3, 9, 34, 5, 30), (3, 9, 5, 30, 34), (3, 9, 5, 34, 30), (30, 3, 34, 5, 9), (30, 3, 34, 9, 5), (30, 3, 5, 34, 9), (30, 3, 5, 9, 34), (30, 3, 9, 34, 5), (30, 3, 9, 5, 34), (30, 34, 3, 5, 9), (30, 34, 3, 9, 5), (30, 34, 5, 3, 9), (30, 34, 5, 9, 3), (30, 34, 9, 3, 5), (30, 34, 9, 5, 3), (30, 5, 3, 34, 9), (30, 5, 3, 9, 34), (30, 5, 34, 3, 9), (30, 5, 34, 9, 3), (30, 5, 9, 3, 34), (30, 5, 9, 34, 3), (30, 9, 3, 34, 5), (30, 9, 3, 5, 34), (30, 9, 34, 3, 5), (30, 9, 34, 5, 3), (30, 9, 5, 3, 34), (30, 9, 5, 34, 3), (34, 3, 30, 5, 9), (34, 3, 30, 9, 5), (34, 3, 5, 30, 9), (34, 3, 5, 9, 30), (34, 3, 9, 30, 5), (34, 3, 9, 5, 30), (34, 30, 3, 5, 9), (34, 30, 3, 9, 5), (34, 30, 5, 3, 9), (34, 30, 5, 9, 3), (34, 30, 9, 3, 5), (34, 30, 9, 5, 3), (34, 5, 3, 30, 9), (34, 5, 3, 9, 30), (34, 5, 30, 3, 9), (34, 5, 30, 9, 3), (34, 5, 9, 3, 30), (34, 5, 9, 30, 3), (34, 9, 3, 30, 5), (34, 9, 3, 5, 30), (34, 9, 30, 3, 5), (34, 9, 30, 5, 3), (34, 9, 5, 3, 30), (34, 9, 5, 30, 3), (5, 3, 30, 34, 9), (5, 3, 30, 9, 34), (5, 3, 34, 30, 9), (5, 3, 34, 9, 30), (5, 3, 9, 30, 34), (5, 3, 9, 34, 30), (5, 30, 3, 34, 9), (5, 30, 3, 9, 34), (5, 30, 34, 3, 9), (5, 30, 34, 9, 3), (5, 30, 9, 3, 34), (5, 30, 9, 34, 3), (5, 34, 3, 30, 9), (5, 34, 3, 9, 30), (5, 34, 30, 3, 9), (5, 34, 30, 9, 3), (5, 34, 9, 3, 30), (5, 34, 9, 30, 3), (5, 9, 3, 30, 34), (5, 9, 3, 34, 30), (5, 9, 30, 3, 34), (5, 9, 30, 34, 3), (5, 9, 34, 3, 30), (5, 9, 34, 30, 3), (9, 3, 30, 34, 5), (9, 3, 30, 5, 34), (9, 3, 34, 30, 5), (9, 3, 34, 5, 30), (9, 3, 5, 30, 34), (9, 3, 5, 34, 30), (9, 30, 3, 34, 5), (9, 30, 3, 5, 34), (9, 30, 34, 3, 5), (9, 30, 34, 5, 3), (9, 30, 5, 3, 34), (9, 30, 5, 34, 3), (9, 34, 3, 30, 5), (9, 34, 3, 5, 30), (9, 34, 30, 3, 5), (9, 34, 30, 5, 3), (9, 34, 5, 3, 30), (9, 34, 5, 30, 3), (9, 5, 3, 30, 34), (9, 5, 3, 34, 30), (9, 5, 30, 3, 34), (9, 5, 30, 34, 3), (9, 5, 34, 3, 30), (9, 5, 34, 30, 3)]\n",
            "[(3, 30, 34, 5, 9)]\n"
          ]
        }
      ]
    }
  ]
}