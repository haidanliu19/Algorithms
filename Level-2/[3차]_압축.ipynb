{
  "nbformat": 4,
  "nbformat_minor": 0,
  "metadata": {
    "colab": {
      "name": "[3차] 압축.ipynb",
      "provenance": [],
      "collapsed_sections": []
    },
    "kernelspec": {
      "name": "python3",
      "display_name": "Python 3"
    },
    "language_info": {
      "name": "python"
    }
  },
  "cells": [
    {
      "cell_type": "code",
      "execution_count": 113,
      "metadata": {
        "id": "XmyfStkWTpxJ",
        "colab": {
          "base_uri": "https://localhost:8080/"
        },
        "outputId": "690ce405-8341-4f30-8444-ec874f62462d"
      },
      "outputs": [
        {
          "output_type": "stream",
          "name": "stdout",
          "text": [
            "KA\n",
            "AK\n",
            "KAO\n",
            "O [11, 1, 27, 15]\n"
          ]
        },
        {
          "output_type": "execute_result",
          "data": {
            "text/plain": [
              "[11, 1, 27, 15]"
            ]
          },
          "metadata": {},
          "execution_count": 113
        }
      ],
      "source": [
        "dict_ =  {}\n",
        "index_ = 1\n",
        "for x in range(65,91):\n",
        "    dict_[chr(x)] = index_\n",
        "    index_ += 1\n",
        "\n",
        "def solution(msg):\n",
        "    answer = [] \n",
        "    i = 0\n",
        "    w = msg[0]\n",
        "    while i != len(msg):\n",
        "        if w in dict_.keys():\n",
        "            if i != len(msg)-1:\n",
        "                i+= 1\n",
        "            else:\n",
        "                answer.append(dict_.get(w))\n",
        "                print(w, answer)\n",
        "                break\n",
        "            w += msg[i]\n",
        "        else:\n",
        "            dict_[w] = max(dict_.values())+1\n",
        "            answer.append(dict_.get(w[:-1]))\n",
        "            w = msg[i]\n",
        "    return answer\n",
        "\n",
        "msg=\"KAKAO\"\n",
        "solution(msg)"
      ]
    },
    {
      "cell_type": "code",
      "source": [
        "for x in range(65,91):\n",
        "\tprint(chr(x),end=\"\")"
      ],
      "metadata": {
        "colab": {
          "base_uri": "https://localhost:8080/"
        },
        "id": "SAvFLpj50oNh",
        "outputId": "ed0d51a5-ca10-41ef-c494-d1eea97d6cc3"
      },
      "execution_count": 2,
      "outputs": [
        {
          "output_type": "stream",
          "name": "stdout",
          "text": [
            "ABCDEFGHIJKLMNOPQRSTUVWXYZ"
          ]
        }
      ]
    },
    {
      "cell_type": "code",
      "source": [
        "dict_ =  {}\n",
        "index_ = 1\n",
        "for x in range(65,91):\n",
        "    dict_[chr(x)] = index_\n",
        "    index_ += 1\n",
        "print(dict_)"
      ],
      "metadata": {
        "colab": {
          "base_uri": "https://localhost:8080/"
        },
        "id": "oS-6TgKM1arP",
        "outputId": "5b1d78ef-d0e7-43b4-a193-89f92ce815da"
      },
      "execution_count": 8,
      "outputs": [
        {
          "output_type": "stream",
          "name": "stdout",
          "text": [
            "{'A': 1, 'B': 2, 'C': 3, 'D': 4, 'E': 5, 'F': 6, 'G': 7, 'H': 8, 'I': 9, 'J': 10, 'K': 11, 'L': 12, 'M': 13, 'N': 14, 'O': 15, 'P': 16, 'Q': 17, 'R': 18, 'S': 19, 'T': 20, 'U': 21, 'V': 22, 'W': 23, 'X': 24, 'Y': 25, 'Z': 26}\n"
          ]
        }
      ]
    },
    {
      "cell_type": "code",
      "source": [
        "max(dict_.values())"
      ],
      "metadata": {
        "colab": {
          "base_uri": "https://localhost:8080/"
        },
        "id": "GP9NHGIy2r_l",
        "outputId": "58c252c4-7010-41f9-a462-70118ebfa1b9"
      },
      "execution_count": 22,
      "outputs": [
        {
          "output_type": "execute_result",
          "data": {
            "text/plain": [
              "26"
            ]
          },
          "metadata": {},
          "execution_count": 22
        }
      ]
    }
  ]
}