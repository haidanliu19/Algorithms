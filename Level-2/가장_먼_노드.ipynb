{
  "nbformat": 4,
  "nbformat_minor": 0,
  "metadata": {
    "colab": {
      "name": "가장 먼 노드.ipynb",
      "provenance": [],
      "collapsed_sections": []
    },
    "kernelspec": {
      "name": "python3",
      "display_name": "Python 3"
    },
    "language_info": {
      "name": "python"
    }
  },
  "cells": [
    {
      "cell_type": "markdown",
      "source": [
        "n개의 노드가 있는 그래프가 있습니다. 각 노드는 1부터 n까지 번호가 적혀있습니다. 1번 노드에서 가장 멀리 떨어진 노드의 갯수를 구하려고 합니다. 가장 멀리 떨어진 노드란 최단경로로 이동했을 때 간선의 개수가 가장 많은 노드들을 의미합니다.\n",
        "\n",
        "노드의 개수 n, 간선에 대한 정보가 담긴 2차원 배열 vertex가 매개변수로 주어질 때, 1번 노드로부터 가장 멀리 떨어진 노드가 몇 개인지를 return 하도록 solution 함수를 작성해주세요.\n",
        "\n",
        "제한사항\n",
        "노드의 개수 n은 2 이상 20,000 이하입니다.\n",
        "간선은 양방향이며 총 1개 이상 50,000개 이하의 간선이 있습니다.\n",
        "vertex 배열 각 행 [a, b]는 a번 노드와 b번 노드 사이에 간선이 있다는 의미입니다.\n",
        "\n",
        "예제의 그래프를 표현하면 아래 그림과 같고, 1번 노드에서 가장 멀리 떨어진 노드는 4,5,6번 노드입니다. =>3"
      ],
      "metadata": {
        "id": "9v33eDQIK7X6"
      }
    },
    {
      "cell_type": "code",
      "source": [
        "# https://velog.io/@devjuun_s/%EA%B0%80%EC%9E%A5-%EB%A8%BC-%EB%85%B8%EB%93%9C-%ED%94%84%EB%A1%9C%EA%B7%B8%EB%9E%98%EB%A8%B8%EC%8A%A4python\n",
        "# 참조해서 하였다. \n",
        "from collections import deque \n",
        "\n",
        "def bfs(adj, start, visited):\n",
        "    count = 0\n",
        "    q = deque([[start, count]])\n",
        "\n",
        "    while q:\n",
        "        value = q.popleft()\n",
        "        start = value[0]\n",
        "        count = value[1]\n",
        "        if visited[start] == -1:\n",
        "            visited[start] = count\n",
        "            count += 1\n",
        "            for e in adj[start]:\n",
        "                q.append([e, count])\n",
        "    \n",
        "\n",
        "def solution(n, edge):\n",
        "    answer = 0\n",
        "    vertexList = [i for i in range(0, n + 1)]\n",
        "    ajanceyList = [[] for vertext in vertexList]\n",
        "    visited = [-1] * (n+1)\n",
        "    for e in edge:\n",
        "        ajanceyList[e[0]].append(e[1])\n",
        "        ajanceyList[e[1]].append(e[0])\n",
        "    #print(ajanceyList)\n",
        "    bfs(ajanceyList, 1, visited)\n",
        "    #print(visited)\n",
        "    answer = visited.count(max(visited))\n",
        "    return answer\n",
        "\n",
        "n = 6\n",
        "edge = [[3, 6], [4, 3], [3, 2], [1, 3], [1, 2], [2, 4], [5, 2]]\n",
        "solution(n, edge)"
      ],
      "metadata": {
        "id": "21xtXtRsLySs"
      },
      "execution_count": null,
      "outputs": []
    },
    {
      "cell_type": "code",
      "source": [
        "# 원래는 아래처럼 하고 싶었다. 다른사람 풀이 보고 수정하였다. \n",
        "def solution(n, edge):\n",
        "    answer = 0\n",
        "    vertexList = [i for i in range(0, n + 1)]\n",
        "    ajanceyList = [[] for vertext in vertexList]\n",
        "    visited = [False for _ in range(n+1)]\n",
        "    for e in edge:\n",
        "        ajanceyList[e[0]].append(e[1])\n",
        "        ajanceyList[e[1]].append(e[0])\n",
        "    distances = [ 0 for _ in range( n +1) ]\n",
        "    #print(ajanceyList)\n",
        "    queue = [1]\n",
        "    visited[1] = True\n",
        "    while queue:\n",
        "        i = queue.pop(0)\n",
        "        for j in ajanceyList[i]:\n",
        "            if visited[j] == False:\n",
        "                visited[j] = True\n",
        "                queue.append(j)\n",
        "                distances[j] = distances[i] + 1\n",
        "\n",
        "    answer = distances.count(max(distances))\n",
        "    return answer\n",
        "\n",
        "n = 6\n",
        "edge = [[3, 6], [4, 3], [3, 2], [1, 3], [1, 2], [2, 4], [5, 2]]\n",
        "solution(n, edge)"
      ],
      "metadata": {
        "colab": {
          "base_uri": "https://localhost:8080/"
        },
        "id": "dy90AksX6XTc",
        "outputId": "2ff074f5-158f-4f82-b23e-0d7c4218224b"
      },
      "execution_count": null,
      "outputs": [
        {
          "output_type": "execute_result",
          "data": {
            "text/plain": [
              "3"
            ]
          },
          "metadata": {},
          "execution_count": 146
        }
      ]
    },
    {
      "cell_type": "code",
      "source": [
        "def dfs(adj, start, visited):\n",
        "    count = 0\n",
        "    stack = [[start, count]]\n",
        "\n",
        "    while stack:\n",
        "        value = stack.pop(0)\n",
        "        start = value[0]\n",
        "        count = value[1]\n",
        "        if visited[start] == -1:\n",
        "            visited[start] = count\n",
        "            count += 1\n",
        "            for e in adj[start]:\n",
        "                stack.append([e, count])\n",
        "    \n",
        "\n",
        "def solution(n, edge):\n",
        "    answer = 0\n",
        "    vertexList = [i for i in range(0, n + 1)]\n",
        "    ajanceyList = [[] for vertext in vertexList]\n",
        "    visited = [-1] * (n+1)\n",
        "    for e in edge:\n",
        "        ajanceyList[e[0]].append(e[1])\n",
        "        ajanceyList[e[1]].append(e[0])\n",
        "    #print(ajanceyList)\n",
        "    dfs(ajanceyList, 1, visited)\n",
        "    #print(visited)\n",
        "    answer = visited.count(max(visited))\n",
        "    return answer\n",
        "\n",
        "n = 6\n",
        "edge = [[3, 6], [4, 3], [3, 2], [1, 3], [1, 2], [2, 4], [5, 2]]\n",
        "solution(n, edge)"
      ],
      "metadata": {
        "colab": {
          "base_uri": "https://localhost:8080/"
        },
        "id": "R8_UlY5B5p59",
        "outputId": "699b7854-5a75-4c42-a7be-b3f348985879"
      },
      "execution_count": null,
      "outputs": [
        {
          "output_type": "execute_result",
          "data": {
            "text/plain": [
              "3"
            ]
          },
          "metadata": {},
          "execution_count": 132
        }
      ]
    },
    {
      "cell_type": "markdown",
      "source": [
        ""
      ],
      "metadata": {
        "id": "tDm3YqpM3eEN"
      }
    },
    {
      "cell_type": "code",
      "source": [
        "from collections import deque\n",
        "\n",
        "def bfs(graph, start, visited):\n",
        "    # 현재 노드를 방문 처리\n",
        "    qeque = deque([start])\n",
        "    visited[start] = True\n",
        "    while qeque:\n",
        "        v = qeque.popleft()\n",
        "        print(v, end = \" \")\n",
        "        for i in graph[v]:\n",
        "            if not visited[i]:\n",
        "                qeque.append(i)\n",
        "                visited[i] = True\n",
        "\n",
        "graph = [\n",
        "         [],\n",
        "         [2,3,8],\n",
        "         [1,7],\n",
        "         [1,4,5],\n",
        "         [3,5],\n",
        "         [3,4],\n",
        "         [7],\n",
        "         [2,6,8],\n",
        "         [1,7]\n",
        "]\n",
        "visited = [False] * 9\n",
        "bfs(graph, 1, visited)"
      ],
      "metadata": {
        "colab": {
          "base_uri": "https://localhost:8080/"
        },
        "id": "Av5jf7ly1MRB",
        "outputId": "40132710-eaef-4573-cc5c-ff3b07e4b802"
      },
      "execution_count": null,
      "outputs": [
        {
          "output_type": "stream",
          "name": "stdout",
          "text": [
            "1 2 3 8 7 4 5 6 "
          ]
        }
      ]
    },
    {
      "cell_type": "code",
      "source": [
        "def dfs(graph, v, visited):\n",
        "    # 현재 노드를 방문 처리\n",
        "    visited[v] = True\n",
        "    print(v, end = ' ')\n",
        "    for i in graph[v]:\n",
        "        if not visited[i]:\n",
        "            dfs(graph, i, visited)\n",
        "\n",
        "graph = [\n",
        "         [],\n",
        "         [2,3,8],# 1번과 연결되어 있는 것 \n",
        "         [1,7],\n",
        "         [1,4,5],\n",
        "         [3,5],\n",
        "         [3,4],\n",
        "         [7],\n",
        "         [2,6,8],\n",
        "         [1,7]\n",
        "]\n",
        "visited = [False] * 9\n",
        "dfs(graph, 1, visited)"
      ],
      "metadata": {
        "colab": {
          "base_uri": "https://localhost:8080/"
        },
        "id": "eFKo_wJn6AMu",
        "outputId": "3759d44c-9ad0-46d9-9ce2-84d33cff02cc"
      },
      "execution_count": null,
      "outputs": [
        {
          "output_type": "stream",
          "name": "stdout",
          "text": [
            "1 2 7 6 8 3 4 5 "
          ]
        }
      ]
    },
    {
      "cell_type": "code",
      "source": [
        "from collections import deque\n",
        "\n",
        "def bfs(v, visited, adj):\n",
        "    count = 0\n",
        "    q = deque([[v, count]])\n",
        "\n",
        "    while q:\n",
        "        value = q.popleft()\n",
        "        v = value[0]\n",
        "        count = value[1]\n",
        "        if visited[v] == -1:\n",
        "            visited[v] = count\n",
        "            count += 1\n",
        "            for e in adj[v]:\n",
        "                q.append([e, count])\n",
        "\n",
        "def solution(n, edge):\n",
        "    answer = 0\n",
        "    visited = [-1] * (n + 1)\n",
        "    adj = [[] for _ in range(n + 1)]\n",
        "    for e in edge:\n",
        "        x = e[0]\n",
        "        y = e[1]\n",
        "        adj[x].append(y)\n",
        "        adj[y].append(x)\n",
        "    bfs(1, visited, adj)\n",
        "    print(visited)\n",
        "    for value in visited:\n",
        "        if value == max(visited):\n",
        "            answer += 1\n",
        "    return answer\n",
        "\n",
        "n = 6\n",
        "edge = [[3, 6], [4, 3], [3, 2], [1, 3], [1, 2], [2, 4], [5, 2]]\n",
        "solution(n, edge)"
      ],
      "metadata": {
        "colab": {
          "base_uri": "https://localhost:8080/"
        },
        "id": "htTk6AuD1CF2",
        "outputId": "2fb55cad-7249-4927-f1a8-80d71e2f5b42"
      },
      "execution_count": null,
      "outputs": [
        {
          "output_type": "stream",
          "name": "stdout",
          "text": [
            "[1, 0] 1 deque([])\n",
            "[3, 1] 3 deque([[2, 1]])\n",
            "[2, 1] 2 deque([[6, 2], [4, 2], [2, 2], [1, 2]])\n",
            "[6, 2] 6 deque([[4, 2], [2, 2], [1, 2], [3, 2], [1, 2], [4, 2], [5, 2]])\n",
            "[4, 2] 4 deque([[2, 2], [1, 2], [3, 2], [1, 2], [4, 2], [5, 2], [3, 3]])\n",
            "[2, 2] 2 deque([[1, 2], [3, 2], [1, 2], [4, 2], [5, 2], [3, 3], [3, 3], [2, 3]])\n",
            "[1, 2] 1 deque([[3, 2], [1, 2], [4, 2], [5, 2], [3, 3], [3, 3], [2, 3]])\n",
            "[3, 2] 3 deque([[1, 2], [4, 2], [5, 2], [3, 3], [3, 3], [2, 3]])\n",
            "[1, 2] 1 deque([[4, 2], [5, 2], [3, 3], [3, 3], [2, 3]])\n",
            "[4, 2] 4 deque([[5, 2], [3, 3], [3, 3], [2, 3]])\n",
            "[5, 2] 5 deque([[3, 3], [3, 3], [2, 3]])\n",
            "[3, 3] 3 deque([[3, 3], [2, 3], [2, 3]])\n",
            "[3, 3] 3 deque([[2, 3], [2, 3]])\n",
            "[2, 3] 2 deque([[2, 3]])\n",
            "[2, 3] 2 deque([])\n",
            "[-1, 0, 1, 1, 2, 2, 2]\n"
          ]
        },
        {
          "output_type": "execute_result",
          "data": {
            "text/plain": [
              "3"
            ]
          },
          "metadata": {},
          "execution_count": 85
        }
      ]
    }
  ]
}