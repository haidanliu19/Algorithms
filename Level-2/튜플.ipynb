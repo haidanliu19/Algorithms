{
  "nbformat": 4,
  "nbformat_minor": 0,
  "metadata": {
    "colab": {
      "name": "튜플.ipynb",
      "provenance": [],
      "collapsed_sections": []
    },
    "kernelspec": {
      "name": "python3",
      "display_name": "Python 3"
    },
    "language_info": {
      "name": "python"
    }
  },
  "cells": [
    {
      "cell_type": "code",
      "source": [
        "# https://hazung.tistory.com/103 참조 \n",
        "import re\n",
        "def solution(s):\n",
        "    answer = []\n",
        "    # {}안에 있는 것을 len으로 정렬한다. \n",
        "    s = s.split(',{')\n",
        "    s.sort(key = len)\n",
        "    s = \",{\".join(s)\n",
        "\n",
        "    re_s = re.findall(\"\\d+\", s)\n",
        "    for i in re_s:\n",
        "        i = int(i)\n",
        "        if i not in answer:\n",
        "            answer.append(i)\n",
        "\n",
        "    return answer\n",
        "\n",
        "s = \"{{2},{2,1},{2,1,3},{2,1,3,4}}\"\n",
        "solution(s)"
      ],
      "metadata": {
        "colab": {
          "base_uri": "https://localhost:8080/"
        },
        "id": "yZZVCCkg_eq0",
        "outputId": "08482ce4-d905-4402-f06c-ab04e41ff9a9"
      },
      "execution_count": 26,
      "outputs": [
        {
          "output_type": "execute_result",
          "data": {
            "text/plain": [
              "[2, 1, 3, 4]"
            ]
          },
          "metadata": {},
          "execution_count": 26
        }
      ]
    }
  ]
}