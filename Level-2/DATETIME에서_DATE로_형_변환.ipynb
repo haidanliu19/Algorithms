{
  "nbformat": 4,
  "nbformat_minor": 0,
  "metadata": {
    "colab": {
      "name": "DATETIME에서 DATE로 형 변환.ipynb",
      "provenance": [],
      "collapsed_sections": []
    },
    "kernelspec": {
      "name": "python3",
      "display_name": "Python 3"
    },
    "language_info": {
      "name": "python"
    }
  },
  "cells": [
    {
      "cell_type": "code",
      "execution_count": null,
      "metadata": {
        "id": "8IcuVOR-lq3F"
      },
      "outputs": [],
      "source": [
        "-- 코드를 입력하세요\n",
        "SELECT ANIMAL_ID,\n",
        "       NAME,\n",
        "       SUBSTR(DATETIME,1,10) '날짜'\n",
        "FROM ANIMAL_INS"
      ]
    }
  ]
}