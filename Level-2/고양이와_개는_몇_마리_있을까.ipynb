{
  "nbformat": 4,
  "nbformat_minor": 0,
  "metadata": {
    "colab": {
      "name": "고양이와 개는 몇 마리 있을까.ipynb",
      "provenance": [],
      "collapsed_sections": []
    },
    "kernelspec": {
      "name": "python3",
      "display_name": "Python 3"
    },
    "language_info": {
      "name": "python"
    }
  },
  "cells": [
    {
      "cell_type": "code",
      "source": [
        "-- 코드를 입력하세요\n",
        "SELECT ANIMAL_TYPE AS ANIMAL_TYPE,\n",
        "       COUNT(*)  AS count\n",
        "FROM ANIMAL_INS\n",
        "GROUP BY ANIMAL_TYPE\n",
        "ORDER BY ANIMAL_TYPE"
      ],
      "metadata": {
        "id": "K-vAYEXoDmof"
      },
      "execution_count": null,
      "outputs": []
    }
  ]
}