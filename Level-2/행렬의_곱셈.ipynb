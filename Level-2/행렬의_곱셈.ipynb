{
  "nbformat": 4,
  "nbformat_minor": 0,
  "metadata": {
    "colab": {
      "name": "행렬의 곱셈.ipynb",
      "provenance": [],
      "collapsed_sections": []
    },
    "kernelspec": {
      "name": "python3",
      "display_name": "Python 3"
    },
    "language_info": {
      "name": "python"
    }
  },
  "cells": [
    {
      "cell_type": "code",
      "metadata": {
        "colab": {
          "base_uri": "https://localhost:8080/"
        },
        "id": "j4bFePysAZiC",
        "outputId": "80068591-8404-41cf-bd3f-786973b43b6b"
      },
      "source": [
        "import numpy as np\n",
        "\n",
        "def solution(arr1, arr2):\n",
        "    answer = (np.array(arr1) @ np.array(arr2)).tolist()\n",
        "    return answer\n",
        "\n",
        "arr1 = [[1, 4], [3, 2], [4, 1]]\n",
        "arr2 = [[3, 3], [3, 3]]\n",
        "solution(arr1, arr2)    "
      ],
      "execution_count": 11,
      "outputs": [
        {
          "output_type": "execute_result",
          "data": {
            "text/plain": [
              "[[15, 15], [15, 15], [15, 15]]"
            ]
          },
          "metadata": {},
          "execution_count": 11
        }
      ]
    },
    {
      "cell_type": "code",
      "metadata": {
        "id": "RN15dapNGCIS"
      },
      "source": [
        ""
      ],
      "execution_count": null,
      "outputs": []
    }
  ]
}