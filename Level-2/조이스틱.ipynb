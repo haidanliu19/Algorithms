{
  "nbformat": 4,
  "nbformat_minor": 0,
  "metadata": {
    "colab": {
      "name": "조이스틱.ipynb",
      "provenance": [],
      "collapsed_sections": []
    },
    "kernelspec": {
      "name": "python3",
      "display_name": "Python 3"
    },
    "language_info": {
      "name": "python"
    }
  },
  "cells": [
    {
      "cell_type": "code",
      "source": [
        "alphas = 'ABCDEFGHIJKLMNOPQRSTUVWXYZ'\n",
        "reverse_alphas = alphas[::-1]\n",
        "print(alphas.find('J'))\n",
        "print(alphas.find('E'))\n",
        "print(alphas.find('R') , reverse_alphas.find('R'))\n",
        "print(alphas.find('O') , reverse_alphas.find('O'))\n",
        "print(alphas.find('E'))\n",
        "print(alphas.find('N'))"
      ],
      "metadata": {
        "colab": {
          "base_uri": "https://localhost:8080/"
        },
        "id": "8JkfRU9uhWD0",
        "outputId": "3e7b17b1-a8e9-4412-dc8a-4b669e98c376"
      },
      "execution_count": null,
      "outputs": [
        {
          "output_type": "stream",
          "name": "stdout",
          "text": [
            "9\n",
            "4\n",
            "17 8\n",
            "14 11\n",
            "4\n",
            "13\n"
          ]
        }
      ]
    },
    {
      "cell_type": "code",
      "source": [
        "alphas = 'ABCDEFGHIJKLMNOPQRSTUVWXYZ'\n",
        "reverse_alphas = alphas[::-1]\n",
        "\n",
        "def findPath(val):\n",
        "    return min(alphas.find(val), reverse_alphas.find(val) + 1)\n",
        "\n",
        "def solution(name):    \n",
        "    answer = 0\n",
        "    min_step = len(name) - 1\n",
        "    # 뒤로 부터 이동\n",
        "    \n",
        "    while name[min_step] == 'A' and min_step > 0:\n",
        "        min_step -= 1\n",
        "    if (min_step < 0):\n",
        "        return answer\n",
        "\n",
        "    for idx, val in enumerate(name):\n",
        "        answer += findPath(val)\n",
        "\n",
        "        # 'A'가연속으로 나오면 답이달라진다.'\n",
        "        next_step = idx + 1\n",
        "        while next_step < len(name) and name[next_step] == 'A' :\n",
        "            next_step += 1\n",
        "        # 내 다음이 A라면 무시한다.\n",
        "        # ABAAAAAAAAABB 일 경우에는 앞으로 갔다가 다시 돌아왔다가 끝 부터 들어준다. \n",
        "        min_step = min(min_step, idx + idx + len(name)  - next_step )\n",
        "        # BBBBAAAAAAAB 와 같은 케이스 \n",
        "        min_step = min(min_step, (len(name)  - next_step) * 2 + idx)\n",
        "    answer += min_step\n",
        "    return answer\n",
        "\n",
        "name = \"BBBAAAB\"\n",
        "print(solution(name))"
      ],
      "metadata": {
        "colab": {
          "base_uri": "https://localhost:8080/"
        },
        "id": "tWVyXBLdt53N",
        "outputId": "4d7fd946-751e-41b3-9d7f-f934e55c2786"
      },
      "execution_count": 74,
      "outputs": [
        {
          "output_type": "stream",
          "name": "stdout",
          "text": [
            "8\n"
          ]
        }
      ]
    },
    {
      "cell_type": "code",
      "source": [
        "print(solution(\"BBBAAAB\")) #8\n",
        "print(solution(\"ABABAAAAABA\")) #10\n",
        "print(solution(\"CANAAAAANAN\")) #48\n",
        "print(solution(\"ABAAAAABAB\")) #8\n",
        "print(solution(\"ABABAAAAAB\")) #8\n",
        "print(solution(\"BABAAAAB\")) #7\n",
        "print(solution(\"AAA\")) #0\n",
        "print(solution(\"ABAAAAAAABA\")) #6\n",
        "print(solution(\"AAB\")) #2\n",
        "print(solution(\"AABAAAAAAABBB\")) #11\n",
        "print(solution(\"ZZZ\")) #5\n",
        "print(solution(\"BBBBAAAAAB\")) #10\n",
        "print(solution(\"BBBBAAAABA\")) #12"
      ],
      "metadata": {
        "colab": {
          "base_uri": "https://localhost:8080/"
        },
        "id": "Epn51tBjpZCM",
        "outputId": "97c2eb35-66e4-4099-fc17-0db5b11f2cee"
      },
      "execution_count": 69,
      "outputs": [
        {
          "output_type": "stream",
          "name": "stdout",
          "text": [
            "9\n",
            "11\n",
            "48\n",
            "8\n",
            "10\n",
            "8\n",
            "0\n",
            "6\n",
            "2\n",
            "11\n",
            "5\n",
            "12\n",
            "13\n"
          ]
        }
      ]
    },
    {
      "cell_type": "markdown",
      "source": [
        "\"JEROEN\", 56\n",
        "\"JAN\", 23\n",
        "\"ABAAAAAAAAABB\", 7\n",
        "\"AABAAAAAAABBB\", 11\n",
        "\"BBBAAB\", 9\n",
        "\"ZAAAZAAAAAA\", 6\n",
        "\"NNAAAAANNN\", 70\n",
        "\n",
        "으로 나오고 있습니다."
      ],
      "metadata": {
        "id": "IVSnUK9YG0C8"
      }
    }
  ]
}