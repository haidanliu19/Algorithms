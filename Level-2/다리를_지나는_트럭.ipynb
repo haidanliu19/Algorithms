{
  "nbformat": 4,
  "nbformat_minor": 0,
  "metadata": {
    "colab": {
      "name": "다리를 지나는 트럭.ipynb",
      "provenance": [],
      "collapsed_sections": []
    },
    "kernelspec": {
      "name": "python3",
      "display_name": "Python 3"
    },
    "language_info": {
      "name": "python"
    }
  },
  "cells": [
    {
      "cell_type": "markdown",
      "source": [
        "출처 : 프로그래머스 "
      ],
      "metadata": {
        "id": "bkMo_tkIKHYQ"
      }
    },
    {
      "cell_type": "code",
      "execution_count": 16,
      "metadata": {
        "id": "IgqqxswE9Rym",
        "colab": {
          "base_uri": "https://localhost:8080/"
        },
        "outputId": "cc9dfd06-9602-4d06-fdae-1ee56ae59a53"
      },
      "outputs": [
        {
          "output_type": "execute_result",
          "data": {
            "text/plain": [
              "8"
            ]
          },
          "metadata": {},
          "execution_count": 16
        }
      ],
      "source": [
        "# bridge_length 다리 길이 2일 경우 2\n",
        "def solution(bridge_length, weight, truck_weights):\n",
        "    answer = 0\n",
        "    bridge_truck = [0] * bridge_length # 다리를 건너는 트럭\n",
        "    while len(bridge_truck) != 0:\n",
        "        answer += 1\n",
        "        bridge_truck.pop(0)\n",
        "        if truck_weights:\n",
        "            if sum(bridge_truck) + truck_weights[0] > weight:\n",
        "                bridge_truck.append(0)\n",
        "            else:\n",
        "                truck_weight = truck_weights.pop(0)\n",
        "                bridge_truck.append(truck_weight)\n",
        "            #print(bridge_truck)\n",
        "    return answer\n",
        "\n",
        "bridge_length = 2\n",
        "weight = 10\n",
        "truck_weights = [7,4,5,6]\n",
        "solution(bridge_length, weight, truck_weights)"
      ]
    },
    {
      "cell_type": "code",
      "source": [
        "# bridge_length 다리 길이 2일 경우 2\n",
        "def solution(bridge_length, weight, truck_weights):\n",
        "    answer = 0\n",
        "    bridge_truck = [0] * bridge_length # 다리를 건너는 트럭\n",
        "    while len(bridge_truck) != 0:\n",
        "        answer += 1\n",
        "        bridge_truck.pop(0)\n",
        "        if truck_weights:\n",
        "            if sum(bridge_truck) + truck_weights[0] > weight:\n",
        "                bridge_truck.append(0)\n",
        "            else:\n",
        "                truck_weight = truck_weights.pop(0)\n",
        "                bridge_truck.append(truck_weight)\n",
        "\n",
        "    return answer\n",
        "\n",
        "bridge_length = 100\n",
        "weight = 100\n",
        "truck_weights = [10]\n",
        "solution(bridge_length, weight, truck_weights)"
      ],
      "metadata": {
        "id": "A_8UvJ5Jczv2",
        "colab": {
          "base_uri": "https://localhost:8080/"
        },
        "outputId": "3ed4d5b4-beaa-431e-fae3-c2a38b4bd1d2"
      },
      "execution_count": 19,
      "outputs": [
        {
          "output_type": "execute_result",
          "data": {
            "text/plain": [
              "101"
            ]
          },
          "metadata": {},
          "execution_count": 19
        }
      ]
    }
  ]
}