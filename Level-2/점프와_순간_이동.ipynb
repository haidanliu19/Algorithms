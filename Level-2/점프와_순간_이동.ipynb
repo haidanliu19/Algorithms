{
  "nbformat": 4,
  "nbformat_minor": 0,
  "metadata": {
    "colab": {
      "name": "점프와 순간 이동.ipynb",
      "provenance": [],
      "collapsed_sections": []
    },
    "kernelspec": {
      "name": "python3",
      "display_name": "Python 3"
    },
    "language_info": {
      "name": "python"
    }
  },
  "cells": [
    {
      "cell_type": "code",
      "execution_count": 17,
      "metadata": {
        "colab": {
          "base_uri": "https://localhost:8080/"
        },
        "id": "BHJzcLfhNgcu",
        "outputId": "b8e2b3e9-5383-4dc7-f93f-0d854d51298e"
      },
      "outputs": [
        {
          "output_type": "execute_result",
          "data": {
            "text/plain": [
              "5"
            ]
          },
          "metadata": {},
          "execution_count": 17
        }
      ],
      "source": [
        "def solution(n):\n",
        "    ans = 0\n",
        "    while n > 0:\n",
        "        if n % 2 != 0:\n",
        "            n = n -1 \n",
        "            ans += 1\n",
        "        else:\n",
        "            n  = n // 2\n",
        "    return ans\n",
        "\n",
        "n = 5000\n",
        "solution(n)"
      ]
    },
    {
      "cell_type": "markdown",
      "source": [
        "다른 사람 풀이"
      ],
      "metadata": {
        "id": "R-qUsgLaT5e2"
      }
    },
    {
      "cell_type": "code",
      "source": [
        "bin(5000)"
      ],
      "metadata": {
        "colab": {
          "base_uri": "https://localhost:8080/",
          "height": 36
        },
        "id": "4-Sf-PgqT6qr",
        "outputId": "d38261e3-0ba5-4f13-eadd-34a3c1be58ed"
      },
      "execution_count": 18,
      "outputs": [
        {
          "output_type": "execute_result",
          "data": {
            "application/vnd.google.colaboratory.intrinsic+json": {
              "type": "string"
            },
            "text/plain": [
              "'0b1001110001000'"
            ]
          },
          "metadata": {},
          "execution_count": 18
        }
      ]
    },
    {
      "cell_type": "code",
      "source": [
        ""
      ],
      "metadata": {
        "id": "aBAUXXFYT9GZ"
      },
      "execution_count": null,
      "outputs": []
    }
  ]
}