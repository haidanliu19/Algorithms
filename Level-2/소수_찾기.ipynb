{
  "nbformat": 4,
  "nbformat_minor": 0,
  "metadata": {
    "colab": {
      "name": "소수 찾기.ipynb",
      "provenance": [],
      "collapsed_sections": []
    },
    "kernelspec": {
      "name": "python3",
      "display_name": "Python 3"
    },
    "language_info": {
      "name": "python"
    }
  },
  "cells": [
    {
      "cell_type": "markdown",
      "source": [
        "출처 : 프로그래머스"
      ],
      "metadata": {
        "id": "Tg1SFmLB-DSI"
      }
    },
    {
      "cell_type": "code",
      "source": [
        "def isPrime(n):\n",
        "    if n < 2 :\n",
        "        return False\n",
        "    for i in range(2, int(pow(n, 0.5) ) + 1):\n",
        "        if n % i == 0:\n",
        "            return False\n",
        "    return True\n",
        "\n",
        "def search_names(numbers_1,  i, list_numbers):\n",
        "    for j, val in enumerate(numbers_1):\n",
        "        num = i + val\n",
        "        rem = numbers_1.replace(val, '', 1)\n",
        "        if int(num) not in list_numbers:\n",
        "            list_numbers.append(int(num))\n",
        "        if rem:\n",
        "            search_names(rem,  num, list_numbers)\n",
        "      \n",
        "def solution(numbers):\n",
        "    list_numbers = []\n",
        "    answer = 0\n",
        "    for val in numbers:\n",
        "        if int(val) not in list_numbers:\n",
        "            list_numbers.append(int(val))\n",
        "        rem = numbers.replace(val, '', 1)\n",
        "        search_names(rem,  val, list_numbers)\n",
        "    answer = len([i for i in list_numbers if isPrime(i)])\n",
        "    return answer\n",
        "\n",
        "numbers = \"7834\"\n",
        "solution(numbers)"
      ],
      "metadata": {
        "colab": {
          "base_uri": "https://localhost:8080/"
        },
        "id": "e4F2cqthTTem",
        "outputId": "b7114b1a-f0d2-4c69-8926-5e2ccfb86670"
      },
      "execution_count": 26,
      "outputs": [
        {
          "output_type": "execute_result",
          "data": {
            "text/plain": [
              "12"
            ]
          },
          "metadata": {},
          "execution_count": 26
        }
      ]
    },
    {
      "cell_type": "code",
      "source": [
        "list_numbers = []\n",
        "def search_names(numbers_1,  i, list_numbers):\n",
        "    for j, val in enumerate(numbers_1):\n",
        "        num = i + val\n",
        "        rem = numbers_1.replace(val, '', 1)\n",
        "        if int(num) not in list_numbers:\n",
        "            list_numbers.append(int(num))\n",
        "        if rem:\n",
        "            search_names(rem,  num, list_numbers)\n",
        "\n",
        "def solution(numbers):\n",
        "    list_numbers = []\n",
        "    answer = 0\n",
        "    for val in numbers:\n",
        "        if int(val) not in list_numbers:\n",
        "            list_numbers.append(int(val))\n",
        "        rem = numbers.replace(val, '', 1)\n",
        "        search_names(rem,  val, list_numbers)\n",
        "    print(list_numbers)\n",
        "    return answer"
      ],
      "metadata": {
        "id": "xZkx-FHrfoVe"
      },
      "execution_count": 23,
      "outputs": []
    },
    {
      "cell_type": "code",
      "source": [
        ""
      ],
      "metadata": {
        "id": "2iSetwd0Tjdg"
      },
      "execution_count": 312,
      "outputs": []
    },
    {
      "cell_type": "code",
      "source": [
        "# 121,144,169,225\n",
        "def isPrime(n):\n",
        "    if n < 2 :\n",
        "        return False\n",
        "    for i in range(2, int(pow(n, 0.5) ) + 1):\n",
        "        if n % i == 0:\n",
        "            return False\n",
        "    return True\n",
        "\n",
        "print(isPrime(121))\n",
        "print(isPrime(144))\n",
        "print(isPrime(169))\n",
        "print(isPrime(225))\n",
        "print(isPrime(2))"
      ],
      "metadata": {
        "colab": {
          "base_uri": "https://localhost:8080/"
        },
        "id": "1Q93Dp1RR6WG",
        "outputId": "dac7e975-7bd6-4b33-d4a9-4ac392ee4a45"
      },
      "execution_count": 313,
      "outputs": [
        {
          "output_type": "stream",
          "name": "stdout",
          "text": [
            "False\n",
            "False\n",
            "False\n",
            "False\n",
            "True\n"
          ]
        }
      ]
    },
    {
      "cell_type": "markdown",
      "source": [
        "소수 확인"
      ],
      "metadata": {
        "id": "XNv1zIuBU77A"
      }
    },
    {
      "cell_type": "code",
      "source": [
        "pow(6, 0.5)"
      ],
      "metadata": {
        "colab": {
          "base_uri": "https://localhost:8080/"
        },
        "id": "nsbFFcFyUyF4",
        "outputId": "6889ac48-7839-43c1-fbd2-ee861d8560f5"
      },
      "execution_count": null,
      "outputs": [
        {
          "output_type": "execute_result",
          "data": {
            "text/plain": [
              "2.449489742783178"
            ]
          },
          "metadata": {},
          "execution_count": 4
        }
      ]
    },
    {
      "cell_type": "code",
      "source": [
        "def isPrime(n):\n",
        "    if n <= 1:\n",
        "        return False\n",
        "    for i in range(2, int(pow(n, 0.5)) + 1):\n",
        "        if n % i == 0:\n",
        "            return False\n",
        "    return True\n",
        "\n",
        "print(isPrime(25))\n",
        "print(isPrime(3))\n",
        "print(isPrime(4))\n",
        "print(isPrime(1))\n",
        "print(isPrime(0))"
      ],
      "metadata": {
        "colab": {
          "base_uri": "https://localhost:8080/"
        },
        "id": "45ctEgNKVYp4",
        "outputId": "599869f9-3f9a-4241-f18c-b24a999128c5"
      },
      "execution_count": null,
      "outputs": [
        {
          "output_type": "stream",
          "name": "stdout",
          "text": [
            "False\n",
            "True\n",
            "False\n",
            "False\n",
            "False\n"
          ]
        }
      ]
    },
    {
      "cell_type": "markdown",
      "source": [
        "# 하나 있을 때 "
      ],
      "metadata": {
        "id": "fAhVtu7kMrX3"
      }
    },
    {
      "cell_type": "code",
      "source": [
        "def dfs(numbers):\n",
        "    for i, val in enumerate(numbers):\n",
        "        print(val, i)    \n",
        "\n",
        "numbers = \"1\"\n",
        "dfs(numbers)"
      ],
      "metadata": {
        "colab": {
          "base_uri": "https://localhost:8080/"
        },
        "id": "MD_-piCpMorR",
        "outputId": "ce4bb2df-1b29-4083-b4a4-190762dc53df"
      },
      "execution_count": 9,
      "outputs": [
        {
          "output_type": "stream",
          "name": "stdout",
          "text": [
            "1 0\n"
          ]
        }
      ]
    },
    {
      "cell_type": "code",
      "source": [
        "#\n",
        "def dfs_1(numbers, idx):\n",
        "    for i, val in enumerate(numbers):\n",
        "        if i != idx:\n",
        "            return val\n",
        "\n",
        "def dfs(numbers):\n",
        "    for i, val in enumerate(numbers):\n",
        "        val += dfs_1(numbers, i)\n",
        "        print(val )\n",
        "\n",
        "numbers = \"12\"\n",
        "dfs(numbers)"
      ],
      "metadata": {
        "colab": {
          "base_uri": "https://localhost:8080/"
        },
        "id": "-SkDl10oYkQt",
        "outputId": "fef84ced-803e-47aa-d23e-6ebac74e43e0"
      },
      "execution_count": 17,
      "outputs": [
        {
          "output_type": "stream",
          "name": "stdout",
          "text": [
            "12\n",
            "21\n"
          ]
        }
      ]
    },
    {
      "cell_type": "code",
      "source": [
        "# depth 들어갈 경우 \n",
        "def dfs_1(numbers, idx):\n",
        "    for i, val in enumerate(numbers):\n",
        "        if i != idx:\n",
        "            return val\n",
        "\n",
        "def dfs(numbers, depth):\n",
        "    vals =  []\n",
        "    for i, val in enumerate(numbers):\n",
        "        if depth == 0:\n",
        "            vals.append(val)\n",
        "        else:\n",
        "            val += dfs_1(numbers, i)\n",
        "            vals.append(val)\n",
        "    return vals\n",
        "\n",
        "numbers = \"12\"\n",
        "list_ = []\n",
        "for i, val in enumerate(numbers):\n",
        "    list_.extend(dfs(numbers, i))\n",
        "print(list_)"
      ],
      "metadata": {
        "colab": {
          "base_uri": "https://localhost:8080/"
        },
        "id": "L-OJENZKOeQX",
        "outputId": "a326bcc3-b1e4-47b7-ef95-789c8259c290"
      },
      "execution_count": 32,
      "outputs": [
        {
          "output_type": "stream",
          "name": "stdout",
          "text": [
            "['1', '2', '12', '21']\n"
          ]
        }
      ]
    },
    {
      "cell_type": "code",
      "source": [
        ""
      ],
      "metadata": {
        "id": "zBNUxHUGRFYy"
      },
      "execution_count": null,
      "outputs": []
    },
    {
      "cell_type": "code",
      "source": [
        "# depth 들어갈 경우 \n",
        "def dfs_2(numbers, idx, depth):\n",
        "    vals =  []\n",
        "    for i, val in enumerate(numbers):\n",
        "        if i != idx:\n",
        "            vals.append(val)\n",
        "    return vals\n",
        "\n",
        "def dfs_1(numbers, idx, depth):\n",
        "    vals =  []\n",
        "    for i, val in enumerate(numbers):\n",
        "        if i != idx:\n",
        "            if depth == 1:\n",
        "                vals.append(val)\n",
        "            else:\n",
        "                returns = dfs_2(numbers, i, depth)\n",
        "                for j in returns:\n",
        "                    ret  = val + j\n",
        "                    vals.append(ret)\n",
        "    return vals\n",
        "\n",
        "def dfs(numbers, depth):\n",
        "    vals =  []\n",
        "    for i, val in enumerate(numbers):\n",
        "        if depth == 0:\n",
        "            vals.append(val)\n",
        "        else:\n",
        "            returns = dfs_1(numbers, i, depth)\n",
        "            for j in returns:\n",
        "                ret  = val + j\n",
        "                vals.append(ret)\n",
        "    return vals\n",
        "\n",
        "numbers = \"123\"\n",
        "list_ = []\n",
        "for i, val in enumerate(numbers):\n",
        "    list_.extend(dfs(numbers, i))\n",
        "print(len(set(list_)), list_)"
      ],
      "metadata": {
        "colab": {
          "base_uri": "https://localhost:8080/"
        },
        "id": "dTeZSAL6Of9P",
        "outputId": "334c6dc4-d2e3-4ff9-ae88-0b2e9f17090e"
      },
      "execution_count": 107,
      "outputs": [
        {
          "output_type": "stream",
          "name": "stdout",
          "text": [
            "21 ['1', '2', '3', '12', '13', '21', '23', '31', '32', '121', '123', '131', '132', '212', '213', '231', '232', '312', '313', '321', '323']\n"
          ]
        }
      ]
    },
    {
      "cell_type": "code",
      "source": [
        ""
      ],
      "metadata": {
        "id": "_I7gKkgFEitl"
      },
      "execution_count": null,
      "outputs": []
    },
    {
      "cell_type": "code",
      "source": [
        "# depth 들어갈 경우 \n",
        "def search_names_2(numbers, idx, depth):\n",
        "    vals =  []\n",
        "    for i, val in enumerate(numbers):\n",
        "        if i != idx:\n",
        "            if depth == 2:\n",
        "                vals.append(val)\n",
        "            vals.append(val)\n",
        "    return vals\n",
        "\n",
        "def search_names_1(numbers, idx, depth):\n",
        "    vals =  []\n",
        "    for i, val in enumerate(numbers):\n",
        "        if i != idx:\n",
        "            if depth == 1:\n",
        "                vals.append(val)\n",
        "            else:\n",
        "                returns = search_names_2(numbers, i, depth)\n",
        "                for j in returns:\n",
        "                    ret  = val + j\n",
        "                    vals.append(ret)\n",
        "\n",
        "    return vals\n",
        "\n",
        "def search_names(numbers, depth):\n",
        "    vals =  []\n",
        "    for i, val in enumerate(numbers):\n",
        "        if depth == 0:\n",
        "            vals.append(val)\n",
        "        else:\n",
        "            returns = search_names_1(numbers, i, depth)\n",
        "            for j in returns:\n",
        "                ret  = val + j\n",
        "                vals.append(ret)\n",
        "    return vals\n",
        "\n",
        "numbers = \"1234\"\n",
        "list_ = []\n",
        "for i, val in enumerate(numbers):\n",
        "    list_.extend(search_names(numbers, i))\n",
        "print(len(set(list_)), list_)"
      ],
      "metadata": {
        "colab": {
          "base_uri": "https://localhost:8080/"
        },
        "id": "swgnopnKSmrP",
        "outputId": "288f8dc1-3f52-42d3-ff85-17a8f4204b76"
      },
      "execution_count": 27,
      "outputs": [
        {
          "output_type": "stream",
          "name": "stdout",
          "text": [
            "52 ['1', '2', '3', '4', '12', '13', '14', '21', '23', '24', '31', '32', '34', '41', '42', '43', '121', '121', '123', '123', '124', '124', '131', '131', '132', '132', '134', '134', '141', '141', '142', '142', '143', '143', '212', '212', '213', '213', '214', '214', '231', '231', '232', '232', '234', '234', '241', '241', '242', '242', '243', '243', '312', '312', '313', '313', '314', '314', '321', '321', '323', '323', '324', '324', '341', '341', '342', '342', '343', '343', '412', '412', '413', '413', '414', '414', '421', '421', '423', '423', '424', '424', '431', '431', '432', '432', '434', '434', '121', '123', '124', '131', '132', '134', '141', '142', '143', '212', '213', '214', '231', '232', '234', '241', '242', '243', '312', '313', '314', '321', '323', '324', '341', '342', '343', '412', '413', '414', '421', '423', '424', '431', '432', '434']\n"
          ]
        }
      ]
    },
    {
      "cell_type": "code",
      "source": [
        "\n",
        "def search_numbers(numbers, i, chk_nums):\n",
        "    for j in numbers:\n",
        "        num = i + j\n",
        "        print(num)\n",
        "        rem = numbers.replace(j, '', 1)\n",
        "        if int(num) not in chk_nums:\n",
        "            chk_nums.append(int(num))\n",
        "        #if rem:\n",
        "            #search_numbers(rem, num, chk_nums)\n",
        "\n",
        "def solution(numbers):\n",
        "    chk_nums = []\n",
        "    prime_list = []\n",
        "    answer = 0\n",
        "    for i in numbers:\n",
        "        if int(i) not in chk_nums:\n",
        "            chk_nums.append(int(i))\n",
        "        rem = numbers.replace(i, '', 1)\n",
        "        search_numbers(rem, i, chk_nums)\n",
        "    answer = len(prime_list)\n",
        "    return answer\n",
        "\n",
        "numbers = \"7834\"\n",
        "solution(numbers)"
      ],
      "metadata": {
        "colab": {
          "base_uri": "https://localhost:8080/"
        },
        "id": "6LLIHeYEcDsE",
        "outputId": "3c214a2e-8988-46e1-f450-b2a48ade50ad"
      },
      "execution_count": 438,
      "outputs": [
        {
          "output_type": "stream",
          "name": "stdout",
          "text": [
            "78\n",
            "73\n",
            "74\n",
            "87\n",
            "83\n",
            "84\n",
            "37\n",
            "38\n",
            "34\n",
            "47\n",
            "48\n",
            "43\n"
          ]
        },
        {
          "output_type": "execute_result",
          "data": {
            "text/plain": [
              "0"
            ]
          },
          "metadata": {},
          "execution_count": 438
        }
      ]
    },
    {
      "cell_type": "code",
      "source": [
        ""
      ],
      "metadata": {
        "colab": {
          "base_uri": "https://localhost:8080/"
        },
        "id": "TR3Tx7UvcemG",
        "outputId": "624a21f5-d47d-4386-b2fc-0ef9b2f67ffc"
      },
      "execution_count": 10,
      "outputs": [
        {
          "output_type": "stream",
          "name": "stdout",
          "text": [
            "78\n",
            "73\n",
            "74\n",
            "87\n",
            "83\n",
            "84\n",
            "37\n",
            "38\n",
            "34\n",
            "47\n",
            "48\n",
            "43\n"
          ]
        }
      ]
    },
    {
      "cell_type": "code",
      "source": [
        "list_numbers = []\n",
        "def search_names(numbers_1,  i, list_numbers):\n",
        "    for j, val in enumerate(numbers_1):\n",
        "        num = i + val\n",
        "        rem = numbers_1.replace(val, '', 1)\n",
        "        if int(num) not in list_numbers:\n",
        "            list_numbers.append(int(num))\n",
        "        if rem:\n",
        "            search_names(rem,  num, list_numbers)\n",
        "\n",
        "def solution(numbers):\n",
        "    list_numbers = []\n",
        "    answer = 0\n",
        "    for val in numbers:\n",
        "        if int(val) not in list_numbers:\n",
        "            list_numbers.append(int(val))\n",
        "        rem = numbers.replace(val, '', 1)\n",
        "        search_names(rem,  val, list_numbers)\n",
        "    print(list_numbers)\n",
        "    return answer\n",
        "solution('7834')"
      ],
      "metadata": {
        "colab": {
          "base_uri": "https://localhost:8080/"
        },
        "id": "-cYnEDMa_qEd",
        "outputId": "04f65190-d7c1-4d93-ea77-4cabb76ade53"
      },
      "execution_count": 22,
      "outputs": [
        {
          "output_type": "stream",
          "name": "stdout",
          "text": [
            "[7, 78, 783, 7834, 784, 7843, 73, 738, 7384, 734, 7348, 74, 748, 7483, 743, 7438, 8, 87, 873, 8734, 874, 8743, 83, 837, 8374, 834, 8347, 84, 847, 8473, 843, 8437, 3, 37, 378, 3784, 374, 3748, 38, 387, 3874, 384, 3847, 34, 347, 3478, 348, 3487, 4, 47, 478, 4783, 473, 4738, 48, 487, 4873, 483, 4837, 43, 437, 4378, 438, 4387]\n"
          ]
        },
        {
          "output_type": "execute_result",
          "data": {
            "text/plain": [
              "0"
            ]
          },
          "metadata": {},
          "execution_count": 22
        }
      ]
    },
    {
      "cell_type": "code",
      "source": [
        "def chk_prime(number):\n",
        "    if number == 0 or number == 1:\n",
        "        return False\n",
        "    for i in range(2, number):\n",
        "        if number % i == 0:\n",
        "            return False\n",
        "    return True\n",
        "\n",
        "def search_numbers(numbers, i, chk_nums, prime_list):\n",
        "    for j in numbers:\n",
        "        num = i + j\n",
        "        rem = numbers.replace(j, '', 1)\n",
        "        if int(num) not in chk_nums:\n",
        "            chk_nums.append(int(num))\n",
        "            if chk_prime(int(num)):\n",
        "                prime_list.append(int(num))\n",
        "        if rem:\n",
        "            search_numbers(rem, num, chk_nums, prime_list)\n",
        "\n",
        "def solution(numbers):\n",
        "    chk_nums = []\n",
        "    prime_list = []\n",
        "    answer = 0\n",
        "    for i in numbers:\n",
        "        if int(i) not in chk_nums:\n",
        "            chk_nums.append(int(i))\n",
        "            if chk_prime(int(i)):\n",
        "                prime_list.append(int(i))\n",
        "        rem = numbers.replace(i, '', 1)\n",
        "        search_numbers(rem, i, chk_nums, prime_list)\n",
        "    answer = len(prime_list)\n",
        "    return answer\n",
        "\n",
        "numbers = \"7834\"\n",
        "solution(numbers)"
      ],
      "metadata": {
        "colab": {
          "base_uri": "https://localhost:8080/"
        },
        "id": "3wmnGiZG8UU_",
        "outputId": "5f0fd0ed-ceb1-4883-a275-bc3e7e53d95a"
      },
      "execution_count": 2,
      "outputs": [
        {
          "output_type": "stream",
          "name": "stdout",
          "text": [
            "[7, 78]\n",
            "[7, 78, 783]\n",
            "[7, 78, 783, 7834]\n",
            "[7, 78, 783, 7834, 784]\n",
            "[7, 78, 783, 7834, 784, 7843]\n",
            "[7, 78, 783, 7834, 784, 7843, 73]\n",
            "[7, 78, 783, 7834, 784, 7843, 73, 738]\n",
            "[7, 78, 783, 7834, 784, 7843, 73, 738, 7384]\n",
            "[7, 78, 783, 7834, 784, 7843, 73, 738, 7384, 734]\n",
            "[7, 78, 783, 7834, 784, 7843, 73, 738, 7384, 734, 7348]\n",
            "[7, 78, 783, 7834, 784, 7843, 73, 738, 7384, 734, 7348, 74]\n",
            "[7, 78, 783, 7834, 784, 7843, 73, 738, 7384, 734, 7348, 74, 748]\n",
            "[7, 78, 783, 7834, 784, 7843, 73, 738, 7384, 734, 7348, 74, 748, 7483]\n",
            "[7, 78, 783, 7834, 784, 7843, 73, 738, 7384, 734, 7348, 74, 748, 7483, 743]\n",
            "[7, 78, 783, 7834, 784, 7843, 73, 738, 7384, 734, 7348, 74, 748, 7483, 743, 7438]\n",
            "[7, 78, 783, 7834, 784, 7843, 73, 738, 7384, 734, 7348, 74, 748, 7483, 743, 7438, 8, 87]\n",
            "[7, 78, 783, 7834, 784, 7843, 73, 738, 7384, 734, 7348, 74, 748, 7483, 743, 7438, 8, 87, 873]\n",
            "[7, 78, 783, 7834, 784, 7843, 73, 738, 7384, 734, 7348, 74, 748, 7483, 743, 7438, 8, 87, 873, 8734]\n",
            "[7, 78, 783, 7834, 784, 7843, 73, 738, 7384, 734, 7348, 74, 748, 7483, 743, 7438, 8, 87, 873, 8734, 874]\n",
            "[7, 78, 783, 7834, 784, 7843, 73, 738, 7384, 734, 7348, 74, 748, 7483, 743, 7438, 8, 87, 873, 8734, 874, 8743]\n",
            "[7, 78, 783, 7834, 784, 7843, 73, 738, 7384, 734, 7348, 74, 748, 7483, 743, 7438, 8, 87, 873, 8734, 874, 8743, 83]\n",
            "[7, 78, 783, 7834, 784, 7843, 73, 738, 7384, 734, 7348, 74, 748, 7483, 743, 7438, 8, 87, 873, 8734, 874, 8743, 83, 837]\n",
            "[7, 78, 783, 7834, 784, 7843, 73, 738, 7384, 734, 7348, 74, 748, 7483, 743, 7438, 8, 87, 873, 8734, 874, 8743, 83, 837, 8374]\n",
            "[7, 78, 783, 7834, 784, 7843, 73, 738, 7384, 734, 7348, 74, 748, 7483, 743, 7438, 8, 87, 873, 8734, 874, 8743, 83, 837, 8374, 834]\n",
            "[7, 78, 783, 7834, 784, 7843, 73, 738, 7384, 734, 7348, 74, 748, 7483, 743, 7438, 8, 87, 873, 8734, 874, 8743, 83, 837, 8374, 834, 8347]\n",
            "[7, 78, 783, 7834, 784, 7843, 73, 738, 7384, 734, 7348, 74, 748, 7483, 743, 7438, 8, 87, 873, 8734, 874, 8743, 83, 837, 8374, 834, 8347, 84]\n",
            "[7, 78, 783, 7834, 784, 7843, 73, 738, 7384, 734, 7348, 74, 748, 7483, 743, 7438, 8, 87, 873, 8734, 874, 8743, 83, 837, 8374, 834, 8347, 84, 847]\n",
            "[7, 78, 783, 7834, 784, 7843, 73, 738, 7384, 734, 7348, 74, 748, 7483, 743, 7438, 8, 87, 873, 8734, 874, 8743, 83, 837, 8374, 834, 8347, 84, 847, 8473]\n",
            "[7, 78, 783, 7834, 784, 7843, 73, 738, 7384, 734, 7348, 74, 748, 7483, 743, 7438, 8, 87, 873, 8734, 874, 8743, 83, 837, 8374, 834, 8347, 84, 847, 8473, 843]\n",
            "[7, 78, 783, 7834, 784, 7843, 73, 738, 7384, 734, 7348, 74, 748, 7483, 743, 7438, 8, 87, 873, 8734, 874, 8743, 83, 837, 8374, 834, 8347, 84, 847, 8473, 843, 8437]\n",
            "[7, 78, 783, 7834, 784, 7843, 73, 738, 7384, 734, 7348, 74, 748, 7483, 743, 7438, 8, 87, 873, 8734, 874, 8743, 83, 837, 8374, 834, 8347, 84, 847, 8473, 843, 8437, 3, 37]\n",
            "[7, 78, 783, 7834, 784, 7843, 73, 738, 7384, 734, 7348, 74, 748, 7483, 743, 7438, 8, 87, 873, 8734, 874, 8743, 83, 837, 8374, 834, 8347, 84, 847, 8473, 843, 8437, 3, 37, 378]\n",
            "[7, 78, 783, 7834, 784, 7843, 73, 738, 7384, 734, 7348, 74, 748, 7483, 743, 7438, 8, 87, 873, 8734, 874, 8743, 83, 837, 8374, 834, 8347, 84, 847, 8473, 843, 8437, 3, 37, 378, 3784]\n",
            "[7, 78, 783, 7834, 784, 7843, 73, 738, 7384, 734, 7348, 74, 748, 7483, 743, 7438, 8, 87, 873, 8734, 874, 8743, 83, 837, 8374, 834, 8347, 84, 847, 8473, 843, 8437, 3, 37, 378, 3784, 374]\n",
            "[7, 78, 783, 7834, 784, 7843, 73, 738, 7384, 734, 7348, 74, 748, 7483, 743, 7438, 8, 87, 873, 8734, 874, 8743, 83, 837, 8374, 834, 8347, 84, 847, 8473, 843, 8437, 3, 37, 378, 3784, 374, 3748]\n",
            "[7, 78, 783, 7834, 784, 7843, 73, 738, 7384, 734, 7348, 74, 748, 7483, 743, 7438, 8, 87, 873, 8734, 874, 8743, 83, 837, 8374, 834, 8347, 84, 847, 8473, 843, 8437, 3, 37, 378, 3784, 374, 3748, 38]\n",
            "[7, 78, 783, 7834, 784, 7843, 73, 738, 7384, 734, 7348, 74, 748, 7483, 743, 7438, 8, 87, 873, 8734, 874, 8743, 83, 837, 8374, 834, 8347, 84, 847, 8473, 843, 8437, 3, 37, 378, 3784, 374, 3748, 38, 387]\n",
            "[7, 78, 783, 7834, 784, 7843, 73, 738, 7384, 734, 7348, 74, 748, 7483, 743, 7438, 8, 87, 873, 8734, 874, 8743, 83, 837, 8374, 834, 8347, 84, 847, 8473, 843, 8437, 3, 37, 378, 3784, 374, 3748, 38, 387, 3874]\n",
            "[7, 78, 783, 7834, 784, 7843, 73, 738, 7384, 734, 7348, 74, 748, 7483, 743, 7438, 8, 87, 873, 8734, 874, 8743, 83, 837, 8374, 834, 8347, 84, 847, 8473, 843, 8437, 3, 37, 378, 3784, 374, 3748, 38, 387, 3874, 384]\n",
            "[7, 78, 783, 7834, 784, 7843, 73, 738, 7384, 734, 7348, 74, 748, 7483, 743, 7438, 8, 87, 873, 8734, 874, 8743, 83, 837, 8374, 834, 8347, 84, 847, 8473, 843, 8437, 3, 37, 378, 3784, 374, 3748, 38, 387, 3874, 384, 3847]\n",
            "[7, 78, 783, 7834, 784, 7843, 73, 738, 7384, 734, 7348, 74, 748, 7483, 743, 7438, 8, 87, 873, 8734, 874, 8743, 83, 837, 8374, 834, 8347, 84, 847, 8473, 843, 8437, 3, 37, 378, 3784, 374, 3748, 38, 387, 3874, 384, 3847, 34]\n",
            "[7, 78, 783, 7834, 784, 7843, 73, 738, 7384, 734, 7348, 74, 748, 7483, 743, 7438, 8, 87, 873, 8734, 874, 8743, 83, 837, 8374, 834, 8347, 84, 847, 8473, 843, 8437, 3, 37, 378, 3784, 374, 3748, 38, 387, 3874, 384, 3847, 34, 347]\n",
            "[7, 78, 783, 7834, 784, 7843, 73, 738, 7384, 734, 7348, 74, 748, 7483, 743, 7438, 8, 87, 873, 8734, 874, 8743, 83, 837, 8374, 834, 8347, 84, 847, 8473, 843, 8437, 3, 37, 378, 3784, 374, 3748, 38, 387, 3874, 384, 3847, 34, 347, 3478]\n",
            "[7, 78, 783, 7834, 784, 7843, 73, 738, 7384, 734, 7348, 74, 748, 7483, 743, 7438, 8, 87, 873, 8734, 874, 8743, 83, 837, 8374, 834, 8347, 84, 847, 8473, 843, 8437, 3, 37, 378, 3784, 374, 3748, 38, 387, 3874, 384, 3847, 34, 347, 3478, 348]\n",
            "[7, 78, 783, 7834, 784, 7843, 73, 738, 7384, 734, 7348, 74, 748, 7483, 743, 7438, 8, 87, 873, 8734, 874, 8743, 83, 837, 8374, 834, 8347, 84, 847, 8473, 843, 8437, 3, 37, 378, 3784, 374, 3748, 38, 387, 3874, 384, 3847, 34, 347, 3478, 348, 3487]\n",
            "[7, 78, 783, 7834, 784, 7843, 73, 738, 7384, 734, 7348, 74, 748, 7483, 743, 7438, 8, 87, 873, 8734, 874, 8743, 83, 837, 8374, 834, 8347, 84, 847, 8473, 843, 8437, 3, 37, 378, 3784, 374, 3748, 38, 387, 3874, 384, 3847, 34, 347, 3478, 348, 3487, 4, 47]\n",
            "[7, 78, 783, 7834, 784, 7843, 73, 738, 7384, 734, 7348, 74, 748, 7483, 743, 7438, 8, 87, 873, 8734, 874, 8743, 83, 837, 8374, 834, 8347, 84, 847, 8473, 843, 8437, 3, 37, 378, 3784, 374, 3748, 38, 387, 3874, 384, 3847, 34, 347, 3478, 348, 3487, 4, 47, 478]\n",
            "[7, 78, 783, 7834, 784, 7843, 73, 738, 7384, 734, 7348, 74, 748, 7483, 743, 7438, 8, 87, 873, 8734, 874, 8743, 83, 837, 8374, 834, 8347, 84, 847, 8473, 843, 8437, 3, 37, 378, 3784, 374, 3748, 38, 387, 3874, 384, 3847, 34, 347, 3478, 348, 3487, 4, 47, 478, 4783]\n",
            "[7, 78, 783, 7834, 784, 7843, 73, 738, 7384, 734, 7348, 74, 748, 7483, 743, 7438, 8, 87, 873, 8734, 874, 8743, 83, 837, 8374, 834, 8347, 84, 847, 8473, 843, 8437, 3, 37, 378, 3784, 374, 3748, 38, 387, 3874, 384, 3847, 34, 347, 3478, 348, 3487, 4, 47, 478, 4783, 473]\n",
            "[7, 78, 783, 7834, 784, 7843, 73, 738, 7384, 734, 7348, 74, 748, 7483, 743, 7438, 8, 87, 873, 8734, 874, 8743, 83, 837, 8374, 834, 8347, 84, 847, 8473, 843, 8437, 3, 37, 378, 3784, 374, 3748, 38, 387, 3874, 384, 3847, 34, 347, 3478, 348, 3487, 4, 47, 478, 4783, 473, 4738]\n",
            "[7, 78, 783, 7834, 784, 7843, 73, 738, 7384, 734, 7348, 74, 748, 7483, 743, 7438, 8, 87, 873, 8734, 874, 8743, 83, 837, 8374, 834, 8347, 84, 847, 8473, 843, 8437, 3, 37, 378, 3784, 374, 3748, 38, 387, 3874, 384, 3847, 34, 347, 3478, 348, 3487, 4, 47, 478, 4783, 473, 4738, 48]\n",
            "[7, 78, 783, 7834, 784, 7843, 73, 738, 7384, 734, 7348, 74, 748, 7483, 743, 7438, 8, 87, 873, 8734, 874, 8743, 83, 837, 8374, 834, 8347, 84, 847, 8473, 843, 8437, 3, 37, 378, 3784, 374, 3748, 38, 387, 3874, 384, 3847, 34, 347, 3478, 348, 3487, 4, 47, 478, 4783, 473, 4738, 48, 487]\n",
            "[7, 78, 783, 7834, 784, 7843, 73, 738, 7384, 734, 7348, 74, 748, 7483, 743, 7438, 8, 87, 873, 8734, 874, 8743, 83, 837, 8374, 834, 8347, 84, 847, 8473, 843, 8437, 3, 37, 378, 3784, 374, 3748, 38, 387, 3874, 384, 3847, 34, 347, 3478, 348, 3487, 4, 47, 478, 4783, 473, 4738, 48, 487, 4873]\n",
            "[7, 78, 783, 7834, 784, 7843, 73, 738, 7384, 734, 7348, 74, 748, 7483, 743, 7438, 8, 87, 873, 8734, 874, 8743, 83, 837, 8374, 834, 8347, 84, 847, 8473, 843, 8437, 3, 37, 378, 3784, 374, 3748, 38, 387, 3874, 384, 3847, 34, 347, 3478, 348, 3487, 4, 47, 478, 4783, 473, 4738, 48, 487, 4873, 483]\n",
            "[7, 78, 783, 7834, 784, 7843, 73, 738, 7384, 734, 7348, 74, 748, 7483, 743, 7438, 8, 87, 873, 8734, 874, 8743, 83, 837, 8374, 834, 8347, 84, 847, 8473, 843, 8437, 3, 37, 378, 3784, 374, 3748, 38, 387, 3874, 384, 3847, 34, 347, 3478, 348, 3487, 4, 47, 478, 4783, 473, 4738, 48, 487, 4873, 483, 4837]\n",
            "[7, 78, 783, 7834, 784, 7843, 73, 738, 7384, 734, 7348, 74, 748, 7483, 743, 7438, 8, 87, 873, 8734, 874, 8743, 83, 837, 8374, 834, 8347, 84, 847, 8473, 843, 8437, 3, 37, 378, 3784, 374, 3748, 38, 387, 3874, 384, 3847, 34, 347, 3478, 348, 3487, 4, 47, 478, 4783, 473, 4738, 48, 487, 4873, 483, 4837, 43]\n",
            "[7, 78, 783, 7834, 784, 7843, 73, 738, 7384, 734, 7348, 74, 748, 7483, 743, 7438, 8, 87, 873, 8734, 874, 8743, 83, 837, 8374, 834, 8347, 84, 847, 8473, 843, 8437, 3, 37, 378, 3784, 374, 3748, 38, 387, 3874, 384, 3847, 34, 347, 3478, 348, 3487, 4, 47, 478, 4783, 473, 4738, 48, 487, 4873, 483, 4837, 43, 437]\n",
            "[7, 78, 783, 7834, 784, 7843, 73, 738, 7384, 734, 7348, 74, 748, 7483, 743, 7438, 8, 87, 873, 8734, 874, 8743, 83, 837, 8374, 834, 8347, 84, 847, 8473, 843, 8437, 3, 37, 378, 3784, 374, 3748, 38, 387, 3874, 384, 3847, 34, 347, 3478, 348, 3487, 4, 47, 478, 4783, 473, 4738, 48, 487, 4873, 483, 4837, 43, 437, 4378]\n",
            "[7, 78, 783, 7834, 784, 7843, 73, 738, 7384, 734, 7348, 74, 748, 7483, 743, 7438, 8, 87, 873, 8734, 874, 8743, 83, 837, 8374, 834, 8347, 84, 847, 8473, 843, 8437, 3, 37, 378, 3784, 374, 3748, 38, 387, 3874, 384, 3847, 34, 347, 3478, 348, 3487, 4, 47, 478, 4783, 473, 4738, 48, 487, 4873, 483, 4837, 43, 437, 4378, 438]\n",
            "[7, 78, 783, 7834, 784, 7843, 73, 738, 7384, 734, 7348, 74, 748, 7483, 743, 7438, 8, 87, 873, 8734, 874, 8743, 83, 837, 8374, 834, 8347, 84, 847, 8473, 843, 8437, 3, 37, 378, 3784, 374, 3748, 38, 387, 3874, 384, 3847, 34, 347, 3478, 348, 3487, 4, 47, 478, 4783, 473, 4738, 48, 487, 4873, 483, 4837, 43, 437, 4378, 438, 4387]\n"
          ]
        },
        {
          "output_type": "execute_result",
          "data": {
            "text/plain": [
              "12"
            ]
          },
          "metadata": {},
          "execution_count": 2
        }
      ]
    }
  ]
}