{
  "nbformat": 4,
  "nbformat_minor": 0,
  "metadata": {
    "colab": {
      "name": "3차] n진수 게임.ipynb",
      "provenance": [],
      "collapsed_sections": []
    },
    "kernelspec": {
      "name": "python3",
      "display_name": "Python 3"
    },
    "language_info": {
      "name": "python"
    }
  },
  "cells": [
    {
      "cell_type": "code",
      "metadata": {
        "id": "CUbPFlHlmFk5",
        "colab": {
          "base_uri": "https://localhost:8080/"
        },
        "outputId": "1049030b-6524-4529-badb-6acaeb2c1c8b"
      },
      "source": [
        "print(format(2,'#x').replace('0x',''))\n",
        "print(format(10,'#b'))\n",
        "print(format(10,'#o'))"
      ],
      "execution_count": 80,
      "outputs": [
        {
          "output_type": "stream",
          "name": "stdout",
          "text": [
            "2\n",
            "0b1010\n",
            "0o12\n"
          ]
        }
      ]
    },
    {
      "cell_type": "code",
      "source": [
        "print(bin(2))\n",
        "print(hex(11))"
      ],
      "metadata": {
        "colab": {
          "base_uri": "https://localhost:8080/"
        },
        "id": "nWe8CGKix5vF",
        "outputId": "5f873c68-d800-4c8e-ed9b-d1b04eb02a52"
      },
      "execution_count": 84,
      "outputs": [
        {
          "output_type": "stream",
          "name": "stdout",
          "text": [
            "0b10\n",
            "0xb\n"
          ]
        }
      ]
    },
    {
      "cell_type": "markdown",
      "source": [
        "10진수에서 n진수로 [참조 사이트](https://velog.io/@code_angler/%ED%8C%8C%EC%9D%B4%EC%8D%AC-%EC%A7%84%EC%88%98%EB%B3%80%ED%99%982%EC%A7%84%EB%B2%95-3%EC%A7%84%EB%B2%95-5%EC%A7%84%EB%B2%95-10%EC%A7%84%EB%B2%95n%EC%A7%84%EB%B2%95)"
      ],
      "metadata": {
        "id": "kZ3Ggss3zLf-"
      }
    },
    {
      "cell_type": "code",
      "source": [
        "def solution(n, q):\n",
        "    rev_base = ''\n",
        "    while n > 0:\n",
        "        n, mod = divmod(n, q)\n",
        "        rev_base += str(mod)\n",
        "\n",
        "    return rev_base[::-1]\n",
        "    # 역순인 진수를 뒤집어 줘야 원래 변환 하고자하는 base가 출력\n",
        "    \n",
        "print(solution(10, 16))"
      ],
      "metadata": {
        "colab": {
          "base_uri": "https://localhost:8080/"
        },
        "id": "-jaXb9Qhwa4Y",
        "outputId": "3596f23f-5457-4308-d62a-5bf995fbbb8d"
      },
      "execution_count": 116,
      "outputs": [
        {
          "output_type": "stream",
          "name": "stdout",
          "text": [
            "01\n"
          ]
        }
      ]
    },
    {
      "cell_type": "code",
      "source": [
        "#진수 구하기 \n",
        "def number_(num, n):\n",
        "    temp = \"0123456789ABCDEF\"\n",
        "    div_, mod = divmod(num, n)\n",
        "    if div_ ==0:\n",
        "        return temp[mod]\n",
        "    else:\n",
        "        return number_(div_, n)+temp[mod]\n",
        "\n",
        "number_(3, 2)"
      ],
      "metadata": {
        "colab": {
          "base_uri": "https://localhost:8080/",
          "height": 36
        },
        "id": "N_MVPqyk3t2S",
        "outputId": "5727afb9-1d59-439f-e923-3a4677618df2"
      },
      "execution_count": 127,
      "outputs": [
        {
          "output_type": "execute_result",
          "data": {
            "application/vnd.google.colaboratory.intrinsic+json": {
              "type": "string"
            },
            "text/plain": [
              "'11'"
            ]
          },
          "metadata": {},
          "execution_count": 127
        }
      ]
    },
    {
      "cell_type": "code",
      "source": [
        "#진수 구하기 \n",
        "def number_(num, n):\n",
        "    temp = \"0123456789ABCDEF\"\n",
        "    div_, mod = divmod(num, n)\n",
        "    if div_ ==0:\n",
        "        return temp[mod]\n",
        "    else:\n",
        "        return number_(div_, n)+temp[mod]\n",
        "\n",
        "def solution(n, t, m, p):\n",
        "    answer = ''\n",
        "    s=''\n",
        "    for i in range(t*m):\n",
        "        s+= number_(i, n)\n",
        "    id_ = p -1\n",
        "    for i in range(t):\n",
        "        answer+= s[id_+(i*m)]\n",
        "    return answer\n",
        "\n",
        "n = 2 # 진법 \n",
        "t = 4 # 미리 구할 숫자의 갯수\n",
        "m = 2 # 게임에 참가하는 인원\n",
        "p= 1 # 튜브의 순서\n",
        "solution(n, t, m, p)"
      ],
      "metadata": {
        "colab": {
          "base_uri": "https://localhost:8080/",
          "height": 36
        },
        "id": "eG5zMoDPzgBB",
        "outputId": "cb61a74f-0437-47b1-b978-e82b8f98c5e1"
      },
      "execution_count": 129,
      "outputs": [
        {
          "output_type": "execute_result",
          "data": {
            "application/vnd.google.colaboratory.intrinsic+json": {
              "type": "string"
            },
            "text/plain": [
              "'0111'"
            ]
          },
          "metadata": {},
          "execution_count": 129
        }
      ]
    },
    {
      "cell_type": "code",
      "source": [
        "def solution(n, t, m, p):\n",
        "    answer = ''\n",
        "    num = list()\n",
        "    i = 0\n",
        "    while len(num) <= (t * m):\n",
        "        num.extend(convert(i, n))\n",
        "        i += 1\n",
        "    print(num)    \n",
        "    idx = p - 1\n",
        "    for i in range(0, t):\n",
        "        answer += num[idx + (i * m)]\n",
        "\n",
        "    return answer\n",
        "\n",
        "\n",
        "def convert(num, base):\n",
        "    temp = \"0123456789ABCDEF\"\n",
        "    q, r = divmod(num, base)\n",
        "    if q == 0:\n",
        "        return temp[r]\n",
        "    else:\n",
        "        # q를 base로 변환\n",
        "        # 즉, n진수의 다음 자리를 구함\n",
        "        return convert(q, base) + temp[r]\n",
        "\n",
        "n = 2 # 진법 \n",
        "t = 4 # 미리 구할 숫자의 갯수\n",
        "m = 2 # 게임에 참가하는 인원\n",
        "p= 1 # 튜브의 순서\n",
        "solution(n, t, m, p)"
      ],
      "metadata": {
        "colab": {
          "base_uri": "https://localhost:8080/",
          "height": 55
        },
        "id": "yteFr3U12Pwn",
        "outputId": "8e6b6aa6-9ac2-450b-95da-677967d092f0"
      },
      "execution_count": 110,
      "outputs": [
        {
          "output_type": "stream",
          "name": "stdout",
          "text": [
            "['0', '1', '1', '0', '1', '1', '1', '0', '0']\n"
          ]
        },
        {
          "output_type": "execute_result",
          "data": {
            "application/vnd.google.colaboratory.intrinsic+json": {
              "type": "string"
            },
            "text/plain": [
              "'0111'"
            ]
          },
          "metadata": {},
          "execution_count": 110
        }
      ]
    },
    {
      "cell_type": "markdown",
      "source": [
        "[링크 텍스트](﻿https://velog.io/@djagmlrhks3/Algorithm-Programmers-3%EC%B0%A8-n%EC%A7%84%EC%88%98-%EA%B2%8C%EC%9E%84-by-Python)"
      ],
      "metadata": {
        "id": "bpfnyGXr3TjE"
      }
    },
    {
      "cell_type": "code",
      "source": [
        "def solution(n, t, m, p):\n",
        "    answer = ''\n",
        "    num = list()\n",
        "    i = 0\n",
        "    while len(num) <= (t * m):\n",
        "        num.extend(convert(i, n))\n",
        "        i += 1\n",
        "        \n",
        "    idx = p - 1\n",
        "    for i in range(0, t):\n",
        "        answer += num[idx + (i * m)]\n",
        "\n",
        "    return answer\n",
        "\n",
        "\n",
        "def convert(num, base):\n",
        "    temp = \"0123456789ABCDEF\"\n",
        "    q, r = divmod(num, base)\n",
        "    if q == 0:\n",
        "        return temp[r]\n",
        "    else:\n",
        "        # q를 base로 변환\n",
        "        # 즉, n진수의 다음 자리를 구함\n",
        "        return convert(q, base) + temp[r]\n",
        "\n",
        "n = 16 # 진법 \n",
        "t = 16 # 미리 구할 숫자의 갯수\n",
        "m = 2 # 게임에 참가하는 인원\n",
        "p= 1 # 튜브의 순서\n",
        "solution(n, t, m, p)"
      ],
      "metadata": {
        "colab": {
          "base_uri": "https://localhost:8080/",
          "height": 75
        },
        "id": "l-FRvpattm6k",
        "outputId": "7b3d39c4-2326-4d85-af55-2891e8543d0a"
      },
      "execution_count": 96,
      "outputs": [
        {
          "output_type": "stream",
          "name": "stdout",
          "text": [
            "['0', '1', '2', '3', '4', '5', '6', '7', '8', '9', 'A', 'B', 'C', 'D', 'E', 'F', '1', '0', '1', '1', '1', '2', '1', '3', '1', '4', '1', '5', '1', '6', '1', '7', '1', '8']\n"
          ]
        },
        {
          "output_type": "execute_result",
          "data": {
            "application/vnd.google.colaboratory.intrinsic+json": {
              "type": "string"
            },
            "text/plain": [
              "'02468ACE11111111'"
            ]
          },
          "metadata": {},
          "execution_count": 96
        }
      ]
    }
  ]
}