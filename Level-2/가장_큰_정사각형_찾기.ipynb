{
  "nbformat": 4,
  "nbformat_minor": 0,
  "metadata": {
    "colab": {
      "name": "가장_큰_정사각형_찾기.ipynb",
      "provenance": []
    },
    "kernelspec": {
      "name": "python3",
      "display_name": "Python 3"
    },
    "language_info": {
      "name": "python"
    }
  },
  "cells": [
    {
      "cell_type": "code",
      "execution_count": 2,
      "metadata": {
        "colab": {
          "base_uri": "https://localhost:8080/"
        },
        "id": "XqewTKcwai1q",
        "outputId": "5966d3ae-4f5b-44ea-f78f-ee12576c9a83"
      },
      "outputs": [
        {
          "output_type": "execute_result",
          "data": {
            "text/plain": [
              "9"
            ]
          },
          "metadata": {},
          "execution_count": 2
        }
      ],
      "source": [
        "def solution(board):\n",
        "    answer = 0\n",
        "    n = len(board)\n",
        "    for i in range(1,n):\n",
        "        for j in range(1,len(board[i])):\n",
        "            if board[i][j] == 1 : \n",
        "                board[i][j] = min(board[i-1][j-1],board[i-1][j],board[i][j-1])+1 \n",
        "    \n",
        "\n",
        "    answer = []\n",
        "    for i in range(n):\n",
        "        answer.append(max(board[i]))\n",
        "    \n",
        "    return max(answer)**2\n",
        "\n",
        "\n",
        "board = [[0,1,1,1],[1,1,1,1],[1,1,1,1],[0,0,1,0]]\t\n",
        "solution(board)"
      ]
    },
    {
      "cell_type": "code",
      "source": [
        ""
      ],
      "metadata": {
        "id": "KspPgDnaaohz"
      },
      "execution_count": null,
      "outputs": []
    }
  ]
}