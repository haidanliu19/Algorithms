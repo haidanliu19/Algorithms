{
  "nbformat": 4,
  "nbformat_minor": 0,
  "metadata": {
    "colab": {
      "name": "가장 큰 정사각형 찾기.ipynb",
      "provenance": [],
      "collapsed_sections": []
    },
    "kernelspec": {
      "name": "python3",
      "display_name": "Python 3"
    },
    "language_info": {
      "name": "python"
    }
  },
  "cells": [
    {
      "cell_type": "code",
      "execution_count": 16,
      "metadata": {
        "colab": {
          "base_uri": "https://localhost:8080/"
        },
        "id": "ub-xFVG3P3b5",
        "outputId": "a51366c2-88da-40b0-e552-f5ddb5a71de3"
      },
      "outputs": [
        {
          "output_type": "execute_result",
          "data": {
            "text/plain": [
              "9"
            ]
          },
          "metadata": {},
          "execution_count": 16
        }
      ],
      "source": [
        "def solution(board):\n",
        "    answer = 0\n",
        "    n = len(board)\n",
        "    for i in range(1,n):\n",
        "        for j in range(1,len(board[i])):\n",
        "            if board[i][j] == 1 : \n",
        "                board[i][j] = min(board[i-1][j-1],board[i-1][j],board[i][j-1])+1 \n",
        "    \n",
        "\n",
        "    answer = []\n",
        "    for i in range(n):\n",
        "        answer.append(max(board[i]))\n",
        "    \n",
        "    return max(answer)**2\n",
        "\n",
        "\n",
        "board = [[0,1,1,1],[1,1,1,1],[1,1,1,1],[0,0,1,0]]\t\n",
        "solution(board)"
      ]
    },
    {
      "cell_type": "code",
      "source": [
        ""
      ],
      "metadata": {
        "id": "fr_fGHjEYCIy",
        "colab": {
          "base_uri": "https://localhost:8080/"
        },
        "outputId": "98e466d3-2ef6-431d-98b1-92522e6d2437"
      },
      "execution_count": null,
      "outputs": [
        {
          "output_type": "execute_result",
          "data": {
            "text/plain": [
              "1"
            ]
          },
          "metadata": {},
          "execution_count": 21
        }
      ]
    },
    {
      "cell_type": "code",
      "source": [
        ""
      ],
      "metadata": {
        "id": "QlpLUyUQddBL"
      },
      "execution_count": null,
      "outputs": []
    }
  ]
}