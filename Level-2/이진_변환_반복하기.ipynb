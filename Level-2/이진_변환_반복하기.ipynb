{
  "nbformat": 4,
  "nbformat_minor": 0,
  "metadata": {
    "colab": {
      "name": "이진 변환 반복하기.ipynb",
      "provenance": [],
      "collapsed_sections": []
    },
    "kernelspec": {
      "name": "python3",
      "display_name": "Python 3"
    },
    "language_info": {
      "name": "python"
    }
  },
  "cells": [
    {
      "cell_type": "code",
      "execution_count": 67,
      "metadata": {
        "colab": {
          "base_uri": "https://localhost:8080/"
        },
        "id": "B6sSUqNUCs_7",
        "outputId": "a6a59f7a-431e-469c-84fb-7851ebab5f32"
      },
      "outputs": [
        {
          "output_type": "execute_result",
          "data": {
            "text/plain": [
              "[3, 8]"
            ]
          },
          "metadata": {},
          "execution_count": 67
        }
      ],
      "source": [
        "def retbin(s):\n",
        "    s = str(s).replace('0','')\n",
        "    s = bin(len(s)).replace('0b','')\n",
        "    return s\n",
        "\n",
        "def solution(s):\n",
        "    answer = []\n",
        "    zerocount,cnt = 0,0\n",
        "    while s != '1':\n",
        "        zerocount += s.count('0')\n",
        "        s = retbin(s)\n",
        "        cnt += 1\n",
        "    answer.append(cnt)\n",
        "    answer.append(zerocount)\n",
        "    return answer\n",
        "\n",
        "s = \"110010101001\"\n",
        "solution(s)"
      ]
    },
    {
      "cell_type": "code",
      "source": [
        "def solution(s):\n",
        "    answer = []\n",
        "    zerocount,cnt = 0,0\n",
        "    while s != '1':\n",
        "        zerocount += s.count('0')\n",
        "        s = bin(len((lambda x: x.replace('0',''))(s))).replace('0b','')\n",
        "        cnt += 1\n",
        "    answer.append(cnt)\n",
        "    answer.append(zerocount)\n",
        "    return answer\n",
        "\n",
        "s = \"1111111\"\n",
        "solution(s)"
      ],
      "metadata": {
        "colab": {
          "base_uri": "https://localhost:8080/"
        },
        "id": "HBLGoRxnEztO",
        "outputId": "fe2ef23f-dc91-48c8-f7d1-d20c9ec3e6d6"
      },
      "execution_count": 65,
      "outputs": [
        {
          "output_type": "execute_result",
          "data": {
            "text/plain": [
              "[4, 1]"
            ]
          },
          "metadata": {},
          "execution_count": 65
        }
      ]
    },
    {
      "cell_type": "code",
      "source": [
        "s = \"110010101001\"\n",
        "s = bin(len((lambda x: x.replace('0',''))(s))).replace('0b','')\n",
        "s"
      ],
      "metadata": {
        "colab": {
          "base_uri": "https://localhost:8080/",
          "height": 35
        },
        "id": "X8cfyuGBGZlk",
        "outputId": "ec95d056-9156-411b-d2ea-30c9616ed5a9"
      },
      "execution_count": 61,
      "outputs": [
        {
          "output_type": "execute_result",
          "data": {
            "application/vnd.google.colaboratory.intrinsic+json": {
              "type": "string"
            },
            "text/plain": [
              "'110'"
            ]
          },
          "metadata": {},
          "execution_count": 61
        }
      ]
    }
  ]
}