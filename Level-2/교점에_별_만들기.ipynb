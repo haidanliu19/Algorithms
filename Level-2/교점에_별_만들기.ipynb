{
  "nbformat": 4,
  "nbformat_minor": 0,
  "metadata": {
    "colab": {
      "name": "교점에 별 만들기.ipynb",
      "provenance": [],
      "collapsed_sections": []
    },
    "kernelspec": {
      "name": "python3",
      "display_name": "Python 3"
    },
    "language_info": {
      "name": "python"
    }
  },
  "cells": [
    {
      "cell_type": "code",
      "source": [
        "def solution(line):\n",
        "    answer = []\n",
        "    lines = []\n",
        "    x_min, x_max, y_min, y_max = float('inf'), -float('inf'), float('inf'), -float('inf')\n",
        "    for i in range(len(line)-1):\n",
        "        for j in range(i, len(line)):\n",
        "            A,B,E = line[i][0], line[i][1], line[i][2]\n",
        "            C,D,F = line[j][0], line[j][1], line[j][2]\n",
        "            # 또, AD - BC = 0인 경우 두 직선은 평행 또는 일치합니다.\n",
        "            val = A*D - B*C\n",
        "            if val != 0:\n",
        "                denominator = (A * D - B * C)\n",
        "                if denominator != 0:\n",
        "                    x = (B * F - E * D) / denominator\n",
        "                    y = (E * C - A * F) / denominator\n",
        "                    if x.is_integer() and y.is_integer():\n",
        "                        x, y = int(x) , int(y)\n",
        "                        lines.append((x, y))\n",
        "                        x_min, x_max, y_min, y_max = min(x_min, x), max(x_max, x), min(y_min, y), max(y_max, y)\n",
        "\n",
        "    answer = [['.' for _ in range(x_max - x_min + 1)] for _ in range(y_max - y_min + 1)]\n",
        "    for x, y in lines:\n",
        "        answer[y_max - y][x - x_min] = '*'\n",
        "        #answer[y_max - y][x_max - x] = '*'\n",
        "\n",
        "    return [''.join(i) for i in answer]\n",
        "\n",
        "line = [[2, -1, 4], [-2, -1, 4], [0, -1, 1], [5, -8, -12], [5, 8, 12]]\n",
        "print(solution(line))\n",
        "\n",
        "line = [[0, 1, -1], [1, 0, -1], [1, 0, 1]]\n",
        "print(solution(line))"
      ],
      "metadata": {
        "colab": {
          "base_uri": "https://localhost:8080/"
        },
        "id": "7bQinD9UuDKV",
        "outputId": "4cb82106-45c6-45a5-da7c-e16ab8cdba31"
      },
      "execution_count": 85,
      "outputs": [
        {
          "output_type": "stream",
          "name": "stdout",
          "text": [
            "['....*....', '.........', '.........', '*.......*', '.........', '.........', '.........', '.........', '*.......*']\n",
            "['*.*']\n"
          ]
        }
      ]
    },
    {
      "cell_type": "code",
      "execution_count": 48,
      "metadata": {
        "colab": {
          "base_uri": "https://localhost:8080/"
        },
        "id": "5Ij6ecBKsq26",
        "outputId": "70f940da-ac19-4212-bb0e-1d7b4497d426"
      },
      "outputs": [
        {
          "output_type": "stream",
          "name": "stdout",
          "text": [
            "-4.0 4.0 -4.0 4.0\n",
            "-1.0 1.0 1.0 1.0\n",
            "0.0 0.0 0.0 0.0\n",
            "0.0 0.0 0.0 0.0\n"
          ]
        },
        {
          "output_type": "execute_result",
          "data": {
            "text/plain": [
              "[]"
            ]
          },
          "metadata": {},
          "execution_count": 48
        }
      ],
      "source": [
        "def solution(line):\n",
        "    answer = []\n",
        "    line_set = set()\n",
        "    for idx1, line1 in enumerate(line):\n",
        "        for idx2, line2 in enumerate(line):\n",
        "            if idx1 != idx2:\n",
        "                A,B,E = line1[0],line1[1],line1[2]\n",
        "                C,D,F = line2[0],line2[1],line2[2]\n",
        "                # 또, AD - BC = 0인 경우 두 직선은 평행 또는 일치합니다.\n",
        "                val = A * D - B * C\n",
        "                if val != 0:\n",
        "                    x_denominator = (A * D  - B * C)\n",
        "                    y_denominator = (A * D - B * C)\n",
        "                    if x_denominator != 0 and y_denominator != 0:\n",
        "                        x = (B * F - E * D) / x_denominator\n",
        "                        y = (E * C - A * F) / y_denominator\n",
        "                        if x.is_integer() and y.is_integer():\n",
        "                            line_set.add((x, y))\n",
        "    line_list = list(line_set)\n",
        "    x_line = [i[0] for i in line_list]\n",
        "    y_line = [i[1] for i in line_list]\n",
        "    x_min, x_max, y_min, y_max = min(x_line), max(x_line), min(y_line), max(y_line)\n",
        "    \n",
        "    \n",
        "    return answer\n",
        "\n",
        "line = [[2, -1, 4], [-2, -1, 4], [0, -1, 1], [5, -8, -12], [5, 8, 12]]\n",
        "solution(line)\n",
        "\n",
        "line = [[0, 1, -1], [1, 0, -1], [1, 0, 1]]\n",
        "solution(line)\n",
        "\n",
        "line = [[1, -1, 0], [2, -1, 0]]\n",
        "solution(line)\n",
        "\n",
        "\n",
        "line = [[1, -1, 0], [2, -1, 0], [4, -1, 0]]\n",
        "solution(line)"
      ]
    },
    {
      "cell_type": "code",
      "source": [
        ""
      ],
      "metadata": {
        "id": "LggE9BQdzGHh"
      },
      "execution_count": null,
      "outputs": []
    }
  ]
}