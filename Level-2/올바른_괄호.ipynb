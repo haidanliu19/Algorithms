{
  "nbformat": 4,
  "nbformat_minor": 0,
  "metadata": {
    "colab": {
      "name": "올바른 괄호.ipynb",
      "provenance": [],
      "collapsed_sections": []
    },
    "kernelspec": {
      "name": "python3",
      "display_name": "Python 3"
    },
    "language_info": {
      "name": "python"
    }
  },
  "cells": [
    {
      "cell_type": "code",
      "metadata": {
        "id": "CUbPFlHlmFk5",
        "colab": {
          "base_uri": "https://localhost:8080/"
        },
        "outputId": "a52d310d-63f2-403e-ee4b-82d494548485"
      },
      "source": [
        "def solution(s):\n",
        "    list_ = [1 if i =='(' else -1 for i in s ]\n",
        "    sum_= 0\n",
        "    for idx,val in enumerate(list_):\n",
        "        if sum_ ==0 and val == -1:\n",
        "            return False\n",
        "        sum_+= val\n",
        "        if sum_==0 and idx%2 ==0:\n",
        "            return False\n",
        "    if sum_ != 0:\n",
        "        return False\n",
        "    return True\n",
        "\n",
        "s = \"())(\"\n",
        "solution(s)"
      ],
      "execution_count": 40,
      "outputs": [
        {
          "output_type": "execute_result",
          "data": {
            "text/plain": [
              "False"
            ]
          },
          "metadata": {},
          "execution_count": 40
        }
      ]
    },
    {
      "cell_type": "code",
      "source": [
        ""
      ],
      "metadata": {
        "id": "K-vAYEXoDmof"
      },
      "execution_count": null,
      "outputs": []
    }
  ]
}