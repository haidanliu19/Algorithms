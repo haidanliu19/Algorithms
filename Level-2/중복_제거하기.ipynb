{
  "nbformat": 4,
  "nbformat_minor": 0,
  "metadata": {
    "colab": {
      "name": "중복 제거하기.ipynb",
      "provenance": [],
      "collapsed_sections": []
    },
    "kernelspec": {
      "name": "python3",
      "display_name": "Python 3"
    },
    "language_info": {
      "name": "python"
    }
  },
  "cells": [
    {
      "cell_type": "code",
      "execution_count": null,
      "metadata": {
        "id": "8IcuVOR-lq3F"
      },
      "outputs": [],
      "source": [
        "-- 코드를 입력하세요 count\n",
        "SELECT COUNT(DISTINCT NAME)\n",
        "FROM ANIMAL_INS \n",
        "where NAME is not null"
      ]
    }
  ]
}