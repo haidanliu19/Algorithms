{
  "nbformat": 4,
  "nbformat_minor": 0,
  "metadata": {
    "colab": {
      "name": "카펫.ipynb",
      "provenance": [],
      "collapsed_sections": []
    },
    "kernelspec": {
      "name": "python3",
      "display_name": "Python 3"
    },
    "language_info": {
      "name": "python"
    }
  },
  "cells": [
    {
      "cell_type": "markdown",
      "source": [
        "출처 : 프로그래머스"
      ],
      "metadata": {
        "id": "Tg1SFmLB-DSI"
      }
    },
    {
      "cell_type": "code",
      "source": [
        "def solution(brown, yellow):\n",
        "    answer = []\n",
        "    w, h = 3, 3\n",
        "    while w >= h:\n",
        "        if yellow == (w - 2 ) * (h - 2) and brown == (w * h - (w - 2)*(h - 2)):\n",
        "            return [w, h]\n",
        "        elif (w-2)*(h-2) <= yellow and w*h - (w-2)*(h-2) >= brown:\n",
        "            h += 1\n",
        "            w -= 1\n",
        "        else:\n",
        "            w += 1\n",
        "    \n",
        "    return answer\n",
        "\n",
        "brown = 24\n",
        "yellow = 24\n",
        "solution(brown, yellow)"
      ],
      "metadata": {
        "colab": {
          "base_uri": "https://localhost:8080/"
        },
        "id": "e4F2cqthTTem",
        "outputId": "6b36dcc9-8f30-4e2c-ea2a-6d4dc9c7b973"
      },
      "execution_count": 16,
      "outputs": [
        {
          "output_type": "execute_result",
          "data": {
            "text/plain": [
              "[8, 6]"
            ]
          },
          "metadata": {},
          "execution_count": 16
        }
      ]
    }
  ]
}