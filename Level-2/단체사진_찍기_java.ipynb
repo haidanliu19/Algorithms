{
  "nbformat": 4,
  "nbformat_minor": 0,
  "metadata": {
    "colab": {
      "name": "단체사진 찍기.ipynb",
      "provenance": [],
      "collapsed_sections": []
    },
    "kernelspec": {
      "name": "python3",
      "display_name": "Python 3"
    },
    "language_info": {
      "name": "python"
    }
  },
  "cells": [
    {
      "cell_type": "code",
      "execution_count": 79,
      "metadata": {
        "colab": {
          "base_uri": "https://localhost:8080/"
        },
        "id": "BAc8hEVFkNrs",
        "outputId": "558d9e4d-5b16-495c-fc65-8a2d35bc4122"
      },
      "outputs": [
        {
          "output_type": "execute_result",
          "data": {
            "text/plain": [
              "False"
            ]
          },
          "metadata": {},
          "execution_count": 79
        }
      ],
      "source": [
        "# 참조 : https://youngest-programming.tistory.com/586\n",
        "class Solution {\n",
        "    private String[] friends = {\"A\", \"C\", \"F\", \"J\", \"M\", \"N\", \"R\", \"T\"};\n",
        "    private int answer = 0;\n",
        "    \n",
        "    public int solution(int n, String[] data) {\n",
        "        // 방문 \n",
        "        boolean[] isVisited = new boolean[8];\n",
        "        dfs(\"\", isVisited, data);\n",
        "        return answer;\n",
        "    }\n",
        "    \n",
        "    private void dfs(String names, boolean[] isVisited, String[] datas) {\n",
        "        if (names.length() == 7) {\n",
        "            if (check(names, datas)) { // 조건만족 체크\n",
        "                answer++;\n",
        "            }\n",
        "            return;\n",
        "        }\n",
        "        for (int i = 0; i < 8; i++) { \n",
        "            if (!isVisited[i]) {\n",
        "                isVisited[i] = true;\n",
        "                String name = names + friends[i];\n",
        "                dfs(name, isVisited, datas);\n",
        "                isVisited[i] = false;\n",
        "            }\n",
        "        }\n",
        "    }\n",
        "    \n",
        "    private boolean check(String names, String[] datas) {\n",
        "        for (String data : datas) {\n",
        "            int position1 = names.indexOf(data.charAt(0)); // 첫 번째 글자는 조건을 제시한 프렌즈\n",
        "            int position2 = names.indexOf(data.charAt(2)); //  상대방이다. \n",
        "            char op = data.charAt(3); // 네 번째 글자는 다음 3개 중 하나이다. {=, <, >} 각각 같음, 미만, 초과를 의미한다.\n",
        "            int index = data.charAt(4) -'0'; // 다섯 번째 글자는 0 이상 6 이하의 정수의 문자형이며, 조건에 제시되는 간격을 의미한다. 이때 간격은 두 프렌즈 사이에 있는 다른 프렌즈의 수이다.\n",
        "            if (op == '=') {\n",
        "                if (!(Math.abs(position1 - position2) == index+1)) return false; //둘 포지션 차이를 구하기 위해선 index+1 을 해야함에 주의\n",
        "            } else if (op == '>') {\n",
        "                if (!(Math.abs(position1 - position2) > index+1)) return false;\n",
        "            } else if (op == '<') {\n",
        "                if (!(Math.abs(position1 - position2) < index+1)) return false;\n",
        "            }\n",
        "        }\n",
        "        return true;\n",
        "    }\n",
        "}"
      ]
    }
  ]
}