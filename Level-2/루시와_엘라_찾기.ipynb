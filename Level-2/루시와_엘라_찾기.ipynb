{
  "nbformat": 4,
  "nbformat_minor": 0,
  "metadata": {
    "colab": {
      "name": "루시와 엘라 찾기.ipynb",
      "provenance": [],
      "collapsed_sections": []
    },
    "kernelspec": {
      "name": "python3",
      "display_name": "Python 3"
    },
    "language_info": {
      "name": "python"
    }
  },
  "cells": [
    {
      "cell_type": "code",
      "source": [
        "-- 코드를 입력하세요\n",
        "SELECT ANIMAL_ID,\n",
        "    NAME,\n",
        "    SEX_UPON_INTAKE\n",
        "FROM ANIMAL_INS\n",
        "WHERE NAME IN ('Ella','Lucy','Pickle','Rogan','Sabrina','Mitty')\n",
        "ORDER BY ANIMAL_ID"
      ],
      "metadata": {
        "id": "K-vAYEXoDmof"
      },
      "execution_count": null,
      "outputs": []
    }
  ]
}