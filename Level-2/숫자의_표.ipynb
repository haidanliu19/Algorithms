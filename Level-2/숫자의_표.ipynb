{
  "nbformat": 4,
  "nbformat_minor": 0,
  "metadata": {
    "colab": {
      "name": "숫자의 표.ipynb",
      "provenance": [],
      "collapsed_sections": []
    },
    "kernelspec": {
      "name": "python3",
      "display_name": "Python 3"
    },
    "language_info": {
      "name": "python"
    }
  },
  "cells": [
    {
      "cell_type": "code",
      "metadata": {
        "colab": {
          "base_uri": "https://localhost:8080/"
        },
        "id": "yeLdBBvv1IL6",
        "outputId": "3fdaaae6-9874-407c-ad89-d2a1115a379e"
      },
      "source": [
        "def solution(n):\n",
        "    answer = [n]\n",
        "    i = 1\n",
        "    m = (n //2 +1)\n",
        "    for i in range(1, m):\n",
        "        sum = i\n",
        "        for j in range(i+1, m+1):\n",
        "            sum  += j\n",
        "            if sum > n:\n",
        "                break\n",
        "            elif sum == n:\n",
        "                answer.append(sum)\n",
        "                \n",
        "    return len(answer)\n",
        "\n",
        "n = 15\n",
        "solution(n)"
      ],
      "execution_count": 110,
      "outputs": [
        {
          "output_type": "execute_result",
          "data": {
            "text/plain": [
              "4"
            ]
          },
          "metadata": {},
          "execution_count": 110
        }
      ]
    },
    {
      "cell_type": "markdown",
      "metadata": {
        "id": "oqxszdggxzr2"
      },
      "source": [
        "# 아래것 시간 초과 "
      ]
    },
    {
      "cell_type": "code",
      "metadata": {
        "colab": {
          "base_uri": "https://localhost:8080/"
        },
        "id": "GfvRy_Pyxyta",
        "outputId": "353d4b0a-f5e3-4d01-d4c8-b26d085d7a24"
      },
      "source": [
        "def solution(n):\n",
        "    answer =1\n",
        "    i = 1\n",
        "    m = (n //2) +1\n",
        "    list_ = [ sum([x for x in range(i,j+1) ])  for i in range(1, m) for j in range(i+1,m+1)]\n",
        "    answer += list_.count(n)\n",
        "    return answer\n",
        "\n",
        "n = 15\n",
        "solution(n)"
      ],
      "execution_count": 99,
      "outputs": [
        {
          "output_type": "execute_result",
          "data": {
            "text/plain": [
              "4"
            ]
          },
          "metadata": {},
          "execution_count": 99
        }
      ]
    },
    {
      "cell_type": "code",
      "metadata": {
        "colab": {
          "base_uri": "https://localhost:8080/"
        },
        "id": "TONtev1KrYYp",
        "outputId": "f57a699b-6dad-441a-be82-a6ca5cd22ccc"
      },
      "source": [
        "def solution(n):\n",
        "    answer = 1\n",
        "    i = 1\n",
        "    m = (n //2 +1)\n",
        "    while i <= m :\n",
        "        j = i+1\n",
        "        while j <= m :\n",
        "            list_ = sum([x for x in range(i,j+1)])\n",
        "            if list_ ==n:\n",
        "                answer+=1\n",
        "            j += 1\n",
        "        i += 1\n",
        "    return answer\n",
        "\n",
        "n = 15\n",
        "solution(n)"
      ],
      "execution_count": 93,
      "outputs": [
        {
          "output_type": "execute_result",
          "data": {
            "text/plain": [
              "4"
            ]
          },
          "metadata": {},
          "execution_count": 93
        }
      ]
    },
    {
      "cell_type": "code",
      "metadata": {
        "id": "SwvmLKAc0kKQ"
      },
      "source": [
        "def solution(n):\n",
        "    answer =[n]\n",
        "    i = 1\n",
        "    m = (n //2) +1\n",
        "    list_ = [ [x for x in range(i,j+1) ]  for i in range(1, m) for j in range(i+1,m+1)]\n",
        "    for i in list_:\n",
        "        if sum(i) == n:\n",
        "            answer.append(i)\n",
        "    return len(answer)"
      ],
      "execution_count": null,
      "outputs": []
    },
    {
      "cell_type": "code",
      "metadata": {
        "id": "7KD7R28hrst1"
      },
      "source": [
        ""
      ],
      "execution_count": null,
      "outputs": []
    }
  ]
}