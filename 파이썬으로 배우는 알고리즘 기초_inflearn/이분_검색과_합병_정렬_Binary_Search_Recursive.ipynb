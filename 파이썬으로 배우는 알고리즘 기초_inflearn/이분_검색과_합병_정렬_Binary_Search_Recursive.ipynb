{
  "nbformat": 4,
  "nbformat_minor": 0,
  "metadata": {
    "colab": {
      "name": "이분 검색과 합병 정렬_Binary_Search_Recursive",
      "provenance": [],
      "collapsed_sections": []
    },
    "kernelspec": {
      "name": "python3",
      "display_name": "Python 3"
    },
    "language_info": {
      "name": "python"
    }
  },
  "cells": [
    {
      "cell_type": "markdown",
      "source": [
        "출처 : 파이썬으로 배우는 알고리즘 기초"
      ],
      "metadata": {
        "id": "cAj4oeHH_kJZ"
      }
    },
    {
      "cell_type": "code",
      "execution_count": 14,
      "metadata": {
        "id": "EI22to8G_iQZ"
      },
      "outputs": [],
      "source": [
        "def location(S, low, high, x):\n",
        "    if (low > high):\n",
        "        return 0\n",
        "    else:\n",
        "        mid = (low + high) // 2\n",
        "        if (x == S[mid]):\n",
        "            return mid\n",
        "        elif (x < S[mid]):\n",
        "            return location(S, low, mid - 1, x)\n",
        "        else:\n",
        "            return location(S, mid + 1, high, x)"
      ]
    },
    {
      "cell_type": "code",
      "source": [
        "S = [-1, 10, 12, 13, 14, 18, 20, 25, 27, 30, 35, 40, 45]\n",
        "x = 18\n",
        "location(S, 1, len(S), x)"
      ],
      "metadata": {
        "colab": {
          "base_uri": "https://localhost:8080/"
        },
        "id": "AC77GjMe_j3j",
        "outputId": "31384517-2c60-4dc7-bcf3-19f2ad496c16"
      },
      "execution_count": 15,
      "outputs": [
        {
          "output_type": "execute_result",
          "data": {
            "text/plain": [
              "5"
            ]
          },
          "metadata": {},
          "execution_count": 15
        }
      ]
    },
    {
      "cell_type": "code",
      "source": [
        ""
      ],
      "metadata": {
        "id": "wsvSmkEtv-LF"
      },
      "execution_count": null,
      "outputs": []
    }
  ]
}