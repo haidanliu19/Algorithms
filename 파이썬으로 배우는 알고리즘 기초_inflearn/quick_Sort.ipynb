{
  "nbformat": 4,
  "nbformat_minor": 0,
  "metadata": {
    "colab": {
      "name": "quick Sort.ipynb",
      "provenance": [],
      "collapsed_sections": []
    },
    "kernelspec": {
      "name": "python3",
      "display_name": "Python 3"
    },
    "language_info": {
      "name": "python"
    }
  },
  "cells": [
    {
      "cell_type": "markdown",
      "source": [
        "[링크 텍스트](https://www.inflearn.com/course/%ED%8C%8C%EC%9D%B4%EC%8D%AC-%EC%95%8C%EA%B3%A0%EB%A6%AC%EC%A6%98-%EA%B8%B0%EC%B4%88/lecture/52287?tab=curriculum&speed=1.5&volume=0.80)"
      ],
      "metadata": {
        "id": "aWzi6bhwx9Am"
      }
    },
    {
      "cell_type": "code",
      "execution_count": 3,
      "metadata": {
        "colab": {
          "base_uri": "https://localhost:8080/"
        },
        "id": "RYPfvRpnx744",
        "outputId": "dea4660e-8ac0-440e-f4d9-fa0b58a504fd"
      },
      "outputs": [
        {
          "output_type": "stream",
          "name": "stdout",
          "text": [
            "Bofore :  5\n",
            "After:  [10, 12, 13, 15, 20, 22, 25, 27]\n",
            "Bofore :  5\n",
            "After:  [10, 13, 12, 15, 22, 27, 20, 25]\n"
          ]
        }
      ],
      "source": [
        "def quicksort(S, low, high):\n",
        "    if (high > low):\n",
        "        pivotpoint = partition(S, low, high)\n",
        "        quicksort(S, low, pivotpoint - 1)\n",
        "        quicksort(S, pivotpoint + 1, high)\n",
        "\n",
        "def partition(S, low, high):\n",
        "    pivotitem = S[low]\n",
        "    j = low\n",
        "    for i in range(low + 1, high + 1):\n",
        "        if(S[i] < pivotitem):\n",
        "            j += 1\n",
        "            S[i], S[j] = S[j], S[i]\n",
        "    pivotpoint = j\n",
        "    S[low], S[pivotpoint] = S[pivotpoint], S[low]\n",
        "    return pivotpoint\n",
        "S = [15, 22, 13, 27, 12, 10, 20, 25]\n",
        "print('Bofore : ' , 5)\n",
        "quicksort(S, 0, len(S) - 1)\n",
        "print('After: ', S)\n",
        "\n",
        "S = [15, 22, 13, 27, 12, 10, 20, 25]\n",
        "print('Bofore : ' , 5)\n",
        "partition(S, 0, len(S) - 1)\n",
        "print('After: ', S)"
      ]
    },
    {
      "cell_type": "code",
      "source": [
        ""
      ],
      "metadata": {
        "id": "KWNZZd40zC-N"
      },
      "execution_count": 4,
      "outputs": []
    }
  ]
}