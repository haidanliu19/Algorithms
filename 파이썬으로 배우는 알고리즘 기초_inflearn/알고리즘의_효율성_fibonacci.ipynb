{
  "nbformat": 4,
  "nbformat_minor": 0,
  "metadata": {
    "colab": {
      "name": "알고리즘의 효율성_fibonacci",
      "provenance": [],
      "collapsed_sections": []
    },
    "kernelspec": {
      "name": "python3",
      "display_name": "Python 3"
    },
    "language_info": {
      "name": "python"
    }
  },
  "cells": [
    {
      "cell_type": "markdown",
      "source": [
        "출처 : 파이썬으로 배우는 알고리즘 기초"
      ],
      "metadata": {
        "id": "cAj4oeHH_kJZ"
      }
    },
    {
      "cell_type": "code",
      "execution_count": 7,
      "metadata": {
        "id": "EI22to8G_iQZ"
      },
      "outputs": [],
      "source": [
        "def fib(n):\n",
        "    if (n <= 1):\n",
        "        return n\n",
        "    else:\n",
        "            return fib(n-1) + fib( n - 2)"
      ]
    },
    {
      "cell_type": "code",
      "source": [
        "for i in range(11):\n",
        "    print(fib(i), end = \" \")"
      ],
      "metadata": {
        "colab": {
          "base_uri": "https://localhost:8080/"
        },
        "id": "AC77GjMe_j3j",
        "outputId": "fd82bbf6-6234-4e09-dc02-58bfb494c852"
      },
      "execution_count": 10,
      "outputs": [
        {
          "output_type": "stream",
          "name": "stdout",
          "text": [
            "0 1 1 2 3 5 8 13 21 34 55 "
          ]
        }
      ]
    }
  ]
}