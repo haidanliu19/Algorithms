{
  "nbformat": 4,
  "nbformat_minor": 0,
  "metadata": {
    "colab": {
      "name": "이분 검색과 합병 정렬.ipynb",
      "provenance": [],
      "collapsed_sections": []
    },
    "kernelspec": {
      "name": "python3",
      "display_name": "Python 3"
    },
    "language_info": {
      "name": "python"
    }
  },
  "cells": [
    {
      "cell_type": "markdown",
      "source": [
        "[파이썬으로 배우는 알고리즘 기초](https://www.inflearn.com/course/%ED%8C%8C%EC%9D%B4%EC%8D%AC-%EC%95%8C%EA%B3%A0%EB%A6%AC%EC%A6%98-%EA%B8%B0%EC%B4%88/lecture/52286?tab=curriculum&speed=1.5&volume=1.00)"
      ],
      "metadata": {
        "id": "RmUhi0YmkzAP"
      }
    },
    {
      "cell_type": "markdown",
      "source": [
        "# binary search (Recursive)"
      ],
      "metadata": {
        "id": "Fc-IbqHjlN_3"
      }
    },
    {
      "cell_type": "code",
      "source": [
        "def location(S, low, high):\n",
        "    if (low > high):\n",
        "        return 0\n",
        "    else:\n",
        "        mid = (low+high)//2\n",
        "        if (x == S[mid]):\n",
        "            return mid\n",
        "        elif (x < S[mid]):\n",
        "            return location(S, low, mid-1)\n",
        "        else:\n",
        "            return location(S, mid+1, high)"
      ],
      "metadata": {
        "id": "OzEbdfSglNgh"
      },
      "execution_count": 2,
      "outputs": []
    },
    {
      "cell_type": "code",
      "execution_count": 3,
      "metadata": {
        "colab": {
          "base_uri": "https://localhost:8080/"
        },
        "id": "9cd7AJWJklFe",
        "outputId": "ad451386-fe0d-494d-8164-8fbe01d4ad8f"
      },
      "outputs": [
        {
          "output_type": "stream",
          "name": "stdout",
          "text": [
            "[-1, 10, 12, 13, 14, 18, 20, 25, 30, 35, 40, 45]\n",
            "18\n",
            "5\n"
          ]
        }
      ],
      "source": [
        "S =[-1, 10,12,13,14,18,20,25,30,35,40,45]\n",
        "x = 18\n",
        "loc = location(S, 1, len(S))\n",
        "print(S)\n",
        "print(x)\n",
        "print(loc)"
      ]
    },
    {
      "cell_type": "markdown",
      "source": [
        "# Merge Sort"
      ],
      "metadata": {
        "id": "3euQs1lqmCSw"
      }
    },
    {
      "cell_type": "code",
      "source": [
        "def mergesort(S):\n",
        "    n = len(S)\n",
        "    if n <= 1:\n",
        "        return S\n",
        "    else:\n",
        "        mid = n //2\n",
        "        U = mergesort(S[0:mid])\n",
        "        V = mergesort(S[mid:n])\n",
        "        return merge(U,V)"
      ],
      "metadata": {
        "id": "6O7zp-EFl_cr"
      },
      "execution_count": 20,
      "outputs": []
    },
    {
      "cell_type": "code",
      "source": [
        "def merge(U,V):\n",
        "    S= []\n",
        "    i = j = 0\n",
        "    while (i < len(U) and j< len(V)):\n",
        "        if (U[i] < V[j]):\n",
        "            S.append(U[i])\n",
        "            i+= 1\n",
        "        else:\n",
        "            S.append(V[i])\n",
        "            j+= 1\n",
        "    if (i < len(U)):\n",
        "        S+= U[i:len(U)]\n",
        "    else:\n",
        "        S+= V[j:len(V)]\n",
        "    return S"
      ],
      "metadata": {
        "id": "NwiSfk16mUhj"
      },
      "execution_count": 24,
      "outputs": []
    },
    {
      "cell_type": "code",
      "source": [
        "S =[27,10,12,20,25,13,15,22]\n",
        "print(S)\n",
        "X = mergesort(S)\n",
        "print(X)"
      ],
      "metadata": {
        "colab": {
          "base_uri": "https://localhost:8080/"
        },
        "id": "ezR9c-SHnAN2",
        "outputId": "7afa311c-b168-4ebc-cc97-c37de4482eca"
      },
      "execution_count": 25,
      "outputs": [
        {
          "output_type": "stream",
          "name": "stdout",
          "text": [
            "[27, 10, 12, 20, 25, 13, 15, 22]\n",
            "[10, 22, 20, 20, 25, 25, 25, 27]\n"
          ]
        }
      ]
    },
    {
      "cell_type": "code",
      "source": [
        "def mergesort2 (S, low, high):\n",
        "    if (low < high):\n",
        "        mid = (low + high) // 2\n",
        "        mergesort2(S, low, mid)\n",
        "        mergesort2(S, mid + 1, high)\n",
        "        merge2(S, low, mid, high)"
      ],
      "metadata": {
        "id": "maSxp4HTnhlv"
      },
      "execution_count": 31,
      "outputs": []
    },
    {
      "cell_type": "code",
      "source": [
        "def merge2(S,low, mid, high):\n",
        "    U = []\n",
        "    i = low\n",
        "    j = mid+1\n",
        "    while (i <= mid and j<= high):\n",
        "        if (S[i] < S[j]):\n",
        "            U.append(S[i])\n",
        "            i+= 1\n",
        "        else:\n",
        "            U.append(S[j])\n",
        "            j+= 1\n",
        "    if (i <= mid):\n",
        "        U+= S[i:mid+1]\n",
        "    else:\n",
        "        U+= S[j:high+1]\n",
        "    for k in range(low, high+1):\n",
        "        S[k] = U[k-low]\n"
      ],
      "metadata": {
        "id": "DsFsxtb0n2mQ"
      },
      "execution_count": 34,
      "outputs": []
    },
    {
      "cell_type": "code",
      "source": [
        "S =[27,10,12,20,25,13,15,22]\n",
        "print(S)\n",
        "mergesort2(S,0, len(S)-1)\n",
        "S"
      ],
      "metadata": {
        "colab": {
          "base_uri": "https://localhost:8080/"
        },
        "id": "zNMNTs0yoYXk",
        "outputId": "007f53a0-5f6d-49e2-996a-d51959633e55"
      },
      "execution_count": 35,
      "outputs": [
        {
          "output_type": "stream",
          "name": "stdout",
          "text": [
            "[27, 10, 12, 20, 25, 13, 15, 22]\n"
          ]
        },
        {
          "output_type": "execute_result",
          "data": {
            "text/plain": [
              "[10, 12, 13, 15, 20, 22, 25, 27]"
            ]
          },
          "metadata": {},
          "execution_count": 35
        }
      ]
    },
    {
      "cell_type": "code",
      "source": [
        ""
      ],
      "metadata": {
        "id": "i7eA40BlowJZ"
      },
      "execution_count": null,
      "outputs": []
    }
  ]
}