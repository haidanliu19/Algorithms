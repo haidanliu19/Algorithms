{
  "nbformat": 4,
  "nbformat_minor": 0,
  "metadata": {
    "colab": {
      "name": "분할 정복과 퀵 정렬_Quick_Sort_2",
      "provenance": [],
      "collapsed_sections": []
    },
    "kernelspec": {
      "name": "python3",
      "display_name": "Python 3"
    },
    "language_info": {
      "name": "python"
    }
  },
  "cells": [
    {
      "cell_type": "markdown",
      "source": [
        "출처 : 파이썬으로 배우는 알고리즘 기초"
      ],
      "metadata": {
        "id": "cAj4oeHH_kJZ"
      }
    },
    {
      "cell_type": "code",
      "execution_count": 8,
      "metadata": {
        "id": "EI22to8G_iQZ",
        "colab": {
          "base_uri": "https://localhost:8080/"
        },
        "outputId": "5b5f8eec-8056-4dd9-9d04-dbec1d8fb30b"
      },
      "outputs": [
        {
          "output_type": "stream",
          "name": "stdout",
          "text": [
            "[1, 5, 11, 15, 19, 26, 37, 48, 59, 61]\n"
          ]
        }
      ],
      "source": [
        "\n",
        "def quick_sort2(S, low, high):\n",
        "    if high > low:\n",
        "        pivotpoint = partition2(S, low, high)\n",
        "        quick_sort2(S, low, pivotpoint-1)\n",
        "        quick_sort2(S, pivotpoint + 1 , high)\n",
        "\n",
        "def partition2(S, low, high):\n",
        "    pivotitem = S[low]\n",
        "    i = low + 1\n",
        "    j = high\n",
        "    while (i <= j):\n",
        "        while (S[i] < pivotitem):\n",
        "            i += 1\n",
        "        while (S[j] > pivotitem):\n",
        "            j -= 1\n",
        "        if (i < j):\n",
        "            S[i], S[j] = S[j], S[i]\n",
        "            \n",
        "    pivotpoint = j\n",
        "    S[low], S[pivotpoint] = S[pivotpoint], S[low]\n",
        "    return pivotpoint\n",
        "\n",
        "S = [26, 5, 37, 1, 61, 11, 59, 15, 48, 19]\n",
        "partition2(S, 0, len(S) - 1)\n",
        "quick_sort2(S, 0, len(S)-1)\n",
        "print(S)"
      ]
    },
    {
      "cell_type": "code",
      "source": [
        ""
      ],
      "metadata": {
        "id": "AC77GjMe_j3j"
      },
      "execution_count": null,
      "outputs": []
    },
    {
      "cell_type": "code",
      "source": [
        ""
      ],
      "metadata": {
        "id": "wsvSmkEtv-LF"
      },
      "execution_count": null,
      "outputs": []
    }
  ]
}