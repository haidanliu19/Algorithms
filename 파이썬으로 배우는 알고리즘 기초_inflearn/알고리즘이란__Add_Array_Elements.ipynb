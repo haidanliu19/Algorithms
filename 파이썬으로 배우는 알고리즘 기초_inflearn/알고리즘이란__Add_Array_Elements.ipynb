{
  "nbformat": 4,
  "nbformat_minor": 0,
  "metadata": {
    "colab": {
      "name": "알고리즘이란?_Add Array Elements.ipynb",
      "provenance": [],
      "collapsed_sections": []
    },
    "kernelspec": {
      "name": "python3",
      "display_name": "Python 3"
    },
    "language_info": {
      "name": "python"
    }
  },
  "cells": [
    {
      "cell_type": "markdown",
      "source": [
        "출처 : 파이썬으로 배우는 알고리즘 기초"
      ],
      "metadata": {
        "id": "cAj4oeHH_kJZ"
      }
    },
    {
      "cell_type": "code",
      "execution_count": 4,
      "metadata": {
        "id": "EI22to8G_iQZ"
      },
      "outputs": [],
      "source": [
        "def sum(n, S):\n",
        "    result = 0\n",
        "    for i in range(1, n + 1):\n",
        "        result += S[i]\n",
        "    return result"
      ]
    },
    {
      "cell_type": "code",
      "source": [
        "S = [0, 10, 7, 11, 5, 13, 8]\n",
        "x = 5\n",
        "sum = sum(len(S) - 1, S)\n",
        "print(sum)"
      ],
      "metadata": {
        "colab": {
          "base_uri": "https://localhost:8080/"
        },
        "id": "AC77GjMe_j3j",
        "outputId": "d340ec86-2921-4729-b68b-e30d17e9ad6c"
      },
      "execution_count": 5,
      "outputs": [
        {
          "output_type": "stream",
          "name": "stdout",
          "text": [
            "54\n"
          ]
        }
      ]
    }
  ]
}