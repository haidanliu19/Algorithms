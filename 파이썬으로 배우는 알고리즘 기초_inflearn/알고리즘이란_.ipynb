{
  "nbformat": 4,
  "nbformat_minor": 0,
  "metadata": {
    "colab": {
      "name": "알고리즘이란?.ipynb",
      "provenance": [],
      "collapsed_sections": []
    },
    "kernelspec": {
      "name": "python3",
      "display_name": "Python 3"
    },
    "language_info": {
      "name": "python"
    }
  },
  "cells": [
    {
      "cell_type": "markdown",
      "metadata": {
        "id": "fywb6hn09emC"
      },
      "source": [
        "[파이썬으로 배우는 알고리즘 기초](https://www.inflearn.com/course/%ED%8C%8C%EC%9D%B4%EC%8D%AC-%EC%95%8C%EA%B3%A0%EB%A6%AC%EC%A6%98-%EA%B8%B0%EC%B4%88/lecture/52283?tab=curriculum)"
      ]
    },
    {
      "cell_type": "markdown",
      "metadata": {
        "id": "KUo5l4XG9m3I"
      },
      "source": [
        "Sequential Search"
      ]
    },
    {
      "cell_type": "code",
      "metadata": {
        "colab": {
          "base_uri": "https://localhost:8080/"
        },
        "id": "UpKTcx4a9eDH",
        "outputId": "32243f67-4e16-4348-bafa-9909bf4f93c9"
      },
      "source": [
        "def search(n, S, x):\n",
        "    location = 1\n",
        "    while (location <= n and S[location]!= x):\n",
        "        location += 1\n",
        "    if (location > n):\n",
        "        location = 0\n",
        "    return location\n",
        "\n",
        "S =[0,10,7,11,5,13, 8]\n",
        "x = 5\n",
        "location = search(len(S) -1, S, x)\n",
        "print('location = ', location )\n",
        "\n",
        "x = 4\n",
        "location = search(len(S) -1, S, x)\n",
        "print('location = ', location )"
      ],
      "execution_count": 1,
      "outputs": [
        {
          "output_type": "stream",
          "name": "stdout",
          "text": [
            "location =  4\n",
            "location =  0\n"
          ]
        }
      ]
    },
    {
      "cell_type": "markdown",
      "metadata": {
        "id": "7odgZ93Y-RAJ"
      },
      "source": [
        "# 리스트 원소의 합 구하기"
      ]
    },
    {
      "cell_type": "code",
      "metadata": {
        "colab": {
          "base_uri": "https://localhost:8080/"
        },
        "id": "sfO-Zm8b-Qq4",
        "outputId": "c6ba56c1-90f8-4185-b152-c5ec913493d1"
      },
      "source": [
        "S =[-1,10,7,11,5,13, 8]\n",
        "n = 6\n",
        "\n",
        "def sum(n , S):\n",
        "    result = 0\n",
        "    for i in range(1, n+1):\n",
        "        result = result + S[i]\n",
        "    return result\n",
        "\n",
        "sum = sum(len(S) -1 , S)\n",
        "print('sum=', sum)"
      ],
      "execution_count": 2,
      "outputs": [
        {
          "output_type": "stream",
          "name": "stdout",
          "text": [
            "sum= 54\n"
          ]
        }
      ]
    },
    {
      "cell_type": "markdown",
      "metadata": {
        "id": "yO3Sv-2n-lGM"
      },
      "source": [
        "# 리스트의 정렬 문제"
      ]
    },
    {
      "cell_type": "code",
      "metadata": {
        "colab": {
          "base_uri": "https://localhost:8080/"
        },
        "id": "GUgjP0AI-mk_",
        "outputId": "d3f66507-449e-480a-f268-e8ac354e140e"
      },
      "source": [
        "S =[-1,10,7,11,5,13, 8]\n",
        "def exchange(S):\n",
        "    n = len(S)\n",
        "    for i in range(n-1):\n",
        "        for j in range(i+1, n):\n",
        "            if (S[i] > S[j]):\n",
        "                S[i] , S[j] = S[j], S[i] # swap\n",
        "    return S\n",
        "\n",
        "print(exchange(S))"
      ],
      "execution_count": 10,
      "outputs": [
        {
          "output_type": "stream",
          "name": "stdout",
          "text": [
            "[-1, 5, 7, 8, 10, 11, 13]\n"
          ]
        }
      ]
    },
    {
      "cell_type": "markdown",
      "metadata": {
        "id": "9myV7U4T_Ppt"
      },
      "source": [
        "# 행렬의 곱셈"
      ]
    },
    {
      "cell_type": "code",
      "metadata": {
        "colab": {
          "base_uri": "https://localhost:8080/"
        },
        "id": "ROC8Luca_RD1",
        "outputId": "8051f880-199d-4501-985b-e1efafa2ffdd"
      },
      "source": [
        "def matrixmult(n, A, B):\n",
        "    n = len(A)\n",
        "    C = [[0] * n for _ in range(n)]\n",
        "    for i in range(n):\n",
        "        for j in range(n):\n",
        "            for k in range(n):\n",
        "                print(A[i][k] , B[k][j], (A[i][k] + B[k][j]))\n",
        "                C[i][j] += A[i][k] * B[k][j]\n",
        "    return C\n",
        "\n",
        "A = [[2,3],[4,1]]\n",
        "print(A)\n",
        "B = [[5,7],[6,8]]\n",
        "print(B)\n",
        "C= matrixmult(n, A, B)\n",
        "print(C)"
      ],
      "execution_count": 21,
      "outputs": [
        {
          "output_type": "stream",
          "name": "stdout",
          "text": [
            "[[2, 3], [4, 1]]\n",
            "[[5, 7], [6, 8]]\n",
            "2 5 7\n",
            "3 6 9\n",
            "2 7 9\n",
            "3 8 11\n",
            "4 5 9\n",
            "1 6 7\n",
            "4 7 11\n",
            "1 8 9\n",
            "[[28, 38], [26, 36]]\n"
          ]
        }
      ]
    },
    {
      "cell_type": "code",
      "metadata": {
        "id": "NjQhOJguAZnD"
      },
      "source": [
        ""
      ],
      "execution_count": null,
      "outputs": []
    }
  ]
}