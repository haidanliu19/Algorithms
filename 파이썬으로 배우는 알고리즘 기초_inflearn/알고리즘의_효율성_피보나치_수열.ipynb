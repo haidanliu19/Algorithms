{
  "nbformat": 4,
  "nbformat_minor": 0,
  "metadata": {
    "colab": {
      "name": "알고리즘의 효율성_피보나치 수열.ipynb",
      "provenance": [],
      "collapsed_sections": []
    },
    "kernelspec": {
      "name": "python3",
      "display_name": "Python 3"
    },
    "language_info": {
      "name": "python"
    }
  },
  "cells": [
    {
      "cell_type": "markdown",
      "metadata": {
        "id": "fywb6hn09emC"
      },
      "source": [
        "[파이썬으로 배우는 알고리즘 기초](https://www.inflearn.com/course/%ED%8C%8C%EC%9D%B4%EC%8D%AC-%EC%95%8C%EA%B3%A0%EB%A6%AC%EC%A6%98-%EA%B8%B0%EC%B4%88/lecture/52283?tab=curriculum)"
      ]
    },
    {
      "cell_type": "markdown",
      "metadata": {
        "id": "BtqarQ_JETs3"
      },
      "source": [
        "피보나치 수열"
      ]
    },
    {
      "cell_type": "code",
      "metadata": {
        "colab": {
          "base_uri": "https://localhost:8080/"
        },
        "id": "NjQhOJguAZnD",
        "outputId": "08deb662-50fd-4525-d024-4262953b7fe3"
      },
      "source": [
        "def fib(n):\n",
        "    if (n <=1):\n",
        "        return n\n",
        "    else:\n",
        "        return fib(n-1) + fib(n-2)\n",
        "\n",
        "for i in range(11):\n",
        "    print(fib(i), end = \" \")"
      ],
      "execution_count": 1,
      "outputs": [
        {
          "output_type": "stream",
          "name": "stdout",
          "text": [
            "0 1 1 2 3 5 8 13 21 34 55 "
          ]
        }
      ]
    },
    {
      "cell_type": "markdown",
      "metadata": {
        "id": "7d2I42aXHZ-s"
      },
      "source": [
        "비효율적이다.\n",
        "\n",
        "계산 한 것을 계속 계산해야 한다."
      ]
    },
    {
      "cell_type": "code",
      "metadata": {
        "colab": {
          "base_uri": "https://localhost:8080/"
        },
        "id": "iBRTms_QHbYf",
        "outputId": "4b3b9f10-8279-4faf-df65-6f8783eae7f9"
      },
      "source": [
        "def fib2(n):\n",
        "    f = [0] * (n+1)\n",
        "    if (n >0 ):\n",
        "        f[1] = 1\n",
        "        for i in range(2, n+1):\n",
        "            f[i] = f[i-1] + f[i-2]\n",
        "    return f[n]\n",
        "for i in range(11):\n",
        "    print(fib(i), end = \" \")"
      ],
      "execution_count": 2,
      "outputs": [
        {
          "output_type": "stream",
          "name": "stdout",
          "text": [
            "0 1 1 2 3 5 8 13 21 34 55 "
          ]
        }
      ]
    }
  ]
}