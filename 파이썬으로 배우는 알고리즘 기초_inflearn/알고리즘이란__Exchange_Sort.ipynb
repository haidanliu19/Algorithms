{
  "nbformat": 4,
  "nbformat_minor": 0,
  "metadata": {
    "colab": {
      "name": "알고리즘이란?_Exchange_Sort.ipynb",
      "provenance": [],
      "collapsed_sections": []
    },
    "kernelspec": {
      "name": "python3",
      "display_name": "Python 3"
    },
    "language_info": {
      "name": "python"
    }
  },
  "cells": [
    {
      "cell_type": "markdown",
      "source": [
        "출처 : 파이썬으로 배우는 알고리즘 기초"
      ],
      "metadata": {
        "id": "cAj4oeHH_kJZ"
      }
    },
    {
      "cell_type": "code",
      "execution_count": 1,
      "metadata": {
        "id": "EI22to8G_iQZ"
      },
      "outputs": [],
      "source": [
        "def exchange(S):\n",
        "    n = len(S)\n",
        "    for i in range(n - 1):\n",
        "        for j in range(i + 1, n):\n",
        "            if (S[i] > S[j]):\n",
        "                S[i], S[j] = S[j], S[i]"
      ]
    },
    {
      "cell_type": "code",
      "source": [
        "S = [-1, 10, 7, 11, 5, 13, 8]\n",
        "print(S)\n",
        "exchange(S)\n",
        "print(S)"
      ],
      "metadata": {
        "colab": {
          "base_uri": "https://localhost:8080/"
        },
        "id": "AC77GjMe_j3j",
        "outputId": "e11c11e5-b885-4d6c-ffc2-32d9f6e4f0d8"
      },
      "execution_count": 2,
      "outputs": [
        {
          "output_type": "stream",
          "name": "stdout",
          "text": [
            "[-1, 10, 7, 11, 5, 13, 8]\n",
            "[-1, 5, 7, 8, 10, 11, 13]\n"
          ]
        }
      ]
    }
  ]
}