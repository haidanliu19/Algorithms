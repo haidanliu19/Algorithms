{
  "nbformat": 4,
  "nbformat_minor": 0,
  "metadata": {
    "colab": {
      "name": "이분 검색과 합병 정렬_Merge Sort",
      "provenance": [],
      "collapsed_sections": []
    },
    "kernelspec": {
      "name": "python3",
      "display_name": "Python 3"
    },
    "language_info": {
      "name": "python"
    }
  },
  "cells": [
    {
      "cell_type": "markdown",
      "source": [
        "출처 : 파이썬으로 배우는 알고리즘 기초"
      ],
      "metadata": {
        "id": "cAj4oeHH_kJZ"
      }
    },
    {
      "cell_type": "code",
      "execution_count": 23,
      "metadata": {
        "id": "EI22to8G_iQZ",
        "colab": {
          "base_uri": "https://localhost:8080/"
        },
        "outputId": "b619de00-0ce1-4b28-dd2c-e825efd57798"
      },
      "outputs": [
        {
          "output_type": "stream",
          "name": "stdout",
          "text": [
            "[10, 12, 13, 15, 20, 22, 25, 27]\n"
          ]
        }
      ],
      "source": [
        "def mergesort(S):\n",
        "    n = len(S)\n",
        "    if (n <= 1):\n",
        "        return S\n",
        "    else:\n",
        "        mid = n // 2\n",
        "        U = mergesort(S[0: mid])\n",
        "        V = mergesort(S[mid: n])\n",
        "        return merge(U, V)\n",
        "\n",
        "\n",
        "def merge(U, V):\n",
        "    S = []\n",
        "    i = j = 0\n",
        "    while (i < len(U) and j < len(V)):\n",
        "        if (U[i] < V[j]):\n",
        "            S.append(U[i])\n",
        "            i += 1\n",
        "        else:\n",
        "            S.append(V[j])\n",
        "            j += 1\n",
        "    if (i < len(U)):\n",
        "        S += U[i : len(U)]\n",
        "    else:\n",
        "        S += V[j : len(V)]\n",
        "    return S\n",
        "\n",
        "\n",
        "S = [27, 10, 12, 20, 25, 13, 15, 22]\n",
        "X = mergesort(S)\n",
        "print(X)"
      ]
    },
    {
      "cell_type": "code",
      "source": [
        ""
      ],
      "metadata": {
        "id": "AC77GjMe_j3j"
      },
      "execution_count": 15,
      "outputs": []
    },
    {
      "cell_type": "code",
      "source": [
        ""
      ],
      "metadata": {
        "id": "wsvSmkEtv-LF"
      },
      "execution_count": null,
      "outputs": []
    }
  ]
}