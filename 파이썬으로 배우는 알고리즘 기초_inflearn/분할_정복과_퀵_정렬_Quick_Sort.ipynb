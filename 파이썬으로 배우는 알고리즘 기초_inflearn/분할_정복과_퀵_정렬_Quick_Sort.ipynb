{
  "nbformat": 4,
  "nbformat_minor": 0,
  "metadata": {
    "colab": {
      "name": "분할 정복과 퀵 정렬_Quick_Sort",
      "provenance": [],
      "collapsed_sections": []
    },
    "kernelspec": {
      "name": "python3",
      "display_name": "Python 3"
    },
    "language_info": {
      "name": "python"
    }
  },
  "cells": [
    {
      "cell_type": "markdown",
      "source": [
        "출처 : 파이썬으로 배우는 알고리즘 기초"
      ],
      "metadata": {
        "id": "cAj4oeHH_kJZ"
      }
    },
    {
      "cell_type": "code",
      "execution_count": 3,
      "metadata": {
        "id": "EI22to8G_iQZ",
        "colab": {
          "base_uri": "https://localhost:8080/"
        },
        "outputId": "9c5d0c30-846a-49b8-c1d8-7d78649ce53b"
      },
      "outputs": [
        {
          "output_type": "stream",
          "name": "stdout",
          "text": [
            "[10, 12, 13, 15, 20, 22, 25, 27]\n"
          ]
        }
      ],
      "source": [
        "\n",
        "def quick_sort(arr, low, high):\n",
        "    if high > low:\n",
        "        pivotpoint = partition(arr, low, high)\n",
        "        quick_sort(arr, low, pivotpoint-1)\n",
        "        quick_sort(arr, pivotpoint + 1 , high)\n",
        "\n",
        "def partition(S, low, high):\n",
        "    pivotitem = S[low]\n",
        "    j = low\n",
        "\n",
        "    for i in range(low + 1, high + 1):\n",
        "        if S[i]< pivotitem:\n",
        "            j += 1\n",
        "            S[i], S[j] = S[j], S[i]\n",
        "    pivotpoint = j\n",
        "    S[low], S[pivotpoint] = S[pivotpoint], S[low]\n",
        "    return pivotpoint\n",
        "\n",
        "S = [15, 22, 13, 27, 12, 10, 20, 25]\n",
        "quick_sort(S, 0, len(S)-1)\n",
        "print(S)"
      ]
    },
    {
      "cell_type": "code",
      "source": [
        ""
      ],
      "metadata": {
        "id": "AC77GjMe_j3j"
      },
      "execution_count": null,
      "outputs": []
    },
    {
      "cell_type": "code",
      "source": [
        ""
      ],
      "metadata": {
        "id": "wsvSmkEtv-LF"
      },
      "execution_count": null,
      "outputs": []
    }
  ]
}