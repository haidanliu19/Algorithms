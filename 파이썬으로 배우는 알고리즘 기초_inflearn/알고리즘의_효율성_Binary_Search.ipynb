{
  "nbformat": 4,
  "nbformat_minor": 0,
  "metadata": {
    "colab": {
      "name": "알고리즘의 효율성_Binary Search",
      "provenance": [],
      "collapsed_sections": []
    },
    "kernelspec": {
      "name": "python3",
      "display_name": "Python 3"
    },
    "language_info": {
      "name": "python"
    }
  },
  "cells": [
    {
      "cell_type": "markdown",
      "source": [
        "출처 : 파이썬으로 배우는 알고리즘 기초"
      ],
      "metadata": {
        "id": "cAj4oeHH_kJZ"
      }
    },
    {
      "cell_type": "code",
      "execution_count": 5,
      "metadata": {
        "id": "EI22to8G_iQZ"
      },
      "outputs": [],
      "source": [
        "def binsearch(n, S, x):\n",
        "    low = 1\n",
        "    high = n\n",
        "    location = 0\n",
        "    while (low <= high and location == 0):\n",
        "        mid = (low + high) // 2\n",
        "        if (x == S[mid]):\n",
        "            location = mid\n",
        "        elif (x < S[mid]):\n",
        "            high = mid - 1\n",
        "        else:\n",
        "            low = mid + 1\n",
        "    return location"
      ]
    },
    {
      "cell_type": "code",
      "source": [
        "S = [-1, 5, 7, 8, 10, 11, 13]\n",
        "x = 2\n",
        "location = binsearch(len(S), S, x)\n",
        "print(location)"
      ],
      "metadata": {
        "colab": {
          "base_uri": "https://localhost:8080/"
        },
        "id": "AC77GjMe_j3j",
        "outputId": "389f1803-6ce4-4df8-a9ae-c2273e69586c"
      },
      "execution_count": 6,
      "outputs": [
        {
          "output_type": "stream",
          "name": "stdout",
          "text": [
            "0\n"
          ]
        }
      ]
    }
  ]
}