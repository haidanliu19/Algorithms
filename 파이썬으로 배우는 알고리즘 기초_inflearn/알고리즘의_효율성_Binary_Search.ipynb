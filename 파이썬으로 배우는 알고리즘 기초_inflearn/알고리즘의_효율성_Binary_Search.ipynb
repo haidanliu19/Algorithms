{
  "nbformat": 4,
  "nbformat_minor": 0,
  "metadata": {
    "colab": {
      "name": "알고리즘의 효율성_Binary Search.ipynb",
      "provenance": [],
      "collapsed_sections": []
    },
    "kernelspec": {
      "name": "python3",
      "display_name": "Python 3"
    },
    "language_info": {
      "name": "python"
    }
  },
  "cells": [
    {
      "cell_type": "markdown",
      "metadata": {
        "id": "fywb6hn09emC"
      },
      "source": [
        "[파이썬으로 배우는 알고리즘 기초](https://www.inflearn.com/course/%ED%8C%8C%EC%9D%B4%EC%8D%AC-%EC%95%8C%EA%B3%A0%EB%A6%AC%EC%A6%98-%EA%B8%B0%EC%B4%88/lecture/52283?tab=curriculum)"
      ]
    },
    {
      "cell_type": "markdown",
      "metadata": {
        "id": "BtqarQ_JETs3"
      },
      "source": [
        "Binary Search"
      ]
    },
    {
      "cell_type": "code",
      "metadata": {
        "colab": {
          "base_uri": "https://localhost:8080/"
        },
        "id": "NjQhOJguAZnD",
        "outputId": "348f0f07-5d9d-4a64-bb4e-cb4a7fdba31f"
      },
      "source": [
        "def binsearch(n, S, x):\n",
        "    low = 1\n",
        "    high = n\n",
        "    location = 0\n",
        "    while( low <= high and location == 0):\n",
        "        mid = (low + high) //2\n",
        "        if (x == S[mid]):\n",
        "            location = mid\n",
        "        elif (x < S[mid]):\n",
        "            high = mid - 1\n",
        "        else:\n",
        "            low = mid+1\n",
        "    return location\n",
        "S= [-1,5,7,8,10,11,13]\n",
        "x = 2\n",
        "location = binsearch(len(S) -1, S, x)\n",
        "print('location=', location)\n",
        "\n",
        "S= [-1,5,7,8,10,11,13]\n",
        "x = 13\n",
        "location = binsearch(len(S) -1, S, x)\n",
        "print('location=', location)"
      ],
      "execution_count": 23,
      "outputs": [
        {
          "output_type": "stream",
          "name": "stdout",
          "text": [
            "location= 0\n",
            "location= 6\n"
          ]
        }
      ]
    }
  ]
}