{
  "nbformat": 4,
  "nbformat_minor": 0,
  "metadata": {
    "colab": {
      "name": "알고리즘이란?_Sequential Search.ipynb",
      "provenance": [],
      "collapsed_sections": []
    },
    "kernelspec": {
      "name": "python3",
      "display_name": "Python 3"
    },
    "language_info": {
      "name": "python"
    }
  },
  "cells": [
    {
      "cell_type": "markdown",
      "source": [
        "출처 : 파이썬으로 배우는 알고리즘 기초"
      ],
      "metadata": {
        "id": "cAj4oeHH_kJZ"
      }
    },
    {
      "cell_type": "code",
      "execution_count": 1,
      "metadata": {
        "id": "EI22to8G_iQZ"
      },
      "outputs": [],
      "source": [
        "def seqsearch(n, S, x):\n",
        "    location = 1\n",
        "    while (location <= n and S[location] != x):\n",
        "        location += 1\n",
        "    if (location > n):\n",
        "        location = 0\n",
        "    return location"
      ]
    },
    {
      "cell_type": "code",
      "source": [
        "S = [0, 10, 7, 11, 5, 13, 8]\n",
        "x = 5\n",
        "location = seqsearch(len(S) - 1, S, x)\n",
        "print(location)\n",
        "\n",
        "x = 4\n",
        "location = seqsearch(len(S) - 1, S, x)\n",
        "print(location)"
      ],
      "metadata": {
        "colab": {
          "base_uri": "https://localhost:8080/"
        },
        "id": "AC77GjMe_j3j",
        "outputId": "ff478292-cc0d-4248-81cd-a2550b240ad6"
      },
      "execution_count": 3,
      "outputs": [
        {
          "output_type": "stream",
          "name": "stdout",
          "text": [
            "4\n",
            "0\n"
          ]
        }
      ]
    }
  ]
}