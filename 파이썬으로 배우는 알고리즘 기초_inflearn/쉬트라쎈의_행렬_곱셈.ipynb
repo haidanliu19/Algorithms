{
  "nbformat": 4,
  "nbformat_minor": 0,
  "metadata": {
    "colab": {
      "name": "쉬트라쎈의 행렬 곱셈",
      "provenance": [],
      "collapsed_sections": []
    },
    "kernelspec": {
      "name": "python3",
      "display_name": "Python 3"
    },
    "language_info": {
      "name": "python"
    }
  },
  "cells": [
    {
      "cell_type": "markdown",
      "source": [
        "출처 : 파이썬으로 배우는 알고리즘 기초"
      ],
      "metadata": {
        "id": "cAj4oeHH_kJZ"
      }
    },
    {
      "cell_type": "code",
      "execution_count": 15,
      "metadata": {
        "id": "EI22to8G_iQZ",
        "colab": {
          "base_uri": "https://localhost:8080/"
        },
        "outputId": "2283f65d-54a1-4e3e-960c-cf76cc2438db"
      },
      "outputs": [
        {
          "output_type": "stream",
          "name": "stdout",
          "text": [
            "[43, 53, 54, 37]\n",
            "[123, 149, 130, 93]\n",
            "[95, 110, 44, 41]\n",
            "[103, 125, 111, 79]\n",
            "[43, 53, 54, 37]\n",
            "[123, 149, 130, 93]\n",
            "[95, 110, 44, 41]\n",
            "[103, 125, 111, 79]\n"
          ]
        }
      ],
      "source": [
        "def strassen(A, B):\n",
        "    n = len(A)\n",
        "    if (n <= threshold):\n",
        "        return matrixmult(A, B)\n",
        "    A11, A12, A21, A22 = divide(A)\n",
        "    B11, B12, B21, B22 = divide(B)\n",
        "    M1 = strassen(madd(A11, A22), madd(B11, B22))\n",
        "    M2 = strassen(madd(A21, A22), B11)\n",
        "    M3 = strassen(A11, msub(B12, B22))\n",
        "    M4 = strassen(A22, msub(B21, B11))\n",
        "    M5 = strassen(madd(A11, A12), B22)\n",
        "    M6 = strassen(msub(A21, A11), madd(B11, B12))\n",
        "    M7 = strassen(msub(A12, A22), madd(B21, B22))\n",
        "    return conquer(M1, M2, M3, M4, M5, M6, M7)\n",
        "\n",
        "def divide(A):\n",
        "    n = len(A)\n",
        "    m = n // 2\n",
        "    A11 = [[0] * m for _ in range(m)]\n",
        "    A12 = [[0] * m for _ in range(m)]\n",
        "    A21 = [[0] * m for _ in range(m)]\n",
        "    A22 = [[0] * m for _ in range(m)]\n",
        "    for i in range(m):\n",
        "        for j in range(m):\n",
        "            A11[i][j] = A[i][j]\n",
        "            A12[i][j] = A[i][j + m]\n",
        "            A21[i][j] = A[i + m][j]\n",
        "            A22[i][j] = A[i + m][j + m]\n",
        "    return A11, A12, A21, A22\n",
        "\n",
        "def conquer(M1, M2, M3, M4, M5, M6, M7):\n",
        "    C11 = madd(msub(madd(M1, M4), M5), M7)\n",
        "    C12 = madd(M3, M5)\n",
        "    C21 = madd(M2, M4)\n",
        "    C22 = madd(msub(madd(M1, M3), M2), M6)\n",
        "    m = len(C11)\n",
        "    n = 2 * m\n",
        "    C = [[0] * n for _ in range(n)]\n",
        "    for i in range(m):\n",
        "        for j in range(m):\n",
        "            C[i][j] = C11[i][j]\n",
        "            C[i][j + m] = C12[i][j]\n",
        "            C[i + m][j] = C21[i][j]\n",
        "            C[i + m][j + m] = C22[i][j]\n",
        "    return C\n",
        "\n",
        "def madd(A, B):\n",
        "    n = len(A)\n",
        "    C = [[0] * n for _ in range(n)]\n",
        "    for i in range(n):\n",
        "        for j in range(n):\n",
        "            C[i][j] = A[i][j] + B[i][j]\n",
        "    return C\n",
        "\n",
        "def msub(A, B):\n",
        "    n = len(A)\n",
        "    C = [[0] * n for _ in range(n)]\n",
        "    for i in range(n):\n",
        "        for j in range(n):\n",
        "            C[i][j] = A[i][j] - B[i][j]\n",
        "    return C\n",
        "\n",
        "def matrixmult(A, B):\n",
        "    n = len(A)\n",
        "    C = [[0] * n for _ in range(n)]\n",
        "    for i in range(n):\n",
        "        for j in range(n):\n",
        "            for k in range(n):\n",
        "                C[i][j] += A[i][k] * B[k][j]\n",
        "    return C   \n",
        "A = [[1, 2, 3, 4],\n",
        "     [5, 6, 7, 8],\n",
        "     [9, 1, 2, 3],\n",
        "     [4, 5, 6, 7]]\n",
        "B = [[8, 9, 1, 2],\n",
        "     [3, 4, 5, 6],\n",
        "     [7, 8, 9, 1],\n",
        "     [2, 3, 4, 5]]\n",
        "threshold = 2\n",
        "\n",
        "C = strassen(A, B)\n",
        "for i in range(len(C)):\n",
        "    print(C[i])\n",
        "\n",
        "D = matrixmult(A, B)\n",
        "for i in range(len(D)):\n",
        "    print(D[i])"
      ]
    },
    {
      "cell_type": "code",
      "source": [
        ""
      ],
      "metadata": {
        "id": "AC77GjMe_j3j"
      },
      "execution_count": null,
      "outputs": []
    },
    {
      "cell_type": "code",
      "source": [
        ""
      ],
      "metadata": {
        "id": "wsvSmkEtv-LF"
      },
      "execution_count": null,
      "outputs": []
    },
    {
      "cell_type": "code",
      "source": [
        ""
      ],
      "metadata": {
        "id": "h9OnaskhGhuc"
      },
      "execution_count": null,
      "outputs": []
    }
  ]
}