{
  "nbformat": 4,
  "nbformat_minor": 0,
  "metadata": {
    "colab": {
      "name": "이분 검색과 합병 정렬_Merge Sort2",
      "provenance": [],
      "collapsed_sections": []
    },
    "kernelspec": {
      "name": "python3",
      "display_name": "Python 3"
    },
    "language_info": {
      "name": "python"
    }
  },
  "cells": [
    {
      "cell_type": "markdown",
      "source": [
        "출처 : 파이썬으로 배우는 알고리즘 기초"
      ],
      "metadata": {
        "id": "cAj4oeHH_kJZ"
      }
    },
    {
      "cell_type": "code",
      "execution_count": 22,
      "metadata": {
        "id": "EI22to8G_iQZ",
        "colab": {
          "base_uri": "https://localhost:8080/"
        },
        "outputId": "bbb4b1c0-4336-4c1f-b835-44664ec21f46"
      },
      "outputs": [
        {
          "output_type": "stream",
          "name": "stdout",
          "text": [
            "[10, 12, 13, 15, 20, 22, 25, 27]\n"
          ]
        }
      ],
      "source": [
        "def mergesort2(S, low, high):\n",
        "   if (low < high):\n",
        "       mid = (low + high) //2\n",
        "       mergesort2(S, low, mid)\n",
        "       mergesort2(S, mid + 1, high)\n",
        "       merge2(S, low, mid, high)\n",
        "\n",
        "\n",
        "def merge2(S, low, mid, high):\n",
        "    U = []\n",
        "    i = low\n",
        "    j = mid + 1\n",
        "    while (i <= mid and j <= high):\n",
        "        if (S[i] < S[j]):\n",
        "            U.append(S[i])\n",
        "            i += 1\n",
        "        else:\n",
        "            U.append(S[j])\n",
        "            j += 1\n",
        "    if (i <= mid):\n",
        "        U += S[i : mid + 1]\n",
        "    else:\n",
        "        U += S[j : high + 1]\n",
        "    for k in range(low, high + 1):\n",
        "        S[k] = U[k - low]\n",
        "\n",
        "\n",
        "S = [27, 10, 12, 20, 25, 13, 15, 22]\n",
        "mergesort2(S, 0, len(S) - 1) \n",
        "print(S)"
      ]
    },
    {
      "cell_type": "code",
      "source": [
        ""
      ],
      "metadata": {
        "id": "AC77GjMe_j3j"
      },
      "execution_count": 15,
      "outputs": []
    },
    {
      "cell_type": "code",
      "source": [
        ""
      ],
      "metadata": {
        "id": "wsvSmkEtv-LF"
      },
      "execution_count": null,
      "outputs": []
    }
  ]
}