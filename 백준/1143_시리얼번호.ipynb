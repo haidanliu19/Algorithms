{
  "nbformat": 4,
  "nbformat_minor": 0,
  "metadata": {
    "colab": {
      "name": "1143_시리얼번호.ipynb",
      "provenance": [],
      "collapsed_sections": []
    },
    "kernelspec": {
      "name": "python3",
      "display_name": "Python 3"
    },
    "language_info": {
      "name": "python"
    }
  },
  "cells": [
    {
      "cell_type": "code",
      "metadata": {
        "colab": {
          "base_uri": "https://localhost:8080/",
          "height": 35
        },
        "id": "Ztm48rkGsnOt",
        "outputId": "f5d79d94-9808-4082-e943-ab4f9003168a"
      },
      "source": [
        "'ABCD',\n",
        "'145C',\n",
        "'A',\n",
        "'A910',\n",
        "'Z321'"
      ],
      "execution_count": 1,
      "outputs": [
        {
          "output_type": "execute_result",
          "data": {
            "application/vnd.google.colaboratory.intrinsic+json": {
              "type": "string"
            },
            "text/plain": [
              "'Z321'"
            ]
          },
          "metadata": {
            "tags": []
          },
          "execution_count": 1
        }
      ]
    },
    {
      "cell_type": "code",
      "metadata": {
        "colab": {
          "base_uri": "https://localhost:8080/"
        },
        "id": "InAxCDO_vG2O",
        "outputId": "883029a0-bec7-4aa0-c34a-ec3ab7564f17"
      },
      "source": [
        "arrays = [\n",
        "'ABCD',\n",
        "'145C',\n",
        "'A',\n",
        "'A910',\n",
        "'Z321']\n",
        "\n",
        "from functools import cmp_to_key\n",
        "\n",
        "def getSum(a):\n",
        "    sum =0 \n",
        "    for i in range(len(a)):\n",
        "        # 숫자인 경우에만 더합니다.\n",
        "        if (a[i].isdigit()):\n",
        "            if (int(a[i]) - 0 <= 9) and (int(a[i]) - 0 >=0):\n",
        "                sum+= (int(a[i])) \n",
        "    return sum\n",
        "\n",
        "def compare(a,b):\n",
        "    if (len(a) > len(b)):\n",
        "        return 1\n",
        "    elif (len(a) < len(b)):\n",
        "        return -1\n",
        "    else: #길이가 같으면\n",
        "        aSum = getSum(a)\n",
        "        bSum = getSum(b)\n",
        "        if (aSum != bSum):\n",
        "            return aSum - bSum # 크면 큰 것으로 \n",
        "        else:\n",
        "            return a < b\n",
        "\n",
        "arrays.sort(key = cmp_to_key(compare))\n",
        "for i in arrays:\n",
        "    print(i)"
      ],
      "execution_count": 12,
      "outputs": [
        {
          "output_type": "stream",
          "text": [
            "145C ABCD 10 0\n",
            "A910 145C 10 10\n",
            "A910 ABCD 10 0\n",
            "Z321 A910 6 10\n",
            "Z321 ABCD 6 0\n",
            "A\n",
            "145C\n",
            "A910\n",
            "Z321\n",
            "ABCD\n"
          ],
          "name": "stdout"
        }
      ]
    },
    {
      "cell_type": "markdown",
      "metadata": {
        "id": "zzXh5IJHBGRF"
      },
      "source": [
        "# https://www.acmicpc.net/board/view/62497"
      ]
    },
    {
      "cell_type": "code",
      "metadata": {
        "colab": {
          "base_uri": "https://localhost:8080/"
        },
        "id": "klqXbjfX-t01",
        "outputId": "6777c55c-53af-4f5d-b7f5-0467ccab40e2"
      },
      "source": [
        "arrays = [\n",
        "'ABCD',\n",
        "'145C',\n",
        "'A',\n",
        "'A910',\n",
        "'Z321']\n",
        "\n",
        "def getSum(a):\n",
        "    sum =0 \n",
        "    for i in range(len(a)):\n",
        "        # 숫자인 경우에만 더합니다.\n",
        "        if (a[i].isdigit()):\n",
        "            if (int(a[i]) - 0 <= 9) and (int(a[i]) - 0 >=0):\n",
        "                sum+= (int(a[i])) \n",
        "    return sum\n",
        "arrays_list =[]\n",
        "cnt= 0\n",
        "for i in arrays:\n",
        "    arrays_list.append((i,getSum(i)))\n",
        "\n",
        "arrays_list.sort(key = lambda x: (len(x), x[1], x[0]))\n",
        "for i in arrays_list:\n",
        "    print(i[0])"
      ],
      "execution_count": 3,
      "outputs": [
        {
          "output_type": "stream",
          "text": [
            "A\n",
            "ABCD\n",
            "Z321\n",
            "145C\n",
            "A910\n"
          ],
          "name": "stdout"
        }
      ]
    },
    {
      "cell_type": "code",
      "metadata": {
        "colab": {
          "base_uri": "https://localhost:8080/"
        },
        "id": "5KwJ0HZ-BHks",
        "outputId": "288f8d23-6dce-4632-dc85-13cfa3ecdc40"
      },
      "source": [
        "arrays = [\n",
        "'2',\n",
        "'AA',\n",
        "'1']\n",
        "\n",
        "def getSum(a):\n",
        "    sum =0 \n",
        "    for i in range(len(a)):\n",
        "        # 숫자인 경우에만 더합니다.\n",
        "        if (a[i].isdigit()):\n",
        "            if (int(a[i]) - 0 <= 9) and (int(a[i]) - 0 >=0):\n",
        "                sum+= (int(a[i])) \n",
        "    return sum\n",
        "arrays_list =[]\n",
        "cnt= 0\n",
        "for i in arrays:\n",
        "    arrays_list.append((i,getSum(i)))\n",
        "\n",
        "arrays_list.sort(key = lambda x: (len(x[0]), x[1], x[0]))\n",
        "for i in arrays_list:\n",
        "    print(i[0])"
      ],
      "execution_count": 7,
      "outputs": [
        {
          "output_type": "stream",
          "text": [
            "1\n",
            "2\n",
            "AA\n"
          ],
          "name": "stdout"
        }
      ]
    },
    {
      "cell_type": "code",
      "metadata": {
        "id": "8FICSzVcAl2r"
      },
      "source": [
        "N = int(input())\n",
        "\n",
        "arrays = []\n",
        "\n",
        "for _ in range(N) : \n",
        "    arrays.append(str(input()))\n",
        "\n",
        "def getSum(a):\n",
        "    sum =0 \n",
        "    for i in range(len(a)):\n",
        "        # 숫자인 경우에만 더합니다.\n",
        "        if (a[i].isdigit()):\n",
        "            if (int(a[i]) - 0 <= 9) and (int(a[i]) - 0 >=0):\n",
        "                sum+= (int(a[i])) \n",
        "    return sum\n",
        "\n",
        "arrays_list =[]\n",
        "cnt= 0\n",
        "for i in arrays:\n",
        "    arrays_list.append((i,getSum(i)))\n",
        "\n",
        "arrays_list.sort(key = lambda x: (len(x[0]), x[1], x[0]))\n",
        "for i in arrays_list:\n",
        "    print(i[0])"
      ],
      "execution_count": null,
      "outputs": []
    }
  ]
}