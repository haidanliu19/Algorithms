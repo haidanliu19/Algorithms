{
  "nbformat": 4,
  "nbformat_minor": 0,
  "metadata": {
    "colab": {
      "name": "2750_수 정렬하기.ipynb",
      "provenance": [],
      "collapsed_sections": []
    },
    "kernelspec": {
      "name": "python3",
      "display_name": "Python 3"
    },
    "language_info": {
      "name": "python"
    }
  },
  "cells": [
    {
      "cell_type": "markdown",
      "metadata": {
        "id": "KS9EiY50Dfy-"
      },
      "source": [
        "# 백준 "
      ]
    },
    {
      "cell_type": "code",
      "metadata": {
        "colab": {
          "base_uri": "https://localhost:8080/"
        },
        "id": "lHZr9xjhC82J",
        "outputId": "e00fefab-a3e2-4b93-c4c6-07771cc7fe72"
      },
      "source": [
        "number = 5\n",
        "array = [5,2,3,4,1]\n",
        "\n",
        "for i in range(number):\n",
        "    min = 1001\n",
        "    for j in range(i, number):\n",
        "        if (min > array[j]):\n",
        "            min = array[j]\n",
        "            index = j\n",
        "    \n",
        "    array[index],array[i] = array[i] , array[index]\n",
        "\n",
        "print(array)"
      ],
      "execution_count": 2,
      "outputs": [
        {
          "output_type": "stream",
          "text": [
            "[1, 2, 3, 4, 5]\n"
          ],
          "name": "stdout"
        }
      ]
    },
    {
      "cell_type": "code",
      "metadata": {
        "colab": {
          "base_uri": "https://localhost:8080/"
        },
        "id": "9cPWJLWjEZMj",
        "outputId": "30f14059-888b-4a5e-d384-205e63b8224f"
      },
      "source": [
        "N = int(input())\n",
        "\n",
        "arrays = []\n",
        "\n",
        "for _ in range(N) : \n",
        "    arrays.append(int(input()))\n",
        "\n",
        "nummber = len(arrays)\n",
        "for i in range(number):\n",
        "    min = 1001\n",
        "    for j in range(i, number):\n",
        "        if (min > arrays[j]):\n",
        "            min = arrays[j]\n",
        "            index = j\n",
        "    \n",
        "    arrays[index],arrays[i] = arrays[i] , arrays[index]\n",
        "\n",
        "print(arrays)"
      ],
      "execution_count": 7,
      "outputs": [
        {
          "output_type": "stream",
          "text": [
            "5\n",
            "5\n",
            "2\n",
            "3\n",
            "4\n",
            "1\n",
            "[1, 2, 3, 4, 5]\n"
          ],
          "name": "stdout"
        }
      ]
    },
    {
      "cell_type": "code",
      "metadata": {
        "id": "fuXvRTHeEny9"
      },
      "source": [
        "41\n"
      ],
      "execution_count": null,
      "outputs": []
    }
  ]
}