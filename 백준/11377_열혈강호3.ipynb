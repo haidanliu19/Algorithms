{
  "nbformat": 4,
  "nbformat_minor": 0,
  "metadata": {
    "colab": {
      "name": "11377_열혈강호3.ipynb",
      "provenance": [],
      "collapsed_sections": []
    },
    "kernelspec": {
      "name": "python3",
      "display_name": "Python 3"
    },
    "language_info": {
      "name": "python"
    }
  },
  "cells": [
    {
      "cell_type": "markdown",
      "metadata": {
        "id": "4G-m-eIvz7Ok"
      },
      "source": [
        "https://www.youtube.com/watch?v=-iLzubVMXAU&list=PLRx0vPvlEmdDHxCvAQS1_6XV4deOwfVrz&index=36"
      ]
    },
    {
      "cell_type": "code",
      "metadata": {
        "colab": {
          "base_uri": "https://localhost:8080/"
        },
        "id": "CdCC0q8vwtZB",
        "outputId": "95be4545-7410-4fda-be31-63edc8874f3f"
      },
      "source": [
        "MAX = 1001\n",
        "a = [[] for _ in range(MAX)]\n",
        "d = [0 for _ in range(MAX)]\n",
        "n = 5\n",
        "m = 5\n",
        "k = 1\n",
        "# 매칭데 성공한 경우 True, 실패한 경우 False\n",
        "def dfs(x):\n",
        "    # 연결된 모든 노드에 대해서 들어갈 수 있는지 확인\n",
        "    for i in range(len(a[x])):\n",
        "        t = a[x][i]\n",
        "        if c[t]:\n",
        "            continue\n",
        "        c[t] = True\n",
        "        # 비어있거나 점유 노드에 더 들어갈 공간이 있는 경우 \n",
        "        if (d[t]==0 or dfs(d[t])):\n",
        "            d[t]= x\n",
        "            return True\n",
        "\n",
        "a= [[], [3,1,2,3], [3,1,2,3], [1,5], [1,5], [1,5]]\n",
        "count = 0\n",
        "for i in range(n+1):\n",
        "    # 최대한 우겨 넣습니다.\n",
        "    c = [False for i in range(MAX+1)]\n",
        "    if dfs(i):\n",
        "        count += 1\n",
        "\n",
        "# 2번씩 작업할 수 있는 사람을 추가적으로 계산합니다.\n",
        "extra = 0\n",
        "i = 1\n",
        "while i<=n and extra < k:\n",
        "    c = [False for i in range(MAX+1)]\n",
        "    if dfs(i):\n",
        "        extra += 1\n",
        "    i+= 1\n",
        "print(count+extra)"
      ],
      "execution_count": 3,
      "outputs": [
        {
          "output_type": "stream",
          "name": "stdout",
          "text": [
            "4\n"
          ]
        }
      ]
    },
    {
      "cell_type": "code",
      "metadata": {
        "id": "yx55dGf2VvV-"
      },
      "source": [
        ""
      ],
      "execution_count": null,
      "outputs": []
    },
    {
      "cell_type": "markdown",
      "metadata": {
        "id": "xPDtojepz6yK"
      },
      "source": [
        ""
      ]
    },
    {
      "cell_type": "code",
      "metadata": {
        "id": "29QuEa27xKe4",
        "colab": {
          "base_uri": "https://localhost:8080/"
        },
        "outputId": "e7eec04a-5498-4e0a-c195-bded3630f0a5"
      },
      "source": [
        "import sys\n",
        "input = sys.stdin.readline\n",
        "\n",
        "MAX = 1001\n",
        "a = [[] for _ in range(MAX)]\n",
        "d = [0 for _ in range(MAX)]\n",
        "\n",
        "n, m, k = map(int, input().split())\n",
        "# 매칭데 성공한 경우 True, 실패한 경우 False\n",
        "def dfs(x):\n",
        "    # 연결된 모든 노드에 대해서 들어갈 수 있는지 확인\n",
        "    for i in range(len(a[x])):\n",
        "        t = a[x][i]\n",
        "        if c[t]:\n",
        "            continue\n",
        "        c[t] = True\n",
        "        # 비어있거나 점유 노드에 더 들어갈 공간이 있는 경우 \n",
        "        if (d[t]==0 or dfs(d[t])):\n",
        "            d[t]= x\n",
        "            return True\n",
        "\n",
        "for i in range(1, n + 1):\n",
        "    s = list(map(int, input().split()))\n",
        "    for j in s[1:]:\n",
        "        a[i].append(j)\n",
        "\n",
        "count = 0\n",
        "for i in range(n+1):\n",
        "    # 최대한 우겨 넣습니다.\n",
        "    c = [False for i in range(MAX+1)]\n",
        "    if dfs(i):\n",
        "        count += 1\n",
        "\n",
        "# 2번씩 작업할 수 있는 사람을 추가적으로 계산합니다.\n",
        "extra = 0\n",
        "i = 1\n",
        "while i<=n and extra < k:\n",
        "    c = [False for i in range(MAX+1)]\n",
        "    if dfs(i):\n",
        "        extra += 1\n",
        "    i+= 1\n",
        "print(count+extra)"
      ],
      "execution_count": 4,
      "outputs": [
        {
          "output_type": "stream",
          "name": "stdout",
          "text": [
            "5 5 1\n",
            "3 1 2 3\n",
            "3 1 2 3\n",
            "1 5\n",
            "\n",
            "1 5\n",
            "4\n"
          ]
        }
      ]
    },
    {
      "cell_type": "code",
      "metadata": {
        "colab": {
          "base_uri": "https://localhost:8080/"
        },
        "id": "i51RydzEza8n",
        "outputId": "9ad92c70-a062-4798-e4df-2e93578fafe6"
      },
      "source": [
        "import sys\n",
        "input = sys.stdin.readline\n",
        "#MAX = 1001\n",
        "n, m, k = map(int, input().split())\n",
        "a = [[] for i in range(n + 1)]\n",
        "d = [0 for i in range(m + 1)]\n",
        "count = 0\n",
        "\n",
        "# 매칭데 성공한 경우 True, 실패한 경우 False\n",
        "def dfs(x):\n",
        "    if c[x]:\n",
        "        return False\n",
        "    c[x] = 1\n",
        "    for i in a[x]:\n",
        "        if d[i] == 0 or dfs(d[i]):\n",
        "            d[i] = x\n",
        "            return True\n",
        "    return False\n",
        "\n",
        "for i in range(1, n + 1):\n",
        "    s = list(map(int, input().split()))\n",
        "    for j in s[1:]:\n",
        "        a[i].append(j)\n",
        "\n",
        "for i in range(1, n + 1):\n",
        "    c = [0 for _ in range(n + 1)]\n",
        "    if dfs(i):\n",
        "        count += 1\n",
        "\n",
        "\n",
        "# 2번씩 작업할 수 있는 사람을 추가적으로 계산합니다.\n",
        "extra = 0\n",
        "i = 1\n",
        "while i<=n and extra < k:\n",
        "    c = [0 for _ in range(n + 1)]\n",
        "    if dfs(i):\n",
        "        extra += 1\n",
        "    i+= 1\n",
        "print(count+extra)"
      ],
      "execution_count": null,
      "outputs": [
        {
          "output_type": "stream",
          "name": "stdout",
          "text": [
            "5 5\n",
            "2 1 2\n",
            "1 1\n",
            "2 2 3\n",
            "3 3 4 5\n",
            "1 1\n",
            "4\n"
          ]
        }
      ]
    }
  ]
}