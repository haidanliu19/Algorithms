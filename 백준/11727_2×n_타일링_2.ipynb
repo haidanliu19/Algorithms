{
  "nbformat": 4,
  "nbformat_minor": 0,
  "metadata": {
    "colab": {
      "name": "11727_2×n 타일링 2.ipynb",
      "provenance": [],
      "collapsed_sections": []
    },
    "kernelspec": {
      "name": "python3",
      "display_name": "Python 3"
    },
    "language_info": {
      "name": "python"
    }
  },
  "cells": [
    {
      "cell_type": "code",
      "metadata": {
        "colab": {
          "base_uri": "https://localhost:8080/"
        },
        "id": "Hk6eYr_jfwKQ",
        "outputId": "7bcdb599-e554-4cbf-a3a6-12ea9cd06d7d"
      },
      "source": [
        "d = [0] * 1001\n",
        "def dp(n):\n",
        "    if n == 1 :\n",
        "        return n\n",
        "    if n == 2:\n",
        "        return 3\n",
        "    if (d[n]!=0):\n",
        "        return d[n]\n",
        "    d[n] = dp(n-1) + 2* dp(n-2)\n",
        "    return d[n] % 10007\n",
        "\n",
        "n = 8\n",
        "dp(n)"
      ],
      "execution_count": 17,
      "outputs": [
        {
          "output_type": "execute_result",
          "data": {
            "text/plain": [
              "171"
            ]
          },
          "metadata": {},
          "execution_count": 17
        }
      ]
    },
    {
      "cell_type": "code",
      "metadata": {
        "colab": {
          "base_uri": "https://localhost:8080/"
        },
        "id": "5Yv_vzX8jmBY",
        "outputId": "8216358a-044d-44d6-9ccf-1562e4f4dac5"
      },
      "source": [
        "d = [0] * 1001\n",
        "def dp(n):\n",
        "    if n == 1 :\n",
        "        return n\n",
        "    if n == 2:\n",
        "        return 3\n",
        "    if (d[n]!=0):\n",
        "        return d[n]\n",
        "    d[n] = dp(n-1) + 2* dp(n-2)\n",
        "    return d[n] % 10007\n",
        "\n",
        "n = 9\n",
        "dp(n)"
      ],
      "execution_count": 18,
      "outputs": [
        {
          "output_type": "execute_result",
          "data": {
            "text/plain": [
              "341"
            ]
          },
          "metadata": {},
          "execution_count": 18
        }
      ]
    },
    {
      "cell_type": "code",
      "metadata": {
        "id": "BriN7XFhl6_V"
      },
      "source": [
        "import sys\n",
        "sys.setrecursionlimit(10**6)\n",
        "\n",
        "d = [0] * 1001\n",
        "def dp(n):\n",
        "    if n == 1 :\n",
        "        return n\n",
        "    if n == 2:\n",
        "        return 3\n",
        "    if (d[n]!=0):\n",
        "        return d[n]\n",
        "    d[n] = dp(n-1) + 2* dp(n-2)\n",
        "    return d[n] % 10007\n",
        "\n",
        "n = int(input())\n",
        "print(dp(n))"
      ],
      "execution_count": 19,
      "outputs": []
    }
  ]
}