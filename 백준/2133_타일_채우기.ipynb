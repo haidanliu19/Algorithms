{
  "nbformat": 4,
  "nbformat_minor": 0,
  "metadata": {
    "colab": {
      "name": "2133_타일 채우기.ipynb",
      "provenance": [],
      "collapsed_sections": []
    },
    "kernelspec": {
      "name": "python3",
      "display_name": "Python 3"
    },
    "language_info": {
      "name": "python"
    }
  },
  "cells": [
    {
      "cell_type": "code",
      "metadata": {
        "colab": {
          "base_uri": "https://localhost:8080/"
        },
        "id": "YHhZKg-X7pWv",
        "outputId": "61bcf16b-6b25-4fad-b81c-6b42619b1417"
      },
      "source": [
        "d = [0] * 1001\n",
        "def dp(n):\n",
        "    if n == 0 :\n",
        "        return 1\n",
        "    if n == 1:\n",
        "        return 0\n",
        "    if n == 2:\n",
        "        return 3\n",
        "    if (d[n]!=0):\n",
        "        return d[n]\n",
        "    result = 3 * dp(n-2)\n",
        "    for i in range(3,n+1):\n",
        "        if i % 2 == 0:\n",
        "            result += 2 * dp(n-i)\n",
        "    d[n] = result\n",
        "    return d[n]\n",
        "\n",
        "n = 2\n",
        "dp(n)"
      ],
      "execution_count": 3,
      "outputs": [
        {
          "output_type": "execute_result",
          "data": {
            "text/plain": [
              "3"
            ]
          },
          "metadata": {},
          "execution_count": 3
        }
      ]
    },
    {
      "cell_type": "code",
      "metadata": {
        "id": "DHIwb3VA-rhc"
      },
      "source": [
        "import sys\n",
        "sys.setrecursionlimit(10**6)\n",
        "\n",
        "d = [0] * 1001\n",
        "def dp(n):\n",
        "    if n == 0 :\n",
        "        return 1\n",
        "    if n == 1:\n",
        "        return 0\n",
        "    if n == 2:\n",
        "        return 3\n",
        "    if (d[n]!=0):\n",
        "        return d[n]\n",
        "    result = 3 * dp(n-2)\n",
        "    for i in range(3,n+1):\n",
        "        if i % 2 == 0:\n",
        "            result += 2 * dp(n-i)\n",
        "    d[n] = result\n",
        "    return d[n]\n",
        "\n",
        "n = int(input())\n",
        "print(dp(n))"
      ],
      "execution_count": null,
      "outputs": []
    }
  ]
}