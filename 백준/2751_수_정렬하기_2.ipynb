{
  "nbformat": 4,
  "nbformat_minor": 0,
  "metadata": {
    "colab": {
      "name": "2751_수 정렬하기 2.ipynb",
      "provenance": [],
      "collapsed_sections": []
    },
    "kernelspec": {
      "name": "python3",
      "display_name": "Python 3"
    },
    "language_info": {
      "name": "python"
    }
  },
  "cells": [
    {
      "cell_type": "markdown",
      "metadata": {
        "id": "KS9EiY50Dfy-"
      },
      "source": [
        "# 백준 "
      ]
    },
    {
      "cell_type": "code",
      "metadata": {
        "colab": {
          "base_uri": "https://localhost:8080/"
        },
        "id": "9cPWJLWjEZMj",
        "outputId": "a074893d-db6e-4564-d3bc-cecc5a0025d8"
      },
      "source": [
        "N = int(input())\n",
        "\n",
        "arrays = []\n",
        "\n",
        "for _ in range(N) : \n",
        "    arrays.append(int(input()))\n",
        "\n",
        "def quickSort(data, start, end):\n",
        "    if (start >= end) : \n",
        "        return \n",
        "    key = start\n",
        "    i = start + 1 \n",
        "    j = end\n",
        "\n",
        "    while (i <= j): \n",
        "        while ((i <= end) and (data[i] <= data[key])):\n",
        "            i+=1\n",
        "        while ((data[j] >= data[key]) and ( j > start)):\n",
        "            j -= 1 \n",
        "            \n",
        "        if (i > j): \n",
        "            data[key], data[j] = data[j], data[key]\n",
        "        else:\n",
        "            data[j], data[i] = data[i], data[j]\n",
        "\n",
        "    quickSort(data, start, j-1) \n",
        "    quickSort(data, j+1, end)\n",
        "\n",
        "    return data\n",
        "\n",
        "data = quickSort(arrays, 0, len(arrays)-1)\n",
        "for i in data:\n",
        "    print(i)"
      ],
      "execution_count": 25,
      "outputs": [
        {
          "output_type": "stream",
          "text": [
            "5\n",
            "4\n",
            "3\n",
            "2\n",
            "1\n",
            "5\n",
            "1\n",
            "2\n",
            "3\n",
            "4\n",
            "5\n"
          ],
          "name": "stdout"
        }
      ]
    },
    {
      "cell_type": "code",
      "metadata": {
        "id": "lCcOsowTL41y"
      },
      "source": [
        "\n"
      ],
      "execution_count": null,
      "outputs": []
    }
  ]
}