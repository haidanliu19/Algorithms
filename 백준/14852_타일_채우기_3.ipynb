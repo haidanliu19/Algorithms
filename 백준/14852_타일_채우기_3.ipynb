{
  "nbformat": 4,
  "nbformat_minor": 0,
  "metadata": {
    "colab": {
      "name": "14852_타일 채우기 3.ipynb",
      "provenance": [],
      "collapsed_sections": []
    },
    "kernelspec": {
      "name": "python3",
      "display_name": "Python 3"
    },
    "language_info": {
      "name": "python"
    }
  },
  "cells": [
    {
      "cell_type": "code",
      "metadata": {
        "colab": {
          "base_uri": "https://localhost:8080/"
        },
        "id": "YHhZKg-X7pWv",
        "outputId": "9fbf4951-f8e7-4b04-af9d-a45846befcce"
      },
      "source": [
        "d = [0] * 1000001\n",
        "def dp(n):\n",
        "    if n == 0 :\n",
        "        return 1\n",
        "    if n == 1:\n",
        "        return 2\n",
        "    if n == 2:\n",
        "        return 7\n",
        "    if (d[n]!=0):\n",
        "        return d[n]\n",
        "    result = 3 * dp(n-2) + 2* dp(n-1)\n",
        "    for i in range(3,n+1):\n",
        "        result += (2 * dp(n-i)) % 1000000007\n",
        "    d[n] = result\n",
        "    return d[n]\n",
        "\n",
        "n = 1\n",
        "dp(n)"
      ],
      "execution_count": 4,
      "outputs": [
        {
          "output_type": "execute_result",
          "data": {
            "text/plain": [
              "2"
            ]
          },
          "metadata": {},
          "execution_count": 4
        }
      ]
    },
    {
      "cell_type": "code",
      "metadata": {
        "colab": {
          "base_uri": "https://localhost:8080/"
        },
        "id": "cWax9LtmBgBB",
        "outputId": "678b2310-fc8d-4de7-e47d-0735fdeb2c1c"
      },
      "source": [
        "d = [0] * 1000001\n",
        "def dp(n):\n",
        "    if n == 0 :\n",
        "        return 1\n",
        "    if n == 1:\n",
        "        return 2\n",
        "    if n == 2:\n",
        "        return 7\n",
        "    if (d[n]!=0):\n",
        "        return d[n]\n",
        "    result = 3 * dp(n-2) + 2* dp(n-1)\n",
        "    for i in range(3,n+1):\n",
        "        result += (2 * dp(n-i)) % 1000000007\n",
        "    d[n] = result\n",
        "    return d[n]\n",
        "\n",
        "n = 2\n",
        "dp(n)"
      ],
      "execution_count": 5,
      "outputs": [
        {
          "output_type": "execute_result",
          "data": {
            "text/plain": [
              "7"
            ]
          },
          "metadata": {},
          "execution_count": 5
        }
      ]
    },
    {
      "cell_type": "code",
      "metadata": {
        "colab": {
          "base_uri": "https://localhost:8080/"
        },
        "id": "8J3HEMpRBhP_",
        "outputId": "3d1c58f4-0620-42c3-83f1-59ba66ed7630"
      },
      "source": [
        "d = [0] * 1000001\n",
        "def dp(n):\n",
        "    if n == 0 :\n",
        "        return 1\n",
        "    if n == 1:\n",
        "        return 2\n",
        "    if n == 2:\n",
        "        return 7\n",
        "    if (d[n]!=0):\n",
        "        return d[n]\n",
        "    result = 3 * dp(n-2) + 2* dp(n-1)\n",
        "    for i in range(3,n+1):\n",
        "        result += (2 * dp(n-i)) % 1000000007\n",
        "    d[n] = result\n",
        "    return d[n]\n",
        "\n",
        "n = 3\n",
        "dp(n)"
      ],
      "execution_count": 6,
      "outputs": [
        {
          "output_type": "execute_result",
          "data": {
            "text/plain": [
              "22"
            ]
          },
          "metadata": {},
          "execution_count": 6
        }
      ]
    },
    {
      "cell_type": "code",
      "metadata": {
        "id": "DHIwb3VA-rhc"
      },
      "source": [
        "import sys\n",
        "sys.setrecursionlimit(10**6)\n",
        "\n",
        "d = [0] * 1000001\n",
        "def dp(n):\n",
        "    if n == 0 :\n",
        "        return 1\n",
        "    if n == 1:\n",
        "        return 2\n",
        "    if n == 2:\n",
        "        return 7\n",
        "    if (d[n]!=0):\n",
        "        return d[n]\n",
        "    result = 3 * dp(n-2) + 2* dp(n-1)\n",
        "    for i in range(3,n+1):\n",
        "        result += (2 * dp(n-i)) % 1000000007\n",
        "    d[n] = result\n",
        "    return d[n]\n",
        "\n",
        "n = int(input())\n",
        "print(dp(n))"
      ],
      "execution_count": null,
      "outputs": []
    },
    {
      "cell_type": "markdown",
      "metadata": {
        "id": "rN2kJy_GCV5b"
      },
      "source": [
        "# 2차원 dp"
      ]
    },
    {
      "cell_type": "code",
      "metadata": {
        "colab": {
          "base_uri": "https://localhost:8080/"
        },
        "id": "DN1QvlE5GKon",
        "outputId": "b846681e-d6f7-44a0-d96a-5220b127af4b"
      },
      "source": [
        "d = [[0]*2]* 1000001\n",
        "\n",
        "def dp(n):\n",
        "    d[0][0] = 0\n",
        "    d[1][0] = 2\n",
        "    d[2][0] = 7\n",
        "    d[2][1] = 1\n",
        "    print(d[0][0])\n",
        "    for i in range(3,n+1):\n",
        "\n",
        "        d[i][1] = (d[i-1][1]+d[i-3][0]) % 1000000007\n",
        "        d[i][0] = (3 * d[i-2][0] + 2 * d[i-1][0] + 2 * d[i][1]) % 1000000007\n",
        "    return d[n][0]\n",
        "n = 3\n",
        "dp(n)"
      ],
      "execution_count": 38,
      "outputs": [
        {
          "output_type": "stream",
          "name": "stdout",
          "text": [
            "7\n"
          ]
        },
        {
          "output_type": "execute_result",
          "data": {
            "text/plain": [
              "51"
            ]
          },
          "metadata": {},
          "execution_count": 38
        }
      ]
    },
    {
      "cell_type": "code",
      "metadata": {
        "colab": {
          "base_uri": "https://localhost:8080/"
        },
        "id": "82XV8MRdCXd7",
        "outputId": "fb7e2e9d-1e9e-4067-cc99-ea47284e9a73"
      },
      "source": [
        "d = [[0]*2 for _ in range(1000001)]\n",
        "\n",
        "def dp(n):\n",
        "    d[0][0] = 0\n",
        "    d[1][0] = 2\n",
        "    d[2][0] = 7\n",
        "    d[2][1] = 1\n",
        "\n",
        "    for i in range(3,n+1):\n",
        "\n",
        "        d[i][1] = (d[i-1][1]+d[i-3][0]) % 1000000007\n",
        "        d[i][0] = (3 * d[i-2][0] + 2 * d[i-1][0] + 2 * d[i][1]) % 1000000007\n",
        "    return d[n][0]\n",
        "n = 3\n",
        "dp(n)"
      ],
      "execution_count": 36,
      "outputs": [
        {
          "output_type": "execute_result",
          "data": {
            "text/plain": [
              "22"
            ]
          },
          "metadata": {},
          "execution_count": 36
        }
      ]
    },
    {
      "cell_type": "code",
      "metadata": {
        "id": "2_iTfcp8CbVP"
      },
      "source": [
        "import sys\n",
        "sys.setrecursionlimit(10**6)\n",
        "\n",
        "d = [[0]*2 for _ in range(1000001)]\n",
        "\n",
        "def dp(n):\n",
        "    d[0][0] = 0\n",
        "    d[1][0] = 2\n",
        "    d[2][0] = 7\n",
        "    d[2][1] = 1\n",
        "\n",
        "    for i in range(3,n+1):\n",
        "\n",
        "        d[i][1] = (d[i-1][1]+d[i-3][0]) % 1000000007\n",
        "        d[i][0] = (3 * d[i-2][0] + 2 * d[i-1][0] + 2 * d[i][1]) % 1000000007\n",
        "    return d[n][0]\n",
        "n = 3\n",
        "dp(n)\n",
        "\n",
        "n = int(input())\n",
        "print(dp(n))"
      ],
      "execution_count": null,
      "outputs": []
    }
  ]
}