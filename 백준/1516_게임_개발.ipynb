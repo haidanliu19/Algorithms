{
  "nbformat": 4,
  "nbformat_minor": 0,
  "metadata": {
    "colab": {
      "name": "1516_게임 개발.ipynb",
      "provenance": [],
      "collapsed_sections": []
    },
    "kernelspec": {
      "name": "python3",
      "display_name": "Python 3"
    },
    "language_info": {
      "name": "python"
    }
  },
  "cells": [
    {
      "cell_type": "code",
      "metadata": {
        "colab": {
          "base_uri": "https://localhost:8080/"
        },
        "id": "32fbIWzFJ0LT",
        "outputId": "5c70d861-5ddd-428d-a58c-63849816aeb3"
      },
      "source": [
        "MAX = 501\n",
        "inDegree = [ 0 for i in range(MAX+1)]\n",
        "time = [ 0 for i in range(MAX+1)]\n",
        "arr= []\n",
        "graph = [[] for i in range(MAX+1)]\n",
        "\n",
        "for i in range(m): \n",
        "    a, b = map(int, input().split()) \n",
        "    arr.append([a, b])\n",
        "\n",
        "for a, b in arr: \n",
        "    inDegree[b] += 1 \n",
        "    graph[a].append(b)\n",
        "\n",
        "def topologySort():\n",
        "    result = []\n",
        "    q = deque()\n",
        "    # 진입 차수가 0인 노드를 큐에 삽입합니다.\n",
        "    for i in range(1,n+1):\n",
        "        if (inDegree[i] == 0) :\n",
        "            q.append(i)\n",
        "\n",
        "    # 위상 정렬이 완전히 수행되려면 정확히 N개의 노드를 방문합니다. \n",
        "    for i in range(1, n+1):\n",
        "        #n개를 방문하기 전에 큐가 빈다면 사이클이 발생한 것이다 \n",
        "        x = q.popleft()\n",
        "        result.append(x)\n",
        "        for j in graph[x]:\n",
        "            #y = a[x][j]\n",
        "            inDegree[j]-= 1\n",
        "            if inDegree[j] == 0:\n",
        "                q.append(j)\n",
        "\n",
        "            \n",
        "    # 위상 정렬을 수행한 결과 출력\n",
        "    for i in result:\n",
        "        print(i, end=' ')\n",
        "\n",
        "\n",
        "topologySort()"
      ],
      "execution_count": null,
      "outputs": [
        {
          "output_type": "stream",
          "name": "stdout",
          "text": [
            "1 2 3 "
          ]
        }
      ]
    },
    {
      "cell_type": "code",
      "metadata": {
        "colab": {
          "base_uri": "https://localhost:8080/"
        },
        "id": "MQrbZX7RKa76",
        "outputId": "1f6dc2ba-26b4-4293-d727-d4806f2ce502"
      },
      "source": [
        "import sys\n",
        "from collections import deque\n",
        "\n",
        "MAX = 501\n",
        "#n= map(int, sys.stdin.readline().split())\n",
        "n = int(input())\n",
        "#n = 5\n",
        "\n",
        "inDegree = [ 0 for i in range(MAX+1)]\n",
        "time =  [0] * (n+1)\n",
        "arr= []\n",
        "graph = [[] for _ in range(MAX+1)]\n",
        "'''\n",
        "graph = [[], [2, 3, 4], [], [4, 5], [], []]\n",
        "time=[0, 10 , 10, 4,4, 3]\n",
        "inDegree= [0, 0, 1, 1, 2, 1]\n",
        "'''\n",
        "for i in range(1, n+1): \n",
        "    _input = list(map(int, input().split()) )\n",
        "    time[i] = _input[0]\n",
        "    if len(_input) > 2:\n",
        "        for j in _input[1:-1]:\n",
        "            graph[j].append(i)\n",
        "            inDegree[i] += 1\n",
        "\n",
        "\n",
        "result =[0] * (n+1)\n",
        "def topologySort():\n",
        "    q = deque()\n",
        "    # 진입 차수가 0인 노드를 큐에 삽입합니다.\n",
        "    for i in range(1, n+1):\n",
        "        if inDegree[i] == 0:\n",
        "            q.append(i)\n",
        "            result[i]= time[i]\n",
        "      \n",
        "    # 위상 정렬이 완전히 수행되려면 정확히 N개의 노드를 방문합니다. \n",
        "    for i in range(1, n+1):\n",
        "        #n개를 방문하기 전에 큐가 빈다면 사이클이 발생한 것이다 \n",
        "        x = q.popleft()\n",
        "        #result.append(x)\n",
        "        for j in graph[x]:\n",
        "             # 두 갑 중 더 큰 값을 저장\n",
        "            inDegree[j]-= 1\n",
        "            result[j] = max(result[j], result[x] + time[j])\n",
        "            if inDegree[j] == 0:\n",
        "                q.append(j)\n",
        "\n",
        "            \n",
        "    # 위상 정렬을 수행한 결과 출력\n",
        "    for i in result:\n",
        "        if i != 0:\n",
        "            print(i)\n",
        "\n",
        "\n",
        "topologySort()"
      ],
      "execution_count": 22,
      "outputs": [
        {
          "output_type": "stream",
          "name": "stdout",
          "text": [
            "10\n",
            "20\n",
            "14\n",
            "18\n",
            "17\n"
          ]
        }
      ]
    },
    {
      "cell_type": "code",
      "metadata": {
        "colab": {
          "base_uri": "https://localhost:8080/"
        },
        "id": "FuqUEVg1QO1H",
        "outputId": "c8bac40e-3b2d-4674-b02e-93257413c562"
      },
      "source": [
        "import sys\n",
        "from collections import deque\n",
        "\n",
        "q = deque()\n",
        "n = int(input())\n",
        "indegree = [0] * (n+1)\n",
        "times = [0] * (n+1)\n",
        "dp = [0] * (n+1)\n",
        "graph = [[] for _ in range(n+1)]\n",
        "\n",
        "for i in range(1, n+1):\n",
        "    tower = list(map(int, input().split()))\n",
        "    times[i] = tower[0]\n",
        "    if len(tower) > 2:\n",
        "        for j in tower[1:-1]:\n",
        "            graph[j].append(i)\n",
        "            indegree[i] += 1\n",
        "\n",
        "for i in range(1, n+1):\n",
        "    if indegree[i] == 0:\n",
        "        q.append(i)\n",
        "        dp[i] = times[i]\n",
        "print(q)\n",
        "print(dp)\n",
        "while q:\n",
        "    now = q.popleft()\n",
        "\n",
        "    for i in graph[now]:\n",
        "        indegree[i] -= 1\n",
        "        dp[i] = max(dp[i], dp[now] + times[i])\n",
        "        if indegree[i] == 0:\n",
        "            q.append(i)\n",
        "\n",
        "for i in dp:\n",
        "    if i != 0:\n",
        "        print(i)\n",
        "#https://gist.githubusercontent.com/steadily-worked/8470c8edc037340ff05f997ab831bb03/raw/f9ce4ca122dde966caba59dea6cd83e354016d45/%EA%B2%8C%EC%9E%84%EA%B0%9C%EB%B0%9C.py"
      ],
      "execution_count": 14,
      "outputs": [
        {
          "output_type": "stream",
          "name": "stdout",
          "text": [
            "5\n",
            "10 -1\n",
            "10 1 -1\n",
            "4 1 -1\n",
            "4 3 1 -1\n",
            "3 3 -1\n",
            "deque([1])\n",
            "[0, 10, 0, 0, 0, 0]\n",
            "10\n",
            "20\n",
            "14\n",
            "18\n",
            "17\n"
          ]
        }
      ]
    },
    {
      "cell_type": "code",
      "metadata": {
        "id": "7lc7b8vaNiRP"
      },
      "source": [
        ""
      ],
      "execution_count": null,
      "outputs": []
    }
  ]
}