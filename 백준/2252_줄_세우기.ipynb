{
  "nbformat": 4,
  "nbformat_minor": 0,
  "metadata": {
    "colab": {
      "name": "2252_줄 세우기.ipynb",
      "provenance": [],
      "collapsed_sections": []
    },
    "kernelspec": {
      "name": "python3",
      "display_name": "Python 3"
    },
    "language_info": {
      "name": "python"
    }
  },
  "cells": [
    {
      "cell_type": "code",
      "metadata": {
        "colab": {
          "base_uri": "https://localhost:8080/"
        },
        "id": "32fbIWzFJ0LT",
        "outputId": "5c70d861-5ddd-428d-a58c-63849816aeb3"
      },
      "source": [
        "def topologySort():\n",
        "    result = []\n",
        "    q = deque()\n",
        "    # 진입 차수가 0인 노드를 큐에 삽입합니다.\n",
        "    for i in range(1,n+1):\n",
        "        if (inDegree[i] == 0) :\n",
        "            q.append(i)\n",
        "\n",
        "    # 위상 정렬이 완전히 수행되려면 정확히 N개의 노드를 방문합니다. \n",
        "    for i in range(1, n+1):\n",
        "        #n개를 방문하기 전에 큐가 빈다면 사이클이 발생한 것이다 \n",
        "        x = q.popleft()\n",
        "        result.append(x)\n",
        "        for j in graph[x]:\n",
        "            #y = a[x][j]\n",
        "            inDegree[j]-= 1\n",
        "            if inDegree[j] == 0:\n",
        "                q.append(j)\n",
        "\n",
        "            \n",
        "    # 위상 정렬을 수행한 결과 출력\n",
        "    for i in result:\n",
        "        print(i, end=' ')\n",
        "\n",
        "\n",
        "topologySort()"
      ],
      "execution_count": 47,
      "outputs": [
        {
          "output_type": "stream",
          "name": "stdout",
          "text": [
            "1 2 3 "
          ]
        }
      ]
    },
    {
      "cell_type": "code",
      "metadata": {
        "colab": {
          "base_uri": "https://localhost:8080/"
        },
        "id": "MQrbZX7RKa76",
        "outputId": "af2dc77c-426f-4135-a144-63c21938b662"
      },
      "source": [
        "import sys\n",
        "from collections import deque\n",
        "\n",
        "n,m = map(int, sys.stdin.readline().split())\n",
        "#n,m = 3,2\n",
        "MAX = 32000\n",
        "inDegree = [ 0 for i in range(MAX+1)]\n",
        "\n",
        "arr= []\n",
        "graph = [[] for i in range(MAX+1)]\n",
        "\n",
        "for i in range(m): \n",
        "    a, b = map(int, input().split()) \n",
        "    arr.append([a, b])\n",
        "\n",
        "for a, b in arr: \n",
        "    inDegree[b] += 1 \n",
        "    graph[a].append(b)\n",
        "\n",
        "def topologySort():\n",
        "    result = []\n",
        "    q = deque()\n",
        "    # 진입 차수가 0인 노드를 큐에 삽입합니다.\n",
        "    for i in range(1,n+1):\n",
        "        if (inDegree[i] == 0) :\n",
        "            q.append(i)\n",
        "\n",
        "    # 위상 정렬이 완전히 수행되려면 정확히 N개의 노드를 방문합니다. \n",
        "    for i in range(1, n+1):\n",
        "        #n개를 방문하기 전에 큐가 빈다면 사이클이 발생한 것이다 \n",
        "        x = q.popleft()\n",
        "        result.append(x)\n",
        "        for j in graph[x]:\n",
        "            #y = a[x][j]\n",
        "            inDegree[j]-= 1\n",
        "            if inDegree[j] == 0:\n",
        "                q.append(j)\n",
        "\n",
        "            \n",
        "    # 위상 정렬을 수행한 결과 출력\n",
        "    for i in result:\n",
        "        print(i, end=' ')\n",
        "\n",
        "\n",
        "topologySort()"
      ],
      "execution_count": 46,
      "outputs": [
        {
          "output_type": "stream",
          "name": "stdout",
          "text": [
            "1 3\n",
            "2 3\n",
            "1 2 3 "
          ]
        }
      ]
    },
    {
      "cell_type": "code",
      "metadata": {
        "id": "FuqUEVg1QO1H"
      },
      "source": [
        ""
      ],
      "execution_count": null,
      "outputs": []
    }
  ]
}