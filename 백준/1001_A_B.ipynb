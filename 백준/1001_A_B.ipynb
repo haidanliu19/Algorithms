{
  "nbformat": 4,
  "nbformat_minor": 0,
  "metadata": {
    "colab": {
      "name": "1001_A-B.ipynb",
      "provenance": [],
      "collapsed_sections": []
    },
    "kernelspec": {
      "name": "python3",
      "display_name": "Python 3"
    },
    "language_info": {
      "name": "python"
    }
  },
  "cells": [
    {
      "cell_type": "code",
      "metadata": {
        "colab": {
          "base_uri": "https://localhost:8080/"
        },
        "id": "0voL8OmxRAT3",
        "outputId": "fc5d0a58-5eca-4694-de20-8cd6f7de6b9e"
      },
      "source": [
        "a = 3\n",
        "b = 2\n",
        "print(a-b)"
      ],
      "execution_count": 4,
      "outputs": [
        {
          "output_type": "stream",
          "name": "stdout",
          "text": [
            "1\n"
          ]
        }
      ]
    },
    {
      "cell_type": "code",
      "metadata": {
        "id": "Q8U7GMRFUKB6"
      },
      "source": [
        "import sys\n",
        "a,b = map(int, sys.stdin.readline().split())\n",
        "\n",
        "print(a-b)"
      ],
      "execution_count": null,
      "outputs": []
    }
  ]
}