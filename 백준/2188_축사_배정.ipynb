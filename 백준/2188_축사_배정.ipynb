{
  "nbformat": 4,
  "nbformat_minor": 0,
  "metadata": {
    "colab": {
      "name": "2188_축사 배정.ipynb",
      "provenance": [],
      "collapsed_sections": []
    },
    "kernelspec": {
      "name": "python3",
      "display_name": "Python 3"
    },
    "language_info": {
      "name": "python"
    }
  },
  "cells": [
    {
      "cell_type": "markdown",
      "metadata": {
        "id": "4G-m-eIvz7Ok"
      },
      "source": [
        "https://www.youtube.com/watch?v=-iLzubVMXAU&list=PLRx0vPvlEmdDHxCvAQS1_6XV4deOwfVrz&index=36"
      ]
    },
    {
      "cell_type": "code",
      "metadata": {
        "colab": {
          "base_uri": "https://localhost:8080/"
        },
        "id": "CdCC0q8vwtZB",
        "outputId": "4ffb4d0d-9177-4555-9d18-dee29183ed26"
      },
      "source": [
        "MAX = 201\n",
        "a = [[] for _ in range(MAX)]\n",
        "d = [0 for _ in range(MAX)]\n",
        "n = 5\n",
        "m = 5\n",
        "# 매칭데 성공한 경우 True, 실패한 경우 False\n",
        "def dfs(x):\n",
        "    # 연결된 모든 노드에 대해서 들어갈 수 있는지 확인\n",
        "    for i in range(len(a[x])):\n",
        "        t = a[x][i]\n",
        "        if c[t]:\n",
        "            continue\n",
        "        c[t] = True\n",
        "        # 비어있거나 점유 노드에 더 들어갈 공간이 있는 경우 \n",
        "        if (d[t]==0 or dfs(d[t])):\n",
        "            d[t]= x\n",
        "            return True\n",
        "\n",
        "a= [[], [2, 5], [2, 3, 4], [1, 5], [1, 2, 5], [2]]\n",
        "count = 0\n",
        "for i in range(n+1):\n",
        "    # 최대한 우겨 넣습니다.\n",
        "    c = [False for i in range(MAX+1)]\n",
        "    if dfs(i):\n",
        "        count += 1\n",
        "print(count)"
      ],
      "execution_count": 6,
      "outputs": [
        {
          "output_type": "stream",
          "name": "stdout",
          "text": [
            "4\n"
          ]
        }
      ]
    },
    {
      "cell_type": "markdown",
      "metadata": {
        "id": "xPDtojepz6yK"
      },
      "source": [
        ""
      ]
    },
    {
      "cell_type": "code",
      "metadata": {
        "id": "29QuEa27xKe4"
      },
      "source": [
        "MAX = 201\n",
        "a = [[] for _ in range(MAX)]\n",
        "d = [0 for _ in range(MAX)]\n",
        "\n",
        "n, m = map(int, input().split())\n",
        "# 매칭데 성공한 경우 True, 실패한 경우 False\n",
        "def dfs(x):\n",
        "    # 연결된 모든 노드에 대해서 들어갈 수 있는지 확인\n",
        "    for i in range(len(a[x])):\n",
        "        t = a[x][i]\n",
        "        if c[t]:\n",
        "            continue\n",
        "        c[t] = True\n",
        "        # 비어있거나 점유 노드에 더 들어갈 공간이 있는 경우 \n",
        "        if (d[t]==0 or dfs(d[t])):\n",
        "            d[t]= x\n",
        "            return True\n",
        "\n",
        "for i in range(1, n + 1):\n",
        "    s = list(map(int, input().split()))\n",
        "    for j in s[1:]:\n",
        "        a[i].append(j)\n",
        "\n",
        "count = 0\n",
        "for i in range(n+1):\n",
        "    # 최대한 우겨 넣습니다.\n",
        "    c = [False for i in range(MAX+1)]\n",
        "    if dfs(i):\n",
        "        count += 1\n",
        "print(count)"
      ],
      "execution_count": null,
      "outputs": []
    },
    {
      "cell_type": "code",
      "metadata": {
        "id": "i51RydzEza8n"
      },
      "source": [
        ""
      ],
      "execution_count": null,
      "outputs": []
    }
  ]
}