{
  "nbformat": 4,
  "nbformat_minor": 0,
  "metadata": {
    "colab": {
      "name": "2752_세수정렬.ipynb",
      "provenance": [],
      "collapsed_sections": []
    },
    "kernelspec": {
      "name": "python3",
      "display_name": "Python 3"
    },
    "language_info": {
      "name": "python"
    }
  },
  "cells": [
    {
      "cell_type": "markdown",
      "metadata": {
        "id": "KS9EiY50Dfy-"
      },
      "source": [
        "# 백준 "
      ]
    },
    {
      "cell_type": "code",
      "metadata": {
        "colab": {
          "base_uri": "https://localhost:8080/"
        },
        "id": "9cPWJLWjEZMj",
        "outputId": "a60cdadc-33bb-454c-e98d-fe008ccc19bd"
      },
      "source": [
        "a = list(map(int, input().split()))\n",
        "\n",
        "number = len(a)\n",
        "for i in range(number):\n",
        "    min = 1001\n",
        "    for j in range(i, number):\n",
        "        if (min > a[j]):\n",
        "            min = a[j]\n",
        "            index = j\n",
        "    \n",
        "    a[index],a[i] = a[i] , a[index]\n",
        "\n",
        "print(a[0] ,a[1], a[2])"
      ],
      "execution_count": 3,
      "outputs": [
        {
          "output_type": "stream",
          "text": [
            "3 1 2\n",
            "1 2 3\n"
          ],
          "name": "stdout"
        }
      ]
    },
    {
      "cell_type": "code",
      "metadata": {
        "colab": {
          "base_uri": "https://localhost:8080/"
        },
        "id": "3-x6j441IBTH",
        "outputId": "870d034e-23a2-485d-c6e1-c55f295333e5"
      },
      "source": [
        "d = list(map(int, input().split()))\n",
        "d.sort()\n",
        "for i in d:\n",
        "    print(i, end=\" \")"
      ],
      "execution_count": 6,
      "outputs": [
        {
          "output_type": "stream",
          "text": [
            "3 1 2\n",
            "1 2 3 "
          ],
          "name": "stdout"
        }
      ]
    },
    {
      "cell_type": "code",
      "metadata": {
        "id": "zsvHDVoaJWRq"
      },
      "source": [
        ""
      ],
      "execution_count": null,
      "outputs": []
    }
  ]
}