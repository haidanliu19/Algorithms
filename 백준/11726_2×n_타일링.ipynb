{
  "nbformat": 4,
  "nbformat_minor": 0,
  "metadata": {
    "colab": {
      "name": "11726_2×n 타일링.ipynb",
      "provenance": [],
      "collapsed_sections": []
    },
    "kernelspec": {
      "name": "python3",
      "display_name": "Python 3"
    },
    "language_info": {
      "name": "python"
    }
  },
  "cells": [
    {
      "cell_type": "code",
      "metadata": {
        "colab": {
          "base_uri": "https://localhost:8080/"
        },
        "id": "Hk6eYr_jfwKQ",
        "outputId": "54f128c6-cdaf-456b-8f7a-cd246dfbafd4"
      },
      "source": [
        "d = [0] * 1001\n",
        "def dp(n):\n",
        "    if n in (1,2) :\n",
        "        return n\n",
        "    if (d[n]!=0):\n",
        "        return d[n]\n",
        "    d[n]= dp(n-1) + dp(n-2)\n",
        "    return d[n] % 10007\n",
        "\n",
        "n  =2\n",
        "dp(n)"
      ],
      "execution_count": 1,
      "outputs": [
        {
          "output_type": "execute_result",
          "data": {
            "text/plain": [
              "2"
            ]
          },
          "metadata": {},
          "execution_count": 1
        }
      ]
    },
    {
      "cell_type": "code",
      "metadata": {
        "colab": {
          "base_uri": "https://localhost:8080/"
        },
        "id": "5Yv_vzX8jmBY",
        "outputId": "4922a58c-f97e-47a6-c33b-99ed1ed41e37"
      },
      "source": [
        "d = [0] * 1001\n",
        "def dp(n):\n",
        "    if n in (1,2) :\n",
        "        return n\n",
        "    if (d[n]!=0):\n",
        "        return d[n]\n",
        "    d[n]= dp(n-1) + dp(n-2)\n",
        "    return d[n] % 10007\n",
        "\n",
        "n = 9\n",
        "dp(n)"
      ],
      "execution_count": 3,
      "outputs": [
        {
          "output_type": "execute_result",
          "data": {
            "text/plain": [
              "55"
            ]
          },
          "metadata": {},
          "execution_count": 3
        }
      ]
    },
    {
      "cell_type": "code",
      "metadata": {
        "colab": {
          "base_uri": "https://localhost:8080/"
        },
        "id": "1XKGSwqYkOks",
        "outputId": "04100b0d-a5fe-43a2-ac87-f3e1e7c5995d"
      },
      "source": [
        "import sys\n",
        "sys.setrecursionlimit(10**6)\n",
        "\n",
        "d = [0] * 1001\n",
        "def dp(n):\n",
        "    if n in (1,2) :\n",
        "        return n\n",
        "    if (d[n]!=0):\n",
        "        return d[n]\n",
        "    d[n]= (dp(n-1) + dp(n-2) ) % 10007\n",
        "    return d[n] \n",
        "\n",
        "n = int(input())\n",
        "print(dp(n))"
      ],
      "execution_count": 13,
      "outputs": [
        {
          "name": "stdout",
          "output_type": "stream",
          "text": [
            "9\n"
          ]
        },
        {
          "output_type": "execute_result",
          "data": {
            "text/plain": [
              "55"
            ]
          },
          "metadata": {},
          "execution_count": 13
        }
      ]
    },
    {
      "cell_type": "code",
      "metadata": {
        "colab": {
          "base_uri": "https://localhost:8080/"
        },
        "id": "BriN7XFhl6_V",
        "outputId": "bc5230cc-767f-47be-bc4c-6abf36f264c5"
      },
      "source": [
        ""
      ],
      "execution_count": 12,
      "outputs": [
        {
          "output_type": "stream",
          "name": "stdout",
          "text": [
            "1000\n",
            "1115\n"
          ]
        }
      ]
    }
  ]
}