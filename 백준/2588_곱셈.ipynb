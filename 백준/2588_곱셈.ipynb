{
  "nbformat": 4,
  "nbformat_minor": 0,
  "metadata": {
    "colab": {
      "name": "2588_곱셈.ipynb",
      "provenance": [],
      "collapsed_sections": []
    },
    "kernelspec": {
      "name": "python3",
      "display_name": "Python 3"
    },
    "language_info": {
      "name": "python"
    }
  },
  "cells": [
    {
      "cell_type": "code",
      "metadata": {
        "id": "DXMeMkxFoYhf"
      },
      "source": [
        "A = 472\n",
        "B = 385\n",
        "\n",
        "for i in str(B)[::-1]:\n",
        "    print(A*int(i))\n",
        "print(A* B)"
      ],
      "execution_count": null,
      "outputs": []
    },
    {
      "cell_type": "code",
      "metadata": {
        "colab": {
          "base_uri": "https://localhost:8080/"
        },
        "id": "cpXn3DiYhek6",
        "outputId": "2c7d38b4-b802-448d-b5d3-148c05f6fd02"
      },
      "source": [
        "A = 472\n",
        "B = 385\n",
        "\n",
        "print(A*(B%10))\n",
        "print(A*(B%100//10))\n",
        "print(A*(B%1000//100))\n",
        "print(A*B)"
      ],
      "execution_count": 58,
      "outputs": [
        {
          "output_type": "stream",
          "name": "stdout",
          "text": [
            "2360\n",
            "3776\n",
            "1416\n",
            "181720\n"
          ]
        }
      ]
    },
    {
      "cell_type": "code",
      "metadata": {
        "colab": {
          "base_uri": "https://localhost:8080/"
        },
        "id": "_hEu4is7qUDd",
        "outputId": "5c9ddcc9-a5a8-4823-94d5-8d15e5648ca0"
      },
      "source": [
        "A = 472\n",
        "B = str(385)\n",
        "\n",
        "print(A*int(B[-1]))\n",
        "print(A*int(B[-2]))\n",
        "print(A*int(B[0]))\n",
        "print(A*int(B))"
      ],
      "execution_count": 62,
      "outputs": [
        {
          "output_type": "stream",
          "name": "stdout",
          "text": [
            "2360\n",
            "3776\n",
            "1416\n",
            "181720\n"
          ]
        }
      ]
    },
    {
      "cell_type": "code",
      "metadata": {
        "id": "6RAVDVEDlfjl"
      },
      "source": [
        "import sys\n",
        "A,B = map(int, sys.stdin.readline().split())\n",
        "\n",
        "for i in str(B)[::-1]:\n",
        "    print(A*int(i))\n",
        "print(A* B)"
      ],
      "execution_count": null,
      "outputs": []
    },
    {
      "cell_type": "code",
      "metadata": {
        "id": "nS-PJdTCp8_z"
      },
      "source": [
        "import sys\n",
        "A,B = map(int, sys.stdin.readline().split())\n",
        "\n",
        "print(A*(B%10))\n",
        "print(A*(B%100//10))\n",
        "print(A*(B%1000//100))\n",
        "print(A*B)"
      ],
      "execution_count": null,
      "outputs": []
    },
    {
      "cell_type": "code",
      "metadata": {
        "colab": {
          "base_uri": "https://localhost:8080/"
        },
        "id": "pzKCVof0qn8w",
        "outputId": "4b3dad14-8586-4dfe-f6e2-610ee2321a75"
      },
      "source": [
        "A= int(input())\n",
        "B = input()\n",
        "\n",
        "print(A*int(B[-1]))\n",
        "print(A*int(B[-2]))\n",
        "print(A*int(B[0]))\n",
        "print(A*int(B))"
      ],
      "execution_count": 63,
      "outputs": [
        {
          "output_type": "stream",
          "name": "stdout",
          "text": [
            "472\n",
            "256\n",
            "2832\n",
            "2360\n",
            "944\n",
            "120832\n"
          ]
        }
      ]
    }
  ]
}