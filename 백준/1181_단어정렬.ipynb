{
  "nbformat": 4,
  "nbformat_minor": 0,
  "metadata": {
    "colab": {
      "name": "1181_단어정렬.ipynb",
      "provenance": [],
      "collapsed_sections": []
    },
    "kernelspec": {
      "name": "python3",
      "display_name": "Python 3"
    },
    "language_info": {
      "name": "python"
    }
  },
  "cells": [
    {
      "cell_type": "code",
      "metadata": {
        "id": "Ztm48rkGsnOt"
      },
      "source": [
        "id\n",
        "but\n",
        "i\n",
        "wont\n",
        "hesitate\n",
        "no\n",
        "more\n",
        "no\n",
        "more\n",
        "it\n",
        "cannot\n",
        "wait\n",
        "im\n",
        "yours"
      ],
      "execution_count": null,
      "outputs": []
    },
    {
      "cell_type": "code",
      "metadata": {
        "colab": {
          "base_uri": "https://localhost:8080/"
        },
        "id": "InAxCDO_vG2O",
        "outputId": "7fc44da5-8166-48f8-c5d4-90c1bdedb24d"
      },
      "source": [
        "arrays = ['id',\n",
        "'but',\n",
        "'i',\n",
        "'wont',\n",
        "'hesitate',\n",
        "'no',\n",
        "'more',\n",
        "'no',\n",
        "'more',\n",
        "'it',\n",
        "'cannot',\n",
        "'wait',\n",
        "'im',\n",
        "'yours']\n",
        "\n",
        "arrays = list(set(arrays))\n",
        "arrays.sort()\n",
        "arrays.sort(key= len)\n",
        "for i in arrays:\n",
        "    print(i)"
      ],
      "execution_count": 28,
      "outputs": [
        {
          "output_type": "stream",
          "text": [
            "i\n",
            "id\n",
            "im\n",
            "it\n",
            "no\n",
            "but\n",
            "more\n",
            "wait\n",
            "wont\n",
            "yours\n",
            "cannot\n",
            "hesitate\n"
          ],
          "name": "stdout"
        }
      ]
    },
    {
      "cell_type": "code",
      "metadata": {
        "colab": {
          "base_uri": "https://localhost:8080/"
        },
        "id": "lTpFwDh_wXEn",
        "outputId": "5ba480b1-c715-40c5-d7f1-1ea8b239fd01"
      },
      "source": [
        ""
      ],
      "execution_count": 24,
      "outputs": [
        {
          "output_type": "stream",
          "text": [
            "i\n",
            "d\n"
          ],
          "name": "stdout"
        }
      ]
    },
    {
      "cell_type": "code",
      "metadata": {
        "id": "7i4bhkTHxKmP"
      },
      "source": [
        "N = int(input())\n",
        "\n",
        "arrays = []\n",
        "\n",
        "for _ in range(N) : \n",
        "    arrays.append(str(input()))\n",
        "\n",
        "arrays = list(set(arrays))\n",
        "arrays.sort()\n",
        "arrays.sort(key= len)\n",
        "for i in arrays:\n",
        "    print(i)"
      ],
      "execution_count": null,
      "outputs": []
    }
  ]
}