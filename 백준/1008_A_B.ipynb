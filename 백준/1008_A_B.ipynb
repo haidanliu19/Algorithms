{
  "nbformat": 4,
  "nbformat_minor": 0,
  "metadata": {
    "colab": {
      "name": "1008_A/B.ipynb",
      "provenance": [],
      "collapsed_sections": []
    },
    "kernelspec": {
      "name": "python3",
      "display_name": "Python 3"
    },
    "language_info": {
      "name": "python"
    }
  },
  "cells": [
    {
      "cell_type": "code",
      "metadata": {
        "colab": {
          "base_uri": "https://localhost:8080/"
        },
        "id": "cpXn3DiYhek6",
        "outputId": "779e6d37-c6be-41e3-c318-e79647303d8d"
      },
      "source": [
        "A = 1\n",
        "B = 3\n",
        "print(A / B)"
      ],
      "execution_count": 7,
      "outputs": [
        {
          "output_type": "stream",
          "name": "stdout",
          "text": [
            "0.3333333333333333\n"
          ]
        }
      ]
    },
    {
      "cell_type": "code",
      "metadata": {
        "id": "A6qptDoyjCIn"
      },
      "source": [
        "import sys\n",
        "a,b = map(int, sys.stdin.readline().split())\n",
        "\n",
        "print(a/b)"
      ],
      "execution_count": null,
      "outputs": []
    }
  ]
}