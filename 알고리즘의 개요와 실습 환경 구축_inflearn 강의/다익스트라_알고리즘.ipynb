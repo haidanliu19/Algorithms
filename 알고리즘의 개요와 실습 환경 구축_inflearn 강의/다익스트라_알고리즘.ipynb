{
  "nbformat": 4,
  "nbformat_minor": 0,
  "metadata": {
    "colab": {
      "name": "다익스트라 알고리즘.ipynb",
      "provenance": [],
      "collapsed_sections": []
    },
    "kernelspec": {
      "name": "python3",
      "display_name": "Python 3"
    },
    "language_info": {
      "name": "python"
    }
  },
  "cells": [
    {
      "cell_type": "code",
      "metadata": {
        "colab": {
          "base_uri": "https://localhost:8080/"
        },
        "id": "EYUTV70LTXwk",
        "outputId": "eda68822-1fed-4fd2-b7e3-63d24f6008f9"
      },
      "source": [
        "number = 6\n",
        "INF = 1000000000 # int 은 약 21억 정도  무한으로 \n",
        "\n",
        "# 전체 그래프를 초기화합니다. \n",
        "a = [[0, 2, 5, 1, INF, INF],\n",
        "     [2,0,3,2,INF, INF],\n",
        "     [5,3,0,3,1,5],\n",
        "     [1,2,3,0,1,INF],\n",
        "     [INF,INF,1,1,0,2],\n",
        "     [INF,INF,5,INF,2,0]]\n",
        "v = [False]* 6 # 방문한 노드\n",
        "d = [0]* 6 # 최단 거리\n",
        "\n",
        "# 가장 최소 거리르 가지는 정점을 반환합니다.\n",
        "def getSamllIndex():\n",
        "    min = INF\n",
        "    index = 0\n",
        "    # 선형 탐색 \n",
        "    # 가장 쉽다 하지만 가장 효율적이지 않다.\n",
        "    for i in range(number):\n",
        "        if ((d[i] < min ) & (not v[i])):\n",
        "            min = d[i]\n",
        "            index = i\n",
        "    return index\n",
        "\n",
        "# 다익스트라를 수행하는 함수\n",
        "def dijkstra(start):\n",
        "    for i in range(number):\n",
        "        d[i] = a[start][i]\n",
        "    v[start]= True\n",
        "    for i in range(number-2):\n",
        "        current = getSamllIndex()\n",
        "        #print(i, current, d[current])\n",
        "        v[current] = True\n",
        "        for j in range(number):\n",
        "            if not v[j]:\n",
        "                # 합치는 것이 더 작은 값으로 갱신\n",
        "                # 1-> 4 비용이 1이고 \n",
        "                print(i, current, j)\n",
        "                if (d[current] + a[current][j] < d[j]):\n",
        "                    d[j]= d[current] + a[current][j] \n",
        "\n",
        "dijkstra(0)\n",
        "for i in range(number):\n",
        "    print(d[i], end =\",\")"
      ],
      "execution_count": 8,
      "outputs": [
        {
          "output_type": "stream",
          "name": "stdout",
          "text": [
            "0 3 1\n",
            "0 3 2\n",
            "0 3 4\n",
            "0 3 5\n",
            "1 1 2\n",
            "1 1 4\n",
            "1 1 5\n",
            "2 4 2\n",
            "2 4 5\n",
            "3 2 5\n",
            "0,2,3,1,2,4,"
          ]
        }
      ]
    },
    {
      "cell_type": "markdown",
      "metadata": {
        "id": "DaSvUQVZ7Odp"
      },
      "source": [
        "# 힙 사용"
      ]
    },
    {
      "cell_type": "code",
      "metadata": {
        "id": "CEhSIyEo6uwK"
      },
      "source": [
        "import heapq\n",
        "number = 6\n",
        "INF = 1000000000 # int 은 약 21억 정도  무한으로 \n",
        "a = [0] * (number+1) #간선 정보\n",
        "d = [0] * (number+1) # 최소비용\n",
        "\n",
        "def dijkstra(start):\n",
        "    d[start] = 0\n",
        "    #힙구조\n",
        "    #가까운 순서대로 처리하므로 큐를 사용합니다. "
      ],
      "execution_count": null,
      "outputs": []
    },
    {
      "cell_type": "code",
      "metadata": {
        "colab": {
          "base_uri": "https://localhost:8080/"
        },
        "id": "DSsN7lAD70zS",
        "outputId": "a01a0955-19aa-4436-b34e-617c8c8ca099"
      },
      "source": [
        "#https://justkode.kr/algorithm/python-dijkstra\n",
        "graph = {\n",
        "    1: {2: 2, 3: 5, 4: 1},\n",
        "    2: {1: 2, 3: 3, 4: 2},\n",
        "    3: {1: 5, 2: 3, 4: 3, 5: 1, 6: 5},\n",
        "    4: {1: 1, 2: 2, 3: 3, 5: 1},\n",
        "    5: {3: 1, 4: 1, 6: 2},\n",
        "    6: {3: 5, 5: 2}\n",
        "}\n",
        "\n",
        "import heapq  # 우선순위 큐 구현을 위함\n",
        "\n",
        "def dijkstra(graph, start):\n",
        "  distances = {node: float('inf') for node in graph}  # start로 부터의 거리 값을 저장하기 위함\n",
        "  distances[start] = 0  # 시작 값은 0이어야 함\n",
        "  queue = []\n",
        "  # 힙구조\n",
        "  heapq.heappush(queue, [distances[start], start])  # 시작 노드부터 탐색 시작 하기 위함.\n",
        "\n",
        "  # 가까운 순서대로 처리하므로 큐를 사용\n",
        "  while queue:  # queue에 남아 있는 노드가 없으면 끝\n",
        "    current_distance, current_destination = heapq.heappop(queue)  # 탐색 할 노드, 거리를 가져옴.\n",
        "\n",
        "    # 최단거리가 아닐 경우 skip\n",
        "    # 갱신이 된 상태 \n",
        "    if distances[current_destination] < current_distance:  # 기존에 있는 거리보다 길다면, 볼 필요도 없음\n",
        "      continue\n",
        "    \n",
        "    for new_destination, new_distance in graph[current_destination].items():\n",
        "      distance = current_distance + new_distance  # 해당 노드를 거쳐 갈 때 거리\n",
        "      if distance < distances[new_destination]:  # 알고 있는 거리 보다 작으면 갱신\n",
        "        distances[new_destination] = distance\n",
        "        heapq.heappush(queue, [distance, new_destination])  # 다음 인접 거리를 계산 하기 위해 큐에 삽입\n",
        "    \n",
        "  return distances\n",
        "\n",
        "print(dijkstra(graph, 1))"
      ],
      "execution_count": null,
      "outputs": [
        {
          "output_type": "stream",
          "name": "stdout",
          "text": [
            "{1: 0, 2: 2, 3: 3, 4: 1, 5: 2, 6: 4}\n"
          ]
        }
      ]
    },
    {
      "cell_type": "code",
      "metadata": {
        "id": "jVmqAZGX705P"
      },
      "source": [
        ""
      ],
      "execution_count": null,
      "outputs": []
    }
  ]
}