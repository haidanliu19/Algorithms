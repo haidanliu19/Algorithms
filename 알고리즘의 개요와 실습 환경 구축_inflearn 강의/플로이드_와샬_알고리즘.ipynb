{
  "nbformat": 4,
  "nbformat_minor": 0,
  "metadata": {
    "colab": {
      "name": "플로이드 와샬 알고리즘.ipynb",
      "provenance": [],
      "collapsed_sections": []
    },
    "kernelspec": {
      "name": "python3",
      "display_name": "Python 3"
    },
    "language_info": {
      "name": "python"
    }
  },
  "cells": [
    {
      "cell_type": "code",
      "metadata": {
        "colab": {
          "base_uri": "https://localhost:8080/"
        },
        "id": "ien0LgN7pDni",
        "outputId": "c2f3a2d0-cdb1-4fbe-b638-f9f367086366"
      },
      "source": [
        "number = 4\n",
        "INF = 100000000\n",
        "\n",
        "a= [[0,5,INF,8],\n",
        "    [7,0,9,INF],\n",
        "    [2,INF,0,4],\n",
        "    [INF,INF,3,0]]\n",
        "\n",
        "def floydWarshall():\n",
        "    d = [[0]* number for _ in range(number)]  # 같은 값 복사\n",
        "    for i in range(number):\n",
        "        for j in range(number):\n",
        "            d[i][j] = a[i][j]\n",
        "\n",
        "    # k = 거쳐가는 노드\n",
        "    # k가 1일 경우 \n",
        "    # 2->3 2->1->3\n",
        "    for k in range(number):\n",
        "        #i는 출발 노드\n",
        "        for i in range(number):\n",
        "            # j 도착 노드\n",
        "            for j in range(number):\n",
        "                if (d[i][k] + d[k][j] < d[i][j]):\n",
        "                    d[i][j]= d[i][k] + d[k][j]\n",
        "\n",
        "    for i in range(number):\n",
        "        for j in range(number):\n",
        "            print(d[i][j], end =\",\")\n",
        "        print()\n",
        "\n",
        "floydWarshall()"
      ],
      "execution_count": 5,
      "outputs": [
        {
          "output_type": "stream",
          "name": "stdout",
          "text": [
            "0,5,11,8,\n",
            "7,0,9,13,\n",
            "2,7,0,4,\n",
            "5,10,3,0,\n"
          ]
        }
      ]
    },
    {
      "cell_type": "code",
      "metadata": {
        "id": "02nLXqjqOC7z"
      },
      "source": [
        ""
      ],
      "execution_count": 5,
      "outputs": []
    }
  ]
}