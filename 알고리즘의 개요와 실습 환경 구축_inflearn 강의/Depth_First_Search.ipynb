{
  "nbformat": 4,
  "nbformat_minor": 0,
  "metadata": {
    "colab": {
      "name": "Depth First Search.ipynb",
      "provenance": [],
      "collapsed_sections": []
    },
    "kernelspec": {
      "name": "python3",
      "display_name": "Python 3"
    },
    "language_info": {
      "name": "python"
    }
  },
  "cells": [
    {
      "cell_type": "markdown",
      "metadata": {
        "id": "lFlYE7uYps5W"
      },
      "source": [
        "재귀 함수"
      ]
    },
    {
      "cell_type": "code",
      "metadata": {
        "colab": {
          "base_uri": "https://localhost:8080/"
        },
        "id": "TmBSyrGdpsQS",
        "outputId": "824b8d18-f8f3-4d56-c409-1cb2c51a59e0"
      },
      "source": [
        "from collections import deque\n",
        "\n",
        "number = 7\n",
        "checked = [False] * 8 # 방문 처리\n",
        "graph_list = {1: set([2,3]),\n",
        "              2: set([1,3, 4, 5]),\n",
        "              3: set([1,2, 6, 7]),\n",
        "              4: set([2,5]),\n",
        "              5: set([2,4]),\n",
        "              6: set([3,7]),\n",
        "              7: set([3,6])}\n",
        "\n",
        "def dfs(start):\n",
        "    if checked[start]: return\n",
        "    checked[start] = True\n",
        "    stack = deque([start])\n",
        "    while stack:\n",
        "        x = stack.pop()\n",
        "        print(x , end = \" \")\n",
        "        for n in graph_list[x]:\n",
        "            dfs(n)\n",
        "                \n",
        "dfs(1)"
      ],
      "execution_count": 31,
      "outputs": [
        {
          "output_type": "stream",
          "name": "stdout",
          "text": [
            "1 2 3 6 7 4 5 "
          ]
        }
      ]
    },
    {
      "cell_type": "code",
      "metadata": {
        "colab": {
          "base_uri": "https://localhost:8080/"
        },
        "id": "Jp_tqgcL0uPP",
        "outputId": "24ff6201-4592-44ad-d875-6233d621f1ae"
      },
      "source": [
        "from collections import deque\n",
        "\n",
        "number = 7\n",
        "checked = [False] * 8 # 방문 처리\n",
        "def dfs(graph_list,start):\n",
        "\n",
        "    checked[start] = True\n",
        "    stack = deque([start])\n",
        "    while stack:\n",
        "        x = stack.pop()\n",
        "        print(x , end = \" \")\n",
        "        for n in graph_list[x]:\n",
        "            if not checked[n]:\n",
        "                stack.extend([n])\n",
        "                checked[n] = True\n",
        "                \n",
        "\n",
        "graph_list = {1: set([2,3]),\n",
        "              2: set([1,3, 4, 5]),\n",
        "              3: set([1,2, 6, 7]),\n",
        "              4: set([2,5]),\n",
        "              5: set([2,4]),\n",
        "              6: set([3,7]),\n",
        "              7: set([3,6])}\n",
        "dfs(graph_list,1)"
      ],
      "execution_count": 34,
      "outputs": [
        {
          "output_type": "stream",
          "name": "stdout",
          "text": [
            "1 3 7 6 2 5 4 "
          ]
        }
      ]
    },
    {
      "cell_type": "code",
      "metadata": {
        "colab": {
          "base_uri": "https://localhost:8080/"
        },
        "id": "05TgOd6qopHR",
        "outputId": "bfcd99ac-fbab-4b33-d154-3af302be385b"
      },
      "source": [
        "def dfs(graph, start_node):\n",
        "    visit = list()\n",
        "    stack = list()\n",
        "\n",
        "    stack.append(start_node)\n",
        "\n",
        "    while stack:\n",
        "        node = stack.pop()\n",
        "        if node not in visit:\n",
        "            visit.append(node)\n",
        "            stack.extend(graph[node])\n",
        "\n",
        "    return visit\n",
        "graph_list = {1: set([2,3]),\n",
        "              2: set([1,3, 4, 5]),\n",
        "              3: set([1,2, 6, 7]),\n",
        "              4: set([2,5]),\n",
        "              5: set([2,4]),\n",
        "              6: set([3,7]),\n",
        "              7: set([3,6])}\n",
        "dfs(graph_list,1)\n",
        "# https://itholic.github.io/python-bfs-dfs/"
      ],
      "execution_count": 29,
      "outputs": [
        {
          "output_type": "execute_result",
          "data": {
            "text/plain": [
              "[1, 3, 7, 6, 2, 5, 4]"
            ]
          },
          "metadata": {},
          "execution_count": 29
        }
      ]
    },
    {
      "cell_type": "code",
      "metadata": {
        "id": "xWT2gQCm-7M0",
        "colab": {
          "base_uri": "https://localhost:8080/"
        },
        "outputId": "d939e0b6-5efe-452c-ee15-13077cf61ce3"
      },
      "source": [
        "def dfs(graph, start_node):\n",
        " \n",
        "    ## 기본은 항상 두개의 리스트를 별도로 관리해주는 것\n",
        "    need_visited, visited = list(), list()\n",
        " \n",
        "    ## 시작 노드를 시정하기 \n",
        "    need_visited.append(start_node)\n",
        "    \n",
        "    ## 만약 아직도 방문이 필요한 노드가 있다면,\n",
        "    while need_visited:\n",
        " \n",
        "        ## 그 중에서 가장 마지막 데이터를 추출 (스택 구조의 활용)\n",
        "        node = need_visited.pop()\n",
        "        \n",
        "        ## 만약 그 노드가 방문한 목록에 없다면\n",
        "        if node not in visited:\n",
        " \n",
        "            ## 방문한 목록에 추가하기 \n",
        "            visited.append(node)\n",
        " \n",
        "            ## 그 노드에 연결된 노드를 \n",
        "            need_visited.extend(graph[node])\n",
        "            \n",
        "    return visited\n",
        "\n",
        "graph_list = {1: set([2,3]),\n",
        "              2: set([1,3, 4, 5]),\n",
        "              3: set([1,2, 6, 7]),\n",
        "              4: set([2,5]),\n",
        "              5: set([2,4]),\n",
        "              6: set([3,7]),\n",
        "              7: set([3,6])}\n",
        "dfs(graph_list,1)"
      ],
      "execution_count": 30,
      "outputs": [
        {
          "output_type": "execute_result",
          "data": {
            "text/plain": [
              "[1, 3, 7, 6, 2, 5, 4]"
            ]
          },
          "metadata": {},
          "execution_count": 30
        }
      ]
    }
  ]
}