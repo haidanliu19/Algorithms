{
  "nbformat": 4,
  "nbformat_minor": 0,
  "metadata": {
    "colab": {
      "name": "sort_sorted.ipynb",
      "provenance": [],
      "collapsed_sections": []
    },
    "kernelspec": {
      "name": "python3",
      "display_name": "Python 3"
    },
    "language_info": {
      "name": "python"
    }
  },
  "cells": [
    {
      "cell_type": "code",
      "metadata": {
        "colab": {
          "base_uri": "https://localhost:8080/"
        },
        "id": "Ks2pEl6EPZL0",
        "outputId": "744c97b5-1d05-4f06-8424-73571cda6524"
      },
      "source": [
        "_list = [7,6,5,2,3,4,1]\n",
        "_list.sort()\n",
        "_list"
      ],
      "execution_count": 3,
      "outputs": [
        {
          "output_type": "execute_result",
          "data": {
            "text/plain": [
              "[1, 2, 3, 4, 5, 6, 7]"
            ]
          },
          "metadata": {
            "tags": []
          },
          "execution_count": 3
        }
      ]
    },
    {
      "cell_type": "code",
      "metadata": {
        "colab": {
          "base_uri": "https://localhost:8080/"
        },
        "id": "ix6t-bztPzmo",
        "outputId": "ac466523-85dc-4029-c420-fa1b664e9261"
      },
      "source": [
        "_list = [7,6,5,2,3,4,1]\n",
        "_list.sort(reverse=True)\n",
        "_list"
      ],
      "execution_count": 7,
      "outputs": [
        {
          "output_type": "execute_result",
          "data": {
            "text/plain": [
              "[7, 6, 5, 4, 3, 2, 1]"
            ]
          },
          "metadata": {
            "tags": []
          },
          "execution_count": 7
        }
      ]
    },
    {
      "cell_type": "code",
      "metadata": {
        "colab": {
          "base_uri": "https://localhost:8080/"
        },
        "id": "JtgAdHlPP1-F",
        "outputId": "9966a2e5-15e1-4b27-bb47-71f78c56975c"
      },
      "source": [
        "_list = [7,6,5,2,3,4,1]\n",
        "_list.sort(reverse=False)\n",
        "_list"
      ],
      "execution_count": 8,
      "outputs": [
        {
          "output_type": "execute_result",
          "data": {
            "text/plain": [
              "[1, 2, 3, 4, 5, 6, 7]"
            ]
          },
          "metadata": {
            "tags": []
          },
          "execution_count": 8
        }
      ]
    },
    {
      "cell_type": "code",
      "metadata": {
        "colab": {
          "base_uri": "https://localhost:8080/"
        },
        "id": "vBdU_OfBPoTY",
        "outputId": "ecaa0f72-7c34-4c14-efe6-38b9ec638b2b"
      },
      "source": [
        "_list = [7,6,5,2,3,4,1]\n",
        "sorted(_list)\n",
        "_list"
      ],
      "execution_count": 5,
      "outputs": [
        {
          "output_type": "execute_result",
          "data": {
            "text/plain": [
              "[7, 6, 5, 2, 3, 4, 1]"
            ]
          },
          "metadata": {
            "tags": []
          },
          "execution_count": 5
        }
      ]
    },
    {
      "cell_type": "code",
      "metadata": {
        "colab": {
          "base_uri": "https://localhost:8080/"
        },
        "id": "UPzL0o8wP_uI",
        "outputId": "7f647b31-0577-44ab-e408-493d54fa9189"
      },
      "source": [
        "_list = [7,6,5,2,3,4,1]\n",
        "_list.sort()\n",
        "_list[::-1]"
      ],
      "execution_count": 14,
      "outputs": [
        {
          "output_type": "execute_result",
          "data": {
            "text/plain": [
              "[7, 6, 5, 4, 3, 2, 1]"
            ]
          },
          "metadata": {
            "tags": []
          },
          "execution_count": 14
        }
      ]
    },
    {
      "cell_type": "code",
      "metadata": {
        "colab": {
          "base_uri": "https://localhost:8080/"
        },
        "id": "olrHkWZEPrsg",
        "outputId": "183727e0-e846-436a-db0e-6869152df430"
      },
      "source": [
        "_list = [7,6,5,2,3,4,1]\n",
        "_list = sorted(_list)\n",
        "_list"
      ],
      "execution_count": 6,
      "outputs": [
        {
          "output_type": "execute_result",
          "data": {
            "text/plain": [
              "[1, 2, 3, 4, 5, 6, 7]"
            ]
          },
          "metadata": {
            "tags": []
          },
          "execution_count": 6
        }
      ]
    },
    {
      "cell_type": "code",
      "metadata": {
        "colab": {
          "base_uri": "https://localhost:8080/"
        },
        "id": "rVsy5aYYP38A",
        "outputId": "3a99b4a8-b514-46b9-8860-c288395d925c"
      },
      "source": [
        "_list = [7,6,5,2,3,4,1]\n",
        "_list = sorted(_list,reverse=True)\n",
        "_list"
      ],
      "execution_count": 9,
      "outputs": [
        {
          "output_type": "execute_result",
          "data": {
            "text/plain": [
              "[7, 6, 5, 4, 3, 2, 1]"
            ]
          },
          "metadata": {
            "tags": []
          },
          "execution_count": 9
        }
      ]
    },
    {
      "cell_type": "code",
      "metadata": {
        "colab": {
          "base_uri": "https://localhost:8080/"
        },
        "id": "SboD_FmgQK6_",
        "outputId": "afdd8e1e-4520-42ee-9c93-b23aee9d4887"
      },
      "source": [
        "_list = [7,6,5,2,3,4,1]\n",
        "_list = sorted(_list)[::-1]\n",
        "_list"
      ],
      "execution_count": 15,
      "outputs": [
        {
          "output_type": "execute_result",
          "data": {
            "text/plain": [
              "[7, 6, 5, 4, 3, 2, 1]"
            ]
          },
          "metadata": {
            "tags": []
          },
          "execution_count": 15
        }
      ]
    },
    {
      "cell_type": "code",
      "metadata": {
        "colab": {
          "base_uri": "https://localhost:8080/"
        },
        "id": "pM8xpr-IP7Q9",
        "outputId": "654b80c9-1ee5-4bb7-96f7-4a63d51388b3"
      },
      "source": [
        "_list = [7,6,5,2,3,4,1]\n",
        "_list = sorted(_list,reverse=False)\n",
        "_list"
      ],
      "execution_count": 10,
      "outputs": [
        {
          "output_type": "execute_result",
          "data": {
            "text/plain": [
              "[1, 2, 3, 4, 5, 6, 7]"
            ]
          },
          "metadata": {
            "tags": []
          },
          "execution_count": 10
        }
      ]
    }
  ]
}