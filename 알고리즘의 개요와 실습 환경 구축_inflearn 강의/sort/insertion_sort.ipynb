{
  "nbformat": 4,
  "nbformat_minor": 0,
  "metadata": {
    "colab": {
      "name": "Insertion_sort.ipynb",
      "provenance": [],
      "collapsed_sections": []
    },
    "kernelspec": {
      "name": "python3",
      "display_name": "Python 3"
    },
    "language_info": {
      "name": "python"
    }
  },
  "cells": [
    {
      "cell_type": "code",
      "metadata": {
        "colab": {
          "base_uri": "https://localhost:8080/"
        },
        "id": "2z-xGBAJ3GHy",
        "outputId": "1e772cbf-a5c1-464a-eed7-cbfe22dcb2d6"
      },
      "source": [
        "array = [1, 10, 5, 8,7, 6, 4, 3, 2,9]\n",
        "for i in range(len(array)-1):\n",
        "    j = i # 현재 원소를 설정해서 적절한 위치 삽입할 수 있도록 한다.\n",
        "    while array[j] > array[j+1]:\n",
        "        temp = array[j]\n",
        "        array[j] = array[j+1]\n",
        "        array[j+1] = temp\n",
        "        j-= 1\n",
        "    print(array)"
      ],
      "execution_count": null,
      "outputs": [
        {
          "output_type": "stream",
          "text": [
            "[1, 10, 5, 8, 7, 6, 4, 3, 2, 9]\n",
            "[1, 5, 10, 8, 7, 6, 4, 3, 2, 9]\n",
            "[1, 5, 8, 10, 7, 6, 4, 3, 2, 9]\n",
            "[1, 5, 7, 8, 10, 6, 4, 3, 2, 9]\n",
            "[1, 5, 6, 7, 8, 10, 4, 3, 2, 9]\n",
            "[1, 4, 5, 6, 7, 8, 10, 3, 2, 9]\n",
            "[1, 3, 4, 5, 6, 7, 8, 10, 2, 9]\n",
            "[1, 2, 3, 4, 5, 6, 7, 8, 10, 9]\n",
            "[1, 2, 3, 4, 5, 6, 7, 8, 9, 10]\n"
          ],
          "name": "stdout"
        }
      ]
    },
    {
      "cell_type": "code",
      "metadata": {
        "colab": {
          "base_uri": "https://localhost:8080/"
        },
        "id": "4rUU6HoI5FVV",
        "outputId": "7ca79b5b-ad45-4829-d909-7f61a3949f83"
      },
      "source": [
        "%%timeit\n",
        "\n",
        "array = [1, 10, 5, 8,7, 6, 4, 3, 2,9]\n",
        "def insertion_sort(array):\n",
        "    for i in range(len(array)-1):\n",
        "        j = i # 현재 원소를 설정해서 적절한 위치 삽입할 수 있도록 한다.\n",
        "        while array[j] > array[j+1]:\n",
        "            temp = array[j]\n",
        "            array[j] = array[j+1]\n",
        "            array[j+1] = temp\n",
        "            j-= 1\n",
        "    return array\n",
        "\n",
        "insertion_sort(array)"
      ],
      "execution_count": null,
      "outputs": [
        {
          "output_type": "stream",
          "text": [
            "100000 loops, best of 5: 9.58 µs per loop\n"
          ],
          "name": "stdout"
        }
      ]
    },
    {
      "cell_type": "code",
      "metadata": {
        "colab": {
          "base_uri": "https://localhost:8080/"
        },
        "id": "GIJvlPN2EIpi",
        "outputId": "53f61dff-4d94-47f8-bdbf-5edf971fec50"
      },
      "source": [
        "%%timeit\n",
        "\n",
        "array = [2,3,4, 5,6,7,8,9,10,1]\n",
        "def insertion_sort(array):\n",
        "    for i in range(len(array)-1):\n",
        "        j = i # 현재 원소를 설정해서 적절한 위치 삽입할 수 있도록 한다.\n",
        "        while (array[j] > array[j+1]) and  (j>-1):\n",
        "            array[j+1], array[j]  = array[j],array[j+1]\n",
        "            j-= 1\n",
        "    return array\n",
        "\n",
        "insertion_sort(array)"
      ],
      "execution_count": 41,
      "outputs": [
        {
          "output_type": "stream",
          "text": [
            "100000 loops, best of 5: 4.74 µs per loop\n"
          ],
          "name": "stdout"
        }
      ]
    }
  ]
}