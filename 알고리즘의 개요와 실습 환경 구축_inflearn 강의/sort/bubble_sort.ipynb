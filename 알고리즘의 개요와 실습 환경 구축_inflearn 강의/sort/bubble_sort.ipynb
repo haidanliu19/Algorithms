{
  "nbformat": 4,
  "nbformat_minor": 0,
  "metadata": {
    "colab": {
      "name": "Bubble_sort.ipynb",
      "provenance": [],
      "collapsed_sections": []
    },
    "kernelspec": {
      "name": "python3",
      "display_name": "Python 3"
    },
    "language_info": {
      "name": "python"
    }
  },
  "cells": [
    {
      "cell_type": "code",
      "metadata": {
        "colab": {
          "base_uri": "https://localhost:8080/"
        },
        "id": "2z-xGBAJ3GHy",
        "outputId": "df06420e-7167-4830-cf3c-84f46fc08cb8"
      },
      "source": [
        "array = [1, 10, 5, 8,7, 6, 4, 3, 2,9]\n",
        "for i in range(10):\n",
        "    for j in range(9-i):\n",
        "        if array[j] > array[j+1]:\n",
        "            temp = array[j]\n",
        "            array[j]= array[j+1]\n",
        "            array[j+1] = temp\n",
        "    print(array)"
      ],
      "execution_count": 1,
      "outputs": [
        {
          "output_type": "stream",
          "text": [
            "[1, 5, 8, 7, 6, 4, 3, 2, 9, 10]\n",
            "[1, 5, 7, 6, 4, 3, 2, 8, 9, 10]\n",
            "[1, 5, 6, 4, 3, 2, 7, 8, 9, 10]\n",
            "[1, 5, 4, 3, 2, 6, 7, 8, 9, 10]\n",
            "[1, 4, 3, 2, 5, 6, 7, 8, 9, 10]\n",
            "[1, 3, 2, 4, 5, 6, 7, 8, 9, 10]\n",
            "[1, 2, 3, 4, 5, 6, 7, 8, 9, 10]\n",
            "[1, 2, 3, 4, 5, 6, 7, 8, 9, 10]\n",
            "[1, 2, 3, 4, 5, 6, 7, 8, 9, 10]\n",
            "[1, 2, 3, 4, 5, 6, 7, 8, 9, 10]\n"
          ],
          "name": "stdout"
        }
      ]
    },
    {
      "cell_type": "code",
      "metadata": {
        "colab": {
          "base_uri": "https://localhost:8080/"
        },
        "id": "4rUU6HoI5FVV",
        "outputId": "1c9819f9-1753-49c9-eb9f-81f37e78b207"
      },
      "source": [
        "%%timeit\n",
        "\n",
        "array = [1, 10, 5, 8,7, 6, 4, 3, 2,9]\n",
        "def bubble_sort(array):\n",
        "    for i in range(len(array)):\n",
        "        for j in range(len(array)-1-i):\n",
        "            if array[j] > array[j+1]:\n",
        "                temp = array[j]\n",
        "                array[j]= array[j+1]\n",
        "                array[j+1] = temp\n",
        "    return array\n",
        "\n",
        "bubble_sort(array)"
      ],
      "execution_count": 4,
      "outputs": [
        {
          "output_type": "stream",
          "text": [
            "100000 loops, best of 5: 13.6 µs per loop\n"
          ],
          "name": "stdout"
        }
      ]
    }
  ]
}