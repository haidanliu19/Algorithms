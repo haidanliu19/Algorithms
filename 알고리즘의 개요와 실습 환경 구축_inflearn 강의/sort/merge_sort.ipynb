{
  "nbformat": 4,
  "nbformat_minor": 0,
  "metadata": {
    "colab": {
      "name": "merge_sort.ipynb",
      "provenance": [],
      "collapsed_sections": []
    },
    "kernelspec": {
      "name": "python3",
      "display_name": "Python 3"
    },
    "language_info": {
      "name": "python"
    }
  },
  "cells": [
    {
      "cell_type": "code",
      "metadata": {
        "colab": {
          "base_uri": "https://localhost:8080/"
        },
        "id": "BtlAhHArxuLb",
        "outputId": "2b9944b2-13e2-474f-dd09-a8dc8543894c"
      },
      "source": [
        "import numpy as np\n",
        "'''\n",
        "low -> m\n",
        "mid -> middle\n",
        "high -> n\n",
        "''' \n",
        "def merge(arr, low, mid, high):\n",
        "    # 반드시 전역 변수로 만들어야 한다. 추가적인 배열이 필요하다.\n",
        "    # 불필요한 메모리 최소화 시킨다.\n",
        "    temp = []\n",
        "    l, h = low, mid\n",
        "\n",
        "    # 작은 순서 대로 배열에 삽입\n",
        "    while l < mid and h < high:\n",
        "        if arr[l] < arr[h]:\n",
        "            temp.append(arr[l])\n",
        "            l += 1\n",
        "        else:\n",
        "            temp.append(arr[h])\n",
        "            h += 1\n",
        "\n",
        "    # 남은 데이터 도 삽입\n",
        "    while l < mid:\n",
        "        temp.append(arr[l])\n",
        "        l += 1\n",
        "    while h < high:\n",
        "        temp.append(arr[h])\n",
        "        h += 1\n",
        "\n",
        "    # 정렬된 배열을 삽입\n",
        "    print(low, high , arr,temp)\n",
        "    for i in range(low, high):\n",
        "        arr[i] = temp[i - low]\n",
        "\n",
        "    return arr\n",
        "\n",
        "def sort(arr, low, high):\n",
        "    # 크기가 1보다 큰 경우 재귀함수\n",
        "    if high - low < 2:\n",
        "        return\n",
        "    mid = (low + high) //2\n",
        "    print(mid)\n",
        "    sort(arr, low, mid)\n",
        "    sort(arr, mid, high)\n",
        "    merge(arr, low, mid, high)\n",
        "    return arr\n",
        "arr = [7,6,5,8,3,5,9,2]\n",
        "arr = sort(arr, 0, len(arr))\n",
        "print(arr)"
      ],
      "execution_count": 15,
      "outputs": [
        {
          "output_type": "stream",
          "text": [
            "4\n",
            "2\n",
            "1\n",
            "0 2 [7, 6, 5, 8, 3, 5, 9, 2] [6, 7]\n",
            "3\n",
            "2 4 [6, 7, 5, 8, 3, 5, 9, 2] [5, 8]\n",
            "0 4 [6, 7, 5, 8, 3, 5, 9, 2] [5, 6, 7, 8]\n",
            "6\n",
            "5\n",
            "4 6 [5, 6, 7, 8, 3, 5, 9, 2] [3, 5]\n",
            "7\n",
            "6 8 [5, 6, 7, 8, 3, 5, 9, 2] [2, 9]\n",
            "4 8 [5, 6, 7, 8, 3, 5, 2, 9] [2, 3, 5, 9]\n",
            "0 8 [5, 6, 7, 8, 2, 3, 5, 9] [2, 3, 5, 5, 6, 7, 8, 9]\n",
            "[2, 3, 5, 5, 6, 7, 8, 9]\n"
          ],
          "name": "stdout"
        }
      ]
    },
    {
      "cell_type": "code",
      "metadata": {
        "colab": {
          "base_uri": "https://localhost:8080/"
        },
        "id": "X-Dv7nHh4mF1",
        "outputId": "07b5430d-9ba4-45dc-9ae3-a2e49c619485"
      },
      "source": [
        "#https://www.daleseo.com/sort-merge/\n",
        "def merge_sort(arr):\n",
        "    def sort(low, high):\n",
        "        if high - low < 2:\n",
        "            return\n",
        "        mid = (low + high) // 2\n",
        "        sort(low, mid)\n",
        "        sort(mid, high)\n",
        "        merge(low, mid, high)\n",
        "\n",
        "    def merge(low, mid, high):\n",
        "        temp = []\n",
        "        l, h = low, mid\n",
        "\n",
        "        while l < mid and h < high:\n",
        "            if arr[l] < arr[h]:\n",
        "                temp.append(arr[l])\n",
        "                l += 1\n",
        "            else:\n",
        "                temp.append(arr[h])\n",
        "                h += 1\n",
        "\n",
        "        while l < mid:\n",
        "            temp.append(arr[l])\n",
        "            l += 1\n",
        "        while h < high:\n",
        "            temp.append(arr[h])\n",
        "            h += 1\n",
        "\n",
        "        for i in range(low, high):\n",
        "            arr[i] = temp[i - low]\n",
        "\n",
        "    return sort(0, len(arr))\n",
        "\n",
        "arr = [7,6,5,8,3,5,9,2]\n",
        "merge_sort(arr)\n",
        "print(arr)"
      ],
      "execution_count": null,
      "outputs": [
        {
          "output_type": "stream",
          "text": [
            "[2, 3, 5, 5, 6, 7, 8, 9]\n"
          ],
          "name": "stdout"
        }
      ]
    }
  ]
}