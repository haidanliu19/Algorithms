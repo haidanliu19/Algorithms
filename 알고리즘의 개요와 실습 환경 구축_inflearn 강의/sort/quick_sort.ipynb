{
  "nbformat": 4,
  "nbformat_minor": 0,
  "metadata": {
    "colab": {
      "name": "quick_sort.ipynb",
      "provenance": [],
      "collapsed_sections": []
    },
    "kernelspec": {
      "name": "python3",
      "display_name": "Python 3"
    },
    "language_info": {
      "name": "python"
    }
  },
  "cells": [
    {
      "cell_type": "markdown",
      "metadata": {
        "id": "s2piTK1WyY3i"
      },
      "source": [
        "소스를 깔끔하게 하기 위해서 재귀함수를 사용할 경우가 많다."
      ]
    },
    {
      "cell_type": "code",
      "metadata": {
        "id": "7PHbbFasqp66",
        "colab": {
          "base_uri": "https://localhost:8080/"
        },
        "outputId": "d58bc8aa-e77b-4d40-dcb6-719d4e9c4b7e"
      },
      "source": [
        "%%timeit\n",
        "\n",
        "data = [1,10,5,8,7,6,4,3,2,9]\n",
        "\n",
        "def quickSort(data, start, end):\n",
        "    # start정렬을 시작하는 첫번째\n",
        "    # end 마지막\n",
        "    if (start >= end) : # 원소가 한개인 경우\n",
        "        return \n",
        "    \n",
        "    # pivot 정한다.\n",
        "    key = start#첫번째 값 설정\n",
        "    i = start + 1 # 왼쪽 부터 찾을 때 이동하면 index\n",
        "    j = end # 마지막 값\n",
        "    # temp # 임시 자리 \n",
        "\n",
        "    # 엇갈릴 때 까지 반복 \n",
        "    # 엇갈리면 탈출\n",
        "    while (i <= j): \n",
        "        # 키 값 보다 큰 값 까지 반복\n",
        "        while ((i <= end) and (data[i] <= data[key])):\n",
        "            i+=1\n",
        "        # 키 값보다 작은 값 까지 반복\n",
        "        # j > start 엇갈렸을 때 교체를 하기 위해서 \n",
        "        while ((data[j] >= data[key]) and ( j > start)):\n",
        "            j -= 1 \n",
        "            \n",
        "        if (i > j): # 현재 엇갈린 상태면 키 값과 교체\n",
        "            data[key], data[j] = data[j], data[key]\n",
        "        else:# 엇갈리지 않았다면 \n",
        "            data[j], data[i] = data[i], data[j]\n",
        "\n",
        "    # 왼쪽과 오른쪽에서 다시 quick 정렬 수행한다.\n",
        "    # 재귀 방식으로 \n",
        "    quickSort(data, start, j-1) # 7 5 4 6 부분\n",
        "    quickSort(data, j+1, end) # 10 9 부분\n",
        "\n",
        "    return data\n",
        "\n",
        "data1= quickSort(data, 0, len(data) - 1)"
      ],
      "execution_count": null,
      "outputs": [
        {
          "output_type": "stream",
          "text": [
            "100000 loops, best of 5: 14 µs per loop\n"
          ],
          "name": "stdout"
        }
      ]
    },
    {
      "cell_type": "code",
      "metadata": {
        "id": "fcEUnG8j7rAI",
        "colab": {
          "base_uri": "https://localhost:8080/"
        },
        "outputId": "de2c5e18-2712-4b33-fcf4-91b64def1539"
      },
      "source": [
        "%%timeit\n",
        "\n",
        "data = [1,2,3,4,5,6,7,8,9,10]\n",
        "\n",
        "def quickSort(data, start, end):\n",
        "    # start정렬을 시작하는 첫번째\n",
        "    # end 마지막\n",
        "    if (start >= end) : # 원소가 한개인 경우\n",
        "        return \n",
        "    \n",
        "    # pivot 정한다.\n",
        "    key = start#첫번째 값 설정\n",
        "    i = start + 1 # 왼쪽 부터 찾을 때 이동하면 index\n",
        "    j = end # 마지막 값\n",
        "    # temp # 임시 자리 \n",
        "\n",
        "    # 엇갈릴 때 까지 반복 \n",
        "    # 엇갈리면 탈출\n",
        "    while (i <= j): \n",
        "        # 키 값 보다 큰 값 까지 반복\n",
        "        while ((i <= end) and (data[i] <= data[key])):\n",
        "            i+=1\n",
        "        # 키 값보다 작은 값 까지 반복\n",
        "        # j > start 엇갈렸을 때 교체를 하기 위해서 \n",
        "        while ((data[j] >= data[key]) and ( j > start)):\n",
        "            j -= 1 \n",
        "            \n",
        "        if (i > j): # 현재 엇갈린 상태면 키 값과 교체\n",
        "            data[key], data[j] = data[j], data[key]\n",
        "        else:# 엇갈리지 않았다면 \n",
        "            data[j], data[i] = data[i], data[j]\n",
        "\n",
        "    # 왼쪽과 오른쪽에서 다시 quick 정렬 수행한다.\n",
        "    # 재귀 방식으로 \n",
        "    quickSort(data, start, j-1) # 7 5 4 6 부분\n",
        "    quickSort(data, j+1, end) # 10 9 부분\n",
        "\n",
        "    return data\n",
        "\n",
        "data1= quickSort(data, 0, len(data) - 1)"
      ],
      "execution_count": null,
      "outputs": [
        {
          "output_type": "stream",
          "text": [
            "100000 loops, best of 5: 14.7 µs per loop\n"
          ],
          "name": "stdout"
        }
      ]
    },
    {
      "cell_type": "code",
      "metadata": {
        "colab": {
          "base_uri": "https://localhost:8080/"
        },
        "id": "QTgx4G7A9mNJ",
        "outputId": "7d1538d3-477e-4200-bb0b-f47e6935734b"
      },
      "source": [
        "%%timeit\n",
        "\n",
        "data = [1,10,5,8,7,6,4,3,2,9]\n",
        "\n",
        "def quickSort(data, start, end):\n",
        "    # start정렬을 시작하는 첫번째\n",
        "    # end 마지막\n",
        "    if (start >= end) : # 원소가 한개인 경우\n",
        "        return \n",
        "    \n",
        "    # pivot 정한다.\n",
        "    key = start#첫번째 값 설정\n",
        "    i = start + 1 # 왼쪽 부터 찾을 때 이동하면 index\n",
        "    j = end # 마지막 값\n",
        "    # temp # 임시 자리 \n",
        "\n",
        "    # 엇갈릴 때 까지 반복 \n",
        "    # 엇갈리면 탈출\n",
        "    while (i <= j): \n",
        "        # 키 값 보다 큰 값 까지 반복\n",
        "        while ((i <= end) and (data[i] >= data[key])):\n",
        "            i+=1\n",
        "        # 키 값보다 작은 값 까지 반복\n",
        "        # j > start 엇갈렸을 때 교체를 하기 위해서 \n",
        "        while ((data[j] <= data[key]) and ( j > start)):\n",
        "            j -= 1 \n",
        "            \n",
        "        if (i > j): # 현재 엇갈린 상태면 키 값과 교체\n",
        "            data[key], data[j] = data[j], data[key]\n",
        "        else:# 엇갈리지 않았다면 \n",
        "            data[j], data[i] = data[i], data[j]\n",
        "\n",
        "    # 왼쪽과 오른쪽에서 다시 quick 정렬 수행한다.\n",
        "    # 재귀 방식으로 \n",
        "    quickSort(data, start, j-1) # 7 5 4 6 부분\n",
        "    quickSort(data, j+1, end) # 10 9 부분\n",
        "\n",
        "    return data\n",
        "\n",
        "data1= quickSort(data, 0, len(data) - 1)"
      ],
      "execution_count": 41,
      "outputs": [
        {
          "output_type": "stream",
          "text": [
            "100000 loops, best of 5: 10.7 µs per loop\n"
          ],
          "name": "stdout"
        }
      ]
    },
    {
      "cell_type": "code",
      "metadata": {
        "id": "FG-J9Ye39unA"
      },
      "source": [
        ""
      ],
      "execution_count": null,
      "outputs": []
    }
  ]
}