{
  "nbformat": 4,
  "nbformat_minor": 0,
  "metadata": {
    "colab": {
      "name": "counting_sort.ipynb",
      "provenance": [],
      "collapsed_sections": []
    },
    "kernelspec": {
      "name": "python3",
      "display_name": "Python 3"
    },
    "language_info": {
      "name": "python"
    }
  },
  "cells": [
    {
      "cell_type": "code",
      "metadata": {
        "colab": {
          "base_uri": "https://localhost:8080/"
        },
        "id": "P1Flg1QzkUpk",
        "outputId": "9ce4c195-73d8-49d8-b7b0-9c81c69bf54b"
      },
      "source": [
        "arr = [1,3,2,4,3,2,5,3,1,2,\n",
        "       3,4,4,3,5,1,2,3,5,2,\n",
        "       3,1,4,3,5,1,2,1,1,1]\n",
        "print(len(arr))\n",
        "\n",
        "count = [0 for i in range(5)]\n",
        "\n",
        "for i in range(len(arr)):\n",
        "    count[arr[i]-1] += 1\n",
        "\n",
        "for i in range(5):\n",
        "    if (count[i] !=0):\n",
        "        for j in range(0, count[i]):\n",
        "            print(i+1,end= \" \")"
      ],
      "execution_count": 15,
      "outputs": [
        {
          "output_type": "stream",
          "text": [
            "30\n",
            "1 1 1 1 1 1 1 1 2 2 2 2 2 2 3 3 3 3 3 3 3 3 4 4 4 4 5 5 5 5 "
          ],
          "name": "stdout"
        }
      ]
    },
    {
      "cell_type": "code",
      "metadata": {
        "colab": {
          "base_uri": "https://localhost:8080/"
        },
        "id": "bS6DCoZHklef",
        "outputId": "7fc621c7-b42e-436b-a08c-e2e9db3aba88"
      },
      "source": [
        "[j for j in range(count[i])]"
      ],
      "execution_count": 14,
      "outputs": [
        {
          "output_type": "execute_result",
          "data": {
            "text/plain": [
              "[0, 1, 2, 3, 4, 5, 6, 7]"
            ]
          },
          "metadata": {
            "tags": []
          },
          "execution_count": 14
        }
      ]
    }
  ]
}