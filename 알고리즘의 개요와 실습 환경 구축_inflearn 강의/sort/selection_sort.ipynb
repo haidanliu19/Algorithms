{
  "nbformat": 4,
  "nbformat_minor": 0,
  "metadata": {
    "colab": {
      "name": "selection sort.ipynb",
      "provenance": [],
      "collapsed_sections": []
    },
    "kernelspec": {
      "name": "python3",
      "display_name": "Python 3"
    },
    "language_info": {
      "name": "python"
    }
  },
  "cells": [
    {
      "cell_type": "markdown",
      "metadata": {
        "id": "FRQY4W5QgABW"
      },
      "source": [
        "작은 값을 찾아서 한다.\n",
        "\n",
        "\n",
        "https://www.inflearn.com/course/algorithm-%EC%95%8C%EA%B3%A0%EB%A6%AC%EC%A6%98-%EC%8B%A4%EC%8A%B5/lecture/12331?tab=curriculum&mm=close"
      ]
    },
    {
      "cell_type": "code",
      "metadata": {
        "colab": {
          "base_uri": "https://localhost:8080/"
        },
        "id": "VSq1Rzqafro-",
        "outputId": "50e6644c-ec2b-431f-de91-2d185a934e77"
      },
      "source": [
        "array = [1,10,5,8,7,6,4,3,2,9]\n",
        "\n",
        "for i in range(len(array)):\n",
        "    min = 9999\n",
        "    for j in range(i, len(array)):\n",
        "        if (min > array[j]):\n",
        "            min = array[j]\n",
        "            index = j\n",
        "    # 앞으로 보내줄 필요가 있다.\n",
        "    # 아래 3개를 swaping이라고 한다.\n",
        "    temp = array[i]  # temp에 일시적으로 가장 앞에 있는  값을 주고 \n",
        "    array[i] = array[index] # 최소값을 넣우준 후에 \n",
        "    array[index] =temp \n",
        "\n",
        "    print(array)"
      ],
      "execution_count": 4,
      "outputs": [
        {
          "output_type": "stream",
          "text": [
            "[1, 10, 5, 8, 7, 6, 4, 3, 2, 9]\n",
            "[1, 2, 5, 8, 7, 6, 4, 3, 10, 9]\n",
            "[1, 2, 3, 8, 7, 6, 4, 5, 10, 9]\n",
            "[1, 2, 3, 4, 7, 6, 8, 5, 10, 9]\n",
            "[1, 2, 3, 4, 5, 6, 8, 7, 10, 9]\n",
            "[1, 2, 3, 4, 5, 6, 8, 7, 10, 9]\n",
            "[1, 2, 3, 4, 5, 6, 7, 8, 10, 9]\n",
            "[1, 2, 3, 4, 5, 6, 7, 8, 10, 9]\n",
            "[1, 2, 3, 4, 5, 6, 7, 8, 9, 10]\n",
            "[1, 2, 3, 4, 5, 6, 7, 8, 9, 10]\n"
          ],
          "name": "stdout"
        }
      ]
    },
    {
      "cell_type": "code",
      "metadata": {
        "colab": {
          "base_uri": "https://localhost:8080/"
        },
        "id": "5wQ50tjliwkD",
        "outputId": "fdaadbd1-7297-4db1-e2ec-48c9a82026b1"
      },
      "source": [
        "def selection_sort(array):\n",
        "    for i in range(len(array)):\n",
        "        min = 9999\n",
        "        for j in range(i, len(array)):\n",
        "            if (min > array[j]):\n",
        "                min = array[j]\n",
        "                index = j\n",
        "        # 앞으로 보내줄 필요가 있다.\n",
        "        # 아래 3개를 swaping이라고 한다.\n",
        "        temp = array[i]  # temp에 일시적으로 가장 앞에 있는  값을 주고 \n",
        "        array[i] = array[index] # 최소값을 넣우준 후에 \n",
        "        array[index] =temp \n",
        "    return array\n",
        "\n",
        "selection_sort(array)"
      ],
      "execution_count": 5,
      "outputs": [
        {
          "output_type": "execute_result",
          "data": {
            "text/plain": [
              "[1, 2, 3, 4, 5, 6, 7, 8, 9, 10]"
            ]
          },
          "metadata": {
            "tags": []
          },
          "execution_count": 5
        }
      ]
    }
  ]
}