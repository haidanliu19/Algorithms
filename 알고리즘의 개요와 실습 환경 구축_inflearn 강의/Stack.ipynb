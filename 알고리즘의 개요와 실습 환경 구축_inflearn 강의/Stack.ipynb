{
  "nbformat": 4,
  "nbformat_minor": 0,
  "metadata": {
    "colab": {
      "name": "Stack.ipynb",
      "provenance": [],
      "collapsed_sections": []
    },
    "kernelspec": {
      "name": "python3",
      "display_name": "Python 3"
    },
    "language_info": {
      "name": "python"
    }
  },
  "cells": [
    {
      "cell_type": "code",
      "metadata": {
        "colab": {
          "base_uri": "https://localhost:8080/"
        },
        "id": "_kf4fgJy49KC",
        "outputId": "b837937e-d051-493e-f8f4-162b569a997c"
      },
      "source": [
        "stack = []\n",
        "\n",
        "stack.append(7)\n",
        "print(\"7 입력 :\",stack)\n",
        "\n",
        "stack.append(5)\n",
        "print(\"5 입력 :\",stack)\n",
        "\n",
        "stack.append(4)\n",
        "print(\"4 입력 :\",stack)\n",
        "\n",
        "stack.pop()\n",
        "print(\"삭제 :\",stack)\n",
        "\n",
        "stack.append(6)\n",
        "print(\"6 입력 :\",stack)\n",
        "\n",
        "stack.pop()\n",
        "print(\"삭제 :\",stack)\n",
        "\n",
        "while len(stack) != 0:\n",
        "    stack.pop()\n",
        "    print(\"삭제 :\",stack)"
      ],
      "execution_count": 6,
      "outputs": [
        {
          "output_type": "stream",
          "text": [
            "7 입력 : [7]\n",
            "5 입력 : [7, 5]\n",
            "4 입력 : [7, 5, 4]\n",
            "삭제 : [7, 5]\n",
            "6 입력 : [7, 5, 6]\n",
            "삭제 : [7, 5]\n",
            "삭제 : [7]\n",
            "삭제 : []\n"
          ],
          "name": "stdout"
        }
      ]
    }
  ]
}