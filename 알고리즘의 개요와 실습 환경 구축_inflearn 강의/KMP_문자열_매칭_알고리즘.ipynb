{
  "nbformat": 4,
  "nbformat_minor": 0,
  "metadata": {
    "colab": {
      "name": "KMP 문자열 매칭 알고리즘",
      "provenance": [],
      "collapsed_sections": []
    },
    "kernelspec": {
      "name": "python3",
      "display_name": "Python 3"
    },
    "language_info": {
      "name": "python"
    }
  },
  "cells": [
    {
      "cell_type": "code",
      "metadata": {
        "colab": {
          "base_uri": "https://localhost:8080/"
        },
        "id": "XMzCLhI3sCLu",
        "outputId": "48a2592d-40cb-4bd0-df99-a23b97c4b17f"
      },
      "source": [
        "# 접두사와 접미사 구하는 것\n",
        "def makeTable(pattern):\n",
        "    patternSize = len(pattern)\n",
        "    table = [0] * patternSize\n",
        "    j = 0\n",
        "    for i in range(1, patternSize):\n",
        "        while ((j>0) and (pattern[i]!= pattern[j])) :\n",
        "            j = table[j-1]\n",
        "        if (pattern[i] == pattern[j]):\n",
        "            j+=1\n",
        "            table[i] = j\n",
        "    return table\n",
        "pattern = \"abacaaba\"\n",
        "table = makeTable(pattern)\n",
        "for i in range(len(table)):\n",
        "    print(table[i], end= \" \")"
      ],
      "execution_count": 15,
      "outputs": [
        {
          "output_type": "stream",
          "name": "stdout",
          "text": [
            "0 0 1 0 1 1 2 3 "
          ]
        }
      ]
    },
    {
      "cell_type": "code",
      "metadata": {
        "colab": {
          "base_uri": "https://localhost:8080/"
        },
        "id": "Os6GD14Ctqkc",
        "outputId": "e311bc33-1db8-4cdc-d0e0-2206698b9804"
      },
      "source": [
        "def KMP(parent, pattern):\n",
        "    table = makeTable(pattern)\n",
        "    print(table)\n",
        "    parentSize = len(parent)\n",
        "    patternSize = len(pattern)\n",
        "    j = 0\n",
        "    for i in range(parentSize):\n",
        "        while ((j>0) and (parent[i] != pattern[j])):\n",
        "            j = table[j-1]\n",
        "            #일지 하지 않을 떄 그 전 단계로 한다. \n",
        "        if (parent[i] == pattern[j]):\n",
        "            print(parent[i], pattern[j], j, (patternSize-1))\n",
        "            if (j == (patternSize -1)):\n",
        "                print(str(i-patternSize+2) ,\"번쨰 에서 찾았습느다.\")\n",
        "                j = table[j]\n",
        "            else:\n",
        "                j += 1\n",
        "        \n",
        "parent  = \"ababacabacaabacaaba\"\n",
        "pattern = \"abacaaba\"\n",
        "KMP(parent, pattern)"
      ],
      "execution_count": 30,
      "outputs": [
        {
          "output_type": "stream",
          "name": "stdout",
          "text": [
            "[0, 0, 1, 0, 1, 1, 2, 3]\n",
            "a a 0 7\n",
            "b b 1 7\n",
            "a a 2 7\n",
            "b b 1 7\n",
            "a a 2 7\n",
            "c c 3 7\n",
            "a a 4 7\n",
            "b b 1 7\n",
            "a a 2 7\n",
            "c c 3 7\n",
            "a a 4 7\n",
            "a a 5 7\n",
            "b b 6 7\n",
            "a a 7 7\n",
            "7 번쨰 에서 찾았습느다.\n",
            "c c 3 7\n",
            "a a 4 7\n",
            "a a 5 7\n",
            "b b 6 7\n",
            "a a 7 7\n",
            "12 번쨰 에서 찾았습느다.\n"
          ]
        }
      ]
    }
  ]
}