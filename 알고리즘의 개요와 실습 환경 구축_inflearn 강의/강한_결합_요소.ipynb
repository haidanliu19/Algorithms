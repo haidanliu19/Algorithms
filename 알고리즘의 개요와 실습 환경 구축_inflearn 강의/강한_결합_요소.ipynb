{
  "nbformat": 4,
  "nbformat_minor": 0,
  "metadata": {
    "colab": {
      "name": "강한 결합 요소.ipynb",
      "provenance": [],
      "collapsed_sections": []
    },
    "kernelspec": {
      "name": "python3",
      "display_name": "Python 3"
    },
    "language_info": {
      "name": "python"
    }
  },
  "cells": [
    {
      "cell_type": "markdown",
      "metadata": {
        "id": "LhxsZ9tIytf3"
      },
      "source": [
        "# Strongly Connected Component"
      ]
    },
    {
      "cell_type": "code",
      "metadata": {
        "id": "6iCwbuRAxxnv",
        "colab": {
          "base_uri": "https://localhost:8080/"
        },
        "outputId": "0ed24d6b-815b-4ee9-d9c1-5de0b79261b7"
      },
      "source": [
        "# MAX 10001\n",
        "MAX= 11\n",
        "d = [0 for i in range(MAX+1) ] \n",
        "s =[]\n",
        "SCC = []\n",
        "finished= [False] * (MAX+1)\n",
        "a = [[] for i in range(MAX+1)]\n",
        "id = 0\n",
        "\n",
        "# dfs는 총 정점의 갯수만큼 실행됩니다. \n",
        "def dfs(x):\n",
        "    global id\n",
        "    id +=  1\n",
        "    d[x] =  id # 노드마다 고유한 번호 할당\n",
        "    s.append(x) # 스택에 자기 자신을 삽입합니다.\n",
        "\n",
        "    parent = d[x] # 처음 같은 경우에는 자기 자신이 부모가 된다.\n",
        "    for i in range(len(a[x])):\n",
        "        y = a[x][i]\n",
        "        if d[y] ==0:\n",
        "            # 더 작은 값으로 부모를 가르킨다.\n",
        "            # 방문하지 않은 이웃\n",
        "            parent = min(parent, dfs(y))\n",
        "        # 처리 중인 이웃 \n",
        "        # 자신의 부모라는 것이 포함할려고 \n",
        "        elif (not finished[y]) :\n",
        "            parent = min(parent, d[y])\n",
        "    # 부모 가 자기 자신일 경우 \n",
        "    # 1,2,3 일 때 1이 다시 돌아왔을 때 \n",
        "    if (parent == d[x]):\n",
        "        scc =[]\n",
        "        while 1:\n",
        "            t = s.pop()\n",
        "            scc.append(t)\n",
        "            finished[t] = True\n",
        "            if (t ==x) :\n",
        "                break\n",
        "        SCC.append(scc)\n",
        "    # 자신의 부모 값을 반환합니다.\n",
        "    return parent\n",
        "\n",
        "v = 11\n",
        "a[1].append(2)\n",
        "a[2].append(3)\n",
        "a[3].append(1)\n",
        "a[4].append(2)\n",
        "a[4].append(5)\n",
        "a[5].append(7)\n",
        "a[6].append(5)\n",
        "a[7].append(6)\n",
        "a[8].append(5)\n",
        "a[8].append(9)\n",
        "a[9].append(10)\n",
        "a[10].append(11)\n",
        "a[11].append(3)\n",
        "a[11].append(8)\n",
        "for i in range(1, v+1):\n",
        "    if d[i] == 0:\n",
        "        dfs(i)\n",
        "print(\"scc의 갯수 : \", len(SCC))\n",
        "for i in  range(len(SCC)):\n",
        "    for j in range(len(SCC[i])):\n",
        "        print(SCC[i][j], end =\", \")\n",
        "    print(\" \")"
      ],
      "execution_count": 31,
      "outputs": [
        {
          "output_type": "stream",
          "name": "stdout",
          "text": [
            "scc의 갯수 :  4\n",
            "3, 2, 1,  \n",
            "6, 7, 5,  \n",
            "4,  \n",
            "11, 10, 9, 8,  \n"
          ]
        }
      ]
    }
  ]
}