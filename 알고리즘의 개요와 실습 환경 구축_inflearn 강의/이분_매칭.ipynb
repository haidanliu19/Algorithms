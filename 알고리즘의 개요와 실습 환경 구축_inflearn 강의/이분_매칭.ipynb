{
  "nbformat": 4,
  "nbformat_minor": 0,
  "metadata": {
    "colab": {
      "name": "이분 매칭.ipynb",
      "provenance": [],
      "collapsed_sections": []
    },
    "kernelspec": {
      "name": "python3",
      "display_name": "Python 3"
    },
    "language_info": {
      "name": "python"
    }
  },
  "cells": [
    {
      "cell_type": "markdown",
      "metadata": {
        "id": "-puV8KSkuqR5"
      },
      "source": [
        "Bipartite Matching"
      ]
    },
    {
      "cell_type": "code",
      "metadata": {
        "colab": {
          "base_uri": "https://localhost:8080/"
        },
        "id": "h-0xtZGnuoq3",
        "outputId": "14ebe05a-2b36-4324-b319-b2b7cba0e388"
      },
      "source": [
        "MAX = 101\n",
        "a = [[] for _ in range(MAX)]\n",
        "#a = [[0] for _ in range(MAX)]\n",
        "d = [0 for _ in range(MAX)]\n",
        "n = 3\n",
        "m = 0\n",
        "\n",
        "# 매칭에 성공한 경우 True, 실패한 경우 False\n",
        "def dfs(x):\n",
        "    # 연결된 모든 노드에 대해서 들어갈수 있는 시도 \n",
        "    for i in range(0, len(a[x])):\n",
        "        t = a[x][i]\n",
        "        print(t)\n",
        "        # 이미 처리한 노드는 더 이상 불 필요가 없음 \n",
        "        if c[t]:\n",
        "            continue\n",
        "        c[t] = True\n",
        "        # 비어 있거나 점유 노드에 더 들어갈 공간이 있는 경우\n",
        "        # 더 들어갈 수 있다 .선택 받았든 것이 더 들어갈수 있는지\n",
        "        if(d[t] == 0) or (dfs(d[t])):\n",
        "            d[t]= x\n",
        "            return True\n",
        "    return False\n",
        "\n",
        "a[1].append(1)\n",
        "a[1].append(2)\n",
        "a[1].append(3)\n",
        "a[2].append(1)\n",
        "a[3].append(2)\n",
        "\n",
        "count = 0\n",
        "for i in range(1, n+1):\n",
        "    #fill(c, c+MAX ,-1 )\n",
        "    c = [False for i in range(MAX+1)] # 매번 매칭할 떄마다 처리가 안된 상태로 처리화\n",
        "    if (dfs(i)):\n",
        "        count += 1\n",
        "print(count, \"개 의 매칭이 이루어졌습니다. \")\n",
        "\n",
        "for i in range(1, MAX):\n",
        "    if (d[i] != 0):\n",
        "        print(d[i],'->', i)"
      ],
      "execution_count": 21,
      "outputs": [
        {
          "output_type": "stream",
          "name": "stdout",
          "text": [
            "1\n",
            "1\n",
            "1\n",
            "2\n",
            "2\n",
            "1\n",
            "1\n",
            "2\n",
            "3\n",
            "3 개 의 매칭이 이루어졌습니다. \n",
            "2 -> 1\n",
            "3 -> 2\n",
            "1 -> 3\n"
          ]
        }
      ]
    },
    {
      "cell_type": "markdown",
      "metadata": {
        "id": "yJs-qc5l1BFk"
      },
      "source": [
        "# 오류"
      ]
    },
    {
      "cell_type": "code",
      "metadata": {
        "colab": {
          "base_uri": "https://localhost:8080/"
        },
        "id": "YnB0nEqS1Ci-",
        "outputId": "7d1323d2-212c-4d63-983d-8a699dbc395c"
      },
      "source": [
        "MAX = 101\n",
        "#a = [[] for _ in range(MAX)]\n",
        "a = [[0] for _ in range(MAX)]\n",
        "d = [0 for _ in range(MAX)]\n",
        "n = 3\n",
        "m = 0\n",
        "\n",
        "# 매칭에 성공한 경우 True, 실패한 경우 False\n",
        "def dfs(x):\n",
        "    # 연결된 모든 노드에 대해서 들어갈수 있는 시도 \n",
        "    for i in range(0, len(a[x])):\n",
        "        t = a[x][i]\n",
        "        print(t)\n",
        "        # 이미 처리한 노드는 더 이상 불 필요가 없음 \n",
        "        if c[t]:\n",
        "            continue\n",
        "        c[t] = True\n",
        "        # 비어 있거나 점유 노드에 더 들어갈 공간이 있는 경우\n",
        "        # 더 들어갈 수 있다 .선택 받았든 것이 더 들어갈수 있는지\n",
        "        if(d[t] == 0) or (dfs(d[t])):\n",
        "            d[t]= x\n",
        "            return True\n",
        "    return False\n",
        "\n",
        "a[1].append(1)\n",
        "a[1].append(2)\n",
        "a[1].append(3)\n",
        "a[2].append(1)\n",
        "a[3].append(2)\n",
        "\n",
        "count = 0\n",
        "for i in range(1, n+1):\n",
        "    #fill(c, c+MAX ,-1 )\n",
        "    c = [False for i in range(MAX+1)] # 매번 매칭할 떄마다 처리가 안된 상태로 처리화\n",
        "    if (dfs(i)):\n",
        "        count += 1\n",
        "print(count, \"개 의 매칭이 이루어졌습니다. \")\n",
        "\n",
        "for i in range(1, MAX):\n",
        "    if (d[i] != 0):\n",
        "        print(d[i],'->', i)"
      ],
      "execution_count": 22,
      "outputs": [
        {
          "output_type": "stream",
          "name": "stdout",
          "text": [
            "0\n",
            "0\n",
            "0\n",
            "1\n",
            "0\n",
            "0\n",
            "1\n",
            "0\n",
            "1\n",
            "2\n",
            "3 개 의 매칭이 이루어졌습니다. \n",
            "2 -> 1\n",
            "1 -> 2\n"
          ]
        }
      ]
    }
  ]
}