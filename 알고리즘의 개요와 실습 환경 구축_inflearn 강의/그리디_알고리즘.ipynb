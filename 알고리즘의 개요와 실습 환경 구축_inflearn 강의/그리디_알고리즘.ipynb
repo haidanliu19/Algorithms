{
  "nbformat": 4,
  "nbformat_minor": 0,
  "metadata": {
    "colab": {
      "name": "그리디 알고리즘",
      "provenance": [],
      "collapsed_sections": []
    },
    "kernelspec": {
      "name": "python3",
      "display_name": "Python 3"
    },
    "language_info": {
      "name": "python"
    }
  },
  "cells": [
    {
      "cell_type": "markdown",
      "metadata": {
        "id": "N6b_VEr0X4oj"
      },
      "source": [
        "https://www.youtube.com/watch?v=PNPIk3hc6ic&list=PLRx0vPvlEmdDHxCvAQS1_6XV4deOwfVrz&index=38"
      ]
    },
    {
      "cell_type": "code",
      "metadata": {
        "colab": {
          "base_uri": "https://localhost:8080/"
        },
        "id": "a8Vn_xa9VRXq",
        "outputId": "79bd2e83-62ee-43ed-b121-3e4f946de2f5"
      },
      "source": [
        "n = 1260\n",
        "result = 0\n",
        "r,n= divmod(n , 500)\n",
        "result += r\n",
        "r,n= divmod(n , 100)\n",
        "result += r\n",
        "r,n= divmod(n , 50)\n",
        "result += r\n",
        "r,n= divmod(n , 10)\n",
        "result += r\n",
        "print(n,result)"
      ],
      "execution_count": 8,
      "outputs": [
        {
          "output_type": "stream",
          "name": "stdout",
          "text": [
            "0 6\n"
          ]
        }
      ]
    },
    {
      "cell_type": "code",
      "metadata": {
        "id": "xgPbeS58YFdn"
      },
      "source": [
        ""
      ],
      "execution_count": null,
      "outputs": []
    }
  ]
}