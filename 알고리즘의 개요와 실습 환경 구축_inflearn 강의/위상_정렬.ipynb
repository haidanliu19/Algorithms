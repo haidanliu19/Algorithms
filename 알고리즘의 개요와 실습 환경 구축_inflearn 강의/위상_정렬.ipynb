{
  "nbformat": 4,
  "nbformat_minor": 0,
  "metadata": {
    "colab": {
      "name": "위상 정렬.ipynb",
      "provenance": [],
      "collapsed_sections": []
    },
    "kernelspec": {
      "name": "python3",
      "display_name": "Python 3"
    },
    "language_info": {
      "name": "python"
    }
  },
  "cells": [
    {
      "cell_type": "code",
      "metadata": {
        "id": "02nLXqjqOC7z",
        "colab": {
          "base_uri": "https://localhost:8080/"
        },
        "outputId": "8ef746d8-9bf8-4b4a-9e61-c1aef30fe182"
      },
      "source": [
        "from collections import deque\n",
        "\n",
        "n = 7\n",
        "inDegree = [0] * (n + 1)\n",
        "a = [[] for i in range(n + 1)]\n",
        "\n",
        "a[1].append(2)\n",
        "inDegree[2] += 1\n",
        "a[1].append(5)\n",
        "inDegree[5] += 1\n",
        "a[2].append(3)\n",
        "inDegree[3] += 1\n",
        "a[3].append(4)\n",
        "inDegree[4] += 1\n",
        "a[4].append(6)\n",
        "inDegree[6] += 1\n",
        "a[5].append(6)\n",
        "inDegree[6] += 1\n",
        "a[6].append(7)\n",
        "inDegree[7] += 1\n",
        "\n",
        "#a = [[1, 2], [1, 5], [2, 3],  [3, 4], [4, 6],[5,6], [6,7]]\n",
        "\n",
        "def topologySort():\n",
        "    result = []\n",
        "    q = deque()\n",
        "    # 진입 차수가 0인 노드를 큐에 삽입합니다.\n",
        "    for i in range(1,n+1):\n",
        "        if (inDegree[i] == 0) :\n",
        "            q.append(i)\n",
        "\n",
        "    # 위상 정렬이 완전히 수행되려면 정확히 N개의 노드를 방문합니다. \n",
        "    for _ in range(1, n+1):\n",
        "        #n개를 방문하기 전에 큐가 빈다면 사이클이 발생한 것이다 \n",
        "        if not q:\n",
        "            print(\"사이클이 발생했습니다.\")\n",
        "            return \n",
        "        x = q.popleft()\n",
        "        print(q, x, a[x])\n",
        "        result.append(x)\n",
        "        for j in a[x]:\n",
        "            #y = a[x][j]\n",
        "            inDegree[j]-= 1\n",
        "            if inDegree[j] == 0:\n",
        "                q.append(j)\n",
        "\n",
        "            \n",
        "    # 위상 정렬을 수행한 결과 출력\n",
        "    for i in result:\n",
        "        print(i, end=' ')\n",
        "\n",
        "\n",
        "topologySort()"
      ],
      "execution_count": 51,
      "outputs": [
        {
          "output_type": "stream",
          "name": "stdout",
          "text": [
            "deque([]) 1 [2, 5]\n",
            "deque([5]) 2 [3]\n",
            "deque([3]) 5 [6]\n",
            "deque([]) 3 [4]\n",
            "deque([]) 4 [6]\n",
            "deque([]) 6 [7]\n",
            "deque([]) 7 []\n",
            "1 2 5 3 4 6 7 "
          ]
        }
      ]
    },
    {
      "cell_type": "code",
      "metadata": {
        "colab": {
          "base_uri": "https://localhost:8080/",
          "height": 611
        },
        "id": "JmNn2Qln5PME",
        "outputId": "63a2649e-e221-4b3e-e81a-a00a90a06671"
      },
      "source": [
        "from collections import deque\n",
        "\n",
        "# 노드의 개수와 간선의 개수를 입력 받기\n",
        "v, e = 7,8\n",
        "# 모든 노드에 대한 진입차수는 0으로 초기화\n",
        "indegree = [0] * (v + 1)\n",
        "# 각 노드에 연결된 간선 정보를 담기 위한 연결 리스트 초기화\n",
        "graph = [[] for i in range(v + 1)]\n",
        "\n",
        "# 방향 그래프의 모든 간선 정보를 입력 받기\n",
        "for _ in range(e):\n",
        "    a, b = map(int, input().split())\n",
        "    graph[a].append(b) # 정점 A에서 B로 이동 가능\n",
        "    # 진입 차수를 1 증가\n",
        "    indegree[b] += 1\n",
        "\n",
        "# 위상 정렬 함수\n",
        "def topology_sort():\n",
        "    result = [] # 알고리즘 수행 결과를 담을 리스트\n",
        "    q = deque() # 큐 기능을 위한 deque 라이브러리 사용\n",
        "\n",
        "    # 처음 시작할 때는 진입차수가 0인 노드를 큐에 삽입\n",
        "    for i in range(1, v + 1):\n",
        "        if indegree[i] == 0:\n",
        "            q.append(i)\n",
        "\n",
        "    # 큐가 빌 때까지 반복\n",
        "    while q:\n",
        "        # 큐에서 원소 꺼내기\n",
        "        now = q.popleft()\n",
        "        result.append(now)\n",
        "        # 해당 원소와 연결된 노드들의 진입차수에서 1 빼기\n",
        "        for i in graph[now]:\n",
        "            indegree[i] -= 1\n",
        "            # 새롭게 진입차수가 0이 되는 노드를 큐에 삽입\n",
        "            if indegree[i] == 0:\n",
        "                q.append(i)\n",
        "\n",
        "    # 위상 정렬을 수행한 결과 출력\n",
        "    for i in result:\n",
        "        print(i, end=' ')\n",
        "\n",
        "topology_sort()\n",
        "#https://freedeveloper.tistory.com/390"
      ],
      "execution_count": 34,
      "outputs": [
        {
          "output_type": "error",
          "ename": "KeyboardInterrupt",
          "evalue": "ignored",
          "traceback": [
            "\u001b[0;31m---------------------------------------------------------------------------\u001b[0m",
            "\u001b[0;31mKeyboardInterrupt\u001b[0m                         Traceback (most recent call last)",
            "\u001b[0;32m/usr/local/lib/python3.7/dist-packages/ipykernel/kernelbase.py\u001b[0m in \u001b[0;36m_input_request\u001b[0;34m(self, prompt, ident, parent, password)\u001b[0m\n\u001b[1;32m    728\u001b[0m             \u001b[0;32mtry\u001b[0m\u001b[0;34m:\u001b[0m\u001b[0;34m\u001b[0m\u001b[0;34m\u001b[0m\u001b[0m\n\u001b[0;32m--> 729\u001b[0;31m                 \u001b[0mident\u001b[0m\u001b[0;34m,\u001b[0m \u001b[0mreply\u001b[0m \u001b[0;34m=\u001b[0m \u001b[0mself\u001b[0m\u001b[0;34m.\u001b[0m\u001b[0msession\u001b[0m\u001b[0;34m.\u001b[0m\u001b[0mrecv\u001b[0m\u001b[0;34m(\u001b[0m\u001b[0mself\u001b[0m\u001b[0;34m.\u001b[0m\u001b[0mstdin_socket\u001b[0m\u001b[0;34m,\u001b[0m \u001b[0;36m0\u001b[0m\u001b[0;34m)\u001b[0m\u001b[0;34m\u001b[0m\u001b[0;34m\u001b[0m\u001b[0m\n\u001b[0m\u001b[1;32m    730\u001b[0m             \u001b[0;32mexcept\u001b[0m \u001b[0mException\u001b[0m\u001b[0;34m:\u001b[0m\u001b[0;34m\u001b[0m\u001b[0;34m\u001b[0m\u001b[0m\n",
            "\u001b[0;32m/usr/local/lib/python3.7/dist-packages/jupyter_client/session.py\u001b[0m in \u001b[0;36mrecv\u001b[0;34m(self, socket, mode, content, copy)\u001b[0m\n\u001b[1;32m    802\u001b[0m         \u001b[0;32mtry\u001b[0m\u001b[0;34m:\u001b[0m\u001b[0;34m\u001b[0m\u001b[0;34m\u001b[0m\u001b[0m\n\u001b[0;32m--> 803\u001b[0;31m             \u001b[0mmsg_list\u001b[0m \u001b[0;34m=\u001b[0m \u001b[0msocket\u001b[0m\u001b[0;34m.\u001b[0m\u001b[0mrecv_multipart\u001b[0m\u001b[0;34m(\u001b[0m\u001b[0mmode\u001b[0m\u001b[0;34m,\u001b[0m \u001b[0mcopy\u001b[0m\u001b[0;34m=\u001b[0m\u001b[0mcopy\u001b[0m\u001b[0;34m)\u001b[0m\u001b[0;34m\u001b[0m\u001b[0;34m\u001b[0m\u001b[0m\n\u001b[0m\u001b[1;32m    804\u001b[0m         \u001b[0;32mexcept\u001b[0m \u001b[0mzmq\u001b[0m\u001b[0;34m.\u001b[0m\u001b[0mZMQError\u001b[0m \u001b[0;32mas\u001b[0m \u001b[0me\u001b[0m\u001b[0;34m:\u001b[0m\u001b[0;34m\u001b[0m\u001b[0;34m\u001b[0m\u001b[0m\n",
            "\u001b[0;32m/usr/local/lib/python3.7/dist-packages/zmq/sugar/socket.py\u001b[0m in \u001b[0;36mrecv_multipart\u001b[0;34m(self, flags, copy, track)\u001b[0m\n\u001b[1;32m    624\u001b[0m         \"\"\"\n\u001b[0;32m--> 625\u001b[0;31m         \u001b[0mparts\u001b[0m \u001b[0;34m=\u001b[0m \u001b[0;34m[\u001b[0m\u001b[0mself\u001b[0m\u001b[0;34m.\u001b[0m\u001b[0mrecv\u001b[0m\u001b[0;34m(\u001b[0m\u001b[0mflags\u001b[0m\u001b[0;34m,\u001b[0m \u001b[0mcopy\u001b[0m\u001b[0;34m=\u001b[0m\u001b[0mcopy\u001b[0m\u001b[0;34m,\u001b[0m \u001b[0mtrack\u001b[0m\u001b[0;34m=\u001b[0m\u001b[0mtrack\u001b[0m\u001b[0;34m)\u001b[0m\u001b[0;34m]\u001b[0m\u001b[0;34m\u001b[0m\u001b[0;34m\u001b[0m\u001b[0m\n\u001b[0m\u001b[1;32m    626\u001b[0m         \u001b[0;31m# have first part already, only loop while more to receive\u001b[0m\u001b[0;34m\u001b[0m\u001b[0;34m\u001b[0m\u001b[0;34m\u001b[0m\u001b[0m\n",
            "\u001b[0;32mzmq/backend/cython/socket.pyx\u001b[0m in \u001b[0;36mzmq.backend.cython.socket.Socket.recv\u001b[0;34m()\u001b[0m\n",
            "\u001b[0;32mzmq/backend/cython/socket.pyx\u001b[0m in \u001b[0;36mzmq.backend.cython.socket.Socket.recv\u001b[0;34m()\u001b[0m\n",
            "\u001b[0;32mzmq/backend/cython/socket.pyx\u001b[0m in \u001b[0;36mzmq.backend.cython.socket._recv_copy\u001b[0;34m()\u001b[0m\n",
            "\u001b[0;32m/usr/local/lib/python3.7/dist-packages/zmq/backend/cython/checkrc.pxd\u001b[0m in \u001b[0;36mzmq.backend.cython.checkrc._check_rc\u001b[0;34m()\u001b[0m\n",
            "\u001b[0;31mKeyboardInterrupt\u001b[0m: ",
            "\nDuring handling of the above exception, another exception occurred:\n",
            "\u001b[0;31mKeyboardInterrupt\u001b[0m                         Traceback (most recent call last)",
            "\u001b[0;32m<ipython-input-34-d06a5bbb2686>\u001b[0m in \u001b[0;36m<module>\u001b[0;34m()\u001b[0m\n\u001b[1;32m     10\u001b[0m \u001b[0;31m# 방향 그래프의 모든 간선 정보를 입력 받기\u001b[0m\u001b[0;34m\u001b[0m\u001b[0;34m\u001b[0m\u001b[0;34m\u001b[0m\u001b[0m\n\u001b[1;32m     11\u001b[0m \u001b[0;32mfor\u001b[0m \u001b[0m_\u001b[0m \u001b[0;32min\u001b[0m \u001b[0mrange\u001b[0m\u001b[0;34m(\u001b[0m\u001b[0me\u001b[0m\u001b[0;34m)\u001b[0m\u001b[0;34m:\u001b[0m\u001b[0;34m\u001b[0m\u001b[0;34m\u001b[0m\u001b[0m\n\u001b[0;32m---> 12\u001b[0;31m     \u001b[0ma\u001b[0m\u001b[0;34m,\u001b[0m \u001b[0mb\u001b[0m \u001b[0;34m=\u001b[0m \u001b[0mmap\u001b[0m\u001b[0;34m(\u001b[0m\u001b[0mint\u001b[0m\u001b[0;34m,\u001b[0m \u001b[0minput\u001b[0m\u001b[0;34m(\u001b[0m\u001b[0;34m)\u001b[0m\u001b[0;34m.\u001b[0m\u001b[0msplit\u001b[0m\u001b[0;34m(\u001b[0m\u001b[0;34m)\u001b[0m\u001b[0;34m)\u001b[0m\u001b[0;34m\u001b[0m\u001b[0;34m\u001b[0m\u001b[0m\n\u001b[0m\u001b[1;32m     13\u001b[0m     \u001b[0mgraph\u001b[0m\u001b[0;34m[\u001b[0m\u001b[0ma\u001b[0m\u001b[0;34m]\u001b[0m\u001b[0;34m.\u001b[0m\u001b[0mappend\u001b[0m\u001b[0;34m(\u001b[0m\u001b[0mb\u001b[0m\u001b[0;34m)\u001b[0m \u001b[0;31m# 정점 A에서 B로 이동 가능\u001b[0m\u001b[0;34m\u001b[0m\u001b[0;34m\u001b[0m\u001b[0m\n\u001b[1;32m     14\u001b[0m     \u001b[0;31m# 진입 차수를 1 증가\u001b[0m\u001b[0;34m\u001b[0m\u001b[0;34m\u001b[0m\u001b[0;34m\u001b[0m\u001b[0m\n",
            "\u001b[0;32m/usr/local/lib/python3.7/dist-packages/ipykernel/kernelbase.py\u001b[0m in \u001b[0;36mraw_input\u001b[0;34m(self, prompt)\u001b[0m\n\u001b[1;32m    702\u001b[0m             \u001b[0mself\u001b[0m\u001b[0;34m.\u001b[0m\u001b[0m_parent_ident\u001b[0m\u001b[0;34m,\u001b[0m\u001b[0;34m\u001b[0m\u001b[0;34m\u001b[0m\u001b[0m\n\u001b[1;32m    703\u001b[0m             \u001b[0mself\u001b[0m\u001b[0;34m.\u001b[0m\u001b[0m_parent_header\u001b[0m\u001b[0;34m,\u001b[0m\u001b[0;34m\u001b[0m\u001b[0;34m\u001b[0m\u001b[0m\n\u001b[0;32m--> 704\u001b[0;31m             \u001b[0mpassword\u001b[0m\u001b[0;34m=\u001b[0m\u001b[0;32mFalse\u001b[0m\u001b[0;34m,\u001b[0m\u001b[0;34m\u001b[0m\u001b[0;34m\u001b[0m\u001b[0m\n\u001b[0m\u001b[1;32m    705\u001b[0m         )\n\u001b[1;32m    706\u001b[0m \u001b[0;34m\u001b[0m\u001b[0m\n",
            "\u001b[0;32m/usr/local/lib/python3.7/dist-packages/ipykernel/kernelbase.py\u001b[0m in \u001b[0;36m_input_request\u001b[0;34m(self, prompt, ident, parent, password)\u001b[0m\n\u001b[1;32m    732\u001b[0m             \u001b[0;32mexcept\u001b[0m \u001b[0mKeyboardInterrupt\u001b[0m\u001b[0;34m:\u001b[0m\u001b[0;34m\u001b[0m\u001b[0;34m\u001b[0m\u001b[0m\n\u001b[1;32m    733\u001b[0m                 \u001b[0;31m# re-raise KeyboardInterrupt, to truncate traceback\u001b[0m\u001b[0;34m\u001b[0m\u001b[0;34m\u001b[0m\u001b[0;34m\u001b[0m\u001b[0m\n\u001b[0;32m--> 734\u001b[0;31m                 \u001b[0;32mraise\u001b[0m \u001b[0mKeyboardInterrupt\u001b[0m\u001b[0;34m\u001b[0m\u001b[0;34m\u001b[0m\u001b[0m\n\u001b[0m\u001b[1;32m    735\u001b[0m             \u001b[0;32melse\u001b[0m\u001b[0;34m:\u001b[0m\u001b[0;34m\u001b[0m\u001b[0;34m\u001b[0m\u001b[0m\n\u001b[1;32m    736\u001b[0m                 \u001b[0;32mbreak\u001b[0m\u001b[0;34m\u001b[0m\u001b[0;34m\u001b[0m\u001b[0m\n",
            "\u001b[0;31mKeyboardInterrupt\u001b[0m: "
          ]
        }
      ]
    },
    {
      "cell_type": "code",
      "metadata": {
        "colab": {
          "base_uri": "https://localhost:8080/"
        },
        "id": "0UZmNcmXyESo",
        "outputId": "3d7a7159-5168-4ac4-b7c3-6a1d2a13fcad"
      },
      "source": [
        "adj_mat = [[0, 0, 1, 1, 0, 0],\n",
        "           [0, 0, 0, 1, 1, 0],\n",
        "           [0, 0, 0, 1, 0, 1],\n",
        "           [0, 0, 0, 0, 0, 1],\n",
        "           [0, 0, 0, 0, 0, 1],\n",
        "           [0, 0, 0, 0, 0, 0]]\n",
        "\n",
        "\n",
        "def topological_sort(adj_mat):\n",
        "    in_degrees = []\n",
        "    stack = []\n",
        "    answer = []\n",
        "\n",
        "    for i in range(len(adj_mat)):\n",
        "        temp = 0\n",
        "        for col in range(len(adj_mat)):\n",
        "            temp += adj_mat[col][i]\n",
        "        in_degrees.append(temp)\n",
        "\n",
        "    print(\"in_degrees: \", in_degrees)\n",
        "\n",
        "    for i in range(len(in_degrees)):\n",
        "        if in_degrees[i] == 0:\n",
        "            stack.append(i)\n",
        "\n",
        "    print(\"stack: \", stack)\n",
        "\n",
        "    while stack:\n",
        "        node = stack.pop()\n",
        "        answer.append(node)\n",
        "        print(\"pop된 노드: \", node)\n",
        "\n",
        "        for i in range(len(adj_mat[node])):\n",
        "            if adj_mat[node][i] != 0:\n",
        "                in_degrees[i] -= 1\n",
        "                if in_degrees[i] == 0:\n",
        "                    print(\"진입차수 0이 된 노드: \", i)\n",
        "                    stack.append(i)\n",
        "\n",
        "    print(\"answer: \", answer)\n",
        "\n",
        "\n",
        "print(topological_sort(adj_mat))\n",
        "# https://sexy-developer.tistory.com/56"
      ],
      "execution_count": 26,
      "outputs": [
        {
          "output_type": "stream",
          "name": "stdout",
          "text": [
            "in_degrees:  [0, 0, 1, 3, 1, 3]\n",
            "stack:  [0, 1]\n",
            "pop된 노드:  1\n",
            "진입차수 0이 된 노드:  4\n",
            "pop된 노드:  4\n",
            "pop된 노드:  0\n",
            "진입차수 0이 된 노드:  2\n",
            "pop된 노드:  2\n",
            "진입차수 0이 된 노드:  3\n",
            "pop된 노드:  3\n",
            "진입차수 0이 된 노드:  5\n",
            "pop된 노드:  5\n",
            "answer:  [1, 4, 0, 2, 3, 5]\n",
            "None\n"
          ]
        }
      ]
    }
  ]
}