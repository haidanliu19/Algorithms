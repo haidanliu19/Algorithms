{
  "nbformat": 4,
  "nbformat_minor": 0,
  "metadata": {
    "colab": {
      "name": "Kruskal Algorithm.ipynb",
      "provenance": [],
      "collapsed_sections": []
    },
    "kernelspec": {
      "name": "python3",
      "display_name": "Python 3"
    },
    "language_info": {
      "name": "python"
    }
  },
  "cells": [
    {
      "cell_type": "markdown",
      "metadata": {
        "id": "x_Ldgfqb2EDs"
      },
      "source": [
        "# 크루스칼 알고리즘"
      ]
    },
    {
      "cell_type": "markdown",
      "metadata": {
        "id": "LwZVpevk3DCr"
      },
      "source": [
        "## union find"
      ]
    },
    {
      "cell_type": "code",
      "metadata": {
        "id": "RAawAX4nv2eK"
      },
      "source": [
        "# 부모노드를 찾는 함수\n",
        "def getParent(parent, x):\n",
        "    # 현재 자기 자신이 가리키고 있는 부모노드와 같다면 \n",
        "    if parent[x]== x: \n",
        "        return x\n",
        "    # 다르다면 실제 부모 찾기\n",
        "    # 3 -> 2\n",
        "    #return parent[x] = getParent(parent, parent[x]) c++\n",
        "    parent[x] = getParent(parent, parent[x])\n",
        "    return parent[x]\n",
        "\n",
        "\n",
        "# 두 부모 노드를 합치는 함수\n",
        "def unionParent(parent, a, b):\n",
        "    a = getParent(parent, a)\n",
        "    b = getParent(parent, b)\n",
        "\n",
        "    # a가 b보다 작으면 a가 b의 부모노드\n",
        "    if a < b:\n",
        "        parent[b] = a\n",
        "    else:\n",
        "        parent[a] = b\n",
        "\n",
        "    # 더 작은 값으로 합친다.\n",
        "\n",
        "# 같은 부모를 가지는 지 확인\n",
        "def findParent(parent , a, b):\n",
        "    a = getParent(parent, a)\n",
        "    b = getParent(parent, b)\n",
        "\n",
        "    if (a == b): \n",
        "        return 1 # 같은 부모\n",
        "    else:\n",
        "        return 0 # 다른 부모"
      ],
      "execution_count": 1,
      "outputs": []
    },
    {
      "cell_type": "code",
      "metadata": {
        "colab": {
          "base_uri": "https://localhost:8080/"
        },
        "id": "hUw6Asrz8f_B",
        "outputId": "79b6a782-acf8-44e3-a128-c332e97da8ce"
      },
      "source": [
        "# 간선 클래서 선언\n",
        "class Edge:\n",
        "    def __init__(self, a,b, distance):\n",
        "        super(Edge,self).__init__()\n",
        "        self.node = []\n",
        "        self.distance = distance\n",
        "        self.node.append(a)\n",
        "        self.node.append(b)\n",
        "    def operator(self, edge):\n",
        "        return self.distance < edge.distance\n",
        "'''\n",
        "v.append(Edge(1,7,12))\n",
        "v.append(Edge(1,4,28))\n",
        "v.append(Edge(1,2,67))\n",
        "v.append(Edge(1,5,17))\n",
        "v.append(Edge(2,4,24))\n",
        "v.append(Edge(2,5,62))\n",
        "v.append(Edge(3,5,20))\n",
        "v.append(Edge(3,6,37))\n",
        "v.append(Edge(4,7,13))\n",
        "v.append(Edge(5,6,45))\n",
        "v.append(Edge(5,7,73))\n",
        "'''\n",
        "\n",
        "n = 7\n",
        "m = 11\n",
        "v = [(1,7,12),(1,4,28),(1,2,67),(1,5,17),(2,4,24),(2,5,62),(3,5,20),\n",
        "     (3,6,37),(4,7,13),(5,6,45),(5,7,73)]\n",
        "\n",
        "v.sort(key= lambda x:x[2])\n",
        "\n",
        "parent = []\n",
        "for i in range(n):\n",
        "    parent.append(i)\n",
        "\n",
        "sum = 0\n",
        "for i in range(len(v)):\n",
        "    # 사이클이 발생하지 않는 경우 그래프에 포함\n",
        "    if (not findParent(parent, v[i][0] - 1, v[i][1] - 1)):\n",
        "        sum += v[i][2]\n",
        "        unionParent(parent,v[i][0] - 1, v[i][1] - 1)\n",
        "print(sum)\n",
        "#https://it-garden.tistory.com/411"
      ],
      "execution_count": 17,
      "outputs": [
        {
          "output_type": "stream",
          "name": "stdout",
          "text": [
            "123\n"
          ]
        }
      ]
    }
  ]
}