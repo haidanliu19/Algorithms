{
  "nbformat": 4,
  "nbformat_minor": 0,
  "metadata": {
    "colab": {
      "name": "라빈 카프 알고리즘.ipynb",
      "provenance": [],
      "collapsed_sections": []
    },
    "kernelspec": {
      "name": "python3",
      "display_name": "Python 3"
    },
    "language_info": {
      "name": "python"
    }
  },
  "cells": [
    {
      "cell_type": "code",
      "metadata": {
        "colab": {
          "base_uri": "https://localhost:8080/"
        },
        "id": "BN-SqLt1dg6Y",
        "outputId": "affe3015-b891-4982-b362-1930d8ec1512"
      },
      "source": [
        "def findString(parent, pattern):\n",
        "    parenstSize = len(parent)\n",
        "    patternSize = len(pattern)\n",
        "    parentHash = 0\n",
        "    patternHash = 0\n",
        "    power = 1\n",
        "    for i in range(parenstSize-patternSize):\n",
        "        if (i == 0):\n",
        "            for j in range(patternSize):\n",
        "                # 오른쪽 부터 값을 구해준다. \n",
        "                parentHash += ord(parent[patternSize-1-j])*power\n",
        "                patternHash += ord(pattern[patternSize-1-j])*power\n",
        "                print(parentHash, patternHash)\n",
        "                # 한칸씩 이동하면서 *2\n",
        "                if (j < (patternSize-1)):\n",
        "                    power *= 2\n",
        "        else:\n",
        "            parentHash = 2 * (parentHash - ord(parent[i-1])*power) +ord(parent[patternSize-1+i])\n",
        "        \n",
        "        if (parentHash == patternHash):\n",
        "            finded = True\n",
        "            for j in range(patternSize):\n",
        "                if(parent[i+j] != pattern[j]):\n",
        "                    finded = False\n",
        "                    break\n",
        "\n",
        "            if (finded):\n",
        "                print((str(i+1)),\"번째에서 발견했습니다. \")\n",
        "parent = \"ababacabacaabacaaba\"\n",
        "pattern = \"abacaaba\"\n",
        "findString(parent, pattern)"
      ],
      "execution_count": 16,
      "outputs": [
        {
          "output_type": "stream",
          "name": "stdout",
          "text": [
            "98 97\n",
            "292 293\n",
            "688 681\n",
            "1464 1457\n",
            "3032 3041\n",
            "6136 6145\n",
            "12408 12417\n",
            "24824 24833\n",
            "7 번째에서 발견했습니다. \n"
          ]
        }
      ]
    },
    {
      "cell_type": "code",
      "metadata": {
        "id": "HVAvy0R6iF0J"
      },
      "source": [
        ""
      ],
      "execution_count": null,
      "outputs": []
    }
  ]
}