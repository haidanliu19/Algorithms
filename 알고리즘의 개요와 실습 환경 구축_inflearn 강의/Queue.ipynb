{
  "nbformat": 4,
  "nbformat_minor": 0,
  "metadata": {
    "colab": {
      "name": "Queue.ipynb",
      "provenance": [],
      "collapsed_sections": []
    },
    "kernelspec": {
      "name": "python3",
      "display_name": "Python 3"
    },
    "language_info": {
      "name": "python"
    }
  },
  "cells": [
    {
      "cell_type": "markdown",
      "metadata": {
        "id": "llH0uQ0x46Yb"
      },
      "source": [
        "# list"
      ]
    },
    {
      "cell_type": "code",
      "metadata": {
        "colab": {
          "base_uri": "https://localhost:8080/"
        },
        "id": "4zuEdM7K4AIg",
        "outputId": "8aec1ac9-781b-4cd1-9993-893cb7a427c6"
      },
      "source": [
        "queue_list = []\n",
        "queue_list.append(7)\n",
        "print(\"7 입력 :\",queue_list)\n",
        "\n",
        "queue_list.append(5)\n",
        "print(\"5 입력 :\",queue_list)\n",
        "\n",
        "queue_list.append(4)\n",
        "print(\"4 입력 :\",queue_list)\n",
        "\n",
        "queue_list.pop(0)\n",
        "print(\"삭제 :\",queue_list)\n",
        "\n",
        "queue_list.append(6)\n",
        "print(\"6 입력 :\",queue_list)\n",
        "\n",
        "queue_list.pop(0)\n",
        "print(\"삭제 :\",queue_list)\n",
        "\n",
        "while len(queue_list) != 0:\n",
        "    queue_list.pop(0)\n",
        "    print(\"삭제 :\",queue_list)"
      ],
      "execution_count": 8,
      "outputs": [
        {
          "output_type": "stream",
          "text": [
            "7 입력 : [7]\n",
            "5 입력 : [7, 5]\n",
            "4 입력 : [7, 5, 4]\n",
            "삭제 : [5, 4]\n",
            "6 입력 : [5, 4, 6]\n",
            "삭제 : [4, 6]\n",
            "삭제 : [6]\n",
            "삭제 : []\n"
          ],
          "name": "stdout"
        }
      ]
    },
    {
      "cell_type": "markdown",
      "metadata": {
        "id": "RtBIxBK448M7"
      },
      "source": [
        "# import queue"
      ]
    },
    {
      "cell_type": "code",
      "metadata": {
        "colab": {
          "base_uri": "https://localhost:8080/"
        },
        "id": "2T97SdIh48wg",
        "outputId": "3dfe8f08-58fb-45ff-9622-16adfeab6775"
      },
      "source": [
        "from queue import Queue\n",
        "\n",
        "queue_1 = Queue()\n",
        "queue_1.put(7)\n",
        "print(\"7 입력 :\",queue_1.queue)\n",
        "\n",
        "queue_1.put(5)\n",
        "print(\"5 입력 :\",queue_1.queue)\n",
        "\n",
        "queue_1.put(4)\n",
        "print(\"4 입력 :\",queue_1.queue)\n",
        "\n",
        "queue_1.get()\n",
        "print(\"삭제 :\",queue_1.queue)\n",
        "\n",
        "queue_1.put(6)\n",
        "print(\"6 입력 :\",queue_1.queue)\n",
        "\n",
        "queue_1.get()\n",
        "print(\"삭제 :\",queue_1.queue)\n",
        "\n",
        "while queue_1.qsize() != 0:\n",
        "    queue_1.get()\n",
        "    print(\"삭제 :\",queue_1.queue)"
      ],
      "execution_count": 12,
      "outputs": [
        {
          "output_type": "stream",
          "text": [
            "7 입력 : deque([7])\n",
            "5 입력 : deque([7, 5])\n",
            "4 입력 : deque([7, 5, 4])\n",
            "삭제 : deque([5, 4])\n",
            "6 입력 : deque([5, 4, 6])\n",
            "삭제 : deque([4, 6])\n",
            "삭제 : deque([6])\n",
            "삭제 : deque([])\n"
          ],
          "name": "stdout"
        }
      ]
    },
    {
      "cell_type": "code",
      "metadata": {
        "id": "grYdGoxX59Yb"
      },
      "source": [
        ""
      ],
      "execution_count": null,
      "outputs": []
    }
  ]
}