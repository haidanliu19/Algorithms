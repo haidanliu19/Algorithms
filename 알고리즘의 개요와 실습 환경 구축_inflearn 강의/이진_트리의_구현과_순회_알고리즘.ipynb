{
  "nbformat": 4,
  "nbformat_minor": 0,
  "metadata": {
    "colab": {
      "name": "이진 트리의 구현과 순회 알고리즘.ipynb",
      "provenance": [],
      "collapsed_sections": []
    },
    "kernelspec": {
      "name": "python3",
      "display_name": "Python 3"
    },
    "language_info": {
      "name": "python"
    }
  },
  "cells": [
    {
      "cell_type": "markdown",
      "metadata": {
        "id": "-ok25LK1YBKi"
      },
      "source": [
        "완전 이진 트리\n",
        "\n",
        "[참조 블로그](https://m.blog.naver.com/PostView.naver?isHttpsRedirect=true&blogId=demian7607&logNo=222084744249)"
      ]
    },
    {
      "cell_type": "code",
      "metadata": {
        "id": "NlEupd7DMcxL"
      },
      "source": [
        "number = 15\n",
        "\n",
        "# 하나의 노드 저보를 선언합니다. \n",
        "class Node:\n",
        "    def __init__(self, data):\n",
        "        self.data = data\n",
        "        self.left = None # 여기에 (좌)자식 들어감\n",
        "        self.right = None # (우)자식"
      ],
      "execution_count": 1,
      "outputs": []
    },
    {
      "cell_type": "markdown",
      "metadata": {
        "id": "tSwIZqAJaAWf"
      },
      "source": [
        "# 전위순회를 구현한다."
      ]
    },
    {
      "cell_type": "code",
      "metadata": {
        "id": "2e8Zq4ssMjre"
      },
      "source": [
        "def preorder(node):\n",
        "    if node == None: return\n",
        "    print(node.data, end = ' -> ')\n",
        "    preorder(node.left)\n",
        "    preorder(node.right)\n",
        "    # 재귀 로 한다."
      ],
      "execution_count": 3,
      "outputs": []
    },
    {
      "cell_type": "markdown",
      "metadata": {
        "id": "io3x9Vp7dpt2"
      },
      "source": [
        "# 중위 순회"
      ]
    },
    {
      "cell_type": "code",
      "metadata": {
        "id": "BXBbXu4kdpJB"
      },
      "source": [
        "def inorder(node):\n",
        "    if node == None: return\n",
        "    inorder(node.left)\n",
        "    print(node.data, end = ' -> ')\n",
        "    inorder(node.right)\n",
        "    # 재귀 로 한다."
      ],
      "execution_count": 4,
      "outputs": []
    },
    {
      "cell_type": "markdown",
      "metadata": {
        "id": "Zb4eyKiCd1sD"
      },
      "source": [
        "# 후위 순회"
      ]
    },
    {
      "cell_type": "code",
      "metadata": {
        "id": "r_fYeMMvdvLT"
      },
      "source": [
        "def postorder(node):\n",
        "    if node == None: return\n",
        "    postorder(node.left)\n",
        "    postorder(node.right)\n",
        "    print(node.data, end = ' -> ')\n",
        "    # 재귀 로 한다."
      ],
      "execution_count": 5,
      "outputs": []
    },
    {
      "cell_type": "code",
      "metadata": {
        "id": "WPZM_hr1d7e_"
      },
      "source": [
        "def init_tree():\n",
        "    global root #전역변수 root\n",
        "    new_node = Node(\"1\") #Node 클래스에 init data에 A를 넣음\n",
        "    root = new_node #뿌리에 A클래스 객체를 넣어줌\n",
        "\n",
        "    new_node = Node(\"2\") #위에 new_node 재활용하여 B객체 만듬\n",
        "    root.left = new_node #root의 init변수중 left에 B객체 넣음\n",
        "\n",
        "    new_node = Node(\"3\")\n",
        "    root.right = new_node #오른쪽 자식은 C\n",
        "\n",
        "    new_node_1 = Node('4')\n",
        "    new_node_2 = Node('5') #새 변수 2개에 D와 E 받음\n",
        "\n",
        "    node = root.left #node라는 변수에 A의 (좌)자식인 B객체를 넣음\n",
        "    node.left = new_node_1 #B의 (좌)자식은 D객체\n",
        "    \n",
        "\n",
        "    new_node_3 = Node('8')\n",
        "    new_node_4 = Node('9') #새 변수 2개에 D와 E 받음\n",
        "    node1 = node.left #node라는 변수에 A의 (좌)자식인 B객체를 넣음\n",
        "    node1.left = new_node_3 #B의 (좌)자식은 D객체\n",
        "    node1.right = new_node_4\n",
        "\n",
        "    node.right = new_node_2\n",
        "    new_node_3 = Node('10')\n",
        "    new_node_4 = Node('11') \n",
        "    node1 = node.right #node라는 변수에 A의 (좌)자식인 B객체를 넣음\n",
        "    node1.left = new_node_3 \n",
        "    node1.right = new_node_4\n",
        "\n",
        "    new_node_1 = Node('6')\n",
        "    new_node_2 = Node('7')\n",
        "    node = root.right  #위에 3개 변수 재활용\n",
        "    node.left = new_node_1\n",
        "\n",
        "    new_node_3 = Node('12')\n",
        "    new_node_4 = Node('13') #새 변수 2개에 D와 E 받음\n",
        "    node1 = node.left #node라는 변수에 A의 (좌)자식인 B객체를 넣음\n",
        "    node1.left = new_node_3 #B의 (좌)자식은 D객체\n",
        "    node1.right = new_node_4\n",
        "\n",
        "    node.right = new_node_2\n",
        "    new_node_3 = Node('14')\n",
        "    new_node_4 = Node('15') #새 변수 2개에 D와 E 받음\n",
        "    node1 = node.right #node라는 변수에 A의 (좌)자식인 B객체를 넣음\n",
        "    node1.left = new_node_3 #B의 (좌)자식은 D객체\n",
        "    node1.right = new_node_4"
      ],
      "execution_count": 56,
      "outputs": []
    },
    {
      "cell_type": "code",
      "metadata": {
        "colab": {
          "base_uri": "https://localhost:8080/"
        },
        "id": "o33prZ7UffU2",
        "outputId": "60af2813-b48d-492e-b6de-a598c8dff10d"
      },
      "source": [
        "init_tree() \n",
        "preorder(root) "
      ],
      "execution_count": 57,
      "outputs": [
        {
          "output_type": "stream",
          "name": "stdout",
          "text": [
            "1 -> 2 -> 4 -> 8 -> 9 -> 5 -> 10 -> 11 -> 3 -> 6 -> 12 -> 13 -> 7 -> 14 -> 15 -> "
          ]
        }
      ]
    },
    {
      "cell_type": "code",
      "metadata": {
        "colab": {
          "base_uri": "https://localhost:8080/"
        },
        "id": "5oX99ksZfhEa",
        "outputId": "912b6717-dc93-4fd7-accb-4f00091f72d2"
      },
      "source": [
        "init_tree() \n",
        "inorder(root) "
      ],
      "execution_count": 58,
      "outputs": [
        {
          "output_type": "stream",
          "name": "stdout",
          "text": [
            "8 -> 4 -> 9 -> 2 -> 10 -> 5 -> 11 -> 1 -> 12 -> 6 -> 13 -> 3 -> 14 -> 7 -> 15 -> "
          ]
        }
      ]
    },
    {
      "cell_type": "code",
      "metadata": {
        "colab": {
          "base_uri": "https://localhost:8080/"
        },
        "id": "IGuKLIqJfjUk",
        "outputId": "0d7f9df7-3ada-4f88-fd06-7f3e2787c8d2"
      },
      "source": [
        "init_tree() \n",
        "postorder(root) "
      ],
      "execution_count": 59,
      "outputs": [
        {
          "output_type": "stream",
          "name": "stdout",
          "text": [
            "8 -> 9 -> 4 -> 10 -> 11 -> 5 -> 2 -> 12 -> 13 -> 6 -> 14 -> 15 -> 7 -> 3 -> 1 -> "
          ]
        }
      ]
    },
    {
      "cell_type": "code",
      "metadata": {
        "id": "vzUdgwBAf9zh"
      },
      "source": [
        ""
      ],
      "execution_count": 9,
      "outputs": []
    }
  ]
}