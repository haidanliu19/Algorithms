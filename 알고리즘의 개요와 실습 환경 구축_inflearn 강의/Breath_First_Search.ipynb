{
  "nbformat": 4,
  "nbformat_minor": 0,
  "metadata": {
    "colab": {
      "name": "Breath First Search.ipynb",
      "provenance": [],
      "collapsed_sections": []
    },
    "kernelspec": {
      "name": "python3",
      "display_name": "Python 3"
    },
    "language_info": {
      "name": "python"
    }
  },
  "cells": [
    {
      "cell_type": "code",
      "metadata": {
        "colab": {
          "base_uri": "https://localhost:8080/"
        },
        "id": "Jp_tqgcL0uPP",
        "outputId": "f263b249-7849-4578-f8bd-708ea1a87810"
      },
      "source": [
        "from collections import deque\n",
        "\n",
        "number = 7\n",
        "checked = [False] * 8 # 방문 처리\n",
        "def bfs(graph_list,start):\n",
        "    \n",
        "    queue = deque([start])\n",
        "    checked[start] = True\n",
        "    while queue:\n",
        "        x = queue.popleft()\n",
        "        print(x , end = \" \")\n",
        "        for n in graph_list[x]:\n",
        "            if not checked[n]:\n",
        "                checked[n] = True\n",
        "                queue.extend([n])\n",
        "\n",
        "graph_list = {1: set([2,3]),\n",
        "              2: set([1,3, 4, 5]),\n",
        "              3: set([1,2, 6, 7]),\n",
        "              4: set([2,5]),\n",
        "              5: set([2,4]),\n",
        "              6: set([3,7]),\n",
        "              7: set([3,6])}\n",
        "bfs(graph_list,1)"
      ],
      "execution_count": 84,
      "outputs": [
        {
          "output_type": "stream",
          "name": "stdout",
          "text": [
            "1 2 3 4 5 6 7 "
          ]
        }
      ]
    },
    {
      "cell_type": "code",
      "metadata": {
        "colab": {
          "base_uri": "https://localhost:8080/"
        },
        "id": "ofWafx6L4EUl",
        "outputId": "1d076adb-d174-4bb5-b48e-4568f6e0e54f"
      },
      "source": [
        "graph_list = {1: set([3, 4]),\n",
        "              2: set([3, 4, 5]),\n",
        "              3: set([1, 5]),\n",
        "              4: set([1]),\n",
        "              5: set([2, 6]),\n",
        "              6: set([3, 5])}\n",
        "root_node = 1\n",
        "\n",
        "from collections import deque\n",
        "\n",
        "def BFS_with_adj_list(graph, root):\n",
        "    visited = []\n",
        "    queue = deque([root])\n",
        "\n",
        "    while queue:\n",
        "        n = queue.popleft()\n",
        "        if n not in visited:\n",
        "            visited.append(n)\n",
        "            queue += graph[n] - set(visited)\n",
        "    return visited\n",
        "  \n",
        "print(BFS_with_adj_list(graph_list, root_node))\n",
        "\n",
        "# https://cyc1am3n.github.io/2019/04/26/bfs_dfs_with_python.html"
      ],
      "execution_count": 37,
      "outputs": [
        {
          "output_type": "stream",
          "name": "stdout",
          "text": [
            "[1, 3, 4, 5, 2, 6]\n"
          ]
        }
      ]
    },
    {
      "cell_type": "code",
      "metadata": {
        "colab": {
          "base_uri": "https://localhost:8080/"
        },
        "id": "WKdZROjc-20F",
        "outputId": "c5d439e4-194a-4ce3-f41f-e5d80126ee63"
      },
      "source": [
        "def dfs(graph, v, visited):\n",
        "  # 현재 노드를 방문처리\n",
        "  visited[v]=True\n",
        "  print(v,end=' ')\n",
        "  # 현재 노드와 연결된 다른 노드를 재귀적으로 방문\n",
        "  for i in graph[v]:\n",
        "    if not visited[i]:\n",
        "      dfs(graph,i,visited)\n",
        "\n",
        "# 각 노드가 연결된 정보를 표현(0번 인덱스는 무시)\n",
        "graph=[\n",
        "  [],\n",
        "  [2,3,8],\n",
        "  [1,7],\n",
        "  [1,4,5],\n",
        "  [3,5],\n",
        "  [3,4],\n",
        "  [7],\n",
        "  [2,6,8],\n",
        "  [1,7]\n",
        "]\n",
        "# 각 노드가 방문한 정보를 표현\n",
        "visited=[False]*9\n",
        "\n",
        "dfs(graph, 1, visited)\n",
        "# 1 2 7 6 8 3 4 5\n",
        "\n",
        "#https://velog.io/@jiffydev/%EC%9D%B4%EB%A1%A0%ED%8C%8C%EC%9D%B4%EC%8D%AC-%EC%95%8C%EA%B3%A0%EB%A6%AC%EC%A6%98-DFS-BFS"
      ],
      "execution_count": 66,
      "outputs": [
        {
          "output_type": "stream",
          "name": "stdout",
          "text": [
            "1 2 7 6 8 3 4 5 "
          ]
        }
      ]
    },
    {
      "cell_type": "code",
      "metadata": {
        "id": "xWT2gQCm-7M0"
      },
      "source": [
        ""
      ],
      "execution_count": null,
      "outputs": []
    }
  ]
}