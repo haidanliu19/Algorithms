{
  "nbformat": 4,
  "nbformat_minor": 0,
  "metadata": {
    "colab": {
      "name": "Deque.ipynb",
      "provenance": [],
      "collapsed_sections": []
    },
    "kernelspec": {
      "name": "python3",
      "display_name": "Python 3"
    },
    "language_info": {
      "name": "python"
    }
  },
  "cells": [
    {
      "cell_type": "code",
      "metadata": {
        "colab": {
          "base_uri": "https://localhost:8080/"
        },
        "id": "F7hDonde8Ni_",
        "outputId": "93319e1a-1f13-4067-fa94-98152118cff2"
      },
      "source": [
        "from collections import deque\n",
        "\n",
        "deq = deque([7])\n",
        "print(\"7 입력 :\",deq)\n",
        "\n",
        "deq.append(5)\n",
        "print(\"5 입력 :\",deq) # 오른쪽으로 넣기\n",
        "\n",
        "deq.appendleft(4)\n",
        "print(\"4 입력 :\",deq) # 왼쪽으로 넣기\n",
        "\n",
        "deq.popleft()\n",
        "print(\"완쪽 삭제 :\",deq)\n",
        "\n",
        "deq.pop()\n",
        "print(\"오른쪽 삭제 :\",deq)"
      ],
      "execution_count": null,
      "outputs": [
        {
          "output_type": "stream",
          "text": [
            "7 입력 : deque([7])\n",
            "5 입력 : deque([7, 5])\n",
            "4 입력 : deque([4, 7, 5])\n",
            "완쪽 삭제 : deque([7, 5])\n",
            "오른쪽 삭제 : deque([7])\n"
          ],
          "name": "stdout"
        }
      ]
    }
  ]
}