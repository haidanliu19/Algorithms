{
  "nbformat": 4,
  "nbformat_minor": 0,
  "metadata": {
    "colab": {
      "name": "단순 문자열 매칭 알고리즘07:00.ipynb",
      "provenance": [],
      "collapsed_sections": []
    },
    "kernelspec": {
      "name": "python3",
      "display_name": "Python 3"
    },
    "language_info": {
      "name": "python"
    }
  },
  "cells": [
    {
      "cell_type": "code",
      "metadata": {
        "colab": {
          "base_uri": "https://localhost:8080/"
        },
        "id": "XMzCLhI3sCLu",
        "outputId": "f1f005c8-c82e-4306-9612-d5a0fd344ff6"
      },
      "source": [
        "def findString(parent, pattern):\n",
        "    parentSize= len(parent)\n",
        "    patternSize = len(pattern)\n",
        "    for i in range(parentSize-patternSize):\n",
        "        finded = True\n",
        "        for j in range(patternSize):\n",
        "            if(parent[i+j]!= pattern[j]):\n",
        "                finded= False\n",
        "                break\n",
        "        if(finded):\n",
        "            return i\n",
        "    return -1\n",
        "\n",
        "parent = \"Hello World\"\n",
        "pattern = \"llo W\"\n",
        "findString(parent, pattern)"
      ],
      "execution_count": 4,
      "outputs": [
        {
          "output_type": "execute_result",
          "data": {
            "text/plain": [
              "2"
            ]
          },
          "metadata": {},
          "execution_count": 4
        }
      ]
    },
    {
      "cell_type": "code",
      "metadata": {
        "colab": {
          "base_uri": "https://localhost:8080/"
        },
        "id": "Os6GD14Ctqkc",
        "outputId": "b71fd422-a223-4534-c1ab-d921eb2304af"
      },
      "source": [
        "parent = \"Hello World\"\n",
        "pattern = \"llo w\"\n",
        "findString(parent, pattern)"
      ],
      "execution_count": 5,
      "outputs": [
        {
          "output_type": "execute_result",
          "data": {
            "text/plain": [
              "-1"
            ]
          },
          "metadata": {},
          "execution_count": 5
        }
      ]
    }
  ]
}