{
  "nbformat": 4,
  "nbformat_minor": 0,
  "metadata": {
    "colab": {
      "name": "위클리 챌런지 2주차.ipynb",
      "provenance": [],
      "collapsed_sections": []
    },
    "kernelspec": {
      "name": "python3",
      "display_name": "Python 3"
    },
    "language_info": {
      "name": "python"
    }
  },
  "cells": [
    {
      "cell_type": "code",
      "metadata": {
        "colab": {
          "base_uri": "https://localhost:8080/"
        },
        "id": "6ITt3h09kbIw",
        "outputId": "5557131f-4612-4b5e-9e00-b71ccfe60873"
      },
      "source": [
        "def solution(scores):\n",
        "    score_list = []\n",
        "    [score_list.append(scores[i][j]) for i in range(len(scores)) for j in range(len(scores[i])) if i != j]\n",
        "    return answer\n",
        "\n",
        "_list =[[100,90,98,88,65],[50,45,99,85,77],[47,88,95,80,67],[61,57,100,80,65],[24,90,94,75,65]]\n",
        "solution(_list)"
      ],
      "execution_count": 73,
      "outputs": [
        {
          "output_type": "execute_result",
          "data": {
            "text/plain": [
              "[90,\n",
              " 98,\n",
              " 88,\n",
              " 65,\n",
              " 50,\n",
              " 99,\n",
              " 85,\n",
              " 77,\n",
              " 47,\n",
              " 88,\n",
              " 80,\n",
              " 67,\n",
              " 61,\n",
              " 57,\n",
              " 100,\n",
              " 65,\n",
              " 24,\n",
              " 90,\n",
              " 94,\n",
              " 75]"
            ]
          },
          "metadata": {
            "tags": []
          },
          "execution_count": 73
        }
      ]
    },
    {
      "cell_type": "code",
      "metadata": {
        "colab": {
          "base_uri": "https://localhost:8080/",
          "height": 52
        },
        "id": "eT0qjTUMqYON",
        "outputId": "fd9534a9-dd80-407f-a1c1-5cedf4d5f120"
      },
      "source": [
        "def func(score):\n",
        "    if score >= 90:\n",
        "        return 'A'\n",
        "    elif (score < 90) and (score >= 80):\n",
        "        return 'B'\n",
        "    elif (score < 80) and (score >= 70):\n",
        "        return 'C'\n",
        "    elif (score < 70) and (score >= 50):\n",
        "        return 'D'\n",
        "    else:\n",
        "        return 'F'\n",
        "\n",
        "import numpy as np\n",
        "\n",
        "def dupli(score, j ,i, scores):\n",
        "    scores_T = np.transpose(scores)\n",
        "    isDup = False\n",
        "    for m in range(len(scores_T[j])):\n",
        "        if (m != i ) and (score == scores_T[j][m]):\n",
        "            isDup = True\n",
        "        \n",
        "    return isDup\n",
        "           \n",
        "def solution(scores):\n",
        "\n",
        "    scores_list = []\n",
        "    len_ = 0\n",
        "    for i in range(len(scores)):\n",
        "        scores_=[]\n",
        "        len_ += 1\n",
        "        for j in range(len(scores[i])):     \n",
        "            scores_.append(np.nan if (i == j) and (dupli(scores[i][j] , j ,i,  scores) == False) else scores[i][j])\n",
        "        scores_list.append(scores_)\n",
        "    \n",
        "    score_list = np.nanmean(scores_list,axis =0)\n",
        "    print(score_list)\n",
        "    answer = \"\".join([func(i) for i in score_list])\n",
        "    \n",
        "    return answer\n",
        "\n",
        "_list =[[100,90,98,88,65],[50,45,99,85,77],[47,88,95,80,67],[61,57,100,80,65],[24,90,94,75,65]]\n",
        "solution(_list)"
      ],
      "execution_count": 148,
      "outputs": [
        {
          "output_type": "stream",
          "text": [
            "[45.5  81.25 97.75 81.6  67.8 ]\n"
          ],
          "name": "stdout"
        },
        {
          "output_type": "execute_result",
          "data": {
            "application/vnd.google.colaboratory.intrinsic+json": {
              "type": "string"
            },
            "text/plain": [
              "'FBABD'"
            ]
          },
          "metadata": {
            "tags": []
          },
          "execution_count": 148
        }
      ]
    },
    {
      "cell_type": "code",
      "metadata": {
        "colab": {
          "base_uri": "https://localhost:8080/",
          "height": 52
        },
        "id": "0M0VfLGDuDD4",
        "outputId": "d6c0be2f-fae3-452d-c6c4-9bef57022711"
      },
      "source": [
        "def func(score):\n",
        "    if score >= 90:\n",
        "        return 'A'\n",
        "    elif (score < 90) and (score >= 80):\n",
        "        return 'B'\n",
        "    elif (score < 80) and (score >= 70):\n",
        "        return 'C'\n",
        "    elif (score < 70) and (score >= 50):\n",
        "        return 'D'\n",
        "    else:\n",
        "        return 'F'\n",
        "\n",
        "import numpy as np\n",
        "\n",
        "def dupli(score, j ,i, scores):\n",
        "    scores_T = np.transpose(scores)\n",
        "    isDup = False\n",
        "    for m in range(len(scores_T[j])):\n",
        "        if (m != i ) and (score == scores_T[j][m]):\n",
        "            isDup = True\n",
        "        \n",
        "    return isDup\n",
        "           \n",
        "def solution(scores):\n",
        "\n",
        "    scores_list = []\n",
        "    len_ = 0\n",
        "    for i in range(len(scores)):\n",
        "        scores_=[]\n",
        "        len_ += 1\n",
        "        for j in range(len(scores[i])):     \n",
        "            scores_.append(np.nan if (i == j) and (dupli(scores[i][j] , j ,i,  scores) == False) else scores[i][j])\n",
        "        scores_list.append(scores_)\n",
        "    print(scores_list)\n",
        "    score_list = np.nanmean(scores_list,axis =0)\n",
        "    answer = \"\".join([func(i) for i in score_list])\n",
        "    \n",
        "    return answer\n",
        "\n",
        "_list =[[75, 50, 100], [75, 100, 20], [100, 100, 20]]\n",
        "solution(_list)"
      ],
      "execution_count": 146,
      "outputs": [
        {
          "output_type": "stream",
          "text": [
            "[[75, 50, 100], [75, 100, 20], [100, 100, 20]]\n"
          ],
          "name": "stdout"
        },
        {
          "output_type": "execute_result",
          "data": {
            "application/vnd.google.colaboratory.intrinsic+json": {
              "type": "string"
            },
            "text/plain": [
              "'BBF'"
            ]
          },
          "metadata": {
            "tags": []
          },
          "execution_count": 146
        }
      ]
    },
    {
      "cell_type": "code",
      "metadata": {
        "colab": {
          "base_uri": "https://localhost:8080/"
        },
        "id": "jQZCvBVNl6uL",
        "outputId": "e8b4b242-09ce-4c67-b567-25aa8da40403"
      },
      "source": [
        "for i in v: \n",
        "    for j in i: \n",
        "        print(j) \n",
        "        \n",
        "[j for i in v for j in i]"
      ],
      "execution_count": 9,
      "outputs": [
        {
          "output_type": "execute_result",
          "data": {
            "text/plain": [
              "[5, 4, 3, 2, 1]"
            ]
          },
          "metadata": {
            "tags": []
          },
          "execution_count": 9
        }
      ]
    },
    {
      "cell_type": "code",
      "metadata": {
        "colab": {
          "base_uri": "https://localhost:8080/",
          "height": 52
        },
        "id": "QMb63VIk5RF7",
        "outputId": "dba689db-c7e6-4d64-a3e7-5e17e1acfd56"
      },
      "source": [
        "def func(score):\n",
        "    if score >= 90:\n",
        "        return 'A'\n",
        "    elif (score < 90) and (score >= 80):\n",
        "        return 'B'\n",
        "    elif (score < 80) and (score >= 70):\n",
        "        return 'C'\n",
        "    elif (score < 70) and (score >= 50):\n",
        "        return 'D'\n",
        "    else:\n",
        "        return 'F'\n",
        "\n",
        "import numpy as np\n",
        "\n",
        "def dupli(score, j ,i, scores):\n",
        "    scores_T = np.transpose(scores)\n",
        "    isDup = False\n",
        "    for m in range(len(scores_T[j])):\n",
        "        if (m != i ) and (score == scores_T[j][m]):\n",
        "            isDup = True\n",
        "        \n",
        "    return isDup\n",
        "           \n",
        "def solution(scores):\n",
        "\n",
        "    scores_list = []\n",
        "    len_ = 0\n",
        "    for i in range(len(scores)):\n",
        "        scores_=[]\n",
        "        len_ += 1\n",
        "        for j in range(len(scores[i])):     \n",
        "            scores_.append(np.nan if (i == j) and (dupli(scores[i][j] , j ,i,  scores) == False) else scores[i][j])\n",
        "        scores_list.append(scores_)\n",
        "    \n",
        "    score_list = np.nanmean(scores_list,axis =0)\n",
        "    print(score_list)\n",
        "    answer = \"\".join([func(i) for i in score_list])\n",
        "    \n",
        "    return answer\n",
        "\n",
        "_list =[[50,90],[50,87]]\n",
        "solution(_list)"
      ],
      "execution_count": 150,
      "outputs": [
        {
          "output_type": "stream",
          "text": [
            "[50. 90.]\n"
          ],
          "name": "stdout"
        },
        {
          "output_type": "execute_result",
          "data": {
            "application/vnd.google.colaboratory.intrinsic+json": {
              "type": "string"
            },
            "text/plain": [
              "'DA'"
            ]
          },
          "metadata": {
            "tags": []
          },
          "execution_count": 150
        }
      ]
    },
    {
      "cell_type": "code",
      "metadata": {
        "colab": {
          "base_uri": "https://localhost:8080/",
          "height": 35
        },
        "id": "RwlBoJ0v5eQq",
        "outputId": "8bbbcda3-72d6-41a3-d0b3-92fa8e6bbd9d"
      },
      "source": [
        "def func(score):\n",
        "    if score >= 90:\n",
        "        return 'A'\n",
        "    elif (score < 90) and (score >= 80):\n",
        "        return 'B'\n",
        "    elif (score < 80) and (score >= 70):\n",
        "        return 'C'\n",
        "    elif (score < 70) and (score >= 50):\n",
        "        return 'D'\n",
        "    else:\n",
        "        return 'F'\n",
        "\n",
        "import numpy as np\n",
        "\n",
        "def dupli(score, j ,i, scores,scores_T):\n",
        "\n",
        "    isDup = False\n",
        "\n",
        "    for m in range(len(scores_T[j])):\n",
        "        if (m != i ) and (score == scores_T[j][m])  :\n",
        "            isDup = True\n",
        "        \n",
        "    return isDup\n",
        "           \n",
        "def solution(scores):\n",
        "\n",
        "    scores_list = []\n",
        "    len_ = 0\n",
        "    for i in range(len(scores)):\n",
        "        scores_=[]\n",
        "        len_ += 1\n",
        "        scores_T = np.transpose(scores)\n",
        "        for j in range(len(scores[i])):    \n",
        "            score = scores[i][j]\n",
        "            scores_.append(np.nan if (i == j) and (dupli(score , j ,i,  scores,scores_T) == False) and (score == np.max(scores_T[j]) or score == np.min(scores_T[j])) else scores[i][j])\n",
        "        scores_list.append(scores_)\n",
        "    \n",
        "    score_list = np.nanmean(scores_list,axis =0)\n",
        "    answer = \"\".join([func(i) for i in score_list])\n",
        "    \n",
        "    return answer\n",
        "\n",
        "_list =[[75, 50, 100], [75, 100, 20], [100, 100, 20]]\n",
        "solution(_list)"
      ],
      "execution_count": 173,
      "outputs": [
        {
          "output_type": "execute_result",
          "data": {
            "application/vnd.google.colaboratory.intrinsic+json": {
              "type": "string"
            },
            "text/plain": [
              "'BBF'"
            ]
          },
          "metadata": {
            "tags": []
          },
          "execution_count": 173
        }
      ]
    },
    {
      "cell_type": "code",
      "metadata": {
        "colab": {
          "base_uri": "https://localhost:8080/"
        },
        "id": "mNyNa6KZ9o5X",
        "outputId": "7ccddb8a-b4dc-496e-e2e9-43725bb85920"
      },
      "source": [
        "\n",
        "solution = lambda scores: \"\".join(map(lambda m: \"FDDCBAA\"[max(int(sum(m) / len(m) / 10) - 4, 0)], map(lambda m: (m[0], *m[1]) if min(m[1]) <= m[0] <= max(m[1]) else m[1], ((s[i], s[:i] + s[i+1:]) for i, s in enumerate(zip(*scores))))))\n",
        "\n"
      ],
      "execution_count": 175,
      "outputs": [
        {
          "output_type": "execute_result",
          "data": {
            "text/plain": [
              "<function __main__.<lambda>>"
            ]
          },
          "metadata": {
            "tags": []
          },
          "execution_count": 175
        }
      ]
    },
    {
      "cell_type": "code",
      "metadata": {
        "colab": {
          "base_uri": "https://localhost:8080/"
        },
        "id": "jq1axV9q906J",
        "outputId": "add4298f-58c7-47a0-f610-dd57d65bb7e4"
      },
      "source": [
        "\n",
        "scores =[[75, 50, 100], [75, 100, 20], [100, 100, 20]]\n",
        "map(lambda m: (m[0], *m[1]) if min(m[1]) <= m[0] <= max(m[1]) else m[1], ((s[i], s[:i] + s[i+1:]) for i, s in enumerate(zip(*scores))))"
      ],
      "execution_count": 183,
      "outputs": [
        {
          "output_type": "execute_result",
          "data": {
            "text/plain": [
              "<map at 0x7f438f28dd90>"
            ]
          },
          "metadata": {
            "tags": []
          },
          "execution_count": 183
        }
      ]
    },
    {
      "cell_type": "code",
      "metadata": {
        "colab": {
          "base_uri": "https://localhost:8080/"
        },
        "id": "2Fck44TJ-HdU",
        "outputId": "3d2c1a0b-a699-4127-e499-148cc8193986"
      },
      "source": [
        "[(s[i], s[:i] + s[i+1:]) for i, s in enumerate(zip(*scores))]"
      ],
      "execution_count": 185,
      "outputs": [
        {
          "output_type": "execute_result",
          "data": {
            "text/plain": [
              "[(75, (75, 100)), (100, (50, 100)), (20, (100, 20))]"
            ]
          },
          "metadata": {
            "tags": []
          },
          "execution_count": 185
        }
      ]
    },
    {
      "cell_type": "code",
      "metadata": {
        "colab": {
          "base_uri": "https://localhost:8080/"
        },
        "id": "kKvbRUAF-Rnu",
        "outputId": "85e1ff4a-dcb5-4a7f-8e8b-c74f76a31edb"
      },
      "source": [
        "lambda m: (m[0], *m[1]) if min(m[1]) <= m[0] <= max(m[1]) else m[1], ((s[i], s[:i] + s[i+1:]) for i, s in enumerate(zip(*scores)))"
      ],
      "execution_count": 186,
      "outputs": [
        {
          "output_type": "execute_result",
          "data": {
            "text/plain": [
              "(<function __main__.<lambda>>, <generator object <genexpr> at 0x7f438f36dd50>)"
            ]
          },
          "metadata": {
            "tags": []
          },
          "execution_count": 186
        }
      ]
    }
  ]
}