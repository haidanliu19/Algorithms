{
  "nbformat": 4,
  "nbformat_minor": 0,
  "metadata": {
    "colab": {
      "name": "위클리 챌린지 4주차.ipynb",
      "provenance": [],
      "collapsed_sections": []
    },
    "kernelspec": {
      "name": "python3",
      "display_name": "Python 3"
    },
    "language_info": {
      "name": "python"
    }
  },
  "cells": [
    {
      "cell_type": "code",
      "metadata": {
        "colab": {
          "base_uri": "https://localhost:8080/",
          "height": 35
        },
        "id": "RPfIQAHGnAt0",
        "outputId": "46f1f391-0c5d-498c-bccc-c527fd0d4b02"
      },
      "source": [
        "import numpy as np\n",
        "\n",
        "def solution(table, languages, preference):\n",
        "    answer = \"\"\n",
        "    \n",
        "    return answer\n",
        "\n",
        "\n",
        "table = [\"SI JAVA JAVASCRIPT SQL PYTHON C#\", \"CONTENTS JAVASCRIPT JAVA PYTHON SQL C++\", \"HARDWARE C C++ PYTHON JAVA JAVASCRIPT\", \"PORTAL JAVA JAVASCRIPT PYTHON KOTLIN PHP\", \"GAME C++ C# JAVASCRIPT C JAVA\"]\n",
        "languages = [\"PYTHON\", \"C++\", \"SQL\"]\n",
        "preference = [7, 5, 5]\n",
        "solution(table, languages, preference)"
      ],
      "execution_count": 142,
      "outputs": [
        {
          "output_type": "execute_result",
          "data": {
            "application/vnd.google.colaboratory.intrinsic+json": {
              "type": "string"
            },
            "text/plain": [
              "'HARDWARE'"
            ]
          },
          "metadata": {},
          "execution_count": 142
        }
      ]
    }
  ]
}