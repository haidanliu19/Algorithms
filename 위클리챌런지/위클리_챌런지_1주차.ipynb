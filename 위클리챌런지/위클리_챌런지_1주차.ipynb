{
  "nbformat": 4,
  "nbformat_minor": 0,
  "metadata": {
    "colab": {
      "name": "위클리_챌런지_2주차.ipynb",
      "provenance": [],
      "collapsed_sections": []
    },
    "kernelspec": {
      "name": "python3",
      "display_name": "Python 3"
    },
    "language_info": {
      "name": "python"
    }
  },
  "cells": [
    {
      "cell_type": "code",
      "metadata": {
        "colab": {
          "base_uri": "https://localhost:8080/"
        },
        "id": "Fs4-dgEP4eVc",
        "outputId": "aec9fde7-7968-4b30-ea70-d57260be0251"
      },
      "source": [
        "def solution(price, money, count):\n",
        "    answer = max(sum([price * i for i in range(1, count+1)]) - money,0)\n",
        "\n",
        "    return answer\n",
        "\n",
        "price = 3\n",
        "money = 20\n",
        "count = 4\n",
        "solution(price, money, count)"
      ],
      "execution_count": 1,
      "outputs": [
        {
          "output_type": "execute_result",
          "data": {
            "text/plain": [
              "10"
            ]
          },
          "metadata": {
            "tags": []
          },
          "execution_count": 1
        }
      ]
    },
    {
      "cell_type": "code",
      "metadata": {
        "colab": {
          "base_uri": "https://localhost:8080/"
        },
        "id": "SWJkttDM45J6",
        "outputId": "e775eeb8-2308-4dea-e3ee-3539b2b82794"
      },
      "source": [
        "def solution(price, money, count):\n",
        "    answer = max((((price + price * count)  * count // 2)) - money,0)\n",
        "\n",
        "    return answer\n",
        "\n",
        "\n",
        "price = 3\n",
        "money = 20\n",
        "count = 4\n",
        "solution(price, money, count)"
      ],
      "execution_count": 8,
      "outputs": [
        {
          "output_type": "execute_result",
          "data": {
            "text/plain": [
              "10"
            ]
          },
          "metadata": {
            "tags": []
          },
          "execution_count": 8
        }
      ]
    }
  ]
}