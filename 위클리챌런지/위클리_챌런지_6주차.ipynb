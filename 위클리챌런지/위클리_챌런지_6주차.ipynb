{
  "nbformat": 4,
  "nbformat_minor": 0,
  "metadata": {
    "colab": {
      "name": "위클리 챌런지 6주차.ipynb",
      "provenance": [],
      "collapsed_sections": []
    },
    "kernelspec": {
      "name": "python3",
      "display_name": "Python 3"
    },
    "language_info": {
      "name": "python"
    }
  },
  "cells": [
    {
      "cell_type": "code",
      "metadata": {
        "colab": {
          "base_uri": "https://localhost:8080/"
        },
        "id": "iQg-nXA8VIRQ",
        "outputId": "e4cfa1d9-7927-4b65-937f-dddbae9e654a"
      },
      "source": [
        "import pandas as pd\n",
        "import numpy as np\n",
        "\n",
        "def solution(weights, head2head):\n",
        "    _list = []\n",
        "    for i in head2head:\n",
        "        _list.append([j for j in i])\n",
        "    \n",
        "    df = pd.DataFrame(_list, index = weights,columns=weights)\n",
        "    _list_1=[]\n",
        "    for i, n in enumerate(df.index[0:]):\n",
        "        fightcnt= 0 # 대결 횟수\n",
        "        cnt= 0 # 무거운 것 \n",
        "        winscore = 0 # 이긴 횟수\n",
        "        winrate= 0.0 # 성률\n",
        "        for id, row in enumerate(df.loc[n]):\n",
        "            if row != 'N':fightcnt+=1\n",
        "            if (row=='W'):\n",
        "                winscore += 1\n",
        "                if (n < df.columns[id]):\n",
        "                    cnt += 1\n",
        "        winrate = ( winscore/ fightcnt) * 100  if fightcnt != 0  else 0\n",
        "        _list_1.append((i+1,weights[i], winrate , cnt))\n",
        "\n",
        "    answer = sorted(_list_1, key = (lambda x: (-x[2],-x[3],-x[1],x[0]))) \n",
        "    print(answer)\n",
        "    \n",
        "    return [i[0] for i in answer]\n",
        "\n",
        "weights = [50,82,75,120]\n",
        "head2head = [\"NLWL\",\"WNLL\",\"LWNW\",\"WWLN\"]\n",
        "solution(weights, head2head)"
      ],
      "execution_count": null,
      "outputs": [
        {
          "output_type": "stream",
          "name": "stdout",
          "text": [
            "[(3, 75, 66.66666666666666, 2), (4, 120, 66.66666666666666, 0), (1, 50, 33.33333333333333, 1), (2, 82, 33.33333333333333, 0)]\n"
          ]
        },
        {
          "output_type": "execute_result",
          "data": {
            "text/plain": [
              "[3, 4, 1, 2]"
            ]
          },
          "metadata": {},
          "execution_count": 22
        }
      ]
    },
    {
      "cell_type": "code",
      "metadata": {
        "colab": {
          "base_uri": "https://localhost:8080/"
        },
        "id": "jBaM9LzHa9Wh",
        "outputId": "2cb1ec6f-bf5e-470b-9f16-98c591c19a6d"
      },
      "source": [
        "def solution(weights, head2head):\n",
        "    _list = []\n",
        "    for i in head2head:\n",
        "        _list.append([j for j in i])\n",
        "\n",
        "    _list_1= []\n",
        "    for i in range(len(head2head)):\n",
        "        fightcnt= 0 # 대결 횟수\n",
        "        cnt= 0 # 무거운 것 \n",
        "        winscore = 0 # 이긴 횟수\n",
        "        winrate= 0.0 # 성률\n",
        "        for j in range(len(head2head[i])):\n",
        "            if head2head[i][j] != 'N': fightcnt+=1\n",
        "            if (head2head[i][j]=='W'):\n",
        "                winscore += 1\n",
        "                if (weights[i] < weights[j]):\n",
        "                    cnt += 1\n",
        "        winrate = ( winscore/ fightcnt) * 100  if fightcnt != 0  else 0\n",
        "        _list_1.append((i+1,weights[i], winrate , cnt))\n",
        "    \n",
        "    answer = sorted(_list_1, key = (lambda x: (-x[2],-x[3],-x[1],x[0]))) \n",
        "    \n",
        "    return [i[0] for i in answer]\n",
        "\n",
        "weights = [50,82,75,120]\n",
        "head2head = [\"NLWL\",\"WNLL\",\"LWNW\",\"WWLN\"]\n",
        "solution(weights, head2head)"
      ],
      "execution_count": null,
      "outputs": [
        {
          "output_type": "execute_result",
          "data": {
            "text/plain": [
              "[3, 4, 1, 2]"
            ]
          },
          "metadata": {},
          "execution_count": 2
        }
      ]
    },
    {
      "cell_type": "code",
      "metadata": {
        "colab": {
          "base_uri": "https://localhost:8080/"
        },
        "id": "Rlx8XoPRZir2",
        "outputId": "532e7d66-4145-42a4-cd2c-914f7c00b345"
      },
      "source": [
        "import math\n",
        "\n",
        "def solution(weights, head2head):\n",
        "    answer = []\n",
        "    boxer_info_list = []\n",
        "\n",
        "    for i in range(len(weights)):\n",
        "        cnt = 0  # 대결 횟수\n",
        "        win_cnt = 0  # 이긴 횟수\n",
        "        heavy_cnt = 0  # 자기보다 무거운 복서를 이긴 횟수\n",
        "        win_rate = 0.0  # 승률\n",
        "        # print(\"%i번째 복서 몸무게: %i\" % (i+1, weights[i]))\n",
        "        for j in range(len(weights)):\n",
        "            if i != j:\n",
        "                # print(\"%i 대결상대 복서 몸무게: %i 승패: %s\" % (j+1, weights[j], head2head[i][j]))\n",
        "                if head2head[i][j] != 'N': cnt += 1\n",
        "                if head2head[i][j] == \"W\":\n",
        "                    win_cnt += 1\n",
        "                    if weights[i] < weights[j]:\n",
        "                        heavy_cnt += 1\n",
        "\n",
        "        win_rate = (win_cnt / cnt) * 100 if cnt else 0\n",
        "        print(\"%i번째 복서의 승률: %r 자기보다 무거운 복서를 이긴 횟수: %i \\n\" % (i+1, win_rate, heavy_cnt))\n",
        "        boxer_info_list.append((i+1, weights[i], win_rate, heavy_cnt))\n",
        "\n",
        "    boxer_info_list = sorted(boxer_info_list, key = lambda x: (x[2], x[3], x[1], -x[0]), reverse=True)\n",
        "    print(boxer_info_list)\n",
        "\n",
        "    for num in range(len(boxer_info_list)):\n",
        "        answer.append(boxer_info_list[num][0])\n",
        "\n",
        "    return answer\n",
        "\n",
        "weights = [50,82,75,120]\n",
        "head2head = [\"NLWL\",\"WNLL\",\"LWNW\",\"WWLN\"]\n",
        "solution(weights, head2head)"
      ],
      "execution_count": null,
      "outputs": [
        {
          "output_type": "stream",
          "name": "stdout",
          "text": [
            "1번째 복서의 승률: 33.33333333333333 자기보다 무거운 복서를 이긴 횟수: 1 \n",
            "\n",
            "2번째 복서의 승률: 33.33333333333333 자기보다 무거운 복서를 이긴 횟수: 0 \n",
            "\n",
            "3번째 복서의 승률: 66.66666666666666 자기보다 무거운 복서를 이긴 횟수: 2 \n",
            "\n",
            "4번째 복서의 승률: 66.66666666666666 자기보다 무거운 복서를 이긴 횟수: 0 \n",
            "\n",
            "[(3, 75, 66.66666666666666, 2), (4, 120, 66.66666666666666, 0), (1, 50, 33.33333333333333, 1), (2, 82, 33.33333333333333, 0)]\n"
          ]
        },
        {
          "output_type": "execute_result",
          "data": {
            "text/plain": [
              "[3, 4, 1, 2]"
            ]
          },
          "metadata": {},
          "execution_count": 19
        }
      ]
    },
    {
      "cell_type": "code",
      "metadata": {
        "colab": {
          "base_uri": "https://localhost:8080/"
        },
        "id": "ElVWVy-KkK-_",
        "outputId": "2efaed2c-bac5-47f3-eeb9-9c1fcef2119d"
      },
      "source": [
        "import pandas as pd\n",
        "import numpy as np\n",
        "\n",
        "def solution(weights, head2head):\n",
        "    _list = []\n",
        "    for i in head2head:\n",
        "        _list.append([j for j in i])\n",
        "    \n",
        "    df = pd.DataFrame(_list, index = weights,columns=weights)\n",
        "    _list_1=[]\n",
        "    for i, n in enumerate(df.index[0:]):\n",
        "        fightcnt= 0\n",
        "        cnt= 0\n",
        "        winscore = 0\n",
        "        for id, row in enumerate(df.loc[n]):\n",
        "            if (row != 'N'):\n",
        "                fightcnt+=1\n",
        "            if (row=='W'):\n",
        "                winscore += 1\n",
        "                if (n < df.columns[id]):\n",
        "                    cnt += 1\n",
        "        _list_1.append((i+1, n, (winscore/ (fightcnt)) , cnt))\n",
        "    print(_list_1) \n",
        "    answer = sorted(_list_1, key = (lambda x: (-x[2],-x[3],-x[1],x[0]))) \n",
        "    return [i[0] for i in answer]\n",
        "\n",
        "weights = [60,70,60]\n",
        "head2head = [\"NNN\",\"NNN\",\"NNN\"]\n",
        "solution(weights, head2head)"
      ],
      "execution_count": null,
      "outputs": [
        {
          "output_type": "stream",
          "name": "stdout",
          "text": [
            "[(1, 60, 0.0, 0), (2, 70, 0.0, 0), (3, 60, 0.0, 0)]\n"
          ]
        },
        {
          "output_type": "execute_result",
          "data": {
            "text/plain": [
              "[2, 1, 3]"
            ]
          },
          "metadata": {},
          "execution_count": 3
        }
      ]
    }
  ]
}