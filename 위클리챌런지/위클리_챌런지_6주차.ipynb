{
  "nbformat": 4,
  "nbformat_minor": 0,
  "metadata": {
    "colab": {
      "name": "Untitled1.ipynb",
      "provenance": [],
      "collapsed_sections": []
    },
    "kernelspec": {
      "name": "python3",
      "display_name": "Python 3"
    },
    "language_info": {
      "name": "python"
    }
  },
  "cells": [
    {
      "cell_type": "markdown",
      "metadata": {
        "id": "BkTWnLSJdaRx"
      },
      "source": [
        "## 실패 케이스"
      ]
    },
    {
      "cell_type": "code",
      "metadata": {
        "id": "MA4eXXiBdP0l"
      },
      "source": [
        "import pandas as pd\n",
        "import numpy as np\n",
        "\n",
        "def solution(weights, head2head):\n",
        "    _list = []\n",
        "    for i in head2head:\n",
        "        _list.append([j for j in i])\n",
        "    \n",
        "    df = pd.DataFrame(_list, index = weights,columns=weights)\n",
        "    _list_1=[]\n",
        "    for i, n in enumerate(df.index[0:]):\n",
        "        fightcnt= 0 # 대결 횟수\n",
        "        cnt= 0 # 무거운 것 \n",
        "        winscore = 0 # 이긴 횟수\n",
        "        winrate= 0.0 # 성률\n",
        "        for id, row in enumerate(df.loc[n]):\n",
        "            if row != 'N':fightcnt+=1\n",
        "            if (row=='W'):\n",
        "                winscore += 1\n",
        "                if (n < df.columns[id]):\n",
        "                    cnt += 1\n",
        "        winrate = ( winscore/ fightcnt) * 100  if fightcnt != 0  else 0\n",
        "        _list_1.append((i+1,weights[i], winrate , cnt))\n",
        "\n",
        "    answer = sorted(_list_1, key = (lambda x: (-x[2],-x[3],-x[1],x[0]))) \n",
        "    print(answer)\n",
        "    \n",
        "    return [i[0] for i in answer]\n",
        "\n",
        "weights = [50,82,75,120]\n",
        "head2head = [\"NLWL\",\"WNLL\",\"LWNW\",\"WWLN\"]\n",
        "solution(weights, head2head)"
      ],
      "execution_count": null,
      "outputs": []
    }
  ]
}