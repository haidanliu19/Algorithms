{
  "nbformat": 4,
  "nbformat_minor": 0,
  "metadata": {
    "colab": {
      "name": "위클리 챌린지 8주차.ipynb",
      "provenance": [],
      "collapsed_sections": []
    },
    "kernelspec": {
      "name": "python3",
      "display_name": "Python 3"
    },
    "language_info": {
      "name": "python"
    }
  },
  "cells": [
    {
      "cell_type": "code",
      "metadata": {
        "colab": {
          "base_uri": "https://localhost:8080/"
        },
        "id": "yDqH_5v_cimj",
        "outputId": "35a3fecd-98d4-4e84-9028-765c07745169"
      },
      "source": [
        "def solution(sizes):\n",
        "    answer = 0\n",
        "    _max_i = 0\n",
        "    _max_j = 0\n",
        "    for i, j in sizes:\n",
        "       if i < j : \n",
        "           j,i = i,j\n",
        "       if _max_i < i: _max_i = i\n",
        "       if _max_j < j: _max_j = j\n",
        "\n",
        "    answer  =  _max_i * _max_j\n",
        "    return answer\n",
        "\n",
        "\n",
        "sizes =[[60, 50], [30, 70], [60, 30], [80, 40]]\t\n",
        "solution(sizes)"
      ],
      "execution_count": 1,
      "outputs": [
        {
          "output_type": "execute_result",
          "data": {
            "text/plain": [
              "4000"
            ]
          },
          "metadata": {},
          "execution_count": 1
        }
      ]
    },
    {
      "cell_type": "code",
      "metadata": {
        "colab": {
          "base_uri": "https://localhost:8080/"
        },
        "id": "_BeG3_rLevVM",
        "outputId": "775b06d7-aaa0-4335-c074-c96f675f1e7c"
      },
      "source": [
        "import numpy as np\n",
        "def solution(sizes):\n",
        "    answer = 0\n",
        "    _list = np.array([[j,i] if i < j  else [i,j] for i, j in sizes])\n",
        "    answer = max(_list[:,0]) * max(_list[:,1])\n",
        "    return  answer\n",
        "\n",
        "\n",
        "sizes =[[60, 50], [30, 70], [60, 30], [80, 40]]\t\n",
        "solution(sizes)"
      ],
      "execution_count": 3,
      "outputs": [
        {
          "output_type": "execute_result",
          "data": {
            "text/plain": [
              "4000"
            ]
          },
          "metadata": {},
          "execution_count": 3
        }
      ]
    }
  ]
}