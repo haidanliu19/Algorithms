{
  "nbformat": 4,
  "nbformat_minor": 0,
  "metadata": {
    "kernelspec": {
      "display_name": "Python 3",
      "language": "python",
      "name": "python3"
    },
    "language_info": {
      "codemirror_mode": {
        "name": "ipython",
        "version": 3
      },
      "file_extension": ".py",
      "mimetype": "text/x-python",
      "name": "python",
      "nbconvert_exporter": "python",
      "pygments_lexer": "ipython3",
      "version": "3.8.5"
    },
    "colab": {
      "name": "제일 작은 수 제거하기.ipynb",
      "provenance": [],
      "collapsed_sections": []
    }
  },
  "cells": [
    {
      "cell_type": "code",
      "metadata": {
        "colab": {
          "base_uri": "https://localhost:8080/"
        },
        "id": "WV0xytxuSZLP",
        "outputId": "5ab85bf6-705f-43d9-f4e8-94b515a4ea42"
      },
      "source": [
        "def solution(arr):\n",
        "    answer = [-1]\n",
        "    if len(arr) != 0 and len(arr) !=1:\n",
        "        min_arr = min(arr)\n",
        "        answer = [x for x in arr if x != min_arr]\n",
        "    return answer\n",
        "\n",
        "print(solution([4,3,2,1]))\n",
        "print(solution([10]))"
      ],
      "execution_count": 1,
      "outputs": [
        {
          "output_type": "stream",
          "text": [
            "[4, 3, 2]\n",
            "[-1]\n"
          ],
          "name": "stdout"
        }
      ]
    },
    {
      "cell_type": "code",
      "metadata": {
        "id": "WvClp-pzShaC"
      },
      "source": [
        "def solution(arr):\n",
        "    answer = [-1]\n",
        "    if len(arr) != 0 and len(arr) !=1:\n",
        "        min_arr = min(arr)\n",
        "        answer = [x for x in arr if x != min_arr]\n",
        "    return answer\n",
        "\n",
        "print(solution([4,3,2,1]))\n",
        "print(solution([10]))"
      ],
      "execution_count": null,
      "outputs": []
    },
    {
      "cell_type": "code",
      "metadata": {
        "id": "bswMThXdSZLu",
        "outputId": "7b391c9e-6485-48b6-d9f7-583800234f93"
      },
      "source": [
        "solution([4,3,2,1])"
      ],
      "execution_count": null,
      "outputs": [
        {
          "output_type": "execute_result",
          "data": {
            "text/plain": [
              "[4, 3, 2]"
            ]
          },
          "metadata": {
            "tags": []
          },
          "execution_count": 41
        }
      ]
    },
    {
      "cell_type": "code",
      "metadata": {
        "id": "GVqBmL30SZL2",
        "outputId": "8bade490-303d-4885-962c-ae30bde140c2"
      },
      "source": [
        "solution([10])"
      ],
      "execution_count": null,
      "outputs": [
        {
          "output_type": "execute_result",
          "data": {
            "text/plain": [
              "[-1]"
            ]
          },
          "metadata": {
            "tags": []
          },
          "execution_count": 42
        }
      ]
    },
    {
      "cell_type": "code",
      "metadata": {
        "id": "Xt-udLwASZL5",
        "outputId": "79fb957f-ac0a-4c38-e108-1eab38580c14"
      },
      "source": [
        "solution([])"
      ],
      "execution_count": null,
      "outputs": [
        {
          "output_type": "execute_result",
          "data": {
            "text/plain": [
              "[-1]"
            ]
          },
          "metadata": {
            "tags": []
          },
          "execution_count": 43
        }
      ]
    },
    {
      "cell_type": "code",
      "metadata": {
        "id": "2A6vSvyfSZL8"
      },
      "source": [
        ""
      ],
      "execution_count": null,
      "outputs": []
    }
  ]
}