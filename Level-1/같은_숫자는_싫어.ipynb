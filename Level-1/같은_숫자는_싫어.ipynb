{
  "nbformat": 4,
  "nbformat_minor": 0,
  "metadata": {
    "colab": {
      "name": "같은 숫자는 싫어.ipynb",
      "provenance": [],
      "collapsed_sections": []
    },
    "kernelspec": {
      "name": "python3",
      "display_name": "Python 3"
    },
    "language_info": {
      "name": "python"
    }
  },
  "cells": [
    {
      "cell_type": "code",
      "metadata": {
        "colab": {
          "base_uri": "https://localhost:8080/",
          "height": 55
        },
        "id": "NlEupd7DMcxL",
        "outputId": "773229ba-e6ef-42f5-8a1c-b3153dc0f1b3"
      },
      "source": [
        "def solution(s):\n",
        "    len_, cent_ = len(s)%2, len(s)//2 \n",
        "    answer =s[cent_-1:cent_+1] if len(s)%2 == 0 else s[cent_]\n",
        "    print(len_, cent_)\n",
        "    return answer\n",
        "\n",
        "s = \"abcde\"\n",
        "solution(s)"
      ],
      "execution_count": 8,
      "outputs": [
        {
          "output_type": "stream",
          "name": "stdout",
          "text": [
            "1 2\n"
          ]
        },
        {
          "output_type": "execute_result",
          "data": {
            "application/vnd.google.colaboratory.intrinsic+json": {
              "type": "string"
            },
            "text/plain": [
              "'c'"
            ]
          },
          "metadata": {},
          "execution_count": 8
        }
      ]
    },
    {
      "cell_type": "code",
      "metadata": {
        "colab": {
          "base_uri": "https://localhost:8080/",
          "height": 55
        },
        "id": "2e8Zq4ssMjre",
        "outputId": "99b6d9d3-9362-4c40-b6a4-e4f7f8fa6554"
      },
      "source": [
        "def solution(s):\n",
        "    len_, cent_ = len(s)%2, len(s)//2 \n",
        "    answer =s[cent_-1:cent_+1] if len(s)%2 == 0 else s[cent_]\n",
        "    print(len_, cent_)\n",
        "    return answer\n",
        "\n",
        "s = \"qwer\"\n",
        "solution(s)"
      ],
      "execution_count": 10,
      "outputs": [
        {
          "output_type": "stream",
          "name": "stdout",
          "text": [
            "0 2\n"
          ]
        },
        {
          "output_type": "execute_result",
          "data": {
            "application/vnd.google.colaboratory.intrinsic+json": {
              "type": "string"
            },
            "text/plain": [
              "'we'"
            ]
          },
          "metadata": {},
          "execution_count": 10
        }
      ]
    }
  ]
}