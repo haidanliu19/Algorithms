{
  "nbformat": 4,
  "nbformat_minor": 0,
  "metadata": {
    "colab": {
      "name": "같은 숫자는 싫어.ipynb",
      "provenance": [],
      "collapsed_sections": []
    },
    "kernelspec": {
      "name": "python3",
      "display_name": "Python 3"
    },
    "language_info": {
      "name": "python"
    }
  },
  "cells": [
    {
      "cell_type": "code",
      "metadata": {
        "colab": {
          "base_uri": "https://localhost:8080/"
        },
        "id": "9xjbT9UtRHkm",
        "outputId": "27532091-27fe-44fe-fe95-d13a5f2d98bc"
      },
      "source": [
        "def solution(arr):\n",
        "    answer = []\n",
        "    answer.append(arr[0])\n",
        "    for i in range(1,len(arr)):\n",
        "        # 그 전에것 과 같을 때 \n",
        "        if arr[i] != arr[i-1]:\n",
        "            answer.append(arr[i])\n",
        "                \n",
        "    return answer\n",
        "\n",
        "#arr = [1,1,3,3,0,1,1]\n",
        "arr = [4,4,4,3,3]\n",
        "solution(arr)"
      ],
      "execution_count": 88,
      "outputs": [
        {
          "output_type": "execute_result",
          "data": {
            "text/plain": [
              "[4, 3]"
            ]
          },
          "metadata": {},
          "execution_count": 88
        }
      ]
    },
    {
      "cell_type": "code",
      "metadata": {
        "colab": {
          "base_uri": "https://localhost:8080/"
        },
        "id": "lrJsAeg6itPC",
        "outputId": "d5c6bb1a-f6c9-4dc9-8591-d5c7464521b1"
      },
      "source": [
        "def solution(arr):\n",
        "    answer = []\n",
        "    answer.append(arr[0])\n",
        "    answer += [arr[i] for i in range(1,len(arr)) if arr[i] != arr[i-1]]\n",
        "                \n",
        "    return answer\n",
        "\n",
        "#arr = [1,1,3,3,0,1,1]\n",
        "arr = [4,4,4,3,3]\n",
        "solution(arr)"
      ],
      "execution_count": 98,
      "outputs": [
        {
          "output_type": "execute_result",
          "data": {
            "text/plain": [
              "[4, 3]"
            ]
          },
          "metadata": {},
          "execution_count": 98
        }
      ]
    }
  ]
}