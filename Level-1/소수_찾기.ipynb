{
  "nbformat": 4,
  "nbformat_minor": 0,
  "metadata": {
    "colab": {
      "name": "소수 찾기.ipynb",
      "provenance": [],
      "collapsed_sections": []
    },
    "kernelspec": {
      "name": "python3",
      "display_name": "Python 3"
    },
    "language_info": {
      "name": "python"
    }
  },
  "cells": [
    {
      "cell_type": "code",
      "metadata": {
        "colab": {
          "base_uri": "https://localhost:8080/"
        },
        "id": "CtrWftMLEkFK",
        "outputId": "e0ed4ee1-c880-4226-c9db-67d54daff988"
      },
      "source": [
        "def isPrimary(n):\n",
        "    isP = True\n",
        "    for i in range(2,n//2+1):\n",
        "        if n % i == 0:\n",
        "            isP = False\n",
        "            break\n",
        "    return isP\n",
        "\n",
        "def solution(n):\n",
        "    answer = len(list(filter(lambda x: isPrimary(x) , [i for i in range(2, n+1)])))\n",
        "    return answer\n",
        "\n",
        "n = 5\n",
        "solution(n)"
      ],
      "execution_count": null,
      "outputs": [
        {
          "output_type": "execute_result",
          "data": {
            "text/plain": [
              "3"
            ]
          },
          "metadata": {},
          "execution_count": 9
        }
      ]
    },
    {
      "cell_type": "code",
      "metadata": {
        "colab": {
          "base_uri": "https://localhost:8080/"
        },
        "id": "F6y476qcQsIk",
        "outputId": "a2495c30-751d-4d6b-dbab-7c272b9f6169"
      },
      "source": [
        "def isPrimary(n):\n",
        "    isP = True\n",
        "    for x in range(2, int(pow(n ,0.5))+1):\n",
        "        if n%x==0 and n!=x:\n",
        "            isP = False\n",
        "            break\n",
        "    return isP\n",
        "\n",
        "def solution(n):\n",
        "    answer = len(list(filter(lambda x: isPrimary(x) , [i for i in range(2, n+1)])))\n",
        "    return answer\n",
        "\n",
        "n = 5\n",
        "solution(n)"
      ],
      "execution_count": null,
      "outputs": [
        {
          "output_type": "execute_result",
          "data": {
            "text/plain": [
              "3"
            ]
          },
          "metadata": {},
          "execution_count": 7
        }
      ]
    },
    {
      "cell_type": "code",
      "metadata": {
        "colab": {
          "base_uri": "https://localhost:8080/"
        },
        "id": "KkT1zKpUPeu7",
        "outputId": "c0bf84c4-8672-4da1-eae2-65adbbea2fc1"
      },
      "source": [
        "def isPrimary(n):\n",
        "    isP = True\n",
        "    print(int(pow(n ,0.5))+1)\n",
        "    for i in range(2, int(pow(n ,0.5))+1):\n",
        "        for x in range(2, int(pow(n ,0.5))+1):\n",
        "            if i%x==0 and i!=x:\n",
        "                isP = False\n",
        "                break\n",
        "    return isP\n",
        "isPrimary(4)"
      ],
      "execution_count": null,
      "outputs": [
        {
          "output_type": "stream",
          "text": [
            "3\n"
          ],
          "name": "stdout"
        },
        {
          "output_type": "execute_result",
          "data": {
            "text/plain": [
              "True"
            ]
          },
          "metadata": {},
          "execution_count": 4
        }
      ]
    },
    {
      "cell_type": "code",
      "metadata": {
        "colab": {
          "base_uri": "https://localhost:8080/"
        },
        "id": "6XiRD6DDPRid",
        "outputId": "d9533733-1039-442f-b959-ceab405ca493"
      },
      "source": [
        "def prime_list(n):\n",
        "    # 에라토스테네스의 체 초기화: n개 요소에 True 설정(소수로 간주)\n",
        "    sieve = [True] * n\n",
        "\n",
        "    # n의 최대 약수가 sqrt(n) 이하이므로 i=sqrt(n)까지 검사\n",
        "    m = int(n ** 0.5)\n",
        "    for i in range(2, m + 1):\n",
        "        if sieve[i] == True:           # i가 소수인 경우\n",
        "            for j in range(i+i, n, i): # i이후 i의 배수들을 False 판정\n",
        "                sieve[j] = False\n",
        "\n",
        "    # 소수 목록 산출\n",
        "    return [i for i in range(2, n) if sieve[i] == True]\n",
        "\n",
        "\n",
        "def solution(n):\n",
        "    answer = len(prime_list(n+1))\n",
        "    return answer\n",
        "\n",
        "n = 5\n",
        "solution(n)"
      ],
      "execution_count": null,
      "outputs": [
        {
          "output_type": "execute_result",
          "data": {
            "text/plain": [
              "3"
            ]
          },
          "metadata": {},
          "execution_count": 12
        }
      ]
    },
    {
      "cell_type": "code",
      "metadata": {
        "colab": {
          "base_uri": "https://localhost:8080/"
        },
        "id": "_5vNbI7SLWN9",
        "outputId": "08c34b8f-6648-44e7-bfe7-6c55c292fed8"
      },
      "source": [
        "def isPrimary(n):\n",
        "    isP = True\n",
        "    for i in range(2,n//2+1):\n",
        "        if n % i == 0:\n",
        "            isP = False\n",
        "    return isP\n",
        "\n",
        "isPrimary(3)"
      ],
      "execution_count": null,
      "outputs": [
        {
          "output_type": "execute_result",
          "data": {
            "text/plain": [
              "True"
            ]
          },
          "metadata": {},
          "execution_count": 84
        }
      ]
    },
    {
      "cell_type": "code",
      "metadata": {
        "colab": {
          "base_uri": "https://localhost:8080/"
        },
        "id": "cCeIjyadQZFY",
        "outputId": "678b4f2d-dc60-4215-b861-791832a2b52b"
      },
      "source": [
        "so=[]\n",
        "cnt=1\n",
        "while len(so)!=5:\n",
        "    \n",
        "    cnt=cnt+1\n",
        "    con=False\n",
        "    cntpow=int(pow(cnt,0.5))\n",
        "    \n",
        "    for i in range(2,cntpow+1):\n",
        "        if cnt%i==0:\n",
        "            con=True\n",
        "            break\n",
        "    if con:\n",
        "        continue\n",
        "    so.append(cnt)\n",
        "\n",
        "print(so.pop())"
      ],
      "execution_count": null,
      "outputs": [
        {
          "output_type": "stream",
          "text": [
            "11\n"
          ],
          "name": "stdout"
        }
      ]
    },
    {
      "cell_type": "code",
      "metadata": {
        "id": "4zKsNPQpLqRL"
      },
      "source": [
        "def isPrimary(n):\n",
        "    isP = True\n",
        "    for i in range(1,n//2):\n",
        "        if n % i:\n",
        "            return False\n",
        "    return True"
      ],
      "execution_count": null,
      "outputs": []
    },
    {
      "cell_type": "markdown",
      "metadata": {
        "id": "IjQ9RnfoSisM"
      },
      "source": [
        "# 다른 사람 풀이"
      ]
    },
    {
      "cell_type": "code",
      "metadata": {
        "colab": {
          "base_uri": "https://localhost:8080/"
        },
        "id": "B0wjBXVPSiSt",
        "outputId": "a1ec9ec6-4858-4cb7-8ad6-03bf79b52670"
      },
      "source": [
        "def solution(n):\n",
        "    num=set(range(2,n+1))\n",
        "    print(num)\n",
        "    for i in range(2,n+1):\n",
        "        if i in num:\n",
        "            print(2*i, n+1, i)\n",
        "            num-=set(range(2*i,n+1,i))\n",
        "            print(num)\n",
        "    return len(num)\n",
        "\n",
        "solution(5)"
      ],
      "execution_count": null,
      "outputs": [
        {
          "output_type": "stream",
          "text": [
            "{2, 3, 4, 5}\n",
            "4 6 2\n",
            "{2, 3, 5}\n",
            "6 6 3\n",
            "{2, 3, 5}\n",
            "10 6 5\n",
            "{2, 3, 5}\n"
          ],
          "name": "stdout"
        },
        {
          "output_type": "execute_result",
          "data": {
            "text/plain": [
              "3"
            ]
          },
          "metadata": {},
          "execution_count": 14
        }
      ]
    },
    {
      "cell_type": "code",
      "metadata": {
        "colab": {
          "base_uri": "https://localhost:8080/"
        },
        "id": "hvalZRbHSso7",
        "outputId": "a6f22834-aa81-4baf-f9ce-7ac2f881305c"
      },
      "source": [
        "def numberOfPrime(n):\n",
        "    # 1부터 n사이의 소수는 몇 개인가요?\n",
        "    return 0\n",
        "def is_prime(n):\n",
        "    return all([(n%j) for j in range(2, int(n**0.5)+1)]) and n>1\n",
        "\n",
        "def numberOfPrime(n):\n",
        "    return [is_prime(x) for x in range(1, n+1)].count(True)\n",
        "\n",
        "# 아래는 테스트로 출력해 보기 위한 코드입니다.\n",
        "print(numberOfPrime(10))"
      ],
      "execution_count": null,
      "outputs": [
        {
          "output_type": "stream",
          "text": [
            "4\n"
          ],
          "name": "stdout"
        }
      ]
    },
    {
      "cell_type": "code",
      "metadata": {
        "colab": {
          "base_uri": "https://localhost:8080/"
        },
        "id": "p8t3TD1O2sGT",
        "outputId": "72a1c6ea-9572-4123-ae93-f28184886c20"
      },
      "source": [
        " n = 10\n",
        " range(2, int(pow(n ,0.5))+1)"
      ],
      "execution_count": 7,
      "outputs": [
        {
          "output_type": "execute_result",
          "data": {
            "text/plain": [
              "range(2, 4)"
            ]
          },
          "metadata": {},
          "execution_count": 7
        }
      ]
    },
    {
      "cell_type": "markdown",
      "metadata": {
        "id": "tjlmavRE3669"
      },
      "source": [
        "# 다른 사람 풀이"
      ]
    },
    {
      "cell_type": "code",
      "metadata": {
        "colab": {
          "base_uri": "https://localhost:8080/"
        },
        "id": "tJZL-az238g4",
        "outputId": "aaa08bc6-e865-45dd-d3cc-3d46356bfa97"
      },
      "source": [
        "def solution(n):\n",
        "    num=set(range(2,n+1))\n",
        "\n",
        "    for i in range(2,n+1):\n",
        "        if i in num:\n",
        "            num-=set(range(2*i,n+1,i))\n",
        "    return len(num)\n",
        "\n",
        "solution(2)"
      ],
      "execution_count": 10,
      "outputs": [
        {
          "output_type": "execute_result",
          "data": {
            "text/plain": [
              "1"
            ]
          },
          "metadata": {},
          "execution_count": 10
        }
      ]
    }
  ]
}