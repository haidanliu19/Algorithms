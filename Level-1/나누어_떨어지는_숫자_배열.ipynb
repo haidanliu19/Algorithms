{
  "nbformat": 4,
  "nbformat_minor": 0,
  "metadata": {
    "colab": {
      "name": "나누어 떨어지는 숫자 배열.ipynb",
      "provenance": [],
      "collapsed_sections": []
    },
    "kernelspec": {
      "name": "python3",
      "display_name": "Python 3"
    },
    "language_info": {
      "name": "python"
    }
  },
  "cells": [
    {
      "cell_type": "code",
      "metadata": {
        "colab": {
          "base_uri": "https://localhost:8080/"
        },
        "id": "asvqC2pNVm6N",
        "outputId": "9ae7d028-7e7e-4c4a-d231-b75586766044"
      },
      "source": [
        "%%time\n",
        "\n",
        "def solution(arr, divisor):\n",
        "    answer = sorted(list(filter(lambda x: x % divisor == 0,arr)))\n",
        "    return [-1] if len(answer)==0 else answer\n",
        "\n",
        "arr = [5, 9, 7, 10]\n",
        "divisor = 5 \n",
        "print(solution(arr, divisor))"
      ],
      "execution_count": 33,
      "outputs": [
        {
          "output_type": "stream",
          "name": "stdout",
          "text": [
            "[5, 10]\n",
            "CPU times: user 1.25 ms, sys: 0 ns, total: 1.25 ms\n",
            "Wall time: 2.46 ms\n"
          ]
        }
      ]
    },
    {
      "cell_type": "code",
      "metadata": {
        "colab": {
          "base_uri": "https://localhost:8080/"
        },
        "id": "_kTRrQUqusDK",
        "outputId": "ba2eb511-e856-4ce3-e6b5-13c998170c65"
      },
      "source": [
        "%%time\n",
        "\n",
        "def solution(arr, divisor):\n",
        "    answer = sorted(list(filter(lambda x: x % divisor == 0,arr)))\n",
        "    return [-1] if len(answer)==0 else answer\n",
        "\n",
        "arr =[2, 36, 1, 3]\n",
        "divisor = 1\n",
        "print(solution(arr, divisor))"
      ],
      "execution_count": 34,
      "outputs": [
        {
          "output_type": "stream",
          "name": "stdout",
          "text": [
            "[1, 2, 3, 36]\n",
            "CPU times: user 148 µs, sys: 0 ns, total: 148 µs\n",
            "Wall time: 120 µs\n"
          ]
        }
      ]
    },
    {
      "cell_type": "code",
      "metadata": {
        "colab": {
          "base_uri": "https://localhost:8080/"
        },
        "id": "pw1OIY38u-CN",
        "outputId": "234f4025-777a-44e6-84f5-8ac4104b6b58"
      },
      "source": [
        "%%time\n",
        "\n",
        "def solution(arr, divisor):\n",
        "    answer = list(filter(lambda x: x % divisor == 0,arr))\n",
        "    return sorted([-1] if len(answer)==0 else answer)\n",
        "\n",
        "arr =[3,2,6]\n",
        "divisor = 10\n",
        "print(solution(arr, divisor))"
      ],
      "execution_count": 42,
      "outputs": [
        {
          "output_type": "stream",
          "name": "stdout",
          "text": [
            "[-1]\n",
            "CPU times: user 694 µs, sys: 0 ns, total: 694 µs\n",
            "Wall time: 1.03 ms\n"
          ]
        }
      ]
    },
    {
      "cell_type": "code",
      "metadata": {
        "colab": {
          "base_uri": "https://localhost:8080/"
        },
        "id": "h0gnpMpVweIg",
        "outputId": "af5f0c6a-3e6f-4fe1-8c34-8ec1c666c0c6"
      },
      "source": [
        "%%time\n",
        "\n",
        "def solution(arr, divisor):\n",
        "    answer = list(filter(lambda x: x % divisor == 0,arr))\n",
        "    return sorted(answer) or [-1]\n",
        "\n",
        "arr =[2, 36, 1, 3]\n",
        "divisor = 1\n",
        "print(solution(arr, divisor))\n",
        "\n",
        "arr =[3,2,6]\n",
        "divisor = 10\n",
        "print(solution(arr, divisor))"
      ],
      "execution_count": 44,
      "outputs": [
        {
          "output_type": "stream",
          "name": "stdout",
          "text": [
            "[1, 2, 3, 36]\n",
            "[-1]\n",
            "CPU times: user 366 µs, sys: 0 ns, total: 366 µs\n",
            "Wall time: 298 µs\n"
          ]
        }
      ]
    }
  ]
}