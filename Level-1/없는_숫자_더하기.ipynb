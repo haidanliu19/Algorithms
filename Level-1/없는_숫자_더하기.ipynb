{
  "nbformat": 4,
  "nbformat_minor": 0,
  "metadata": {
    "colab": {
      "name": "없는 숫자 더하기.ipynb",
      "provenance": [],
      "collapsed_sections": []
    },
    "kernelspec": {
      "name": "python3",
      "display_name": "Python 3"
    },
    "language_info": {
      "name": "python"
    }
  },
  "cells": [
    {
      "cell_type": "code",
      "metadata": {
        "colab": {
          "base_uri": "https://localhost:8080/"
        },
        "id": "0voL8OmxRAT3",
        "outputId": "fa5e1ff6-4b07-434e-eed6-21e9183286b8"
      },
      "source": [
        "def solution(numbers):\n",
        "    answer= sum([i for i in range(10) if i not in numbers])\n",
        "    return answer\n",
        "\n",
        "numbers= [1,2,3,4,6,7,8,0]\n",
        "solution(numbers)"
      ],
      "execution_count": 3,
      "outputs": [
        {
          "output_type": "execute_result",
          "data": {
            "text/plain": [
              "14"
            ]
          },
          "metadata": {},
          "execution_count": 3
        }
      ]
    }
  ]
}