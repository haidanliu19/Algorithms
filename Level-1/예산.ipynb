{
  "nbformat": 4,
  "nbformat_minor": 0,
  "metadata": {
    "colab": {
      "name": "예산",
      "provenance": [],
      "collapsed_sections": []
    },
    "kernelspec": {
      "name": "python3",
      "display_name": "Python 3"
    },
    "language_info": {
      "name": "python"
    }
  },
  "cells": [
    {
      "cell_type": "code",
      "metadata": {
        "colab": {
          "base_uri": "https://localhost:8080/"
        },
        "id": "j3JTqCl5LMqO",
        "outputId": "cbde441d-ef0c-49dc-f0c5-4418480c59d3"
      },
      "source": [
        "def solution(d, budget):\n",
        "    answer = 0\n",
        "    d.sort()\n",
        "    sum_list= []\n",
        "    sum_= 0\n",
        "    for idx,val in enumerate(d):\n",
        "        sum_ += val\n",
        "        sum_list.append(sum_)\n",
        "  \n",
        "    for idx, val in enumerate(sum_list):\n",
        "        if val > budget:\n",
        "            answer = idx\n",
        "            break\n",
        "        else:\n",
        "            answer = idx+1\n",
        "    return answer\n",
        "\n",
        "\n",
        "d = [1,3,2,5,4]\n",
        "budget = 9\n",
        "solution(d, budget)"
      ],
      "execution_count": 43,
      "outputs": [
        {
          "output_type": "execute_result",
          "data": {
            "text/plain": [
              "3"
            ]
          },
          "metadata": {},
          "execution_count": 43
        }
      ]
    },
    {
      "cell_type": "code",
      "metadata": {
        "colab": {
          "base_uri": "https://localhost:8080/"
        },
        "id": "oAsRvgSOOkv6",
        "outputId": "36a45973-6e18-4d91-d74b-90557ba4952d"
      },
      "source": [
        "def solution(d, budget):\n",
        "    answer = 0\n",
        "    d.sort()\n",
        "    sum_list= []\n",
        "    sum_= 0\n",
        "    for idx,val in enumerate(d):\n",
        "        sum_ += val\n",
        "        sum_list.append(sum_)\n",
        "  \n",
        "    for idx, val in enumerate(sum_list):\n",
        "        if val > budget:\n",
        "            answer = idx\n",
        "            break\n",
        "        else:\n",
        "            answer = idx+1\n",
        "    return answer\n",
        "\n",
        "\n",
        "d = [2,2,3,3]\n",
        "budget = 10\n",
        "solution(d, budget)"
      ],
      "execution_count": 42,
      "outputs": [
        {
          "output_type": "stream",
          "name": "stdout",
          "text": [
            "[2, 4, 7, 10]\n"
          ]
        },
        {
          "output_type": "execute_result",
          "data": {
            "text/plain": [
              "4"
            ]
          },
          "metadata": {},
          "execution_count": 42
        }
      ]
    }
  ]
}