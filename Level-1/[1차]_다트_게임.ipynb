{
  "nbformat": 4,
  "nbformat_minor": 0,
  "metadata": {
    "colab": {
      "name": "[1차] 다트 게임.ipynb",
      "provenance": [],
      "collapsed_sections": []
    },
    "kernelspec": {
      "name": "python3",
      "display_name": "Python 3"
    },
    "language_info": {
      "name": "python"
    }
  },
  "cells": [
    {
      "cell_type": "code",
      "metadata": {
        "colab": {
          "base_uri": "https://localhost:8080/"
        },
        "id": "z0pIk2j7EN_m",
        "outputId": "307379ed-fcf1-4d53-be4a-347bd27e2ee1"
      },
      "source": [
        "import re\n",
        "\n",
        "def solution(dartResult):\n",
        "    scoredict =  {\"S\":1,\"D\":2,\"T\":3,\"*\":2,\"#\":-1}\n",
        "    # 2개씩 한 세트로 하기 위하여 10을 -> TEN  \n",
        "    # T가 있어서 E로 바꿨다.\n",
        "    dartResult = dartResult.replace('10','E')\n",
        "    # 바뀐다음 숫자 혹은 E의 위치를 찾는다.\n",
        "    reg = [(m.start(0)) for m in re.finditer(\"\\d|E+\", dartResult)]\n",
        "    answer = []\n",
        "    for idx,ele in enumerate(dartResult):\n",
        "        # 위치가 reg에 있을 경우 \n",
        "        if idx in reg:\n",
        "            ele = 10 if ele == 'E' else ele\n",
        "            score = int(ele)**scoredict[dartResult[idx+1]]\n",
        "            answer.append(score)\n",
        "        # 위치가 reg에 없을 경우 \n",
        "        else:\n",
        "            if ele == \"*\":\n",
        "                if len(answer) > 1:\n",
        "                    # length 앞에껏 까지 해준다. \n",
        "                    answer[-2] = answer[-2]* scoredict[dartResult[idx]]\n",
        "                    answer[-1] = answer[-1]* scoredict[dartResult[idx]]\n",
        "                else:\n",
        "                    answer[-1] = answer[-1]* scoredict[dartResult[idx]]\n",
        "            elif ele ==\"#\":\n",
        "                answer[-1] = answer[-1]* scoredict[dartResult[idx]]\n",
        "            else:\n",
        "                # 문자일 경우 skip\n",
        "                continue   \n",
        "    \n",
        "    return sum(answer)\n",
        "\n",
        "dartResult = \"1D2S0T\"\n",
        "print(solution(dartResult))"
      ],
      "execution_count": 114,
      "outputs": [
        {
          "output_type": "stream",
          "name": "stdout",
          "text": [
            "3\n"
          ]
        }
      ]
    },
    {
      "cell_type": "code",
      "metadata": {
        "colab": {
          "base_uri": "https://localhost:8080/"
        },
        "id": "Hy7QnP1CUZlJ",
        "outputId": "ff18c609-9c3f-4b01-8111-ed98092b5701"
      },
      "source": [
        "import re\n",
        "\n",
        "def solution(dartResult):\n",
        "    scoredict =  {\"S\":1,\"D\":2,\"T\":3,\"*\":2,\"#\":-1}\n",
        "    # 2개씩 한 세트로 하기 위하여 10을 -> TEN  \n",
        "    # T가 있어서 E로 바꿨다.\n",
        "    dartResult = dartResult.replace('10','E')\n",
        "    # 바뀐다음 숫자 혹은 E의 위치를 찾는다.\n",
        "    reg = [(m.start(0)) for m in re.finditer(\"\\d|E+\", dartResult)]\n",
        "    answer = []\n",
        "    for idx,ele in enumerate(dartResult):\n",
        "        # 위치가 reg에 있을 경우 \n",
        "        if idx in reg:\n",
        "            ele = 10 if ele == 'E' else ele\n",
        "            score = int(ele)**scoredict[dartResult[idx+1]]\n",
        "            answer.append(score)\n",
        "        # 위치가 reg에 없을 경우 \n",
        "        else:\n",
        "            if ele == \"*\" and len(answer) > 1:\n",
        "                answer[-2:] =  [x*scoredict[dartResult[idx]] for x in answer[-2:]]\n",
        "            elif ele == \"*\" or ele ==\"#\":\n",
        "                answer[-1] = answer[-1]* scoredict[dartResult[idx]]\n",
        "            else:\n",
        "                # 문자일 경우 skip\n",
        "                continue   \n",
        "    \n",
        "    return sum(answer)\n",
        "\n",
        "dartResult = \"1D2S0T\"\n",
        "print(solution(dartResult))"
      ],
      "execution_count": 131,
      "outputs": [
        {
          "output_type": "stream",
          "name": "stdout",
          "text": [
            "3\n"
          ]
        }
      ]
    },
    {
      "cell_type": "code",
      "metadata": {
        "colab": {
          "base_uri": "https://localhost:8080/"
        },
        "id": "Rqp-p9r8SuzX",
        "outputId": "6a7fc175-e906-4d00-ff4b-3791b29c5638"
      },
      "source": [
        "import re\n",
        "\n",
        "def solution(dartResult):\n",
        "    scoredict =  {\"S\":1,\"D\":2,\"T\":3,\"*\":2,\"#\":-1}\n",
        "    # 2개씩 한 세트로 하기 위하여 10을 -> TEN  \n",
        "    # T가 있어서 E로 바꿨다.\n",
        "    dartResult = dartResult.replace('10','E')\n",
        "    # 바뀐다음 숫자 혹은 E의 위치를 찾는다.\n",
        "    reg = [(m.start(0)) for m in re.finditer(\"\\d|E+\", dartResult)]\n",
        "    answer = []\n",
        "    for idx,ele in enumerate(dartResult):\n",
        "        # 위치가 reg에 있을 경우 \n",
        "        if idx in reg:\n",
        "            ele = 10 if ele == 'E' else ele\n",
        "            score = int(ele)**scoredict[dartResult[idx+1]]\n",
        "            answer.append(score)\n",
        "        # 위치가 reg에 없을 경우 \n",
        "        else:\n",
        "            if ele == \"*\" and len(answer) > 1:\n",
        "                answer[-2:] =  [x*2 for x in answer[-2:]]\n",
        "            elif ele == \"*\" or ele ==\"#\":\n",
        "                answer[-1] = answer[-1]* scoredict[dartResult[idx]]\n",
        "            else:\n",
        "                # 문자일 경우 skip\n",
        "                continue   \n",
        "    \n",
        "    return sum(answer)\n",
        "\n",
        "dartResult = '1S*2T*3S'\n",
        "print(solution(dartResult))"
      ],
      "execution_count": 130,
      "outputs": [
        {
          "output_type": "stream",
          "name": "stdout",
          "text": [
            "23\n"
          ]
        }
      ]
    },
    {
      "cell_type": "code",
      "metadata": {
        "colab": {
          "base_uri": "https://localhost:8080/"
        },
        "id": "B_iHTylKRDW8",
        "outputId": "dbf4cf69-490a-44e8-c910-b0009e159987"
      },
      "source": [
        "import re\n",
        "\n",
        "\n",
        "def solution(dartResult):\n",
        "    bonus = {'S' : 1, 'D' : 2, 'T' : 3}\n",
        "    option = {'' : 1, '*' : 2, '#' : -1}\n",
        "    p = re.compile('(\\d+)([SDT])([*#]?)')\n",
        "    dart = p.findall(dartResult)\n",
        "    for i in range(len(dart)):\n",
        "        if dart[i][2] == '*' and i > 0:\n",
        "            print(dart)\n",
        "            dart[i-1] *= 2 # * 의 앞에 있는 것 까지 *2로 해준다.\n",
        "        dart[i] = int(dart[i][0]) ** bonus[dart[i][1]] * option[dart[i][2]]\n",
        "\n",
        "    answer = sum(dart)\n",
        "    return answer\n",
        "\n",
        "dartResult = \"1S*2T*3S\"\n",
        "print(solution(dartResult))"
      ],
      "execution_count": 122,
      "outputs": [
        {
          "output_type": "stream",
          "name": "stdout",
          "text": [
            "[2, ('2', 'T', '*'), ('3', 'S', '')]\n",
            "23\n"
          ]
        }
      ]
    },
    {
      "cell_type": "code",
      "metadata": {
        "colab": {
          "base_uri": "https://localhost:8080/"
        },
        "id": "f8kj_A3XROhN",
        "outputId": "725353fc-5afc-4da3-b4d0-527c77b5bfda"
      },
      "source": [
        "def solution(dartResult):\n",
        "    dart = {'S':1, 'D':2, 'T':3}\n",
        "    scores = []\n",
        "    n = 0\n",
        "\n",
        "    for i, d in enumerate(dartResult):\n",
        "        if d in dart:\n",
        "            scores.append(int(dartResult[n:i])**dart[d])\n",
        "        if d == \"*\":\n",
        "            scores[-2:] = [x*2 for x in scores[-2:]]\n",
        "        if d == \"#\":\n",
        "            scores[-1] = (-1)*scores[-1]\n",
        "        if not (d.isnumeric()):\n",
        "            n = i+1\n",
        "\n",
        "    return sum(scores)\n",
        "\n",
        "\n",
        "dartResult = '1S*2T*3S'\n",
        "print(solution(dartResult))"
      ],
      "execution_count": 118,
      "outputs": [
        {
          "output_type": "stream",
          "name": "stdout",
          "text": [
            "23\n"
          ]
        }
      ]
    },
    {
      "cell_type": "code",
      "metadata": {
        "id": "o_bt__MKF5lz"
      },
      "source": [
        ""
      ],
      "execution_count": null,
      "outputs": []
    }
  ]
}