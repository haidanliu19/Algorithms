{
  "nbformat": 4,
  "nbformat_minor": 0,
  "metadata": {
    "colab": {
      "name": "크레인 인형뽑기 게임.ipynb",
      "provenance": [],
      "collapsed_sections": []
    },
    "kernelspec": {
      "name": "python3",
      "display_name": "Python 3"
    },
    "language_info": {
      "name": "python"
    }
  },
  "cells": [
    {
      "cell_type": "code",
      "metadata": {
        "colab": {
          "base_uri": "https://localhost:8080/"
        },
        "id": "QwAVpaTDg4hA",
        "outputId": "e4a11e05-adbe-425f-a1da-d912a7d8cc1f"
      },
      "source": [
        "import numpy as np\n",
        "\n",
        "def solution(board, moves):\n",
        "    answer = 0\n",
        "    board= np.array(board). T\n",
        "    result = [0]\n",
        "    for i in moves:\n",
        "        for idx, val in enumerate(board[i-1]):\n",
        "            if val != 0:\n",
        "                board[i-1][idx] = 0\n",
        "                if val == result[0]:\n",
        "                    result.pop(0)\n",
        "                    answer+= 2\n",
        "                else:\n",
        "                    result.insert(0,val)\n",
        "                break\n",
        "    return answer\n",
        "\n",
        "\n",
        "board= [[0,0,0,0,0],[0,0,1,0,3],[0,2,5,0,1],[4,2,4,4,2],[3,5,1,3,1]]\n",
        "moves = [1,5,3,5,1,2,1,4]\n",
        "solution(board, moves)"
      ],
      "execution_count": 43,
      "outputs": [
        {
          "output_type": "execute_result",
          "data": {
            "text/plain": [
              "4"
            ]
          },
          "metadata": {},
          "execution_count": 43
        }
      ]
    },
    {
      "cell_type": "code",
      "metadata": {
        "colab": {
          "base_uri": "https://localhost:8080/"
        },
        "id": "EIQExWHdlyGU",
        "outputId": "35318737-5f8f-43ca-a68b-f2a5d2ae7984"
      },
      "source": [
        "moves = [1,5,3,5,1,2,1,4]\n",
        "moves[-1]"
      ],
      "execution_count": 36,
      "outputs": [
        {
          "output_type": "execute_result",
          "data": {
            "text/plain": [
              "4"
            ]
          },
          "metadata": {},
          "execution_count": 36
        }
      ]
    }
  ]
}