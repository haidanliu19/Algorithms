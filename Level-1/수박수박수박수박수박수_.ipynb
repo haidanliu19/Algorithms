{
  "nbformat": 4,
  "nbformat_minor": 0,
  "metadata": {
    "colab": {
      "name": "수박수박수박수박수박수?.ipynb",
      "provenance": [],
      "collapsed_sections": []
    },
    "kernelspec": {
      "name": "python3",
      "display_name": "Python 3"
    },
    "language_info": {
      "name": "python"
    }
  },
  "cells": [
    {
      "cell_type": "code",
      "metadata": {
        "colab": {
          "base_uri": "https://localhost:8080/",
          "height": 35
        },
        "id": "CtrWftMLEkFK",
        "outputId": "26eded01-8db4-44d6-b65c-3528ba349d5d"
      },
      "source": [
        "def solution(n):\n",
        "    _list = ['수','박']\n",
        "    i = 0\n",
        "    answer= \"\"\n",
        "    while i < n:\n",
        "        answer += _list[i%2]\n",
        "        i+=1\n",
        "    return answer\n",
        "\n",
        "solution(3)"
      ],
      "execution_count": 23,
      "outputs": [
        {
          "output_type": "execute_result",
          "data": {
            "application/vnd.google.colaboratory.intrinsic+json": {
              "type": "string"
            },
            "text/plain": [
              "'수박수'"
            ]
          },
          "metadata": {},
          "execution_count": 23
        }
      ]
    },
    {
      "cell_type": "code",
      "metadata": {
        "colab": {
          "base_uri": "https://localhost:8080/",
          "height": 35
        },
        "id": "nm0gEqznHNXa",
        "outputId": "762df798-50ce-4259-9b93-bbeaebea86e4"
      },
      "source": [
        "def solution(n):\n",
        "    _list = ['수','박']\n",
        "    answer = \"\".join([_list[i%2] for i in range(n)])\n",
        "    return answer\n",
        "\n",
        "solution(3)"
      ],
      "execution_count": 27,
      "outputs": [
        {
          "output_type": "execute_result",
          "data": {
            "application/vnd.google.colaboratory.intrinsic+json": {
              "type": "string"
            },
            "text/plain": [
              "'수박수'"
            ]
          },
          "metadata": {},
          "execution_count": 27
        }
      ]
    },
    {
      "cell_type": "code",
      "metadata": {
        "colab": {
          "base_uri": "https://localhost:8080/",
          "height": 35
        },
        "id": "XvrvgL7nHgQt",
        "outputId": "869df79b-f5f2-4f27-8a6a-1ee0164ccdd5"
      },
      "source": [
        "def solution(n):\n",
        "    _list = ['수','박']\n",
        "    answer = \"\".join(list(map(lambda x: _list[x%2], [i for i in range(n)])))\n",
        "    return answer\n",
        "\n",
        "solution(4)"
      ],
      "execution_count": 41,
      "outputs": [
        {
          "output_type": "execute_result",
          "data": {
            "application/vnd.google.colaboratory.intrinsic+json": {
              "type": "string"
            },
            "text/plain": [
              "'수박수박'"
            ]
          },
          "metadata": {},
          "execution_count": 41
        }
      ]
    },
    {
      "cell_type": "markdown",
      "metadata": {
        "id": "qJwHdpVZJnBj"
      },
      "source": [
        "## 다른 사람 풀이"
      ]
    },
    {
      "cell_type": "code",
      "metadata": {
        "colab": {
          "base_uri": "https://localhost:8080/"
        },
        "id": "k4zmpPhmJgSW",
        "outputId": "1795206b-bffe-4f10-a96e-d9a49c3c0511"
      },
      "source": [
        "def water_melon(n):\n",
        "    s = \"수박\" * n\n",
        "    return s[:n]\n",
        "\n",
        "\n",
        "# 실행을 위한 테스트코드입니다.\n",
        "print(\"n이 3인 경우: \" + water_melon(3));\n",
        "print(\"n이 4인 경우: \" + water_melon(4));"
      ],
      "execution_count": 42,
      "outputs": [
        {
          "output_type": "stream",
          "text": [
            "n이 3인 경우: 수박수\n",
            "n이 4인 경우: 수박수박\n"
          ],
          "name": "stdout"
        }
      ]
    },
    {
      "cell_type": "code",
      "metadata": {
        "colab": {
          "base_uri": "https://localhost:8080/"
        },
        "id": "4gNS306iJhB-",
        "outputId": "adc62343-b530-40ae-8419-c662dc4fca1b"
      },
      "source": [
        "def water_melon(n):\n",
        "    return \"수박\"*(n//2) + \"수\"*(n%2)\n",
        "\n",
        "\n",
        "# 실행을 위한 테스트코드입니다.\n",
        "print(\"n이 3인 경우: \" + water_melon(3));\n",
        "print(\"n이 4인 경우: \" + water_melon(4));"
      ],
      "execution_count": 43,
      "outputs": [
        {
          "output_type": "stream",
          "text": [
            "n이 3인 경우: 수박수\n",
            "n이 4인 경우: 수박수박\n"
          ],
          "name": "stdout"
        }
      ]
    },
    {
      "cell_type": "code",
      "metadata": {
        "id": "BboM-Q9NJhFK"
      },
      "source": [
        "def solution(n):\n",
        "    return \"\".join([\"수박\"[i%2] for i in range(n)])"
      ],
      "execution_count": 44,
      "outputs": []
    }
  ]
}