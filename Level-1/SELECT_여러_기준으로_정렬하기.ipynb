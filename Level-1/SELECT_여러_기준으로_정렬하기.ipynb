{
  "nbformat": 4,
  "nbformat_minor": 0,
  "metadata": {
    "colab": {
      "name": "SELECT_여러 기준으로 정렬하기.ipynb",
      "provenance": [],
      "collapsed_sections": []
    },
    "kernelspec": {
      "name": "python3",
      "display_name": "Python 3"
    },
    "language_info": {
      "name": "python"
    }
  },
  "cells": [
    {
      "cell_type": "code",
      "metadata": {
        "id": "MTFYG3ankzfB"
      },
      "source": [
        "-- 코드를 입력하세요\n",
        "SELECT ANIMAL_ID,\tNAME,\tDATETIME\n",
        "FROM ANIMAL_INS \n",
        "ORDER BY NAME ASC,DATETIME DESC"
      ],
      "execution_count": null,
      "outputs": []
    }
  ]
}