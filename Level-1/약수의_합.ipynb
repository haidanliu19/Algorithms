{
  "nbformat": 4,
  "nbformat_minor": 0,
  "metadata": {
    "colab": {
      "name": "약수의 합.ipynb",
      "provenance": [],
      "collapsed_sections": []
    },
    "kernelspec": {
      "name": "python3",
      "display_name": "Python 3"
    },
    "language_info": {
      "name": "python"
    }
  },
  "cells": [
    {
      "cell_type": "code",
      "metadata": {
        "colab": {
          "base_uri": "https://localhost:8080/"
        },
        "id": "NS8y3ny5A5Nq",
        "outputId": "e484670e-cbe3-4a5e-b36b-9c3af3016b9c"
      },
      "source": [
        "def solution(n):\n",
        "    answer = sum(list(filter(lambda x:n%x ==0 , range(1, n+1))))\n",
        "    return answer\n",
        "\n",
        "n = 12\n",
        "solution(n)"
      ],
      "execution_count": 88,
      "outputs": [
        {
          "output_type": "execute_result",
          "data": {
            "text/plain": [
              "28"
            ]
          },
          "metadata": {
            "tags": []
          },
          "execution_count": 88
        }
      ]
    },
    {
      "cell_type": "code",
      "metadata": {
        "colab": {
          "base_uri": "https://localhost:8080/"
        },
        "id": "PxMbOQJXR0CJ",
        "outputId": "50bd41cc-8e19-4e0e-dbd9-1c68c44d542b"
      },
      "source": [
        "def solution(n):\n",
        "    answer = n+ sum(list(filter(lambda x:n%x ==0 , range(1, (n // 2) + 1))))\n",
        "    return answer\n",
        "\n",
        "n = 12\n",
        "solution(n)"
      ],
      "execution_count": 90,
      "outputs": [
        {
          "output_type": "execute_result",
          "data": {
            "text/plain": [
              "28"
            ]
          },
          "metadata": {
            "tags": []
          },
          "execution_count": 90
        }
      ]
    },
    {
      "cell_type": "code",
      "metadata": {
        "id": "MLM1P94hRBN1"
      },
      "source": [
        "list(map(lambda x: x ** 2, range(5)))   "
      ],
      "execution_count": null,
      "outputs": []
    }
  ]
}