{
  "nbformat": 4,
  "nbformat_minor": 0,
  "metadata": {
    "colab": {
      "name": "[1차] 비밀지도.ipynb",
      "provenance": [],
      "collapsed_sections": []
    },
    "kernelspec": {
      "name": "python3",
      "display_name": "Python 3"
    },
    "language_info": {
      "name": "python"
    }
  },
  "cells": [
    {
      "cell_type": "code",
      "metadata": {
        "colab": {
          "base_uri": "https://localhost:8080/"
        },
        "id": "gw9ioFDpiozX",
        "outputId": "8bbed082-3c4e-4659-972a-53b20c538270"
      },
      "source": [
        "def solution(n, arr1, arr2):\n",
        "    answer = []\n",
        "    for i in range(len(arr1)):\n",
        "        answer.append(bin(arr1[i] | arr2[i]).zfill(len(arr1)+2).replace('0b','').replace('1','#').replace('0',' '))\n",
        "    return answer\n",
        "\n",
        "n = 5 \n",
        "arr1 = [9, 20, 28, 18, 11]\n",
        "arr2 = [30, 1, 21, 17, 28]\n",
        "solution(n, arr1, arr2)"
      ],
      "execution_count": null,
      "outputs": [
        {
          "output_type": "execute_result",
          "data": {
            "text/plain": [
              "['#####', '# # #', '### #', '#  ##', '#####']"
            ]
          },
          "metadata": {},
          "execution_count": 36
        }
      ]
    },
    {
      "cell_type": "code",
      "metadata": {
        "colab": {
          "base_uri": "https://localhost:8080/"
        },
        "id": "siQUIUWnoGau",
        "outputId": "403dd9a2-6d91-485f-a116-b6d926d31d79"
      },
      "source": [
        "def solution(n, arr1, arr2):\n",
        "    answer = []\n",
        "    for i in range(len(arr1)):\n",
        "        answer.append(bin(arr1[i] | arr2[i]).zfill(n+2).replace('0b','').replace('1','#').replace('0',' '))\n",
        "    return answer\n",
        "\n",
        "n = 6\n",
        "arr1 = [46, 33, 33 ,22, 31, 50]\n",
        "arr2 = [27 ,56, 19, 14, 14, 10]\n",
        "solution(n, arr1, arr2)"
      ],
      "execution_count": null,
      "outputs": [
        {
          "output_type": "execute_result",
          "data": {
            "text/plain": [
              "['######', '###  #', '##  ##', ' #### ', ' #####', '### # ']"
            ]
          },
          "metadata": {},
          "execution_count": 51
        }
      ]
    },
    {
      "cell_type": "markdown",
      "metadata": {
        "id": "SNVcS1YDq3OL"
      },
      "source": [
        "수정하기"
      ]
    },
    {
      "cell_type": "code",
      "metadata": {
        "colab": {
          "base_uri": "https://localhost:8080/"
        },
        "id": "li72rW6Cq4QA",
        "outputId": "4034cd56-993b-47d7-a6ea-2e6cc94a616b"
      },
      "source": [
        "def solution(n, arr1, arr2):\n",
        "    answer = []\n",
        "    for i in range(len(arr1)):\n",
        "        answer.append(bin(arr1[i] | arr2[i]).replace('0b','').zfill(n).replace('1','#').replace('0',' '))\n",
        "    return answer\n",
        "\n",
        "n = 6\n",
        "arr1 = [46, 33, 33 ,22, 31, 50]\n",
        "arr2 = [27 ,56, 19, 14, 14, 10]\n",
        "solution(n, arr1, arr2)"
      ],
      "execution_count": null,
      "outputs": [
        {
          "output_type": "execute_result",
          "data": {
            "text/plain": [
              "['######', '###  #', '##  ##', ' #### ', ' #####', '### # ']"
            ]
          },
          "metadata": {},
          "execution_count": 52
        }
      ]
    }
  ]
}