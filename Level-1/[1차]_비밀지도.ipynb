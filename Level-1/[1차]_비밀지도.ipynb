{
  "nbformat": 4,
  "nbformat_minor": 0,
  "metadata": {
    "colab": {
      "name": "[1차] 비밀지도.ipynb",
      "provenance": [],
      "collapsed_sections": []
    },
    "kernelspec": {
      "name": "python3",
      "display_name": "Python 3"
    },
    "language_info": {
      "name": "python"
    }
  },
  "cells": [
    {
      "cell_type": "code",
      "metadata": {
        "colab": {
          "base_uri": "https://localhost:8080/"
        },
        "id": "gw9ioFDpiozX",
        "outputId": "8bbed082-3c4e-4659-972a-53b20c538270"
      },
      "source": [
        "def solution(n, arr1, arr2):\n",
        "    answer = []\n",
        "    for i in range(len(arr1)):\n",
        "        answer.append(bin(arr1[i] | arr2[i]).replace('0b','').replace('1','#').replace('0',' '))\n",
        "    return answer\n",
        "\n",
        "n = 5 \n",
        "arr1 = [9, 20, 28, 18, 11]\n",
        "arr2 = [30, 1, 21, 17, 28]\n",
        "solution(n, arr1, arr2)"
      ],
      "execution_count": 36,
      "outputs": [
        {
          "output_type": "execute_result",
          "data": {
            "text/plain": [
              "['#####', '# # #', '### #', '#  ##', '#####']"
            ]
          },
          "metadata": {},
          "execution_count": 36
        }
      ]
    },
    {
      "cell_type": "code",
      "metadata": {
        "colab": {
          "base_uri": "https://localhost:8080/"
        },
        "id": "siQUIUWnoGau",
        "outputId": "a3931283-4986-4432-b871-bbd028986723"
      },
      "source": [
        "def solution(n, arr1, arr2):\n",
        "    answer = []\n",
        "    for i in range(len(arr1)):\n",
        "        answer.append(bin(arr1[i] | arr2[i]).zfill(len(arr1)+2).replace('0b','').replace('1','#').replace('0',' '))\n",
        "    return answer\n",
        "\n",
        "n = 5 \n",
        "arr1 = [46, 33, 33 ,22, 31, 50]\n",
        "arr2 = [27 ,56, 19, 14, 14, 10]\n",
        "solution(n, arr1, arr2)"
      ],
      "execution_count": 46,
      "outputs": [
        {
          "output_type": "execute_result",
          "data": {
            "text/plain": [
              "['######', '###  #', '##  ##', ' #### ', ' #####', '### # ']"
            ]
          },
          "metadata": {},
          "execution_count": 46
        }
      ]
    }
  ]
}