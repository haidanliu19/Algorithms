{
  "nbformat": 4,
  "nbformat_minor": 0,
  "metadata": {
    "colab": {
      "name": "SELECT_역순 정렬하기.ipynb",
      "provenance": [],
      "collapsed_sections": []
    },
    "kernelspec": {
      "name": "python3",
      "display_name": "Python 3"
    },
    "language_info": {
      "name": "python"
    }
  },
  "cells": [
    {
      "cell_type": "code",
      "metadata": {
        "id": "iSqOPOFBjtLu"
      },
      "source": [
        "-- 코드를 입력하세요\n",
        "SELECT NAME, \n",
        "       DATETIME\n",
        "FROM ANIMAL_INS\n",
        "ORDER BY ANIMAL_ID DESC"
      ],
      "execution_count": null,
      "outputs": []
    }
  ]
}