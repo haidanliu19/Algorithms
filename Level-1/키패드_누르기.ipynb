{
  "nbformat": 4,
  "nbformat_minor": 0,
  "metadata": {
    "colab": {
      "name": "키패드 누르기.ipynb",
      "provenance": [],
      "collapsed_sections": []
    },
    "kernelspec": {
      "name": "python3",
      "display_name": "Python 3"
    },
    "language_info": {
      "name": "python"
    }
  },
  "cells": [
    {
      "cell_type": "code",
      "metadata": {
        "colab": {
          "base_uri": "https://localhost:8080/",
          "height": 36
        },
        "id": "JX2NHweyLAWr",
        "outputId": "ce815d28-e4b3-49c1-86d9-9258090e5e83"
      },
      "source": [
        "def solution(numbers, hand):\n",
        "    answer = ''\n",
        "    left_list = [1,4,7,'*']\n",
        "    right_list = [3,6,9,'#']\n",
        "                # 0,1,2,3,4,5,6,7,8,9,#,*\n",
        "    mid_dict ={2:[3,1,0,1,2,1,2,3,2,3,4,4],\n",
        "               5:[2,2,1,2,1,0,1,2,1,2,3,3],\n",
        "               8:[1,3,2,3,2,1,2,1,0,1,2,2],\n",
        "               0:[0,4,3,4,3,2,3,2,1,2,1,1]}\n",
        "    last_right = 10\n",
        "    last_left = 11\n",
        "    for i in numbers:\n",
        "        if i in left_list:\n",
        "            answer += 'L'\n",
        "            last_left = i\n",
        "        elif i in right_list:\n",
        "            answer += 'R'\n",
        "            last_right = i\n",
        "        else:\n",
        "            if mid_dict[i][last_left] < mid_dict[i][last_right]:\n",
        "                answer += 'L'\n",
        "                last_left = i\n",
        "            elif mid_dict[i][last_left] > mid_dict[i][last_right]:\n",
        "                answer += 'R'\n",
        "                last_right = i\n",
        "            else:\n",
        "                if 'R' in hand.upper() :\n",
        "                    answer += 'R'\n",
        "                    last_right = i\n",
        "                else:\n",
        "                    answer += 'L'\n",
        "                    last_left = i\n",
        "    return answer\n",
        "\n",
        "numbers= [1, 3, 4, 5, 8, 2, 1, 4, 5, 9, 5]\n",
        "hand = \"right\"\n",
        "solution(numbers, hand)"
      ],
      "execution_count": 41,
      "outputs": [
        {
          "output_type": "execute_result",
          "data": {
            "application/vnd.google.colaboratory.intrinsic+json": {
              "type": "string"
            },
            "text/plain": [
              "'LRLLLRLLRRL'"
            ]
          },
          "metadata": {},
          "execution_count": 41
        }
      ]
    }
  ]
}