{
  "nbformat": 4,
  "nbformat_minor": 0,
  "metadata": {
    "kernelspec": {
      "display_name": "Python 3",
      "language": "python",
      "name": "python3"
    },
    "language_info": {
      "codemirror_mode": {
        "name": "ipython",
        "version": 3
      },
      "file_extension": ".py",
      "mimetype": "text/x-python",
      "name": "python",
      "nbconvert_exporter": "python",
      "pygments_lexer": "ipython3",
      "version": "3.8.5"
    },
    "colab": {
      "name": "평균 구하기.ipynb",
      "provenance": []
    }
  },
  "cells": [
    {
      "cell_type": "code",
      "metadata": {
        "id": "X5BcMxa3QWKr"
      },
      "source": [
        "def solution(arr):\n",
        "    return sum(arr) / len(arr)"
      ],
      "execution_count": null,
      "outputs": []
    },
    {
      "cell_type": "code",
      "metadata": {
        "id": "kma8flrQQWKu",
        "outputId": "6cc451bd-7180-413c-e875-050ea80ba473"
      },
      "source": [
        "solution([1,2,3,4])"
      ],
      "execution_count": null,
      "outputs": [
        {
          "output_type": "execute_result",
          "data": {
            "text/plain": [
              "2.5"
            ]
          },
          "metadata": {
            "tags": []
          },
          "execution_count": 2
        }
      ]
    },
    {
      "cell_type": "code",
      "metadata": {
        "id": "MLIHPJgOQfgj"
      },
      "source": [
        "def average(list):\n",
        "    # 함수를 완성해서 매개변수 list의 평균값을 return하도록 만들어 보세요.\n",
        "    if len(list) == 0:\n",
        "        return 0\n",
        "\n",
        "    return sum(list) / len(list)"
      ],
      "execution_count": 1,
      "outputs": []
    }
  ]
}