{
  "nbformat": 4,
  "nbformat_minor": 0,
  "metadata": {
    "colab": {
      "name": "직사각형 별찍기.ipynb",
      "provenance": [],
      "collapsed_sections": []
    },
    "kernelspec": {
      "name": "python3",
      "display_name": "Python 3"
    },
    "language_info": {
      "name": "python"
    }
  },
  "cells": [
    {
      "cell_type": "markdown",
      "metadata": {
        "id": "SJTQEga_HnCJ"
      },
      "source": [
        "# 직사각형 별찍기"
      ]
    },
    {
      "cell_type": "code",
      "metadata": {
        "colab": {
          "base_uri": "https://localhost:8080/"
        },
        "id": "aMJ6uOdqGp-J",
        "outputId": "1c78af69-6341-4c63-845e-1cc2b6d8fb3e"
      },
      "source": [
        "a, b = map(int, input().strip().split(' '))\n",
        "for n in range(b):\n",
        "    for m in range(a):\n",
        "        print('*', end='')\n",
        "    print()"
      ],
      "execution_count": 1,
      "outputs": [
        {
          "output_type": "stream",
          "text": [
            "3 5\n",
            "***\n",
            "***\n",
            "***\n",
            "***\n",
            "***\n"
          ],
          "name": "stdout"
        }
      ]
    },
    {
      "cell_type": "code",
      "metadata": {
        "colab": {
          "base_uri": "https://localhost:8080/"
        },
        "id": "1bhmnSk_HFj3",
        "outputId": "162a1d27-99a1-45e9-ed9d-9f36e36fa8ed"
      },
      "source": [
        "a, b = map(str, input().strip().split(' '))\n",
        "print(type(a))\n",
        "print(type(b))"
      ],
      "execution_count": 3,
      "outputs": [
        {
          "output_type": "stream",
          "text": [
            "1 2\n",
            "<class 'str'>\n",
            "<class 'str'>\n"
          ],
          "name": "stdout"
        }
      ]
    },
    {
      "cell_type": "code",
      "metadata": {
        "colab": {
          "base_uri": "https://localhost:8080/"
        },
        "id": "Gy7_sIVdHMp_",
        "outputId": "c7a11864-a8fa-4005-d1a3-c9e68f0e2479"
      },
      "source": [
        "a, b = map(int, input().strip().split(' '))\n",
        "print(type(a))\n",
        "print(type(b))"
      ],
      "execution_count": 4,
      "outputs": [
        {
          "output_type": "stream",
          "text": [
            "1 2\n",
            "<class 'int'>\n",
            "<class 'int'>\n"
          ],
          "name": "stdout"
        }
      ]
    }
  ]
}