{
  "nbformat": 4,
  "nbformat_minor": 0,
  "metadata": {
    "colab": {
      "name": "체육복.ipynb",
      "provenance": [],
      "collapsed_sections": []
    },
    "kernelspec": {
      "name": "python3",
      "display_name": "Python 3"
    },
    "language_info": {
      "name": "python"
    }
  },
  "cells": [
    {
      "cell_type": "code",
      "metadata": {
        "colab": {
          "base_uri": "https://localhost:8080/"
        },
        "id": "aVkd8ll8wavv",
        "outputId": "f4a2b750-cba4-43be-cba4-a8f8399e145a"
      },
      "source": [
        "def solution(n, lost, reserve):\n",
        "    lost.sort()\n",
        "    reserve.sort()\n",
        "\n",
        "    reserve1= reserve[:]\n",
        "    lost1 = lost[:]\n",
        "\n",
        "    for i in lost:\n",
        "        for j in reserve:\n",
        "            if i == j:\n",
        "                reserve1.remove(j)\n",
        "                lost1.remove(i)\n",
        "\n",
        "    answer = n - len(lost1)\n",
        "    for i in lost1:\n",
        "        _list = list(set([abs(i-j) for j in reserve1]))\n",
        "        if 1 in _list:\n",
        "            answer += 1\n",
        "            isCon = False\n",
        "            if (i-1 in reserve1) :\n",
        "                reserve1.remove(i-1)\n",
        "                isCon = True \n",
        "            if (i+1 in reserve1) and not isCon:\n",
        "                reserve1.remove(i+1)\n",
        "\n",
        "    return answer\n",
        "\n",
        "n = 5\n",
        "lost =  [3, 5]\n",
        "reserve = [2, 4]\n",
        "solution(n, lost, reserve)"
      ],
      "execution_count": 111,
      "outputs": [
        {
          "output_type": "execute_result",
          "data": {
            "text/plain": [
              "5"
            ]
          },
          "metadata": {},
          "execution_count": 111
        }
      ]
    },
    {
      "cell_type": "markdown",
      "metadata": {
        "id": "KOixKJUgAy-6"
      },
      "source": [
        "다른 사람 풀이"
      ]
    },
    {
      "cell_type": "code",
      "metadata": {
        "colab": {
          "base_uri": "https://localhost:8080/"
        },
        "id": "aZKzNG1q3wAc",
        "outputId": "5ef93c74-0a84-41d5-ab66-3988ed64e097"
      },
      "source": [
        "def solution(n, lost, reserve):\n",
        "    _reserve = [r for r in reserve if r not in lost]\n",
        "    _lost = [l for l in lost if l not in reserve]\n",
        "    for r in _reserve:\n",
        "        f = r - 1\n",
        "        b = r + 1\n",
        "        if f in _lost:\n",
        "            _lost.remove(f)\n",
        "        elif b in _lost:\n",
        "            _lost.remove(b)\n",
        "    return n - len(_lost)\n",
        "\n",
        "n = 5\n",
        "lost =  [3, 5]\n",
        "reserve = [2, 4]\n",
        "solution(n, lost, reserve)"
      ],
      "execution_count": 112,
      "outputs": [
        {
          "output_type": "execute_result",
          "data": {
            "text/plain": [
              "5"
            ]
          },
          "metadata": {},
          "execution_count": 112
        }
      ]
    },
    {
      "cell_type": "code",
      "metadata": {
        "colab": {
          "base_uri": "https://localhost:8080/"
        },
        "id": "NDMXOAKc4oZE",
        "outputId": "dcd643e6-a04a-4530-b176-f2cb17464cc4"
      },
      "source": [
        "def solution(n, lost, reserve):\n",
        "    _reserve = list(set(reserve) - set(lost)) \n",
        "    _lost = list(set(lost) - set(reserve))\n",
        "    for r in _reserve:\n",
        "        f = r - 1\n",
        "        b = r + 1\n",
        "        if f in _lost:\n",
        "            _lost.remove(f)\n",
        "        elif b in _lost:\n",
        "            _lost.remove(b)\n",
        "    return n - len(_lost)\n",
        "\n",
        "n = 5\n",
        "lost =  [3, 5]\n",
        "reserve = [2, 4]\n",
        "solution(n, lost, reserve)"
      ],
      "execution_count": 113,
      "outputs": [
        {
          "output_type": "execute_result",
          "data": {
            "text/plain": [
              "5"
            ]
          },
          "metadata": {},
          "execution_count": 113
        }
      ]
    },
    {
      "cell_type": "code",
      "metadata": {
        "id": "TyGxhsZ-6eum"
      },
      "source": [
        ""
      ],
      "execution_count": 110,
      "outputs": []
    }
  ]
}