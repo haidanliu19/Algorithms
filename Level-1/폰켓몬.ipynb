{
  "nbformat": 4,
  "nbformat_minor": 0,
  "metadata": {
    "colab": {
      "name": "폰켓몬.ipynb",
      "provenance": [],
      "collapsed_sections": []
    },
    "kernelspec": {
      "name": "python3",
      "display_name": "Python 3"
    },
    "language_info": {
      "name": "python"
    }
  },
  "cells": [
    {
      "cell_type": "code",
      "metadata": {
        "colab": {
          "base_uri": "https://localhost:8080/"
        },
        "id": "2acpc-joX-OC",
        "outputId": "aaddf268-4397-4e12-8665-0356bbe3171c"
      },
      "source": [
        "def solution(nums):\n",
        "    answer = 0\n",
        "    nums_1 = len(nums) // 2\n",
        "    set_nums = len(list(set(nums)))\n",
        "    answer = nums_1 if nums_1 <= set_nums  else set_nums\n",
        "    return answer\n",
        "\n",
        "nums= [3,3,3,2,2,4]\n",
        "solution(nums)"
      ],
      "execution_count": 25,
      "outputs": [
        {
          "output_type": "execute_result",
          "data": {
            "text/plain": [
              "3"
            ]
          },
          "metadata": {},
          "execution_count": 25
        }
      ]
    },
    {
      "cell_type": "markdown",
      "metadata": {
        "id": "20X4vSY5cAx-"
      },
      "source": [
        "다른 사람 풀이"
      ]
    },
    {
      "cell_type": "code",
      "metadata": {
        "id": "h91IFTBucAK8"
      },
      "source": [
        "def solution(ls):\n",
        "    return min(len(ls)/2, len(set(ls)))"
      ],
      "execution_count": 27,
      "outputs": []
    }
  ]
}