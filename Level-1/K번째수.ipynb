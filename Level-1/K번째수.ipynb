{
  "nbformat": 4,
  "nbformat_minor": 0,
  "metadata": {
    "colab": {
      "name": "K번째수.ipynb",
      "provenance": [],
      "collapsed_sections": []
    },
    "kernelspec": {
      "name": "python3",
      "display_name": "Python 3"
    },
    "language_info": {
      "name": "python"
    }
  },
  "cells": [
    {
      "cell_type": "code",
      "metadata": {
        "colab": {
          "base_uri": "https://localhost:8080/"
        },
        "id": "gv0uHujHFqob",
        "outputId": "fa989794-51b6-4cb7-fdd9-c1f85410b50d"
      },
      "source": [
        "def solution(array, commands):\n",
        "    answer = []\n",
        "    for i in commands:\n",
        "        answer.append(sorted(array[i[0]-1:i[1]])[i[2]-1])\n",
        "    return answer\n",
        "\n",
        "array= [1, 5, 2, 6, 3, 7, 4]\t\n",
        "commands = [[2, 5, 3], [4, 4, 1], [1, 7, 3]]\n",
        "solution(array, commands)"
      ],
      "execution_count": 54,
      "outputs": [
        {
          "output_type": "execute_result",
          "data": {
            "text/plain": [
              "[5, 6, 3]"
            ]
          },
          "metadata": {},
          "execution_count": 54
        }
      ]
    },
    {
      "cell_type": "code",
      "metadata": {
        "colab": {
          "base_uri": "https://localhost:8080/"
        },
        "id": "sjGtxqnKIAov",
        "outputId": "cc924432-6f2a-430e-8e45-289c25e20b7d"
      },
      "source": [
        "def solution(array, commands):\n",
        "    return list(map(lambda x:sorted(array[x[0]-1:x[1]])[x[2]-1], commands))\n",
        "\n",
        "array= [1, 5, 2, 6, 3, 7, 4]\t\n",
        "commands = [[2, 5, 3], [4, 4, 1], [1, 7, 3]]\n",
        "solution(array, commands)"
      ],
      "execution_count": 55,
      "outputs": [
        {
          "output_type": "execute_result",
          "data": {
            "text/plain": [
              "[5, 6, 3]"
            ]
          },
          "metadata": {},
          "execution_count": 55
        }
      ]
    }
  ]
}