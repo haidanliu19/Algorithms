{
  "nbformat": 4,
  "nbformat_minor": 0,
  "metadata": {
    "colab": {
      "name": "자연수 뒤집어 배열로 만들기.ipynb",
      "provenance": [],
      "collapsed_sections": []
    },
    "kernelspec": {
      "name": "python3",
      "display_name": "Python 3"
    },
    "language_info": {
      "name": "python"
    }
  },
  "cells": [
    {
      "cell_type": "code",
      "metadata": {
        "colab": {
          "base_uri": "https://localhost:8080/"
        },
        "id": "6ITt3h09kbIw",
        "outputId": "4e95c391-7139-476c-bfc4-0d5d87357b47"
      },
      "source": [
        "def solution(n):\n",
        "    answer = [int(i) for i in str(n)][::-1]\n",
        "    return answer\n",
        "\n",
        "n = 12345\n",
        "solution(n)"
      ],
      "execution_count": 10,
      "outputs": [
        {
          "output_type": "execute_result",
          "data": {
            "text/plain": [
              "[5, 4, 3, 2, 1]"
            ]
          },
          "metadata": {
            "tags": []
          },
          "execution_count": 10
        }
      ]
    },
    {
      "cell_type": "code",
      "metadata": {
        "colab": {
          "base_uri": "https://localhost:8080/"
        },
        "id": "jQZCvBVNl6uL",
        "outputId": "e8b4b242-09ce-4c67-b567-25aa8da40403"
      },
      "source": [
        "def digit_reverse(n):\n",
        "    a=[]\n",
        "\n",
        "    while n>1:\n",
        "        a.append(int(n%10))\n",
        "        n/=10\n",
        "\n",
        "\n",
        "    return a\n",
        "digit_reverse(n)"
      ],
      "execution_count": 9,
      "outputs": [
        {
          "output_type": "execute_result",
          "data": {
            "text/plain": [
              "[5, 4, 3, 2, 1]"
            ]
          },
          "metadata": {
            "tags": []
          },
          "execution_count": 9
        }
      ]
    }
  ]
}