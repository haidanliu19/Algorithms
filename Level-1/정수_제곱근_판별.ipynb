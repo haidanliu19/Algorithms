{
  "nbformat": 4,
  "nbformat_minor": 0,
  "metadata": {
    "colab": {
      "name": "정수 제곱근 판별.ipynb",
      "provenance": [],
      "collapsed_sections": []
    },
    "kernelspec": {
      "name": "python3",
      "display_name": "Python 3"
    },
    "language_info": {
      "name": "python"
    }
  },
  "cells": [
    {
      "cell_type": "code",
      "metadata": {
        "colab": {
          "base_uri": "https://localhost:8080/"
        },
        "id": "OSsVMyJ8UQ5X",
        "outputId": "0a72f7cf-e458-4af5-eb77-be510b88fb7a"
      },
      "source": [
        "pow(121,2)"
      ],
      "execution_count": 3,
      "outputs": [
        {
          "output_type": "execute_result",
          "data": {
            "text/plain": [
              "14641"
            ]
          },
          "metadata": {
            "tags": []
          },
          "execution_count": 3
        }
      ]
    },
    {
      "cell_type": "code",
      "metadata": {
        "colab": {
          "base_uri": "https://localhost:8080/"
        },
        "id": "HpKjtw6IV-zf",
        "outputId": "027d65ff-9e0c-4042-fcbe-32e370b95f17"
      },
      "source": [
        "import math\n",
        "math.sqrt(121)"
      ],
      "execution_count": 14,
      "outputs": [
        {
          "output_type": "execute_result",
          "data": {
            "text/plain": [
              "11.0"
            ]
          },
          "metadata": {
            "tags": []
          },
          "execution_count": 14
        }
      ]
    },
    {
      "cell_type": "code",
      "metadata": {
        "colab": {
          "base_uri": "https://localhost:8080/"
        },
        "id": "j_w4m54uWFHQ",
        "outputId": "75c4f010-dfc2-45c1-df41-48027f4d7a71"
      },
      "source": [
        "math.sqrt(3)"
      ],
      "execution_count": 15,
      "outputs": [
        {
          "output_type": "execute_result",
          "data": {
            "text/plain": [
              "1.7320508075688772"
            ]
          },
          "metadata": {
            "tags": []
          },
          "execution_count": 15
        }
      ]
    },
    {
      "cell_type": "code",
      "metadata": {
        "colab": {
          "base_uri": "https://localhost:8080/"
        },
        "id": "BmH1ubZhU21d",
        "outputId": "c448f656-53b2-4d60-ec65-ced9d972a3fd"
      },
      "source": [
        "import math\n",
        "\n",
        "def solution(n):\n",
        "    answer = 0\n",
        "    sqrt_value = math.sqrt(n)\n",
        "    answer = int(pow(sqrt_value+1,2)) if sqrt_value % 1 ==0 else -1\n",
        "    return answer\n",
        "\n",
        "print(solution(121))\n",
        "print(solution(3))"
      ],
      "execution_count": 17,
      "outputs": [
        {
          "output_type": "stream",
          "text": [
            "144\n",
            "-1\n"
          ],
          "name": "stdout"
        }
      ]
    },
    {
      "cell_type": "code",
      "metadata": {
        "colab": {
          "base_uri": "https://localhost:8080/"
        },
        "id": "VVw9CxBdXJs1",
        "outputId": "4f69d1b8-becf-48df-b5f7-cac92e2bac29"
      },
      "source": [
        "sqrt = 121 ** (1/2)\n",
        "sqrt"
      ],
      "execution_count": 20,
      "outputs": [
        {
          "output_type": "execute_result",
          "data": {
            "text/plain": [
              "11.0"
            ]
          },
          "metadata": {
            "tags": []
          },
          "execution_count": 20
        }
      ]
    },
    {
      "cell_type": "code",
      "metadata": {
        "colab": {
          "base_uri": "https://localhost:8080/"
        },
        "id": "hhRtSSXVXiyr",
        "outputId": "94a10d10-c5bd-4048-95aa-1be73e61e1d3"
      },
      "source": [
        "def nextSqure(n):\n",
        "    return n == int(n**.5)**2 and int(n**.5+1)**2 or '-1'\n",
        "\n",
        "# 아래는 테스트로 출력해 보기 위한 코드입니다.\n",
        "print(\"결과 : {}\".format(nextSqure(121)));"
      ],
      "execution_count": 24,
      "outputs": [
        {
          "output_type": "stream",
          "text": [
            "결과 : 144\n"
          ],
          "name": "stdout"
        }
      ]
    },
    {
      "cell_type": "code",
      "metadata": {
        "colab": {
          "base_uri": "https://localhost:8080/"
        },
        "id": "x5r4ouAkXuOs",
        "outputId": "40eccf3c-0a46-4456-c863-bf4f70c3b12f"
      },
      "source": [
        "int(121**.5)**2"
      ],
      "execution_count": 25,
      "outputs": [
        {
          "output_type": "execute_result",
          "data": {
            "text/plain": [
              "121"
            ]
          },
          "metadata": {
            "tags": []
          },
          "execution_count": 25
        }
      ]
    },
    {
      "cell_type": "code",
      "metadata": {
        "colab": {
          "base_uri": "https://localhost:8080/"
        },
        "id": "5gZIpDCWXvjQ",
        "outputId": "d949b9d4-2790-45fe-d8d1-d42df9aaad0f"
      },
      "source": [
        "int(121**.5+1)**2 "
      ],
      "execution_count": 26,
      "outputs": [
        {
          "output_type": "execute_result",
          "data": {
            "text/plain": [
              "144"
            ]
          },
          "metadata": {
            "tags": []
          },
          "execution_count": 26
        }
      ]
    },
    {
      "cell_type": "code",
      "metadata": {
        "colab": {
          "base_uri": "https://localhost:8080/"
        },
        "id": "BBuHjiX_Xx2c",
        "outputId": "24afbe6c-ac27-4b78-ee13-31f6b9486549"
      },
      "source": [
        "121 and 144"
      ],
      "execution_count": 27,
      "outputs": [
        {
          "output_type": "execute_result",
          "data": {
            "text/plain": [
              "144"
            ]
          },
          "metadata": {
            "tags": []
          },
          "execution_count": 27
        }
      ]
    },
    {
      "cell_type": "code",
      "metadata": {
        "colab": {
          "base_uri": "https://localhost:8080/"
        },
        "id": "qy7I5ruSX6A4",
        "outputId": "63a7bbc0-eac0-44ef-a20b-a27489ef6f5f"
      },
      "source": [
        "10 and 2"
      ],
      "execution_count": 28,
      "outputs": [
        {
          "output_type": "execute_result",
          "data": {
            "text/plain": [
              "2"
            ]
          },
          "metadata": {
            "tags": []
          },
          "execution_count": 28
        }
      ]
    },
    {
      "cell_type": "code",
      "metadata": {
        "colab": {
          "base_uri": "https://localhost:8080/"
        },
        "id": "Xj4j151lX824",
        "outputId": "e7268b12-7a7a-4013-b3e0-6ab8a6c6969e"
      },
      "source": [
        "2 and 10"
      ],
      "execution_count": 29,
      "outputs": [
        {
          "output_type": "execute_result",
          "data": {
            "text/plain": [
              "10"
            ]
          },
          "metadata": {
            "tags": []
          },
          "execution_count": 29
        }
      ]
    },
    {
      "cell_type": "code",
      "metadata": {
        "colab": {
          "base_uri": "https://localhost:8080/"
        },
        "id": "pl_4j2KDX_Qt",
        "outputId": "b3fae3bd-11c6-4d91-add8-0993434d92e7"
      },
      "source": [
        "n = 3\n",
        "print(int(n**.5)**2)\n",
        "print(int(n**.5+1)**2)\n",
        "int(n**.5)**2 and int(n**.5+1)**2 or '-1'"
      ],
      "execution_count": 31,
      "outputs": [
        {
          "output_type": "stream",
          "text": [
            "1\n",
            "4\n"
          ],
          "name": "stdout"
        },
        {
          "output_type": "execute_result",
          "data": {
            "text/plain": [
              "4"
            ]
          },
          "metadata": {
            "tags": []
          },
          "execution_count": 31
        }
      ]
    },
    {
      "cell_type": "code",
      "metadata": {
        "colab": {
          "base_uri": "https://localhost:8080/"
        },
        "id": "-UTkngm1XkA3",
        "outputId": "e9fe5e40-783e-4d99-d222-95aecd745120"
      },
      "source": [
        "def nextSqure(n):\n",
        "    return ((n == int(n**.5)**2) and int(n**.5+1)**2) or '-1'\n",
        "\n",
        "# 아래는 테스트로 출력해 보기 위한 코드입니다.\n",
        "print(\"결과 : {}\".format(nextSqure(3)));"
      ],
      "execution_count": 36,
      "outputs": [
        {
          "output_type": "stream",
          "text": [
            "결과 : -1\n"
          ],
          "name": "stdout"
        }
      ]
    },
    {
      "cell_type": "code",
      "metadata": {
        "colab": {
          "base_uri": "https://localhost:8080/"
        },
        "id": "Qc_YjphhYGRB",
        "outputId": "7dc2fae4-107a-4b71-c027-ed434be0a20f"
      },
      "source": [
        "n = 3\n",
        "print(n == int(n**.5)**2)\n",
        "print(int(n**.5+1)**2)\n",
        "print(((n == int(n**.5)**2) and int(n**.5+1)**2) or '-1')"
      ],
      "execution_count": 45,
      "outputs": [
        {
          "output_type": "stream",
          "text": [
            "False\n",
            "4\n",
            "-1\n"
          ],
          "name": "stdout"
        }
      ]
    },
    {
      "cell_type": "code",
      "metadata": {
        "colab": {
          "base_uri": "https://localhost:8080/"
        },
        "id": "rLVgq1HqYgmX",
        "outputId": "f740f2e0-cbea-4fc1-a214-01bbdf8983a1"
      },
      "source": [
        "n = 121\n",
        "print(n == int(n**.5)**2)\n",
        "print(int(n**.5+1)**2)\n",
        "print(((n == int(n**.5)**2) and int(n**.5+1)**2) or '-1')"
      ],
      "execution_count": 46,
      "outputs": [
        {
          "output_type": "stream",
          "text": [
            "True\n",
            "144\n",
            "144\n"
          ],
          "name": "stdout"
        }
      ]
    },
    {
      "cell_type": "code",
      "metadata": {
        "colab": {
          "base_uri": "https://localhost:8080/"
        },
        "id": "NLntHadQY7VS",
        "outputId": "9f2f08a4-2d6e-41b5-892c-72d4ba6a6ad6"
      },
      "source": [
        "\n",
        "def solution(n):\n",
        "    answer = 0\n",
        "    sqrt_value = pow(n,0.5)\n",
        "    answer = int(pow(sqrt_value+1,2)) if sqrt_value % 1 ==0 else -1\n",
        "    return answer\n",
        "\n",
        "print(solution(121))\n",
        "print(solution(3))"
      ],
      "execution_count": 47,
      "outputs": [
        {
          "output_type": "stream",
          "text": [
            "144\n",
            "-1\n"
          ],
          "name": "stdout"
        }
      ]
    }
  ]
}