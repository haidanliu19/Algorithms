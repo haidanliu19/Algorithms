{
  "nbformat": 4,
  "nbformat_minor": 0,
  "metadata": {
    "colab": {
      "name": "자릿수 더하기.ipynb",
      "provenance": [],
      "collapsed_sections": []
    },
    "kernelspec": {
      "name": "python3",
      "display_name": "Python 3"
    },
    "language_info": {
      "name": "python"
    }
  },
  "cells": [
    {
      "cell_type": "code",
      "metadata": {
        "colab": {
          "base_uri": "https://localhost:8080/"
        },
        "id": "08sFQ0g0hdL-",
        "outputId": "9f369a19-4350-43fb-9ac1-5c0acc11a193"
      },
      "source": [
        "def solution(n):\n",
        "    return sum([int(i) for i in str(n)])\n",
        "\n",
        "\n",
        "n = 123\n",
        "solution(n)"
      ],
      "execution_count": null,
      "outputs": [
        {
          "output_type": "execute_result",
          "data": {
            "text/plain": [
              "6"
            ]
          },
          "metadata": {
            "tags": []
          },
          "execution_count": 4
        }
      ]
    },
    {
      "cell_type": "code",
      "metadata": {
        "colab": {
          "base_uri": "https://localhost:8080/"
        },
        "id": "SWpOfr5whtDc",
        "outputId": "66144d92-461a-4d7f-c1e9-6ac6e0909e91"
      },
      "source": [
        "def solution(n):\n",
        "    return sum([int(i) for i in str(n)])\n",
        "\n",
        "\n",
        "n = 987\n",
        "solution(n)"
      ],
      "execution_count": null,
      "outputs": [
        {
          "output_type": "execute_result",
          "data": {
            "text/plain": [
              "24"
            ]
          },
          "metadata": {
            "tags": []
          },
          "execution_count": 5
        }
      ]
    },
    {
      "cell_type": "code",
      "metadata": {
        "colab": {
          "base_uri": "https://localhost:8080/"
        },
        "id": "LAp_bFD0YaKb",
        "outputId": "96108a4c-e462-41ae-bc82-348df4a3249c"
      },
      "source": [
        "def solution(n):\n",
        "    return sum(map(int, str(n)))\n",
        "\n",
        "\n",
        "n = 123\n",
        "solution(n)"
      ],
      "execution_count": 3,
      "outputs": [
        {
          "output_type": "execute_result",
          "data": {
            "text/plain": [
              "6"
            ]
          },
          "metadata": {
            "tags": []
          },
          "execution_count": 3
        }
      ]
    },
    {
      "cell_type": "code",
      "metadata": {
        "colab": {
          "base_uri": "https://localhost:8080/"
        },
        "id": "R2HIF41wZavo",
        "outputId": "9a0ca739-286d-4e42-d703-5172a174c0b9"
      },
      "source": [
        "n = 123\n",
        "list(map(int, str(n)))"
      ],
      "execution_count": 5,
      "outputs": [
        {
          "output_type": "execute_result",
          "data": {
            "text/plain": [
              "[1, 2, 3]"
            ]
          },
          "metadata": {
            "tags": []
          },
          "execution_count": 5
        }
      ]
    }
  ]
}