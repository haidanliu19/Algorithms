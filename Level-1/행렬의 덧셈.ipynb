{
  "nbformat": 4,
  "nbformat_minor": 0,
  "metadata": {
    "kernelspec": {
      "display_name": "Python 3",
      "language": "python",
      "name": "python3"
    },
    "language_info": {
      "codemirror_mode": {
        "name": "ipython",
        "version": 3
      },
      "file_extension": ".py",
      "mimetype": "text/x-python",
      "name": "python",
      "nbconvert_exporter": "python",
      "pygments_lexer": "ipython3",
      "version": "3.8.5"
    },
    "colab": {
      "name": "행렬의 덧셈.ipynb",
      "provenance": [],
      "collapsed_sections": []
    }
  },
  "cells": [
    {
      "cell_type": "code",
      "metadata": {
        "id": "a8h6bVTbMdpc"
      },
      "source": [
        "def solution(arr1,arr2):\n",
        "    tmp = []\n",
        "    answer = []\n",
        "    for i in range(len(arr1)):\n",
        "        for j in range(len(arr1[i])):\n",
        "            sum_ = arr1[i][j] + arr2[i][j]\n",
        "            answer[i].append(sum_)\n",
        "    return answer"
      ],
      "execution_count": null,
      "outputs": []
    },
    {
      "cell_type": "code",
      "metadata": {
        "id": "vNAtHToeMdpf"
      },
      "source": [
        "def solution(arr1,arr2):\n",
        "    answer = []\n",
        "    for i in range(len(arr1)) :\n",
        "        answer_1 = []\n",
        "        for j in range(len(arr1[i])) :\n",
        "            answer_1.append(arr1[i][j] + arr2[i][j])\n",
        "        answer.append(answer_1)\n",
        "    return answer"
      ],
      "execution_count": null,
      "outputs": []
    },
    {
      "cell_type": "code",
      "metadata": {
        "id": "fJ9ztEQ5Mdpf"
      },
      "source": [
        "def solution(arr1,arr2):\n",
        "    answer = [[],[]]\n",
        "    i = 0\n",
        "    while i <len(arr1):\n",
        "        j = 0\n",
        "        while j < len(arr1[i]):\n",
        "            answer[i].append(arr1[i][j] + arr2[i][j])\n",
        "            j += 1\n",
        "        i+=1\n",
        "    return answer"
      ],
      "execution_count": null,
      "outputs": []
    },
    {
      "cell_type": "code",
      "metadata": {
        "id": "g75MFYRAMdpg"
      },
      "source": [
        "def solution(arr1, arr2):\n",
        "    return [[c + d for c, d in zip(a, b)] for a, b in zip(arr1,arr2)]"
      ],
      "execution_count": null,
      "outputs": []
    },
    {
      "cell_type": "code",
      "metadata": {
        "colab": {
          "base_uri": "https://localhost:8080/"
        },
        "id": "4C8g2JvYMdpg",
        "outputId": "0ec7c5fd-2a7a-445d-f0d8-9451026861c7"
      },
      "source": [
        "arr1 = [[1,2],[2,3]]\n",
        "arr2 = [[3,4],[5,6]]\n",
        "\n",
        "for a, b in zip(arr1,arr2):\n",
        "    print(a,b)"
      ],
      "execution_count": 2,
      "outputs": [
        {
          "output_type": "stream",
          "text": [
            "[1, 2] [3, 4]\n",
            "[2, 3] [5, 6]\n"
          ],
          "name": "stdout"
        }
      ]
    },
    {
      "cell_type": "code",
      "metadata": {
        "id": "lGMzWVKfMdpi",
        "outputId": "4f158b90-4c96-4349-949d-7d1b885db4b9"
      },
      "source": [
        "arr1 = [[1,2],[2,3]]\n",
        "arr2 = [[3,4],[5,6]]\n",
        "solution(arr1, arr2)"
      ],
      "execution_count": null,
      "outputs": [
        {
          "output_type": "execute_result",
          "data": {
            "text/plain": [
              "[[4, 6], [7, 9]]"
            ]
          },
          "metadata": {
            "tags": []
          },
          "execution_count": 184
        }
      ]
    },
    {
      "cell_type": "code",
      "metadata": {
        "id": "KJPFGRaMMdpi",
        "outputId": "c150f924-0529-4a74-eaa6-677693e830a6"
      },
      "source": [
        "arr1 = [[1],[2]]\n",
        "arr2 = [[3],[4]]\n",
        "print(solution(arr1, arr2))"
      ],
      "execution_count": null,
      "outputs": [
        {
          "output_type": "stream",
          "text": [
            "[[4], [6]]\n"
          ],
          "name": "stdout"
        }
      ]
    },
    {
      "cell_type": "code",
      "metadata": {
        "id": "fdbUEUeIMdpj",
        "outputId": "3fbc29e9-1266-44ca-c0f2-6380e2f28bd7"
      },
      "source": [
        "answer = [[0]*len(arr1[x]) for x in range(len(arr1))]\n",
        "answer"
      ],
      "execution_count": null,
      "outputs": [
        {
          "output_type": "execute_result",
          "data": {
            "text/plain": [
              "[[0, 0], [1, 1]]"
            ]
          },
          "metadata": {
            "tags": []
          },
          "execution_count": 144
        }
      ]
    },
    {
      "cell_type": "code",
      "metadata": {
        "id": "dQqy4uQoMdpk",
        "outputId": "0af3f41b-64ba-4e05-dfc7-dd6f86d0d2f3"
      },
      "source": [
        "arr1 = [[1],[2]]\n",
        "arr2 = [[3],[4]]\n",
        "answer = [ sum(arr2[x]+arr1[x]) for x in range(len(arr1))  ]\n",
        "answer"
      ],
      "execution_count": null,
      "outputs": [
        {
          "output_type": "execute_result",
          "data": {
            "text/plain": [
              "[4, 6]"
            ]
          },
          "metadata": {
            "tags": []
          },
          "execution_count": 156
        }
      ]
    },
    {
      "cell_type": "code",
      "metadata": {
        "id": "59eUrYqTMdpl",
        "outputId": "5dfd49fa-44d7-4770-a744-4658ef7209e8"
      },
      "source": [
        ""
      ],
      "execution_count": null,
      "outputs": [
        {
          "output_type": "execute_result",
          "data": {
            "text/plain": [
              "[[3, 4, 1, 2], [5, 6, 2, 3]]"
            ]
          },
          "metadata": {
            "tags": []
          },
          "execution_count": 172
        }
      ]
    },
    {
      "cell_type": "code",
      "metadata": {
        "id": "Si6B7rOiMdpl",
        "outputId": "8e06ba9f-0aea-4674-c7e6-a13991779221"
      },
      "source": [
        "range(len([x for x in range(len(arr1))]))"
      ],
      "execution_count": null,
      "outputs": [
        {
          "output_type": "execute_result",
          "data": {
            "text/plain": [
              "range(0, 2)"
            ]
          },
          "metadata": {
            "tags": []
          },
          "execution_count": 164
        }
      ]
    },
    {
      "cell_type": "code",
      "metadata": {
        "id": "xFHnND2aMdpm",
        "outputId": "ea0c2ed1-3fe8-4661-ede3-778688575e82"
      },
      "source": [
        ""
      ],
      "execution_count": null,
      "outputs": [
        {
          "output_type": "execute_result",
          "data": {
            "text/plain": [
              "[0, 1]"
            ]
          },
          "metadata": {
            "tags": []
          },
          "execution_count": 168
        }
      ]
    },
    {
      "cell_type": "code",
      "metadata": {
        "id": "9N1br0w0Mdpm"
      },
      "source": [
        ""
      ],
      "execution_count": null,
      "outputs": []
    }
  ]
}