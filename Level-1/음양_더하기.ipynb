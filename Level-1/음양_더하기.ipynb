{
  "nbformat": 4,
  "nbformat_minor": 0,
  "metadata": {
    "colab": {
      "name": "음양 더하기.ipynb",
      "provenance": [],
      "collapsed_sections": []
    },
    "kernelspec": {
      "name": "python3",
      "display_name": "Python 3"
    },
    "language_info": {
      "name": "python"
    }
  },
  "cells": [
    {
      "cell_type": "code",
      "metadata": {
        "colab": {
          "base_uri": "https://localhost:8080/"
        },
        "id": "GNvLHd1QqVTs",
        "outputId": "70e8856f-4738-4f64-85c4-a5eb80a99015"
      },
      "source": [
        "def solution(absolutes, signs):\n",
        "    answer = 0\n",
        "    for i in range(len(absolutes)):\n",
        "        if not signs[i]:\n",
        "            absolutes[i] = -absolutes[i]\n",
        "    answer= sum(absolutes)\n",
        "    return answer\n",
        "\n",
        "absolutes = [4,7,12]\t\n",
        "signs = [True,False,True]\n",
        "solution(absolutes, signs)"
      ],
      "execution_count": 5,
      "outputs": [
        {
          "output_type": "execute_result",
          "data": {
            "text/plain": [
              "9"
            ]
          },
          "metadata": {},
          "execution_count": 5
        }
      ]
    },
    {
      "cell_type": "code",
      "metadata": {
        "colab": {
          "base_uri": "https://localhost:8080/"
        },
        "id": "AxFOcWPXrxx_",
        "outputId": "325c0be4-af87-4389-9f65-d2880da587fe"
      },
      "source": [
        "def solution(absolutes, signs):\n",
        "    answer =sum([-v if not signs[i] else v for i,v in enumerate(absolutes)]) \n",
        "    return answer\n",
        "\n",
        "absolutes = [4,7,12]\t\n",
        "signs = [True,False,True]\n",
        "solution(absolutes, signs)"
      ],
      "execution_count": 7,
      "outputs": [
        {
          "output_type": "execute_result",
          "data": {
            "text/plain": [
              "9"
            ]
          },
          "metadata": {},
          "execution_count": 7
        }
      ]
    },
    {
      "cell_type": "markdown",
      "metadata": {
        "id": "m7HtHcuutkSi"
      },
      "source": [
        "다른 사람 풀이"
      ]
    },
    {
      "cell_type": "code",
      "metadata": {
        "colab": {
          "base_uri": "https://localhost:8080/"
        },
        "id": "z1GcUzr0tJfE",
        "outputId": "45b131ea-61dd-4f1b-f279-b950a6d7d75f"
      },
      "source": [
        "def solution(absolutes, signs):\n",
        "    for x, y in zip(absolutes, signs):\n",
        "        print(x,y , 2*x*y )\n",
        "    return sum([2*x*y - x for x, y in zip(absolutes, signs)])\n",
        "\n",
        "absolutes = [4,7,12]\t\n",
        "signs = [True,False,True]\n",
        "solution(absolutes, signs)"
      ],
      "execution_count": 10,
      "outputs": [
        {
          "output_type": "stream",
          "name": "stdout",
          "text": [
            "4 True 8\n",
            "7 False 0\n",
            "12 True 24\n"
          ]
        },
        {
          "output_type": "execute_result",
          "data": {
            "text/plain": [
              "9"
            ]
          },
          "metadata": {},
          "execution_count": 10
        }
      ]
    }
  ]
}