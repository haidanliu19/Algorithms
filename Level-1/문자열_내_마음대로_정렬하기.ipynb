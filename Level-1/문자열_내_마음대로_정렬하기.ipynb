{
  "nbformat": 4,
  "nbformat_minor": 0,
  "metadata": {
    "colab": {
      "name": "문자열 내 마음대로 정렬하기.ipynb",
      "provenance": [],
      "collapsed_sections": []
    },
    "kernelspec": {
      "name": "python3",
      "display_name": "Python 3"
    },
    "language_info": {
      "name": "python"
    }
  },
  "cells": [
    {
      "cell_type": "code",
      "metadata": {
        "colab": {
          "base_uri": "https://localhost:8080/"
        },
        "id": "asvqC2pNVm6N",
        "outputId": "a73353d3-aabc-491f-8cd5-5298e0632d98"
      },
      "source": [
        "%%time\n",
        "\n",
        "def solution(strings, n):\n",
        "    answer = sorted(strings, key = lambda x: (x[n],x))\n",
        "    return answer\n",
        "\n",
        "strings = [\"sun\", \"bed\", \"car\"]\n",
        "n = 1\n",
        "print(solution(strings, n))"
      ],
      "execution_count": 26,
      "outputs": [
        {
          "output_type": "stream",
          "name": "stdout",
          "text": [
            "['car', 'bed', 'sun']\n",
            "CPU times: user 1.54 ms, sys: 0 ns, total: 1.54 ms\n",
            "Wall time: 1.63 ms\n"
          ]
        }
      ]
    },
    {
      "cell_type": "code",
      "metadata": {
        "colab": {
          "base_uri": "https://localhost:8080/"
        },
        "id": "oq_zHyF0W7TY",
        "outputId": "f36f3d39-c721-49be-cd4c-080aa15315ab"
      },
      "source": [
        "%%time\n",
        "\n",
        "def solution(strings, n):\n",
        "    answer = sorted(strings, key = lambda x: (x[n],x))\n",
        "    return answer\n",
        "\n",
        "strings = [\"abce\", \"abcd\", \"cdx\"]\n",
        "n = 2\n",
        "print(solution(strings, n))"
      ],
      "execution_count": 29,
      "outputs": [
        {
          "output_type": "stream",
          "name": "stdout",
          "text": [
            "['abcd', 'abce', 'cdx']\n",
            "CPU times: user 1.11 ms, sys: 0 ns, total: 1.11 ms\n",
            "Wall time: 1.13 ms\n"
          ]
        }
      ]
    },
    {
      "cell_type": "markdown",
      "metadata": {
        "id": "WcZexCEtYDBA"
      },
      "source": [
        "# 다른 사람 풀이"
      ]
    },
    {
      "cell_type": "code",
      "metadata": {
        "colab": {
          "base_uri": "https://localhost:8080/"
        },
        "id": "yinlNcgbYu_c",
        "outputId": "9bc8cf1f-2418-476e-c698-6b025d898ab0"
      },
      "source": [
        "from operator import itemgetter, attrgetter, methodcaller\n",
        "\n",
        "def solution(strings, n):\n",
        "    return sorted(sorted(strings), key=itemgetter(n))\n",
        "\n",
        "strings = [\"abce\", \"abcd\", \"cdx\"]\n",
        "n = 2\n",
        "print(solution(strings, n))"
      ],
      "execution_count": 33,
      "outputs": [
        {
          "output_type": "stream",
          "name": "stdout",
          "text": [
            "['abcd', 'abce', 'cdx']\n"
          ]
        }
      ]
    },
    {
      "cell_type": "code",
      "metadata": {
        "colab": {
          "base_uri": "https://localhost:8080/",
          "height": 35
        },
        "id": "4_rR5p-bbZkC",
        "outputId": "847bfe2c-8a1a-4669-931f-692117545e18"
      },
      "source": [
        "itemgetter(1)('ABCDEFG')"
      ],
      "execution_count": 36,
      "outputs": [
        {
          "output_type": "execute_result",
          "data": {
            "application/vnd.google.colaboratory.intrinsic+json": {
              "type": "string"
            },
            "text/plain": [
              "'B'"
            ]
          },
          "metadata": {},
          "execution_count": 36
        }
      ]
    },
    {
      "cell_type": "code",
      "metadata": {
        "colab": {
          "base_uri": "https://localhost:8080/"
        },
        "id": "4NjKW42ibifP",
        "outputId": "06f62a98-2e75-4abd-d52b-fe41d654d182"
      },
      "source": [
        "itemgetter(1, 3, 5)('ABCDEFG')"
      ],
      "execution_count": 37,
      "outputs": [
        {
          "output_type": "execute_result",
          "data": {
            "text/plain": [
              "('B', 'D', 'F')"
            ]
          },
          "metadata": {},
          "execution_count": 37
        }
      ]
    },
    {
      "cell_type": "code",
      "metadata": {
        "colab": {
          "base_uri": "https://localhost:8080/"
        },
        "id": "aFZk9Ds6b0Kq",
        "outputId": "6bc98d8a-0943-4f3c-cd12-0009fdc3e4f6"
      },
      "source": [
        "inventory = [('apple', 3), ('banana', 2), ('pear', 5), ('orange', 1)]\n",
        "getcount = itemgetter(1)\n",
        "list(map(getcount, inventory))\n",
        "sorted(inventory, key=getcount)"
      ],
      "execution_count": 43,
      "outputs": [
        {
          "output_type": "execute_result",
          "data": {
            "text/plain": [
              "[('orange', 1), ('banana', 2), ('apple', 3), ('pear', 5)]"
            ]
          },
          "metadata": {},
          "execution_count": 43
        }
      ]
    }
  ]
}