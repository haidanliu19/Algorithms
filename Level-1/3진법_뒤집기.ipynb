{
  "nbformat": 4,
  "nbformat_minor": 0,
  "metadata": {
    "colab": {
      "name": "3진법 뒤집기.ipynb",
      "provenance": [],
      "collapsed_sections": []
    },
    "kernelspec": {
      "name": "python3",
      "display_name": "Python 3"
    },
    "language_info": {
      "name": "python"
    }
  },
  "cells": [
    {
      "cell_type": "code",
      "metadata": {
        "colab": {
          "base_uri": "https://localhost:8080/"
        },
        "id": "Qdo3gBYiuM1T",
        "outputId": "d6d68fae-e1db-451a-f24e-bcf1413efb91"
      },
      "source": [
        "def solution(n):\n",
        "    answer= ''\n",
        "    while n>0:\n",
        "        n, mod = divmod(n, 3)\n",
        "        answer+= str(mod)\n",
        "    return int(answer,3)\n",
        "n = 45\n",
        "solution(n)"
      ],
      "execution_count": 23,
      "outputs": [
        {
          "output_type": "execute_result",
          "data": {
            "text/plain": [
              "7"
            ]
          },
          "metadata": {},
          "execution_count": 23
        }
      ]
    }
  ]
}