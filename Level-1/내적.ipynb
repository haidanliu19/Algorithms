{
  "nbformat": 4,
  "nbformat_minor": 0,
  "metadata": {
    "colab": {
      "name": "내적.ipynb",
      "provenance": []
    },
    "kernelspec": {
      "name": "python3",
      "display_name": "Python 3"
    },
    "language_info": {
      "name": "python"
    }
  },
  "cells": [
    {
      "cell_type": "code",
      "metadata": {
        "colab": {
          "base_uri": "https://localhost:8080/"
        },
        "id": "TIvVYIa8Ff2P",
        "outputId": "f8095377-9aed-4f6f-e4cd-08f44587701e"
      },
      "source": [
        "import numpy as np\n",
        "\n",
        "def solution(a, b):\n",
        "    a = np.array(a)\n",
        "    b = np.array(b)\n",
        "    answer = a.T @ b\n",
        "    return int(answer)\n",
        "\n",
        "a = [1,2,3,4]\n",
        "b = [-3,-1,0,2]\n",
        "solution(a, b)"
      ],
      "execution_count": 10,
      "outputs": [
        {
          "output_type": "execute_result",
          "data": {
            "text/plain": [
              "3"
            ]
          },
          "metadata": {},
          "execution_count": 10
        }
      ]
    }
  ]
}