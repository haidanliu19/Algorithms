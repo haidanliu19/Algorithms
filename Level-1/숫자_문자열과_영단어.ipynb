{
  "nbformat": 4,
  "nbformat_minor": 0,
  "metadata": {
    "colab": {
      "name": "숫자 문자열과 영단어.ipynb",
      "provenance": []
    },
    "kernelspec": {
      "name": "python3",
      "display_name": "Python 3"
    },
    "language_info": {
      "name": "python"
    }
  },
  "cells": [
    {
      "cell_type": "code",
      "metadata": {
        "colab": {
          "base_uri": "https://localhost:8080/"
        },
        "id": "x8gUeXdZuiDF",
        "outputId": "4a50db95-6ad8-4535-9c94-34753fb2e21e"
      },
      "source": [
        "def solution(s):\n",
        "    answer = 0\n",
        "    numbers = [\"zero\", \"one\",\"two\",\"three\",\"four\",\n",
        "               \"five\",\"six\",\"seven\",\"eight\",\"nine\" ]\n",
        "    dic= {}\n",
        "    list_= []\n",
        "    list_ += [(num,i) for num in numbers for i in range(len(s)) if s.startswith(num, i)]\n",
        "\n",
        "    for val,idx in list_:        \n",
        "        len_i = len(val)\n",
        "        if idx > -1:\n",
        "            dic[idx] = numbers.index(s[idx:idx+len_i])\n",
        "    for idx,val in enumerate(s):\n",
        "        if val.isdigit():\n",
        "            dic[idx]= int(val)\n",
        "    \n",
        "    answer = int(\"\".join([str(j) for i,j in sorted(dic.items())]))\n",
        "\n",
        "    return answer\n",
        "\n",
        "s = \"one4seveneighteight\"\n",
        "solution(s)"
      ],
      "execution_count": 105,
      "outputs": [
        {
          "output_type": "execute_result",
          "data": {
            "text/plain": [
              "14788"
            ]
          },
          "metadata": {},
          "execution_count": 105
        }
      ]
    },
    {
      "cell_type": "code",
      "metadata": {
        "id": "b_tjphztvLqV"
      },
      "source": [
        ""
      ],
      "execution_count": null,
      "outputs": []
    }
  ]
}