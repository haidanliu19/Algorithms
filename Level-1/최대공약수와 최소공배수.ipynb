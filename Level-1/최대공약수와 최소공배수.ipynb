{
  "nbformat": 4,
  "nbformat_minor": 0,
  "metadata": {
    "kernelspec": {
      "display_name": "Python 3",
      "language": "python",
      "name": "python3"
    },
    "language_info": {
      "codemirror_mode": {
        "name": "ipython",
        "version": 3
      },
      "file_extension": ".py",
      "mimetype": "text/x-python",
      "name": "python",
      "nbconvert_exporter": "python",
      "pygments_lexer": "ipython3",
      "version": "3.8.5"
    },
    "colab": {
      "name": "최대공약수와 최소공배수.ipynb",
      "provenance": [],
      "collapsed_sections": []
    }
  },
  "cells": [
    {
      "cell_type": "code",
      "metadata": {
        "id": "2uQk-QjnLweG"
      },
      "source": [
        "def gcd(n, m):\n",
        "    return m if n % m == 0 else gcd(m, n% m)\n",
        "def solution(n, m):\n",
        "    answer = []\n",
        "    gcd_num = gcd(n, m)\n",
        "    lcm = n * m // gcd_num\n",
        "    answer.append(gcd_num)\n",
        "    answer.append(lcm)\n",
        "\n",
        "    return answer"
      ],
      "execution_count": null,
      "outputs": []
    },
    {
      "cell_type": "code",
      "metadata": {
        "id": "zrjf828LLweL",
        "outputId": "6e5b2720-b866-49bb-a46c-02d23576d324"
      },
      "source": [
        "12 % 3"
      ],
      "execution_count": null,
      "outputs": [
        {
          "output_type": "execute_result",
          "data": {
            "text/plain": [
              "0"
            ]
          },
          "metadata": {
            "tags": []
          },
          "execution_count": 49
        }
      ]
    },
    {
      "cell_type": "code",
      "metadata": {
        "id": "_NplRMEJLweN"
      },
      "source": [
        "def GCD(a, b):\n",
        "    return b if not a % b else GCD(b, a % b)\n",
        " \n",
        " \n",
        "def solution(n, m):\n",
        "    gcd = GCD(n, m)\n",
        "    print(gcd)\n",
        "    lcm = n * m // gcd\n",
        "    \n",
        "    return [gcd, lcm]"
      ],
      "execution_count": null,
      "outputs": []
    },
    {
      "cell_type": "code",
      "metadata": {
        "id": "1P4j3KrmLweO",
        "outputId": "812c93f5-13ba-4d81-f29b-fe848f94ddac"
      },
      "source": [
        "solution(3, 12)"
      ],
      "execution_count": null,
      "outputs": [
        {
          "output_type": "execute_result",
          "data": {
            "text/plain": [
              "[3, 12]"
            ]
          },
          "metadata": {
            "tags": []
          },
          "execution_count": 54
        }
      ]
    },
    {
      "cell_type": "code",
      "metadata": {
        "id": "j1JPUzE9LweP",
        "outputId": "5d08497c-e7ac-4e10-cbe5-915acd34c9a4"
      },
      "source": [
        "solution(2, 5)"
      ],
      "execution_count": null,
      "outputs": [
        {
          "output_type": "execute_result",
          "data": {
            "text/plain": [
              "[1, 10]"
            ]
          },
          "metadata": {
            "tags": []
          },
          "execution_count": 55
        }
      ]
    },
    {
      "cell_type": "code",
      "metadata": {
        "id": "_8bHzQIELweQ",
        "outputId": "924620b5-1376-47c3-a36e-014d2ed9c004"
      },
      "source": [
        "solution(1000000,999999)"
      ],
      "execution_count": null,
      "outputs": [
        {
          "output_type": "execute_result",
          "data": {
            "text/plain": [
              "[1, 999999000000]"
            ]
          },
          "metadata": {
            "tags": []
          },
          "execution_count": 22
        }
      ]
    },
    {
      "cell_type": "code",
      "metadata": {
        "id": "YhnokWiTLweR",
        "outputId": "2ddec58a-1380-4dd7-b786-d626eb4bbc66"
      },
      "source": [
        "solution(2,12)"
      ],
      "execution_count": null,
      "outputs": [
        {
          "output_type": "execute_result",
          "data": {
            "text/plain": [
              "[2, 12.0]"
            ]
          },
          "metadata": {
            "tags": []
          },
          "execution_count": 15
        }
      ]
    },
    {
      "cell_type": "code",
      "metadata": {
        "id": "mY7NydQPLweS"
      },
      "source": [
        "def gcd(a, b):\n",
        "    if a < b:\n",
        "        (a, b) = (b, a)\n",
        "    while b != 0:\n",
        "        (a, b) = (b, a % b)\n",
        "    return a\n",
        " \n",
        "def solution(n, m):\n",
        "    return [gcd(n,m), n*m/gcd(n,m)]"
      ],
      "execution_count": null,
      "outputs": []
    },
    {
      "cell_type": "code",
      "metadata": {
        "colab": {
          "base_uri": "https://localhost:8080/"
        },
        "id": "oOpVA_sZLweU",
        "outputId": "8945141f-3ec9-4cf5-f36c-b60767efed6a"
      },
      "source": [
        "def solution(n, m):\n",
        "    gcd = lambda a,b : b if not a%b else gcd(b, a%b)\n",
        "    lcm = lambda a,b : a*b//gcd(a,b)\n",
        "    return [gcd(n, m), lcm(n, m)]\n",
        "\n",
        "solution(2,12)"
      ],
      "execution_count": 1,
      "outputs": [
        {
          "output_type": "execute_result",
          "data": {
            "text/plain": [
              "[2, 12]"
            ]
          },
          "metadata": {
            "tags": []
          },
          "execution_count": 1
        }
      ]
    },
    {
      "cell_type": "code",
      "metadata": {
        "colab": {
          "base_uri": "https://localhost:8080/"
        },
        "id": "71z_mEvFL1qw",
        "outputId": "03df5e49-b5ba-4bf4-c974-1c24c839a152"
      },
      "source": [
        "def euclidean_gcd(a, b):\n",
        "    a, b = max(a,b), min(a,b)\n",
        "    while b:\n",
        "        a, b = b, a%b\n",
        "    return a\n",
        "\n",
        "def gcdlcm(a, b):\n",
        "    return [euclidean_gcd(a, b), a*b//euclidean_gcd(a, b)]\n",
        "print(gcdlcm(3,12))"
      ],
      "execution_count": 4,
      "outputs": [
        {
          "output_type": "stream",
          "text": [
            "[3, 12]\n"
          ],
          "name": "stdout"
        }
      ]
    },
    {
      "cell_type": "code",
      "metadata": {
        "colab": {
          "base_uri": "https://localhost:8080/"
        },
        "id": "-w6on-RdMOcB",
        "outputId": "407a864b-cf27-48ab-8122-8a93b6273324"
      },
      "source": [
        "from fractions import gcd\n",
        "\n",
        "def gcdlcm(a, b):\n",
        "    return [gcd(a, b), (a * b) // gcd(a, b)]\n",
        "\n",
        "# 아래는 테스트로 출력해 보기 위한 코드입니다.\n",
        "print(gcdlcm(3,12))"
      ],
      "execution_count": 3,
      "outputs": [
        {
          "output_type": "stream",
          "text": [
            "[3, 12]\n"
          ],
          "name": "stdout"
        },
        {
          "output_type": "stream",
          "text": [
            "/usr/local/lib/python3.7/dist-packages/ipykernel_launcher.py:4: DeprecationWarning: fractions.gcd() is deprecated. Use math.gcd() instead.\n",
            "  after removing the cwd from sys.path.\n"
          ],
          "name": "stderr"
        }
      ]
    }
  ]
}