{
  "nbformat": 4,
  "nbformat_minor": 0,
  "metadata": {
    "colab": {
      "name": "이상한 문자 만들기.ipynb",
      "provenance": [],
      "collapsed_sections": []
    },
    "kernelspec": {
      "name": "python3",
      "display_name": "Python 3"
    },
    "language_info": {
      "name": "python"
    }
  },
  "cells": [
    {
      "cell_type": "code",
      "metadata": {
        "colab": {
          "base_uri": "https://localhost:8080/",
          "height": 35
        },
        "id": "NS8y3ny5A5Nq",
        "outputId": "05108827-c51b-428a-cb43-b5fb26444acb"
      },
      "source": [
        "\n",
        "def solution(s):\n",
        "    answer = list(str(s))\n",
        "    answer_1= \"\".join([answer[x] if x%2 !=0 else answer[x].upper() for x in range(len(answer))])\n",
        "    return answer_1\n",
        "\n",
        "s = \"try hello world\"\n",
        "solution(s)"
      ],
      "execution_count": 26,
      "outputs": [
        {
          "output_type": "execute_result",
          "data": {
            "application/vnd.google.colaboratory.intrinsic+json": {
              "type": "string"
            },
            "text/plain": [
              "'TrY HeLlO WoRlD'"
            ]
          },
          "metadata": {
            "tags": []
          },
          "execution_count": 26
        }
      ]
    },
    {
      "cell_type": "code",
      "metadata": {
        "colab": {
          "base_uri": "https://localhost:8080/",
          "height": 35
        },
        "id": "gettSI_TDNh4",
        "outputId": "376b02e7-9348-4d96-e95a-24f298a69388"
      },
      "source": [
        "\n",
        "def solution(s):\n",
        "    word_list,word_len = list(s), len(s)\n",
        "    answer = \"\".join([word_list[x].upper() if x%2 ==0 else word_list[x].lower()  for x in range(0,word_len)])\n",
        "    return answer\n",
        "\n",
        "s = \"try hello world\"\n",
        "solution(s)"
      ],
      "execution_count": 49,
      "outputs": [
        {
          "output_type": "execute_result",
          "data": {
            "application/vnd.google.colaboratory.intrinsic+json": {
              "type": "string"
            },
            "text/plain": [
              "'TrY HeLlO WoRlD'"
            ]
          },
          "metadata": {
            "tags": []
          },
          "execution_count": 49
        }
      ]
    },
    {
      "cell_type": "code",
      "metadata": {
        "colab": {
          "base_uri": "https://localhost:8080/",
          "height": 35
        },
        "id": "2LDLg2a3NXiC",
        "outputId": "ca1f7ea0-b9a3-4559-ee59-3c7ccd0c0632"
      },
      "source": [
        "def solution(s):\n",
        "    answer= \"\"\n",
        "    word_lists= s.split(\" \")\n",
        "    for word_list in word_lists:\n",
        "        len_= len(word_list)\n",
        "        answer += \"\".join([word_list[x].upper() if x%2 ==0 else word_list[x].lower()  for x in range(0,len_)])  +\" \"\n",
        "    return answer.rstrip()\n",
        "\n",
        "s = \"hello world        \"\n",
        "solution(s)"
      ],
      "execution_count": 65,
      "outputs": [
        {
          "output_type": "execute_result",
          "data": {
            "application/vnd.google.colaboratory.intrinsic+json": {
              "type": "string"
            },
            "text/plain": [
              "'HeLlO WoRlD'"
            ]
          },
          "metadata": {
            "tags": []
          },
          "execution_count": 65
        }
      ]
    },
    {
      "cell_type": "code",
      "metadata": {
        "colab": {
          "base_uri": "https://localhost:8080/",
          "height": 35
        },
        "id": "d51_EJqAJrP_",
        "outputId": "436c1c06-2787-4db8-a01c-730f4fa10181"
      },
      "source": [
        "def solution(s):\n",
        "    answer= \"\"\n",
        "    word_lists= s.split(\" \")\n",
        "    for word_list in word_lists:\n",
        "        len_= len(word_list)\n",
        "        answer += \"\".join([word_list[x].upper() if x%2 ==0 else word_list[x].lower()  for x in range(0,len_)])  +\" \"\n",
        "    return answer[:-1]\n",
        "\n",
        "s = \"hello world        \"\n",
        "solution(s)"
      ],
      "execution_count": 64,
      "outputs": [
        {
          "output_type": "execute_result",
          "data": {
            "application/vnd.google.colaboratory.intrinsic+json": {
              "type": "string"
            },
            "text/plain": [
              "'HeLlO WoRlD        '"
            ]
          },
          "metadata": {
            "tags": []
          },
          "execution_count": 64
        }
      ]
    },
    {
      "cell_type": "code",
      "metadata": {
        "colab": {
          "base_uri": "https://localhost:8080/",
          "height": 135
        },
        "id": "kJRrecZ4N8ac",
        "outputId": "21a44840-0058-4f13-d545-a35b084754a3"
      },
      "source": [
        "def toWeirdCase(s):\n",
        "    return \" \".join(map(lambda x: \"\".join([a.lower() if i % 2 else a.upper() for i, a in enumerate(x)]), s.split(\" \")))\n",
        "\n",
        "s = \"hello world        \"\n",
        "solution(s)"
      ],
      "execution_count": 71,
      "outputs": [
        {
          "output_type": "error",
          "ename": "SyntaxError",
          "evalue": "ignored",
          "traceback": [
            "\u001b[0;36m  File \u001b[0;32m\"<ipython-input-71-7d299a60e064>\"\u001b[0;36m, line \u001b[0;32m2\u001b[0m\n\u001b[0;31m    return \" \".join(map(lambda x: \"\".join([a.lower() if i % 2 else a.upper() for i, a in enumerate(x)]), s.split())))\u001b[0m\n\u001b[0m                                                                                                                    ^\u001b[0m\n\u001b[0;31mSyntaxError\u001b[0m\u001b[0;31m:\u001b[0m invalid syntax\n"
          ]
        }
      ]
    },
    {
      "cell_type": "code",
      "metadata": {
        "colab": {
          "base_uri": "https://localhost:8080/"
        },
        "id": "tBbcYG2MOnoG",
        "outputId": "c8d26b8b-1cb2-4cbf-bfd1-ef3d21fe2c10"
      },
      "source": [
        "def toWeirdCase(s):\n",
        "    # 함수를 완성하세요\n",
        "    return ' '.join([''.join([c.upper() if i % 2 == 0 else c.lower() for i, c in enumerate(w)]) for w in s.split()])\n",
        "\n",
        "# 아래는 테스트로 출력해 보기 위한 코드입니다.\n",
        "print(\"결과 : {}\".format(toWeirdCase(\"hello world        \")))"
      ],
      "execution_count": 72,
      "outputs": [
        {
          "output_type": "stream",
          "text": [
            "결과 : HeLlO WoRlD\n"
          ],
          "name": "stdout"
        }
      ]
    },
    {
      "cell_type": "code",
      "metadata": {
        "colab": {
          "base_uri": "https://localhost:8080/"
        },
        "id": "MFOTwmPxPG6B",
        "outputId": "2e99918e-1ac0-40a0-8e5d-320f6c5b45d4"
      },
      "source": [
        "def toWeirdCase(s):\n",
        "    return \" \".join([\"\".join([x.lower() if i%2 else x.upper() for i,x in enumerate(w)]) for w in s.split()])\n",
        "\n",
        "# 아래는 테스트로 출력해 보기 위한 코드입니다.\n",
        "print(\"결과 : {}\".format(toWeirdCase(\"hello world        \")));"
      ],
      "execution_count": 73,
      "outputs": [
        {
          "output_type": "stream",
          "text": [
            "결과 : HeLlO WoRlD\n"
          ],
          "name": "stdout"
        }
      ]
    },
    {
      "cell_type": "code",
      "metadata": {
        "colab": {
          "base_uri": "https://localhost:8080/"
        },
        "id": "YXQPI89rPiTh",
        "outputId": "eb8e1d14-46b1-499c-fdb4-d7dff87682ba"
      },
      "source": [
        "toWeirdCase = lambda s: \" \".join(map(lambda x: \"\".join([j.lower() if i % 2 else j.upper() for i, j in enumerate(x)]), s.split()))\n",
        "print(\"결과 : {}\".format(toWeirdCase(\"hello world        \")));"
      ],
      "execution_count": 75,
      "outputs": [
        {
          "output_type": "stream",
          "text": [
            "결과 : HeLlO WoRlD\n"
          ],
          "name": "stdout"
        }
      ]
    }
  ]
}