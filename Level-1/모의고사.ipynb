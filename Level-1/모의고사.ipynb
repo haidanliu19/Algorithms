{
  "nbformat": 4,
  "nbformat_minor": 0,
  "metadata": {
    "colab": {
      "name": "모의고사.ipynb",
      "provenance": [],
      "collapsed_sections": []
    },
    "kernelspec": {
      "name": "python3",
      "display_name": "Python 3"
    },
    "language_info": {
      "name": "python"
    }
  },
  "cells": [
    {
      "cell_type": "code",
      "metadata": {
        "colab": {
          "base_uri": "https://localhost:8080/"
        },
        "id": "gv0uHujHFqob",
        "outputId": "b3dca8b1-e093-4bd8-93db-46c3b4f1d3c5"
      },
      "source": [
        "def solution(answers):\n",
        "    answer = []\n",
        "    students = [[1, 2, 3, 4, 5],[2, 1, 2, 3, 2, 4, 2, 5],[3, 3, 1, 1, 2, 2, 4, 4, 5, 5]]\n",
        "    scores = [0 for i in range(0,3)] \n",
        "\n",
        "    for i in range(len(answers)):\n",
        "        for j,val in enumerate(students):\n",
        "            if answers[i] == val[i%len(val)]:\n",
        "                scores[j] += 1\n",
        "    answer = [i+1 for i in  range(3) if scores[i] == max(scores)]\n",
        "    return answer\n",
        "\n",
        "answers= [1,3,2,4,2]\n",
        "solution(answers)"
      ],
      "execution_count": null,
      "outputs": [
        {
          "output_type": "execute_result",
          "data": {
            "text/plain": [
              "[1, 2, 3]"
            ]
          },
          "metadata": {},
          "execution_count": 35
        }
      ]
    },
    {
      "cell_type": "code",
      "metadata": {
        "id": "sjGtxqnKIAov"
      },
      "source": [
        "# 완점 탐색브루트 포스라고도 불리며 컴퓨터의 빠른 계산 성능을 활용하여 가능한 모든 경우의 수를 탐색,"
      ],
      "execution_count": null,
      "outputs": []
    },
    {
      "cell_type": "code",
      "metadata": {
        "colab": {
          "base_uri": "https://localhost:8080/"
        },
        "id": "FixyCOtntCfS",
        "outputId": "8a8ec7ce-6484-42b4-ad88-114f139f47b2"
      },
      "source": [
        "def solution(answers):\n",
        "    answer = []\n",
        "    students = [[1, 2, 3, 4, 5],[2, 1, 2, 3, 2, 4, 2, 5],[3, 3, 1, 1, 2, 2, 4, 4, 5, 5]]\n",
        "    scores = [0 for i in range(0,3)] \n",
        "\n",
        "    for i in range(len(answers)):\n",
        "        for j,val in enumerate(students):\n",
        "            print(answers[i], val[i%len(val)], answers[i] == val[i%len(val)])\n",
        "            if answers[i] == val[i%len(val)]:\n",
        "                scores[j] += 1\n",
        "    print(scores)\n",
        "    answer = [i+1 for i in  range(3) if scores[i] == max(scores)]\n",
        "    return answer\n",
        "\n",
        "answers= [1,3,2,4,2]\n",
        "solution(answers)"
      ],
      "execution_count": 4,
      "outputs": [
        {
          "output_type": "stream",
          "name": "stdout",
          "text": [
            "1 1 True\n",
            "1 2 False\n",
            "1 3 False\n",
            "3 2 False\n",
            "3 1 False\n",
            "3 3 True\n",
            "2 3 False\n",
            "2 2 True\n",
            "2 1 False\n",
            "4 4 True\n",
            "4 3 False\n",
            "4 1 False\n",
            "2 5 False\n",
            "2 2 True\n",
            "2 2 True\n",
            "[2, 2, 2]\n"
          ]
        },
        {
          "output_type": "execute_result",
          "data": {
            "text/plain": [
              "[1, 2, 3]"
            ]
          },
          "metadata": {},
          "execution_count": 4
        }
      ]
    }
  ]
}