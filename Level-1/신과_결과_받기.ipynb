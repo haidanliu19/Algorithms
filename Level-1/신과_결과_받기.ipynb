{
  "nbformat": 4,
  "nbformat_minor": 0,
  "metadata": {
    "colab": {
      "name": "신과 결과 받기.ipynb",
      "provenance": [],
      "collapsed_sections": []
    },
    "kernelspec": {
      "name": "python3",
      "display_name": "Python 3"
    },
    "language_info": {
      "name": "python"
    }
  },
  "cells": [
    {
      "cell_type": "code",
      "execution_count": 109,
      "metadata": {
        "colab": {
          "base_uri": "https://localhost:8080/"
        },
        "id": "qElnNbLY3Mbs",
        "outputId": "3004e9ac-b16a-41df-b5d2-df98e3a0ab30"
      },
      "outputs": [
        {
          "output_type": "execute_result",
          "data": {
            "text/plain": [
              "[0, 0]"
            ]
          },
          "metadata": {},
          "execution_count": 109
        }
      ],
      "source": [
        "def solution(id_list, report, k):\n",
        "    # 신고한 내역을 저장한다. \n",
        "    dict_1= {}\n",
        "    for repor in report:\n",
        "        key,val = repor.split(' ')\n",
        "        list_= []\n",
        "        # 처음 입력할 경우 \n",
        "        if dict_1.get(key) == None:\n",
        "            list_.append(val)\n",
        "            dict_1[key] = list_\n",
        "        else:\n",
        "            # 기존에 입력했을 경우 \n",
        "            list_= dict_1.get(key)\n",
        "            # 기존에 입력했는데 같을 경우 제외하고 입력한다. \n",
        "            if val not in list_:\n",
        "                list_.append(val)\n",
        "                dict_1[key] = list_\n",
        "    dict_={}\n",
        "    # 신고당한 사람의 개수를 센다. \n",
        "    for key,val in dict_1.items():\n",
        "        for i in val:\n",
        "            dict_[i] = dict_.get(i,0) + 1\n",
        "    # 신고한 사람이 k번 이상 일 경우 추가한다. \n",
        "    dict_2= {}\n",
        "    for i in id_list:\n",
        "        # 없을 경우 0으로 하고 skip 한다. \n",
        "        if dict_1.get(i) is None:\n",
        "            dict_2[i] = 0\n",
        "            continue\n",
        "        # 있을 경우에는 \n",
        "        for j in dict_1.get(i):\n",
        "            # 값이 k보다 클 경우는 추가해준다. \n",
        "            if dict_.get(j,0) >= k:\n",
        "                dict_2[i] = dict_2.get(i,0)+1\n",
        "            else:\n",
        "                # 아닐 경우에는 0으로 한다. \n",
        "                dict_2[i] = dict_2.get(i,0)\n",
        "    return list(dict_2.values())\n",
        "'''\n",
        "id_list = [\"muzi\", \"frodo\", \"apeach\", \"neo\"]\n",
        "report = [\"muzi frodo\",\"apeach frodo\",\"frodo neo\",\"muzi neo\",\"apeach muzi\"]\n",
        "k = 2\n",
        "'''\n",
        "id_list = [\"con\", \"ryan\"]\n",
        "report = [\"ryan con\", \"ryan con\", \"ryan con\", \"ryan con\"]\n",
        "k = 3\n",
        "\n",
        "solution(id_list, report, k)"
      ]
    },
    {
      "cell_type": "code",
      "source": [
        ""
      ],
      "metadata": {
        "id": "8u-nb89TA5e5"
      },
      "execution_count": null,
      "outputs": []
    }
  ]
}