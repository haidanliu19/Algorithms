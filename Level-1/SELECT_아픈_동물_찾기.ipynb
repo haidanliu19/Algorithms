{
  "nbformat": 4,
  "nbformat_minor": 0,
  "metadata": {
    "colab": {
      "name": "SELECT_아픈 동물 찾기.ipynb",
      "provenance": [],
      "collapsed_sections": []
    },
    "kernelspec": {
      "name": "python3",
      "display_name": "Python 3"
    },
    "language_info": {
      "name": "python"
    }
  },
  "cells": [
    {
      "cell_type": "code",
      "metadata": {
        "id": "iSqOPOFBjtLu"
      },
      "source": [
        "-- 코드를 입력하세요\n",
        "SELECT ANIMAL_ID, NAME\n",
        "FROM ANIMAL_INS \n",
        "WHERE INTAKE_CONDITION='Sick'"
      ],
      "execution_count": null,
      "outputs": []
    }
  ]
}