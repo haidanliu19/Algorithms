{
  "nbformat": 4,
  "nbformat_minor": 0,
  "metadata": {
    "colab": {
      "name": "SELECT_최댓값 구하기.ipynb",
      "provenance": [],
      "collapsed_sections": []
    },
    "kernelspec": {
      "name": "python3",
      "display_name": "Python 3"
    },
    "language_info": {
      "name": "python"
    }
  },
  "cells": [
    {
      "cell_type": "code",
      "metadata": {
        "id": "MTFYG3ankzfB"
      },
      "source": [
        "-- 코드를 입력하세요\n",
        "SELECT MAX(DATETIME)\n",
        "FROM ANIMAL_INS "
      ],
      "execution_count": null,
      "outputs": []
    }
  ]
}