{
  "nbformat": 4,
  "nbformat_minor": 0,
  "metadata": {
    "colab": {
      "name": "약수의 개수와 덧셈.ipynb",
      "provenance": [],
      "collapsed_sections": []
    },
    "kernelspec": {
      "name": "python3",
      "display_name": "Python 3"
    },
    "language_info": {
      "name": "python"
    }
  },
  "cells": [
    {
      "cell_type": "code",
      "metadata": {
        "colab": {
          "base_uri": "https://localhost:8080/"
        },
        "id": "Qdo3gBYiuM1T",
        "outputId": "980c295c-f3cd-4f98-f213-264098097035"
      },
      "source": [
        "def solution(left, right):\n",
        "    answer = 0\n",
        "    dict_ ={}\n",
        "\n",
        "    for i in range(left, right+1):\n",
        "        _list2 = []\n",
        "        for j in range(1, i):\n",
        "            if i % j == 0:\n",
        "                _list2.append(j)\n",
        "        dict_[i] = _list2\n",
        "    for key, value in dict_.items():\n",
        "        answer += (key* -1 if len(value) % 2 == 0 else key)\n",
        "    return answer\n",
        "\n",
        "left = 13\n",
        "right = 17\n",
        "solution(left, right)"
      ],
      "execution_count": 46,
      "outputs": [
        {
          "output_type": "execute_result",
          "data": {
            "text/plain": [
              "43"
            ]
          },
          "metadata": {},
          "execution_count": 46
        }
      ]
    },
    {
      "cell_type": "markdown",
      "metadata": {
        "id": "ifmJcmoB1cg9"
      },
      "source": [
        "다른 사람 풀이"
      ]
    },
    {
      "cell_type": "code",
      "metadata": {
        "colab": {
          "base_uri": "https://localhost:8080/"
        },
        "id": "Bn2aFFv31dih",
        "outputId": "87844c3a-6a4a-45d9-a4b5-bf14a8151ec7"
      },
      "source": [
        "def solution(left, right):\n",
        "    answer = 0\n",
        "    for i in range(left,right+1):\n",
        "        print(i, int(i**0.5), i**0.5)\n",
        "        if int(i**0.5)==i**0.5:\n",
        "            answer -= i\n",
        "        else:\n",
        "            answer += i\n",
        "    return answer\n",
        "\n",
        "left = 13\n",
        "right = 17\n",
        "solution(left, right)"
      ],
      "execution_count": 49,
      "outputs": [
        {
          "output_type": "stream",
          "name": "stdout",
          "text": [
            "13 3 3.605551275463989\n",
            "14 3 3.7416573867739413\n",
            "15 3 3.872983346207417\n",
            "16 4 4.0\n",
            "17 4 4.123105625617661\n"
          ]
        },
        {
          "output_type": "execute_result",
          "data": {
            "text/plain": [
              "43"
            ]
          },
          "metadata": {},
          "execution_count": 49
        }
      ]
    }
  ]
}