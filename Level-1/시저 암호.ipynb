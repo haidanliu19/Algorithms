{
  "nbformat": 4,
  "nbformat_minor": 0,
  "metadata": {
    "colab": {
      "name": "시저 암호.ipynb",
      "provenance": [],
      "collapsed_sections": []
    },
    "kernelspec": {
      "name": "python3",
      "display_name": "Python 3"
    },
    "language_info": {
      "name": "python"
    }
  },
  "cells": [
    {
      "cell_type": "code",
      "metadata": {
        "colab": {
          "base_uri": "https://localhost:8080/"
        },
        "id": "wb_bWLRJyLaC",
        "outputId": "e1c34845-8c38-45be-bff3-6701d7a3b4e7"
      },
      "source": [
        "print(ord('A'))"
      ],
      "execution_count": null,
      "outputs": [
        {
          "output_type": "stream",
          "text": [
            "65\n"
          ],
          "name": "stdout"
        }
      ]
    },
    {
      "cell_type": "code",
      "metadata": {
        "colab": {
          "base_uri": "https://localhost:8080/"
        },
        "id": "h4Dbq98kyWD8",
        "outputId": "a53f52b8-f340-49f2-b933-5daa414c981e"
      },
      "source": [
        "print(chr(ord('a')+4))"
      ],
      "execution_count": null,
      "outputs": [
        {
          "output_type": "stream",
          "text": [
            "e\n"
          ],
          "name": "stdout"
        }
      ]
    },
    {
      "cell_type": "code",
      "metadata": {
        "colab": {
          "base_uri": "https://localhost:8080/",
          "height": 35
        },
        "id": "RLCxElatJL8E",
        "outputId": "0240b386-519a-4a63-ec4a-26583f2dc829"
      },
      "source": [
        "def solution(s, n):\n",
        "    answer = \"\".join([chr(ord(x)+n) for x in s])\n",
        "    return answer\n",
        "\n",
        "s = \"AB\"\n",
        "n = 1\n",
        "solution(s, n)"
      ],
      "execution_count": null,
      "outputs": [
        {
          "output_type": "execute_result",
          "data": {
            "application/vnd.google.colaboratory.intrinsic+json": {
              "type": "string"
            },
            "text/plain": [
              "'\\x0e\\x0f'"
            ]
          },
          "metadata": {
            "tags": []
          },
          "execution_count": 47
        }
      ]
    },
    {
      "cell_type": "code",
      "metadata": {
        "colab": {
          "base_uri": "https://localhost:8080/",
          "height": 35
        },
        "id": "1zt8xMU-KHlD",
        "outputId": "2102d944-3981-49cb-ba2c-9ad1626d264a"
      },
      "source": [
        "def solution(s, n):\n",
        "    answer = \"\".join(list(map(lambda x: chr(ord(x)+n) , s)))\n",
        "    return answer\n",
        "\n",
        "s = \"z\"\n",
        "n = 1\n",
        "solution(s, n)"
      ],
      "execution_count": null,
      "outputs": [
        {
          "output_type": "execute_result",
          "data": {
            "application/vnd.google.colaboratory.intrinsic+json": {
              "type": "string"
            },
            "text/plain": [
              "'{'"
            ]
          },
          "metadata": {
            "tags": []
          },
          "execution_count": 52
        }
      ]
    },
    {
      "cell_type": "code",
      "metadata": {
        "colab": {
          "base_uri": "https://localhost:8080/"
        },
        "id": "IzKKgqRuMk0-",
        "outputId": "36c01470-1aa4-4378-ab44-824aa65e4c28"
      },
      "source": [
        "ord('z') +1 "
      ],
      "execution_count": null,
      "outputs": [
        {
          "output_type": "execute_result",
          "data": {
            "text/plain": [
              "123"
            ]
          },
          "metadata": {
            "tags": []
          },
          "execution_count": 56
        }
      ]
    },
    {
      "cell_type": "code",
      "metadata": {
        "colab": {
          "base_uri": "https://localhost:8080/"
        },
        "id": "8c2TDWOrMqfC",
        "outputId": "24288f2e-52c1-4a45-dd75-952f77b63b71"
      },
      "source": [
        "ord('a')"
      ],
      "execution_count": null,
      "outputs": [
        {
          "output_type": "execute_result",
          "data": {
            "text/plain": [
              "97"
            ]
          },
          "metadata": {
            "tags": []
          },
          "execution_count": 57
        }
      ]
    },
    {
      "cell_type": "code",
      "metadata": {
        "id": "aFgLn14oM4ny"
      },
      "source": [
        "def caesar(s, n):\n",
        "    s = list(s)\n",
        "    for i in range(len(s)):\n",
        "        if s[i].isupper():\n",
        "            s[i] = chr((ord(s[i]) - ord('A') + n) % 26 + ord('A'))\n",
        "        elif s[i].islower():\n",
        "            s[i] = chr((ord(s[i]) - ord('a') + n) % 26 + ord('a'))\n",
        "\n",
        "    return \"\".join(s)"
      ],
      "execution_count": null,
      "outputs": []
    },
    {
      "cell_type": "code",
      "metadata": {
        "colab": {
          "base_uri": "https://localhost:8080/",
          "height": 35
        },
        "id": "FswXnT2tNqbr",
        "outputId": "27cfaf66-98f0-4a3d-a5b4-845139eae851"
      },
      "source": [
        "def solution(s, n):\n",
        "    answer = \"\".join(list(map(lambda x: x if x is ' ' else (chr((ord(x) - ord('A') + n) % 26 + ord('A')) if x.isupper() else chr((ord(x) - ord('a') + n) % 26 + ord('a'))) , s)))\n",
        "    return answer\n",
        "\n",
        "s = \"z\"\n",
        "n = 1\n",
        "solution(s, n)"
      ],
      "execution_count": 5,
      "outputs": [
        {
          "output_type": "execute_result",
          "data": {
            "application/vnd.google.colaboratory.intrinsic+json": {
              "type": "string"
            },
            "text/plain": [
              "'a'"
            ]
          },
          "metadata": {},
          "execution_count": 5
        }
      ]
    },
    {
      "cell_type": "code",
      "metadata": {
        "colab": {
          "base_uri": "https://localhost:8080/",
          "height": 35
        },
        "id": "8_aOinNrCuXe",
        "outputId": "37281876-7614-40de-c0ae-7428c731956d"
      },
      "source": [
        "'z'.upper()"
      ],
      "execution_count": 4,
      "outputs": [
        {
          "output_type": "execute_result",
          "data": {
            "application/vnd.google.colaboratory.intrinsic+json": {
              "type": "string"
            },
            "text/plain": [
              "'Z'"
            ]
          },
          "metadata": {},
          "execution_count": 4
        }
      ]
    },
    {
      "cell_type": "code",
      "metadata": {
        "colab": {
          "base_uri": "https://localhost:8080/",
          "height": 70
        },
        "id": "wX1EMzT8N8Kp",
        "outputId": "61d7ba90-29b8-4ac4-bbf8-9db6f55240a2"
      },
      "source": [
        "x = 'B'\n",
        "n = 1\n",
        "print(ord(x) - ord('A') + n) \n",
        "print((ord(x) - ord('A') + n) % 26)\n",
        "chr((ord(x) - ord('A') + n) % 26 + ord('A'))"
      ],
      "execution_count": null,
      "outputs": [
        {
          "output_type": "stream",
          "text": [
            "2\n",
            "2\n"
          ],
          "name": "stdout"
        },
        {
          "output_type": "execute_result",
          "data": {
            "application/vnd.google.colaboratory.intrinsic+json": {
              "type": "string"
            },
            "text/plain": [
              "'C'"
            ]
          },
          "metadata": {
            "tags": []
          },
          "execution_count": 74
        }
      ]
    },
    {
      "cell_type": "code",
      "metadata": {
        "colab": {
          "base_uri": "https://localhost:8080/",
          "height": 35
        },
        "id": "gf9ddcQSNt1d",
        "outputId": "bf111e08-b73f-4f31-ab05-ad93c1393176"
      },
      "source": [
        "def solution(s, n):\n",
        "    answer = \"\".join(list(map(lambda x: x if x is ' ' else (chr((ord(x) - ord('A') + n) % 26 + ord('A')) if x.isupper() else chr((ord(x) - ord('a') + n) % 26 + ord('a'))) , s)))\n",
        "    return answer\n",
        "\n",
        "s = \"z\"\n",
        "n = 1\n",
        "solution(s, n)"
      ],
      "execution_count": null,
      "outputs": [
        {
          "output_type": "execute_result",
          "data": {
            "application/vnd.google.colaboratory.intrinsic+json": {
              "type": "string"
            },
            "text/plain": [
              "'a'"
            ]
          },
          "metadata": {
            "tags": []
          },
          "execution_count": 67
        }
      ]
    },
    {
      "cell_type": "code",
      "metadata": {
        "colab": {
          "base_uri": "https://localhost:8080/",
          "height": 35
        },
        "id": "24inf8QRKs4t",
        "outputId": "1aff1c05-f114-4c77-a5cf-fbe145aaf159"
      },
      "source": [
        "def solution(s, n):\n",
        "    answer = \"\".join(list(map(lambda x: x if x is ' ' else (chr((ord(x) - ord('A') + n) % 26 + ord('A')) if x.isupper() else chr((ord(x) - ord('a') + n) % 26 + ord('a'))) , s)))\n",
        "    return answer\n",
        "\n",
        "s = \"a B z\"\n",
        "n = 4\n",
        "solution(s, n)"
      ],
      "execution_count": null,
      "outputs": [
        {
          "output_type": "execute_result",
          "data": {
            "application/vnd.google.colaboratory.intrinsic+json": {
              "type": "string"
            },
            "text/plain": [
              "'K F J'"
            ]
          },
          "metadata": {
            "tags": []
          },
          "execution_count": 63
        }
      ]
    },
    {
      "cell_type": "code",
      "metadata": {
        "colab": {
          "base_uri": "https://localhost:8080/"
        },
        "id": "Ux_zgOchJ0In",
        "outputId": "835c8ab1-0c8e-4593-a45e-70d43be04703"
      },
      "source": [
        "s =' '\n",
        "list(map(lambda x: x if x is ' ' else chr(ord(x)+n) , s))"
      ],
      "execution_count": null,
      "outputs": [
        {
          "output_type": "execute_result",
          "data": {
            "text/plain": [
              "[' ']"
            ]
          },
          "metadata": {
            "tags": []
          },
          "execution_count": 39
        }
      ]
    }
  ]
}