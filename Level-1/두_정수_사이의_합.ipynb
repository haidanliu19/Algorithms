{
  "nbformat": 4,
  "nbformat_minor": 0,
  "metadata": {
    "colab": {
      "name": "두 정수 사이의 합.ipynb",
      "provenance": [],
      "collapsed_sections": []
    },
    "kernelspec": {
      "name": "python3",
      "display_name": "Python 3"
    },
    "language_info": {
      "name": "python"
    }
  },
  "cells": [
    {
      "cell_type": "code",
      "metadata": {
        "colab": {
          "base_uri": "https://localhost:8080/"
        },
        "id": "asvqC2pNVm6N",
        "outputId": "3691330f-4503-4ae2-caac-aa658055b808"
      },
      "source": [
        "%%time\n",
        "\n",
        "def solution(a, b):\n",
        "    if a> b: a,b = b,a\n",
        "    return sum(range(a,b+1))\n",
        "\n",
        "a = 3\n",
        "b = 5 \n",
        "print(solution(a, b))"
      ],
      "execution_count": 63,
      "outputs": [
        {
          "output_type": "stream",
          "name": "stdout",
          "text": [
            "12\n",
            "CPU times: user 113 µs, sys: 15 µs, total: 128 µs\n",
            "Wall time: 110 µs\n"
          ]
        }
      ]
    },
    {
      "cell_type": "code",
      "metadata": {
        "colab": {
          "base_uri": "https://localhost:8080/"
        },
        "id": "oq_zHyF0W7TY",
        "outputId": "de2e7822-77bc-4846-c2b1-727d9f1afd2c"
      },
      "source": [
        "%%time\n",
        "\n",
        "def solution(a, b):\n",
        "    if a> b: a,b = b,a\n",
        "    return sum(range(a,b+1))\n",
        "\n",
        "a = 5\n",
        "b = 3 \n",
        "print(solution(a, b))"
      ],
      "execution_count": 64,
      "outputs": [
        {
          "output_type": "stream",
          "name": "stdout",
          "text": [
            "12\n",
            "CPU times: user 75 µs, sys: 0 ns, total: 75 µs\n",
            "Wall time: 79.2 µs\n"
          ]
        }
      ]
    },
    {
      "cell_type": "code",
      "metadata": {
        "colab": {
          "base_uri": "https://localhost:8080/"
        },
        "id": "WjTIVChdfVrF",
        "outputId": "db3090f6-5778-4e95-c572-39bc509732e8"
      },
      "source": [
        "%%time\n",
        "\n",
        "def solution(a, b):\n",
        "    if a> b: a,b = b,a\n",
        "    return sum(range(a,b+1))\n",
        "\n",
        "a = 3\n",
        "b = 3 \n",
        "print(solution(a, b))"
      ],
      "execution_count": 65,
      "outputs": [
        {
          "output_type": "stream",
          "name": "stdout",
          "text": [
            "3\n",
            "CPU times: user 144 µs, sys: 19 µs, total: 163 µs\n",
            "Wall time: 141 µs\n"
          ]
        }
      ]
    },
    {
      "cell_type": "markdown",
      "metadata": {
        "id": "WcZexCEtYDBA"
      },
      "source": [
        "# 다른 사람 풀이"
      ]
    },
    {
      "cell_type": "code",
      "metadata": {
        "colab": {
          "base_uri": "https://localhost:8080/"
        },
        "id": "yinlNcgbYu_c",
        "outputId": "d1ed094a-9627-499a-ea7e-12b8a57dbbd7"
      },
      "source": [
        "def adder(a, b):\n",
        "    return (abs(a-b)+1)*(a+b)//2\n",
        "\n",
        "# 아래는 테스트로 출력해 보기 위한 코드입니다.\n",
        "print( adder(3, 5))\n",
        "print( adder(5, 3))"
      ],
      "execution_count": 67,
      "outputs": [
        {
          "output_type": "stream",
          "name": "stdout",
          "text": [
            "12\n",
            "12\n"
          ]
        }
      ]
    },
    {
      "cell_type": "code",
      "metadata": {
        "colab": {
          "base_uri": "https://localhost:8080/"
        },
        "id": "4X1baHfMg_2p",
        "outputId": "a4fb8f3e-b6a1-4ad0-81bf-14ed66fb4ae6"
      },
      "source": [
        "def adder(a, b):\n",
        "    # 함수를 완성하세요\n",
        "    return sum(range(min(a,b),max(a,b)+1))\n",
        "\n",
        "# 아래는 테스트로 출력해 보기 위한 코드입니다.\n",
        "print( adder(3, 5))"
      ],
      "execution_count": 69,
      "outputs": [
        {
          "output_type": "stream",
          "name": "stdout",
          "text": [
            "12\n"
          ]
        }
      ]
    },
    {
      "cell_type": "code",
      "metadata": {
        "colab": {
          "base_uri": "https://localhost:8080/"
        },
        "id": "_XEBNzhuhM5j",
        "outputId": "b3c4a361-f668-4096-c41e-16f91ab49ac7"
      },
      "source": [
        "def adder(a, b):\n",
        "    # 함수를 완성하세요\n",
        "    _ = sorted([a,b])\n",
        "    return sum([x for x in range(_[0], _[1] + 1)]) if a != b else a\n",
        "\n",
        "# 아래는 테스트로 출력해 보기 위한 코드입니다.\n",
        "print( adder(3, 5))"
      ],
      "execution_count": 70,
      "outputs": [
        {
          "output_type": "stream",
          "name": "stdout",
          "text": [
            "12\n"
          ]
        }
      ]
    }
  ]
}