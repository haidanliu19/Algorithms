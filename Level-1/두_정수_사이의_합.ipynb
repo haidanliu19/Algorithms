{
  "nbformat": 4,
  "nbformat_minor": 2,
  "metadata": {
    "colab": {
      "name": "두 정수 사이의 합.ipynb",
      "provenance": [],
      "collapsed_sections": []
    },
    "kernelspec": {
      "name": "python3",
      "display_name": "Python 3.9.2 64-bit"
    },
    "language_info": {
      "name": "python",
      "version": "3.9.2",
      "mimetype": "text/x-python",
      "codemirror_mode": {
        "name": "ipython",
        "version": 3
      },
      "pygments_lexer": "ipython3",
      "nbconvert_exporter": "python",
      "file_extension": ".py"
    },
    "interpreter": {
      "hash": "0c196435614fb841fbe5a01f29fcdccf4834c84b07b02bf137ab39e5830424bb"
    }
  },
  "cells": [
    {
      "cell_type": "code",
      "execution_count": 2,
      "source": [
        "%%time\r\n",
        "\r\n",
        "def solution(a, b):\r\n",
        "    if a> b: a,b = b,a\r\n",
        "    return sum(range(a,b+1))\r\n",
        "\r\n",
        "a = 3\r\n",
        "b = 5 \r\n",
        "print(solution(a, b))"
      ],
      "outputs": [
        {
          "output_type": "stream",
          "name": "stdout",
          "text": [
            "12\n",
            "CPU times: total: 0 ns\n",
            "Wall time: 0 ns\n"
          ]
        }
      ],
      "metadata": {
        "colab": {
          "base_uri": "https://localhost:8080/"
        },
        "id": "asvqC2pNVm6N",
        "outputId": "3691330f-4503-4ae2-caac-aa658055b808"
      }
    },
    {
      "cell_type": "code",
      "execution_count": null,
      "source": [],
      "outputs": [],
      "metadata": {}
    },
    {
      "cell_type": "code",
      "execution_count": 3,
      "source": [
        "%%time\r\n",
        "\r\n",
        "def solution(a, b):\r\n",
        "    if a> b: a,b = b,a\r\n",
        "    return sum(range(a,b+1))\r\n",
        "\r\n",
        "a = 5\r\n",
        "b = 3 \r\n",
        "print(solution(a, b))"
      ],
      "outputs": [
        {
          "output_type": "stream",
          "name": "stdout",
          "text": [
            "12\n",
            "CPU times: total: 0 ns\n",
            "Wall time: 0 ns\n"
          ]
        }
      ],
      "metadata": {
        "colab": {
          "base_uri": "https://localhost:8080/"
        },
        "id": "oq_zHyF0W7TY",
        "outputId": "de2e7822-77bc-4846-c2b1-727d9f1afd2c"
      }
    },
    {
      "cell_type": "code",
      "execution_count": 4,
      "source": [
        "%%time\r\n",
        "\r\n",
        "def solution(a, b):\r\n",
        "    if a> b: a,b = b,a\r\n",
        "    return sum(range(a,b+1))\r\n",
        "\r\n",
        "a = 3\r\n",
        "b = 3 \r\n",
        "print(solution(a, b))"
      ],
      "outputs": [
        {
          "output_type": "stream",
          "name": "stdout",
          "text": [
            "3\n",
            "CPU times: total: 0 ns\n",
            "Wall time: 0 ns\n"
          ]
        }
      ],
      "metadata": {
        "colab": {
          "base_uri": "https://localhost:8080/"
        },
        "id": "WjTIVChdfVrF",
        "outputId": "db3090f6-5778-4e95-c572-39bc509732e8"
      }
    },
    {
      "cell_type": "markdown",
      "source": [
        "# 다른 사람 풀이"
      ],
      "metadata": {
        "id": "WcZexCEtYDBA"
      }
    },
    {
      "cell_type": "code",
      "execution_count": 5,
      "source": [
        "def adder(a, b):\r\n",
        "    return (abs(a-b)+1)*(a+b)//2\r\n",
        "\r\n",
        "# 아래는 테스트로 출력해 보기 위한 코드입니다.\r\n",
        "print( adder(3, 5))\r\n",
        "print( adder(5, 3))"
      ],
      "outputs": [
        {
          "output_type": "stream",
          "name": "stdout",
          "text": [
            "12\n",
            "12\n"
          ]
        }
      ],
      "metadata": {
        "colab": {
          "base_uri": "https://localhost:8080/"
        },
        "id": "yinlNcgbYu_c",
        "outputId": "d1ed094a-9627-499a-ea7e-12b8a57dbbd7"
      }
    },
    {
      "cell_type": "code",
      "execution_count": 6,
      "source": [
        "def adder(a, b):\r\n",
        "    # 함수를 완성하세요\r\n",
        "    return sum(range(min(a,b),max(a,b)+1))\r\n",
        "\r\n",
        "# 아래는 테스트로 출력해 보기 위한 코드입니다.\r\n",
        "print( adder(3, 5))"
      ],
      "outputs": [
        {
          "output_type": "stream",
          "name": "stdout",
          "text": [
            "12\n"
          ]
        }
      ],
      "metadata": {
        "colab": {
          "base_uri": "https://localhost:8080/"
        },
        "id": "4X1baHfMg_2p",
        "outputId": "a4fb8f3e-b6a1-4ad0-81bf-14ed66fb4ae6"
      }
    },
    {
      "cell_type": "code",
      "execution_count": 7,
      "source": [
        "def adder(a, b):\r\n",
        "    # 함수를 완성하세요\r\n",
        "    _ = sorted([a,b])\r\n",
        "    return sum([x for x in range(_[0], _[1] + 1)]) if a != b else a\r\n",
        "\r\n",
        "# 아래는 테스트로 출력해 보기 위한 코드입니다.\r\n",
        "print( adder(3, 5))"
      ],
      "outputs": [
        {
          "output_type": "stream",
          "name": "stdout",
          "text": [
            "12\n"
          ]
        }
      ],
      "metadata": {
        "colab": {
          "base_uri": "https://localhost:8080/"
        },
        "id": "_XEBNzhuhM5j",
        "outputId": "b3c4a361-f668-4096-c41e-16f91ab49ac7"
      }
    },
    {
      "cell_type": "code",
      "execution_count": 8,
      "source": [
        "# 다시 풀이\r\n",
        "def solution(a, b):\r\n",
        "    answer = 0\r\n",
        "    a, b = max(a,b), min(a, b)\r\n",
        "    #answer = sum([i for i in range(b, a + 1)])\r\n",
        "    answer = sum(range(b, a + 1))\r\n",
        "    return answer\r\n",
        "\r\n",
        "a = 3\r\n",
        "b = 5\r\n",
        "solution(a, b)"
      ],
      "outputs": [
        {
          "output_type": "execute_result",
          "data": {
            "text/plain": [
              "12"
            ]
          },
          "metadata": {},
          "execution_count": 8
        }
      ],
      "metadata": {}
    }
  ]
}