{
  "nbformat": 4,
  "nbformat_minor": 0,
  "metadata": {
    "kernelspec": {
      "display_name": "Python 3",
      "language": "python",
      "name": "python3"
    },
    "language_info": {
      "codemirror_mode": {
        "name": "ipython",
        "version": 3
      },
      "file_extension": ".py",
      "mimetype": "text/x-python",
      "name": "python",
      "nbconvert_exporter": "python",
      "pygments_lexer": "ipython3",
      "version": "3.8.5"
    },
    "colab": {
      "name": "콜라츠 추측.ipynb",
      "provenance": [],
      "collapsed_sections": []
    }
  },
  "cells": [
    {
      "cell_type": "code",
      "metadata": {
        "id": "ihdN1Af-jZ1H"
      },
      "source": [
        "def solution(num):\n",
        "    answer = 0\n",
        "    if num == 1: return answer\n",
        "    while True:\n",
        "        num = num/2 if num % 2 == 0 else num*3+1\n",
        "        answer+= 1\n",
        "        if answer >= 500:\n",
        "            return -1\n",
        "        if num == 1:\n",
        "            break\n",
        "    return answer"
      ],
      "execution_count": null,
      "outputs": []
    },
    {
      "cell_type": "code",
      "metadata": {
        "id": "5iw4OvADjZ1L",
        "outputId": "503a07bd-fc9f-4a1f-8f9d-8c5e9b8ed3c6"
      },
      "source": [
        "solution(1)"
      ],
      "execution_count": null,
      "outputs": [
        {
          "output_type": "execute_result",
          "data": {
            "text/plain": [
              "0"
            ]
          },
          "metadata": {
            "tags": []
          },
          "execution_count": 38
        }
      ]
    },
    {
      "cell_type": "code",
      "metadata": {
        "id": "e9elYf_ejZ1N",
        "outputId": "214c4fca-fc86-4969-c640-7004185f78a5"
      },
      "source": [
        "num = 6\n",
        "num*2 if num % 2 == 0 else num*3+1"
      ],
      "execution_count": null,
      "outputs": [
        {
          "output_type": "execute_result",
          "data": {
            "text/plain": [
              "12"
            ]
          },
          "metadata": {
            "tags": []
          },
          "execution_count": 32
        }
      ]
    },
    {
      "cell_type": "code",
      "metadata": {
        "id": "kgViMX4kjZ1O",
        "outputId": "03e998a9-5612-4798-84b5-0e490501f183"
      },
      "source": [
        "solution(6)"
      ],
      "execution_count": null,
      "outputs": [
        {
          "output_type": "execute_result",
          "data": {
            "text/plain": [
              "8"
            ]
          },
          "metadata": {
            "tags": []
          },
          "execution_count": 33
        }
      ]
    },
    {
      "cell_type": "code",
      "metadata": {
        "id": "6LezG7EmjZ1P",
        "outputId": "e4414e82-43a8-486a-b206-9bd59eace070"
      },
      "source": [
        "solution(16)"
      ],
      "execution_count": null,
      "outputs": [
        {
          "output_type": "execute_result",
          "data": {
            "text/plain": [
              "4"
            ]
          },
          "metadata": {
            "tags": []
          },
          "execution_count": 34
        }
      ]
    },
    {
      "cell_type": "code",
      "metadata": {
        "id": "HkmuuZA4jZ1P",
        "outputId": "5dbe9911-6fb5-4335-d3c9-6786409c0833"
      },
      "source": [
        "solution(626331)"
      ],
      "execution_count": null,
      "outputs": [
        {
          "output_type": "execute_result",
          "data": {
            "text/plain": [
              "-1"
            ]
          },
          "metadata": {
            "tags": []
          },
          "execution_count": 35
        }
      ]
    },
    {
      "cell_type": "code",
      "metadata": {
        "colab": {
          "base_uri": "https://localhost:8080/"
        },
        "id": "XhALAXfcjzqQ",
        "outputId": "ebbf9a7d-7915-45d0-cea9-ee885a4908bb"
      },
      "source": [
        "from functools import reduce\n",
        "def collatz(num):\n",
        "    return -min(reduce(lambda v, i: min(-v*i, v) if v<=1 else (v*3+1 if v%2 else v//2), range(501), num), 1)\n",
        "\n",
        "# 아래는 테스트로 출력해 보기 위한 코드입니다.\n",
        "print(collatz(6))"
      ],
      "execution_count": 12,
      "outputs": [
        {
          "output_type": "stream",
          "text": [
            "8\n"
          ],
          "name": "stdout"
        }
      ]
    },
    {
      "cell_type": "code",
      "metadata": {
        "colab": {
          "base_uri": "https://localhost:8080/"
        },
        "id": "zWfQUV38lHI9",
        "outputId": "371dc7a5-efb1-4c9e-bf0a-9e6f3fd43522"
      },
      "source": [
        "num = 6\n",
        "-reduce(lambda v, i: min(-v*i, v) if v<=1 else (v*3+1 if v%2 else v//2), range(501), num)"
      ],
      "execution_count": 37,
      "outputs": [
        {
          "output_type": "execute_result",
          "data": {
            "text/plain": [
              "8"
            ]
          },
          "metadata": {
            "tags": []
          },
          "execution_count": 37
        }
      ]
    },
    {
      "cell_type": "code",
      "metadata": {
        "colab": {
          "base_uri": "https://localhost:8080/"
        },
        "id": "01DGI9gXleAd",
        "outputId": "1b7af90f-06ce-400d-ab57-014236c2b299"
      },
      "source": [
        "ret = lambda v, i: min(-v*i, v) if v<=1 else (v*3+1 if v%2 else v//2)\n",
        "print(ret(6,1))"
      ],
      "execution_count": 44,
      "outputs": [
        {
          "output_type": "stream",
          "text": [
            "3\n"
          ],
          "name": "stdout"
        }
      ]
    },
    {
      "cell_type": "code",
      "metadata": {
        "colab": {
          "base_uri": "https://localhost:8080/"
        },
        "id": "pTuz8uxmnk7_",
        "outputId": "ce6a9ddb-939b-41ef-f06e-eda0d1548cdd"
      },
      "source": [
        "print(ret(3,1))"
      ],
      "execution_count": 45,
      "outputs": [
        {
          "output_type": "stream",
          "text": [
            "10\n"
          ],
          "name": "stdout"
        }
      ]
    },
    {
      "cell_type": "code",
      "metadata": {
        "colab": {
          "base_uri": "https://localhost:8080/"
        },
        "id": "9ZAEka-QnmiS",
        "outputId": "4659304b-e8f8-41d9-b74d-cc625586661e"
      },
      "source": [
        "print(ret(10,1))"
      ],
      "execution_count": 46,
      "outputs": [
        {
          "output_type": "stream",
          "text": [
            "5\n"
          ],
          "name": "stdout"
        }
      ]
    },
    {
      "cell_type": "code",
      "metadata": {
        "id": "4EWqWZaxn106"
      },
      "source": [
        ""
      ],
      "execution_count": null,
      "outputs": []
    }
  ]
}