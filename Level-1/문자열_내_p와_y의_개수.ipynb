{
  "nbformat": 4,
  "nbformat_minor": 0,
  "metadata": {
    "colab": {
      "name": "문자열 내 p와 y의 개수.ipynb",
      "provenance": [],
      "collapsed_sections": []
    },
    "kernelspec": {
      "name": "python3",
      "display_name": "Python 3"
    },
    "language_info": {
      "name": "python"
    }
  },
  "cells": [
    {
      "cell_type": "code",
      "metadata": {
        "colab": {
          "base_uri": "https://localhost:8080/"
        },
        "id": "asvqC2pNVm6N",
        "outputId": "1ffde11d-e0a6-4413-f92e-93e94144eff4"
      },
      "source": [
        "%%time\n",
        "\n",
        "def solution(s):\n",
        "    return True if s.upper().count('P') == s.upper().count('Y') else False\n",
        "\n",
        "s= \"pPoooyY\"\n",
        "print(solution(s))"
      ],
      "execution_count": 14,
      "outputs": [
        {
          "output_type": "stream",
          "name": "stdout",
          "text": [
            "True\n",
            "CPU times: user 1.66 ms, sys: 0 ns, total: 1.66 ms\n",
            "Wall time: 2.28 ms\n"
          ]
        }
      ]
    },
    {
      "cell_type": "code",
      "metadata": {
        "colab": {
          "base_uri": "https://localhost:8080/"
        },
        "id": "oq_zHyF0W7TY",
        "outputId": "bd0c58d2-9d7a-434a-faa1-7636cac10fe2"
      },
      "source": [
        "%%time\n",
        "\n",
        "def solution(s):\n",
        "    return True if s.upper().count('P') == s.upper().count('Y') else False\n",
        "\n",
        "s= \"Pyy\"\n",
        "print(solution(s))"
      ],
      "execution_count": 15,
      "outputs": [
        {
          "output_type": "stream",
          "name": "stdout",
          "text": [
            "False\n",
            "CPU times: user 1.78 ms, sys: 0 ns, total: 1.78 ms\n",
            "Wall time: 1.99 ms\n"
          ]
        }
      ]
    },
    {
      "cell_type": "markdown",
      "metadata": {
        "id": "WcZexCEtYDBA"
      },
      "source": [
        "# 다른 사람 풀이"
      ]
    },
    {
      "cell_type": "code",
      "metadata": {
        "colab": {
          "base_uri": "https://localhost:8080/"
        },
        "id": "F_d0SP3PXsxS",
        "outputId": "41157db3-d3b1-44bb-bedd-9a1fbd96ee3d"
      },
      "source": [
        "%%time\n",
        "\n",
        "def solution(s):\n",
        "    return s.upper().count('P') == s.upper().count('Y')\n",
        "\n",
        "s= \"Pyy\"\n",
        "print(solution(s))"
      ],
      "execution_count": 16,
      "outputs": [
        {
          "output_type": "stream",
          "name": "stdout",
          "text": [
            "False\n",
            "CPU times: user 1.67 ms, sys: 0 ns, total: 1.67 ms\n",
            "Wall time: 1.62 ms\n"
          ]
        }
      ]
    },
    {
      "cell_type": "code",
      "metadata": {
        "colab": {
          "base_uri": "https://localhost:8080/"
        },
        "id": "bkql3x6KYBrs",
        "outputId": "6b6b342b-d887-491a-d16f-f369c1fd26af"
      },
      "source": [
        "%%time\n",
        "\n",
        "from collections import Counter\n",
        "def numPY(s):\n",
        "    # 함수를 완성하세요\n",
        "    c = Counter(s.lower())\n",
        "    return c['y'] == c['p'] \n",
        "\n",
        "\n",
        "\n",
        "# 아래는 테스트로 출력해 보기 위한 코드입니다.\n",
        "print( numPY(\"pPoooyY\") )\n",
        "print( numPY(\"Pyy\") )"
      ],
      "execution_count": 19,
      "outputs": [
        {
          "output_type": "stream",
          "name": "stdout",
          "text": [
            "True\n",
            "False\n",
            "CPU times: user 232 µs, sys: 0 ns, total: 232 µs\n",
            "Wall time: 191 µs\n"
          ]
        }
      ]
    }
  ]
}