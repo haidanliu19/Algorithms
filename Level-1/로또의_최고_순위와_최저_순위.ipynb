{
  "nbformat": 4,
  "nbformat_minor": 0,
  "metadata": {
    "colab": {
      "name": "로또의 최고 순위와 최저 순위.ipynb",
      "provenance": [],
      "collapsed_sections": []
    },
    "kernelspec": {
      "name": "python3",
      "display_name": "Python 3"
    },
    "language_info": {
      "name": "python"
    }
  },
  "cells": [
    {
      "cell_type": "code",
      "metadata": {
        "id": "RN08T1deDvtg",
        "colab": {
          "base_uri": "https://localhost:8080/"
        },
        "outputId": "b987872f-67ac-4b68-81ef-6dc42ace2e83"
      },
      "source": [
        "def solution(lottos, win_nums):\n",
        "    win_num = [6,5,4,3,2,1]\n",
        "    answer = []\n",
        "    result = sum([1 for i in lottos for j in win_nums if i == j])\n",
        "    answer = [i+result if i+result != 0 else 1 for i in range(lottos.count(0)+1)]\n",
        "    return win_num.index(answer[-1])+1, win_num.index(answer[0])+1\n",
        "\n",
        "lottos =[44, 1, 0, 0, 31, 25]\n",
        "win_nums = [31, 10, 45, 1, 6, 19]\n",
        "solution(lottos, win_nums)"
      ],
      "execution_count": 42,
      "outputs": [
        {
          "output_type": "execute_result",
          "data": {
            "text/plain": [
              "(3, 5)"
            ]
          },
          "metadata": {},
          "execution_count": 42
        }
      ]
    }
  ]
}