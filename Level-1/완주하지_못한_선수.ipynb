{
  "nbformat": 4,
  "nbformat_minor": 0,
  "metadata": {
    "colab": {
      "name": "완주하지 못한 선수.ipynb",
      "provenance": [],
      "collapsed_sections": []
    },
    "kernelspec": {
      "name": "python3",
      "display_name": "Python 3"
    },
    "language_info": {
      "name": "python"
    }
  },
  "cells": [
    {
      "cell_type": "code",
      "metadata": {
        "colab": {
          "base_uri": "https://localhost:8080/",
          "height": 36
        },
        "id": "-3DPkYBPxUvp",
        "outputId": "76b00cdc-f5e8-4f5b-eb4f-e85bd8ab5f08"
      },
      "source": [
        "def solution(participant, completion):\n",
        "    answer=''\n",
        "    dict_name = {}\n",
        "\n",
        "    for value in participant:\n",
        "        if dict_name.get(value,0) == 0:\n",
        "            dict_name[value] = 1\n",
        "        else:\n",
        "            dict_name[value] +=1\n",
        "\n",
        "    for value in completion:\n",
        "        if dict_name.get(value,0) == 0:\n",
        "            return value\n",
        "        else:\n",
        "            dict_name[value] -=1\n",
        "    answer = \"\".join([i for i in dict_name.keys() if dict_name[i] != 0])\n",
        "    return answer\n",
        "\n",
        "participant = [\"mislav\", \"stanko\", \"mislav\", \"ana\"]\n",
        "completion = [\"stanko\", \"ana\", \"mislav\"]\n",
        "solution(participant, completion)"
      ],
      "execution_count": 96,
      "outputs": [
        {
          "output_type": "execute_result",
          "data": {
            "application/vnd.google.colaboratory.intrinsic+json": {
              "type": "string"
            },
            "text/plain": [
              "'mislav'"
            ]
          },
          "metadata": {},
          "execution_count": 96
        }
      ]
    },
    {
      "cell_type": "markdown",
      "metadata": {
        "id": "LjG7h7d74we7"
      },
      "source": [
        "# 실패 풀이"
      ]
    },
    {
      "cell_type": "code",
      "metadata": {
        "colab": {
          "base_uri": "https://localhost:8080/",
          "height": 36
        },
        "id": "M9jI2vmU21wD",
        "outputId": "143a4d55-8ef8-4d82-f3ab-4508fd4210ad"
      },
      "source": [
        "def solution(participant, completion):\n",
        "    answer=''\n",
        "    if len(participant) > len(completion):\n",
        "        participant,completion= completion,  participant\n",
        "    for s1 in participant:\n",
        "        if completion.count(s1) != 1:\n",
        "            answer=s1\n",
        "    return answer\n",
        "\n",
        "participant = [\"leo\", \"kiki\", \"eden\"]\n",
        "completion = [\"eden\", \"kiki\"]\n",
        "solution(participant, completion)"
      ],
      "execution_count": 69,
      "outputs": [
        {
          "output_type": "execute_result",
          "data": {
            "application/vnd.google.colaboratory.intrinsic+json": {
              "type": "string"
            },
            "text/plain": [
              "''"
            ]
          },
          "metadata": {},
          "execution_count": 69
        }
      ]
    },
    {
      "cell_type": "code",
      "metadata": {
        "id": "X7vYTJYoxRxP"
      },
      "source": [
        "def solution(participant, completion):\n",
        "    answer = ''\n",
        "    for i in participant:\n",
        "        if i not in completion:\n",
        "            answer= i\n",
        "    return answer\n",
        "\n",
        "participant = [\"leo\", \"kiki\", \"eden\"]\n",
        "completion = [\"eden\", \"kiki\"]\n",
        "solution(participant, completion)"
      ],
      "execution_count": null,
      "outputs": []
    },
    {
      "cell_type": "code",
      "metadata": {
        "colab": {
          "base_uri": "https://localhost:8080/",
          "height": 36
        },
        "id": "oJxB4r47vwGk",
        "outputId": "c6d441a7-9485-47b2-f531-84f31183d151"
      },
      "source": [
        "def solution(participant, completion):\n",
        "    answer = ''\n",
        "    for i in participant:\n",
        "        if i not in completion:\n",
        "            answer= i\n",
        "        else:\n",
        "            completion.remove(i)\n",
        "    return answer\n",
        "\n",
        "participant = [\"leo\", \"kiki\", \"eden\"]\n",
        "completion = [\"eden\", \"kiki\"]\n",
        "solution(participant, completion)"
      ],
      "execution_count": 13,
      "outputs": [
        {
          "output_type": "execute_result",
          "data": {
            "application/vnd.google.colaboratory.intrinsic+json": {
              "type": "string"
            },
            "text/plain": [
              "'leo'"
            ]
          },
          "metadata": {},
          "execution_count": 13
        }
      ]
    },
    {
      "cell_type": "markdown",
      "metadata": {
        "id": "FET5Ix8I4yEG"
      },
      "source": [
        "# 다른 사람 풀이"
      ]
    },
    {
      "cell_type": "code",
      "metadata": {
        "id": "FyqioIY3wG8g"
      },
      "source": [
        "import collections\n",
        "\n",
        "def solution(participant, completion):\n",
        "    answer = collections.Counter(participant) - collections.Counter(completion)\n",
        "    return list(answer.keys())[0]"
      ],
      "execution_count": 84,
      "outputs": []
    }
  ]
}