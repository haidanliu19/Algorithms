{
  "nbformat": 4,
  "nbformat_minor": 0,
  "metadata": {
    "colab": {
      "name": "2016년.ipynb",
      "provenance": [],
      "collapsed_sections": []
    },
    "kernelspec": {
      "name": "python3",
      "display_name": "Python 3"
    },
    "language_info": {
      "name": "python"
    }
  },
  "cells": [
    {
      "cell_type": "code",
      "metadata": {
        "colab": {
          "base_uri": "https://localhost:8080/",
          "height": 36
        },
        "id": "CIYWGYZirEU5",
        "outputId": "84bf45ca-7a9b-4610-f0f2-1cd2b5e60c16"
      },
      "source": [
        "import datetime\n",
        "def solution(a, b):\n",
        "    days = [\"MON\",\"TUE\",\"WED\",\"THU\",\"FRI\",\"SAT\",\"SUN\"]\n",
        "    return days[datetime.datetime(2016, a, b).weekday()]\n",
        "\n",
        "a = 5\n",
        "b = 24\n",
        "solution(a, b)"
      ],
      "execution_count": null,
      "outputs": [
        {
          "output_type": "execute_result",
          "data": {
            "application/vnd.google.colaboratory.intrinsic+json": {
              "type": "string"
            },
            "text/plain": [
              "'TUE'"
            ]
          },
          "metadata": {},
          "execution_count": 5
        }
      ]
    },
    {
      "cell_type": "markdown",
      "metadata": {
        "id": "qEGB0XOOsnIv"
      },
      "source": [
        "다른 사람 풀이:"
      ]
    },
    {
      "cell_type": "code",
      "metadata": {
        "colab": {
          "base_uri": "https://localhost:8080/"
        },
        "id": "EiA8UhjWsozu",
        "outputId": "5022e86c-ed4d-4081-a68e-13be8dd1c75e"
      },
      "source": [
        "# 문제가 개편되었습니다. 이로 인해 함수 구성이나 테스트케이스가 변경되어, 과거의 코드는 동작하지 않을 수 있습니다.\n",
        "# 새로운 함수 구성을 적용하려면 [코드 초기화] 버튼을 누르세요. 단, [코드 초기화] 버튼을 누르면 작성 중인 코드는 사라집니다.\n",
        "def getDayName(a,b):\n",
        "    answer = \"\"\n",
        "    if a>=2:\n",
        "        b+=31\n",
        "        if a>=3:\n",
        "            b+=29#2월\n",
        "            if a>=4:\n",
        "                b+=31#3월\n",
        "                if a>=5:\n",
        "                    b+=30#4월\n",
        "                    if a>=6:\n",
        "                        b+=31#5월\n",
        "                        if a>=7:\n",
        "                            b+=30#6월\n",
        "                            if a>=8:\n",
        "                                b+=31#7월\n",
        "                                if a>=9:\n",
        "                                    b+=31#8월\n",
        "                                    if a>=10:\n",
        "                                        b+=30#9월\n",
        "                                        if a>=11:\n",
        "                                            b+=31#10월\n",
        "                                            if a==12:\n",
        "                                                b+=30#11월\n",
        "    b=b%7\n",
        "\n",
        "    if b==1:answer=\"FRI\"\n",
        "    elif b==2:answer=\"SAT\" \n",
        "    elif b==3:answer=\"SUN\"\n",
        "    elif b==4:answer=\"MON\"\n",
        "    elif b==5:answer=\"TUE\"\n",
        "    elif b==6:answer=\"WED\"\n",
        "    else:answer=\"THU\"\n",
        "    return answer\n",
        "\n",
        "\n",
        "print(getDayName(5,24))"
      ],
      "execution_count": null,
      "outputs": [
        {
          "output_type": "stream",
          "name": "stdout",
          "text": [
            "TUE\n"
          ]
        }
      ]
    },
    {
      "cell_type": "code",
      "metadata": {
        "colab": {
          "base_uri": "https://localhost:8080/"
        },
        "id": "bnR1u_fFspsH",
        "outputId": "45f1b33d-344f-41dc-cad3-ff771112b430"
      },
      "source": [
        "def getDayName(a,b):\n",
        "    months = [31, 29, 31, 30, 31, 30, 31, 31, 30, 31, 30, 31]\n",
        "    days = ['FRI', 'SAT', 'SUN', 'MON', 'TUE', 'WED', 'THU']\n",
        "    return days[(sum(months[:a-1])+b-1)%7]\n",
        "\n",
        "#아래 코드는 테스트를 위한 출력 코드입니다.\n",
        "print(getDayName(5,24))"
      ],
      "execution_count": null,
      "outputs": [
        {
          "output_type": "stream",
          "name": "stdout",
          "text": [
            "TUE\n"
          ]
        }
      ]
    },
    {
      "cell_type": "code",
      "metadata": {
        "id": "4xX4IIshsuat"
      },
      "source": [
        "def bb(b):\n",
        "    return  b % 7\n",
        "def solution(a, b):\n",
        "    if a == 1:\n",
        "        if bb(b) == 3:\n",
        "            answer = \"SUN\"\n",
        "        elif bb(b) == 4:\n",
        "            answer = \"MON\"\n",
        "        elif bb(b) == 5:\n",
        "            answer = \"TUE\"\n",
        "        elif bb(b) == 6:\n",
        "            answer = \"WED\"\n",
        "        elif bb(b) == 0:\n",
        "            answer = \"THU\"\n",
        "        elif bb(b) == 1:\n",
        "            answer = \"FRI\"\n",
        "        elif bb(b) == 2:\n",
        "            answer = \"SAT\"\n",
        "    if a == 2:\n",
        "        if bb(b) == 0:\n",
        "            answer = \"SUN\"\n",
        "        elif bb(b) == 1:\n",
        "            answer = \"MON\"\n",
        "        elif bb(b) == 2:\n",
        "            answer = \"TUE\"\n",
        "        elif bb(b) == 3:\n",
        "            answer = \"WED\"\n",
        "        elif bb(b) == 4:\n",
        "            answer = \"THU\"\n",
        "        elif bb(b) == 5:\n",
        "            answer = \"FRI\"\n",
        "        elif bb(b) == 6:\n",
        "            answer = \"SAT\"\n",
        "    if a == 3:\n",
        "        if bb(b) == 6:\n",
        "            answer = \"SUN\"\n",
        "        elif bb(b) == 0:\n",
        "            answer = \"MON\"\n",
        "        elif bb(b) == 1:\n",
        "            answer = \"TUE\"\n",
        "        elif bb(b) == 2:\n",
        "            answer = \"WED\"\n",
        "        elif bb(b) == 3:\n",
        "            answer = \"THU\"\n",
        "        elif bb(b) == 4:\n",
        "            answer = \"FRI\"\n",
        "        elif bb(b) == 5:\n",
        "            answer = \"SAT\"\n",
        "    if a == 4:\n",
        "        if bb(b) == 3:\n",
        "            answer = \"SUN\"\n",
        "        elif bb(b) == 4:\n",
        "            answer = \"MON\"\n",
        "        elif bb(b) == 5:\n",
        "            answer = \"TUE\"\n",
        "        elif bb(b) == 6:\n",
        "            answer = \"WED\"\n",
        "        elif bb(b) == 0:\n",
        "            answer = \"THU\"\n",
        "        elif bb(b) == 1:\n",
        "            answer = \"FRI\"\n",
        "        elif bb(b) == 2:\n",
        "            answer = \"SAT\"\n",
        "    if a == 5:\n",
        "        if bb(b) == 1:\n",
        "            answer = \"SUN\"\n",
        "        elif bb(b) == 2:\n",
        "            answer = \"MON\"\n",
        "        elif bb(b) == 3:\n",
        "            answer = \"TUE\"\n",
        "        elif bb(b) == 4:\n",
        "            answer = \"WED\"\n",
        "        elif bb(b) == 5:\n",
        "            answer = \"THU\"\n",
        "        elif bb(b) == 6:\n",
        "            answer = \"FRI\"\n",
        "        elif bb(b) == 0:\n",
        "            answer = \"SAT\"\n",
        "    if a == 6:\n",
        "        if bb(b) == 5:\n",
        "            answer = \"SUN\"\n",
        "        elif bb(b) == 6:\n",
        "            answer = \"MON\"\n",
        "        elif bb(b) == 0:\n",
        "            answer = \"TUE\"\n",
        "        elif bb(b) == 1:\n",
        "            answer = \"WED\"\n",
        "        elif bb(b) == 2:\n",
        "            answer = \"THU\"\n",
        "        elif bb(b) == 3:\n",
        "            answer = \"FRI\"\n",
        "        elif bb(b) == 4:\n",
        "            answer = \"SAT\"\n",
        "    if a == 7:\n",
        "        if bb(b) == 3:\n",
        "            answer = \"SUN\"\n",
        "        elif bb(b) == 4:\n",
        "            answer = \"MON\"\n",
        "        elif bb(b) == 5:\n",
        "            answer = \"TUE\"\n",
        "        elif bb(b) == 6:\n",
        "            answer = \"WED\"\n",
        "        elif bb(b) == 0:\n",
        "            answer = \"THU\"\n",
        "        elif bb(b) == 1:\n",
        "            answer = \"FRI\"\n",
        "        elif bb(b) == 2:\n",
        "            answer = \"SAT\"\n",
        "    if a == 8:\n",
        "        if bb(b) == 0:\n",
        "            answer = \"SUN\"\n",
        "        elif bb(b) == 1:\n",
        "            answer = \"MON\"\n",
        "        elif bb(b) == 2:\n",
        "            answer = \"TUE\"\n",
        "        elif bb(b) == 3:\n",
        "            answer = \"WED\"\n",
        "        elif bb(b) == 4:\n",
        "            answer = \"THU\"\n",
        "        elif bb(b) == 5:\n",
        "            answer = \"FRI\"\n",
        "        elif bb(b) == 6:\n",
        "            answer = \"SAT\"\n",
        "    if a == 9:\n",
        "        if bb(b) == 4:\n",
        "            answer = \"SUN\"\n",
        "        elif bb(b) == 5:\n",
        "            answer = \"MON\"\n",
        "        elif bb(b) == 6:\n",
        "            answer = \"TUE\"\n",
        "        elif bb(b) == 0:\n",
        "            answer = \"WED\"\n",
        "        elif bb(b) == 1:\n",
        "            answer = \"THU\"\n",
        "        elif bb(b) == 2:\n",
        "            answer = \"FRI\"\n",
        "        elif bb(b) == 3:\n",
        "            answer = \"SAT\"\n",
        "    if a == 10:\n",
        "        if bb(b) == 2:\n",
        "            answer = \"SUN\"\n",
        "        elif bb(b) == 3:\n",
        "            answer = \"MON\"\n",
        "        elif bb(b) == 4:\n",
        "            answer = \"TUE\"\n",
        "        elif bb(b) == 5:\n",
        "            answer = \"WED\"\n",
        "        elif bb(b) == 6:\n",
        "            answer = \"THU\"\n",
        "        elif bb(b) == 0:\n",
        "            answer = \"FRI\"\n",
        "        elif bb(b) == 1:\n",
        "            answer = \"SAT\"\n",
        "    if a == 11:\n",
        "        if bb(b) == 6:\n",
        "            answer = \"SUN\"\n",
        "        elif bb(b) == 0:\n",
        "            answer = \"MON\"\n",
        "        elif bb(b) == 1:\n",
        "            answer = \"TUE\"\n",
        "        elif bb(b) == 2:\n",
        "            answer = \"WED\"\n",
        "        elif bb(b) == 3:\n",
        "            answer = \"THU\"\n",
        "        elif bb(b) == 4:\n",
        "            answer = \"FRI\"\n",
        "        elif bb(b) == 5:\n",
        "            answer = \"SAT\"\n",
        "    if a == 12:\n",
        "        if bb(b) == 4:\n",
        "            answer = \"SUN\"\n",
        "        elif bb(b) == 5:\n",
        "            answer = \"MON\"\n",
        "        elif bb(b) == 6:\n",
        "            answer = \"TUE\"\n",
        "        elif bb(b) == 0:\n",
        "            answer = \"WED\"\n",
        "        elif bb(b) == 1:\n",
        "            answer = \"THU\"\n",
        "        elif bb(b) == 2:\n",
        "            answer = \"FRI\"\n",
        "        elif bb(b) == 3:\n",
        "            answer = \"SAT\"\n",
        "    return answer"
      ],
      "execution_count": null,
      "outputs": []
    },
    {
      "cell_type": "code",
      "metadata": {
        "id": "h_xS6t8FsxMr"
      },
      "source": [
        "import datetime\n",
        "\n",
        "def getDayName(a,b):\n",
        "    t = 'MON TUE WED THU FRI SAT SUN'.split()\n",
        "    return t[datetime.datetime(2016, a, b).weekday()]\n",
        "\n",
        "\n",
        "#아래 코드는 테스트를 위한 출력 코드입니다.\n",
        "print(getDayName(5,24))"
      ],
      "execution_count": null,
      "outputs": []
    },
    {
      "cell_type": "code",
      "metadata": {
        "id": "kseiZ_hoszL7"
      },
      "source": [
        "def getDayName(a,b):\n",
        "    day_name = ['THU', 'FRI', 'SAT', 'SUN', 'MON', 'TUE', 'WED']\n",
        "    month_dict = {\n",
        "        \"1\":31, \n",
        "        \"2\":29, \n",
        "        \"3\":31, \n",
        "        \"4\":30, \n",
        "        \"5\":31, \n",
        "        \"6\":30, \n",
        "        \"7\":31, \n",
        "        \"8\":31, \n",
        "        \"9\":30, \n",
        "        \"10\":31, \n",
        "        \"11\":30, \n",
        "        \"12\":31\n",
        "    }\n",
        "    days = 0\n",
        "    for i in range(1, a):\n",
        "        days += month_dict[str(i)]\n",
        "    days += b\n",
        "    index = days % 7\n",
        "\n",
        "    return day_name[index]\n",
        "#아래 코드는 테스트를 위한 출력 코드입니다.\n",
        "print(getDayName(5,24))"
      ],
      "execution_count": null,
      "outputs": []
    },
    {
      "cell_type": "code",
      "metadata": {
        "id": "Tcz6WDFvs3X1"
      },
      "source": [
        "from datetime import date\n",
        "DAY = {0: 'MON', 1: 'TUE', 2: 'WED', 3: 'THU', 4: 'FRI', 5: 'SAT', 6: 'SUN'}\n",
        "\n",
        "def getDayName(a,b):\n",
        "    '''I like cheating (C++로 다른 방법으로도 풀었습니다 :)'''\n",
        "    d = date(2016, a, b)\n",
        "    return DAY[d.weekday()]"
      ],
      "execution_count": null,
      "outputs": []
    },
    {
      "cell_type": "code",
      "metadata": {
        "id": "_tKrxR_Js6gV"
      },
      "source": [
        "def solution(a, b):\n",
        "    date = [\"FRI\", \"SAT\", \"SUN\", \"MON\", \"TUE\", \"WED\", \"THU\"]\n",
        "\n",
        "    if a == 1:\n",
        "        b = b\n",
        "    elif a == 2:\n",
        "        b = 31 + b \n",
        "    elif a == 3:\n",
        "        b = 31 + 29 + b\n",
        "    elif a == 4:\n",
        "        b = 31 + 29 + 31 + b\n",
        "    elif a == 5:\n",
        "        b = 31 + 29 + 31 + 30 + b\n",
        "    elif a == 6:\n",
        "        b = 31 + 29 + 31 + 30 + 31+ b\n",
        "    elif a == 7:\n",
        "        b = 31 + 29 + 31 + 30 + 31+ 30 + b\n",
        "    elif a == 8:\n",
        "        b = 31 + 29 + 31 + 30 + 31+ 30 + 31 + b\n",
        "    elif a == 9:\n",
        "        b = 31 + 29 + 31 + 30 + 31+ 30 + 31 + 31 + b\n",
        "    elif a == 10:\n",
        "        b = 31 + 29 + 31 + 30 + 31+ 30 + 31 + 31 + 30 + b\n",
        "    elif a == 11:\n",
        "        b = 31 + 29 + 31 + 30 + 31+ 30 + 31 + 31 + 30 + 31 + b\n",
        "    elif a == 12:\n",
        "        b = 31 + 29 + 31 + 30 + 31+ 30 + 31 + 31 + 30 + 31 + 30 + b\n",
        "\n",
        "\n",
        "\n",
        "    temp = b % 7 -1\n",
        "    print(temp)\n",
        "\n",
        "\n",
        "    answer = date[temp]\n",
        "    return answer"
      ],
      "execution_count": null,
      "outputs": []
    },
    {
      "cell_type": "code",
      "metadata": {
        "id": "nw1cK4VKs8vI"
      },
      "source": [
        "def getDayName(a,b):\n",
        "    days = -1\n",
        "    DAY = ['FRI', 'SAT', 'SUN', 'MON', 'TUE', 'WED', 'THU']\n",
        "    MONTH = {}\n",
        "    MONTH[0] = 0\n",
        "\n",
        "    for month in range(1, 13):\n",
        "        if month == 2:\n",
        "            MONTH[month] = 29\n",
        "        elif month in [1, 3, 5, 7, 8, 10, 12]:\n",
        "            MONTH[month] = 31\n",
        "        elif month in [4, 6, 9, 11]:\n",
        "            MONTH[month] = 30\n",
        "\n",
        "    for mon in range(a):\n",
        "        days += MONTH[mon]\n",
        "    days += b\n",
        "\n",
        "    return DAY[days % 7]"
      ],
      "execution_count": null,
      "outputs": []
    },
    {
      "cell_type": "code",
      "metadata": {
        "id": "CIeLaE8PtBBK"
      },
      "source": [
        "def getDayName(a,b):\n",
        "    data1=[\"FRI\",\"SAT\",\"SUN\",\"MON\",\"TUE\",\"WED\",\"THU\"]\n",
        "    data2={1:31,2:29,3:31,4:30,5:31,6:30,7:31,8:31,9:30,10:31,11:30,12:31}\n",
        "    s=0\n",
        "    for i in range(1,a):\n",
        "        s=s+data2[i]\n",
        "    s=s+b\n",
        "\n",
        "    return data1[s%7-1]\n",
        "\n",
        "#아래 코드는 테스트를 위한 출력 코드입니다.\n",
        "print(getDayName(5,24))\n"
      ],
      "execution_count": null,
      "outputs": []
    },
    {
      "cell_type": "code",
      "metadata": {
        "id": "3ZxtLurttDTM"
      },
      "source": [
        "def getDayName(a,b):\n",
        "    # calcuate days\n",
        "    mon = [31,29,31,30,31,30,31,31,30,31,30,31]\n",
        "    days = 0\n",
        "    for i in range(a-1):\n",
        "        days += mon[i]\n",
        "    days += b-1\n",
        "    day = days%7\n",
        "    da = ['FRI','SAT','SUN','MON','TUE','WED','THU']\n",
        "    # 6일 후면 금요일\n",
        "\n",
        "    answer = da[day]\n",
        "    return answer\n",
        "\n",
        "#아래 코드는 테스트를 위한 출력 코드입니다.\n",
        "print(getDayName(5,24)) # TUE\n",
        "print(getDayName(2,1)) # MON"
      ],
      "execution_count": null,
      "outputs": []
    },
    {
      "cell_type": "code",
      "metadata": {
        "id": "kwjdLi4gtFfH"
      },
      "source": [
        "day = [ \"FRI\", \"SAT\", \"SUN\", \"MON\", \"TUE\", \"WED\", \"THU\"]\n",
        "a = [0, 31, 29, 31, 30, 31, 30, 31, 31, 30, 31, 30]\n",
        "\n",
        "def sum_days(A):\n",
        "  total = 0\n",
        "  for i in range (A):\n",
        "    total += a[i]\n",
        "  return total\n",
        "\n",
        "def getDayName(x,y):\n",
        "  c=(sum_days(x)+y-1)% 7\n",
        "  return day[c]\n",
        "\n",
        "print(getDayName(5,24))"
      ],
      "execution_count": null,
      "outputs": []
    }
  ]
}