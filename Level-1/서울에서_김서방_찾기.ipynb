{
  "nbformat": 4,
  "nbformat_minor": 0,
  "metadata": {
    "colab": {
      "name": "서울에서 김서방 찾기.ipynb",
      "provenance": [],
      "collapsed_sections": []
    },
    "kernelspec": {
      "name": "python3",
      "display_name": "Python 3"
    },
    "language_info": {
      "name": "python"
    }
  },
  "cells": [
    {
      "cell_type": "code",
      "metadata": {
        "colab": {
          "base_uri": "https://localhost:8080/",
          "height": 35
        },
        "id": "AAVWdRLmyd6o",
        "outputId": "c639ac07-258e-409a-a72d-f91fa4893572"
      },
      "source": [
        "def solution(seoul):\n",
        "    answer = \"김서방은 {}에 있다\".format(seoul.index(\"Kim\"))\n",
        "    return answer\n",
        "\n",
        "seoul = [\"Jane\", \"Kim\", \"Kim\"]\n",
        "solution(seoul)"
      ],
      "execution_count": 2,
      "outputs": [
        {
          "output_type": "execute_result",
          "data": {
            "application/vnd.google.colaboratory.intrinsic+json": {
              "type": "string"
            },
            "text/plain": [
              "'김서방은 1에 있다'"
            ]
          },
          "metadata": {},
          "execution_count": 2
        }
      ]
    }
  ]
}