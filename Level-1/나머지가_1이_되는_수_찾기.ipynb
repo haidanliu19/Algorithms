{
  "nbformat": 4,
  "nbformat_minor": 0,
  "metadata": {
    "colab": {
      "name": "나머지가 1이 되는 수 찾기.ipynb",
      "provenance": [],
      "collapsed_sections": []
    },
    "kernelspec": {
      "name": "python3",
      "display_name": "Python 3"
    },
    "language_info": {
      "name": "python"
    }
  },
  "cells": [
    {
      "cell_type": "code",
      "metadata": {
        "colab": {
          "base_uri": "https://localhost:8080/"
        },
        "id": "gv0uHujHFqob",
        "outputId": "49c47bf8-1189-4375-a2b5-7ff6cdf8f190"
      },
      "source": [
        "def solution(n):\n",
        "    answer = min([i for i in range(1,n) if n %i ==1])\n",
        "    return answer\n",
        "\n",
        "n = 12\n",
        "solution(n)"
      ],
      "execution_count": 4,
      "outputs": [
        {
          "output_type": "execute_result",
          "data": {
            "text/plain": [
              "11"
            ]
          },
          "metadata": {},
          "execution_count": 4
        }
      ]
    }
  ]
}