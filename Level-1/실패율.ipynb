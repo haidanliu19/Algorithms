{
  "nbformat": 4,
  "nbformat_minor": 0,
  "metadata": {
    "colab": {
      "name": "실패율.ipynb",
      "provenance": [],
      "collapsed_sections": []
    },
    "kernelspec": {
      "name": "python3",
      "display_name": "Python 3"
    },
    "language_info": {
      "name": "python"
    }
  },
  "cells": [
    {
      "cell_type": "code",
      "metadata": {
        "colab": {
          "base_uri": "https://localhost:8080/"
        },
        "id": "Wv9D9cTjLCz7",
        "outputId": "91c13da4-3b16-48b1-900f-bcd7a5d712f4"
      },
      "source": [
        "\n",
        "def solution(N, stages):\n",
        "    answer = []\n",
        "    my_list = [i for i in range(1,N+1)]\n",
        "    for i in my_list:\n",
        "        cnt_1 = 0\n",
        "        cnt = len(stages)\n",
        "        for j in stages:\n",
        "            if i == j :\n",
        "                cnt_1 += 1\n",
        "        while i in stages:    \n",
        "\t        stages.remove(i)      \n",
        "        answer.append((0 if cnt == 0 else cnt_1/cnt,i))\n",
        "    answer.sort(key = lambda x:(x[0]), reverse = True)\n",
        "    return [x[1] for x in answer ]\n",
        "\n",
        "N = 4\n",
        "stages = [4,4,4,4,4]\n",
        "solution(N, stages)"
      ],
      "execution_count": 120,
      "outputs": [
        {
          "output_type": "stream",
          "name": "stdout",
          "text": [
            "[(0.0, 1)]\n",
            "[(0.0, 1), (0.0, 2)]\n",
            "[(0.0, 1), (0.0, 2), (0.0, 3)]\n",
            "[(0.0, 1), (0.0, 2), (0.0, 3), (1.0, 4)]\n"
          ]
        },
        {
          "output_type": "execute_result",
          "data": {
            "text/plain": [
              "[4, 1, 2, 3]"
            ]
          },
          "metadata": {},
          "execution_count": 120
        }
      ]
    },
    {
      "cell_type": "code",
      "metadata": {
        "colab": {
          "base_uri": "https://localhost:8080/"
        },
        "id": "-aUK_lKzYsz0",
        "outputId": "e7c34888-7597-4e72-8947-21be6e939c4f"
      },
      "source": [
        "def solution(N, stages):\n",
        "    answer = []\n",
        "    my_list = [i for i in range(1,N+1)]\n",
        "    for i in my_list:\n",
        "        cnt = len(stages)\n",
        "        cnt_1 = stages.count(i)\n",
        "        while i in stages:\n",
        "            stages.remove(i) \n",
        "        answer.append((0 if cnt == 0 else cnt_1/cnt,i))\n",
        "        print(answer)\n",
        "    answer.sort(key = lambda x:(x[0]), reverse = True)\n",
        "    return [x[1] for x in answer ]\n",
        "\n",
        "N = 5\n",
        "stages = [2, 1, 2, 6, 2, 4, 3, 3]\n",
        "solution(N, stages)"
      ],
      "execution_count": 137,
      "outputs": [
        {
          "output_type": "stream",
          "name": "stdout",
          "text": [
            "[(0.125, 1)]\n",
            "[(0.125, 1), (0.42857142857142855, 2)]\n",
            "[(0.125, 1), (0.42857142857142855, 2), (0.5, 3)]\n",
            "[(0.125, 1), (0.42857142857142855, 2), (0.5, 3), (0.5, 4)]\n",
            "[(0.125, 1), (0.42857142857142855, 2), (0.5, 3), (0.5, 4), (0.0, 5)]\n"
          ]
        },
        {
          "output_type": "execute_result",
          "data": {
            "text/plain": [
              "[3, 4, 2, 1, 5]"
            ]
          },
          "metadata": {},
          "execution_count": 137
        }
      ]
    },
    {
      "cell_type": "code",
      "metadata": {
        "colab": {
          "base_uri": "https://localhost:8080/"
        },
        "id": "aIpE2BV9bA3-",
        "outputId": "5888fd7f-39b2-49f2-e15d-11be7c52be7b"
      },
      "source": [
        "def solution(N, stages):\n",
        "    answer = {}\n",
        "    my_list = [i for i in range(1,N+1)]\n",
        "    cnt = len(stages)\n",
        "    for i in my_list:\n",
        "        cnt_1 = stages.count(i)\n",
        "        if cnt == 0:\n",
        "            answer[i] = 0\n",
        "        else:\n",
        "            answer[i]= cnt_1 /cnt\n",
        "        cnt -= cnt_1 \n",
        "    \n",
        "    return sorted(answer, key = (lambda x:-answer[x]))\n",
        "\n",
        "N = 5\n",
        "stages = [2, 1, 2, 6, 2, 4, 3, 3]\n",
        "solution(N, stages)"
      ],
      "execution_count": 152,
      "outputs": [
        {
          "output_type": "execute_result",
          "data": {
            "text/plain": [
              "[3, 4, 2, 1, 5]"
            ]
          },
          "metadata": {},
          "execution_count": 152
        }
      ]
    }
  ]
}