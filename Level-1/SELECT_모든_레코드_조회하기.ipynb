{
  "nbformat": 4,
  "nbformat_minor": 0,
  "metadata": {
    "colab": {
      "name": "SELECT_모든 레코드 조회하기.ipynb",
      "provenance": [],
      "collapsed_sections": []
    },
    "kernelspec": {
      "name": "python3",
      "display_name": "Python 3"
    },
    "language_info": {
      "name": "python"
    }
  },
  "cells": [
    {
      "cell_type": "code",
      "metadata": {
        "id": "iSqOPOFBjtLu"
      },
      "source": [
        "-- 코드를 입력하세요\n",
        "SELECT *\n",
        "FROM ANIMAL_INS\n",
        "ORDER BY ANIMAL_ID;"
      ],
      "execution_count": null,
      "outputs": []
    }
  ]
}