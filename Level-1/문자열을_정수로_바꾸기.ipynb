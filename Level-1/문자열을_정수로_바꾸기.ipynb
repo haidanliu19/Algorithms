{
  "nbformat": 4,
  "nbformat_minor": 0,
  "metadata": {
    "colab": {
      "name": "문자열을 정수로 바꾸기.ipynb",
      "provenance": [],
      "collapsed_sections": []
    },
    "kernelspec": {
      "name": "python3",
      "display_name": "Python 3"
    },
    "language_info": {
      "name": "python"
    }
  },
  "cells": [
    {
      "cell_type": "code",
      "metadata": {
        "colab": {
          "base_uri": "https://localhost:8080/"
        },
        "id": "CtrWftMLEkFK",
        "outputId": "090c591e-6c6f-459d-d127-15b8949fdee9"
      },
      "source": [
        "def solution(s):\n",
        "    answer = int(s)\n",
        "    return answer\n",
        "\n",
        "s = \"-123\"\n",
        "solution(s)"
      ],
      "execution_count": 18,
      "outputs": [
        {
          "output_type": "execute_result",
          "data": {
            "text/plain": [
              "-123"
            ]
          },
          "metadata": {},
          "execution_count": 18
        }
      ]
    },
    {
      "cell_type": "code",
      "metadata": {
        "colab": {
          "base_uri": "https://localhost:8080/"
        },
        "id": "A_xkhjlJFZJ7",
        "outputId": "1e6d3f92-0f4d-4737-bdb9-666b3a4b4362"
      },
      "source": [
        "def strToInt(str):\n",
        "    result = 0\n",
        "    size=len(str)\n",
        "    temp = 0\n",
        "    if str [0] == '-' :\n",
        "        sign = -1\n",
        "    else :\n",
        "        sign = 1\n",
        "    for i in range(0, size) :\n",
        "        if str[i] == '1' :\n",
        "            temp = 1\n",
        "        elif str[i] == '2' :\n",
        "            temp = 2\n",
        "        elif str[i] == '3' :\n",
        "            temp = 3\n",
        "        elif str[i] == '4' :\n",
        "            temp = 4\n",
        "        elif str[i] == '5' :\n",
        "            temp = 5\n",
        "        elif str[i] == '6' :\n",
        "            temp = 6\n",
        "        elif str[i] == '7' :\n",
        "            temp = 7\n",
        "        elif str[i] == '8' :\n",
        "            temp = 8\n",
        "        elif str[i] == '9' :\n",
        "            temp = 9\n",
        "        else :\n",
        "            temp = 0\n",
        "        for i in range(size-i-1) :\n",
        "            temp = temp * 10\n",
        "        result = result + temp\n",
        "    result = result * sign\n",
        "    return result\n",
        "# 아래는 테스트로 출력해 보기 위한 코드입니다.\n",
        "print(strToInt(\"-1234\"));"
      ],
      "execution_count": 19,
      "outputs": [
        {
          "output_type": "stream",
          "text": [
            "0\n",
            "0\n",
            "0\n",
            "0\n",
            "10\n",
            "100\n",
            "1000\n",
            "20\n",
            "200\n",
            "30\n",
            "-1234\n"
          ],
          "name": "stdout"
        }
      ]
    }
  ]
}