{
  "nbformat": 4,
  "nbformat_minor": 0,
  "metadata": {
    "colab": {
      "name": "소수 만들기.ipynb",
      "provenance": [],
      "collapsed_sections": []
    },
    "kernelspec": {
      "name": "python3",
      "display_name": "Python 3"
    },
    "language_info": {
      "name": "python"
    }
  },
  "cells": [
    {
      "cell_type": "code",
      "metadata": {
        "colab": {
          "base_uri": "https://localhost:8080/"
        },
        "id": "UYuj9BuZeNqD",
        "outputId": "83e8efa9-4f46-448d-a1e4-eecb0e92b218"
      },
      "source": [
        "from itertools import combinations\n",
        "\n",
        "def isPrimary(n):\n",
        "    isP = True\n",
        "    n_ = int(n ** 0.5)\n",
        "    for i in range(2,n_+1):\n",
        "        if (n%i == 0) and (n != i):\n",
        "            isP = False\n",
        "            break\n",
        "    return isP\n",
        "\n",
        "def solution(nums):\n",
        "    answer = -1\n",
        "    _list = [list(combinations(nums, 3))]\n",
        "    _list_1= [sum(j) for i in _list for j in i ]\n",
        "    _list_2= [i for i in _list_1 if isPrimary(i)]\n",
        "    answer = len(_list_2)\n",
        "    return answer\n",
        "\n",
        "\n",
        "nums = [1,2,3,4]\n",
        "solution(nums)"
      ],
      "execution_count": 126,
      "outputs": [
        {
          "output_type": "execute_result",
          "data": {
            "text/plain": [
              "1"
            ]
          },
          "metadata": {},
          "execution_count": 126
        }
      ]
    },
    {
      "cell_type": "code",
      "metadata": {
        "colab": {
          "base_uri": "https://localhost:8080/"
        },
        "id": "X_SVJ9xVi9jD",
        "outputId": "87f2fdb6-1328-45e0-8d08-f72a74daaae9"
      },
      "source": [
        "isPrimary(1)"
      ],
      "execution_count": 115,
      "outputs": [
        {
          "output_type": "execute_result",
          "data": {
            "text/plain": [
              "True"
            ]
          },
          "metadata": {},
          "execution_count": 115
        }
      ]
    },
    {
      "cell_type": "code",
      "metadata": {
        "colab": {
          "base_uri": "https://localhost:8080/"
        },
        "id": "s4mG4ShGjGY0",
        "outputId": "fd010609-e9b6-410a-bc7e-953ff39c57dd"
      },
      "source": [
        "from itertools import combinations\n",
        "list(combinations(nums, 3))"
      ],
      "execution_count": 114,
      "outputs": [
        {
          "output_type": "execute_result",
          "data": {
            "text/plain": [
              "[(1, 2, 3), (1, 2, 4), (1, 3, 4), (2, 3, 4)]"
            ]
          },
          "metadata": {},
          "execution_count": 114
        }
      ]
    },
    {
      "cell_type": "code",
      "metadata": {
        "colab": {
          "base_uri": "https://localhost:8080/"
        },
        "id": "LOjoqUMejBah",
        "outputId": "ac5deb33-f10d-432f-9acf-ce43c7701335"
      },
      "source": [
        "from itertools import permutations\n",
        "list(permutations(nums, 3))"
      ],
      "execution_count": 113,
      "outputs": [
        {
          "output_type": "execute_result",
          "data": {
            "text/plain": [
              "[(1, 2, 3),\n",
              " (1, 2, 4),\n",
              " (1, 3, 2),\n",
              " (1, 3, 4),\n",
              " (1, 4, 2),\n",
              " (1, 4, 3),\n",
              " (2, 1, 3),\n",
              " (2, 1, 4),\n",
              " (2, 3, 1),\n",
              " (2, 3, 4),\n",
              " (2, 4, 1),\n",
              " (2, 4, 3),\n",
              " (3, 1, 2),\n",
              " (3, 1, 4),\n",
              " (3, 2, 1),\n",
              " (3, 2, 4),\n",
              " (3, 4, 1),\n",
              " (3, 4, 2),\n",
              " (4, 1, 2),\n",
              " (4, 1, 3),\n",
              " (4, 2, 1),\n",
              " (4, 2, 3),\n",
              " (4, 3, 1),\n",
              " (4, 3, 2)]"
            ]
          },
          "metadata": {},
          "execution_count": 113
        }
      ]
    },
    {
      "cell_type": "markdown",
      "metadata": {
        "id": "kQoykI4oh1_Z"
      },
      "source": [
        "# 숫자의 합이 정해지지 않을 경우"
      ]
    },
    {
      "cell_type": "code",
      "metadata": {
        "colab": {
          "base_uri": "https://localhost:8080/"
        },
        "id": "MRPg_iMGavCs",
        "outputId": "0f2da14c-c828-45f7-941f-7624a88f2bb8"
      },
      "source": [
        "from itertools import permutations\n",
        "\n",
        "def isPrimary(n):\n",
        "    isP = True\n",
        "    n_ = int(n ** 0.5)\n",
        "    for i in range(2,n_+1):\n",
        "        if (n%i == 0) and (n != i):\n",
        "            isP = False\n",
        "            break\n",
        "    return isP\n",
        "\n",
        "def solution(nums):\n",
        "    answer = []\n",
        "    _list = []\n",
        "    _list.append([list(permutations(nums, i)) for i in range(2,len(nums)+1)])\n",
        "    _list_1= list(set([sum(j) for i in _list[0] for j in i ]))\n",
        "    answer= [i for i in _list_1 if isPrimary(i)]\n",
        "    print(answer)\n",
        "    return len(answer)\n",
        "\n",
        "nums = [1,2,3,4]\n",
        "solution(nums)"
      ],
      "execution_count": 101,
      "outputs": [
        {
          "output_type": "stream",
          "name": "stdout",
          "text": [
            "[3, 5, 7]\n"
          ]
        },
        {
          "output_type": "execute_result",
          "data": {
            "text/plain": [
              "3"
            ]
          },
          "metadata": {},
          "execution_count": 101
        }
      ]
    }
  ]
}