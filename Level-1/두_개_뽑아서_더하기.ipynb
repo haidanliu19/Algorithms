{
  "nbformat": 4,
  "nbformat_minor": 0,
  "metadata": {
    "colab": {
      "name": "두 개 뽑아서 더하기.ipynb",
      "provenance": [],
      "collapsed_sections": []
    },
    "kernelspec": {
      "name": "python3",
      "display_name": "Python 3"
    },
    "language_info": {
      "name": "python"
    }
  },
  "cells": [
    {
      "cell_type": "code",
      "metadata": {
        "colab": {
          "base_uri": "https://localhost:8080/"
        },
        "id": "JPGV53ZNUzDN",
        "outputId": "e673d5ff-a9f7-4689-8fb4-575fe4fd8713"
      },
      "source": [
        "def solution(numbers):\n",
        "    answer = list(set([(numbers[i]+numbers[j]) for i in range(len(numbers)) for j in range(i+1, len(numbers))]))\n",
        "    return sorted(answer)\n",
        "\n",
        "numbers = [2,1,3,4,1]\n",
        "print(solution(numbers))\n",
        "numbers = [5,0,2,7]\n",
        "print(solution(numbers))"
      ],
      "execution_count": 9,
      "outputs": [
        {
          "output_type": "stream",
          "name": "stdout",
          "text": [
            "[2, 3, 4, 5, 6, 7]\n",
            "[2, 5, 7, 9, 12]\n"
          ]
        }
      ]
    }
  ]
}