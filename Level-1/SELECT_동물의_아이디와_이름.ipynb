{
  "nbformat": 4,
  "nbformat_minor": 0,
  "metadata": {
    "colab": {
      "name": "SELECT_동물의 아이디와 이름.ipynb",
      "provenance": [],
      "collapsed_sections": []
    },
    "kernelspec": {
      "name": "python3",
      "display_name": "Python 3"
    },
    "language_info": {
      "name": "python"
    }
  },
  "cells": [
    {
      "cell_type": "code",
      "metadata": {
        "id": "MTFYG3ankzfB"
      },
      "source": [
        "-- 코드를 입력하세요\n",
        "SELECT ANIMAL_ID, NAME\n",
        "FROM ANIMAL_INS "
      ],
      "execution_count": null,
      "outputs": []
    }
  ]
}