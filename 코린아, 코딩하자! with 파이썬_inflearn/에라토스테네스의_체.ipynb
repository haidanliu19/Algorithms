{
  "nbformat": 4,
  "nbformat_minor": 0,
  "metadata": {
    "colab": {
      "name": "에라토스테네스의 체.ipynb",
      "provenance": [],
      "collapsed_sections": []
    },
    "kernelspec": {
      "name": "python3",
      "display_name": "Python 3"
    },
    "language_info": {
      "name": "python"
    }
  },
  "cells": [
    {
      "cell_type": "code",
      "metadata": {
        "id": "stFgY3Pws1CI"
      },
      "source": [
        "import math\n",
        "def isPrime(n):\n",
        "    for i in range(2,math.floor(math.sqrt(n)) + 1):\n",
        "        if (n % i ==0):\n",
        "            return False\n",
        "    return True"
      ],
      "execution_count": 2,
      "outputs": []
    },
    {
      "cell_type": "code",
      "metadata": {
        "colab": {
          "base_uri": "https://localhost:8080/"
        },
        "id": "qrkv6x-yw4a8",
        "outputId": "f15d636b-9fd1-4509-a607-4709f49cb015"
      },
      "source": [
        "def countPrimes(n):\n",
        "    count = 0\n",
        "    for i in range(2, n+1):\n",
        "        if (isPrime(i)):\n",
        "            count+=1\n",
        "    return count\n",
        "\n",
        "n = 1000000\n",
        "m = countPrimes(n)\n",
        "print(n,'이하의 소수는 ',m,'개 입니다. ')"
      ],
      "execution_count": 3,
      "outputs": [
        {
          "output_type": "stream",
          "name": "stdout",
          "text": [
            "1000000 이하의 소수는  78498 개 입니다. \n"
          ]
        }
      ]
    },
    {
      "cell_type": "code",
      "metadata": {
        "colab": {
          "base_uri": "https://localhost:8080/"
        },
        "id": "BQbjViBWVJkA",
        "outputId": "7d482da4-c058-436e-c183-d2443e069343"
      },
      "source": [
        "import time\n",
        "n = 1000000\n",
        "start = time.time()\n",
        "print(countPrimes(n))\n",
        "elapsed = time.time() - start\n",
        "\n",
        "print(elapsed, '초')\n",
        "print(elapsed/60, '분')\n",
        "print(elapsed/60/60, '시간')"
      ],
      "execution_count": 5,
      "outputs": [
        {
          "output_type": "stream",
          "name": "stdout",
          "text": [
            "78498\n",
            "6.161903142929077 초\n",
            "0.10269838571548462 분\n",
            "0.0017116397619247436 시간\n"
          ]
        }
      ]
    },
    {
      "cell_type": "code",
      "metadata": {
        "id": "7caW11LjVwFg"
      },
      "source": [
        "# 에라토스테네스의 체 \n",
        "# 숫자를 넣으면 소수 만 걸러냄\n",
        "# 1은 소수가 아니다.\n",
        "# 100 이하의 소수를 알고 싶으면 \n",
        "# 2가 소수일 경우에는 2의 배수들을 다 지운다.\n",
        "# 2는 소수 2의 배수들은 모두 소수가 아니다.\n",
        "# 3은 소수 3의 배수들은 모두 소수가 아니다\n",
        "# 5는 소수 5의 배수들은 모두 소수가 아니다. \n",
        "# 이런 방법으로 소수의 배수를 모두 지원나가면 .."
      ],
      "execution_count": null,
      "outputs": []
    },
    {
      "cell_type": "code",
      "metadata": {
        "colab": {
          "base_uri": "https://localhost:8080/"
        },
        "id": "RMojYaosW9Bz",
        "outputId": "4413f252-dc06-4250-9d0f-bafb3e61e4a8"
      },
      "source": [
        "n = 100\n",
        "sieve = [False, False] + [True] * (n-1)\n",
        "primes = []\n",
        "for i in range(2, n+1):\n",
        "    if (sieve[i]):\n",
        "        primes.append(i)\n",
        "    for j in range(i*2, n+1, i):\n",
        "        sieve[j] = False\n",
        "print(sieve)\n",
        "print(primes)\n",
        "print(len(primes))"
      ],
      "execution_count": 6,
      "outputs": [
        {
          "output_type": "stream",
          "name": "stdout",
          "text": [
            "[False, False, True, True, False, True, False, True, False, False, False, True, False, True, False, False, False, True, False, True, False, False, False, True, False, False, False, False, False, True, False, True, False, False, False, False, False, True, False, False, False, True, False, True, False, False, False, True, False, False, False, False, False, True, False, False, False, False, False, True, False, True, False, False, False, False, False, True, False, False, False, True, False, True, False, False, False, False, False, True, False, False, False, True, False, False, False, False, False, True, False, False, False, False, False, False, False, True, False, False, False]\n",
            "[2, 3, 5, 7, 11, 13, 17, 19, 23, 29, 31, 37, 41, 43, 47, 53, 59, 61, 67, 71, 73, 79, 83, 89, 97]\n",
            "25\n"
          ]
        }
      ]
    },
    {
      "cell_type": "code",
      "metadata": {
        "id": "8BHTPaO7X2k4"
      },
      "source": [
        "def countPrimes2(n):\n",
        "    sieve = [False, False] + [True] * (n-1)\n",
        "    count = 0\n",
        "    for i in range(2, n+1):\n",
        "        if(sieve[i]):\n",
        "            count +=1\n",
        "        for j in range(i*2, n+1, i):\n",
        "            sieve[j]= False\n",
        "    return count"
      ],
      "execution_count": 7,
      "outputs": []
    },
    {
      "cell_type": "code",
      "metadata": {
        "colab": {
          "base_uri": "https://localhost:8080/"
        },
        "id": "mGBb5KABYKAt",
        "outputId": "ccbf3ea2-99c8-4123-e1f1-529840bab6a7"
      },
      "source": [
        "import time\n",
        "n = 1000000\n",
        "start = time.time()\n",
        "print(countPrimes2(n))\n",
        "elapsed = time.time() - start\n",
        "\n",
        "print(elapsed, '초')\n",
        "print(elapsed/60, '분')\n",
        "print(elapsed/60/60, '시간')"
      ],
      "execution_count": 8,
      "outputs": [
        {
          "output_type": "stream",
          "name": "stdout",
          "text": [
            "78498\n",
            "2.1760194301605225 초\n",
            "0.03626699050267537 분\n",
            "0.0006044498417112562 시간\n"
          ]
        }
      ]
    }
  ]
}