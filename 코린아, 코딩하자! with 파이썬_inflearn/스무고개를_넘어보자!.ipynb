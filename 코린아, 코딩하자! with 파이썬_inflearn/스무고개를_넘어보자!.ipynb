{
  "nbformat": 4,
  "nbformat_minor": 0,
  "metadata": {
    "colab": {
      "name": "스무고개를 넘어보자!.ipynb",
      "provenance": [],
      "collapsed_sections": []
    },
    "kernelspec": {
      "name": "python3",
      "display_name": "Python 3"
    },
    "language_info": {
      "name": "python"
    }
  },
  "cells": [
    {
      "cell_type": "code",
      "metadata": {
        "id": "ppHK2O-Y8FpK",
        "colab": {
          "base_uri": "https://localhost:8080/"
        },
        "outputId": "229096b2-f953-4c65-d6c5-cafd9141fe92"
      },
      "source": [
        "import random\n",
        "answer = random.randint(1,1000)\n",
        "start = 1\n",
        "end = 1000\n",
        "while (start < end):\n",
        "    mid = (start + end) //2\n",
        "    print(start, end, mid)\n",
        "    if (mid < answer):\n",
        "        start = mid +1\n",
        "    else:\n",
        "        end = mid\n",
        "    \n",
        "print(start, end, mid)"
      ],
      "execution_count": 3,
      "outputs": [
        {
          "output_type": "stream",
          "name": "stdout",
          "text": [
            "1 1000 500\n",
            "501 1000 750\n",
            "501 750 625\n",
            "501 625 563\n",
            "564 625 594\n",
            "564 594 579\n",
            "580 594 587\n",
            "580 587 583\n",
            "584 587 585\n",
            "584 585 584\n",
            "585 585 584\n"
          ]
        }
      ]
    },
    {
      "cell_type": "code",
      "metadata": {
        "id": "zJ0JzKmDCFpT"
      },
      "source": [
        "def guess(answer,start,end):\n",
        "    while (start < end):\n",
        "        mid = (start + end) //2\n",
        "        if (mid < answer):\n",
        "            start = mid +1\n",
        "        else:\n",
        "            end = mid\n",
        "    return start"
      ],
      "execution_count": 4,
      "outputs": []
    },
    {
      "cell_type": "code",
      "metadata": {
        "id": "HIke07nRCnZD"
      },
      "source": [
        "start = 1\n",
        "end = 1000\n",
        "for _ in range(1000):\n",
        "    answer = random.randint(start,end)\n",
        "    result = guess(answer, start, end)\n",
        "    if (answer != result):\n",
        "        print('오류!',answer, result)"
      ],
      "execution_count": 5,
      "outputs": []
    },
    {
      "cell_type": "code",
      "metadata": {
        "id": "81Jv3jF8Czci"
      },
      "source": [
        "def guess2(answer,start,end):\n",
        "    count = 0\n",
        "    while (start < end):\n",
        "        count+= 1\n",
        "        mid = (start + end) //2\n",
        "        if (mid < answer):\n",
        "            start = mid +1\n",
        "        else:\n",
        "            end = mid\n",
        "    return count"
      ],
      "execution_count": 6,
      "outputs": []
    },
    {
      "cell_type": "code",
      "metadata": {
        "colab": {
          "base_uri": "https://localhost:8080/"
        },
        "id": "xEYmpgrqDkLO",
        "outputId": "1da9c6a0-00f3-4b41-ce73-c48bd88dcd4d"
      },
      "source": [
        "start = 1\n",
        "end = 1000\n",
        "countDict = {}\n",
        "for _ in range(1000):\n",
        "    answer = random.randint(start,end)\n",
        "    count = guess2(answer, start, end)\n",
        "    if (count not in countDict.keys()):\n",
        "        countDict[count]= 1\n",
        "    else:\n",
        "        countDict[count]+=1\n",
        "print(countDict.keys())\n",
        "print(countDict)"
      ],
      "execution_count": 8,
      "outputs": [
        {
          "output_type": "stream",
          "name": "stdout",
          "text": [
            "dict_keys([10, 9])\n",
            "{10: 975, 9: 25}\n"
          ]
        }
      ]
    },
    {
      "cell_type": "code",
      "metadata": {
        "colab": {
          "base_uri": "https://localhost:8080/"
        },
        "id": "ozR9Et95D8Hv",
        "outputId": "ada6920f-bec0-47fd-dae7-5963e04e5c70"
      },
      "source": [
        "start = 1\n",
        "for n in range(21):\n",
        "    end = 2**n\n",
        "    maxcount = 0\n",
        "    for _ in range(1000):\n",
        "        answer = random.randint(start,end)\n",
        "        count = guess2(answer, start, end)\n",
        "        if (maxcount < count):\n",
        "            maxcount = count\n",
        "\n",
        "    print(start, end , maxcount, 2**n)"
      ],
      "execution_count": 9,
      "outputs": [
        {
          "output_type": "stream",
          "name": "stdout",
          "text": [
            "1 1 0 1\n",
            "1 2 1 2\n",
            "1 4 2 4\n",
            "1 8 3 8\n",
            "1 16 4 16\n",
            "1 32 5 32\n",
            "1 64 6 64\n",
            "1 128 7 128\n",
            "1 256 8 256\n",
            "1 512 9 512\n",
            "1 1024 10 1024\n",
            "1 2048 11 2048\n",
            "1 4096 12 4096\n",
            "1 8192 13 8192\n",
            "1 16384 14 16384\n",
            "1 32768 15 32768\n",
            "1 65536 16 65536\n",
            "1 131072 17 131072\n",
            "1 262144 18 262144\n",
            "1 524288 19 524288\n",
            "1 1048576 20 1048576\n"
          ]
        }
      ]
    },
    {
      "cell_type": "code",
      "metadata": {
        "id": "FQ50BpOOEjME"
      },
      "source": [
        ""
      ],
      "execution_count": null,
      "outputs": []
    }
  ]
}