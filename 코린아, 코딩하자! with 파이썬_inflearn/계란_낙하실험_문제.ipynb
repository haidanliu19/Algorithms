{
  "nbformat": 4,
  "nbformat_minor": 0,
  "metadata": {
    "colab": {
      "name": "계란 낙하실험 문제.ipynb",
      "provenance": [],
      "collapsed_sections": []
    },
    "kernelspec": {
      "name": "python3",
      "display_name": "Python 3"
    },
    "language_info": {
      "name": "python"
    }
  },
  "cells": [
    {
      "cell_type": "code",
      "metadata": {
        "id": "FQ50BpOOEjME"
      },
      "source": [
        "import random\n",
        "n = 100\n",
        "answer = random.randint(1, n)\n",
        "\n",
        "def isSafe(height):\n",
        "    if (height < answer):\n",
        "        return True\n",
        "    else:\n",
        "        return False"
      ],
      "execution_count": 1,
      "outputs": []
    },
    {
      "cell_type": "code",
      "metadata": {
        "colab": {
          "base_uri": "https://localhost:8080/"
        },
        "id": "BsgMrIt9HYF-",
        "outputId": "ca8fdb20-7cea-47d1-9e5c-7429d18368bf"
      },
      "source": [
        "# 계란이 하나인 경우\n",
        "def eggDrop1(n):\n",
        "    for height in range(1, n+1):\n",
        "        if (not isSafe(height)):\n",
        "            return height\n",
        "\n",
        "print(answer, eggDrop1(n))"
      ],
      "execution_count": 2,
      "outputs": [
        {
          "output_type": "stream",
          "name": "stdout",
          "text": [
            "33 33\n"
          ]
        }
      ]
    },
    {
      "cell_type": "markdown",
      "metadata": {
        "id": "VESyIizH-Zhj"
      },
      "source": [
        "# 계란이 많은 경우"
      ]
    },
    {
      "cell_type": "code",
      "metadata": {
        "colab": {
          "base_uri": "https://localhost:8080/"
        },
        "id": "bSEqyxRo-T6E",
        "outputId": "00e85d6b-27c2-4f9e-927c-7f3ff5e36fb3"
      },
      "source": [
        "def eggDrop2(n):\n",
        "    start = 1\n",
        "    end = n\n",
        "    while (start+1< end):\n",
        "        mid = (start + end) //2\n",
        "        if (isSafe(mid)):\n",
        "            start = mid\n",
        "        else:\n",
        "            end = mid\n",
        "    return end\n",
        "\n",
        "print(answer, eggDrop2(n))"
      ],
      "execution_count": 4,
      "outputs": [
        {
          "output_type": "stream",
          "name": "stdout",
          "text": [
            "33 33\n"
          ]
        }
      ]
    },
    {
      "cell_type": "markdown",
      "metadata": {
        "id": "g9_yIgqi-yx4"
      },
      "source": [
        "계란이 몇 개나 필요할까 ?"
      ]
    },
    {
      "cell_type": "code",
      "metadata": {
        "colab": {
          "base_uri": "https://localhost:8080/"
        },
        "id": "GNzHqCJK-tWQ",
        "outputId": "47f51a2a-376a-4332-aa3d-c08249f4573e"
      },
      "source": [
        "def countEggDrop2(n):\n",
        "    start = 1\n",
        "    end = n\n",
        "    count = 0\n",
        "    while (start+ 1< end):\n",
        "        count+=1\n",
        "        mid = (start + end) //2\n",
        "        if (isSafe(mid)):\n",
        "            start = mid\n",
        "        else:\n",
        "            end = mid\n",
        "    return end\n",
        "\n",
        "\n",
        "for i in range(1,21):\n",
        "    maxcount = 0\n",
        "    n = 2 ** i\n",
        "    for _ in range(1000):\n",
        "        answer = random.randint(1,n)\n",
        "        count = countEggDrop2(n)\n",
        "        if (maxcount < count):\n",
        "            maxcount = count\n",
        "    print(n, maxcount)"
      ],
      "execution_count": 6,
      "outputs": [
        {
          "output_type": "stream",
          "name": "stdout",
          "text": [
            "2 2\n",
            "4 4\n",
            "8 8\n",
            "16 16\n",
            "32 32\n",
            "64 64\n",
            "128 128\n",
            "256 256\n",
            "512 512\n",
            "1024 1024\n",
            "2048 2048\n",
            "4096 4096\n",
            "8192 8181\n",
            "16384 16382\n",
            "32768 32752\n",
            "65536 65501\n",
            "131072 130928\n",
            "262144 261635\n",
            "524288 524111\n",
            "1048576 1047888\n"
          ]
        }
      ]
    },
    {
      "cell_type": "markdown",
      "metadata": {
        "id": "UtX_pzNS_QQN"
      },
      "source": [
        "계란이 만약 두개 뿐이라면 ?"
      ]
    },
    {
      "cell_type": "code",
      "metadata": {
        "colab": {
          "base_uri": "https://localhost:8080/"
        },
        "id": "r_jBMgo2_SpW",
        "outputId": "b80aba5b-18ba-42b6-b00e-faf164587a1d"
      },
      "source": [
        "import math\n",
        "def twoEggsDrop(n):\n",
        "    sqrt_n = math.floor(math.sqrt(n))\n",
        "    for height1 in range(sqrt_n, n+1, sqrt_n):\n",
        "        if (not isSafe(height1)):\n",
        "            break\n",
        "    for height2 in range(height1- sqrt_n+1, height1):\n",
        "        if (not isSafe(height2)):\n",
        "            return height2\n",
        "\n",
        "n = 100\n",
        "answer = random.randint(1, n)\n",
        "print(answer, twoEggsDrop(n))"
      ],
      "execution_count": 11,
      "outputs": [
        {
          "output_type": "stream",
          "name": "stdout",
          "text": [
            "17 17\n"
          ]
        }
      ]
    },
    {
      "cell_type": "code",
      "metadata": {
        "colab": {
          "base_uri": "https://localhost:8080/"
        },
        "id": "u_rJ7qsi_9se",
        "outputId": "50392919-bdc7-443f-8fec-3ac2e85c50cf"
      },
      "source": [
        "def twoEggsDrop2(n):\n",
        "    count = 0\n",
        "    sqrt_n = math.floor(math.sqrt(n))\n",
        "    for height1 in range(sqrt_n, n+1, sqrt_n):\n",
        "        count+=1\n",
        "        if (not isSafe(height1)):\n",
        "            break\n",
        "    for height2 in range(height1- sqrt_n+1, height1):\n",
        "        count+=1\n",
        "        if (not isSafe(height2)):\n",
        "            return count\n",
        "\n",
        "n = 100\n",
        "answer = random.randint(1, 101)\n",
        "print(answer, twoEggsDrop2(n))"
      ],
      "execution_count": 12,
      "outputs": [
        {
          "output_type": "stream",
          "name": "stdout",
          "text": [
            "20 None\n"
          ]
        }
      ]
    }
  ]
}