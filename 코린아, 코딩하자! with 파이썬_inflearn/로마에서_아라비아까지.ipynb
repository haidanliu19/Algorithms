{
  "nbformat": 4,
  "nbformat_minor": 0,
  "metadata": {
    "colab": {
      "name": "로마에서 아라비아까지",
      "provenance": [],
      "collapsed_sections": []
    },
    "kernelspec": {
      "name": "python3",
      "display_name": "Python 3"
    },
    "language_info": {
      "name": "python"
    }
  },
  "cells": [
    {
      "cell_type": "code",
      "metadata": {
        "colab": {
          "base_uri": "https://localhost:8080/"
        },
        "id": "xzCbj-iPC1V1",
        "outputId": "1a214436-0c31-452e-b7ef-13065c6c8a96"
      },
      "source": [
        "string =\"MDCLXVI\"\n",
        "\n",
        "print(string[0])"
      ],
      "execution_count": 4,
      "outputs": [
        {
          "output_type": "stream",
          "name": "stdout",
          "text": [
            "M\n"
          ]
        }
      ]
    },
    {
      "cell_type": "code",
      "metadata": {
        "colab": {
          "base_uri": "https://localhost:8080/"
        },
        "id": "bhNwoU11vBHk",
        "outputId": "5fb8be7f-7e4c-4854-d5df-11113ca71a00"
      },
      "source": [
        "def getValueOf(symbol):\n",
        "    if symbol == \"M\" : return 1000\n",
        "    elif symbol == \"D\" : return 500\n",
        "    elif symbol == \"C\" : return 100\n",
        "    elif symbol == \"L\" : return 50\n",
        "    elif symbol == \"X\" : return 10\n",
        "    elif symbol == \"V\" : return 5\n",
        "    elif symbol == \"I\" : return 1\n",
        "roman = 'MDCLXVI'\n",
        "for i in range(len(roman)):\n",
        "    print(roman[i],\":\",getValueOf(roman[i]))"
      ],
      "execution_count": 5,
      "outputs": [
        {
          "output_type": "stream",
          "name": "stdout",
          "text": [
            "M : 1000\n",
            "D : 500\n",
            "C : 100\n",
            "L : 50\n",
            "X : 10\n",
            "V : 5\n",
            "I : 1\n"
          ]
        }
      ]
    },
    {
      "cell_type": "code",
      "metadata": {
        "colab": {
          "base_uri": "https://localhost:8080/"
        },
        "id": "wErsZ_2AvrZm",
        "outputId": "1ebbdac7-5af1-4d8f-9d9e-08d3bfebffd0"
      },
      "source": [
        "roman = 'MDCLXVI'\n",
        "arabic =0 \n",
        "for i in range(len(roman)):\n",
        "    value = getValueOf(roman[i])\n",
        "    arabic += value\n",
        "print(arabic)"
      ],
      "execution_count": 6,
      "outputs": [
        {
          "output_type": "stream",
          "name": "stdout",
          "text": [
            "1666\n"
          ]
        }
      ]
    },
    {
      "cell_type": "code",
      "metadata": {
        "id": "YZLbdQY_vskE"
      },
      "source": [
        "romanDict = {\"M\":1000,\"D\":500,\"C\":100,\"L\":50,\"X\":10,\"Y\":5,\"I\":1}\n",
        "def toArabicNumber(roman):\n",
        "    arabic = 0\n",
        "    for i in range(len(roman)):\n",
        "        value = romanDict[roman[i]]\n",
        "        if (i < (len(roman) -1 ) and value < romanDict[roman[i+1]] ):\n",
        "            arabic -=value\n",
        "        else:\n",
        "            arabic += value\n",
        "    return arabic"
      ],
      "execution_count": 7,
      "outputs": []
    },
    {
      "cell_type": "code",
      "metadata": {
        "colab": {
          "base_uri": "https://localhost:8080/"
        },
        "id": "rlY8QoCbvt1S",
        "outputId": "f695c257-1e24-450d-93e0-e0f81a2e4c35"
      },
      "source": [
        "romans = ['CCCLXIX','LXXX']\n",
        "arabisc = []\n",
        "for str in romans:\n",
        "    arabisc.append(toArabicNumber(str))\n",
        "print(arabisc)"
      ],
      "execution_count": 8,
      "outputs": [
        {
          "output_type": "stream",
          "name": "stdout",
          "text": [
            "[369, 80]\n"
          ]
        }
      ]
    }
  ]
}