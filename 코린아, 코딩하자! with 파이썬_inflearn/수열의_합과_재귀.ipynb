{
  "nbformat": 4,
  "nbformat_minor": 0,
  "metadata": {
    "colab": {
      "name": "수열의 합과 재귀.ipynb",
      "provenance": [],
      "collapsed_sections": []
    },
    "kernelspec": {
      "name": "python3",
      "display_name": "Python 3"
    },
    "language_info": {
      "name": "python"
    }
  },
  "cells": [
    {
      "cell_type": "code",
      "metadata": {
        "colab": {
          "base_uri": "https://localhost:8080/"
        },
        "id": "6dzUV4-EDhzl",
        "outputId": "bc42f2f9-e5ee-4d1e-9a43-1c4775f8de6f"
      },
      "source": [
        "def summation(n):\n",
        "    s = 0\n",
        "    for i in range(1, n+1):\n",
        "        s += i * (n+1-i)\n",
        "    return s\n",
        "\n",
        "print(summation(20))"
      ],
      "execution_count": 24,
      "outputs": [
        {
          "output_type": "stream",
          "name": "stdout",
          "text": [
            "1540\n"
          ]
        }
      ]
    },
    {
      "cell_type": "code",
      "metadata": {
        "colab": {
          "base_uri": "https://localhost:8080/"
        },
        "id": "21HczaSHD0an",
        "outputId": "18da2b4a-92af-4b17-abfe-e794b5fe0dee"
      },
      "source": [
        "numbers = [36,59,66,38,78,97,25,41,29,12]\n",
        "print(sum(numbers))\n",
        "\n",
        "s = 0\n",
        "for n in numbers:\n",
        "    s += n\n",
        "\n",
        "print(s)"
      ],
      "execution_count": 26,
      "outputs": [
        {
          "output_type": "stream",
          "name": "stdout",
          "text": [
            "481\n",
            "481\n"
          ]
        }
      ]
    },
    {
      "cell_type": "code",
      "metadata": {
        "colab": {
          "base_uri": "https://localhost:8080/"
        },
        "id": "yT_ut7-BEAvm",
        "outputId": "9e24add9-33e1-4364-ad76-05a6851dc30a"
      },
      "source": [
        "def sumOfArray(array, i):\n",
        "    end = len(array) - 1\n",
        "    if (end == i):\n",
        "        return array[end]\n",
        "    else:\n",
        "        return array[i] + sumOfArray(array, i+1)\n",
        "\n",
        "print(sumOfArray(numbers, 0))"
      ],
      "execution_count": 27,
      "outputs": [
        {
          "output_type": "stream",
          "name": "stdout",
          "text": [
            "481\n"
          ]
        }
      ]
    },
    {
      "cell_type": "code",
      "metadata": {
        "colab": {
          "base_uri": "https://localhost:8080/"
        },
        "id": "03bhvGn0EcDf",
        "outputId": "4e3ef7a5-a342-4f79-e765-7a13154265f1"
      },
      "source": [
        "def factorial(n):\n",
        "    if (n == 0 or n ==1):\n",
        "        return 1\n",
        "    else:\n",
        "        return n * factorial(n-1)\n",
        "for n in range(11):\n",
        "    print(n, \"!=\", factorial(n))\n",
        "\n",
        "print()"
      ],
      "execution_count": 28,
      "outputs": [
        {
          "output_type": "stream",
          "name": "stdout",
          "text": [
            "0 != 1\n",
            "1 != 1\n",
            "2 != 2\n",
            "3 != 6\n",
            "4 != 24\n",
            "5 != 120\n",
            "6 != 720\n",
            "7 != 5040\n",
            "8 != 40320\n",
            "9 != 362880\n",
            "10 != 3628800\n",
            "\n"
          ]
        }
      ]
    },
    {
      "cell_type": "code",
      "metadata": {
        "colab": {
          "base_uri": "https://localhost:8080/"
        },
        "id": "IK9pJNKeEqDO",
        "outputId": "b1465954-bc44-475d-8f0b-217dccdfd4d4"
      },
      "source": [
        "def fibonacci(n):\n",
        "    if (n <2):\n",
        "        return n\n",
        "    else:\n",
        "        return fibonacci(n-1) + fibonacci(n-2)\n",
        "for n in range(11):\n",
        "    print(\"F ( \", n, \"_=\", fibonacci(n))\n",
        "print()"
      ],
      "execution_count": 29,
      "outputs": [
        {
          "output_type": "stream",
          "name": "stdout",
          "text": [
            "F (  0 _= 0\n",
            "F (  1 _= 1\n",
            "F (  2 _= 1\n",
            "F (  3 _= 2\n",
            "F (  4 _= 3\n",
            "F (  5 _= 5\n",
            "F (  6 _= 8\n",
            "F (  7 _= 13\n",
            "F (  8 _= 21\n",
            "F (  9 _= 34\n",
            "F (  10 _= 55\n",
            "\n"
          ]
        }
      ]
    },
    {
      "cell_type": "code",
      "metadata": {
        "id": "BcieksIcEqJh"
      },
      "source": [
        ""
      ],
      "execution_count": null,
      "outputs": []
    }
  ]
}