{
  "nbformat": 4,
  "nbformat_minor": 0,
  "metadata": {
    "colab": {
      "name": "리스트와 반복문.ipynb",
      "provenance": []
    },
    "kernelspec": {
      "name": "python3",
      "display_name": "Python 3"
    },
    "language_info": {
      "name": "python"
    }
  },
  "cells": [
    {
      "cell_type": "code",
      "metadata": {
        "colab": {
          "base_uri": "https://localhost:8080/"
        },
        "id": "stFgY3Pws1CI",
        "outputId": "d4307a4c-5f4b-472f-bc03-6d34fbf19a79"
      },
      "source": [
        "number_list = [15,12,23,11,17,20,19,18,99,25]\n",
        "max = 0\n",
        "for n in number_list:\n",
        "    if (max<n):\n",
        "        max = n\n",
        "print(max)"
      ],
      "execution_count": 1,
      "outputs": [
        {
          "output_type": "stream",
          "name": "stdout",
          "text": [
            "99\n"
          ]
        }
      ]
    },
    {
      "cell_type": "code",
      "metadata": {
        "colab": {
          "base_uri": "https://localhost:8080/"
        },
        "id": "F82Afdh-tRYL",
        "outputId": "6c6a75b6-ac72-4e7b-a677-3d7440d2f263"
      },
      "source": [
        "for i in [1,2,3,4,5]:\n",
        "    print(i, end= ' ')\n",
        "print()"
      ],
      "execution_count": 2,
      "outputs": [
        {
          "output_type": "stream",
          "name": "stdout",
          "text": [
            "1 2 3 4 5 \n"
          ]
        }
      ]
    },
    {
      "cell_type": "code",
      "metadata": {
        "colab": {
          "base_uri": "https://localhost:8080/"
        },
        "id": "GZBeQw1Rthli",
        "outputId": "04f30d50-88a5-4229-e44a-f67d80b14cdc"
      },
      "source": [
        "x = 20\n",
        "y = 12\n",
        "div_x = []\n",
        "for n in [1,2,3,4,5,6,7,8,9,10,\n",
        "          11,12,13,14,15,16,17,18,19,20]:\n",
        "    if (x % n == 0):\n",
        "        div_x.append(n)\n",
        "print(div_x)"
      ],
      "execution_count": 3,
      "outputs": [
        {
          "output_type": "stream",
          "name": "stdout",
          "text": [
            "[1, 2, 4, 5, 10, 20]\n"
          ]
        }
      ]
    },
    {
      "cell_type": "code",
      "metadata": {
        "colab": {
          "base_uri": "https://localhost:8080/"
        },
        "id": "8fM9rC7Wtzww",
        "outputId": "b128283d-34ba-412f-d22a-8b404b78ffca"
      },
      "source": [
        "x = 20\n",
        "y = 12\n",
        "div_x = []\n",
        "for n in range(1,x+1,1):\n",
        "    if (x % n == 0):\n",
        "        div_x.append(n)\n",
        "print(div_x)"
      ],
      "execution_count": 4,
      "outputs": [
        {
          "output_type": "stream",
          "name": "stdout",
          "text": [
            "[1, 2, 4, 5, 10, 20]\n"
          ]
        }
      ]
    },
    {
      "cell_type": "code",
      "metadata": {
        "id": "8exXnfDTt37F"
      },
      "source": [
        ""
      ],
      "execution_count": null,
      "outputs": []
    }
  ]
}