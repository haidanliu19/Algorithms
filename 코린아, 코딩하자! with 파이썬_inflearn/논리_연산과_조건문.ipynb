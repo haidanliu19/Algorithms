{
  "nbformat": 4,
  "nbformat_minor": 0,
  "metadata": {
    "colab": {
      "name": "논리 연산과 조건문.ipynb",
      "provenance": [],
      "collapsed_sections": []
    },
    "kernelspec": {
      "name": "python3",
      "display_name": "Python 3"
    },
    "language_info": {
      "name": "python"
    }
  },
  "cells": [
    {
      "cell_type": "code",
      "metadata": {
        "colab": {
          "base_uri": "https://localhost:8080/"
        },
        "id": "azdjfbSGxGlb",
        "outputId": "28034787-06b9-4057-e3fe-f05b32981a89"
      },
      "source": [
        "x = 48\n",
        "y = 36\n",
        "n = 8\n",
        "if (x % n ==0 and y % n ==0):\n",
        "    print('Sure, you can do it!')\n",
        "else:\n",
        "    print('응 , 아니야 !')"
      ],
      "execution_count": 1,
      "outputs": [
        {
          "output_type": "stream",
          "name": "stdout",
          "text": [
            "응 , 아니야 !\n"
          ]
        }
      ]
    },
    {
      "cell_type": "code",
      "metadata": {
        "colab": {
          "base_uri": "https://localhost:8080/"
        },
        "id": "67zKh1yYxhBP",
        "outputId": "979e7520-3403-4170-dd9a-ab937832c373"
      },
      "source": [
        "x = 3\n",
        "if x % 2 ==0:\n",
        "    print('짝수')\n",
        "else:\n",
        "    print('홀수')"
      ],
      "execution_count": 2,
      "outputs": [
        {
          "output_type": "stream",
          "name": "stdout",
          "text": [
            "홀수\n"
          ]
        }
      ]
    }
  ]
}