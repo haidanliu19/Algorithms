{
  "nbformat": 4,
  "nbformat_minor": 0,
  "metadata": {
    "colab": {
      "name": "최소 공배수 구하기",
      "provenance": [],
      "collapsed_sections": []
    },
    "kernelspec": {
      "name": "python3",
      "display_name": "Python 3"
    },
    "language_info": {
      "name": "python"
    }
  },
  "cells": [
    {
      "cell_type": "code",
      "metadata": {
        "id": "nYunAQ61Iwvj",
        "colab": {
          "base_uri": "https://localhost:8080/"
        },
        "outputId": "2ec9e328-cf7a-40a3-b5ef-787eefbac879"
      },
      "source": [
        "import math\n",
        "\n",
        "x = 36\n",
        "y = 48\n",
        "\n",
        "g = math.gcd(x,y)\n",
        "print('최대공약수는 ',g)\n",
        "\n",
        "l = (x*y)//g\n",
        "print('최소공약수는 ',l)"
      ],
      "execution_count": 2,
      "outputs": [
        {
          "output_type": "stream",
          "name": "stdout",
          "text": [
            "최대공약수는  12\n",
            "최소공약수는  144\n"
          ]
        }
      ]
    },
    {
      "cell_type": "code",
      "metadata": {
        "colab": {
          "base_uri": "https://localhost:8080/"
        },
        "id": "q7LkzebcXZya",
        "outputId": "52212177-fc00-4a41-a82a-4e2af29dee4b"
      },
      "source": [
        "def lcm(n,m):\n",
        "    return (n*m) // math.gcd(n,m)\n",
        "\n",
        "def lcmFromTo(start,end):\n",
        "    l = start \n",
        "    for i in range(start+1, end+1):\n",
        "        l = lcm(l,i)\n",
        "    return l\n",
        "\n",
        "print(lcmFromTo(1,10))\n",
        "print(lcmFromTo(1,20))"
      ],
      "execution_count": 3,
      "outputs": [
        {
          "output_type": "stream",
          "name": "stdout",
          "text": [
            "2520\n",
            "232792560\n"
          ]
        }
      ]
    },
    {
      "cell_type": "code",
      "metadata": {
        "id": "741O_Q9ZYTw6"
      },
      "source": [
        "\n",
        "def factorize2(n):\n",
        "    factor = 2\n",
        "    factors = []\n",
        "    while (factor **2 <= n):\n",
        "        while (n % factor == 0):\n",
        "            n = n // factor\n",
        "            factors.append(factor)\n",
        "        factor+=1\n",
        "    if (n >1):\n",
        "        factors.append(n)\n",
        "    return factors"
      ],
      "execution_count": 3,
      "outputs": []
    },
    {
      "cell_type": "code",
      "metadata": {
        "id": "c9pkQGFOYl7n"
      },
      "source": [
        "def lcmFactors(n,m):\n",
        "    i = 0\n",
        "    j = 0\n",
        "    factors = []\n",
        "    while (i < len(n) and j < len(m)):\n",
        "        if (n[i] == m[j]):\n",
        "            factors.append(n[i])\n",
        "            i+=1; j +=1\n",
        "        elif (n[i] < m[j]):\n",
        "            factors.append(n[i])\n",
        "            i+= 1\n",
        "        else:\n",
        "            factors.append(m[j])\n",
        "            j+=1\n",
        "    while ( i < len(n)):\n",
        "        factors.append(n[i])\n",
        "        i+= 1\n",
        "    while ( j < len(m)):\n",
        "        factors.append(m[i])\n",
        "        j+= 1\n",
        "    return factors"
      ],
      "execution_count": 4,
      "outputs": []
    },
    {
      "cell_type": "code",
      "metadata": {
        "colab": {
          "base_uri": "https://localhost:8080/"
        },
        "id": "_J0Bch9yX9N_",
        "outputId": "f2f1d7f6-68dc-45d3-9108-b369b5a4512b"
      },
      "source": [
        "def lcm2(n,m):\n",
        "    f1 = factorize2(n)\n",
        "    f2 = factorize2(m)\n",
        "    factors = lcmFactors(f1,f2)\n",
        "    lcm = 1\n",
        "    for i in factors:\n",
        "        lcm *= i\n",
        "    return lcm\n",
        "\n",
        "x = 36\n",
        "y = 48\n",
        "l = lcm2(x,y)\n",
        "print('최소공배수는 ',l )"
      ],
      "execution_count": 5,
      "outputs": [
        {
          "output_type": "stream",
          "name": "stdout",
          "text": [
            "최소공배수는  144\n"
          ]
        }
      ]
    },
    {
      "cell_type": "code",
      "metadata": {
        "id": "qxiSOv0cYUev"
      },
      "source": [
        ""
      ],
      "execution_count": null,
      "outputs": []
    }
  ]
}