{
  "nbformat": 4,
  "nbformat_minor": 0,
  "metadata": {
    "colab": {
      "name": "소인수 분해.ipynb",
      "provenance": [],
      "collapsed_sections": []
    },
    "kernelspec": {
      "name": "python3",
      "display_name": "Python 3"
    },
    "language_info": {
      "name": "python"
    }
  },
  "cells": [
    {
      "cell_type": "code",
      "metadata": {
        "id": "stFgY3Pws1CI"
      },
      "source": [
        "import math\n",
        "def isPrime2(n):\n",
        "    for i in range(2, math.floor(math.sqrt(n))+1):\n",
        "        if (n % i ==0):\n",
        "            return False\n",
        "    return True"
      ],
      "execution_count": 9,
      "outputs": []
    },
    {
      "cell_type": "code",
      "metadata": {
        "colab": {
          "base_uri": "https://localhost:8080/"
        },
        "id": "4X-RmKt2Ywi8",
        "outputId": "71a68407-7245-49ee-9a15-43faa513d2d4"
      },
      "source": [
        "def findPrimes(n):\n",
        "    primes = []\n",
        "    for i in range(2, n+1):\n",
        "        if (isPrime2(i)):\n",
        "            primes.append(i)\n",
        "    return primes\n",
        "\n",
        "n = 45\n",
        "primes = findPrimes(n)\n",
        "print(primes)"
      ],
      "execution_count": 10,
      "outputs": [
        {
          "output_type": "stream",
          "name": "stdout",
          "text": [
            "[2, 3, 5, 7, 11, 13, 17, 19, 23, 29, 31, 37, 41, 43]\n"
          ]
        }
      ]
    },
    {
      "cell_type": "markdown",
      "metadata": {
        "id": "ZYavfWccY-gk"
      },
      "source": [
        "# 소인수 분해"
      ]
    },
    {
      "cell_type": "code",
      "metadata": {
        "colab": {
          "base_uri": "https://localhost:8080/"
        },
        "id": "tmnt2HICY_th",
        "outputId": "87c69a40-c1f1-4812-c9a3-b7eddffaf2c9"
      },
      "source": [
        "def factorize(n):\n",
        "    factors = []\n",
        "    primes = findPrimes(n)\n",
        "    for i in primes:\n",
        "        while (n % i ==0):\n",
        "            factors.append(i)\n",
        "            n = n //i\n",
        "    return factors\n",
        "\n",
        "n = 45\n",
        "factor_list = factorize(n)\n",
        "print(factor_list)"
      ],
      "execution_count": 11,
      "outputs": [
        {
          "output_type": "stream",
          "name": "stdout",
          "text": [
            "[3, 3, 5]\n"
          ]
        }
      ]
    },
    {
      "cell_type": "code",
      "metadata": {
        "colab": {
          "base_uri": "https://localhost:8080/"
        },
        "id": "K8CQBRKUZWPG",
        "outputId": "05171067-a1a5-4770-9ae2-57505f7b284d"
      },
      "source": [
        "def factorize2(n):\n",
        "    factor = 2\n",
        "    factors = []\n",
        "    primes = findPrimes(n)\n",
        "    while (factor**2  <= n):\n",
        "        while (n % factor == 0):\n",
        "            n = n // factor\n",
        "            factors.append(factor)\n",
        "        factor += 1\n",
        "    if (n > 1):\n",
        "        factors.append(n)\n",
        "    return factors\n",
        "\n",
        "n = 45\n",
        "factor_list = factorize(n)\n",
        "print(factor_list)"
      ],
      "execution_count": 13,
      "outputs": [
        {
          "output_type": "stream",
          "name": "stdout",
          "text": [
            "[3, 3, 5]\n"
          ]
        }
      ]
    },
    {
      "cell_type": "code",
      "metadata": {
        "colab": {
          "base_uri": "https://localhost:8080/"
        },
        "id": "S9xIpCeSZ27_",
        "outputId": "f459e094-d2aa-47dd-d4a4-68c5b70d7391"
      },
      "source": [
        "# 중복 제거 \n",
        "def findFactors(n):\n",
        "    factor_list = factorize2(n)\n",
        "    factors = []\n",
        "    for i in factor_list:\n",
        "        if ( i not in factors):\n",
        "            factors.append(i)\n",
        "n = 45\n",
        "factors = findFactors(n)\n",
        "print(factors)"
      ],
      "execution_count": 14,
      "outputs": [
        {
          "output_type": "stream",
          "name": "stdout",
          "text": [
            "None\n"
          ]
        }
      ]
    }
  ]
}