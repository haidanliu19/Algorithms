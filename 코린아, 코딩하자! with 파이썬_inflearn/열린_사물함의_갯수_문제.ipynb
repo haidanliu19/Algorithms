{
  "nbformat": 4,
  "nbformat_minor": 0,
  "metadata": {
    "colab": {
      "name": "열린 사물함의 갯수 문제.ipynb",
      "provenance": [],
      "collapsed_sections": []
    },
    "kernelspec": {
      "name": "python3",
      "display_name": "Python 3"
    },
    "language_info": {
      "name": "python"
    }
  },
  "cells": [
    {
      "cell_type": "code",
      "metadata": {
        "colab": {
          "base_uri": "https://localhost:8080/"
        },
        "id": "stFgY3Pws1CI",
        "outputId": "2ebf6561-2fa0-4b4d-ee5e-7f2ea84683c0"
      },
      "source": [
        "n = 100\n",
        "lockers = [-1] *(n+1)\n",
        "for i in range(1,101):\n",
        "    lockers[i] = i\n",
        "print(lockers)"
      ],
      "execution_count": 5,
      "outputs": [
        {
          "output_type": "stream",
          "name": "stdout",
          "text": [
            "[-1, 1, 2, 3, 4, 5, 6, 7, 8, 9, 10, 11, 12, 13, 14, 15, 16, 17, 18, 19, 20, 21, 22, 23, 24, 25, 26, 27, 28, 29, 30, 31, 32, 33, 34, 35, 36, 37, 38, 39, 40, 41, 42, 43, 44, 45, 46, 47, 48, 49, 50, 51, 52, 53, 54, 55, 56, 57, 58, 59, 60, 61, 62, 63, 64, 65, 66, 67, 68, 69, 70, 71, 72, 73, 74, 75, 76, 77, 78, 79, 80, 81, 82, 83, 84, 85, 86, 87, 88, 89, 90, 91, 92, 93, 94, 95, 96, 97, 98, 99, 100]\n"
          ]
        }
      ]
    },
    {
      "cell_type": "code",
      "metadata": {
        "colab": {
          "base_uri": "https://localhost:8080/"
        },
        "id": "TQ5BD8ChvHsm",
        "outputId": "b73ca357-9775-4a4b-b7e1-1c3ab0da5d9c"
      },
      "source": [
        "for N in range(1,101):\n",
        "    for j in range(N, 101, N):\n",
        "        if (lockers[j]!=0):\n",
        "            lockers[j] = 0\n",
        "        else:\n",
        "            lockers[j] = j\n",
        "print(lockers)"
      ],
      "execution_count": 6,
      "outputs": [
        {
          "output_type": "stream",
          "name": "stdout",
          "text": [
            "[-1, 0, 2, 3, 0, 5, 6, 7, 8, 0, 10, 11, 12, 13, 14, 15, 0, 17, 18, 19, 20, 21, 22, 23, 24, 0, 26, 27, 28, 29, 30, 31, 32, 33, 34, 35, 0, 37, 38, 39, 40, 41, 42, 43, 44, 45, 46, 47, 48, 0, 50, 51, 52, 53, 54, 55, 56, 57, 58, 59, 60, 61, 62, 63, 0, 65, 66, 67, 68, 69, 70, 71, 72, 73, 74, 75, 76, 77, 78, 79, 80, 0, 82, 83, 84, 85, 86, 87, 88, 89, 90, 91, 92, 93, 94, 95, 96, 97, 98, 99, 0]\n"
          ]
        }
      ]
    },
    {
      "cell_type": "code",
      "metadata": {
        "colab": {
          "base_uri": "https://localhost:8080/"
        },
        "id": "HQ1tbcH6vhvV",
        "outputId": "b37ad20e-c779-49a6-9f84-700ed3326d98"
      },
      "source": [
        "open_lockers = []\n",
        "for i in lockers:\n",
        "    if (i>0):\n",
        "        open_lockers.append(i)\n",
        "print('열린 사물함의 갯수는 ',len(open_lockers))\n",
        "print('열린 사물함의 번호는 ',open_lockers)"
      ],
      "execution_count": 7,
      "outputs": [
        {
          "output_type": "stream",
          "name": "stdout",
          "text": [
            "열린 사물함의 갯수는  90\n",
            "열린 사물함의 번호는  [2, 3, 5, 6, 7, 8, 10, 11, 12, 13, 14, 15, 17, 18, 19, 20, 21, 22, 23, 24, 26, 27, 28, 29, 30, 31, 32, 33, 34, 35, 37, 38, 39, 40, 41, 42, 43, 44, 45, 46, 47, 48, 50, 51, 52, 53, 54, 55, 56, 57, 58, 59, 60, 61, 62, 63, 65, 66, 67, 68, 69, 70, 71, 72, 73, 74, 75, 76, 77, 78, 79, 80, 82, 83, 84, 85, 86, 87, 88, 89, 90, 91, 92, 93, 94, 95, 96, 97, 98, 99]\n"
          ]
        }
      ]
    },
    {
      "cell_type": "code",
      "metadata": {
        "colab": {
          "base_uri": "https://localhost:8080/"
        },
        "id": "aEoAI2UQv5Je",
        "outputId": "d1069f24-eb45-4fd2-b568-bc2cdc4aab86"
      },
      "source": [
        "n  = 100\n",
        "i = 1\n",
        "open_lockers = []\n",
        "while (i**2 <=n):\n",
        "    open_lockers.append(i**2)\n",
        "    i+= 1\n",
        "\n",
        "print('열린 사물함의 갯수는 ',len(open_lockers))\n",
        "print('열린 사물함의 번호는 ',open_lockers)"
      ],
      "execution_count": 8,
      "outputs": [
        {
          "output_type": "stream",
          "name": "stdout",
          "text": [
            "열린 사물함의 갯수는  10\n",
            "열린 사물함의 번호는  [1, 4, 9, 16, 25, 36, 49, 64, 81, 100]\n"
          ]
        }
      ]
    }
  ]
}