{
  "nbformat": 4,
  "nbformat_minor": 0,
  "metadata": {
    "colab": {
      "name": "변수: 대입과 비교 연산.ipynb",
      "provenance": [],
      "collapsed_sections": []
    },
    "kernelspec": {
      "name": "python3",
      "display_name": "Python 3"
    },
    "language_info": {
      "name": "python"
    }
  },
  "cells": [
    {
      "cell_type": "code",
      "metadata": {
        "colab": {
          "base_uri": "https://localhost:8080/"
        },
        "id": "JLiven2ijVCp",
        "outputId": "385c6052-e27a-4908-cb8d-d8578b788138"
      },
      "source": [
        "x = 3\n",
        "y = 2\n",
        "z = (x-y)  /(x +y)\n",
        "print(z)"
      ],
      "execution_count": 1,
      "outputs": [
        {
          "output_type": "stream",
          "name": "stdout",
          "text": [
            "0.2\n"
          ]
        }
      ]
    },
    {
      "cell_type": "code",
      "metadata": {
        "colab": {
          "base_uri": "https://localhost:8080/"
        },
        "id": "NiLnwK_Ijmdh",
        "outputId": "1a5d6724-d4de-4939-8153-97f9665e300e"
      },
      "source": [
        "n = 5\n",
        "change = 5000 - 700*n\n",
        "print('거스름돈은',change, '원')"
      ],
      "execution_count": 2,
      "outputs": [
        {
          "output_type": "stream",
          "name": "stdout",
          "text": [
            "거스름돈은 1500 원\n"
          ]
        }
      ]
    },
    {
      "cell_type": "code",
      "metadata": {
        "colab": {
          "base_uri": "https://localhost:8080/"
        },
        "id": "3aIaxWR3j-T3",
        "outputId": "8b43a504-b9cd-4220-eb67-80c046d85a66"
      },
      "source": [
        "x = 3\n",
        "y = 0.14\n",
        "\n",
        "print(x,y)"
      ],
      "execution_count": 3,
      "outputs": [
        {
          "output_type": "stream",
          "name": "stdout",
          "text": [
            "3 0.14\n"
          ]
        }
      ]
    },
    {
      "cell_type": "code",
      "metadata": {
        "colab": {
          "base_uri": "https://localhost:8080/"
        },
        "id": "-INHqPKDkDUu",
        "outputId": "9f36b583-ba2b-4234-9b09-de90c172de07"
      },
      "source": [
        "pi = x+y\n",
        "r = x+4\n",
        "round_of_circle = 2 * pi * r\n",
        "areaOfCircle = pi * (r**2)\n",
        "print(pi, r, areaOfCircle, round_of_circle)"
      ],
      "execution_count": 4,
      "outputs": [
        {
          "output_type": "stream",
          "name": "stdout",
          "text": [
            "3.14 7 153.86 43.96\n"
          ]
        }
      ]
    },
    {
      "cell_type": "code",
      "metadata": {
        "colab": {
          "base_uri": "https://localhost:8080/"
        },
        "id": "J-msWfkBkN6E",
        "outputId": "f96c6a4c-8167-47fd-fe62-99ad1868d768"
      },
      "source": [
        "x = x+4\n",
        "print(x)\n",
        "x+= x\n",
        "print(x)\n",
        "x+= x+ x*2\n",
        "print(x)"
      ],
      "execution_count": 5,
      "outputs": [
        {
          "output_type": "stream",
          "name": "stdout",
          "text": [
            "7\n",
            "14\n",
            "56\n"
          ]
        }
      ]
    },
    {
      "cell_type": "code",
      "metadata": {
        "colab": {
          "base_uri": "https://localhost:8080/"
        },
        "id": "WyTc1Sk7kdeh",
        "outputId": "6f9d8582-61dc-46ce-873e-e055721681c1"
      },
      "source": [
        "x = 3\n",
        "y = 5\n",
        "z = x<y\n",
        "print(x,y,z)\n",
        "\n",
        "x= x+x\n",
        "z = x<y\n",
        "print(x,y,z)\n",
        "\n",
        "x+=1\n",
        "y += 2\n",
        "print(x,y,x==y)\n",
        "print(x,y,x!=y)"
      ],
      "execution_count": 6,
      "outputs": [
        {
          "output_type": "stream",
          "name": "stdout",
          "text": [
            "3 5 True\n",
            "6 5 False\n",
            "7 7 True\n",
            "7 7 False\n"
          ]
        }
      ]
    },
    {
      "cell_type": "code",
      "metadata": {
        "colab": {
          "base_uri": "https://localhost:8080/"
        },
        "id": "QyXWAqMikvDu",
        "outputId": "4abe7bf8-8447-4e62-c5f7-7482a974d8b4"
      },
      "source": [
        "x = 3\n",
        "r = 2*(x**3) - (x**2) - 4*x + 12\n",
        "print('나머지는 ',r)"
      ],
      "execution_count": 7,
      "outputs": [
        {
          "output_type": "stream",
          "name": "stdout",
          "text": [
            "나머지는  45\n"
          ]
        }
      ]
    },
    {
      "cell_type": "code",
      "metadata": {
        "colab": {
          "base_uri": "https://localhost:8080/"
        },
        "id": "s9YekjQXlK_m",
        "outputId": "dd122e6f-f4eb-4239-84b4-7f5a84dcf425"
      },
      "source": [
        "x = 2\n",
        "print(x ** (1/2))"
      ],
      "execution_count": 9,
      "outputs": [
        {
          "output_type": "stream",
          "name": "stdout",
          "text": [
            "1.4142135623730951\n"
          ]
        }
      ]
    },
    {
      "cell_type": "code",
      "metadata": {
        "colab": {
          "base_uri": "https://localhost:8080/"
        },
        "id": "NWVw_jH1k6jL",
        "outputId": "f9a7cdfd-b01a-42eb-cc0d-990544710919"
      },
      "source": [
        "a= 3\n",
        "b = -2\n",
        "c = -1\n",
        "x1 = (-b + (b**2 - 4*a*c) ** (1/2)) / (2*a)\n",
        "x2 = (-b + (b**2 - 4*a*c) ** (1/2)) / (2*a)\n",
        "print(x1, x2)"
      ],
      "execution_count": 8,
      "outputs": [
        {
          "output_type": "stream",
          "name": "stdout",
          "text": [
            "1.0 1.0\n"
          ]
        }
      ]
    },
    {
      "cell_type": "code",
      "metadata": {
        "id": "rqGrumsqlPa4"
      },
      "source": [
        ""
      ],
      "execution_count": null,
      "outputs": []
    }
  ]
}