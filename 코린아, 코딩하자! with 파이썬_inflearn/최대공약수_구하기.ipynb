{
  "nbformat": 4,
  "nbformat_minor": 0,
  "metadata": {
    "colab": {
      "name": "최대공약수 구하기.ipynb",
      "provenance": [],
      "collapsed_sections": []
    },
    "kernelspec": {
      "name": "python3",
      "display_name": "Python 3"
    },
    "language_info": {
      "name": "python"
    }
  },
  "cells": [
    {
      "cell_type": "code",
      "metadata": {
        "colab": {
          "base_uri": "https://localhost:8080/"
        },
        "id": "eW8hYHPS9IC5",
        "outputId": "86df370e-e9a6-463d-db4e-24fbf65b1637"
      },
      "source": [
        "def divisors(n):\n",
        "    div = []\n",
        "    for i in range(1, n+1):\n",
        "        if ( n %i ==0):\n",
        "            div.append(i)\n",
        "    return div\n",
        "\n",
        "x = 78696\n",
        "y = 19332\n",
        "div_x = divisors(x)\n",
        "div_y = divisors(y)\n",
        "print(div_x)\n",
        "print(div_y)"
      ],
      "execution_count": 2,
      "outputs": [
        {
          "output_type": "stream",
          "name": "stdout",
          "text": [
            "[1, 2, 3, 4, 6, 8, 9, 12, 18, 24, 36, 72, 1093, 2186, 3279, 4372, 6558, 8744, 9837, 13116, 19674, 26232, 39348, 78696]\n",
            "[1, 2, 3, 4, 6, 9, 12, 18, 27, 36, 54, 108, 179, 358, 537, 716, 1074, 1611, 2148, 3222, 4833, 6444, 9666, 19332]\n"
          ]
        }
      ]
    },
    {
      "cell_type": "code",
      "metadata": {
        "colab": {
          "base_uri": "https://localhost:8080/"
        },
        "id": "gkghfTPHGBpg",
        "outputId": "6f835191-f906-42ef-d4a4-fa702bf44718"
      },
      "source": [
        "def commons(n,m):\n",
        "    comm = []\n",
        "    for i in n:\n",
        "        if (i in m):\n",
        "            comm.append(i)\n",
        "    return comm\n",
        "comm = commons(div_x,div_y)\n",
        "print(comm)"
      ],
      "execution_count": 3,
      "outputs": [
        {
          "output_type": "stream",
          "name": "stdout",
          "text": [
            "[1, 2, 3, 4, 6, 9, 12, 18, 36]\n"
          ]
        }
      ]
    },
    {
      "cell_type": "code",
      "metadata": {
        "colab": {
          "base_uri": "https://localhost:8080/"
        },
        "id": "2gBMMAk_GQJ1",
        "outputId": "e30b200d-649c-4f8c-cd92-26cd7088e8df"
      },
      "source": [
        "def gcd(n,m):\n",
        "    div_n = divisors(n)\n",
        "    div_m = divisors(m)\n",
        "    comm = commons(div_n, div_m)\n",
        "    return comm[len(comm) -1 ]\n",
        "\n",
        "g = gcd(x,y)\n",
        "print('최대공약수',g)"
      ],
      "execution_count": 4,
      "outputs": [
        {
          "output_type": "stream",
          "name": "stdout",
          "text": [
            "최대공약수 36\n"
          ]
        }
      ]
    },
    {
      "cell_type": "code",
      "metadata": {
        "colab": {
          "base_uri": "https://localhost:8080/"
        },
        "id": "uS0K-Kt4HKhE",
        "outputId": "5e0faa47-793f-46c7-a5d5-4505271ccb23"
      },
      "source": [
        "def factorize2(n):\n",
        "    factor = 2\n",
        "    factors = []\n",
        "    while (factor **2 <= n):\n",
        "        while (n % factor == 0):\n",
        "            n = n // factor\n",
        "            factors.append(factor)\n",
        "        factor+=1\n",
        "    if (n >1):\n",
        "        factors.append(n)\n",
        "    return factors\n",
        "\n",
        "\n",
        "x = 78696\n",
        "y = 19332\n",
        "f1 = factorize2(x)\n",
        "f2 = factorize2(y)\n",
        "print(f1)\n",
        "print(f2)"
      ],
      "execution_count": 5,
      "outputs": [
        {
          "output_type": "stream",
          "name": "stdout",
          "text": [
            "[2, 2, 2, 3, 3, 1093]\n",
            "[2, 2, 3, 3, 3, 179]\n"
          ]
        }
      ]
    },
    {
      "cell_type": "code",
      "metadata": {
        "colab": {
          "base_uri": "https://localhost:8080/"
        },
        "id": "RMVf3PwbHSKy",
        "outputId": "652df378-9c71-4809-d835-63145fb4944a"
      },
      "source": [
        "def commonFactors(n,m):\n",
        "    i = 0\n",
        "    j = 0\n",
        "    commons = []\n",
        "    while ( i < len(n) and j < len(m)):\n",
        "        if (n[i] == m[j]):\n",
        "            commons.append(n[i])\n",
        "            i+= 1\n",
        "            j += 1\n",
        "        elif (n[i] < m[j]):\n",
        "            i+=1\n",
        "        else:\n",
        "            j+=1\n",
        "    return commons\n",
        "\n",
        "cf = commonFactors(f1,f2)\n",
        "print(cf)"
      ],
      "execution_count": 6,
      "outputs": [
        {
          "output_type": "stream",
          "name": "stdout",
          "text": [
            "[2, 2, 3, 3]\n"
          ]
        }
      ]
    },
    {
      "cell_type": "code",
      "metadata": {
        "colab": {
          "base_uri": "https://localhost:8080/"
        },
        "id": "CwZbZzV6H8vh",
        "outputId": "515b13af-c460-4778-d6d3-6c67075a7d54"
      },
      "source": [
        "def gcd2(n,m):\n",
        "    f1 = factorize2(n)\n",
        "    f2 = factorize2(m)\n",
        "    factors = commonFactors(f1, f2)\n",
        "    gcd = 1\n",
        "    for i in factors:\n",
        "        gcd *= i\n",
        "    return gcd\n",
        "\n",
        "x = 78696\n",
        "y = 19332\n",
        "g = gcd2(x,y)\n",
        "print('최대공약수',g)"
      ],
      "execution_count": 7,
      "outputs": [
        {
          "output_type": "stream",
          "name": "stdout",
          "text": [
            "최대공약수 36\n"
          ]
        }
      ]
    },
    {
      "cell_type": "code",
      "metadata": {
        "colab": {
          "base_uri": "https://localhost:8080/"
        },
        "id": "EOYzwhtOIMh3",
        "outputId": "4e4e05f3-a553-41c5-fd4a-01c207c089bb"
      },
      "source": [
        "x = 78696\n",
        "y = 19332\n",
        "z = 73500\n",
        "g = gcd(x,y)\n",
        "g = gcd(g,z)\n",
        "print('1. 최대공약구는' ,g)\n",
        "\n",
        "g2 = gcd2(x,y)\n",
        "g2 = gcd2(g,z)\n",
        "print('2. 최대공약구는' ,g2)"
      ],
      "execution_count": 9,
      "outputs": [
        {
          "output_type": "stream",
          "name": "stdout",
          "text": [
            "1. 최대공약구는 12\n",
            "2. 최대공약구는 12\n"
          ]
        }
      ]
    }
  ]
}