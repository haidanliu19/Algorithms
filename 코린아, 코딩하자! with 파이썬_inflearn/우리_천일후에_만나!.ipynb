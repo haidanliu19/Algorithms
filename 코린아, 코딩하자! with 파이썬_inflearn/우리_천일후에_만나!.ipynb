{
  "nbformat": 4,
  "nbformat_minor": 0,
  "metadata": {
    "colab": {
      "name": "우리 천일후에 만나!",
      "provenance": [],
      "collapsed_sections": []
    },
    "kernelspec": {
      "name": "python3",
      "display_name": "Python 3"
    },
    "language_info": {
      "name": "python"
    }
  },
  "cells": [
    {
      "cell_type": "code",
      "metadata": {
        "id": "qxiSOv0cYUev"
      },
      "source": [
        "def leapyear(y):\n",
        "    if ((y % 4 == 0 and y % 100 != 0)or y % 400 ==0):\n",
        "        return True\n",
        "    else:\n",
        "        return False\n",
        "\n",
        "def invalidaDay(year, m, d):\n",
        "    numOfDays = 31\n",
        "    if (m in [4,6,9,11]):\n",
        "        numOfDays = 30\n",
        "    if (m ==2):\n",
        "        if(leapyear(year)):\n",
        "            numOfDays =29\n",
        "        else:\n",
        "            numOfDays =28\n",
        "    if (d > numOfDays):\n",
        "        return True\n",
        "    else:\n",
        "        return False"
      ],
      "execution_count": 6,
      "outputs": []
    },
    {
      "cell_type": "code",
      "metadata": {
        "colab": {
          "base_uri": "https://localhost:8080/"
        },
        "id": "aE3tIyAE9YWS",
        "outputId": "4a59e93f-e9cb-4570-b7e1-6ceab2e91c87"
      },
      "source": [
        "year = 2020\n",
        "month = 7\n",
        "day =9\n",
        "n = 1000\n",
        "\n",
        "for _ in range(n): \n",
        "    day += 1\n",
        "    if (invalidaDay(year, month, day)):\n",
        "        day = 1\n",
        "        month +=1\n",
        "        if(month>12):\n",
        "            month = 1\n",
        "            year+=1\n",
        "print(year,month,day)"
      ],
      "execution_count": 7,
      "outputs": [
        {
          "output_type": "stream",
          "name": "stdout",
          "text": [
            "2023 4 5\n"
          ]
        }
      ]
    },
    {
      "cell_type": "code",
      "metadata": {
        "colab": {
          "base_uri": "https://localhost:8080/"
        },
        "id": "5_sPmP_e9Zlo",
        "outputId": "b5eb6f7b-a8ef-474c-f4a2-259c0c14166c"
      },
      "source": [
        "year = 2020\n",
        "month = 7\n",
        "day =9\n",
        "n = 1000\n",
        "import datetime\n",
        "day = datetime.date(year, month, day)\n",
        "theday = day + datetime.timedelta(n)\n",
        "print(theday)"
      ],
      "execution_count": 8,
      "outputs": [
        {
          "output_type": "stream",
          "name": "stdout",
          "text": [
            "2023-04-05\n"
          ]
        }
      ]
    }
  ]
}