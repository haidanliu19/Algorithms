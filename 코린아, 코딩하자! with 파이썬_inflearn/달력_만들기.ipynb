{
  "nbformat": 4,
  "nbformat_minor": 0,
  "metadata": {
    "colab": {
      "name": "달력 만들기",
      "provenance": [],
      "collapsed_sections": []
    },
    "kernelspec": {
      "name": "python3",
      "display_name": "Python 3"
    },
    "language_info": {
      "name": "python"
    }
  },
  "cells": [
    {
      "cell_type": "code",
      "metadata": {
        "colab": {
          "base_uri": "https://localhost:8080/"
        },
        "id": "e6zKFNS_Bzbk",
        "outputId": "55e8c159-97ae-43e3-894f-fbc14719103d"
      },
      "source": [
        "year = 2020\n",
        "month = 7\n",
        "day_of_week = 3\n",
        "\n",
        "print(year, '년',month,'월:')\n",
        "\n",
        "weekdays = ['일','월','화','수','목','금','토']\n",
        "#print(weekdays)\n",
        "for day in weekdays:\n",
        "    print(' ' ,day, end= ' ')\n",
        "\n",
        "print()\n",
        "\n",
        "for _ in range(day_of_week):\n",
        "    print('    ',end = ' ')\n",
        "\n",
        "def leapyear(y):\n",
        "    if ((y % 4 == 0 and y % 100 != 0)or y % 400 ==0):\n",
        "        return True\n",
        "    else:\n",
        "        return False\n",
        "\n",
        "def dayOfMonth(y,m):\n",
        "    numOfDays = 31\n",
        "    if (m in [4,6,9,11]):\n",
        "        numOfDays = 30\n",
        "    if (m ==2):\n",
        "        if(leapyear(year)):\n",
        "            numOfDays =29\n",
        "        else:\n",
        "            numOfDays =28\n",
        "    return numOfDays\n",
        "\n",
        "numOfMonth= dayOfMonth(year,month)\n",
        "for day in range(1, numOfMonth+1):\n",
        "    if (day<10):\n",
        "        print('  ',day, end=' ')\n",
        "    else:\n",
        "        print(' ',day, end=' ')\n",
        "    if ((day_of_week + day) % 7 ==0):\n",
        "        print()\n",
        "\n",
        "print()"
      ],
      "execution_count": 9,
      "outputs": [
        {
          "output_type": "stream",
          "name": "stdout",
          "text": [
            "2020 년 7 월:\n",
            "  일   월   화   수   목   금   토 \n",
            "                  1    2    3    4 \n",
            "   5    6    7    8    9   10   11 \n",
            "  12   13   14   15   16   17   18 \n",
            "  19   20   21   22   23   24   25 \n",
            "  26   27   28   29   30   31 \n"
          ]
        }
      ]
    },
    {
      "cell_type": "code",
      "metadata": {
        "colab": {
          "base_uri": "https://localhost:8080/"
        },
        "id": "TqJe65yiB114",
        "outputId": "f251633a-2c73-49d7-c2c5-7c114a03e23e"
      },
      "source": [
        "def dayOfTheWeek(y,m,d):\n",
        "    t1 = y-(14-m) //12\n",
        "    t2 = t1+(t1//4) - (t1//100) + (t1//400)\n",
        "    t3 = m+12 *((14-m)//12)-2\n",
        "    return (d+t2 +(31*t3 //12)) % 7\n",
        "\n",
        "year = 2020\n",
        "month = 7\n",
        "day = 10\n",
        "print(dayOfTheWeek(year,month,day))"
      ],
      "execution_count": 10,
      "outputs": [
        {
          "output_type": "stream",
          "name": "stdout",
          "text": [
            "5\n"
          ]
        }
      ]
    },
    {
      "cell_type": "code",
      "metadata": {
        "colab": {
          "base_uri": "https://localhost:8080/"
        },
        "id": "LOgmnMzpB3bJ",
        "outputId": "2b2e9396-71ec-491e-a1de-ba305c1a79e3"
      },
      "source": [
        "def printCalendar(y,m):\n",
        "    numOfMonth = dayOfMonth(y,m)\n",
        "    day_of_week = dayOfTheWeek(y,m,1)\n",
        "    print(y,'년',m,'월:')\n",
        "\n",
        "    for day in weekdays:\n",
        "        print(' ',day,end=' ')\n",
        "    print()\n",
        "\n",
        "    \n",
        "    for _ in range(day_of_week):\n",
        "        print('    ',end = ' ')\n",
        "        \n",
        "    for day in range(1, numOfMonth+1):\n",
        "        if (day<10):\n",
        "            print('  ',day, end=' ')\n",
        "        else:\n",
        "            print(' ',day, end=' ')\n",
        "        if ((day_of_week + day) % 7 ==0):\n",
        "            print()\n",
        "    print()\n",
        "year= 2021\n",
        "month = 7\n",
        "printCalendar(year,month)"
      ],
      "execution_count": 11,
      "outputs": [
        {
          "output_type": "stream",
          "name": "stdout",
          "text": [
            "2021 년 7 월:\n",
            "  일   월   화   수   목   금   토 \n",
            "                       1    2    3 \n",
            "   4    5    6    7    8    9   10 \n",
            "  11   12   13   14   15   16   17 \n",
            "  18   19   20   21   22   23   24 \n",
            "  25   26   27   28   29   30   31 \n",
            "\n"
          ]
        }
      ]
    }
  ]
}