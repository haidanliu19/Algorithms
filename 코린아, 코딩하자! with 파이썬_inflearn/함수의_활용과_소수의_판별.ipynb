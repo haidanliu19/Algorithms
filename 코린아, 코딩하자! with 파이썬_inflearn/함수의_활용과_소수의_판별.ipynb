{
  "nbformat": 4,
  "nbformat_minor": 0,
  "metadata": {
    "colab": {
      "name": "함수의 활용과 소수의 판별.ipynb",
      "provenance": [],
      "collapsed_sections": []
    },
    "kernelspec": {
      "name": "python3",
      "display_name": "Python 3"
    },
    "language_info": {
      "name": "python"
    }
  },
  "cells": [
    {
      "cell_type": "code",
      "metadata": {
        "colab": {
          "base_uri": "https://localhost:8080/"
        },
        "id": "stFgY3Pws1CI",
        "outputId": "25cfa0d7-751e-4439-a67c-44f5416b0d85"
      },
      "source": [
        "n = 15\n",
        "is_prime = True\n",
        "for i in range(2,n):\n",
        "    if (n % i ==0):\n",
        "        is_prime = False\n",
        "        break\n",
        "if (is_prime):\n",
        "    print(n,' 은 소수입니다.')\n",
        "else:\n",
        "    print(n,' 은 합성수입니다.')"
      ],
      "execution_count": 10,
      "outputs": [
        {
          "output_type": "stream",
          "name": "stdout",
          "text": [
            "15  은 합성수입니다.\n"
          ]
        }
      ]
    },
    {
      "cell_type": "code",
      "metadata": {
        "colab": {
          "base_uri": "https://localhost:8080/"
        },
        "id": "qrkv6x-yw4a8",
        "outputId": "941405de-d664-42bc-be8b-c98ff07f0470"
      },
      "source": [
        "numbers1= [19,37,47,57,71,83,87]\n",
        "for n in numbers1:\n",
        "    is_prime = True\n",
        "    for i in range(2,n):\n",
        "        if (n % i ==0):\n",
        "            is_prime = False\n",
        "            break\n",
        "    if (is_prime):\n",
        "        print(n,' 은 소수입니다.')\n",
        "    else:\n",
        "        print(n,' 은 합성수입니다.')"
      ],
      "execution_count": 11,
      "outputs": [
        {
          "output_type": "stream",
          "name": "stdout",
          "text": [
            "19  은 소수입니다.\n",
            "37  은 소수입니다.\n",
            "47  은 소수입니다.\n",
            "57  은 합성수입니다.\n",
            "71  은 소수입니다.\n",
            "83  은 소수입니다.\n",
            "87  은 합성수입니다.\n"
          ]
        }
      ]
    },
    {
      "cell_type": "code",
      "metadata": {
        "id": "gM5iqzlLxIly"
      },
      "source": [
        "def isPrime(n):\n",
        "    for i in range(2,n):\n",
        "        if (n % i ==0):\n",
        "            return False\n",
        "    return True"
      ],
      "execution_count": 12,
      "outputs": []
    },
    {
      "cell_type": "code",
      "metadata": {
        "colab": {
          "base_uri": "https://localhost:8080/"
        },
        "id": "AahJelH-xROK",
        "outputId": "247e29dd-9d48-4ebf-e541-ddbd8f98268b"
      },
      "source": [
        "numbers1= [19,37,47,57,71,83,87]\n",
        "for n in numbers1:\n",
        "    if (isPrime(n)):\n",
        "       print(n,' 은 소수입니다.')\n",
        "    else:\n",
        "        print(n,' 은 합성수입니다.') "
      ],
      "execution_count": 14,
      "outputs": [
        {
          "output_type": "stream",
          "name": "stdout",
          "text": [
            "19  은 소수입니다.\n",
            "37  은 소수입니다.\n",
            "47  은 소수입니다.\n",
            "57  은 합성수입니다.\n",
            "71  은 소수입니다.\n",
            "83  은 소수입니다.\n",
            "87  은 합성수입니다.\n"
          ]
        }
      ]
    },
    {
      "cell_type": "code",
      "metadata": {
        "colab": {
          "base_uri": "https://localhost:8080/",
          "height": 366
        },
        "id": "pPBBZrgmxXNQ",
        "outputId": "c8ae68db-0c40-4d3f-983e-0aa749db23da"
      },
      "source": [
        "n = 2147483647\n",
        "\n",
        "if (isPrime(n)):\n",
        "    print(n,' 은 소수입니다.')\n",
        "else:\n",
        "    print(n,' 은 합성수입니다.') "
      ],
      "execution_count": 15,
      "outputs": [
        {
          "output_type": "error",
          "ename": "KeyboardInterrupt",
          "evalue": "ignored",
          "traceback": [
            "\u001b[0;31m---------------------------------------------------------------------------\u001b[0m",
            "\u001b[0;31mKeyboardInterrupt\u001b[0m                         Traceback (most recent call last)",
            "\u001b[0;32m<ipython-input-15-9837e3df7b72>\u001b[0m in \u001b[0;36m<module>\u001b[0;34m()\u001b[0m\n\u001b[1;32m      1\u001b[0m \u001b[0mn\u001b[0m \u001b[0;34m=\u001b[0m \u001b[0;36m2147483647\u001b[0m\u001b[0;34m\u001b[0m\u001b[0;34m\u001b[0m\u001b[0m\n\u001b[1;32m      2\u001b[0m \u001b[0;34m\u001b[0m\u001b[0m\n\u001b[0;32m----> 3\u001b[0;31m \u001b[0;32mif\u001b[0m \u001b[0;34m(\u001b[0m\u001b[0misPrime\u001b[0m\u001b[0;34m(\u001b[0m\u001b[0mn\u001b[0m\u001b[0;34m)\u001b[0m\u001b[0;34m)\u001b[0m\u001b[0;34m:\u001b[0m\u001b[0;34m\u001b[0m\u001b[0;34m\u001b[0m\u001b[0m\n\u001b[0m\u001b[1;32m      4\u001b[0m     \u001b[0mprint\u001b[0m\u001b[0;34m(\u001b[0m\u001b[0mn\u001b[0m\u001b[0;34m,\u001b[0m\u001b[0;34m' 은 소수입니다.'\u001b[0m\u001b[0;34m)\u001b[0m\u001b[0;34m\u001b[0m\u001b[0;34m\u001b[0m\u001b[0m\n\u001b[1;32m      5\u001b[0m \u001b[0;32melse\u001b[0m\u001b[0;34m:\u001b[0m\u001b[0;34m\u001b[0m\u001b[0;34m\u001b[0m\u001b[0m\n",
            "\u001b[0;32m<ipython-input-12-bae3e4b3ee7a>\u001b[0m in \u001b[0;36misPrime\u001b[0;34m(n)\u001b[0m\n\u001b[1;32m      1\u001b[0m \u001b[0;32mdef\u001b[0m \u001b[0misPrime\u001b[0m\u001b[0;34m(\u001b[0m\u001b[0mn\u001b[0m\u001b[0;34m)\u001b[0m\u001b[0;34m:\u001b[0m\u001b[0;34m\u001b[0m\u001b[0;34m\u001b[0m\u001b[0m\n\u001b[1;32m      2\u001b[0m     \u001b[0;32mfor\u001b[0m \u001b[0mi\u001b[0m \u001b[0;32min\u001b[0m \u001b[0mrange\u001b[0m\u001b[0;34m(\u001b[0m\u001b[0;36m2\u001b[0m\u001b[0;34m,\u001b[0m\u001b[0mn\u001b[0m\u001b[0;34m)\u001b[0m\u001b[0;34m:\u001b[0m\u001b[0;34m\u001b[0m\u001b[0;34m\u001b[0m\u001b[0m\n\u001b[0;32m----> 3\u001b[0;31m         \u001b[0;32mif\u001b[0m \u001b[0;34m(\u001b[0m\u001b[0mn\u001b[0m \u001b[0;34m%\u001b[0m \u001b[0mi\u001b[0m \u001b[0;34m==\u001b[0m\u001b[0;36m0\u001b[0m\u001b[0;34m)\u001b[0m\u001b[0;34m:\u001b[0m\u001b[0;34m\u001b[0m\u001b[0;34m\u001b[0m\u001b[0m\n\u001b[0m\u001b[1;32m      4\u001b[0m             \u001b[0;32mreturn\u001b[0m \u001b[0;32mFalse\u001b[0m\u001b[0;34m\u001b[0m\u001b[0;34m\u001b[0m\u001b[0m\n\u001b[1;32m      5\u001b[0m     \u001b[0;32mreturn\u001b[0m \u001b[0;32mTrue\u001b[0m\u001b[0;34m\u001b[0m\u001b[0;34m\u001b[0m\u001b[0m\n",
            "\u001b[0;31mKeyboardInterrupt\u001b[0m: "
          ]
        }
      ]
    },
    {
      "cell_type": "code",
      "metadata": {
        "colab": {
          "base_uri": "https://localhost:8080/"
        },
        "id": "TENkPXfaxfbO",
        "outputId": "09d95776-8b7d-4003-ee04-b57f32e0bd10"
      },
      "source": [
        "import math\n",
        "def isPrime(n):\n",
        "    for i in range(2,math.floor(math.sqrt(n)) + 1):\n",
        "        if (n % i ==0):\n",
        "            return False\n",
        "    return True\n",
        "\n",
        "n = 2147483647\n",
        "\n",
        "if (isPrime(n)):\n",
        "    print(n,' 은 소수입니다.')\n",
        "else:\n",
        "    print(n,' 은 합성수입니다.') "
      ],
      "execution_count": 16,
      "outputs": [
        {
          "output_type": "stream",
          "name": "stdout",
          "text": [
            "2147483647  은 소수입니다.\n"
          ]
        }
      ]
    },
    {
      "cell_type": "code",
      "metadata": {
        "colab": {
          "base_uri": "https://localhost:8080/"
        },
        "id": "L6V540ANxztx",
        "outputId": "4a241112-c6fe-4f1e-d659-b99112dc88f7"
      },
      "source": [
        "import math\n",
        "from math import pi\n",
        "print(pi)\n",
        "print(math.floor(pi))\n",
        "print(math.ceil(pi))\n",
        "print(math.sqrt(pi))"
      ],
      "execution_count": 18,
      "outputs": [
        {
          "output_type": "stream",
          "name": "stdout",
          "text": [
            "3.141592653589793\n",
            "3\n",
            "4\n",
            "1.7724538509055159\n"
          ]
        }
      ]
    },
    {
      "cell_type": "code",
      "metadata": {
        "colab": {
          "base_uri": "https://localhost:8080/"
        },
        "id": "ihwuNi7oyAsf",
        "outputId": "974701fd-f9a2-4690-e4ba-5c5641e2d52c"
      },
      "source": [
        "primes= []\n",
        "for i in range(2,101):\n",
        "    if not isPrime(i):\n",
        "        continue\n",
        "    primes.append(i)\n",
        "\n",
        "print(primes)\n",
        "print(len(primes))"
      ],
      "execution_count": 19,
      "outputs": [
        {
          "output_type": "stream",
          "name": "stdout",
          "text": [
            "[2, 3, 5, 7, 11, 13, 17, 19, 23, 29, 31, 37, 41, 43, 47, 53, 59, 61, 67, 71, 73, 79, 83, 89, 97]\n",
            "25\n"
          ]
        }
      ]
    }
  ]
}