{
  "nbformat": 4,
  "nbformat_minor": 0,
  "metadata": {
    "colab": {
      "name": "로마에서는 로마의 숫자를!",
      "provenance": [],
      "collapsed_sections": []
    },
    "kernelspec": {
      "name": "python3",
      "display_name": "Python 3"
    },
    "language_info": {
      "name": "python"
    }
  },
  "cells": [
    {
      "cell_type": "code",
      "metadata": {
        "colab": {
          "base_uri": "https://localhost:8080/"
        },
        "id": "xzCbj-iPC1V1",
        "outputId": "342c53d1-fbf4-4db1-bd7d-aa911bea6c2e"
      },
      "source": [
        "romanDict = { 1:'I', 5:'V', 10:'X', 50:'L', 100:'C', 500:'D', 1000:'M' }\n",
        "print(romanDict)\n",
        "print(romanDict.keys())\n",
        "print(romanDict.values())\n",
        "print(romanDict.items())\n",
        "for key in romanDict.keys():\n",
        "    print(key, ':', romanDict[key])"
      ],
      "execution_count": null,
      "outputs": [
        {
          "output_type": "stream",
          "name": "stdout",
          "text": [
            "{1: 'I', 5: 'V', 10: 'X', 50: 'L', 100: 'C', 500: 'D', 1000: 'M'}\n",
            "dict_keys([1, 5, 10, 50, 100, 500, 1000])\n",
            "dict_values(['I', 'V', 'X', 'L', 'C', 'D', 'M'])\n",
            "dict_items([(1, 'I'), (5, 'V'), (10, 'X'), (50, 'L'), (100, 'C'), (500, 'D'), (1000, 'M')])\n",
            "1 : I\n",
            "5 : V\n",
            "10 : X\n",
            "50 : L\n",
            "100 : C\n",
            "500 : D\n",
            "1000 : M\n"
          ]
        }
      ]
    },
    {
      "cell_type": "code",
      "metadata": {
        "colab": {
          "base_uri": "https://localhost:8080/"
        },
        "id": "bhNwoU11vBHk",
        "outputId": "f27f8841-989a-42ff-e046-2515a49cc15f"
      },
      "source": [
        "def romanNumber1(n):\n",
        "    str = \"\"\n",
        "    while (n >= 1):\n",
        "        if (n == 9):\n",
        "            str += romanDict[1] + romanDict[10] # I, X\n",
        "            n -= 9\n",
        "        elif (n == 4):\n",
        "            str += romanDict[1] + romanDict[5]\n",
        "            n -= 4\n",
        "        elif (n >= 5):\n",
        "            str += romanDict[5] # v \n",
        "            n -= 5\n",
        "        else:\n",
        "            for _ in range(n):\n",
        "                str += romanDict[1]\n",
        "            n -= n\n",
        "    return str\n",
        "\n",
        "for n in range(1,10):\n",
        "    print(n , \":\", romanNumber1(n))"
      ],
      "execution_count": null,
      "outputs": [
        {
          "output_type": "stream",
          "name": "stdout",
          "text": [
            "1 : I\n",
            "2 : II\n",
            "3 : III\n",
            "4 : IV\n",
            "5 : V\n",
            "6 : VI\n",
            "7 : VII\n",
            "8 : VIII\n",
            "9 : IX\n"
          ]
        }
      ]
    },
    {
      "cell_type": "code",
      "metadata": {
        "colab": {
          "base_uri": "https://localhost:8080/"
        },
        "id": "1v__2GwdxPv-",
        "outputId": "1e6cc442-8b42-46c5-d568-fa9749059d29"
      },
      "source": [
        "def romanNumber2(n):\n",
        "    str = \"\"\n",
        "    while (n >= 50):\n",
        "        if (n == 90):\n",
        "            str += romanDict[10] + romanDict[100] # I, X\n",
        "            n -= 90\n",
        "        else:\n",
        "            str += romanDict[50] \n",
        "            n -= 50\n",
        "    while (n >= 10):\n",
        "        if (n >= 40):\n",
        "            str += romanDict[10] + romanDict[50]\n",
        "            n -= 40\n",
        "        else:\n",
        "            str += romanDict[10]\n",
        "            n-= 10\n",
        "    return str + romanNumber1(n)\n",
        "\n",
        "for n in range(10,100,10):\n",
        "    print(n , \":\", romanNumber2(n))"
      ],
      "execution_count": null,
      "outputs": [
        {
          "output_type": "stream",
          "name": "stdout",
          "text": [
            "10 : X\n",
            "20 : XX\n",
            "30 : XXX\n",
            "40 : XL\n",
            "50 : L\n",
            "60 : LX\n",
            "70 : LXX\n",
            "80 : LXXX\n",
            "90 : XC\n"
          ]
        }
      ]
    },
    {
      "cell_type": "code",
      "metadata": {
        "colab": {
          "base_uri": "https://localhost:8080/"
        },
        "id": "wBbjlAx-xrqC",
        "outputId": "8ec64649-a7ff-4220-cca6-06e0e6903c4a"
      },
      "source": [
        "def romanNumber3(n):\n",
        "    str = \"\"\n",
        "    while (n >= 1000):\n",
        "        str += romanDict[1000]\n",
        "        n -= 1000\n",
        "\n",
        "    while (n >= 500):\n",
        "        if (n >= 900):\n",
        "            str += romanDict[100] + romanDict[1000]\n",
        "            n -= 90\n",
        "        else:\n",
        "            str += romanDict[50]\n",
        "            n-= 500\n",
        "\n",
        "    while (n >= 100):\n",
        "        if (n >= 400):\n",
        "            str += romanDict[100] + romanDict[500]\n",
        "            n -= 400\n",
        "        else:\n",
        "            str += romanDict[100]\n",
        "            n-= 100\n",
        "    return str + romanNumber2(n)\n",
        "\n",
        "for n in range(100,1000,100):\n",
        "    print(n , \":\", romanNumber3(n))"
      ],
      "execution_count": null,
      "outputs": [
        {
          "output_type": "stream",
          "name": "stdout",
          "text": [
            "100 : C\n",
            "200 : CC\n",
            "300 : CCC\n",
            "400 : CD\n",
            "500 : L\n",
            "600 : LC\n",
            "700 : LCC\n",
            "800 : LCCC\n",
            "900 : CMLCCCX\n"
          ]
        }
      ]
    }
  ]
}