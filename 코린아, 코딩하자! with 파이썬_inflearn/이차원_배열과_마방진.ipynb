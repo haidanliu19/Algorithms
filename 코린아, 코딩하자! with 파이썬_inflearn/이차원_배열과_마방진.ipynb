{
  "nbformat": 4,
  "nbformat_minor": 0,
  "metadata": {
    "colab": {
      "name": "이차원 배열과 마방진.ipynb",
      "provenance": [],
      "collapsed_sections": []
    },
    "kernelspec": {
      "name": "python3",
      "display_name": "Python 3"
    },
    "language_info": {
      "name": "python"
    }
  },
  "cells": [
    {
      "cell_type": "code",
      "metadata": {
        "colab": {
          "base_uri": "https://localhost:8080/"
        },
        "id": "1SXWuNRHAfRW",
        "outputId": "019663bc-6b0b-4452-bbeb-689538d6016e"
      },
      "source": [
        "magicSquare = [\n",
        "               [1,14,14,4],\n",
        "               [11,17,6,9],\n",
        "               [8,10,10,5],\n",
        "               [13,2,3,15]\n",
        "]\n",
        "\n",
        "print(magicSquare[2][3])\n",
        "magicSquare[1] = [3,4,3,4]\n",
        "print(magicSquare)\n",
        "for i in range(len(magicSquare)):\n",
        "    print(magicSquare[i])"
      ],
      "execution_count": 14,
      "outputs": [
        {
          "output_type": "stream",
          "name": "stdout",
          "text": [
            "5\n",
            "[[1, 14, 14, 4], [3, 4, 3, 4], [8, 10, 10, 5], [13, 2, 3, 15]]\n",
            "[1, 14, 14, 4]\n",
            "[3, 4, 3, 4]\n",
            "[8, 10, 10, 5]\n",
            "[13, 2, 3, 15]\n"
          ]
        }
      ]
    },
    {
      "cell_type": "code",
      "metadata": {
        "colab": {
          "base_uri": "https://localhost:8080/"
        },
        "id": "Ntb0CQ4_A-EZ",
        "outputId": "977bc724-cee9-4ebb-bd36-109685bff8a4"
      },
      "source": [
        "magicSquare = [\n",
        "               [1,14,14,4],\n",
        "               [11,17,6,9],\n",
        "               [8,10,10,5],\n",
        "               [13,2,3,15]\n",
        "]\n",
        "\n",
        "def checkRow(square):\n",
        "    for row in range(len(square)):\n",
        "        sum = 0\n",
        "        for col in range(len(square)):\n",
        "            sum += square[row][col]\n",
        "        print(sum, end= ' ')\n",
        "    print()\n",
        "    \n",
        "checkRow(magicSquare)"
      ],
      "execution_count": 17,
      "outputs": [
        {
          "output_type": "stream",
          "name": "stdout",
          "text": [
            "33 43 33 33 \n"
          ]
        }
      ]
    },
    {
      "cell_type": "code",
      "metadata": {
        "colab": {
          "base_uri": "https://localhost:8080/"
        },
        "id": "faeUqH7zBQPB",
        "outputId": "953fbb47-06c2-4be7-90d8-54251e14ac1a"
      },
      "source": [
        "def checkColumn(square):\n",
        "    for col in range(len(square)):\n",
        "        sum = 0\n",
        "        for row in range(len(square)):\n",
        "            sum += square[row][col]\n",
        "        print(sum, end= ' ')\n",
        "    print()\n",
        "    \n",
        "checkColumn(magicSquare)"
      ],
      "execution_count": 18,
      "outputs": [
        {
          "output_type": "stream",
          "name": "stdout",
          "text": [
            "33 43 33 33 \n"
          ]
        }
      ]
    },
    {
      "cell_type": "code",
      "metadata": {
        "colab": {
          "base_uri": "https://localhost:8080/"
        },
        "id": "sw7yBwSRBdt9",
        "outputId": "31350eb4-21c8-4bc0-ecd9-4ecf5fb98fc5"
      },
      "source": [
        "def checkDiagnal(square):\n",
        "    sum = 0\n",
        "    for d in range(len(square)):\n",
        "        sum += square[d][d]\n",
        "    print(sum, end= ' ')\n",
        "    sum = 0\n",
        "    for d in range(len(square)):\n",
        "        d2 = len(square) -1 -d\n",
        "        sum += square[d2][d2]\n",
        "    print(sum)\n",
        "\n",
        "checkDiagnal(magicSquare)"
      ],
      "execution_count": 20,
      "outputs": [
        {
          "output_type": "stream",
          "name": "stdout",
          "text": [
            "43 43\n"
          ]
        }
      ]
    },
    {
      "cell_type": "code",
      "metadata": {
        "colab": {
          "base_uri": "https://localhost:8080/"
        },
        "id": "zFzmi0jAB7Rf",
        "outputId": "c13c586e-bac4-4d65-b1b4-bf2ed74d1273"
      },
      "source": [
        "def checkMagic(square):\n",
        "    magic = 0\n",
        "    for i in range(len(square)):\n",
        "        magic += square[0][i]\n",
        "    for i in range(len(square)):\n",
        "        rsum = 0\n",
        "        csum = 0\n",
        "        for j in range(len(square)):\n",
        "            rsum += square[i][j]\n",
        "            csum += square[j][i]\n",
        "        if ( rsum != magic or csum != magic):\n",
        "            return False\n",
        "        \n",
        "    dsum = 0\n",
        "    d2sum = 0\n",
        "    for d in range(len(square)):\n",
        "        d2 = len(square) -1 -d\n",
        "        dsum += square[d][d]\n",
        "        d2sum += square[d2][d2]\n",
        "    if ( dsum != magic or d2sum != magic):\n",
        "        return False\n",
        "    return True\n",
        "\n",
        "print(checkMagic(magicSquare))"
      ],
      "execution_count": 21,
      "outputs": [
        {
          "output_type": "stream",
          "name": "stdout",
          "text": [
            "False\n"
          ]
        }
      ]
    },
    {
      "cell_type": "code",
      "metadata": {
        "id": "VARh-5iuC1jO"
      },
      "source": [
        "'''\n",
        "def makeMagicSquare(n):\n",
        "    square = [[0] * n for _ in range(n)]\n",
        "    row = 0\n",
        "    col = n //2\n",
        "    for k in range(1, n *n +1)\n",
        "\n",
        "    return square\n",
        "\n",
        "magicSquare = makeMagicSquare(5)\n",
        "for row in magicSquare:\n",
        "    print(row)\n",
        "'''"
      ],
      "execution_count": null,
      "outputs": []
    }
  ]
}