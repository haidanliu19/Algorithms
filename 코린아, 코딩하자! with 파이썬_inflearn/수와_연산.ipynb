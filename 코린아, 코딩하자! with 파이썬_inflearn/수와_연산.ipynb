{
  "nbformat": 4,
  "nbformat_minor": 0,
  "metadata": {
    "colab": {
      "name": "수와 연산.ipynb",
      "provenance": [],
      "collapsed_sections": []
    },
    "kernelspec": {
      "name": "python3",
      "display_name": "Python 3"
    },
    "language_info": {
      "name": "python"
    }
  },
  "cells": [
    {
      "cell_type": "code",
      "metadata": {
        "colab": {
          "base_uri": "https://localhost:8080/"
        },
        "id": "-PSVB2mnNUXb",
        "outputId": "80160847-7fb8-4ccb-a8a3-f25e711dd3c7"
      },
      "source": [
        "print(2-3-7)\n",
        "print((-11)+8)\n",
        "print(0.3+(-0.8))\n",
        "print(-(2/3) + (3/4))"
      ],
      "execution_count": 4,
      "outputs": [
        {
          "output_type": "stream",
          "name": "stdout",
          "text": [
            "-8\n",
            "-3\n",
            "-0.5\n",
            "0.08333333333333337\n"
          ]
        }
      ]
    },
    {
      "cell_type": "markdown",
      "metadata": {
        "id": "y8aQRLEATker"
      },
      "source": [
        "연산자 operator"
      ]
    },
    {
      "cell_type": "code",
      "metadata": {
        "id": "DVzoJPmXTmeF"
      },
      "source": [
        ""
      ],
      "execution_count": 6,
      "outputs": []
    },
    {
      "cell_type": "code",
      "metadata": {
        "colab": {
          "base_uri": "https://localhost:8080/"
        },
        "id": "OQDij66jTmlu",
        "outputId": "3da6b3c2-dfe6-4c7a-ae26-ed64da18b5d0"
      },
      "source": [
        "print((3+2j) * (4-3j))\n",
        "print(((4+3j)**2) -  (4-3j)**2)"
      ],
      "execution_count": 8,
      "outputs": [
        {
          "output_type": "stream",
          "name": "stdout",
          "text": [
            "(18-1j)\n",
            "48j\n"
          ]
        }
      ]
    },
    {
      "cell_type": "code",
      "metadata": {
        "colab": {
          "base_uri": "https://localhost:8080/"
        },
        "id": "e28ya28hUVDt",
        "outputId": "c2206a42-ca08-448b-adfb-4be83406b6a2"
      },
      "source": [
        "div,mod = divmod(25763198,128)\n",
        "div,mod "
      ],
      "execution_count": 9,
      "outputs": [
        {
          "output_type": "execute_result",
          "data": {
            "text/plain": [
              "(201274, 126)"
            ]
          },
          "metadata": {},
          "execution_count": 9
        }
      ]
    }
  ]
}