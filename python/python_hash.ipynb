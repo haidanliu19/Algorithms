{
  "nbformat": 4,
  "nbformat_minor": 0,
  "metadata": {
    "colab": {
      "name": "python hash.ipynb",
      "provenance": [],
      "collapsed_sections": []
    },
    "kernelspec": {
      "name": "python3",
      "display_name": "Python 3"
    },
    "language_info": {
      "name": "python"
    }
  },
  "cells": [
    {
      "cell_type": "markdown",
      "metadata": {
        "id": "Tt4aWKGWJtdO"
      },
      "source": [
        "hash[hash 동영상](https://www.youtube.com/watch?v=VqQ22spGPM4)"
      ]
    },
    {
      "cell_type": "code",
      "metadata": {
        "colab": {
          "base_uri": "https://localhost:8080/"
        },
        "id": "Kjh1LCB_Jpi_",
        "outputId": "d53536b3-0dec-4944-e628-acd3ef37f150"
      },
      "source": [
        "h1 = hash(1)\n",
        "# 전달 한 값의 hash값을 전달\n",
        "h1"
      ],
      "execution_count": 17,
      "outputs": [
        {
          "output_type": "execute_result",
          "data": {
            "text/plain": [
              "1"
            ]
          },
          "metadata": {},
          "execution_count": 17
        }
      ]
    },
    {
      "cell_type": "code",
      "metadata": {
        "colab": {
          "base_uri": "https://localhost:8080/"
        },
        "id": "TIvVYIa8Ff2P",
        "outputId": "4ea175ea-4191-4614-b93a-9ba30ea52ac4"
      },
      "source": [
        "h1 = hash('a')\n",
        "h1"
      ],
      "execution_count": 19,
      "outputs": [
        {
          "output_type": "execute_result",
          "data": {
            "text/plain": [
              "-1096218333452733557"
            ]
          },
          "metadata": {},
          "execution_count": 19
        }
      ]
    },
    {
      "cell_type": "markdown",
      "metadata": {
        "id": "T05ZZnntKGfZ"
      },
      "source": [
        "hash값은 항상 변한다. \n",
        "\n",
        "python diction에 사용할 때 자주 사용한다."
      ]
    },
    {
      "cell_type": "code",
      "metadata": {
        "colab": {
          "base_uri": "https://localhost:8080/"
        },
        "id": "MfWZQ5eKKBbB",
        "outputId": "226ef24e-493b-45f5-bf45-a2f0a14775ef"
      },
      "source": [
        "# 프로그래머스  완주하지 못한 선수 다른 사람 풀이 \n",
        "participant = [\"leo\", \"kiki\", \"eden\"]\n",
        "completion = [\"eden\", \"kiki\"]\n",
        "dic = {}\n",
        "dic_1 = {}\n",
        "for part in participant:\n",
        "    dic[hash(part)] = part\n",
        "\n",
        "for comp in completion:\n",
        "    dic_1[hash(comp)] = comp    \n",
        "\n",
        "print(dic)\n",
        "print(dic_1)"
      ],
      "execution_count": 33,
      "outputs": [
        {
          "output_type": "stream",
          "name": "stdout",
          "text": [
            "{-8167894325267722540: 'leo', -5065138153031449713: 'kiki', -4426819875415625491: 'eden'}\n",
            "{-4426819875415625491: 'eden', -5065138153031449713: 'kiki'}\n"
          ]
        }
      ]
    },
    {
      "cell_type": "code",
      "metadata": {
        "colab": {
          "base_uri": "https://localhost:8080/"
        },
        "id": "9QukHrFSMKII",
        "outputId": "c62e63d8-fa88-4cbd-af58-0775055504da"
      },
      "source": [
        "participant = [\"mislav\", \"stanko\", \"mislav\", \"ana\"]\n",
        "completion = [\"stanko\", \"ana\", \"mislav\"]\n",
        "dic = {}\n",
        "dic_1 = {}\n",
        "temp = 0\n",
        "for part in participant:\n",
        "    dic[hash(part)] = part\n",
        "    temp+= hash(part)\n",
        "\n",
        "for comp in completion:\n",
        "    dic_1[hash(comp)] = comp    \n",
        "    temp-=hash(comp)\n",
        "\n",
        "for key,value in dic.items():\n",
        "    print(\"dic::\", key,value)\n",
        "\n",
        "print(dic)\n",
        "print(dic_1)"
      ],
      "execution_count": 39,
      "outputs": [
        {
          "output_type": "stream",
          "name": "stdout",
          "text": [
            "dic:: 4178518257563016813 mislav\n",
            "dic:: -6221826274409846116 stanko\n",
            "dic:: 3896821219188714804 ana\n",
            "{4178518257563016813: 'mislav', -6221826274409846116: 'stanko', 3896821219188714804: 'ana'}\n",
            "{-6221826274409846116: 'stanko', 3896821219188714804: 'ana', 4178518257563016813: 'mislav'}\n"
          ]
        }
      ]
    }
  ]
}