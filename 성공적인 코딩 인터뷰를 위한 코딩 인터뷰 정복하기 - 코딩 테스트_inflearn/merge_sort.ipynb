{
  "nbformat": 4,
  "nbformat_minor": 0,
  "metadata": {
    "colab": {
      "name": "merge sort.ipynb",
      "provenance": [],
      "collapsed_sections": []
    },
    "kernelspec": {
      "name": "python3",
      "display_name": "Python 3"
    },
    "language_info": {
      "name": "python"
    }
  },
  "cells": [
    {
      "cell_type": "code",
      "execution_count": 38,
      "metadata": {
        "colab": {
          "base_uri": "https://localhost:8080/"
        },
        "id": "QzSAk5XjkhuP",
        "outputId": "21635c8d-0aef-44ae-be61-605f779bbde4"
      },
      "outputs": [
        {
          "output_type": "stream",
          "name": "stdout",
          "text": [
            "0 0 [6] [2]\n",
            "0 0 [4] [1]\n",
            "0 0 [2, 6] [1, 4]\n",
            "0 1 [2, 6] [1, 4]\n",
            "1 1 [2, 6] [1, 4]\n",
            "0 0 [3] [7]\n",
            "0 0 [5] [8]\n",
            "0 0 [3, 7] [5, 8]\n",
            "1 0 [3, 7] [5, 8]\n",
            "1 1 [3, 7] [5, 8]\n",
            "0 0 [1, 2, 4, 6] [3, 5, 7, 8]\n",
            "1 0 [1, 2, 4, 6] [3, 5, 7, 8]\n",
            "2 0 [1, 2, 4, 6] [3, 5, 7, 8]\n",
            "2 1 [1, 2, 4, 6] [3, 5, 7, 8]\n",
            "3 1 [1, 2, 4, 6] [3, 5, 7, 8]\n",
            "3 2 [1, 2, 4, 6] [3, 5, 7, 8]\n",
            "[1, 2, 3, 4, 5, 6, 7, 8]\n"
          ]
        }
      ],
      "source": [
        "arr = [6, 2, 4, 1, 3, 7, 5, 8]\n",
        "\n",
        "def mergeSort(arr):\n",
        "    if len(arr) > 1:\n",
        "        mid = len(arr) // 2\n",
        "        lefthalf = arr[:mid]\n",
        "        righthalf = arr[mid:]\n",
        "\n",
        "        mergeSort(lefthalf)\n",
        "        mergeSort(righthalf)\n",
        "\n",
        "        # 정렬해서 비교하기\n",
        "        i, j, k = 0, 0, 0\n",
        "        while i < len(lefthalf) and j < len(righthalf):\n",
        "            if lefthalf[i] < righthalf[j]:\n",
        "                arr[k] = lefthalf[i]\n",
        "                i = i + 1\n",
        "            else:\n",
        "                arr[k] = righthalf[j]\n",
        "                j = j + 1\n",
        "            k = k + 1\n",
        "        \n",
        "        while i < len(lefthalf):\n",
        "            arr[k] = lefthalf[i]\n",
        "            i += 1\n",
        "            k += 1\n",
        "        \n",
        "        while j < len(righthalf):\n",
        "            arr[k] = righthalf[j]\n",
        "            j += 1\n",
        "            k += 1\n",
        "\n",
        "\n",
        "mergeSort(arr)            \n",
        "print(arr)"
      ]
    },
    {
      "cell_type": "markdown",
      "source": [
        "[출처](https://www.daleseo.com/sort-merge/)"
      ],
      "metadata": {
        "id": "isYPvPvJs-Ex"
      }
    },
    {
      "cell_type": "code",
      "source": [
        "def merge_sort(arr):\n",
        "    if len(arr) < 2:\n",
        "        return arr\n",
        "\n",
        "    mid = len(arr) // 2\n",
        "    low_arr = merge_sort(arr[:mid])\n",
        "    high_arr = merge_sort(arr[mid:])\n",
        "\n",
        "    merged_arr = []\n",
        "    l = h = 0\n",
        "    while l < len(low_arr) and h < len(high_arr):\n",
        "        if low_arr[l] < high_arr[h]:\n",
        "            merged_arr.append(low_arr[l])\n",
        "            l += 1\n",
        "        else:\n",
        "            merged_arr.append(high_arr[h])\n",
        "            h += 1\n",
        "    \n",
        "    merged_arr += low_arr[l:]\n",
        "    merged_arr += high_arr[h:]\n",
        "\n",
        "    return merged_arr\n",
        "\n",
        "arr = [6, 2, 4, 1, 3, 7, 5, 8]       \n",
        "print(merge_sort(arr)  )"
      ],
      "metadata": {
        "colab": {
          "base_uri": "https://localhost:8080/"
        },
        "id": "x16IVBaToLIn",
        "outputId": "88f38a75-5aed-4355-bd38-6ae1a81b68f2"
      },
      "execution_count": 43,
      "outputs": [
        {
          "output_type": "stream",
          "name": "stdout",
          "text": [
            "[1, 2, 3, 4, 5, 6, 7, 8]\n"
          ]
        }
      ]
    }
  ]
}