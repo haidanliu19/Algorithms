{
  "nbformat": 4,
  "nbformat_minor": 0,
  "metadata": {
    "colab": {
      "name": "insertion sort.ipynb",
      "provenance": [],
      "collapsed_sections": []
    },
    "kernelspec": {
      "name": "python3",
      "display_name": "Python 3"
    },
    "language_info": {
      "name": "python"
    }
  },
  "cells": [
    {
      "cell_type": "code",
      "execution_count": 25,
      "metadata": {
        "colab": {
          "base_uri": "https://localhost:8080/"
        },
        "id": "QzSAk5XjkhuP",
        "outputId": "aa6a4512-1fe1-4c2b-cba5-31512bf7ba72"
      },
      "outputs": [
        {
          "output_type": "stream",
          "name": "stdout",
          "text": [
            "[1, 2, 3, 4, 5, 6]\n"
          ]
        }
      ],
      "source": [
        "\n",
        "arr = [4, 6, 1, 3, 5, 2]\n",
        "\n",
        "min_val = 0\n",
        "for i in range(len(arr)):\n",
        "    for j in range(i, 0 ,-1):\n",
        "        if arr[j] < arr[j-1]:\n",
        "            arr[j], arr[j-1] = arr[j-1], arr[j]\n",
        "        else:\n",
        "            break\n",
        "            \n",
        "print(arr)"
      ]
    },
    {
      "cell_type": "code",
      "source": [
        ""
      ],
      "metadata": {
        "id": "x16IVBaToLIn"
      },
      "execution_count": null,
      "outputs": []
    }
  ]
}