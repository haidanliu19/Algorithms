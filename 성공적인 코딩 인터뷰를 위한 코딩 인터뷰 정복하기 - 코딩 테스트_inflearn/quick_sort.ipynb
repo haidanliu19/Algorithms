{
  "nbformat": 4,
  "nbformat_minor": 0,
  "metadata": {
    "colab": {
      "name": "quick sort.ipynb",
      "provenance": [],
      "collapsed_sections": []
    },
    "kernelspec": {
      "name": "python3",
      "display_name": "Python 3"
    },
    "language_info": {
      "name": "python"
    }
  },
  "cells": [
    {
      "cell_type": "code",
      "source": [
        "arr = [8, 13, 2, 6, 1, 4]\n",
        "def quick_sort(arr, start, end):\n",
        "    if start < end:\n",
        "        pivot = partition(arr, start, end)\n",
        "        quick_sort(arr, start, pivot-1)\n",
        "        quick_sort(arr, pivot + 1 , end)\n",
        "    return arr\n",
        "\n",
        "def partition(arr, start, end):\n",
        "    pivot = end\n",
        "    wall = start\n",
        "    left = start\n",
        "\n",
        "    while left < pivot:\n",
        "        if arr[left]< arr[pivot]:\n",
        "            arr[wall], arr[left] = arr[left], arr[wall]\n",
        "            wall += 1\n",
        "        left += 1\n",
        "    arr[wall], arr[pivot] = arr[pivot], arr[wall]\n",
        "    pivot = wall\n",
        "    return pivot\n",
        "\n",
        "quick_sort(arr, 0, len(arr)-1)"
      ],
      "metadata": {
        "colab": {
          "base_uri": "https://localhost:8080/"
        },
        "id": "x16IVBaToLIn",
        "outputId": "53615573-f980-48d4-8b01-8f2652e5f8d6"
      },
      "execution_count": 46,
      "outputs": [
        {
          "output_type": "execute_result",
          "data": {
            "text/plain": [
              "[1, 2, 4, 6, 8, 13]"
            ]
          },
          "metadata": {},
          "execution_count": 46
        }
      ]
    }
  ]
}