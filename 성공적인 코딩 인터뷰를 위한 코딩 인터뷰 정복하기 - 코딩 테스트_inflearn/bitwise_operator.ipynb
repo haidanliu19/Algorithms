{
  "nbformat": 4,
  "nbformat_minor": 0,
  "metadata": {
    "colab": {
      "name": "bitwise operator",
      "provenance": [],
      "collapsed_sections": []
    },
    "kernelspec": {
      "name": "python3",
      "display_name": "Python 3"
    },
    "language_info": {
      "name": "python"
    }
  },
  "cells": [
    {
      "cell_type": "code",
      "source": [
        "a = 60\n",
        "b = 13\n",
        "c = 0\n",
        "\n",
        "print(bin(a))\n",
        "print(bin(b))\n",
        "\n",
        "c = a & b\n",
        "print(c)\n",
        "\n",
        "c = a | b\n",
        "print(c)\n",
        "\n",
        "c = a ^ b  # 00110001\n",
        "print(c)\n",
        "\n",
        "c = ~a\n",
        "print(c)\n",
        "\n",
        "c = a << 2\n",
        "print(c)\n",
        "\n",
        "c = a >> 2\n",
        "print(c)"
      ],
      "metadata": {
        "colab": {
          "base_uri": "https://localhost:8080/"
        },
        "id": "x16IVBaToLIn",
        "outputId": "602f16fc-8c0a-4f8e-cd54-5cd856434051"
      },
      "execution_count": 79,
      "outputs": [
        {
          "output_type": "stream",
          "name": "stdout",
          "text": [
            "0b111100\n",
            "0b1101\n",
            "12\n",
            "61\n",
            "49\n",
            "-61\n",
            "240\n",
            "15\n"
          ]
        }
      ]
    },
    {
      "cell_type": "code",
      "source": [
        ""
      ],
      "metadata": {
        "id": "huNTHtzfB3GE"
      },
      "execution_count": 71,
      "outputs": []
    },
    {
      "cell_type": "code",
      "source": [
        ""
      ],
      "metadata": {
        "id": "ynHN8lnRD2rx"
      },
      "execution_count": null,
      "outputs": []
    }
  ]
}