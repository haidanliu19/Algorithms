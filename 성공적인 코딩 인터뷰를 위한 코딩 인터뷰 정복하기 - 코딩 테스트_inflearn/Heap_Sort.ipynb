{
  "nbformat": 4,
  "nbformat_minor": 0,
  "metadata": {
    "colab": {
      "name": "Heap Sort.ipynb",
      "provenance": [],
      "collapsed_sections": []
    },
    "kernelspec": {
      "name": "python3",
      "display_name": "Python 3"
    },
    "language_info": {
      "name": "python"
    }
  },
  "cells": [
    {
      "cell_type": "code",
      "source": [
        "arr = [7, 6, 5, 4, 2, 1, 3]\n",
        "\n",
        "def heap_sort(a):\n",
        "    def heapify(a, size):\n",
        "        p = (size//2)-1\n",
        "        while p>=0:\n",
        "            siftdown(a, p, size)\n",
        "            p -= 1\n",
        "\n",
        "    def swap(a,i,j):\n",
        "        tmp = a[i]\n",
        "        a[i] = a[j]\n",
        "        a[j] = tmp\n",
        "\n",
        "    def siftdown(a, i, size):\n",
        "        l = 2 * i + 1\n",
        "        r = 2 * i + 2\n",
        "        largest = i\n",
        "        if l <= size-1 and a[l] > a[i]:\n",
        "            largest = l\n",
        "        if r <= size-1 and a[r] > a[largest]:\n",
        "            largest = r\n",
        "        if largest != i:\n",
        "            swap(a, i, largest)\n",
        "            siftdown(a, largest, size)\n",
        "\n",
        "    size = len(a)\n",
        "    heapify(a, size)\n",
        "    end = size-1\n",
        "    while(end > 0):\n",
        "        swap(a, 0, end) # 첫번쨰와 마지막 값을 swap한다.\n",
        "        siftdown(a, 0, end) # 마지막 것을 제외하고 siftdown\n",
        "        # 부모와 자식을 비교하고 자식이 클 경우 siftdown해서 위로 올린다. \n",
        "        end -= 1\n",
        "\n",
        "heap_sort(arr)\n",
        "print(arr)"
      ],
      "metadata": {
        "colab": {
          "base_uri": "https://localhost:8080/"
        },
        "id": "x16IVBaToLIn",
        "outputId": "8da7e013-db8a-4cbe-d15b-89ae1913d0bd"
      },
      "execution_count": 55,
      "outputs": [
        {
          "output_type": "stream",
          "name": "stdout",
          "text": [
            "[1, 2, 3, 4, 5, 6, 7]\n"
          ]
        }
      ]
    }
  ]
}