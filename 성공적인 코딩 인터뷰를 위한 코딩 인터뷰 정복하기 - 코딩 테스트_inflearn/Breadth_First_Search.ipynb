{
  "nbformat": 4,
  "nbformat_minor": 0,
  "metadata": {
    "colab": {
      "name": "Breadth First Search",
      "provenance": [],
      "collapsed_sections": []
    },
    "kernelspec": {
      "name": "python3",
      "display_name": "Python 3"
    },
    "language_info": {
      "name": "python"
    }
  },
  "cells": [
    {
      "cell_type": "code",
      "source": [
        "vertexList = ['0', '1', '2', '3', '4', '5', '6']\n",
        "edgeList = [(0,1),(0,2),(1,0), (1,3),\n",
        "            (2,0), (2,4), (2,5),(3,1),\n",
        "            (4,2), (4,6), (5,2),\n",
        "            (6,4)]\n",
        "#undirect graph\n",
        "ajanceyList = [[] for vertext in vertexList]\n",
        "\n",
        "for edge in edgeList:\n",
        "    ajanceyList[edge[0]].append(edge[1])\n",
        "\n",
        "print(ajanceyList)"
      ],
      "metadata": {
        "colab": {
          "base_uri": "https://localhost:8080/"
        },
        "id": "x16IVBaToLIn",
        "outputId": "7488dc5a-cd0d-45fd-8cc4-d5b586457f3d"
      },
      "execution_count": 70,
      "outputs": [
        {
          "output_type": "stream",
          "name": "stdout",
          "text": [
            "[[1, 2], [0, 3], [0, 4, 5], [1], [2, 6], [2], [4]]\n"
          ]
        }
      ]
    },
    {
      "cell_type": "code",
      "source": [
        "graphs = (vertexList, edgeList)\n",
        "\n",
        "def dfs(graph, start):\n",
        "    vertexList, edgeList = graph\n",
        "    queue = [start]\n",
        "    visitedVertex = []\n",
        "    adjacencyList = [[] for vertex in vertexList]\n",
        "\n",
        "    while queue:\n",
        "        current = queue.pop()\n",
        "        for neighbor in ajanceyList[current]:\n",
        "            if not neighbor in visitedVertex:\n",
        "                queue.insert(0, neighbor)\n",
        "        visitedVertex.append(current)\n",
        "    return visitedVertex\n",
        "\n",
        "print(dfs(graphs, 0))\n",
        "# 반복된 것이 있으면 cycle이 있다. "
      ],
      "metadata": {
        "colab": {
          "base_uri": "https://localhost:8080/"
        },
        "id": "huNTHtzfB3GE",
        "outputId": "63345f57-c748-4d81-9fa9-cdd8bfd52576"
      },
      "execution_count": 71,
      "outputs": [
        {
          "output_type": "stream",
          "name": "stdout",
          "text": [
            "[0, 1, 2, 3, 4, 5, 6]\n"
          ]
        }
      ]
    },
    {
      "cell_type": "code",
      "source": [
        ""
      ],
      "metadata": {
        "id": "ynHN8lnRD2rx"
      },
      "execution_count": null,
      "outputs": []
    }
  ]
}