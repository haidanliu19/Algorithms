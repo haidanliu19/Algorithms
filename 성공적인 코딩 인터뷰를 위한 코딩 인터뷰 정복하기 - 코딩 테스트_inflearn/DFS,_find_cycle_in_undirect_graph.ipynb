{
  "nbformat": 4,
  "nbformat_minor": 0,
  "metadata": {
    "colab": {
      "name": "DFS, find cycle in undirect graph",
      "provenance": [],
      "collapsed_sections": []
    },
    "kernelspec": {
      "name": "python3",
      "display_name": "Python 3"
    },
    "language_info": {
      "name": "python"
    }
  },
  "cells": [
    {
      "cell_type": "code",
      "source": [
        "vertexList = ['0', '1', '2', '3', '4', '5', '6', '7']\n",
        "edgeList = [(0,1),(0,2),(1,0), (1,3),\n",
        "            (2,0), (2,4), (2,5),(4,5),(5,4), (3,1),\n",
        "            (4,2), (4,6), (5,2),\n",
        "            (6,4)]\n",
        "#undirect graph\n",
        "ajanceyList = [[] for vertext in vertexList]\n",
        "\n",
        "for edge in edgeList:\n",
        "    ajanceyList[edge[0]].append(edge[1])\n",
        "\n",
        "print(ajanceyList)"
      ],
      "metadata": {
        "colab": {
          "base_uri": "https://localhost:8080/"
        },
        "id": "x16IVBaToLIn",
        "outputId": "b8d16b4e-c245-4de9-ecc2-3ea84bf04d46"
      },
      "execution_count": 68,
      "outputs": [
        {
          "output_type": "stream",
          "name": "stdout",
          "text": [
            "[[1, 2], [0, 3], [0, 4, 5], [1], [5, 2, 6], [4, 2], [4], []]\n"
          ]
        }
      ]
    },
    {
      "cell_type": "code",
      "source": [
        "graphs = (vertexList, edgeList)\n",
        "\n",
        "def dfs(graph, start):\n",
        "    vertexList, edgeList = graph\n",
        "    stack = [start]\n",
        "    visitedVertex = []\n",
        "    adjacencyList = [[] for vertex in vertexList]\n",
        "\n",
        "    while stack:\n",
        "        current = stack.pop()\n",
        "        for neighbor in ajanceyList[current]:\n",
        "            if not neighbor in visitedVertex:\n",
        "                stack.append(neighbor)\n",
        "        visitedVertex.append(current)\n",
        "    return visitedVertex\n",
        "\n",
        "print(dfs(graphs, 0))\n",
        "# 반복된 것이 있으면 cycle이 있다. "
      ],
      "metadata": {
        "colab": {
          "base_uri": "https://localhost:8080/"
        },
        "id": "huNTHtzfB3GE",
        "outputId": "49de6ae8-d55b-4cde-b510-1d7dde106e7f"
      },
      "execution_count": 69,
      "outputs": [
        {
          "output_type": "stream",
          "name": "stdout",
          "text": [
            "[0, 2, 5, 4, 6, 4, 1, 3]\n"
          ]
        }
      ]
    },
    {
      "cell_type": "code",
      "source": [
        ""
      ],
      "metadata": {
        "id": "ynHN8lnRD2rx"
      },
      "execution_count": null,
      "outputs": []
    }
  ]
}