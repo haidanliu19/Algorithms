{
  "nbformat": 4,
  "nbformat_minor": 0,
  "metadata": {
    "colab": {
      "name": "Bubble Sort.ipynb",
      "provenance": []
    },
    "kernelspec": {
      "name": "python3",
      "display_name": "Python 3"
    },
    "language_info": {
      "name": "python"
    }
  },
  "cells": [
    {
      "cell_type": "code",
      "execution_count": 5,
      "metadata": {
        "colab": {
          "base_uri": "https://localhost:8080/"
        },
        "id": "QzSAk5XjkhuP",
        "outputId": "96688e3a-faf1-4f60-da7b-bd067eb569b9"
      },
      "outputs": [
        {
          "output_type": "stream",
          "name": "stdout",
          "text": [
            "[1, 3, 5, 6]\n"
          ]
        }
      ],
      "source": [
        "array = [6, 5, 3, 1]\n",
        "\n",
        "for i in range(len(array)-1):\n",
        "    for j in range(len(array)-1):\n",
        "        if array[j+1] < array[j] :\n",
        "            array[j+1], array[j] = array[j], array[j+1]\n",
        "\n",
        "print(array)"
      ]
    },
    {
      "cell_type": "code",
      "source": [
        ""
      ],
      "metadata": {
        "id": "cxuHi6Htk8gN"
      },
      "execution_count": null,
      "outputs": []
    }
  ]
}