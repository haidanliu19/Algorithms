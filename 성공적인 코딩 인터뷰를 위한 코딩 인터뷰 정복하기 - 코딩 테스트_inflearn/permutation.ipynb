{
  "nbformat": 4,
  "nbformat_minor": 0,
  "metadata": {
    "colab": {
      "name": "permutation",
      "provenance": [],
      "collapsed_sections": []
    },
    "kernelspec": {
      "name": "python3",
      "display_name": "Python 3"
    },
    "language_info": {
      "name": "python"
    }
  },
  "cells": [
    {
      "cell_type": "code",
      "source": [
        "def perm(input, i):\n",
        "    if i == len(input) - 1:\n",
        "        print(input)\n",
        "    else:\n",
        "        for j in range(i, len(input)):\n",
        "            input[i], input[j] = input[j], input[i]\n",
        "            perm(input, i+1)\n",
        "            input[i], input[j] = input[j], input[i]\n",
        "perm(['A', 'B', 'C'], 0)"
      ],
      "metadata": {
        "colab": {
          "base_uri": "https://localhost:8080/"
        },
        "id": "x16IVBaToLIn",
        "outputId": "84c24caa-270c-4fa2-8e36-9b6cb759fb4c"
      },
      "execution_count": 73,
      "outputs": [
        {
          "output_type": "stream",
          "name": "stdout",
          "text": [
            "['A', 'B', 'C']\n",
            "['A', 'C', 'B']\n",
            "['B', 'A', 'C']\n",
            "['B', 'C', 'A']\n",
            "['C', 'B', 'A']\n",
            "['C', 'A', 'B']\n"
          ]
        }
      ]
    },
    {
      "cell_type": "code",
      "source": [
        ""
      ],
      "metadata": {
        "id": "huNTHtzfB3GE"
      },
      "execution_count": 71,
      "outputs": []
    },
    {
      "cell_type": "code",
      "source": [
        ""
      ],
      "metadata": {
        "id": "ynHN8lnRD2rx"
      },
      "execution_count": null,
      "outputs": []
    }
  ]
}