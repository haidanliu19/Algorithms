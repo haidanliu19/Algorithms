{
  "nbformat": 4,
  "nbformat_minor": 0,
  "metadata": {
    "colab": {
      "name": "Depth First Search",
      "provenance": [],
      "collapsed_sections": []
    },
    "kernelspec": {
      "name": "python3",
      "display_name": "Python 3"
    },
    "language_info": {
      "name": "python"
    }
  },
  "cells": [
    {
      "cell_type": "code",
      "source": [
        "vertexList = ['0', '1', '2', '3', '4', '5', '6', '7']\n",
        "edgeList = [(0,1),(0,2),(1,0), (1,3),\n",
        "            (2,0), (2,4), (2,5), (3,1),\n",
        "            (4,2), (4,6), (5,2),\n",
        "            (6,4)]\n",
        "#undirect graph\n",
        "ajanceyList = [[] for vertext in vertexList]\n",
        "\n",
        "for edge in edgeList:\n",
        "    ajanceyList[edge[0]].append(edge[1])\n",
        "\n",
        "print(ajanceyList)"
      ],
      "metadata": {
        "colab": {
          "base_uri": "https://localhost:8080/"
        },
        "id": "x16IVBaToLIn",
        "outputId": "2e084fa8-46e3-4a6e-f78c-8ad879fc6b69"
      },
      "execution_count": 61,
      "outputs": [
        {
          "output_type": "stream",
          "name": "stdout",
          "text": [
            "[[1, 2], [0, 3], [0, 4, 5], [1], [2, 6], [2], [4], []]\n"
          ]
        }
      ]
    },
    {
      "cell_type": "code",
      "source": [
        "graphs = (vertexList, edgeList)\n",
        "\n",
        "def dfs(graph, start):\n",
        "    vertexList, edgeList = graph\n",
        "    stack = [start]\n",
        "    visitedVertex = []\n",
        "    adjacencyList = [[] for vertex in vertexList]\n",
        "\n",
        "    while stack:\n",
        "        current = stack.pop()\n",
        "        for neighbor in ajanceyList[current]:\n",
        "            if not neighbor in visitedVertex:\n",
        "                stack.append(neighbor)\n",
        "        visitedVertex.append(current)\n",
        "    return visitedVertex\n",
        "\n",
        "print(dfs(graphs, 0))"
      ],
      "metadata": {
        "colab": {
          "base_uri": "https://localhost:8080/"
        },
        "id": "huNTHtzfB3GE",
        "outputId": "f219895d-e096-4f4e-e9f0-40cb45986fbe"
      },
      "execution_count": 62,
      "outputs": [
        {
          "output_type": "stream",
          "name": "stdout",
          "text": [
            "[0, 2, 5, 4, 6, 1, 3]\n"
          ]
        }
      ]
    }
  ]
}