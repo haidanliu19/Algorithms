{
  "nbformat": 4,
  "nbformat_minor": 0,
  "metadata": {
    "colab": {
      "name": "selection sort.ipynb",
      "provenance": [],
      "collapsed_sections": []
    },
    "kernelspec": {
      "name": "python3",
      "display_name": "Python 3"
    },
    "language_info": {
      "name": "python"
    }
  },
  "cells": [
    {
      "cell_type": "code",
      "execution_count": 7,
      "metadata": {
        "colab": {
          "base_uri": "https://localhost:8080/"
        },
        "id": "QzSAk5XjkhuP",
        "outputId": "cbd5cd0e-9b1d-446d-80d5-fd05b775b2ec"
      },
      "outputs": [
        {
          "output_type": "stream",
          "name": "stdout",
          "text": [
            "[1, 2, 3, 4, 5, 6]\n"
          ]
        }
      ],
      "source": [
        "\n",
        "arr = [4, 6, 1, 3, 5, 2]\n",
        "\n",
        "min_val = 0\n",
        "for i in range(len(arr)-1):\n",
        "    idx_min = i\n",
        "    for j in range(i+1, len(arr)):\n",
        "        if arr[j] < arr[idx_min]:\n",
        "            idx_min = j\n",
        "    if idx_min is not i:\n",
        "        arr[idx_min], arr[i] = arr[i], arr[idx_min]\n",
        "print(arr)"
      ]
    },
    {
      "cell_type": "code",
      "source": [
        "def selection_sort(arr):\n",
        "    for i in range(len(arr)-1):\n",
        "        idx_min = i\n",
        "        for j in range(i+1, len(arr)):\n",
        "            if arr[j] < arr[idx_min]:\n",
        "                idx_min = j\n",
        "        if idx_min is not i:\n",
        "            arr[idx_min], arr[i] = arr[i], arr[idx_min]\n",
        "    return arr"
      ],
      "metadata": {
        "id": "tqdXswCGngEO"
      },
      "execution_count": 8,
      "outputs": []
    },
    {
      "cell_type": "code",
      "source": [
        "import unittest\n",
        "\n",
        "class unit_test(unittest.TestCase):\n",
        "    def test(self):\n",
        "        self.assertEqual([1, 2, 3, 4, 5, 6], selection_sort([4, 6, 1, 3, 5, 2]))\n",
        "        self.assertEqual([1, 2, 3, 4, 5, 6], selection_sort([6, 4, 3, 1, 2, 5]))\n",
        "        self.assertEqual([1, 2, 3, 4, 5, 6], selection_sort([6, 5, 4, 3, 2, 1]))\n",
        "\n",
        "test = unit_test()\n",
        "test.test()"
      ],
      "metadata": {
        "id": "cxuHi6Htk8gN"
      },
      "execution_count": 23,
      "outputs": []
    },
    {
      "cell_type": "code",
      "source": [
        "!python -m unittest"
      ],
      "metadata": {
        "colab": {
          "base_uri": "https://localhost:8080/"
        },
        "id": "1GerzK1WoA7s",
        "outputId": "a4ec2d47-bcad-4944-896f-be3d624afa4d"
      },
      "execution_count": 22,
      "outputs": [
        {
          "output_type": "stream",
          "name": "stdout",
          "text": [
            "\n",
            "----------------------------------------------------------------------\n",
            "Ran 0 tests in 0.000s\n",
            "\n",
            "OK\n"
          ]
        }
      ]
    },
    {
      "cell_type": "code",
      "source": [
        ""
      ],
      "metadata": {
        "id": "x16IVBaToLIn"
      },
      "execution_count": null,
      "outputs": []
    }
  ]
}