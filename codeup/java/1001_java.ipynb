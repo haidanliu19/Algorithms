{
  "nbformat": 4,
  "nbformat_minor": 0,
  "metadata": {
    "colab": {
      "name": "1001_java.ipynb",
      "provenance": [],
      "collapsed_sections": []
    },
    "kernelspec": {
      "name": "python3",
      "display_name": "Python 3"
    },
    "language_info": {
      "name": "python"
    }
  },
  "cells": [
    {
      "cell_type": "markdown",
      "metadata": {
        "id": "usrPjzeEbTBW"
      },
      "source": [
        "\n",
        "[codup](https://codeup.kr/problem.php?id=1001)"
      ]
    },
    {
      "cell_type": "code",
      "metadata": {
        "colab": {
          "base_uri": "https://localhost:8080/"
        },
        "id": "tLbiWa7vahIi",
        "outputId": "5fab8a90-69d2-46a8-d21e-d092b330cba5"
      },
      "source": [
        "public class Main {\n",
        "    public static void main(String[] args) {\n",
        "        System.out.println(\"Hello\");\n",
        "    }\n",
        "}"
      ],
      "execution_count": 1,
      "outputs": [
        {
          "output_type": "stream",
          "name": "stdout",
          "text": [
            "문장\n"
          ]
        }
      ]
    }
  ]
}