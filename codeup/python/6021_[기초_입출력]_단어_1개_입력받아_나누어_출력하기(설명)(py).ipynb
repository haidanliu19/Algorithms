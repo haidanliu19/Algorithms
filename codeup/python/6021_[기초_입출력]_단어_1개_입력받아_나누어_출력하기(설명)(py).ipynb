{
  "nbformat": 4,
  "nbformat_minor": 0,
  "metadata": {
    "colab": {
      "name": "6021 : [기초-입출력] 단어 1개 입력받아 나누어 출력하기(설명)(py).ipynb",
      "provenance": [],
      "collapsed_sections": []
    },
    "kernelspec": {
      "name": "python3",
      "display_name": "Python 3"
    },
    "language_info": {
      "name": "python"
    }
  },
  "cells": [
    {
      "cell_type": "markdown",
      "source": [
        "출처 : 코드업"
      ],
      "metadata": {
        "id": "IXo9WGYd8Mbl"
      }
    },
    {
      "cell_type": "code",
      "execution_count": 4,
      "metadata": {
        "colab": {
          "base_uri": "https://localhost:8080/"
        },
        "id": "5gf7U0B68IfQ",
        "outputId": "6e6fb110-179c-4f15-9d66-464df61ba4af"
      },
      "outputs": [
        {
          "output_type": "stream",
          "name": "stdout",
          "text": [
            "Hello\n",
            "H\n",
            "e\n",
            "l\n",
            "l\n",
            "o\n"
          ]
        }
      ],
      "source": [
        "s = input()\n",
        "for i in s:\n",
        "    print(i)"
      ]
    },
    {
      "cell_type": "code",
      "source": [
        ""
      ],
      "metadata": {
        "id": "uZHa5i1cuRwI"
      },
      "execution_count": null,
      "outputs": []
    },
    {
      "cell_type": "code",
      "source": [
        ""
      ],
      "metadata": {
        "id": "nacYG3J6tDEm"
      },
      "execution_count": null,
      "outputs": []
    }
  ]
}