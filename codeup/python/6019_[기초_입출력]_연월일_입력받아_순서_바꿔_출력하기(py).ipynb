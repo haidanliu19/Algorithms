{
  "nbformat": 4,
  "nbformat_minor": 0,
  "metadata": {
    "colab": {
      "name": "6019 : [기초-입출력] 연월일 입력받아 순서 바꿔 출력하기(py).ipynb",
      "provenance": [],
      "collapsed_sections": []
    },
    "kernelspec": {
      "name": "python3",
      "display_name": "Python 3"
    },
    "language_info": {
      "name": "python"
    }
  },
  "cells": [
    {
      "cell_type": "markdown",
      "source": [
        "출처 : 코드업"
      ],
      "metadata": {
        "id": "IXo9WGYd8Mbl"
      }
    },
    {
      "cell_type": "code",
      "execution_count": 2,
      "metadata": {
        "colab": {
          "base_uri": "https://localhost:8080/"
        },
        "id": "5gf7U0B68IfQ",
        "outputId": "ac22d2d5-122b-423e-8e9f-7af04cf9c7db"
      },
      "outputs": [
        {
          "output_type": "stream",
          "name": "stdout",
          "text": [
            "2020.3.4\n",
            "4-3-2020\n"
          ]
        }
      ],
      "source": [
        "y, m, d = input().split('.')\n",
        "print(d, m, y, sep = \"-\")"
      ]
    },
    {
      "cell_type": "code",
      "source": [
        ""
      ],
      "metadata": {
        "id": "uZHa5i1cuRwI"
      },
      "execution_count": null,
      "outputs": []
    },
    {
      "cell_type": "code",
      "source": [
        ""
      ],
      "metadata": {
        "id": "nacYG3J6tDEm"
      },
      "execution_count": null,
      "outputs": []
    }
  ]
}