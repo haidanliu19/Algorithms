{
  "nbformat": 4,
  "nbformat_minor": 0,
  "metadata": {
    "colab": {
      "name": "6023 : [기초-입출력] 시분초 입력받아 분만 출력하기(py).ipynb",
      "provenance": [],
      "collapsed_sections": []
    },
    "kernelspec": {
      "name": "python3",
      "display_name": "Python 3"
    },
    "language_info": {
      "name": "python"
    }
  },
  "cells": [
    {
      "cell_type": "markdown",
      "source": [
        "출처 : 코드업"
      ],
      "metadata": {
        "id": "IXo9WGYd8Mbl"
      }
    },
    {
      "cell_type": "code",
      "execution_count": 6,
      "metadata": {
        "colab": {
          "base_uri": "https://localhost:8080/"
        },
        "id": "5gf7U0B68IfQ",
        "outputId": "ebd0b750-1f74-4320-f320-736f2766756e"
      },
      "outputs": [
        {
          "output_type": "stream",
          "name": "stdout",
          "text": [
            "17:23:57\n",
            "23\n"
          ]
        }
      ],
      "source": [
        "s = input().split(':')\n",
        "print(s[1])"
      ]
    },
    {
      "cell_type": "code",
      "source": [
        ""
      ],
      "metadata": {
        "id": "uZHa5i1cuRwI"
      },
      "execution_count": null,
      "outputs": []
    },
    {
      "cell_type": "code",
      "source": [
        ""
      ],
      "metadata": {
        "id": "nacYG3J6tDEm"
      },
      "execution_count": null,
      "outputs": []
    }
  ]
}