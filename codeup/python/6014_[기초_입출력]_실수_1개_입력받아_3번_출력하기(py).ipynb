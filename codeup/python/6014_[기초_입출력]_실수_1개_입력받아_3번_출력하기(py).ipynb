{
  "nbformat": 4,
  "nbformat_minor": 0,
  "metadata": {
    "colab": {
      "name": "6014 : [기초-입출력] 실수 1개 입력받아 3번 출력하기(py).ipynb",
      "provenance": [],
      "collapsed_sections": []
    },
    "kernelspec": {
      "name": "python3",
      "display_name": "Python 3"
    },
    "language_info": {
      "name": "python"
    }
  },
  "cells": [
    {
      "cell_type": "markdown",
      "source": [
        "출처 : 코드업"
      ],
      "metadata": {
        "id": "IXo9WGYd8Mbl"
      }
    },
    {
      "cell_type": "code",
      "execution_count": 12,
      "metadata": {
        "colab": {
          "base_uri": "https://localhost:8080/"
        },
        "id": "5gf7U0B68IfQ",
        "outputId": "4f4999a0-bf3f-477c-97d7-cb560b29f2a0"
      },
      "outputs": [
        {
          "output_type": "stream",
          "name": "stdout",
          "text": [
            "0.1\n",
            "0.1\n",
            "0.1\n",
            "0.1\n"
          ]
        }
      ],
      "source": [
        "a = float(input())\n",
        "print(a)\n",
        "print(a)\n",
        "print(a)"
      ]
    },
    {
      "cell_type": "code",
      "source": [
        "a = float(input())\n",
        "for i in range(3):\n",
        "    print(a)"
      ],
      "metadata": {
        "colab": {
          "base_uri": "https://localhost:8080/"
        },
        "id": "-ncSaogb8VbW",
        "outputId": "40ffb002-b6a1-4895-ec07-e17e90cf2ea8"
      },
      "execution_count": 13,
      "outputs": [
        {
          "output_type": "stream",
          "name": "stdout",
          "text": [
            "0.1\n",
            "0.1\n",
            "0.1\n",
            "0.1\n"
          ]
        }
      ]
    }
  ]
}