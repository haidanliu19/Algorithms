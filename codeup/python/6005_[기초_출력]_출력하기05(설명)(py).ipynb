{
  "nbformat": 4,
  "nbformat_minor": 0,
  "metadata": {
    "colab": {
      "name": "6005 : [기초-출력] 출력하기05(설명)(py).ipynb",
      "provenance": [],
      "collapsed_sections": []
    },
    "kernelspec": {
      "name": "python3",
      "display_name": "Python 3"
    },
    "language_info": {
      "name": "python"
    }
  },
  "cells": [
    {
      "cell_type": "markdown",
      "metadata": {
        "id": "usrPjzeEbTBW"
      },
      "source": [
        "\n",
        "[codup](https://codeup.kr/problem.php?id=1004)"
      ]
    },
    {
      "cell_type": "code",
      "metadata": {
        "colab": {
          "base_uri": "https://localhost:8080/"
        },
        "id": "tLbiWa7vahIi",
        "outputId": "4123bfdf-0467-4b88-cc8f-86f912e4e15d"
      },
      "source": [
        "print('\"Hello World\"') "
      ],
      "execution_count": 5,
      "outputs": [
        {
          "output_type": "stream",
          "name": "stdout",
          "text": [
            "\"Hello World\"\n"
          ]
        }
      ]
    }
  ]
}