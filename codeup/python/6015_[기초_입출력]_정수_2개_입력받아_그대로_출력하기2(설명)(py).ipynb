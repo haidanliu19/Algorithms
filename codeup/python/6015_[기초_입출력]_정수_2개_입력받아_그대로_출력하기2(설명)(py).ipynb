{
  "nbformat": 4,
  "nbformat_minor": 0,
  "metadata": {
    "colab": {
      "name": "6015 : [기초-입출력] 정수 2개 입력받아 그대로 출력하기2(설명)(py).ipynb",
      "provenance": [],
      "collapsed_sections": []
    },
    "kernelspec": {
      "name": "python3",
      "display_name": "Python 3"
    },
    "language_info": {
      "name": "python"
    }
  },
  "cells": [
    {
      "cell_type": "markdown",
      "source": [
        "출처 : 코드업"
      ],
      "metadata": {
        "id": "IXo9WGYd8Mbl"
      }
    },
    {
      "cell_type": "code",
      "execution_count": 14,
      "metadata": {
        "colab": {
          "base_uri": "https://localhost:8080/"
        },
        "id": "5gf7U0B68IfQ",
        "outputId": "2bc8caf3-3943-4a1b-c405-97aaa1455889"
      },
      "outputs": [
        {
          "output_type": "stream",
          "name": "stdout",
          "text": [
            "1 2\n",
            "1\n",
            "2\n"
          ]
        }
      ],
      "source": [
        "a, b = input().split()\n",
        "a, b = int(a), int(b)\n",
        "print(a)\n",
        "print(b)"
      ]
    }
  ]
}