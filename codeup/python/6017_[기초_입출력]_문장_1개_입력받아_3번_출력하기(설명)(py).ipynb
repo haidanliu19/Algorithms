{
  "nbformat": 4,
  "nbformat_minor": 0,
  "metadata": {
    "colab": {
      "name": "6017 : [기초-입출력] 문장 1개 입력받아 3번 출력하기(설명)(py).ipynb",
      "provenance": [],
      "collapsed_sections": []
    },
    "kernelspec": {
      "name": "python3",
      "display_name": "Python 3"
    },
    "language_info": {
      "name": "python"
    }
  },
  "cells": [
    {
      "cell_type": "markdown",
      "source": [
        "출처 : 코드업"
      ],
      "metadata": {
        "id": "IXo9WGYd8Mbl"
      }
    },
    {
      "cell_type": "code",
      "execution_count": 4,
      "metadata": {
        "colab": {
          "base_uri": "https://localhost:8080/"
        },
        "id": "5gf7U0B68IfQ",
        "outputId": "6570593d-a55d-4179-cec0-f56638dd7c2f"
      },
      "outputs": [
        {
          "output_type": "stream",
          "name": "stdout",
          "text": [
            "computer science\n",
            "computer science computer science computer science\n"
          ]
        }
      ],
      "source": [
        "a = input()\n",
        "print(a ,a, a)"
      ]
    },
    {
      "cell_type": "code",
      "source": [
        ""
      ],
      "metadata": {
        "id": "nacYG3J6tDEm"
      },
      "execution_count": null,
      "outputs": []
    }
  ]
}