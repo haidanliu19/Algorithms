{
  "nbformat": 4,
  "nbformat_minor": 0,
  "metadata": {
    "colab": {
      "name": "디스크 컨트롤러.ipynb",
      "provenance": [],
      "collapsed_sections": []
    },
    "kernelspec": {
      "name": "python3",
      "display_name": "Python 3"
    },
    "language_info": {
      "name": "python"
    }
  },
  "cells": [
    {
      "cell_type": "markdown",
      "source": [
        "출처 : 프로그래머스"
      ],
      "metadata": {
        "id": "Tg1SFmLB-DSI"
      }
    },
    {
      "cell_type": "code",
      "execution_count": 76,
      "metadata": {
        "colab": {
          "base_uri": "https://localhost:8080/"
        },
        "id": "NJRll8kt-CZa",
        "outputId": "a9e86b20-7240-4bc8-c44c-0f475e50eac0"
      },
      "outputs": [
        {
          "output_type": "execute_result",
          "data": {
            "text/plain": [
              "9"
            ]
          },
          "metadata": {},
          "execution_count": 76
        }
      ],
      "source": [
        "import heapq\n",
        "\n",
        "def solution(jobs):\n",
        "    answer = 0\n",
        "    # [작업이 요청되는 시점, 작업의 소요시간]\n",
        "    heapq.heapify(jobs)\n",
        "    jobs_sort = sorted(jobs , key=lambda x : (x[1]))\n",
        "    \n",
        "    start = 0\n",
        "    while jobs_sort:\n",
        "        for idx, val in enumerate(jobs_sort):\n",
        "            if jobs_sort[idx][0] <= start:\n",
        "                start += jobs_sort[idx][1]\n",
        "                answer += start - jobs_sort[idx][0]\n",
        "                jobs_sort.pop(idx)\n",
        "                break\n",
        "\n",
        "            if idx == len(jobs_sort) - 1:\n",
        "                start += 1\n",
        "\n",
        "    return answer // len(jobs)\n",
        "\n",
        "jobs = \t[[0, 3], [1, 9], [2, 6]]\n",
        "solution(jobs)\n",
        "# 테스트 20 만 성공"
      ]
    },
    {
      "cell_type": "code",
      "source": [
        ""
      ],
      "metadata": {
        "id": "xOUtFNjnNT-N"
      },
      "execution_count": null,
      "outputs": []
    },
    {
      "cell_type": "markdown",
      "source": [
        "[참고사이트](https://codermun-log.tistory.com/305)"
      ],
      "metadata": {
        "id": "v3XZsIJoNDc2"
      }
    },
    {
      "cell_type": "code",
      "source": [
        ""
      ],
      "metadata": {
        "id": "2_b0rAkDNBKH"
      },
      "execution_count": null,
      "outputs": []
    }
  ]
}