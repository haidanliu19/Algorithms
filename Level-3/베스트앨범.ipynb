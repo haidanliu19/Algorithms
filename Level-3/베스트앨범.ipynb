{
  "nbformat": 4,
  "nbformat_minor": 0,
  "metadata": {
    "colab": {
      "name": "베스트앨범.ipynb",
      "provenance": [],
      "collapsed_sections": []
    },
    "kernelspec": {
      "name": "python3",
      "display_name": "Python 3"
    },
    "language_info": {
      "name": "python"
    }
  },
  "cells": [
    {
      "cell_type": "markdown",
      "source": [
        "https://programmers.co.kr/learn/courses/30/lessons/42579?language=python3"
      ],
      "metadata": {
        "id": "NBF3ZFEBDDl3"
      }
    },
    {
      "cell_type": "code",
      "source": [
        "def solution(genres, plays):\n",
        "    answer = []\n",
        "    dic = {}\n",
        "    for idx, genre in enumerate(genres):\n",
        "        dic[genre] = dic.get(genre, 0) + plays[idx]\n",
        "    #sorted(d.items(), key=lambda x: x[1], reverse=True)\n",
        "    dic  = sorted(dic.items(), key = lambda x: x[1], reverse= True)\n",
        "    #['pop', 'classic']\n",
        "    genre_play = list(enumerate(list(zip(genres, plays))))\n",
        "    # [(0, ('classic', 500)), (1, ('pop', 600)), (2, ('classic', 150)), (3, ('classic', 800)), (4, ('pop', 2500))]\n",
        "    genre_play.sort( key = lambda x: x[1], reverse = True )\n",
        "    # [(4, ('pop', 2500)), (1, ('pop', 600)), (3, ('classic', 800)), (0, ('classic', 500)), (2, ('classic', 150))]\n",
        "    #print(genre_play)\n",
        "    \n",
        "    for key, value in dic:\n",
        "        count = 0\n",
        "        for (idx, (genre, play)) in genre_play:\n",
        "            if genre == key:\n",
        "                answer.append(idx)\n",
        "                count += 1\n",
        "                if count >= 2:\n",
        "                    break\n",
        "    return answer\n",
        "\n",
        "genres = [\"classic\", \"pop\", \"classic\", \"classic\", \"pop\"]\n",
        "plays = [500, 600, 150, 800, 600]\n",
        "assert solution(genres, plays) == [3, 0, 1, 4], solution(genres, plays)"
      ],
      "metadata": {
        "colab": {
          "base_uri": "https://localhost:8080/"
        },
        "id": "4TPevqshNioB",
        "outputId": "cee3725e-c77c-4fa1-938b-6693d4056b92"
      },
      "execution_count": 178,
      "outputs": [
        {
          "output_type": "stream",
          "name": "stdout",
          "text": [
            "['pop', 'classic']\n"
          ]
        }
      ]
    },
    {
      "cell_type": "code",
      "source": [
        "def solution(genres, plays):\n",
        "    answer = []\n",
        "    dic = {}\n",
        "    for idx, genre in enumerate(genres):\n",
        "        dic[genre] = dic.get(genre, 0) + plays[idx]\n",
        "    #sorted(d.items(), key=lambda x: x[1], reverse=True)\n",
        "    dic  = sorted(dic.keys(), key = lambda x: x[1], reverse= True)\n",
        "    #['pop', 'classic']\n",
        "    genre_play = list(enumerate(list(zip(genres, plays))))\n",
        "    # [(0, ('classic', 500)), (1, ('pop', 600)), (2, ('classic', 150)), (3, ('classic', 800)), (4, ('pop', 2500))]\n",
        "    genre_play.sort( key = lambda x: x[1], reverse = True )\n",
        "    # [(4, ('pop', 2500)), (1, ('pop', 600)), (3, ('classic', 800)), (0, ('classic', 500)), (2, ('classic', 150))]\n",
        "    #print(genre_play)\n",
        "    \n",
        "    for key in dic:\n",
        "        count = 0\n",
        "        for (idx, (genre, play)) in genre_play:\n",
        "            if genre == key:\n",
        "                answer.append(idx)\n",
        "                count += 1\n",
        "                if count >= 2:\n",
        "                    break\n",
        "    return answer\n",
        "\n",
        "genres = [\"classic\", \"pop\", \"classic\", \"classic\", \"pop\"]\n",
        "plays = [500, 600, 150, 800, 2500]\n",
        "solution(genres, plays)\n",
        "# 3번, 4번 , 15번 만 통과하였다. "
      ],
      "metadata": {
        "colab": {
          "base_uri": "https://localhost:8080/"
        },
        "id": "cBSm7RKlJGjv",
        "outputId": "e9e8a314-068c-413a-da64-677b60edbd25"
      },
      "execution_count": 158,
      "outputs": [
        {
          "output_type": "execute_result",
          "data": {
            "text/plain": [
              "[4, 1, 3, 0]"
            ]
          },
          "metadata": {},
          "execution_count": 158
        }
      ]
    },
    {
      "cell_type": "code",
      "execution_count": 99,
      "metadata": {
        "colab": {
          "base_uri": "https://localhost:8080/"
        },
        "id": "Zsp-VE50DCco",
        "outputId": "0b119b89-4c93-44d5-bfd8-9847d996b7b7"
      },
      "outputs": [
        {
          "output_type": "execute_result",
          "data": {
            "text/plain": [
              "[4, 1, 3, 0]"
            ]
          },
          "metadata": {},
          "execution_count": 99
        }
      ],
      "source": [
        "def solution(genres, plays):\n",
        "    answer = []\n",
        "    dic = {}\n",
        "    for idx, genre in enumerate(genres):\n",
        "        dic[genre] = dic.get(genre, 0) + plays[idx]\n",
        "    #sorted(d.items(), key=lambda x: x[1], reverse=True)\n",
        "    dic  = sorted(dic.keys(), key = lambda x: x[1], reverse= True)\n",
        "    result = []\n",
        "    for i, key in enumerate(dic):\n",
        "        for idx, genre in enumerate(genres):\n",
        "            if key == genre:\n",
        "                if len(result[i*2: ]) > 0 and max(result[i*2: ]) < plays[idx]:\n",
        "                    answer.insert(i*2 , idx)\n",
        "                    result.insert(i*2 ,plays[idx])\n",
        "                else:\n",
        "                    answer.append(idx)\n",
        "                    result.append(plays[idx])\n",
        "            if len(answer) > (i * 2 + 2):            \n",
        "                answer.pop()\n",
        "                result.pop()\n",
        "            \n",
        "    return answer\n",
        "\n",
        "genres = [\"classic\", \"pop\", \"classic\", \"classic\", \"pop\"]\n",
        "plays = [500, 600, 150, 800, 2500]\n",
        "solution(genres, plays)\n",
        "# 3번 만 통과하였다. "
      ]
    },
    {
      "cell_type": "markdown",
      "source": [
        "다른 사람 풀이"
      ],
      "metadata": {
        "id": "M4CCGXMkQU9f"
      }
    },
    {
      "cell_type": "code",
      "source": [
        "def solution(genres, plays):\n",
        "    answer = []\n",
        "    dic = {}\n",
        "    album_list = []\n",
        "    \n",
        "    for i in range(len(genres)):\n",
        "        dic[genres[i]] = dic.get(genres[i], 0) + plays[i]\n",
        "        albs = album(genres[i], plays[i], i)\n",
        "        album_list.append(albs)\n",
        "        print(albs[0])\n",
        "   \n",
        "    dic = sorted(dic.items(), key=lambda dic:dic[1], reverse=True)\n",
        "    album_list = sorted(album_list, reverse=True)\n",
        "\n",
        "\n",
        "\n",
        "    while len(dic) > 0:\n",
        "        play_genre = dic.pop(0)\n",
        "        #print(play_genre)\n",
        "        cnt = 0;\n",
        "        for ab in album_list:\n",
        "            if play_genre[0] == ab.genre:\n",
        "                answer.append(ab.track)\n",
        "                cnt += 1\n",
        "            if cnt == 2:\n",
        "                break\n",
        "\n",
        "    return answer\n",
        "\n",
        "class album:\n",
        "    def __init__(self, genre, play, track):\n",
        "        self.genre = genre\n",
        "        self.play = play\n",
        "        self.track = track\n",
        "\n",
        "    def __lt__(self, other):\n",
        "        return self.play < other.play\n",
        "    def __le__(self, other):\n",
        "        return self.play <= other.play\n",
        "    def __gt__(self, other):\n",
        "        return self.play > other.play\n",
        "    def __ge__(self, other):\n",
        "        return self.play >= other.play\n",
        "    def __eq__(self, other):\n",
        "        return self.play == other.play\n",
        "    def __ne__(self, other):\n",
        "        return self.play != other.play\n",
        "    def __getitem__(self, index):\n",
        "        return (self.genre, self.play, self.track)\n",
        "\n",
        "genres = [\"classic\", \"pop\", \"classic\", \"classic\", \"pop\"]\n",
        "plays = [500, 600, 150, 800, 2500]\n",
        "solution(genres, plays)"
      ],
      "metadata": {
        "colab": {
          "base_uri": "https://localhost:8080/"
        },
        "id": "5FTHWmoN-o55",
        "outputId": "a08464c9-de27-48bc-8b6b-66f2b59d1318"
      },
      "execution_count": 200,
      "outputs": [
        {
          "output_type": "stream",
          "name": "stdout",
          "text": [
            "('classic', 500, 0)\n",
            "('pop', 600, 1)\n",
            "('classic', 150, 2)\n",
            "('classic', 800, 3)\n",
            "('pop', 2500, 4)\n"
          ]
        },
        {
          "output_type": "execute_result",
          "data": {
            "text/plain": [
              "[4, 1, 3, 0]"
            ]
          },
          "metadata": {},
          "execution_count": 200
        }
      ]
    }
  ]
}