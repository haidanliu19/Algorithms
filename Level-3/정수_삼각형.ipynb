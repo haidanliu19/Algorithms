{
  "nbformat": 4,
  "nbformat_minor": 0,
  "metadata": {
    "colab": {
      "name": "정수 삼각형.ipynb",
      "provenance": [],
      "collapsed_sections": []
    },
    "kernelspec": {
      "name": "python3",
      "display_name": "Python 3"
    },
    "language_info": {
      "name": "python"
    }
  },
  "cells": [
    {
      "cell_type": "code",
      "execution_count": 16,
      "metadata": {
        "colab": {
          "base_uri": "https://localhost:8080/"
        },
        "id": "_mz2L9A2GL-7",
        "outputId": "29aed66e-0dd2-4659-e3e2-e3e7199f4796"
      },
      "outputs": [
        {
          "output_type": "execute_result",
          "data": {
            "text/plain": [
              "30"
            ]
          },
          "metadata": {},
          "execution_count": 16
        }
      ],
      "source": [
        "def solution(triangle):\n",
        "    answer = 0\n",
        "    for i_idx in range(1, len(triangle)):\n",
        "        for j_idx, j_val in enumerate(triangle[i_idx]):\n",
        "            #  가장 왼쪽일 경우 \n",
        "            if j_idx == 0:\n",
        "                triangle[i_idx][j_idx] +=  triangle[i_idx-1][j_idx]\n",
        "            elif j_idx == (len(triangle[i_idx]) - 1):\n",
        "                triangle[i_idx][j_idx] +=  triangle[i_idx-1][j_idx-1] \n",
        "            else:\n",
        "                triangle[i_idx][j_idx] +=  max(triangle[i_idx-1][j_idx-1] ,\n",
        "                                            triangle[i_idx-1][j_idx] )\n",
        "    answer = max(triangle[-1])\n",
        "    return answer\n",
        "\n",
        "triangle = [[7], [3, 8], [8, 1, 0], [2, 7, 4, 4], [4, 5, 2, 6, 5]]\n",
        "solution(triangle)"
      ]
    },
    {
      "cell_type": "code",
      "source": [
        "triangle = [[7], [3, 8], [8, 1, 0], [2, 7, 4, 4], [4, 5, 2, 6, 5]]\n",
        "\n",
        "for i_idx in range(1, len(triangle)):\n",
        "    for j_idx, j_val in enumerate(triangle[i_idx]):\n",
        "        #  가장 왼쪽일 경우 \n",
        "        if j_idx == 0:\n",
        "           triangle[i_idx][j_idx] +=  triangle[i_idx-1][j_idx]\n",
        "        elif j_idx == (len(triangle[i_idx]) - 1):\n",
        "           triangle[i_idx][j_idx] +=  triangle[i_idx-1][j_idx-1] \n",
        "        else:\n",
        "           triangle[i_idx][j_idx] +=  max(triangle[i_idx-1][j_idx-1] ,\n",
        "                                          triangle[i_idx-1][j_idx] )  \n",
        "print(max(triangle[-1]))"
      ],
      "metadata": {
        "colab": {
          "base_uri": "https://localhost:8080/"
        },
        "id": "qg_iBrSAHOv5",
        "outputId": "5f9e0300-8a5b-454d-ffc5-2001c7808720"
      },
      "execution_count": 15,
      "outputs": [
        {
          "output_type": "stream",
          "name": "stdout",
          "text": [
            "30\n"
          ]
        }
      ]
    }
  ]
}