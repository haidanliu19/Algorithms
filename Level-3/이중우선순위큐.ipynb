{
  "nbformat": 4,
  "nbformat_minor": 0,
  "metadata": {
    "colab": {
      "name": "이중우선순위큐.ipynb",
      "provenance": [],
      "collapsed_sections": []
    },
    "kernelspec": {
      "name": "python3",
      "display_name": "Python 3"
    },
    "language_info": {
      "name": "python"
    }
  },
  "cells": [
    {
      "cell_type": "markdown",
      "source": [
        "출처 : 프로그래머스"
      ],
      "metadata": {
        "id": "Tg1SFmLB-DSI"
      }
    },
    {
      "cell_type": "code",
      "execution_count": 49,
      "metadata": {
        "colab": {
          "base_uri": "https://localhost:8080/"
        },
        "id": "NJRll8kt-CZa",
        "outputId": "0ef769aa-7134-483a-b0fe-72a456d4cfd9"
      },
      "outputs": [
        {
          "output_type": "stream",
          "name": "stdout",
          "text": [
            "[0, 0]\n",
            "[333, -45]\n"
          ]
        }
      ],
      "source": [
        "def solution(operations):\n",
        "    answer = []\n",
        "    operations_after = []\n",
        "    for operation in operations:\n",
        "        opr, number = operation.split(\" \")\n",
        "        if opr == \"I\":\n",
        "            operations_after.append(int(number))\n",
        "        elif opr == \"D\" and number == \"-1\" and len(operations_after) > 0:\n",
        "            operations_after.remove(min(operations_after))\n",
        "        elif opr == \"D\" and number == \"1\" and len(operations_after) > 0:\n",
        "            operations_after.remove(max(operations_after))\n",
        "    opr_max = 0\n",
        "    opr_min = 0\n",
        "    if len(operations_after) >= 2:\n",
        "        opr_max, opr_min = max(operations_after), min(operations_after)\n",
        "    elif len(operations_after) == 1:\n",
        "        if max(operations_after) < opr_max:\n",
        "            opr_min = max(operations_after)\n",
        "        else:\n",
        "            opr_max = max(operations_after)\n",
        "    answer.append(opr_max)\n",
        "    answer.append(opr_min)\n",
        "    return answer\n",
        "\n",
        "#operations = [\"I 16\",\"D 1\"]\n",
        "operations = [\"I 16\", \"I -5643\", \"D -1\", \"D 1\", \"D 1\", \"I 123\", \"D -1\"]\n",
        "print(solution(operations))\n",
        "#operations= [\"I 7\",\"I 5\",\"I -5\",\"D -1\"]\n",
        "operations = \t[\"I -45\", \"I 653\", \"D 1\", \"I -642\", \"I 45\", \"I 97\", \"D 1\", \"D -1\", \"I 333\"]\n",
        "print(solution(operations))"
      ]
    },
    {
      "cell_type": "code",
      "source": [
        ""
      ],
      "metadata": {
        "id": "xOUtFNjnNT-N"
      },
      "execution_count": null,
      "outputs": []
    },
    {
      "cell_type": "code",
      "source": [
        ""
      ],
      "metadata": {
        "id": "2_b0rAkDNBKH"
      },
      "execution_count": null,
      "outputs": []
    }
  ]
}