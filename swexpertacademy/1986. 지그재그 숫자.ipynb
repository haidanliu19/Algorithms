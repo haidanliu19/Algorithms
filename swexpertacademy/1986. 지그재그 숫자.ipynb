{
 "cells": [
  {
   "cell_type": "code",
   "execution_count": 8,
   "metadata": {},
   "outputs": [
    {
     "name": "stdout",
     "output_type": "stream",
     "text": [
      "2\n",
      "5\n",
      "1 3\n",
      "6\n",
      "2 -3\n"
     ]
    }
   ],
   "source": [
    "T = int(input())\n",
    "for test_case in range(1, T + 1):\n",
    "    number = int(input())\n",
    "    result = 0\n",
    "    for i in range(1, number+ 1):\n",
    "        result += -i if i % 2 == 0 else i\n",
    "    print(f\"#{test_case} {result}\")"
   ]
  },
  {
   "cell_type": "code",
   "execution_count": 6,
   "metadata": {},
   "outputs": [
    {
     "name": "stdout",
     "output_type": "stream",
     "text": [
      " 3\n"
     ]
    }
   ],
   "source": [
    "number = 5\n",
    "result = 0\n",
    "for i in range(1, number+ 1):\n",
    "    result += -i if i % 2 == 0 else i\n",
    "print(f\" {result}\")"
   ]
  }
 ],
 "metadata": {
  "kernelspec": {
   "display_name": "Python 3",
   "language": "python",
   "name": "python3"
  },
  "language_info": {
   "codemirror_mode": {
    "name": "ipython",
    "version": 3
   },
   "file_extension": ".py",
   "mimetype": "text/x-python",
   "name": "python",
   "nbconvert_exporter": "python",
   "pygments_lexer": "ipython3",
   "version": "3.6.9"
  }
 },
 "nbformat": 4,
 "nbformat_minor": 4
}
