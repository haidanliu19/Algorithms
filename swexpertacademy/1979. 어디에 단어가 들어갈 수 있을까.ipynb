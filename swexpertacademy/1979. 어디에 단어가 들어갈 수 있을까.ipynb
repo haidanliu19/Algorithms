{
  "nbformat": 4,
  "nbformat_minor": 0,
  "metadata": {
    "colab": {
      "name": "어디에 단어가 들어갈 수 있을까.ipynb",
      "provenance": [],
      "collapsed_sections": []
    },
    "kernelspec": {
      "name": "python3",
      "display_name": "Python 3"
    },
    "language_info": {
      "name": "python"
    }
  },
  "cells": [
    {
      "cell_type": "markdown",
      "source": [
        "[SW Expert Academy](https://swexpertacademy.com/main/code/problem/problemDetail.do?contestProbId=AV5PyTLqAf4DFAUq)"
      ],
      "metadata": {
        "id": "iYTDPWGS6b2D"
      }
    },
    {
      "cell_type": "code",
      "source": [
        "T = int(input())\n",
        "# 여러개의 테스트 케이스가 주어지므로, 각각을 처리합니다.\n",
        "for test_case in range(1, T + 1):\n",
        "    # ///////////////////////////////////////////////////////////////////////////////////\n",
        "    N, k = map(int, input().split())\n",
        "    grids = []\n",
        "    for i in range(N):\n",
        "        list_ = \"\".join(list(map(str, input().split())))\n",
        "        grids.append(list_)\n",
        "        \n",
        "    value = '1' * k\n",
        "    result = 0\n",
        "    for grid in grids:\n",
        "        grid_1 = grid.replace(value, 'A')\n",
        "        for idx, val in enumerate(grid_1):\n",
        "            if val == 'A':\n",
        "                if (grid_1[idx -1:idx] not in ('1', 'A')) and (grid_1[idx+1: idx+2] not in ('1', 'A')):\n",
        "                    result += 1\n",
        "            #print(idx, grid_1, grid_1[idx -1:idx] , grid_1[idx+1: idx+2])\n",
        "\n",
        "    grids = list(map(list, zip(*grids)))\n",
        "    for grid in grids:\n",
        "        grid_1 = \"\".join(grid)\n",
        "        grid_1 = grid_1.replace(value, 'A')\n",
        "        for idx, val in enumerate(grid_1):\n",
        "            if val == 'A':\n",
        "                if (grid_1[idx -1:idx] not in ('1', 'A')) and (grid_1[idx+1: idx+2] not in ('1', 'A')):\n",
        "                    result += 1\n",
        "           \n",
        "    print(f'#{test_case} {result}')"
      ],
      "metadata": {
        "colab": {
          "base_uri": "https://localhost:8080/"
        },
        "id": "AKdvsjoYGAa-",
        "outputId": "cc6d3d7c-ac08-4b96-9e7c-022e294a1f79"
      },
      "execution_count": null,
      "outputs": [
        {
          "output_type": "stream",
          "name": "stdout",
          "text": [
            "1\n",
            "5 3\n",
            "0 0 1 1 1\n",
            "1 1 1 1 0\n",
            "0 0 1 0 0\n",
            "0 1 1 1 1\n",
            "1 1 1 0 1\n",
            "#1 2\n"
          ]
        }
      ]
    },
    {
      "cell_type": "code",
      "source": [
        "\n",
        "\n",
        "\n",
        "\n",
        "\n",
        "\n",
        "\n"
      ],
      "metadata": {
        "id": "Ba2xcSlnadn7"
      },
      "execution_count": null,
      "outputs": []
    },
    {
      "cell_type": "code",
      "source": [
        "grids = ['11010111', '01010001', '11100101', '01010111', '00010101', '11111100', '01000101', '11101111']\n",
        "k = 3\n",
        "value = '1' * k\n",
        "result = 0\n",
        "for grid in grids:\n",
        "    grid_1 = grid.replace(value, 'A')\n",
        "    for idx, val in enumerate(grid_1):\n",
        "        if val == 'A':\n",
        "            if (grid_1[idx -1:idx] not in ('1', 'A')) and (grid_1[idx+1: idx+2] not in ('1', 'A')):\n",
        "                result += 1\n",
        "            #print(idx, grid_1, grid_1[idx -1:idx] , grid_1[idx+1: idx+2])\n",
        "        \n",
        "    \n",
        "grids = list(map(list, zip(*grids)))\n",
        "for grid in grids:\n",
        "    grid_1 = \"\".join(grid)\n",
        "    grid_1 = grid_1.replace(value, 'A')\n",
        "    for idx, val in enumerate(grid_1):\n",
        "        if val == 'A':\n",
        "            if (grid_1[idx -1:idx] not in ('1', 'A')) and (grid_1[idx+1: idx+2] not in ('1', 'A')):\n",
        "                result += 1\n",
        "\n",
        "print(result)"
      ],
      "metadata": {
        "colab": {
          "base_uri": "https://localhost:8080/"
        },
        "id": "iDBGYn8ESXcX",
        "outputId": "b67d5f73-7a81-4ea9-ff95-7ea46bd5bcd8"
      },
      "execution_count": 16,
      "outputs": [
        {
          "output_type": "stream",
          "name": "stdout",
          "text": [
            "6\n"
          ]
        }
      ]
    },
    {
      "cell_type": "code",
      "source": [
        "grids = ['10010', '11011', '10111', '01101', '01110']\n",
        "k = 3\n",
        "value = '1' * 3\n",
        "result = 0\n",
        "for grid in grids:\n",
        "    while True:\n",
        "        if value in grid:\n",
        "            result += 1   \n",
        "            grid = grid.replace(value, '')\n",
        "        else: \n",
        "            break\n",
        "    \n",
        "\n",
        "grids = list(map(list, zip(*grids)))\n",
        "for grid in grids:\n",
        "    grid_1 = \"\".join(grid)\n",
        "    while True:\n",
        "        if value in grid_1:\n",
        "            result += 1   \n",
        "            grid_1 = grid_1.replace(value, '')\n",
        "        else: \n",
        "            break\n",
        "    \n",
        "print(result)"
      ],
      "metadata": {
        "colab": {
          "base_uri": "https://localhost:8080/"
        },
        "id": "bXpIozSKwZ7L",
        "outputId": "37901005-6dd6-4e38-bb67-8162ae49849c"
      },
      "execution_count": null,
      "outputs": [
        {
          "output_type": "stream",
          "name": "stdout",
          "text": [
            "6\n"
          ]
        }
      ]
    },
    {
      "cell_type": "code",
      "source": [
        ""
      ],
      "metadata": {
        "id": "SAZAO96ywjDx"
      },
      "execution_count": null,
      "outputs": []
    },
    {
      "cell_type": "code",
      "source": [
        ""
      ],
      "metadata": {
        "id": "mb9hkiNWwjG8"
      },
      "execution_count": null,
      "outputs": []
    }
  ]
}