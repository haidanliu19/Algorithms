{
  "nbformat": 4,
  "nbformat_minor": 0,
  "metadata": {
    "colab": {
      "name": "연월일 달력.ipynb",
      "provenance": [],
      "collapsed_sections": []
    },
    "kernelspec": {
      "name": "python3",
      "display_name": "Python 3"
    },
    "language_info": {
      "name": "python"
    }
  },
  "cells": [
    {
      "cell_type": "markdown",
      "source": [
        "[SW Expert Academy](https://swexpertacademy.com/main/code/problem/problemDetail.do?contestProbId=AV5QLkdKAz4DFAUq)"
      ],
      "metadata": {
        "id": "LBCwhksDdA6W"
      }
    },
    {
      "cell_type": "code",
      "source": [
        "months = [str(i).rjust(2,'0') for i in range(1, 13)]\n",
        "days = ['31', '28', '31', '30', '31', '30', '31', '31', '30', '31', '30', '31']\n",
        "T = int(input())\n",
        "for test_case in range(1, T + 1):\n",
        "    li = input()\n",
        "    #print(li)\n",
        "    year = li[:4]\n",
        "    month = li[4:6]\n",
        "    day = li[6:]\n",
        "    if (month in months) and (day <= days[int(month)-1]):\n",
        "        result = f'{year}/{month}/{day}'\n",
        "    else:\n",
        "        result = -1\n",
        "    print(f'#{str(test_case)} {result}')"
      ],
      "metadata": {
        "colab": {
          "base_uri": "https://localhost:8080/"
        },
        "id": "RloXIBxvj9ml",
        "outputId": "f90aeca9-42cd-43e2-cae2-1c0740a8af23"
      },
      "execution_count": 55,
      "outputs": [
        {
          "output_type": "stream",
          "name": "stdout",
          "text": [
            "5\n",
            "22220228\n",
            "#1 2222/02/28\n",
            "20150002\n",
            "#2 -1\n",
            "01010101\n",
            "#3 0101/01/01\n",
            "20140230\n",
            "#4 -1\n",
            "11111111\n",
            "#5 1111/11/11\n"
          ]
        }
      ]
    },
    {
      "cell_type": "code",
      "source": [
        "months = [str(i).rjust(2,'0') for i in range(1, 13)]\n",
        "days = ['31', '28', '31', '30', '31', '30', '31', '31', '30', '31', '30', '31']\n",
        "li = '01010101'\n",
        "year = li[:4]\n",
        "month = li[4:6]\n",
        "day = li[6:]\n",
        "print(days[int(month)-1])\n",
        "if (month in months) and (day <= days[int(month)-1]):\n",
        "    result = f'{year}/{month}/{day}'\n",
        "else:\n",
        "    result = -1\n",
        "print(result)"
      ],
      "metadata": {
        "colab": {
          "base_uri": "https://localhost:8080/"
        },
        "id": "s94Sk_0pkbJN",
        "outputId": "b2a6c175-965b-40bb-9e39-8ccb6cf8f420"
      },
      "execution_count": 54,
      "outputs": [
        {
          "output_type": "stream",
          "name": "stdout",
          "text": [
            "31\n",
            "0101/01/01\n"
          ]
        }
      ]
    },
    {
      "cell_type": "code",
      "execution_count": 42,
      "metadata": {
        "colab": {
          "base_uri": "https://localhost:8080/"
        },
        "id": "OjzuiLkvc56I",
        "outputId": "7e1a1b5c-de0e-48bb-d0ce-7cee2a25fbc3"
      },
      "outputs": [
        {
          "output_type": "stream",
          "name": "stdout",
          "text": [
            "5\n",
            "22220228\n",
            "#1 2222/02/28\n",
            "20150002\n",
            "#2 -1\n",
            "01010101\n",
            "#3 101/01/01\n",
            "20140230\n",
            "#4 -1\n",
            "11111111\n",
            "#5 1111/11/11\n"
          ]
        }
      ],
      "source": [
        "from datetime import datetime\n",
        "T = int(input())\n",
        "for test_case in range(1, T + 1):\n",
        "    li = input()\n",
        "    #print(li)\n",
        "    format = '%Y%m%d'\n",
        "    try:\n",
        "        result = datetime.strptime(li, format).strftime(\"%Y/%m/%d\")\n",
        "    except ValueError:\n",
        "        result = -1\n",
        "    print(f'#{str(test_case)} {result}')\n",
        "# 3 101/01/01 에서 실패한다. "
      ]
    },
    {
      "cell_type": "code",
      "source": [
        "months = [str(i).rjust(2,'0') for i in range(1, 13)]\n",
        "months"
      ],
      "metadata": {
        "colab": {
          "base_uri": "https://localhost:8080/"
        },
        "id": "MBHtgxSQeuy8",
        "outputId": "d5567ff7-112e-4aa6-f0cc-c1cf2d7c1071"
      },
      "execution_count": 7,
      "outputs": [
        {
          "output_type": "execute_result",
          "data": {
            "text/plain": [
              "['01', '02', '03', '04', '05', '06', '07', '08', '09', '10', '11', '12']"
            ]
          },
          "metadata": {},
          "execution_count": 7
        }
      ]
    },
    {
      "cell_type": "code",
      "source": [
        "from datetime import datetime\n",
        "\n",
        "format = '%Y%m%d'\n",
        "try:\n",
        "    result = datetime.strptime('01010101', format).strftime(\"%Y/%m/%d\")\n",
        "except ValueError:\n",
        "    result = -1\n",
        "print(result)"
      ],
      "metadata": {
        "colab": {
          "base_uri": "https://localhost:8080/"
        },
        "id": "LN0d-chQe9gk",
        "outputId": "77534d08-9187-42dd-d26f-7863e5c61281"
      },
      "execution_count": 62,
      "outputs": [
        {
          "output_type": "stream",
          "name": "stdout",
          "text": [
            "101/01/01\n"
          ]
        }
      ]
    },
    {
      "cell_type": "code",
      "source": [
        ""
      ],
      "metadata": {
        "id": "Iwu0Qhp0fyoG"
      },
      "execution_count": null,
      "outputs": []
    }
  ]
}