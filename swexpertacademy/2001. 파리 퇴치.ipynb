{
  "nbformat": 4,
  "nbformat_minor": 0,
  "metadata": {
    "colab": {
      "name": "파리 퇴치.ipynb",
      "provenance": [],
      "collapsed_sections": []
    },
    "kernelspec": {
      "name": "python3",
      "display_name": "Python 3"
    },
    "language_info": {
      "name": "python"
    }
  },
  "cells": [
    {
      "cell_type": "markdown",
      "source": [
        "[SW Expert Academy](https://swexpertacademy.com/main/code/problem/problemDetail.do?contestProbId=AV5P0-h6Ak4DFAUq)"
      ],
      "metadata": {
        "id": "iYTDPWGS6b2D"
      }
    },
    {
      "cell_type": "code",
      "source": [
        "T = int(input())\n",
        "for test_case in range(1, T + 1):\n",
        "    a, b = map(int, input().split())\n",
        "    result = [list(map(int, input().split())) for _ in range(a)]\n",
        "    answer = []\n",
        "    for i in range(a - b + 1):\n",
        "        for j in range(a - b +1):\n",
        "            s = 0\n",
        "            for m in range(i, i +b):\n",
        "                s += sum(result[m][j : j + b] )\n",
        "            answer.append(s)\n",
        "    print(f\"#{test_case} {max(answer)}\")"
      ],
      "metadata": {
        "colab": {
          "base_uri": "https://localhost:8080/"
        },
        "id": "AKdvsjoYGAa-",
        "outputId": "04c8c6d3-a498-4780-8f90-a0aef05b20ac"
      },
      "execution_count": 30,
      "outputs": [
        {
          "output_type": "stream",
          "name": "stdout",
          "text": [
            "1\n",
            "5 2\n",
            "1 3 3 6 7\n",
            "8 13 9 12 8\n",
            "4 16 11 12 6\n",
            "2 4 1 23 2\n",
            "9 13 4 7 3\n",
            "[[1, 3, 3, 6, 7], [8, 13, 9, 12, 8], [4, 16, 11, 12, 6], [2, 4, 1, 23, 2], [9, 13, 4, 7, 3]]\n"
          ]
        }
      ]
    },
    {
      "cell_type": "code",
      "source": [
        "a, b = 5, 2\n",
        "result = [[1, 3, 3, 6, 7], [8, 13, 9, 12, 8], [4, 16, 11, 12, 6], [2, 4, 1, 23, 2], [9, 13, 4, 7, 3]]\n",
        "answer = []\n",
        "for i in range(a - b + 1):\n",
        "    for j in range(a - b +1):\n",
        "        s = 0\n",
        "        for m in range(i, i +b):\n",
        "            s += sum(result[m][j : j + b] )\n",
        "        answer.append(s)\n",
        "        #print(i, j , j + b , result[i][j : j + b] ,result[i + b - 1][j: j+b])\n",
        "print(max(answer))       "
      ],
      "metadata": {
        "colab": {
          "base_uri": "https://localhost:8080/"
        },
        "id": "h1zvmgtXLGtN",
        "outputId": "c41a8689-dea0-4143-94c0-0bb26725e7f5"
      },
      "execution_count": 67,
      "outputs": [
        {
          "output_type": "stream",
          "name": "stdout",
          "text": [
            "49\n"
          ]
        }
      ]
    },
    {
      "cell_type": "code",
      "source": [
        "a, b = 6, 3\n",
        "result = [[29, 21, 26, 9, 5, 8],\n",
        "[21, 19, 8, 0, 21, 19],\n",
        "[9, 24, 2, 11, 4, 24],\n",
        "[19, 29, 1, 0, 21, 19],\n",
        "[10, 29, 6, 18, 4, 3],\n",
        "[29, 11, 15, 3, 3, 29]]\n",
        "answer = []\n",
        "for i in range(a - b + 1):\n",
        "    for j in range(a - b +1):\n",
        "        s = 0\n",
        "        for m in range(i, i +b):\n",
        "            s += sum(result[m][j : j + b] )\n",
        "        answer.append(s)\n",
        "answer"
      ],
      "metadata": {
        "colab": {
          "base_uri": "https://localhost:8080/"
        },
        "id": "jO8enp8dOvve",
        "outputId": "a0b4c154-24a6-4760-e9ca-dec110abd01b"
      },
      "execution_count": 64,
      "outputs": [
        {
          "output_type": "execute_result",
          "data": {
            "text/plain": [
              "[159, 120, 86, 132, 94, 68, 129, 120, 67]"
            ]
          },
          "metadata": {},
          "execution_count": 64
        }
      ]
    },
    {
      "cell_type": "code",
      "source": [
        "a, b = 7, 5\n",
        "result = [[17, 24, 11, 29, 18, 21, 11],\n",
        "[8, 5, 14, 0, 19, 15, 17],\n",
        "[18, 25, 29, 1, 29, 16, 16],\n",
        "[3,26, 27, 20, 6, 2, 27],\n",
        "[20,13, 19, 8, 13, 29, 15],\n",
        "[8,22,8,23,21,7,6],\n",
        "[14,9,9,27,16,23,29]]\n",
        "answer = []\n",
        "for i in range(a - b + 1):\n",
        "    for j in range(a - b + 1 ):\n",
        "        s = 0\n",
        "        for m in range(i, i +b):\n",
        "            s += sum(result[m][j : j + b] )\n",
        "            print(i, j , result[m][j : j + b], sum(result[m][j : j + b] ))\n",
        "        answer.append(s)\n",
        "answer"
      ],
      "metadata": {
        "colab": {
          "base_uri": "https://localhost:8080/"
        },
        "id": "bBmwLCmMQmiM",
        "outputId": "830d94a8-d0a5-4ebc-a8b0-3e71c93ff6fc"
      },
      "execution_count": 71,
      "outputs": [
        {
          "output_type": "stream",
          "name": "stdout",
          "text": [
            "0 0 [17, 24, 11, 29, 18] 99\n",
            "0 0 [8, 5, 14, 0, 19] 46\n",
            "0 0 [18, 25, 29, 1, 29] 102\n",
            "0 0 [3, 26, 27, 20, 6] 82\n",
            "0 0 [20, 13, 19, 8, 13] 73\n",
            "0 1 [24, 11, 29, 18, 21] 103\n",
            "0 1 [5, 14, 0, 19, 15] 53\n",
            "0 1 [25, 29, 1, 29, 16] 100\n",
            "0 1 [26, 27, 20, 6, 2] 81\n",
            "0 1 [13, 19, 8, 13, 29] 82\n",
            "0 2 [11, 29, 18, 21, 11] 90\n",
            "0 2 [14, 0, 19, 15, 17] 65\n",
            "0 2 [29, 1, 29, 16, 16] 91\n",
            "0 2 [27, 20, 6, 2, 27] 82\n",
            "0 2 [19, 8, 13, 29, 15] 84\n",
            "1 0 [8, 5, 14, 0, 19] 46\n",
            "1 0 [18, 25, 29, 1, 29] 102\n",
            "1 0 [3, 26, 27, 20, 6] 82\n",
            "1 0 [20, 13, 19, 8, 13] 73\n",
            "1 0 [8, 22, 8, 23, 21] 82\n",
            "1 1 [5, 14, 0, 19, 15] 53\n",
            "1 1 [25, 29, 1, 29, 16] 100\n",
            "1 1 [26, 27, 20, 6, 2] 81\n",
            "1 1 [13, 19, 8, 13, 29] 82\n",
            "1 1 [22, 8, 23, 21, 7] 81\n",
            "1 2 [14, 0, 19, 15, 17] 65\n",
            "1 2 [29, 1, 29, 16, 16] 91\n",
            "1 2 [27, 20, 6, 2, 27] 82\n",
            "1 2 [19, 8, 13, 29, 15] 84\n",
            "1 2 [8, 23, 21, 7, 6] 65\n",
            "2 0 [18, 25, 29, 1, 29] 102\n",
            "2 0 [3, 26, 27, 20, 6] 82\n",
            "2 0 [20, 13, 19, 8, 13] 73\n",
            "2 0 [8, 22, 8, 23, 21] 82\n",
            "2 0 [14, 9, 9, 27, 16] 75\n",
            "2 1 [25, 29, 1, 29, 16] 100\n",
            "2 1 [26, 27, 20, 6, 2] 81\n",
            "2 1 [13, 19, 8, 13, 29] 82\n",
            "2 1 [22, 8, 23, 21, 7] 81\n",
            "2 1 [9, 9, 27, 16, 23] 84\n",
            "2 2 [29, 1, 29, 16, 16] 91\n",
            "2 2 [27, 20, 6, 2, 27] 82\n",
            "2 2 [19, 8, 13, 29, 15] 84\n",
            "2 2 [8, 23, 21, 7, 6] 65\n",
            "2 2 [9, 27, 16, 23, 29] 104\n"
          ]
        },
        {
          "output_type": "execute_result",
          "data": {
            "text/plain": [
              "[402, 419, 412, 385, 397, 387, 414, 428, 426]"
            ]
          },
          "metadata": {},
          "execution_count": 71
        }
      ]
    }
  ]
}