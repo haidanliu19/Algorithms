{
 "cells": [
  {
   "cell_type": "code",
   "execution_count": null,
   "metadata": {},
   "outputs": [],
   "source": [
    "def checksudok(arr):\n",
    "    # 가로 체크\n",
    "    for i in range(9):\n",
    "        arr_1 = set(arr[i])\n",
    "        if len(arr_1) != 9:\n",
    "            return '0'\n",
    "        \n",
    "    # 세로 체크 \n",
    "    for i in range(9):\n",
    "        arr_1 = []\n",
    "        for j in range(9):\n",
    "            arr_1.append(arr[j][i])\n",
    "        arr_1 = set(arr_1)\n",
    "        if len(arr_1) != 9:\n",
    "            return '0'\n",
    "        \n",
    "    # 3* 3 크기 격자 확인 \n",
    "    for i in range(0, 9 , 3):\n",
    "        for j in range(0, 9, 3):\n",
    "            arr_1 = []\n",
    "            # i -> i + 2, j -> j + 2\n",
    "            for k in range(3):\n",
    "                for t in range(3):\n",
    "                    arr_1.append(arr[i+k][j+t])\n",
    "        arr_1 = set(arr_1)\n",
    "        if len(arr_1) != 9:\n",
    "            return '0'\n",
    "    return '1'\n",
    "\n",
    "T = int(input())\n",
    "for test_case in range(1, T + 1):\n",
    "    arr = [list(map(int, input().split())) for _ in range(9)]\n",
    "    print(arr)\n",
    "    value = checksudok(arr)\n",
    "    print(\"#{} {}\".format(test_case, value))"
   ]
  },
  {
   "cell_type": "code",
   "execution_count": null,
   "metadata": {},
   "outputs": [],
   "source": [
    "4 5 7 1 6 3 8 2 9\n",
    "6 3 9 8 2 7 5 4 1\n",
    "7 9 3 4 8 5 1 6 2\n",
    "1 8 2 5 4 9 6 3 7\n",
    "8 6 1 7 9 2 3 5 4\n",
    "5 2 4 6 3 1 7 9 8\n",
    "3 7 6 9 1 4 2 8 5\n",
    "2 4 5 3 7 8 9 1 6\n",
    "9 1 8 2 5 6 4 7 3"
   ]
  },
  {
   "cell_type": "code",
   "execution_count": 64,
   "metadata": {},
   "outputs": [
    {
     "data": {
      "text/plain": [
       "'0'"
      ]
     },
     "execution_count": 64,
     "metadata": {},
     "output_type": "execute_result"
    }
   ],
   "source": [
    "arr = [[4, 5, 7, 1, 6, 3, 8, 2, 9], \n",
    "       [6, 3, 9, 8, 2, 7, 5, 4, 1], \n",
    "       [7, 9, 3, 4, 8, 5, 1, 6, 2], \n",
    "       [1, 8, 2, 5, 4, 9, 6, 3, 7], \n",
    "       [8, 6, 1, 7, 9, 2, 3, 5, 4], \n",
    "       [5, 2, 4, 6, 3, 1, 7, 9, 8], \n",
    "       [3, 7, 6, 9, 1, 4, 2, 8, 5], \n",
    "       [2, 4, 5, 3, 7, 8, 9, 1, 6],\n",
    "       [9, 1, 8, 2, 5, 6, 4, 7, 3]]\n",
    "\n",
    "def checksudok(arr):\n",
    "    # 가로 체크\n",
    "    for i in range(9):\n",
    "        arr_1 = set(arr[i])\n",
    "        if len(arr_1) != 9:\n",
    "            return '0'\n",
    "        \n",
    "    # 세로 체크 \n",
    "    for i in range(9):\n",
    "        arr_1 = []\n",
    "        for j in range(9):\n",
    "            arr_1.append(arr[j][i])\n",
    "        arr_1 = set(arr_1)\n",
    "        if len(arr_1) != 9:\n",
    "            return '0'\n",
    "        \n",
    "    # 3* 3 크기 격자 확인 \n",
    "    for i in range(0, 9, 3): \n",
    "        for j in range(0, 9, 3):\n",
    "            arr_1 = []\n",
    "            # i -> i + 2, j -> j + 2\n",
    "            for k in range(3):\n",
    "                for t in range(3):\n",
    "                    arr_1.append(arr[i+k][j+t])\n",
    "        arr_1 = set(arr_1)\n",
    "        if len(arr_1) != 9:\n",
    "            return '0'\n",
    "    return '1'\n",
    "\n",
    "checksudok(arr)"
   ]
  }
 ],
 "metadata": {
  "kernelspec": {
   "display_name": "Python 3",
   "language": "python",
   "name": "python3"
  },
  "language_info": {
   "codemirror_mode": {
    "name": "ipython",
    "version": 3
   },
   "file_extension": ".py",
   "mimetype": "text/x-python",
   "name": "python",
   "nbconvert_exporter": "python",
   "pygments_lexer": "ipython3",
   "version": "3.6.9"
  }
 },
 "nbformat": 4,
 "nbformat_minor": 4
}
