{
  "nbformat": 4,
  "nbformat_minor": 0,
  "metadata": {
    "colab": {
      "name": "몫과 나머지 출력하기.ipynb",
      "provenance": [],
      "collapsed_sections": []
    },
    "kernelspec": {
      "name": "python3",
      "display_name": "Python 3"
    },
    "language_info": {
      "name": "python"
    }
  },
  "cells": [
    {
      "cell_type": "markdown",
      "source": [
        "[SW Expert Academy](https://swexpertacademy.com/main/code/problem/problemDetail.do?contestProbId=AV5QKdT6AyYDFAUq)"
      ],
      "metadata": {
        "id": "LBCwhksDdA6W"
      }
    },
    {
      "cell_type": "code",
      "source": [
        "T = int(input())\n",
        "for test_case in range(1, T + 1):\n",
        "    t1, t2 = list(map(int, input().split() ))\n",
        "\n",
        "    div, mod = divmod(t1, t2)\n",
        "    print(f\"#{test_case} {div} {mod}\")"
      ],
      "metadata": {
        "colab": {
          "base_uri": "https://localhost:8080/"
        },
        "id": "Iwu0Qhp0fyoG",
        "outputId": "a388d04f-8382-4525-acce-940d2c7bc97b"
      },
      "execution_count": 9,
      "outputs": [
        {
          "output_type": "stream",
          "name": "stdout",
          "text": [
            "3\n",
            "9 2\n",
            "# 1 4 1\n",
            "15 6\n",
            "# 2 2 3\n",
            "369 15\n",
            "# 3 24 9\n"
          ]
        }
      ]
    },
    {
      "cell_type": "code",
      "source": [
        ""
      ],
      "metadata": {
        "id": "ucP5rHiA06lK"
      },
      "execution_count": 9,
      "outputs": []
    },
    {
      "cell_type": "code",
      "source": [
        ""
      ],
      "metadata": {
        "id": "9kG3lPaWDIBz"
      },
      "execution_count": null,
      "outputs": []
    },
    {
      "cell_type": "code",
      "source": [
        ""
      ],
      "metadata": {
        "id": "fNxBCBd7DkdB"
      },
      "execution_count": null,
      "outputs": []
    }
  ]
}