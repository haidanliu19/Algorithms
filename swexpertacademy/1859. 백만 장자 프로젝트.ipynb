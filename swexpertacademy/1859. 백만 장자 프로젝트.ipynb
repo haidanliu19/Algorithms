{
  "nbformat": 4,
  "nbformat_minor": 0,
  "metadata": {
    "colab": {
      "name": "백만 장자 프로젝트.ipynb",
      "provenance": [],
      "collapsed_sections": []
    },
    "kernelspec": {
      "name": "python3",
      "display_name": "Python 3"
    },
    "language_info": {
      "name": "python"
    }
  },
  "cells": [
    {
      "cell_type": "markdown",
      "source": [
        "[SW Expert Academy](https://swexpertacademy.com/main/code/problem/problemDetail.do?contestProbId=AV5LrsUaDxcDFAXc)"
      ],
      "metadata": {
        "id": "iYTDPWGS6b2D"
      }
    },
    {
      "cell_type": "code",
      "source": [
        "T = int(input())\n",
        "# 여러개의 테스트 케이스가 주어지므로, 각각을 처리합니다.\n",
        "for test_case in range(1, T + 1):\n",
        "    # ///////////////////////////////////////////////////////////////////////////////////\n",
        "    T1 = int(input())\n",
        "    T1_case = list(map(int, input().split()))\n",
        "    result = 0\n",
        "    last = T1_case[-1]\n",
        "    for i in range(len(T1_case)-1,-1, -1 ):\n",
        "        if last > T1_case[i]:\n",
        "            result += last - T1_case[i]\n",
        "        else:\n",
        "            last = T1_case[i]\n",
        "    print(f'#{test_case} {result}')"
      ],
      "metadata": {
        "id": "0reuEZ2-S2MP"
      },
      "execution_count": null,
      "outputs": []
    },
    {
      "cell_type": "code",
      "source": [
        "T1_case = [10, 7, 6]\n",
        "T1_case = [1, 1, 3, 1, 2]\n",
        "result = 0\n",
        "last = T1_case[-1]\n",
        "for i in range(len(T1_case)-1,-1, -1 ):\n",
        "    if last > T1_case[i]:\n",
        "        result += last - T1_case[i]\n",
        "    else:\n",
        "        last = T1_case[i]\n",
        "print(result)\n"
      ],
      "metadata": {
        "colab": {
          "base_uri": "https://localhost:8080/"
        },
        "id": "Odm2yvkHRol3",
        "outputId": "8331ddfe-8f85-4aee-8e6e-b4d3eec5fa56"
      },
      "execution_count": 27,
      "outputs": [
        {
          "output_type": "stream",
          "name": "stdout",
          "text": [
            "5\n"
          ]
        }
      ]
    },
    {
      "cell_type": "markdown",
      "source": [
        "뒤집어서 하면 하나 실패한다. "
      ],
      "metadata": {
        "id": "-JeuarTzS5ky"
      }
    },
    {
      "cell_type": "code",
      "execution_count": 30,
      "metadata": {
        "colab": {
          "base_uri": "https://localhost:8080/"
        },
        "id": "GjpFbUaI6aXA",
        "outputId": "2734ebd5-1c07-4997-8050-55e518fda74a"
      },
      "outputs": [
        {
          "output_type": "stream",
          "name": "stdout",
          "text": [
            "5\n"
          ]
        }
      ],
      "source": [
        "T1_case = [10, 7, 6]\n",
        "T1_case = [1, 1, 3, 1, 2]\n",
        "T1_case = T1_case[::-1]\n",
        "result = 0\n",
        "last = T1_case[0]\n",
        "for i in range(0, len(T1_case)):\n",
        "    if last > T1_case[i]:\n",
        "        result += last - T1_case[i]\n",
        "    else:\n",
        "        last = T1_case[i]\n",
        "print(result)\n"
      ]
    }
  ]
}