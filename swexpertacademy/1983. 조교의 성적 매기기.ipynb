{
 "cells": [
  {
   "cell_type": "code",
   "execution_count": 2,
   "metadata": {},
   "outputs": [
    {
     "name": "stdout",
     "output_type": "stream",
     "text": [
      "1\n",
      "10 2\n",
      "87 59 88\n",
      "99 94 78\n",
      "94 86 86\n",
      "99 100 99\n",
      "69 76 70\n",
      "76 89 96\n",
      "98 95 96\n",
      "74 69 60\n",
      "98 84 67\n",
      "85 84 91\n",
      "#1 A-\n"
     ]
    }
   ],
   "source": [
    "grades = ['A+', 'A0', 'A-', 'B+', 'B0', 'B-', 'C+', 'C0', 'C-', 'D0']\n",
    "T = int(input())\n",
    "for test_case in range(1, T + 1):\n",
    "    # 테스트 케이스의 첫 번째 줄은 학생수 N 과, 학점을 알고싶은 학생의 번호 K 가 주어진다.\n",
    "    students_n, k = map(int, input().split())\n",
    "    totals_list = []\n",
    "    for n in range(1, students_n + 1):\n",
    "        mid, final, hw = map(int, input().split())\n",
    "        totals = (mid * 0.35 ) + (final * 0.45) + (hw * 0.2)\n",
    "        totals_list.append(totals)\n",
    "    # k 번째 학생의 점수\n",
    "    k_grade = totals_list[k-1]\n",
    "    totals_list.sort(reverse= True)\n",
    "\n",
    "    div = students_n//len(grades)\n",
    "    final_k_grade = totals_list.index(k_grade) // div\n",
    "    print(f'#{test_case} {grades[final_k_grade]}')"
   ]
  },
  {
   "cell_type": "code",
   "execution_count": 31,
   "metadata": {},
   "outputs": [
    {
     "name": "stdout",
     "output_type": "stream",
     "text": [
      "74.6\n"
     ]
    }
   ],
   "source": [
    "numbers = \"87 59 88\"\n",
    "mid, final, hw = map(int, numbers.split())\n",
    "totals = (mid * 0.35 ) + (final * 0.45) + (hw * 0.2)\n",
    "print(totals)\n",
    "\n"
   ]
  },
  {
   "cell_type": "code",
   "execution_count": 42,
   "metadata": {},
   "outputs": [
    {
     "name": "stdout",
     "output_type": "stream",
     "text": [
      "[99.45, 96.25, 92.55000000000001, 88.8, 85.85000000000001, 85.75, 85.5, 74.6, 72.35, 68.95]\n"
     ]
    },
    {
     "data": {
      "text/plain": [
       "'A+'"
      ]
     },
     "execution_count": 42,
     "metadata": {},
     "output_type": "execute_result"
    }
   ],
   "source": [
    "grades = ['A+', 'A0', 'A-', 'B+', 'B0', 'B-', 'C+', 'C0', 'C-', 'D0']\n",
    "k = 2\n",
    "total_list = [74.6, 92.55000000000001, 88.8, 99.45, 72.35, 85.85000000000001, 96.25, 68.95, 85.5, 85.75]\n",
    "\n",
    "# k 번째 학생의 점수\n",
    "k_grade = total_list[k-1]\n",
    "total_list.sort(reverse= True)\n",
    "print(total_list)\n",
    "\n",
    "div = N//len(grades)\n",
    "final_k_grade = total_list.index(k_grade) // len(grades)\n",
    "grades[final_k_grade]"
   ]
  }
 ],
 "metadata": {
  "kernelspec": {
   "display_name": "Python 3",
   "language": "python",
   "name": "python3"
  },
  "language_info": {
   "codemirror_mode": {
    "name": "ipython",
    "version": 3
   },
   "file_extension": ".py",
   "mimetype": "text/x-python",
   "name": "python",
   "nbconvert_exporter": "python",
   "pygments_lexer": "ipython3",
   "version": "3.6.9"
  }
 },
 "nbformat": 4,
 "nbformat_minor": 4
}
