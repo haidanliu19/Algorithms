{
  "nbformat": 4,
  "nbformat_minor": 0,
  "metadata": {
    "colab": {
      "name": "대각선 출력하기.ipynb",
      "provenance": []
    },
    "kernelspec": {
      "name": "python3",
      "display_name": "Python 3"
    },
    "language_info": {
      "name": "python"
    }
  },
  "cells": [
    {
      "cell_type": "markdown",
      "source": [
        "[SW Expert Academy](https://swexpertacademy.com/main/code/problem/problemDetail.do?contestProbId=AV5QFuZ6As0DFAUq)"
      ],
      "metadata": {
        "id": "iYTDPWGS6b2D"
      }
    },
    {
      "cell_type": "code",
      "execution_count": 3,
      "metadata": {
        "colab": {
          "base_uri": "https://localhost:8080/"
        },
        "id": "GjpFbUaI6aXA",
        "outputId": "4c582ee0-f821-4ca3-dab8-4f757414c37c"
      },
      "outputs": [
        {
          "output_type": "stream",
          "name": "stdout",
          "text": [
            "#++++\n",
            "+#+++\n",
            "++#++\n",
            "+++#+\n",
            "++++#\n"
          ]
        }
      ],
      "source": [
        "for i in range(5):\n",
        "    for j in range(5):\n",
        "        if i == j:\n",
        "            print(\"#\", end =\"\")\n",
        "        else:\n",
        "            print(\"+\", end =\"\")\n",
        "    print(\"\")"
      ]
    }
  ]
}