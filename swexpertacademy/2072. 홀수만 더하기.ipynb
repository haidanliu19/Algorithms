{
  "nbformat": 4,
  "nbformat_minor": 0,
  "metadata": {
    "colab": {
      "name": "홀수만 더하기.ipynb",
      "provenance": [],
      "collapsed_sections": []
    },
    "kernelspec": {
      "name": "python3",
      "display_name": "Python 3"
    },
    "language_info": {
      "name": "python"
    }
  },
  "cells": [
    {
      "cell_type": "markdown",
      "source": [
        "https://swexpertacademy.com/main/code/problem/problemDetail.do?contestProbId=AV5QSEhaA5sDFAUq&categoryId=AV5QSEhaA5sDFAUq&categoryType=CODE&problemTitle=%ED%99%80%EC%88%98%EB%A7%8C+%EB%8D%94%ED%95%98%EA%B8%B0&orderBy=FIRST_REG_DATETIME&selectCodeLang=PYTHON&select-1=&pageSize=10&pageIndex=1"
      ],
      "metadata": {
        "id": "NBF3ZFEBDDl3"
      }
    },
    {
      "cell_type": "code",
      "execution_count": 25,
      "metadata": {
        "colab": {
          "base_uri": "https://localhost:8080/"
        },
        "id": "Zsp-VE50DCco",
        "outputId": "bf019c69-6646-4c5b-c0b5-2044187c9a20"
      },
      "outputs": [
        {
          "output_type": "stream",
          "name": "stdout",
          "text": [
            "3\n",
            "3 17 1 39 8 41 2 32 99 2\n",
            "#1 200\n",
            "22 8 5 123 7 2 63 7 3 46\n",
            "#2 208\n",
            "6 63 2 3 58 76 21 33 8 1\n",
            "#3 121\n"
          ]
        }
      ],
      "source": [
        "T = input()\n",
        "\n",
        "inputs = []\n",
        "for t in range(int(T)):\n",
        "    list_ = list(map(int, input().split()))\n",
        "    result = sum(list(filter(lambda x : x%2 !=0, list_)))\n",
        "    print('#%d %d' % (t + 1,  result))"
      ]
    },
    {
      "cell_type": "code",
      "source": [
        "list_ = [6,63,2,3,58,76,21,33,8,1]\n",
        "result = sum(list(filter(lambda x : x%2 !=0, list_)))\n",
        "result"
      ],
      "metadata": {
        "colab": {
          "base_uri": "https://localhost:8080/"
        },
        "id": "NB-dIAZxDhzb",
        "outputId": "8e1683cd-c428-4b05-e6a0-1ace2917b894"
      },
      "execution_count": 23,
      "outputs": [
        {
          "output_type": "execute_result",
          "data": {
            "text/plain": [
              "121"
            ]
          },
          "metadata": {},
          "execution_count": 23
        }
      ]
    },
    {
      "cell_type": "code",
      "source": [
        "T = input()\n",
        "\n",
        "inputs = []\n",
        "for t in range(int(T)):\n",
        "    list_ = list(map(int, input().split()))\n",
        "    result = sum([i for i in list_ if i %2 != 0])\n",
        "    print('#%d %d' % (t + 1,  result))"
      ],
      "metadata": {
        "colab": {
          "base_uri": "https://localhost:8080/"
        },
        "id": "naEoG546HbFh",
        "outputId": "4b5491cf-ef20-4d43-f9da-ee20c5963de0"
      },
      "execution_count": 27,
      "outputs": [
        {
          "output_type": "stream",
          "name": "stdout",
          "text": [
            "3\n",
            "3 17 1 39 8 41 2 32 99 2\n",
            "#1 200\n",
            "22 8 5 123 7 2 63 7 3 46\n",
            "#2 208\n",
            "6 63 2 3 58 76 21 33 8 1\n",
            "#3 121\n"
          ]
        }
      ]
    }
  ]
}