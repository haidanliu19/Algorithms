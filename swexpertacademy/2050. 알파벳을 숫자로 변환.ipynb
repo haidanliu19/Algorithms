{
  "nbformat": 4,
  "nbformat_minor": 0,
  "metadata": {
    "colab": {
      "name": "알파벳을 숫자로 변환.ipynb",
      "provenance": [],
      "collapsed_sections": []
    },
    "kernelspec": {
      "name": "python3",
      "display_name": "Python 3"
    },
    "language_info": {
      "name": "python"
    }
  },
  "cells": [
    {
      "cell_type": "markdown",
      "source": [
        "[SW Expert Academy](https://swexpertacademy.com/main/code/problem/problemDetail.do?contestProbId=AV5QLGxKAzQDFAUq)"
      ],
      "metadata": {
        "id": "LBCwhksDdA6W"
      }
    },
    {
      "cell_type": "code",
      "source": [
        "T = input()\n",
        "result = list(map(ord, T))\n",
        "result = \" \".join([str((int(i) - 64)) for i in result])\n",
        "print(result)"
      ],
      "metadata": {
        "colab": {
          "base_uri": "https://localhost:8080/"
        },
        "id": "Iwu0Qhp0fyoG",
        "outputId": "948a3979-6945-4e56-81c4-3f7b8b12c4d5"
      },
      "execution_count": 64,
      "outputs": [
        {
          "output_type": "stream",
          "name": "stdout",
          "text": [
            "ABCDEFGHIJKLMNOPQRSTUVWXYZ\n",
            "ABCDEFGHIJKLMNOPQRSTUVWXYZ\n"
          ]
        }
      ]
    },
    {
      "cell_type": "code",
      "source": [
        "T = 'ABCDEFGHIJKLMNOPQRSTUVWXYZ'\n",
        "result = list(map(ord, T))\n",
        "result = \" \".join([str((int(i) - 64)) for i in result])\n",
        "result"
      ],
      "metadata": {
        "colab": {
          "base_uri": "https://localhost:8080/",
          "height": 35
        },
        "id": "1lOSsFUJnh-v",
        "outputId": "0670ce67-637d-4765-8020-47b61b2c99cb"
      },
      "execution_count": 73,
      "outputs": [
        {
          "output_type": "execute_result",
          "data": {
            "text/plain": [
              "'1 2 3 4 5 6 7 8 9 10 11 12 13 14 15 16 17 18 19 20 21 22 23 24 25 26'"
            ],
            "application/vnd.google.colaboratory.intrinsic+json": {
              "type": "string"
            }
          },
          "metadata": {},
          "execution_count": 73
        }
      ]
    }
  ]
}