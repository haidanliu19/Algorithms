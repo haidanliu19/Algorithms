{
  "nbformat": 4,
  "nbformat_minor": 0,
  "metadata": {
    "colab": {
      "name": "최대수 구하기.ipynb",
      "provenance": [],
      "collapsed_sections": []
    },
    "kernelspec": {
      "name": "python3",
      "display_name": "Python 3"
    },
    "language_info": {
      "name": "python"
    }
  },
  "cells": [
    {
      "cell_type": "markdown",
      "source": [
        "https://swexpertacademy.com/main/code/problem/problemDetail.do?contestProbId=AV5QQhbqA4QDFAUq"
      ],
      "metadata": {
        "id": "bkMo_tkIKHYQ"
      }
    },
    {
      "cell_type": "code",
      "execution_count": 1,
      "metadata": {
        "id": "IgqqxswE9Rym",
        "colab": {
          "base_uri": "https://localhost:8080/"
        },
        "outputId": "7dd0a175-d1ef-409c-a5f3-15148ae567b4"
      },
      "outputs": [
        {
          "output_type": "stream",
          "name": "stdout",
          "text": [
            "3\n",
            "3 17 1 39 8 41 2 32 99 2\n",
            "#2 99\n",
            "22 8 5 123 7 2 63 7 3 46\n",
            "#3 123\n",
            "6 63 2 3 58 76 21 33 8 1\n",
            "#4 76\n"
          ]
        }
      ],
      "source": [
        "T = int(input())\n",
        " \n",
        "for test_case in range(0, T):\n",
        "    li = map(int, input().split())\n",
        "\n",
        "    print(\"#\"+str(test_case),max(li))"
      ]
    }
  ]
}