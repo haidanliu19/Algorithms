{
 "cells": [
  {
   "cell_type": "code",
   "execution_count": 63,
   "metadata": {},
   "outputs": [
    {
     "name": "stdout",
     "output_type": "stream",
     "text": [
      "3\n",
      "GALAXYGALAXYGALAXYGALAXYGALAXY\n",
      "#1 6\n",
      "GALAXYGALAXYGALAXYGALAXYGALAXY\n",
      "#2 6\n",
      "GALAXYGALAXYGALAXYGALAXYGALAXY\n",
      "#3 6\n"
     ]
    }
   ],
   "source": [
    "T = int(input())\n",
    "\n",
    "for test_case in range(1, T + 1):\n",
    "    input1 = input()\n",
    "    \n",
    "    start = input1[0]\n",
    "    end = 1\n",
    "    while True:\n",
    "        if start ==  input1[len(start) : len(start) * 2]:\n",
    "            break\n",
    "        start = input1[:end]\n",
    "        end += 1\n",
    "    print(f'#{test_case} {len(start)}')\n",
    "\n",
    "15:23:44 #1 5\n",
    "#2 7\n",
    "#3 6\n",
    "#4 3\n",
    "#5 4\n",
    "#6 5\n",
    "#7 9\n",
    "#8 5\n",
    "#9 9\n",
    "#10 3\n",
    "15:23:44 실행을 시작합니다.\n",
    "15:23:44 성공적으로 컴파일 되었습니다.\n",
    "15:23:44 Input data가 없으므로 Sample input으로 테스트됩니다."
   ]
  },
  {
   "cell_type": "code",
   "execution_count": 62,
   "metadata": {},
   "outputs": [
    {
     "name": "stdout",
     "output_type": "stream",
     "text": [
      "6\n"
     ]
    }
   ],
   "source": [
    "input1 = 'GALAXYGALAXYGALAXYGALAXYGALAXY'\n",
    "\n",
    "start = input1[0]\n",
    "end = 1\n",
    "while True:\n",
    "    if start ==  input1[len(start) : len(start) * 2]:\n",
    "        break\n",
    "    start = input1[:end]\n",
    "    end += 1\n",
    "print(len(start)) "
   ]
  },
  {
   "cell_type": "code",
   "execution_count": 61,
   "metadata": {},
   "outputs": [
    {
     "name": "stdout",
     "output_type": "stream",
     "text": [
      "3\n",
      "GALAXYGALAXYGALAXYGALAXYGALAXY\n",
      "GALAXYGALAXYGALAXYGALAXYGALAXY\n",
      "GALAXYGALAXYGALAXYGALAXYGALAXY\n",
      "#1 6\n",
      "#2 6\n",
      "#3 6\n"
     ]
    }
   ],
   "source": [
    "T = int(input())\n",
    "\n",
    "testcase = []\n",
    "for i in range(T):\n",
    "    testcase.append(input())\n",
    "\n",
    "for i in range(T):\n",
    "    test = testcase[i]\n",
    "    pattern = test[0]\n",
    "    end_point = 1\n",
    "    while True:\n",
    "        if pattern == test[len(pattern):len(pattern) * 2]: # 패턴 유효성 검사\n",
    "            break\n",
    "        pattern = test[:end_point] # 패턴 정의\n",
    "        end_point += 1\n",
    "    print(\"#{} {}\".format((i+1), len(pattern)))"
   ]
  },
  {
   "cell_type": "markdown",
   "metadata": {},
   "source": [
    "# 실패 케이스\n",
    "# Memory error occured, (e.g. segmentation error, memory limit Exceed, stack overflow,... etc)"
   ]
  },
  {
   "cell_type": "code",
   "execution_count": 17,
   "metadata": {},
   "outputs": [
    {
     "data": {
      "text/plain": [
       "2.0"
      ]
     },
     "execution_count": 17,
     "metadata": {},
     "output_type": "execute_result"
    }
   ],
   "source": [
    "int(2.123) // 1.0 "
   ]
  },
  {
   "cell_type": "code",
   "execution_count": 18,
   "metadata": {},
   "outputs": [
    {
     "data": {
      "text/plain": [
       "2.0"
      ]
     },
     "execution_count": 18,
     "metadata": {},
     "output_type": "execute_result"
    }
   ],
   "source": [
    "int(2.0) // 1.0 "
   ]
  },
  {
   "cell_type": "code",
   "execution_count": 25,
   "metadata": {},
   "outputs": [
    {
     "name": "stdout",
     "output_type": "stream",
     "text": [
      "6\n"
     ]
    }
   ],
   "source": [
    "input1 = 'GALAXYGALAXYGALAXYGALAXYGALAXY'\n",
    "\n",
    "len_input1= len(input1) # 길이를 구한다. \n",
    "i = len_input1//2 # 절반으로 나눈다.  15\n",
    "while True:\n",
    "    if len_input1 % i == 0:\n",
    "        half = len_input1 // i # 2,3,4,5, 이런식으로 위로 올라간다. \n",
    "        if int(half) == half:\n",
    "            # 처음에는 i를 +1로 하였지만 KOREAKOREAKOREAKOREAKOREAKOREA같을 경우 15로 나온다. \n",
    "            if input1[:half] == input1[half:half*2]:\n",
    "                print(half)\n",
    "                break\n",
    "    i -= 1\n",
    "    \n",
    "# "
   ]
  },
  {
   "cell_type": "code",
   "execution_count": 67,
   "metadata": {},
   "outputs": [
    {
     "ename": "KeyboardInterrupt",
     "evalue": "Interrupted by user",
     "output_type": "error",
     "traceback": [
      "\u001b[0;31m\u001b[0m",
      "\u001b[0;31mKeyboardInterrupt\u001b[0mTraceback (most recent call last)",
      "\u001b[0;32m<ipython-input-67-ca443ccbad93>\u001b[0m in \u001b[0;36m<module>\u001b[0;34m\u001b[0m\n\u001b[0;32m----> 1\u001b[0;31m \u001b[0mT\u001b[0m \u001b[0;34m=\u001b[0m \u001b[0mint\u001b[0m\u001b[0;34m(\u001b[0m\u001b[0minput\u001b[0m\u001b[0;34m(\u001b[0m\u001b[0;34m)\u001b[0m\u001b[0;34m)\u001b[0m\u001b[0;34m\u001b[0m\u001b[0;34m\u001b[0m\u001b[0m\n\u001b[0m\u001b[1;32m      2\u001b[0m \u001b[0;34m\u001b[0m\u001b[0m\n\u001b[1;32m      3\u001b[0m \u001b[0;32mfor\u001b[0m \u001b[0mtest_case\u001b[0m \u001b[0;32min\u001b[0m \u001b[0mrange\u001b[0m\u001b[0;34m(\u001b[0m\u001b[0;36m1\u001b[0m\u001b[0;34m,\u001b[0m \u001b[0mT\u001b[0m \u001b[0;34m+\u001b[0m \u001b[0;36m1\u001b[0m\u001b[0;34m)\u001b[0m\u001b[0;34m:\u001b[0m\u001b[0;34m\u001b[0m\u001b[0;34m\u001b[0m\u001b[0m\n\u001b[1;32m      4\u001b[0m     \u001b[0minput1\u001b[0m \u001b[0;34m=\u001b[0m \u001b[0minput\u001b[0m\u001b[0;34m(\u001b[0m\u001b[0;34m)\u001b[0m\u001b[0;34m\u001b[0m\u001b[0;34m\u001b[0m\u001b[0m\n\u001b[1;32m      5\u001b[0m \u001b[0;34m\u001b[0m\u001b[0m\n",
      "\u001b[0;32m/usr/local/lib/python3.6/dist-packages/ipykernel/kernelbase.py\u001b[0m in \u001b[0;36mraw_input\u001b[0;34m(self, prompt)\u001b[0m\n\u001b[1;32m    861\u001b[0m             \u001b[0mself\u001b[0m\u001b[0;34m.\u001b[0m\u001b[0m_parent_ident\u001b[0m\u001b[0;34m,\u001b[0m\u001b[0;34m\u001b[0m\u001b[0;34m\u001b[0m\u001b[0m\n\u001b[1;32m    862\u001b[0m             \u001b[0mself\u001b[0m\u001b[0;34m.\u001b[0m\u001b[0m_parent_header\u001b[0m\u001b[0;34m,\u001b[0m\u001b[0;34m\u001b[0m\u001b[0;34m\u001b[0m\u001b[0m\n\u001b[0;32m--> 863\u001b[0;31m             \u001b[0mpassword\u001b[0m\u001b[0;34m=\u001b[0m\u001b[0;32mFalse\u001b[0m\u001b[0;34m,\u001b[0m\u001b[0;34m\u001b[0m\u001b[0;34m\u001b[0m\u001b[0m\n\u001b[0m\u001b[1;32m    864\u001b[0m         )\n\u001b[1;32m    865\u001b[0m \u001b[0;34m\u001b[0m\u001b[0m\n",
      "\u001b[0;32m/usr/local/lib/python3.6/dist-packages/ipykernel/kernelbase.py\u001b[0m in \u001b[0;36m_input_request\u001b[0;34m(self, prompt, ident, parent, password)\u001b[0m\n\u001b[1;32m    902\u001b[0m             \u001b[0;32mexcept\u001b[0m \u001b[0mKeyboardInterrupt\u001b[0m\u001b[0;34m:\u001b[0m\u001b[0;34m\u001b[0m\u001b[0;34m\u001b[0m\u001b[0m\n\u001b[1;32m    903\u001b[0m                 \u001b[0;31m# re-raise KeyboardInterrupt, to truncate traceback\u001b[0m\u001b[0;34m\u001b[0m\u001b[0;34m\u001b[0m\u001b[0;34m\u001b[0m\u001b[0m\n\u001b[0;32m--> 904\u001b[0;31m                 \u001b[0;32mraise\u001b[0m \u001b[0mKeyboardInterrupt\u001b[0m\u001b[0;34m(\u001b[0m\u001b[0;34m\"Interrupted by user\"\u001b[0m\u001b[0;34m)\u001b[0m \u001b[0;32mfrom\u001b[0m \u001b[0;32mNone\u001b[0m\u001b[0;34m\u001b[0m\u001b[0;34m\u001b[0m\u001b[0m\n\u001b[0m\u001b[1;32m    905\u001b[0m             \u001b[0;32mexcept\u001b[0m \u001b[0mException\u001b[0m \u001b[0;32mas\u001b[0m \u001b[0me\u001b[0m\u001b[0;34m:\u001b[0m\u001b[0;34m\u001b[0m\u001b[0;34m\u001b[0m\u001b[0m\n\u001b[1;32m    906\u001b[0m                 \u001b[0mself\u001b[0m\u001b[0;34m.\u001b[0m\u001b[0mlog\u001b[0m\u001b[0;34m.\u001b[0m\u001b[0mwarning\u001b[0m\u001b[0;34m(\u001b[0m\u001b[0;34m\"Invalid Message:\"\u001b[0m\u001b[0;34m,\u001b[0m \u001b[0mexc_info\u001b[0m\u001b[0;34m=\u001b[0m\u001b[0;32mTrue\u001b[0m\u001b[0;34m)\u001b[0m\u001b[0;34m\u001b[0m\u001b[0;34m\u001b[0m\u001b[0m\n",
      "\u001b[0;31mKeyboardInterrupt\u001b[0m: Interrupted by user"
     ]
    }
   ],
   "source": [
    "T = int(input())\n",
    "\n",
    "for test_case in range(1, T + 1):\n",
    "    input1 = input()\n",
    "    \n",
    "    len_input1= len(input1) # 길이를 구한다. \n",
    "    i = len_input1 // 2 # 절반으로 나눈다.  15\n",
    "    result = 0\n",
    "    while True:\n",
    "        half = len_input1 // i # 2,3,4,5, 이런식으로 위로 올라간다. \n",
    "        # 처음에는 i를 +1로 하였지만 KOREAKOREAKOREAKOREAKOREAKOREA같을 경우 15로 나온다. \n",
    "        if input1[:half] == input1[half:half*2]:\n",
    "            print(f'#{test_case} {half}')\n",
    "            break\n",
    "        i -= 1\n",
    "# Memory error occured, (e.g. segmentation error, memory limit Exceed, stack overflow,... etc)"
   ]
  },
  {
   "cell_type": "code",
   "execution_count": 32,
   "metadata": {},
   "outputs": [
    {
     "name": "stdout",
     "output_type": "stream",
     "text": [
      "30\n",
      "30\n",
      "30\n"
     ]
    }
   ],
   "source": [
    "input1 = 'KOREAKOREAKOREAKOREAKOREAKOREA'\n",
    "print(len(input1))\n",
    "\n",
    "input1 = 'SAMSUNGSAMSUNGSAMSUNGSAMSUNGSA'\n",
    "print(len(input1))\n",
    "\n",
    "input1 = 'GALAXYGALAXYGALAXYGALAXYGALAXY'\n",
    "print(len(input1))"
   ]
  }
 ],
 "metadata": {
  "kernelspec": {
   "display_name": "Python 3",
   "language": "python",
   "name": "python3"
  },
  "language_info": {
   "codemirror_mode": {
    "name": "ipython",
    "version": 3
   },
   "file_extension": ".py",
   "mimetype": "text/x-python",
   "name": "python",
   "nbconvert_exporter": "python",
   "pygments_lexer": "ipython3",
   "version": "3.6.9"
  }
 },
 "nbformat": 4,
 "nbformat_minor": 4
}
