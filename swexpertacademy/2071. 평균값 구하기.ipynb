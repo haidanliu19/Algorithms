{
  "nbformat": 4,
  "nbformat_minor": 0,
  "metadata": {
    "colab": {
      "name": "평균값 구하기.ipynb",
      "provenance": [],
      "collapsed_sections": []
    },
    "kernelspec": {
      "name": "python3",
      "display_name": "Python 3"
    },
    "language_info": {
      "name": "python"
    }
  },
  "cells": [
    {
      "cell_type": "markdown",
      "source": [
        "https://swexpertacademy.com/main/code/problem/problemDetail.do?contestProbId=AV5QRnJqA5cDFAUq&categoryId=AV5QRnJqA5cDFAUq&categoryType=CODE&problemTitle=%ED%8F%89%EA%B7%A0%EA%B0%92+%EA%B5%AC%ED%95%98%EA%B8%B0&orderBy=FIRST_REG_DATETIME&selectCodeLang=PYTHON&select-1=&pageSize=10&pageIndex=1"
      ],
      "metadata": {
        "id": "NBF3ZFEBDDl3"
      }
    },
    {
      "cell_type": "code",
      "execution_count": 16,
      "metadata": {
        "colab": {
          "base_uri": "https://localhost:8080/"
        },
        "id": "Zsp-VE50DCco",
        "outputId": "6631438c-bc4d-492a-cc8c-4df3acb7d483"
      },
      "outputs": [
        {
          "output_type": "stream",
          "name": "stdout",
          "text": [
            "3\n",
            "3 17 1 39 8 41 2 32 99 2\n",
            "#1 24\n",
            "22 8 5 123 7 2 63 7 3 46\n",
            "#2 29\n",
            "6 63 2 3 58 76 21 33 8 1\n",
            "#3 27\n"
          ]
        }
      ],
      "source": [
        "T = input()\n",
        "\n",
        "inputs = []\n",
        "for t in range(int(T)):\n",
        "    list_ = list(map(int, input().split()))\n",
        "    print('#%d %d' % (t + 1,  round(sum(list_) / len(list_))))"
      ]
    },
    {
      "cell_type": "code",
      "source": [
        ""
      ],
      "metadata": {
        "id": "NB-dIAZxDhzb"
      },
      "execution_count": 17,
      "outputs": []
    }
  ]
}