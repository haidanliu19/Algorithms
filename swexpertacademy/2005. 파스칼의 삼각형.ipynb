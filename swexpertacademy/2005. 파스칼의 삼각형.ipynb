{
  "nbformat": 4,
  "nbformat_minor": 0,
  "metadata": {
    "colab": {
      "name": "백만 장자 프로젝트.ipynb",
      "provenance": [],
      "collapsed_sections": []
    },
    "kernelspec": {
      "name": "python3",
      "display_name": "Python 3"
    },
    "language_info": {
      "name": "python"
    }
  },
  "cells": [
    {
      "cell_type": "markdown",
      "source": [
        "[SW Expert Academy](https://swexpertacademy.com/main/code/problem/problemDetail.do?contestProbId=AV5P0-h6Ak4DFAUq)"
      ],
      "metadata": {
        "id": "iYTDPWGS6b2D"
      }
    },
    {
      "cell_type": "code",
      "source": [
        "T = 1\n",
        "T2 = 4\n",
        "array = [[0]* T2  for i in range(T2)]\n",
        "for i in range(T2):\n",
        "    for j in range(T2):\n",
        "        if i == 0 and j ==0:\n",
        "            array[i][j] = T\n",
        "        else:\n",
        "            array[i][j] = array[i-1][j] + array[i-1][j-1]\n",
        "print(f'#{T}')    \n",
        "for i in range(len(array)):\n",
        "    for j in array[i]:\n",
        "        if j != 0:\n",
        "            print(j, end =\" \")\n",
        "    print()"
      ],
      "metadata": {
        "colab": {
          "base_uri": "https://localhost:8080/"
        },
        "id": "AKdvsjoYGAa-",
        "outputId": "3b684892-3cea-428e-dc0f-b3056257c614"
      },
      "execution_count": 21,
      "outputs": [
        {
          "output_type": "stream",
          "name": "stdout",
          "text": [
            "#1\n",
            "1 \n",
            "1 1 \n",
            "1 2 1 \n",
            "1 3 3 1 \n"
          ]
        }
      ]
    },
    {
      "cell_type": "code",
      "source": [
        "T = int(input())\n",
        "for test_case in range(1, T + 1):\n",
        "    T2 = int(input())\n",
        "    array = [[0]* T2  for i in range(T2)]\n",
        "    for i in range(T2):\n",
        "        for j in range(T2):\n",
        "            if i == 0 and j ==0:\n",
        "                array[i][j] = 1\n",
        "            else:\n",
        "                array[i][j] = array[i-1][j] + array[i-1][j-1]\n",
        "    print(f'#{test_case}')    \n",
        "    for i in range(len(array)):\n",
        "        for j in array[i]:\n",
        "            if j != 0:\n",
        "                print(j, end =\" \")\n",
        "        print()"
      ],
      "metadata": {
        "colab": {
          "base_uri": "https://localhost:8080/"
        },
        "id": "lUP4mc9CF_Vb",
        "outputId": "b323725e-309b-427d-bc54-f6fcf97f1995"
      },
      "execution_count": 25,
      "outputs": [
        {
          "output_type": "stream",
          "name": "stdout",
          "text": [
            "1\n",
            "4\n",
            "#1\n",
            "1 \n",
            "1 1 \n",
            "1 2 1 \n",
            "1 3 3 1 \n"
          ]
        }
      ]
    }
  ]
}