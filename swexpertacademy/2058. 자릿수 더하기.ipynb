{
  "nbformat": 4,
  "nbformat_minor": 0,
  "metadata": {
    "colab": {
      "name": "자릿수 더하기.ipynb",
      "provenance": [],
      "collapsed_sections": []
    },
    "kernelspec": {
      "name": "python3",
      "display_name": "Python 3"
    },
    "language_info": {
      "name": "python"
    }
  },
  "cells": [
    {
      "cell_type": "markdown",
      "source": [
        "https://swexpertacademy.com/main/code/problem/problemDetail.do?contestProbId=AV5QPRjqA10DFAUq"
      ],
      "metadata": {
        "id": "bkMo_tkIKHYQ"
      }
    },
    {
      "cell_type": "code",
      "execution_count": 2,
      "metadata": {
        "id": "IgqqxswE9Rym",
        "colab": {
          "base_uri": "https://localhost:8080/"
        },
        "outputId": "1dd5a04d-5d11-486e-f74b-331d96754e46"
      },
      "outputs": [
        {
          "output_type": "stream",
          "name": "stdout",
          "text": [
            "6789\n",
            "30\n"
          ]
        }
      ],
      "source": [
        "T = input()\n",
        "\n",
        "answer = list(map(int, T))\n",
        "print(sum(answer))"
      ]
    },
    {
      "cell_type": "code",
      "source": [
        ""
      ],
      "metadata": {
        "id": "TJG7zCyJLuaI"
      },
      "execution_count": null,
      "outputs": []
    }
  ]
}