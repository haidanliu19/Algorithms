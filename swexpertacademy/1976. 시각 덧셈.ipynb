{
 "cells": [
  {
   "cell_type": "markdown",
   "metadata": {},
   "source": [
    "3 \n",
    "3 17 1 39\n",
    "8 22 5 10\n",
    "6 53 2 12   "
   ]
  },
  {
   "cell_type": "code",
   "execution_count": 16,
   "metadata": {},
   "outputs": [
    {
     "name": "stdout",
     "output_type": "stream",
     "text": [
      "1 2\n",
      "1 11\n",
      "12 2\n"
     ]
    }
   ],
   "source": [
    "hour1= 12\n",
    "minute1 = 12\n",
    "hour2 = 11\n",
    "minute2 = 50\n",
    "\n",
    "extra_hour, minute = divmod(( minute1 + minute2 ) , 60)\n",
    "print(extra_hour, minute )\n",
    "\n",
    "extras_hour, hour = divmod(( hour1 + hour2  ) , 12)\n",
    "print(extras_hour, hour )\n",
    "\n",
    "print(hour, minute)"
   ]
  },
  {
   "cell_type": "code",
   "execution_count": null,
   "metadata": {},
   "outputs": [],
   "source": [
    "T = int(input())\n",
    "for test_case in range(1, T + 1):\n",
    "    list_= list(map(int, input().split()))\n",
    "    hour1, minute1, hour2, minute2 = list_[0], list_[1], list_[2], list_[3]\n",
    "    \n",
    "    extra_hour, minute = divmod(( minute1 + minute2 ) , 60)\n",
    "    extras_hour, hour = divmod(( hour1 + hour2  ) , 12)\n",
    "    \n",
    "    print(f'#{test_case} {hour+extra_hour} {minute}')"
   ]
  }
 ],
 "metadata": {
  "kernelspec": {
   "display_name": "Python 3",
   "language": "python",
   "name": "python3"
  },
  "language_info": {
   "codemirror_mode": {
    "name": "ipython",
    "version": 3
   },
   "file_extension": ".py",
   "mimetype": "text/x-python",
   "name": "python",
   "nbconvert_exporter": "python",
   "pygments_lexer": "ipython3",
   "version": "3.6.9"
  }
 },
 "nbformat": 4,
 "nbformat_minor": 4
}
