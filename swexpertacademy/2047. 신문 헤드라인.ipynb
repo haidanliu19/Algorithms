{
  "nbformat": 4,
  "nbformat_minor": 0,
  "metadata": {
    "colab": {
      "name": "2047. 신문 헤드라인.ipynb",
      "provenance": [],
      "collapsed_sections": []
    },
    "kernelspec": {
      "name": "python3",
      "display_name": "Python 3"
    },
    "language_info": {
      "name": "python"
    }
  },
  "cells": [
    {
      "cell_type": "markdown",
      "source": [
        "[SW Expert Academy](https://swexpertacademy.com/main/code/problem/problemDetail.do?contestProbId=AV5QKsLaAy0DFAUq)"
      ],
      "metadata": {
        "id": "LBCwhksDdA6W"
      }
    },
    {
      "cell_type": "code",
      "source": [
        "T = input()\n",
        "result = T.upper()\n",
        "print(result)"
      ],
      "metadata": {
        "colab": {
          "base_uri": "https://localhost:8080/"
        },
        "id": "Iwu0Qhp0fyoG",
        "outputId": "32714219-667b-4c37-fe94-4d36e18d0d3e"
      },
      "execution_count": 75,
      "outputs": [
        {
          "output_type": "stream",
          "name": "stdout",
          "text": [
            "The_headline_is_the_text_indicating_the_nature_of_the_article_below_it.\n",
            "THE_HEADLINE_IS_THE_TEXT_INDICATING_THE_NATURE_OF_THE_ARTICLE_BELOW_IT.\n"
          ]
        }
      ]
    },
    {
      "cell_type": "code",
      "source": [
        "T = 'The_headline_is_the_text_indicating_the_nature_of_the_article_below_it.'\n",
        "result = T.upper()\n",
        "result"
      ],
      "metadata": {
        "colab": {
          "base_uri": "https://localhost:8080/",
          "height": 35
        },
        "id": "1lOSsFUJnh-v",
        "outputId": "9a571695-9921-42ee-fb17-ccc141915df7"
      },
      "execution_count": 74,
      "outputs": [
        {
          "output_type": "execute_result",
          "data": {
            "text/plain": [
              "'THE_HEADLINE_IS_THE_TEXT_INDICATING_THE_NATURE_OF_THE_ARTICLE_BELOW_IT.'"
            ],
            "application/vnd.google.colaboratory.intrinsic+json": {
              "type": "string"
            }
          },
          "metadata": {},
          "execution_count": 74
        }
      ]
    }
  ]
}