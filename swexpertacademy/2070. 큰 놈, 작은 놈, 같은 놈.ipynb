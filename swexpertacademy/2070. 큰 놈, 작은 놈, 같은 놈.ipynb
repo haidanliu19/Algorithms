{
  "nbformat": 4,
  "nbformat_minor": 0,
  "metadata": {
    "colab": {
      "name": "큰 놈, 작은 놈, 같은 놈.ipynb",
      "provenance": [],
      "collapsed_sections": []
    },
    "kernelspec": {
      "name": "python3",
      "display_name": "Python 3"
    },
    "language_info": {
      "name": "python"
    }
  },
  "cells": [
    {
      "cell_type": "markdown",
      "source": [
        "https://swexpertacademy.com/main/code/problem/problemDetail.do?contestProbId=AV5QQ6qqA40DFAUq&categoryId=AV5QQ6qqA40DFAUq&categoryType=CODE&problemTitle=%ED%81%B0+%EB%86%88%2C+%EC%9E%91%EC%9D%80+%EB%86%88%2C+%EA%B0%99%EC%9D%80+%EB%86%88&orderBy=FIRST_REG_DATETIME&selectCodeLang=ALL&select-1=&pageSize=10&pageIndex=1"
      ],
      "metadata": {
        "id": "NBF3ZFEBDDl3"
      }
    },
    {
      "cell_type": "code",
      "execution_count": 30,
      "metadata": {
        "colab": {
          "base_uri": "https://localhost:8080/"
        },
        "id": "Zsp-VE50DCco",
        "outputId": "cca38db1-ce79-4f01-fe94-9e5e1b50257e"
      },
      "outputs": [
        {
          "output_type": "stream",
          "name": "stdout",
          "text": [
            "3\n",
            "3 8\n",
            "#1 <\n",
            "7 7\n",
            "#2 =\n",
            "369 123\n",
            "#3 >\n"
          ]
        }
      ],
      "source": [
        "T = input()\n",
        "\n",
        "inputs = []\n",
        "for t in range(int(T)):\n",
        "    a, b = list(map(int, input().split()))\n",
        "    c = '<'\n",
        "    if a > b:\n",
        "        c = '>'    \n",
        "    elif a == b:\n",
        "        c = '='\n",
        "    print('#%d %s' % (t + 1,  c))"
      ]
    }
  ]
}