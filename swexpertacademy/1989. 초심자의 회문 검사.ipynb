{
  "nbformat": 4,
  "nbformat_minor": 0,
  "metadata": {
    "colab": {
      "name": "초심자의 회문 검사.ipynb",
      "provenance": [],
      "collapsed_sections": []
    },
    "kernelspec": {
      "name": "python3",
      "display_name": "Python 3"
    },
    "language_info": {
      "name": "python"
    }
  },
  "cells": [
    {
      "cell_type": "markdown",
      "source": [
        "[SW Expert Academy](https://swexpertacademy.com/main/code/problem/problemDetail.do?contestProbId=AV5PyTLqAf4DFAUq)"
      ],
      "metadata": {
        "id": "iYTDPWGS6b2D"
      }
    },
    {
      "cell_type": "code",
      "source": [
        "T = int(input())\n",
        "for test_case in range(1, T + 1):\n",
        "    value = input()\n",
        "    value_reverse = value[::-1]\n",
        "    result = 0\n",
        "    if value == value_reverse:\n",
        "        result = 1\n",
        "    print(f'#{test_case} {result}')"
      ],
      "metadata": {
        "colab": {
          "base_uri": "https://localhost:8080/"
        },
        "id": "AKdvsjoYGAa-",
        "outputId": "04c8c6d3-a498-4780-8f90-a0aef05b20ac"
      },
      "execution_count": 30,
      "outputs": [
        {
          "output_type": "stream",
          "name": "stdout",
          "text": [
            "1\n",
            "5 2\n",
            "1 3 3 6 7\n",
            "8 13 9 12 8\n",
            "4 16 11 12 6\n",
            "2 4 1 23 2\n",
            "9 13 4 7 3\n",
            "[[1, 3, 3, 6, 7], [8, 13, 9, 12, 8], [4, 16, 11, 12, 6], [2, 4, 1, 23, 2], [9, 13, 4, 7, 3]]\n"
          ]
        }
      ]
    },
    {
      "cell_type": "code",
      "source": [
        "value = 'level'\n",
        "value_reverse = value[::-1]\n",
        "if value == value_reverse:\n",
        "    print(1)"
      ],
      "metadata": {
        "colab": {
          "base_uri": "https://localhost:8080/"
        },
        "id": "iDBGYn8ESXcX",
        "outputId": "d3dd021b-790b-4b83-c090-81a0560f9d6c"
      },
      "execution_count": 72,
      "outputs": [
        {
          "output_type": "stream",
          "name": "stdout",
          "text": [
            "1\n"
          ]
        }
      ]
    }
  ]
}